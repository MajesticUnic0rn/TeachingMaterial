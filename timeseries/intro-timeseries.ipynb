{
 "cells": [
  {
   "cell_type": "markdown",
   "id": "40edc635",
   "metadata": {},
   "source": [
    "# Introduction to Time Series Analysis\n",
    "\n",
    "This notebook provides an interactive introduction to time series analysis concepts including:\n",
    "- Basic time series visualization\n",
    "- Heteroscedasticity (changing variance over time)\n",
    "- Autocorrelation and Partial Autocorrelation Functions (ACF & PACF)\n",
    "- **Stationarity Testing** with Augmented Dickey-Fuller (ADF) test\n",
    "- **Detrending and Deseasonalizing** techniques\n",
    "- Introduction to ARIMA models and forecasting\n",
    "\n",
    "We'll use **Plotly** for interactive visualizations that allow you to explore the data dynamically.\n",
    "\n",
    "🎯 **By the end of this notebook, you'll be able to:**\n",
    "- Test whether a time series is stationary\n",
    "- Transform non-stationary data into stationary data\n",
    "- Read and interpret ACF/PACF plots\n",
    "- Choose appropriate ARIMA parameters\n",
    "- Build forecasting models\n"
   ]
  },
  {
   "cell_type": "markdown",
   "id": "f8e31451",
   "metadata": {},
   "source": [
    "## 1. Setup and Imports\n",
    "\n",
    "First, let's import the necessary libraries for our time series analysis.\n"
   ]
  },
  {
   "cell_type": "code",
   "execution_count": 1,
   "id": "a9cce3b4",
   "metadata": {},
   "outputs": [],
   "source": [
    "import numpy as np\n",
    "import pandas as pd\n",
    "import plotly.graph_objects as go\n",
    "import plotly.express as px\n",
    "from plotly.subplots import make_subplots\n",
    "from statsmodels.tsa.stattools import acf, pacf, adfuller\n",
    "from statsmodels.tsa.seasonal import seasonal_decompose\n",
    "from statsmodels.tsa.arima.model import ARIMA\n",
    "from statsmodels.graphics.tsaplots import plot_acf, plot_pacf\n",
    "from scipy import signal, stats\n",
    "import warnings\n",
    "warnings.filterwarnings('ignore')\n",
    "\n",
    "# Set random seed for reproducibility\n",
    "np.random.seed(42)\n"
   ]
  },
  {
   "cell_type": "markdown",
   "id": "ce6d448a",
   "metadata": {},
   "source": [
    "## 2. Basic Time Series Visualization\n",
    "\n",
    "Let's start by creating and visualizing a simple time series. A time series is simply data points collected at successive time intervals.\n"
   ]
  },
  {
   "cell_type": "code",
   "execution_count": 2,
   "id": "74b89f80",
   "metadata": {},
   "outputs": [
    {
     "data": {
      "application/vnd.plotly.v1+json": {
       "config": {
        "plotlyServerURL": "https://plot.ly"
       },
       "data": [
        {
         "line": {
          "color": "blue",
          "width": 2
         },
         "mode": "lines",
         "name": "Time Series",
         "type": "scatter",
         "x": [
          "2023-01-01T00:00:00.000000000",
          "2023-01-02T00:00:00.000000000",
          "2023-01-03T00:00:00.000000000",
          "2023-01-04T00:00:00.000000000",
          "2023-01-05T00:00:00.000000000",
          "2023-01-06T00:00:00.000000000",
          "2023-01-07T00:00:00.000000000",
          "2023-01-08T00:00:00.000000000",
          "2023-01-09T00:00:00.000000000",
          "2023-01-10T00:00:00.000000000",
          "2023-01-11T00:00:00.000000000",
          "2023-01-12T00:00:00.000000000",
          "2023-01-13T00:00:00.000000000",
          "2023-01-14T00:00:00.000000000",
          "2023-01-15T00:00:00.000000000",
          "2023-01-16T00:00:00.000000000",
          "2023-01-17T00:00:00.000000000",
          "2023-01-18T00:00:00.000000000",
          "2023-01-19T00:00:00.000000000",
          "2023-01-20T00:00:00.000000000",
          "2023-01-21T00:00:00.000000000",
          "2023-01-22T00:00:00.000000000",
          "2023-01-23T00:00:00.000000000",
          "2023-01-24T00:00:00.000000000",
          "2023-01-25T00:00:00.000000000",
          "2023-01-26T00:00:00.000000000",
          "2023-01-27T00:00:00.000000000",
          "2023-01-28T00:00:00.000000000",
          "2023-01-29T00:00:00.000000000",
          "2023-01-30T00:00:00.000000000",
          "2023-01-31T00:00:00.000000000",
          "2023-02-01T00:00:00.000000000",
          "2023-02-02T00:00:00.000000000",
          "2023-02-03T00:00:00.000000000",
          "2023-02-04T00:00:00.000000000",
          "2023-02-05T00:00:00.000000000",
          "2023-02-06T00:00:00.000000000",
          "2023-02-07T00:00:00.000000000",
          "2023-02-08T00:00:00.000000000",
          "2023-02-09T00:00:00.000000000",
          "2023-02-10T00:00:00.000000000",
          "2023-02-11T00:00:00.000000000",
          "2023-02-12T00:00:00.000000000",
          "2023-02-13T00:00:00.000000000",
          "2023-02-14T00:00:00.000000000",
          "2023-02-15T00:00:00.000000000",
          "2023-02-16T00:00:00.000000000",
          "2023-02-17T00:00:00.000000000",
          "2023-02-18T00:00:00.000000000",
          "2023-02-19T00:00:00.000000000",
          "2023-02-20T00:00:00.000000000",
          "2023-02-21T00:00:00.000000000",
          "2023-02-22T00:00:00.000000000",
          "2023-02-23T00:00:00.000000000",
          "2023-02-24T00:00:00.000000000",
          "2023-02-25T00:00:00.000000000",
          "2023-02-26T00:00:00.000000000",
          "2023-02-27T00:00:00.000000000",
          "2023-02-28T00:00:00.000000000",
          "2023-03-01T00:00:00.000000000",
          "2023-03-02T00:00:00.000000000",
          "2023-03-03T00:00:00.000000000",
          "2023-03-04T00:00:00.000000000",
          "2023-03-05T00:00:00.000000000",
          "2023-03-06T00:00:00.000000000",
          "2023-03-07T00:00:00.000000000",
          "2023-03-08T00:00:00.000000000",
          "2023-03-09T00:00:00.000000000",
          "2023-03-10T00:00:00.000000000",
          "2023-03-11T00:00:00.000000000",
          "2023-03-12T00:00:00.000000000",
          "2023-03-13T00:00:00.000000000",
          "2023-03-14T00:00:00.000000000",
          "2023-03-15T00:00:00.000000000",
          "2023-03-16T00:00:00.000000000",
          "2023-03-17T00:00:00.000000000",
          "2023-03-18T00:00:00.000000000",
          "2023-03-19T00:00:00.000000000",
          "2023-03-20T00:00:00.000000000",
          "2023-03-21T00:00:00.000000000",
          "2023-03-22T00:00:00.000000000",
          "2023-03-23T00:00:00.000000000",
          "2023-03-24T00:00:00.000000000",
          "2023-03-25T00:00:00.000000000",
          "2023-03-26T00:00:00.000000000",
          "2023-03-27T00:00:00.000000000",
          "2023-03-28T00:00:00.000000000",
          "2023-03-29T00:00:00.000000000",
          "2023-03-30T00:00:00.000000000",
          "2023-03-31T00:00:00.000000000",
          "2023-04-01T00:00:00.000000000",
          "2023-04-02T00:00:00.000000000",
          "2023-04-03T00:00:00.000000000",
          "2023-04-04T00:00:00.000000000",
          "2023-04-05T00:00:00.000000000",
          "2023-04-06T00:00:00.000000000",
          "2023-04-07T00:00:00.000000000",
          "2023-04-08T00:00:00.000000000",
          "2023-04-09T00:00:00.000000000",
          "2023-04-10T00:00:00.000000000",
          "2023-04-11T00:00:00.000000000",
          "2023-04-12T00:00:00.000000000",
          "2023-04-13T00:00:00.000000000",
          "2023-04-14T00:00:00.000000000",
          "2023-04-15T00:00:00.000000000",
          "2023-04-16T00:00:00.000000000",
          "2023-04-17T00:00:00.000000000",
          "2023-04-18T00:00:00.000000000",
          "2023-04-19T00:00:00.000000000",
          "2023-04-20T00:00:00.000000000",
          "2023-04-21T00:00:00.000000000",
          "2023-04-22T00:00:00.000000000",
          "2023-04-23T00:00:00.000000000",
          "2023-04-24T00:00:00.000000000",
          "2023-04-25T00:00:00.000000000",
          "2023-04-26T00:00:00.000000000",
          "2023-04-27T00:00:00.000000000",
          "2023-04-28T00:00:00.000000000",
          "2023-04-29T00:00:00.000000000",
          "2023-04-30T00:00:00.000000000",
          "2023-05-01T00:00:00.000000000",
          "2023-05-02T00:00:00.000000000",
          "2023-05-03T00:00:00.000000000",
          "2023-05-04T00:00:00.000000000",
          "2023-05-05T00:00:00.000000000",
          "2023-05-06T00:00:00.000000000",
          "2023-05-07T00:00:00.000000000",
          "2023-05-08T00:00:00.000000000",
          "2023-05-09T00:00:00.000000000",
          "2023-05-10T00:00:00.000000000",
          "2023-05-11T00:00:00.000000000",
          "2023-05-12T00:00:00.000000000",
          "2023-05-13T00:00:00.000000000",
          "2023-05-14T00:00:00.000000000",
          "2023-05-15T00:00:00.000000000",
          "2023-05-16T00:00:00.000000000",
          "2023-05-17T00:00:00.000000000",
          "2023-05-18T00:00:00.000000000",
          "2023-05-19T00:00:00.000000000",
          "2023-05-20T00:00:00.000000000",
          "2023-05-21T00:00:00.000000000",
          "2023-05-22T00:00:00.000000000",
          "2023-05-23T00:00:00.000000000",
          "2023-05-24T00:00:00.000000000",
          "2023-05-25T00:00:00.000000000",
          "2023-05-26T00:00:00.000000000",
          "2023-05-27T00:00:00.000000000",
          "2023-05-28T00:00:00.000000000",
          "2023-05-29T00:00:00.000000000",
          "2023-05-30T00:00:00.000000000",
          "2023-05-31T00:00:00.000000000",
          "2023-06-01T00:00:00.000000000",
          "2023-06-02T00:00:00.000000000",
          "2023-06-03T00:00:00.000000000",
          "2023-06-04T00:00:00.000000000",
          "2023-06-05T00:00:00.000000000",
          "2023-06-06T00:00:00.000000000",
          "2023-06-07T00:00:00.000000000",
          "2023-06-08T00:00:00.000000000",
          "2023-06-09T00:00:00.000000000",
          "2023-06-10T00:00:00.000000000",
          "2023-06-11T00:00:00.000000000",
          "2023-06-12T00:00:00.000000000",
          "2023-06-13T00:00:00.000000000",
          "2023-06-14T00:00:00.000000000",
          "2023-06-15T00:00:00.000000000",
          "2023-06-16T00:00:00.000000000",
          "2023-06-17T00:00:00.000000000",
          "2023-06-18T00:00:00.000000000",
          "2023-06-19T00:00:00.000000000",
          "2023-06-20T00:00:00.000000000",
          "2023-06-21T00:00:00.000000000",
          "2023-06-22T00:00:00.000000000",
          "2023-06-23T00:00:00.000000000",
          "2023-06-24T00:00:00.000000000",
          "2023-06-25T00:00:00.000000000",
          "2023-06-26T00:00:00.000000000",
          "2023-06-27T00:00:00.000000000",
          "2023-06-28T00:00:00.000000000",
          "2023-06-29T00:00:00.000000000",
          "2023-06-30T00:00:00.000000000",
          "2023-07-01T00:00:00.000000000",
          "2023-07-02T00:00:00.000000000",
          "2023-07-03T00:00:00.000000000",
          "2023-07-04T00:00:00.000000000",
          "2023-07-05T00:00:00.000000000",
          "2023-07-06T00:00:00.000000000",
          "2023-07-07T00:00:00.000000000",
          "2023-07-08T00:00:00.000000000",
          "2023-07-09T00:00:00.000000000",
          "2023-07-10T00:00:00.000000000",
          "2023-07-11T00:00:00.000000000",
          "2023-07-12T00:00:00.000000000",
          "2023-07-13T00:00:00.000000000",
          "2023-07-14T00:00:00.000000000",
          "2023-07-15T00:00:00.000000000",
          "2023-07-16T00:00:00.000000000",
          "2023-07-17T00:00:00.000000000",
          "2023-07-18T00:00:00.000000000",
          "2023-07-19T00:00:00.000000000",
          "2023-07-20T00:00:00.000000000",
          "2023-07-21T00:00:00.000000000",
          "2023-07-22T00:00:00.000000000",
          "2023-07-23T00:00:00.000000000",
          "2023-07-24T00:00:00.000000000",
          "2023-07-25T00:00:00.000000000",
          "2023-07-26T00:00:00.000000000",
          "2023-07-27T00:00:00.000000000",
          "2023-07-28T00:00:00.000000000",
          "2023-07-29T00:00:00.000000000",
          "2023-07-30T00:00:00.000000000",
          "2023-07-31T00:00:00.000000000",
          "2023-08-01T00:00:00.000000000",
          "2023-08-02T00:00:00.000000000",
          "2023-08-03T00:00:00.000000000",
          "2023-08-04T00:00:00.000000000",
          "2023-08-05T00:00:00.000000000",
          "2023-08-06T00:00:00.000000000",
          "2023-08-07T00:00:00.000000000",
          "2023-08-08T00:00:00.000000000",
          "2023-08-09T00:00:00.000000000",
          "2023-08-10T00:00:00.000000000",
          "2023-08-11T00:00:00.000000000",
          "2023-08-12T00:00:00.000000000",
          "2023-08-13T00:00:00.000000000",
          "2023-08-14T00:00:00.000000000",
          "2023-08-15T00:00:00.000000000",
          "2023-08-16T00:00:00.000000000",
          "2023-08-17T00:00:00.000000000",
          "2023-08-18T00:00:00.000000000",
          "2023-08-19T00:00:00.000000000",
          "2023-08-20T00:00:00.000000000",
          "2023-08-21T00:00:00.000000000",
          "2023-08-22T00:00:00.000000000",
          "2023-08-23T00:00:00.000000000",
          "2023-08-24T00:00:00.000000000",
          "2023-08-25T00:00:00.000000000",
          "2023-08-26T00:00:00.000000000",
          "2023-08-27T00:00:00.000000000",
          "2023-08-28T00:00:00.000000000",
          "2023-08-29T00:00:00.000000000",
          "2023-08-30T00:00:00.000000000",
          "2023-08-31T00:00:00.000000000",
          "2023-09-01T00:00:00.000000000",
          "2023-09-02T00:00:00.000000000",
          "2023-09-03T00:00:00.000000000",
          "2023-09-04T00:00:00.000000000",
          "2023-09-05T00:00:00.000000000",
          "2023-09-06T00:00:00.000000000",
          "2023-09-07T00:00:00.000000000",
          "2023-09-08T00:00:00.000000000",
          "2023-09-09T00:00:00.000000000",
          "2023-09-10T00:00:00.000000000",
          "2023-09-11T00:00:00.000000000",
          "2023-09-12T00:00:00.000000000",
          "2023-09-13T00:00:00.000000000",
          "2023-09-14T00:00:00.000000000",
          "2023-09-15T00:00:00.000000000",
          "2023-09-16T00:00:00.000000000",
          "2023-09-17T00:00:00.000000000",
          "2023-09-18T00:00:00.000000000",
          "2023-09-19T00:00:00.000000000",
          "2023-09-20T00:00:00.000000000",
          "2023-09-21T00:00:00.000000000",
          "2023-09-22T00:00:00.000000000",
          "2023-09-23T00:00:00.000000000",
          "2023-09-24T00:00:00.000000000",
          "2023-09-25T00:00:00.000000000",
          "2023-09-26T00:00:00.000000000",
          "2023-09-27T00:00:00.000000000",
          "2023-09-28T00:00:00.000000000",
          "2023-09-29T00:00:00.000000000",
          "2023-09-30T00:00:00.000000000",
          "2023-10-01T00:00:00.000000000",
          "2023-10-02T00:00:00.000000000",
          "2023-10-03T00:00:00.000000000",
          "2023-10-04T00:00:00.000000000",
          "2023-10-05T00:00:00.000000000",
          "2023-10-06T00:00:00.000000000",
          "2023-10-07T00:00:00.000000000",
          "2023-10-08T00:00:00.000000000",
          "2023-10-09T00:00:00.000000000",
          "2023-10-10T00:00:00.000000000",
          "2023-10-11T00:00:00.000000000",
          "2023-10-12T00:00:00.000000000",
          "2023-10-13T00:00:00.000000000",
          "2023-10-14T00:00:00.000000000",
          "2023-10-15T00:00:00.000000000",
          "2023-10-16T00:00:00.000000000",
          "2023-10-17T00:00:00.000000000",
          "2023-10-18T00:00:00.000000000",
          "2023-10-19T00:00:00.000000000",
          "2023-10-20T00:00:00.000000000",
          "2023-10-21T00:00:00.000000000",
          "2023-10-22T00:00:00.000000000",
          "2023-10-23T00:00:00.000000000",
          "2023-10-24T00:00:00.000000000",
          "2023-10-25T00:00:00.000000000",
          "2023-10-26T00:00:00.000000000",
          "2023-10-27T00:00:00.000000000",
          "2023-10-28T00:00:00.000000000",
          "2023-10-29T00:00:00.000000000",
          "2023-10-30T00:00:00.000000000",
          "2023-10-31T00:00:00.000000000",
          "2023-11-01T00:00:00.000000000",
          "2023-11-02T00:00:00.000000000",
          "2023-11-03T00:00:00.000000000",
          "2023-11-04T00:00:00.000000000",
          "2023-11-05T00:00:00.000000000",
          "2023-11-06T00:00:00.000000000",
          "2023-11-07T00:00:00.000000000",
          "2023-11-08T00:00:00.000000000",
          "2023-11-09T00:00:00.000000000",
          "2023-11-10T00:00:00.000000000",
          "2023-11-11T00:00:00.000000000",
          "2023-11-12T00:00:00.000000000",
          "2023-11-13T00:00:00.000000000",
          "2023-11-14T00:00:00.000000000",
          "2023-11-15T00:00:00.000000000",
          "2023-11-16T00:00:00.000000000",
          "2023-11-17T00:00:00.000000000",
          "2023-11-18T00:00:00.000000000",
          "2023-11-19T00:00:00.000000000",
          "2023-11-20T00:00:00.000000000",
          "2023-11-21T00:00:00.000000000",
          "2023-11-22T00:00:00.000000000",
          "2023-11-23T00:00:00.000000000",
          "2023-11-24T00:00:00.000000000",
          "2023-11-25T00:00:00.000000000",
          "2023-11-26T00:00:00.000000000",
          "2023-11-27T00:00:00.000000000",
          "2023-11-28T00:00:00.000000000",
          "2023-11-29T00:00:00.000000000",
          "2023-11-30T00:00:00.000000000",
          "2023-12-01T00:00:00.000000000",
          "2023-12-02T00:00:00.000000000",
          "2023-12-03T00:00:00.000000000",
          "2023-12-04T00:00:00.000000000",
          "2023-12-05T00:00:00.000000000",
          "2023-12-06T00:00:00.000000000",
          "2023-12-07T00:00:00.000000000",
          "2023-12-08T00:00:00.000000000",
          "2023-12-09T00:00:00.000000000",
          "2023-12-10T00:00:00.000000000",
          "2023-12-11T00:00:00.000000000",
          "2023-12-12T00:00:00.000000000",
          "2023-12-13T00:00:00.000000000",
          "2023-12-14T00:00:00.000000000",
          "2023-12-15T00:00:00.000000000",
          "2023-12-16T00:00:00.000000000",
          "2023-12-17T00:00:00.000000000",
          "2023-12-18T00:00:00.000000000",
          "2023-12-19T00:00:00.000000000",
          "2023-12-20T00:00:00.000000000",
          "2023-12-21T00:00:00.000000000",
          "2023-12-22T00:00:00.000000000",
          "2023-12-23T00:00:00.000000000",
          "2023-12-24T00:00:00.000000000",
          "2023-12-25T00:00:00.000000000",
          "2023-12-26T00:00:00.000000000",
          "2023-12-27T00:00:00.000000000",
          "2023-12-28T00:00:00.000000000",
          "2023-12-29T00:00:00.000000000",
          "2023-12-30T00:00:00.000000000",
          "2023-12-31T00:00:00.000000000"
         ],
         "y": {
          "bdata": "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",
          "dtype": "f8"
         }
        }
       ],
       "layout": {
        "height": 500,
        "hovermode": "x unified",
        "template": {
         "data": {
          "bar": [
           {
            "error_x": {
             "color": "#2a3f5f"
            },
            "error_y": {
             "color": "#2a3f5f"
            },
            "marker": {
             "line": {
              "color": "white",
              "width": 0.5
             },
             "pattern": {
              "fillmode": "overlay",
              "size": 10,
              "solidity": 0.2
             }
            },
            "type": "bar"
           }
          ],
          "barpolar": [
           {
            "marker": {
             "line": {
              "color": "white",
              "width": 0.5
             },
             "pattern": {
              "fillmode": "overlay",
              "size": 10,
              "solidity": 0.2
             }
            },
            "type": "barpolar"
           }
          ],
          "carpet": [
           {
            "aaxis": {
             "endlinecolor": "#2a3f5f",
             "gridcolor": "#C8D4E3",
             "linecolor": "#C8D4E3",
             "minorgridcolor": "#C8D4E3",
             "startlinecolor": "#2a3f5f"
            },
            "baxis": {
             "endlinecolor": "#2a3f5f",
             "gridcolor": "#C8D4E3",
             "linecolor": "#C8D4E3",
             "minorgridcolor": "#C8D4E3",
             "startlinecolor": "#2a3f5f"
            },
            "type": "carpet"
           }
          ],
          "choropleth": [
           {
            "colorbar": {
             "outlinewidth": 0,
             "ticks": ""
            },
            "type": "choropleth"
           }
          ],
          "contour": [
           {
            "colorbar": {
             "outlinewidth": 0,
             "ticks": ""
            },
            "colorscale": [
             [
              0,
              "#0d0887"
             ],
             [
              0.1111111111111111,
              "#46039f"
             ],
             [
              0.2222222222222222,
              "#7201a8"
             ],
             [
              0.3333333333333333,
              "#9c179e"
             ],
             [
              0.4444444444444444,
              "#bd3786"
             ],
             [
              0.5555555555555556,
              "#d8576b"
             ],
             [
              0.6666666666666666,
              "#ed7953"
             ],
             [
              0.7777777777777778,
              "#fb9f3a"
             ],
             [
              0.8888888888888888,
              "#fdca26"
             ],
             [
              1,
              "#f0f921"
             ]
            ],
            "type": "contour"
           }
          ],
          "contourcarpet": [
           {
            "colorbar": {
             "outlinewidth": 0,
             "ticks": ""
            },
            "type": "contourcarpet"
           }
          ],
          "heatmap": [
           {
            "colorbar": {
             "outlinewidth": 0,
             "ticks": ""
            },
            "colorscale": [
             [
              0,
              "#0d0887"
             ],
             [
              0.1111111111111111,
              "#46039f"
             ],
             [
              0.2222222222222222,
              "#7201a8"
             ],
             [
              0.3333333333333333,
              "#9c179e"
             ],
             [
              0.4444444444444444,
              "#bd3786"
             ],
             [
              0.5555555555555556,
              "#d8576b"
             ],
             [
              0.6666666666666666,
              "#ed7953"
             ],
             [
              0.7777777777777778,
              "#fb9f3a"
             ],
             [
              0.8888888888888888,
              "#fdca26"
             ],
             [
              1,
              "#f0f921"
             ]
            ],
            "type": "heatmap"
           }
          ],
          "histogram": [
           {
            "marker": {
             "pattern": {
              "fillmode": "overlay",
              "size": 10,
              "solidity": 0.2
             }
            },
            "type": "histogram"
           }
          ],
          "histogram2d": [
           {
            "colorbar": {
             "outlinewidth": 0,
             "ticks": ""
            },
            "colorscale": [
             [
              0,
              "#0d0887"
             ],
             [
              0.1111111111111111,
              "#46039f"
             ],
             [
              0.2222222222222222,
              "#7201a8"
             ],
             [
              0.3333333333333333,
              "#9c179e"
             ],
             [
              0.4444444444444444,
              "#bd3786"
             ],
             [
              0.5555555555555556,
              "#d8576b"
             ],
             [
              0.6666666666666666,
              "#ed7953"
             ],
             [
              0.7777777777777778,
              "#fb9f3a"
             ],
             [
              0.8888888888888888,
              "#fdca26"
             ],
             [
              1,
              "#f0f921"
             ]
            ],
            "type": "histogram2d"
           }
          ],
          "histogram2dcontour": [
           {
            "colorbar": {
             "outlinewidth": 0,
             "ticks": ""
            },
            "colorscale": [
             [
              0,
              "#0d0887"
             ],
             [
              0.1111111111111111,
              "#46039f"
             ],
             [
              0.2222222222222222,
              "#7201a8"
             ],
             [
              0.3333333333333333,
              "#9c179e"
             ],
             [
              0.4444444444444444,
              "#bd3786"
             ],
             [
              0.5555555555555556,
              "#d8576b"
             ],
             [
              0.6666666666666666,
              "#ed7953"
             ],
             [
              0.7777777777777778,
              "#fb9f3a"
             ],
             [
              0.8888888888888888,
              "#fdca26"
             ],
             [
              1,
              "#f0f921"
             ]
            ],
            "type": "histogram2dcontour"
           }
          ],
          "mesh3d": [
           {
            "colorbar": {
             "outlinewidth": 0,
             "ticks": ""
            },
            "type": "mesh3d"
           }
          ],
          "parcoords": [
           {
            "line": {
             "colorbar": {
              "outlinewidth": 0,
              "ticks": ""
             }
            },
            "type": "parcoords"
           }
          ],
          "pie": [
           {
            "automargin": true,
            "type": "pie"
           }
          ],
          "scatter": [
           {
            "fillpattern": {
             "fillmode": "overlay",
             "size": 10,
             "solidity": 0.2
            },
            "type": "scatter"
           }
          ],
          "scatter3d": [
           {
            "line": {
             "colorbar": {
              "outlinewidth": 0,
              "ticks": ""
             }
            },
            "marker": {
             "colorbar": {
              "outlinewidth": 0,
              "ticks": ""
             }
            },
            "type": "scatter3d"
           }
          ],
          "scattercarpet": [
           {
            "marker": {
             "colorbar": {
              "outlinewidth": 0,
              "ticks": ""
             }
            },
            "type": "scattercarpet"
           }
          ],
          "scattergeo": [
           {
            "marker": {
             "colorbar": {
              "outlinewidth": 0,
              "ticks": ""
             }
            },
            "type": "scattergeo"
           }
          ],
          "scattergl": [
           {
            "marker": {
             "colorbar": {
              "outlinewidth": 0,
              "ticks": ""
             }
            },
            "type": "scattergl"
           }
          ],
          "scattermap": [
           {
            "marker": {
             "colorbar": {
              "outlinewidth": 0,
              "ticks": ""
             }
            },
            "type": "scattermap"
           }
          ],
          "scattermapbox": [
           {
            "marker": {
             "colorbar": {
              "outlinewidth": 0,
              "ticks": ""
             }
            },
            "type": "scattermapbox"
           }
          ],
          "scatterpolar": [
           {
            "marker": {
             "colorbar": {
              "outlinewidth": 0,
              "ticks": ""
             }
            },
            "type": "scatterpolar"
           }
          ],
          "scatterpolargl": [
           {
            "marker": {
             "colorbar": {
              "outlinewidth": 0,
              "ticks": ""
             }
            },
            "type": "scatterpolargl"
           }
          ],
          "scatterternary": [
           {
            "marker": {
             "colorbar": {
              "outlinewidth": 0,
              "ticks": ""
             }
            },
            "type": "scatterternary"
           }
          ],
          "surface": [
           {
            "colorbar": {
             "outlinewidth": 0,
             "ticks": ""
            },
            "colorscale": [
             [
              0,
              "#0d0887"
             ],
             [
              0.1111111111111111,
              "#46039f"
             ],
             [
              0.2222222222222222,
              "#7201a8"
             ],
             [
              0.3333333333333333,
              "#9c179e"
             ],
             [
              0.4444444444444444,
              "#bd3786"
             ],
             [
              0.5555555555555556,
              "#d8576b"
             ],
             [
              0.6666666666666666,
              "#ed7953"
             ],
             [
              0.7777777777777778,
              "#fb9f3a"
             ],
             [
              0.8888888888888888,
              "#fdca26"
             ],
             [
              1,
              "#f0f921"
             ]
            ],
            "type": "surface"
           }
          ],
          "table": [
           {
            "cells": {
             "fill": {
              "color": "#EBF0F8"
             },
             "line": {
              "color": "white"
             }
            },
            "header": {
             "fill": {
              "color": "#C8D4E3"
             },
             "line": {
              "color": "white"
             }
            },
            "type": "table"
           }
          ]
         },
         "layout": {
          "annotationdefaults": {
           "arrowcolor": "#2a3f5f",
           "arrowhead": 0,
           "arrowwidth": 1
          },
          "autotypenumbers": "strict",
          "coloraxis": {
           "colorbar": {
            "outlinewidth": 0,
            "ticks": ""
           }
          },
          "colorscale": {
           "diverging": [
            [
             0,
             "#8e0152"
            ],
            [
             0.1,
             "#c51b7d"
            ],
            [
             0.2,
             "#de77ae"
            ],
            [
             0.3,
             "#f1b6da"
            ],
            [
             0.4,
             "#fde0ef"
            ],
            [
             0.5,
             "#f7f7f7"
            ],
            [
             0.6,
             "#e6f5d0"
            ],
            [
             0.7,
             "#b8e186"
            ],
            [
             0.8,
             "#7fbc41"
            ],
            [
             0.9,
             "#4d9221"
            ],
            [
             1,
             "#276419"
            ]
           ],
           "sequential": [
            [
             0,
             "#0d0887"
            ],
            [
             0.1111111111111111,
             "#46039f"
            ],
            [
             0.2222222222222222,
             "#7201a8"
            ],
            [
             0.3333333333333333,
             "#9c179e"
            ],
            [
             0.4444444444444444,
             "#bd3786"
            ],
            [
             0.5555555555555556,
             "#d8576b"
            ],
            [
             0.6666666666666666,
             "#ed7953"
            ],
            [
             0.7777777777777778,
             "#fb9f3a"
            ],
            [
             0.8888888888888888,
             "#fdca26"
            ],
            [
             1,
             "#f0f921"
            ]
           ],
           "sequentialminus": [
            [
             0,
             "#0d0887"
            ],
            [
             0.1111111111111111,
             "#46039f"
            ],
            [
             0.2222222222222222,
             "#7201a8"
            ],
            [
             0.3333333333333333,
             "#9c179e"
            ],
            [
             0.4444444444444444,
             "#bd3786"
            ],
            [
             0.5555555555555556,
             "#d8576b"
            ],
            [
             0.6666666666666666,
             "#ed7953"
            ],
            [
             0.7777777777777778,
             "#fb9f3a"
            ],
            [
             0.8888888888888888,
             "#fdca26"
            ],
            [
             1,
             "#f0f921"
            ]
           ]
          },
          "colorway": [
           "#636efa",
           "#EF553B",
           "#00cc96",
           "#ab63fa",
           "#FFA15A",
           "#19d3f3",
           "#FF6692",
           "#B6E880",
           "#FF97FF",
           "#FECB52"
          ],
          "font": {
           "color": "#2a3f5f"
          },
          "geo": {
           "bgcolor": "white",
           "lakecolor": "white",
           "landcolor": "white",
           "showlakes": true,
           "showland": true,
           "subunitcolor": "#C8D4E3"
          },
          "hoverlabel": {
           "align": "left"
          },
          "hovermode": "closest",
          "mapbox": {
           "style": "light"
          },
          "paper_bgcolor": "white",
          "plot_bgcolor": "white",
          "polar": {
           "angularaxis": {
            "gridcolor": "#EBF0F8",
            "linecolor": "#EBF0F8",
            "ticks": ""
           },
           "bgcolor": "white",
           "radialaxis": {
            "gridcolor": "#EBF0F8",
            "linecolor": "#EBF0F8",
            "ticks": ""
           }
          },
          "scene": {
           "xaxis": {
            "backgroundcolor": "white",
            "gridcolor": "#DFE8F3",
            "gridwidth": 2,
            "linecolor": "#EBF0F8",
            "showbackground": true,
            "ticks": "",
            "zerolinecolor": "#EBF0F8"
           },
           "yaxis": {
            "backgroundcolor": "white",
            "gridcolor": "#DFE8F3",
            "gridwidth": 2,
            "linecolor": "#EBF0F8",
            "showbackground": true,
            "ticks": "",
            "zerolinecolor": "#EBF0F8"
           },
           "zaxis": {
            "backgroundcolor": "white",
            "gridcolor": "#DFE8F3",
            "gridwidth": 2,
            "linecolor": "#EBF0F8",
            "showbackground": true,
            "ticks": "",
            "zerolinecolor": "#EBF0F8"
           }
          },
          "shapedefaults": {
           "line": {
            "color": "#2a3f5f"
           }
          },
          "ternary": {
           "aaxis": {
            "gridcolor": "#DFE8F3",
            "linecolor": "#A2B1C6",
            "ticks": ""
           },
           "baxis": {
            "gridcolor": "#DFE8F3",
            "linecolor": "#A2B1C6",
            "ticks": ""
           },
           "bgcolor": "white",
           "caxis": {
            "gridcolor": "#DFE8F3",
            "linecolor": "#A2B1C6",
            "ticks": ""
           }
          },
          "title": {
           "x": 0.05
          },
          "xaxis": {
           "automargin": true,
           "gridcolor": "#EBF0F8",
           "linecolor": "#EBF0F8",
           "ticks": "",
           "title": {
            "standoff": 15
           },
           "zerolinecolor": "#EBF0F8",
           "zerolinewidth": 2
          },
          "yaxis": {
           "automargin": true,
           "gridcolor": "#EBF0F8",
           "linecolor": "#EBF0F8",
           "ticks": "",
           "title": {
            "standoff": 15
           },
           "zerolinecolor": "#EBF0F8",
           "zerolinewidth": 2
          }
         }
        },
        "title": {
         "text": "Basic Time Series: Trend + Seasonality + Noise"
        },
        "xaxis": {
         "title": {
          "text": "Date"
         }
        },
        "yaxis": {
         "title": {
          "text": "Value"
         }
        }
       }
      }
     },
     "metadata": {},
     "output_type": "display_data"
    }
   ],
   "source": [
    "# Generate a time series with trend and seasonality\n",
    "n = 365  # one year of daily data\n",
    "time = np.arange(n)\n",
    "trend = 0.05 * time\n",
    "seasonality = 10 * np.sin(2 * np.pi * time / 365)\n",
    "noise = np.random.normal(0, 2, n)\n",
    "ts_basic = trend + seasonality + noise + 50\n",
    "\n",
    "# Create a date range\n",
    "dates = pd.date_range(start='2023-01-01', periods=n, freq='D')\n",
    "\n",
    "# Create interactive plot\n",
    "fig = go.Figure()\n",
    "fig.add_trace(go.Scatter(x=dates, y=ts_basic, mode='lines', name='Time Series',\n",
    "                         line=dict(color='blue', width=2)))\n",
    "\n",
    "fig.update_layout(\n",
    "    title='Basic Time Series: Trend + Seasonality + Noise',\n",
    "    xaxis_title='Date',\n",
    "    yaxis_title='Value',\n",
    "    hovermode='x unified',\n",
    "    template='plotly_white',\n",
    "    height=500\n",
    ")\n",
    "\n",
    "fig.show()\n"
   ]
  },
  {
   "cell_type": "markdown",
   "id": "0cd79046",
   "metadata": {},
   "source": [
    "## 3. Heteroscedasticity\n",
    "\n",
    "**Heteroscedasticity** refers to the phenomenon where the variance of the error terms (or the series itself) changes over time. This is important to detect because many statistical models assume constant variance (homoscedasticity).\n",
    "\n",
    "Let's visualize the difference between:\n",
    "- **Homoscedastic** time series (constant variance)\n",
    "- **Heteroscedastic** time series (increasing variance over time)\n"
   ]
  },
  {
   "cell_type": "code",
   "execution_count": 3,
   "id": "e1558020",
   "metadata": {},
   "outputs": [
    {
     "data": {
      "application/vnd.plotly.v1+json": {
       "config": {
        "plotlyServerURL": "https://plot.ly"
       },
       "data": [
        {
         "fill": "tonexty",
         "fillcolor": "rgba(0,255,0,0.1)",
         "line": {
          "color": "green",
          "width": 1.5
         },
         "mode": "lines",
         "name": "Homoscedastic",
         "type": "scatter",
         "x": {
          "bdata": "AAABAAIAAwAEAAUABgAHAAgACQAKAAsADAANAA4ADwAQABEAEgATABQAFQAWABcAGAAZABoAGwAcAB0AHgAfACAAIQAiACMAJAAlACYAJwAoACkAKgArACwALQAuAC8AMAAxADIAMwA0ADUANgA3ADgAOQA6ADsAPAA9AD4APwBAAEEAQgBDAEQARQBGAEcASABJAEoASwBMAE0ATgBPAFAAUQBSAFMAVABVAFYAVwBYAFkAWgBbAFwAXQBeAF8AYABhAGIAYwBkAGUAZgBnAGgAaQBqAGsAbABtAG4AbwBwAHEAcgBzAHQAdQB2AHcAeAB5AHoAewB8AH0AfgB/AIAAgQCCAIMAhACFAIYAhwCIAIkAigCLAIwAjQCOAI8AkACRAJIAkwCUAJUAlgCXAJgAmQCaAJsAnACdAJ4AnwCgAKEAogCjAKQApQCmAKcAqACpAKoAqwCsAK0ArgCvALAAsQCyALMAtAC1ALYAtwC4ALkAugC7ALwAvQC+AL8AwADBAMIAwwDEAMUAxgDHAMgAyQDKAMsAzADNAM4AzwDQANEA0gDTANQA1QDWANcA2ADZANoA2wDcAN0A3gDfAOAA4QDiAOMA5ADlAOYA5wDoAOkA6gDrAOwA7QDuAO8A8ADxAPIA8wD0APUA9gD3APgA+QD6APsA/AD9AP4A/wAAAQEBAgEDAQQBBQEGAQcBCAEJAQoBCwEMAQ0BDgEPARABEQESARMBFAEVARYBFwEYARkBGgEbARwBHQEeAR8BIAEhASIBIwEkASUBJgEnASgBKQEqASsB",
          "dtype": "i2"
         },
         "xaxis": "x",
         "y": {
          "bdata": "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",
          "dtype": "f8"
         },
         "yaxis": "y"
        },
        {
         "fill": "tonexty",
         "fillcolor": "rgba(255,0,0,0.1)",
         "line": {
          "color": "red",
          "width": 1.5
         },
         "mode": "lines",
         "name": "Heteroscedastic",
         "type": "scatter",
         "x": {
          "bdata": "AAABAAIAAwAEAAUABgAHAAgACQAKAAsADAANAA4ADwAQABEAEgATABQAFQAWABcAGAAZABoAGwAcAB0AHgAfACAAIQAiACMAJAAlACYAJwAoACkAKgArACwALQAuAC8AMAAxADIAMwA0ADUANgA3ADgAOQA6ADsAPAA9AD4APwBAAEEAQgBDAEQARQBGAEcASABJAEoASwBMAE0ATgBPAFAAUQBSAFMAVABVAFYAVwBYAFkAWgBbAFwAXQBeAF8AYABhAGIAYwBkAGUAZgBnAGgAaQBqAGsAbABtAG4AbwBwAHEAcgBzAHQAdQB2AHcAeAB5AHoAewB8AH0AfgB/AIAAgQCCAIMAhACFAIYAhwCIAIkAigCLAIwAjQCOAI8AkACRAJIAkwCUAJUAlgCXAJgAmQCaAJsAnACdAJ4AnwCgAKEAogCjAKQApQCmAKcAqACpAKoAqwCsAK0ArgCvALAAsQCyALMAtAC1ALYAtwC4ALkAugC7ALwAvQC+AL8AwADBAMIAwwDEAMUAxgDHAMgAyQDKAMsAzADNAM4AzwDQANEA0gDTANQA1QDWANcA2ADZANoA2wDcAN0A3gDfAOAA4QDiAOMA5ADlAOYA5wDoAOkA6gDrAOwA7QDuAO8A8ADxAPIA8wD0APUA9gD3APgA+QD6APsA/AD9AP4A/wAAAQEBAgEDAQQBBQEGAQcBCAEJAQoBCwEMAQ0BDgEPARABEQESARMBFAEVARYBFwEYARkBGgEbARwBHQEeAR8BIAEhASIBIwEkASUBJgEnASgBKQEqASsB",
          "dtype": "i2"
         },
         "xaxis": "x2",
         "y": {
          "bdata": "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",
          "dtype": "f8"
         },
         "yaxis": "y2"
        },
        {
         "line": {
          "color": "darkgreen",
          "dash": "dash",
          "width": 2
         },
         "mode": "lines",
         "name": "Mean Trend",
         "showlegend": false,
         "type": "scatter",
         "x": {
          "bdata": "AAABAAIAAwAEAAUABgAHAAgACQAKAAsADAANAA4ADwAQABEAEgATABQAFQAWABcAGAAZABoAGwAcAB0AHgAfACAAIQAiACMAJAAlACYAJwAoACkAKgArACwALQAuAC8AMAAxADIAMwA0ADUANgA3ADgAOQA6ADsAPAA9AD4APwBAAEEAQgBDAEQARQBGAEcASABJAEoASwBMAE0ATgBPAFAAUQBSAFMAVABVAFYAVwBYAFkAWgBbAFwAXQBeAF8AYABhAGIAYwBkAGUAZgBnAGgAaQBqAGsAbABtAG4AbwBwAHEAcgBzAHQAdQB2AHcAeAB5AHoAewB8AH0AfgB/AIAAgQCCAIMAhACFAIYAhwCIAIkAigCLAIwAjQCOAI8AkACRAJIAkwCUAJUAlgCXAJgAmQCaAJsAnACdAJ4AnwCgAKEAogCjAKQApQCmAKcAqACpAKoAqwCsAK0ArgCvALAAsQCyALMAtAC1ALYAtwC4ALkAugC7ALwAvQC+AL8AwADBAMIAwwDEAMUAxgDHAMgAyQDKAMsAzADNAM4AzwDQANEA0gDTANQA1QDWANcA2ADZANoA2wDcAN0A3gDfAOAA4QDiAOMA5ADlAOYA5wDoAOkA6gDrAOwA7QDuAO8A8ADxAPIA8wD0APUA9gD3APgA+QD6APsA/AD9AP4A/wAAAQEBAgEDAQQBBQEGAQcBCAEJAQoBCwEMAQ0BDgEPARABEQESARMBFAEVARYBFwEYARkBGgEbARwBHQEeAR8BIAEhASIBIwEkASUBJgEnASgBKQEqASsB",
          "dtype": "i2"
         },
         "xaxis": "x",
         "y": {
          "bdata": "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",
          "dtype": "f8"
         },
         "yaxis": "y"
        },
        {
         "line": {
          "color": "darkred",
          "dash": "dash",
          "width": 2
         },
         "mode": "lines",
         "name": "Mean Trend",
         "showlegend": false,
         "type": "scatter",
         "x": {
          "bdata": "AAABAAIAAwAEAAUABgAHAAgACQAKAAsADAANAA4ADwAQABEAEgATABQAFQAWABcAGAAZABoAGwAcAB0AHgAfACAAIQAiACMAJAAlACYAJwAoACkAKgArACwALQAuAC8AMAAxADIAMwA0ADUANgA3ADgAOQA6ADsAPAA9AD4APwBAAEEAQgBDAEQARQBGAEcASABJAEoASwBMAE0ATgBPAFAAUQBSAFMAVABVAFYAVwBYAFkAWgBbAFwAXQBeAF8AYABhAGIAYwBkAGUAZgBnAGgAaQBqAGsAbABtAG4AbwBwAHEAcgBzAHQAdQB2AHcAeAB5AHoAewB8AH0AfgB/AIAAgQCCAIMAhACFAIYAhwCIAIkAigCLAIwAjQCOAI8AkACRAJIAkwCUAJUAlgCXAJgAmQCaAJsAnACdAJ4AnwCgAKEAogCjAKQApQCmAKcAqACpAKoAqwCsAK0ArgCvALAAsQCyALMAtAC1ALYAtwC4ALkAugC7ALwAvQC+AL8AwADBAMIAwwDEAMUAxgDHAMgAyQDKAMsAzADNAM4AzwDQANEA0gDTANQA1QDWANcA2ADZANoA2wDcAN0A3gDfAOAA4QDiAOMA5ADlAOYA5wDoAOkA6gDrAOwA7QDuAO8A8ADxAPIA8wD0APUA9gD3APgA+QD6APsA/AD9AP4A/wAAAQEBAgEDAQQBBQEGAQcBCAEJAQoBCwEMAQ0BDgEPARABEQESARMBFAEVARYBFwEYARkBGgEbARwBHQEeAR8BIAEhASIBIwEkASUBJgEnASgBKQEqASsB",
          "dtype": "i2"
         },
         "xaxis": "x2",
         "y": {
          "bdata": "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",
          "dtype": "f8"
         },
         "yaxis": "y2"
        }
       ],
       "layout": {
        "annotations": [
         {
          "font": {
           "size": 16
          },
          "showarrow": false,
          "text": "📊 Homoscedastic: Constant Variance (Notice the consistent spread)",
          "x": 0.5,
          "xanchor": "center",
          "xref": "paper",
          "y": 1,
          "yanchor": "bottom",
          "yref": "paper"
         },
         {
          "font": {
           "size": 16
          },
          "showarrow": false,
          "text": "📈 Heteroscedastic: Exploding Variance (See how it fans out!)",
          "x": 0.5,
          "xanchor": "center",
          "xref": "paper",
          "y": 0.425,
          "yanchor": "bottom",
          "yref": "paper"
         }
        ],
        "height": 700,
        "showlegend": false,
        "template": {
         "data": {
          "bar": [
           {
            "error_x": {
             "color": "#2a3f5f"
            },
            "error_y": {
             "color": "#2a3f5f"
            },
            "marker": {
             "line": {
              "color": "white",
              "width": 0.5
             },
             "pattern": {
              "fillmode": "overlay",
              "size": 10,
              "solidity": 0.2
             }
            },
            "type": "bar"
           }
          ],
          "barpolar": [
           {
            "marker": {
             "line": {
              "color": "white",
              "width": 0.5
             },
             "pattern": {
              "fillmode": "overlay",
              "size": 10,
              "solidity": 0.2
             }
            },
            "type": "barpolar"
           }
          ],
          "carpet": [
           {
            "aaxis": {
             "endlinecolor": "#2a3f5f",
             "gridcolor": "#C8D4E3",
             "linecolor": "#C8D4E3",
             "minorgridcolor": "#C8D4E3",
             "startlinecolor": "#2a3f5f"
            },
            "baxis": {
             "endlinecolor": "#2a3f5f",
             "gridcolor": "#C8D4E3",
             "linecolor": "#C8D4E3",
             "minorgridcolor": "#C8D4E3",
             "startlinecolor": "#2a3f5f"
            },
            "type": "carpet"
           }
          ],
          "choropleth": [
           {
            "colorbar": {
             "outlinewidth": 0,
             "ticks": ""
            },
            "type": "choropleth"
           }
          ],
          "contour": [
           {
            "colorbar": {
             "outlinewidth": 0,
             "ticks": ""
            },
            "colorscale": [
             [
              0,
              "#0d0887"
             ],
             [
              0.1111111111111111,
              "#46039f"
             ],
             [
              0.2222222222222222,
              "#7201a8"
             ],
             [
              0.3333333333333333,
              "#9c179e"
             ],
             [
              0.4444444444444444,
              "#bd3786"
             ],
             [
              0.5555555555555556,
              "#d8576b"
             ],
             [
              0.6666666666666666,
              "#ed7953"
             ],
             [
              0.7777777777777778,
              "#fb9f3a"
             ],
             [
              0.8888888888888888,
              "#fdca26"
             ],
             [
              1,
              "#f0f921"
             ]
            ],
            "type": "contour"
           }
          ],
          "contourcarpet": [
           {
            "colorbar": {
             "outlinewidth": 0,
             "ticks": ""
            },
            "type": "contourcarpet"
           }
          ],
          "heatmap": [
           {
            "colorbar": {
             "outlinewidth": 0,
             "ticks": ""
            },
            "colorscale": [
             [
              0,
              "#0d0887"
             ],
             [
              0.1111111111111111,
              "#46039f"
             ],
             [
              0.2222222222222222,
              "#7201a8"
             ],
             [
              0.3333333333333333,
              "#9c179e"
             ],
             [
              0.4444444444444444,
              "#bd3786"
             ],
             [
              0.5555555555555556,
              "#d8576b"
             ],
             [
              0.6666666666666666,
              "#ed7953"
             ],
             [
              0.7777777777777778,
              "#fb9f3a"
             ],
             [
              0.8888888888888888,
              "#fdca26"
             ],
             [
              1,
              "#f0f921"
             ]
            ],
            "type": "heatmap"
           }
          ],
          "histogram": [
           {
            "marker": {
             "pattern": {
              "fillmode": "overlay",
              "size": 10,
              "solidity": 0.2
             }
            },
            "type": "histogram"
           }
          ],
          "histogram2d": [
           {
            "colorbar": {
             "outlinewidth": 0,
             "ticks": ""
            },
            "colorscale": [
             [
              0,
              "#0d0887"
             ],
             [
              0.1111111111111111,
              "#46039f"
             ],
             [
              0.2222222222222222,
              "#7201a8"
             ],
             [
              0.3333333333333333,
              "#9c179e"
             ],
             [
              0.4444444444444444,
              "#bd3786"
             ],
             [
              0.5555555555555556,
              "#d8576b"
             ],
             [
              0.6666666666666666,
              "#ed7953"
             ],
             [
              0.7777777777777778,
              "#fb9f3a"
             ],
             [
              0.8888888888888888,
              "#fdca26"
             ],
             [
              1,
              "#f0f921"
             ]
            ],
            "type": "histogram2d"
           }
          ],
          "histogram2dcontour": [
           {
            "colorbar": {
             "outlinewidth": 0,
             "ticks": ""
            },
            "colorscale": [
             [
              0,
              "#0d0887"
             ],
             [
              0.1111111111111111,
              "#46039f"
             ],
             [
              0.2222222222222222,
              "#7201a8"
             ],
             [
              0.3333333333333333,
              "#9c179e"
             ],
             [
              0.4444444444444444,
              "#bd3786"
             ],
             [
              0.5555555555555556,
              "#d8576b"
             ],
             [
              0.6666666666666666,
              "#ed7953"
             ],
             [
              0.7777777777777778,
              "#fb9f3a"
             ],
             [
              0.8888888888888888,
              "#fdca26"
             ],
             [
              1,
              "#f0f921"
             ]
            ],
            "type": "histogram2dcontour"
           }
          ],
          "mesh3d": [
           {
            "colorbar": {
             "outlinewidth": 0,
             "ticks": ""
            },
            "type": "mesh3d"
           }
          ],
          "parcoords": [
           {
            "line": {
             "colorbar": {
              "outlinewidth": 0,
              "ticks": ""
             }
            },
            "type": "parcoords"
           }
          ],
          "pie": [
           {
            "automargin": true,
            "type": "pie"
           }
          ],
          "scatter": [
           {
            "fillpattern": {
             "fillmode": "overlay",
             "size": 10,
             "solidity": 0.2
            },
            "type": "scatter"
           }
          ],
          "scatter3d": [
           {
            "line": {
             "colorbar": {
              "outlinewidth": 0,
              "ticks": ""
             }
            },
            "marker": {
             "colorbar": {
              "outlinewidth": 0,
              "ticks": ""
             }
            },
            "type": "scatter3d"
           }
          ],
          "scattercarpet": [
           {
            "marker": {
             "colorbar": {
              "outlinewidth": 0,
              "ticks": ""
             }
            },
            "type": "scattercarpet"
           }
          ],
          "scattergeo": [
           {
            "marker": {
             "colorbar": {
              "outlinewidth": 0,
              "ticks": ""
             }
            },
            "type": "scattergeo"
           }
          ],
          "scattergl": [
           {
            "marker": {
             "colorbar": {
              "outlinewidth": 0,
              "ticks": ""
             }
            },
            "type": "scattergl"
           }
          ],
          "scattermap": [
           {
            "marker": {
             "colorbar": {
              "outlinewidth": 0,
              "ticks": ""
             }
            },
            "type": "scattermap"
           }
          ],
          "scattermapbox": [
           {
            "marker": {
             "colorbar": {
              "outlinewidth": 0,
              "ticks": ""
             }
            },
            "type": "scattermapbox"
           }
          ],
          "scatterpolar": [
           {
            "marker": {
             "colorbar": {
              "outlinewidth": 0,
              "ticks": ""
             }
            },
            "type": "scatterpolar"
           }
          ],
          "scatterpolargl": [
           {
            "marker": {
             "colorbar": {
              "outlinewidth": 0,
              "ticks": ""
             }
            },
            "type": "scatterpolargl"
           }
          ],
          "scatterternary": [
           {
            "marker": {
             "colorbar": {
              "outlinewidth": 0,
              "ticks": ""
             }
            },
            "type": "scatterternary"
           }
          ],
          "surface": [
           {
            "colorbar": {
             "outlinewidth": 0,
             "ticks": ""
            },
            "colorscale": [
             [
              0,
              "#0d0887"
             ],
             [
              0.1111111111111111,
              "#46039f"
             ],
             [
              0.2222222222222222,
              "#7201a8"
             ],
             [
              0.3333333333333333,
              "#9c179e"
             ],
             [
              0.4444444444444444,
              "#bd3786"
             ],
             [
              0.5555555555555556,
              "#d8576b"
             ],
             [
              0.6666666666666666,
              "#ed7953"
             ],
             [
              0.7777777777777778,
              "#fb9f3a"
             ],
             [
              0.8888888888888888,
              "#fdca26"
             ],
             [
              1,
              "#f0f921"
             ]
            ],
            "type": "surface"
           }
          ],
          "table": [
           {
            "cells": {
             "fill": {
              "color": "#EBF0F8"
             },
             "line": {
              "color": "white"
             }
            },
            "header": {
             "fill": {
              "color": "#C8D4E3"
             },
             "line": {
              "color": "white"
             }
            },
            "type": "table"
           }
          ]
         },
         "layout": {
          "annotationdefaults": {
           "arrowcolor": "#2a3f5f",
           "arrowhead": 0,
           "arrowwidth": 1
          },
          "autotypenumbers": "strict",
          "coloraxis": {
           "colorbar": {
            "outlinewidth": 0,
            "ticks": ""
           }
          },
          "colorscale": {
           "diverging": [
            [
             0,
             "#8e0152"
            ],
            [
             0.1,
             "#c51b7d"
            ],
            [
             0.2,
             "#de77ae"
            ],
            [
             0.3,
             "#f1b6da"
            ],
            [
             0.4,
             "#fde0ef"
            ],
            [
             0.5,
             "#f7f7f7"
            ],
            [
             0.6,
             "#e6f5d0"
            ],
            [
             0.7,
             "#b8e186"
            ],
            [
             0.8,
             "#7fbc41"
            ],
            [
             0.9,
             "#4d9221"
            ],
            [
             1,
             "#276419"
            ]
           ],
           "sequential": [
            [
             0,
             "#0d0887"
            ],
            [
             0.1111111111111111,
             "#46039f"
            ],
            [
             0.2222222222222222,
             "#7201a8"
            ],
            [
             0.3333333333333333,
             "#9c179e"
            ],
            [
             0.4444444444444444,
             "#bd3786"
            ],
            [
             0.5555555555555556,
             "#d8576b"
            ],
            [
             0.6666666666666666,
             "#ed7953"
            ],
            [
             0.7777777777777778,
             "#fb9f3a"
            ],
            [
             0.8888888888888888,
             "#fdca26"
            ],
            [
             1,
             "#f0f921"
            ]
           ],
           "sequentialminus": [
            [
             0,
             "#0d0887"
            ],
            [
             0.1111111111111111,
             "#46039f"
            ],
            [
             0.2222222222222222,
             "#7201a8"
            ],
            [
             0.3333333333333333,
             "#9c179e"
            ],
            [
             0.4444444444444444,
             "#bd3786"
            ],
            [
             0.5555555555555556,
             "#d8576b"
            ],
            [
             0.6666666666666666,
             "#ed7953"
            ],
            [
             0.7777777777777778,
             "#fb9f3a"
            ],
            [
             0.8888888888888888,
             "#fdca26"
            ],
            [
             1,
             "#f0f921"
            ]
           ]
          },
          "colorway": [
           "#636efa",
           "#EF553B",
           "#00cc96",
           "#ab63fa",
           "#FFA15A",
           "#19d3f3",
           "#FF6692",
           "#B6E880",
           "#FF97FF",
           "#FECB52"
          ],
          "font": {
           "color": "#2a3f5f"
          },
          "geo": {
           "bgcolor": "white",
           "lakecolor": "white",
           "landcolor": "white",
           "showlakes": true,
           "showland": true,
           "subunitcolor": "#C8D4E3"
          },
          "hoverlabel": {
           "align": "left"
          },
          "hovermode": "closest",
          "mapbox": {
           "style": "light"
          },
          "paper_bgcolor": "white",
          "plot_bgcolor": "white",
          "polar": {
           "angularaxis": {
            "gridcolor": "#EBF0F8",
            "linecolor": "#EBF0F8",
            "ticks": ""
           },
           "bgcolor": "white",
           "radialaxis": {
            "gridcolor": "#EBF0F8",
            "linecolor": "#EBF0F8",
            "ticks": ""
           }
          },
          "scene": {
           "xaxis": {
            "backgroundcolor": "white",
            "gridcolor": "#DFE8F3",
            "gridwidth": 2,
            "linecolor": "#EBF0F8",
            "showbackground": true,
            "ticks": "",
            "zerolinecolor": "#EBF0F8"
           },
           "yaxis": {
            "backgroundcolor": "white",
            "gridcolor": "#DFE8F3",
            "gridwidth": 2,
            "linecolor": "#EBF0F8",
            "showbackground": true,
            "ticks": "",
            "zerolinecolor": "#EBF0F8"
           },
           "zaxis": {
            "backgroundcolor": "white",
            "gridcolor": "#DFE8F3",
            "gridwidth": 2,
            "linecolor": "#EBF0F8",
            "showbackground": true,
            "ticks": "",
            "zerolinecolor": "#EBF0F8"
           }
          },
          "shapedefaults": {
           "line": {
            "color": "#2a3f5f"
           }
          },
          "ternary": {
           "aaxis": {
            "gridcolor": "#DFE8F3",
            "linecolor": "#A2B1C6",
            "ticks": ""
           },
           "baxis": {
            "gridcolor": "#DFE8F3",
            "linecolor": "#A2B1C6",
            "ticks": ""
           },
           "bgcolor": "white",
           "caxis": {
            "gridcolor": "#DFE8F3",
            "linecolor": "#A2B1C6",
            "ticks": ""
           }
          },
          "title": {
           "x": 0.05
          },
          "xaxis": {
           "automargin": true,
           "gridcolor": "#EBF0F8",
           "linecolor": "#EBF0F8",
           "ticks": "",
           "title": {
            "standoff": 15
           },
           "zerolinecolor": "#EBF0F8",
           "zerolinewidth": 2
          },
          "yaxis": {
           "automargin": true,
           "gridcolor": "#EBF0F8",
           "linecolor": "#EBF0F8",
           "ticks": "",
           "title": {
            "standoff": 15
           },
           "zerolinecolor": "#EBF0F8",
           "zerolinewidth": 2
          }
         }
        },
        "title": {
         "text": "🔍 Homoscedasticity vs Heteroscedasticity: Can You Spot the Difference?"
        },
        "xaxis": {
         "anchor": "y",
         "domain": [
          0,
          1
         ]
        },
        "xaxis2": {
         "anchor": "y2",
         "domain": [
          0,
          1
         ],
         "title": {
          "text": "Time"
         }
        },
        "yaxis": {
         "anchor": "x",
         "domain": [
          0.575,
          1
         ],
         "title": {
          "text": "Value"
         }
        },
        "yaxis2": {
         "anchor": "x2",
         "domain": [
          0,
          0.425
         ],
         "title": {
          "text": "Value"
         }
        }
       }
      }
     },
     "metadata": {},
     "output_type": "display_data"
    },
    {
     "name": "stdout",
     "output_type": "stream",
     "text": [
      "👆 Notice:\n",
      "• TOP (Green): Spreads stays THE SAME throughout time\n",
      "• BOTTOM (Red): Spread gets WIDER and WIDER over time - like a funnel!\n"
     ]
    }
   ],
   "source": [
    "# Generate homoscedastic time series (constant variance)\n",
    "n = 300\n",
    "time = np.arange(n)\n",
    "# Constant variance throughout - tight band around the mean\n",
    "homoscedastic = 100 + 0.2 * time + np.random.normal(0, 3, n)\n",
    "\n",
    "# Generate heteroscedastic time series (DRAMATICALLY increasing variance)\n",
    "# Start with small variance, end with HUGE variance\n",
    "variance_multiplier = (1 + time / 50) ** 2  # Quadratic growth - much more dramatic!\n",
    "heteroscedastic = 100 + 0.2 * time + np.random.normal(0, 1, n) * variance_multiplier\n",
    "\n",
    "# Create subplot with shared x-axis but independent y-axes\n",
    "fig = make_subplots(\n",
    "    rows=2, cols=1,\n",
    "    subplot_titles=('📊 Homoscedastic: Constant Variance (Notice the consistent spread)', \n",
    "                   '📈 Heteroscedastic: Exploding Variance (See how it fans out!)'),\n",
    "    vertical_spacing=0.15\n",
    ")\n",
    "\n",
    "# Homoscedastic plot - nice tight consistent band\n",
    "fig.add_trace(\n",
    "    go.Scatter(x=time, y=homoscedastic, mode='lines', name='Homoscedastic',\n",
    "               line=dict(color='green', width=1.5),\n",
    "               fill='tonexty', fillcolor='rgba(0,255,0,0.1)'),\n",
    "    row=1, col=1\n",
    ")\n",
    "\n",
    "# Heteroscedastic plot - starts tight, becomes wild!\n",
    "fig.add_trace(\n",
    "    go.Scatter(x=time, y=heteroscedastic, mode='lines', name='Heteroscedastic',\n",
    "               line=dict(color='red', width=1.5),\n",
    "               fill='tonexty', fillcolor='rgba(255,0,0,0.1)'),\n",
    "    row=2, col=1\n",
    ")\n",
    "\n",
    "# Add trend lines to show the mean is same for both\n",
    "trend_line = 100 + 0.2 * time\n",
    "fig.add_trace(\n",
    "    go.Scatter(x=time, y=trend_line, mode='lines', name='Mean Trend',\n",
    "               line=dict(color='darkgreen', width=2, dash='dash'),\n",
    "               showlegend=False),\n",
    "    row=1, col=1\n",
    ")\n",
    "fig.add_trace(\n",
    "    go.Scatter(x=time, y=trend_line, mode='lines', name='Mean Trend',\n",
    "               line=dict(color='darkred', width=2, dash='dash'),\n",
    "               showlegend=False),\n",
    "    row=2, col=1\n",
    ")\n",
    "\n",
    "fig.update_xaxes(title_text=\"Time\", row=2, col=1)\n",
    "fig.update_yaxes(title_text=\"Value\", row=1, col=1)\n",
    "fig.update_yaxes(title_text=\"Value\", row=2, col=1)\n",
    "\n",
    "fig.update_layout(\n",
    "    title_text='🔍 Homoscedasticity vs Heteroscedasticity: Can You Spot the Difference?',\n",
    "    showlegend=False,\n",
    "    height=700,\n",
    "    template='plotly_white'\n",
    ")\n",
    "\n",
    "fig.show()\n",
    "\n",
    "print(\"👆 Notice:\")\n",
    "print(\"• TOP (Green): Spreads stays THE SAME throughout time\")\n",
    "print(\"• BOTTOM (Red): Spread gets WIDER and WIDER over time - like a funnel!\")\n"
   ]
  },
  {
   "cell_type": "markdown",
   "id": "d8a96804",
   "metadata": {},
   "source": [
    "### Visualizing Variance Over Time\n",
    "\n",
    "We can better understand heteroscedasticity by calculating and plotting the rolling variance:\n"
   ]
  },
  {
   "cell_type": "code",
   "execution_count": 4,
   "id": "59a86560",
   "metadata": {},
   "outputs": [
    {
     "data": {
      "application/vnd.plotly.v1+json": {
       "config": {
        "plotlyServerURL": "https://plot.ly"
       },
       "data": [
        {
         "fill": "tozeroy",
         "fillcolor": "rgba(0,255,0,0.2)",
         "line": {
          "color": "green",
          "width": 3
         },
         "mode": "lines",
         "name": "Homoscedastic (stays flat)",
         "type": "scatter",
         "x": {
          "bdata": "AAABAAIAAwAEAAUABgAHAAgACQAKAAsADAANAA4ADwAQABEAEgATABQAFQAWABcAGAAZABoAGwAcAB0AHgAfACAAIQAiACMAJAAlACYAJwAoACkAKgArACwALQAuAC8AMAAxADIAMwA0ADUANgA3ADgAOQA6ADsAPAA9AD4APwBAAEEAQgBDAEQARQBGAEcASABJAEoASwBMAE0ATgBPAFAAUQBSAFMAVABVAFYAVwBYAFkAWgBbAFwAXQBeAF8AYABhAGIAYwBkAGUAZgBnAGgAaQBqAGsAbABtAG4AbwBwAHEAcgBzAHQAdQB2AHcAeAB5AHoAewB8AH0AfgB/AIAAgQCCAIMAhACFAIYAhwCIAIkAigCLAIwAjQCOAI8AkACRAJIAkwCUAJUAlgCXAJgAmQCaAJsAnACdAJ4AnwCgAKEAogCjAKQApQCmAKcAqACpAKoAqwCsAK0ArgCvALAAsQCyALMAtAC1ALYAtwC4ALkAugC7ALwAvQC+AL8AwADBAMIAwwDEAMUAxgDHAMgAyQDKAMsAzADNAM4AzwDQANEA0gDTANQA1QDWANcA2ADZANoA2wDcAN0A3gDfAOAA4QDiAOMA5ADlAOYA5wDoAOkA6gDrAOwA7QDuAO8A8ADxAPIA8wD0APUA9gD3APgA+QD6APsA/AD9AP4A/wAAAQEBAgEDAQQBBQEGAQcBCAEJAQoBCwEMAQ0BDgEPARABEQESARMBFAEVARYBFwEYARkBGgEbARwBHQEeAR8BIAEhASIBIwEkASUBJgEnASgBKQEqASsB",
          "dtype": "i2"
         },
         "y": {
          "bdata": "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",
          "dtype": "f8"
         }
        },
        {
         "fill": "tozeroy",
         "fillcolor": "rgba(255,0,0,0.2)",
         "line": {
          "color": "red",
          "width": 3
         },
         "mode": "lines",
         "name": "Heteroscedastic (EXPLODES!)",
         "type": "scatter",
         "x": {
          "bdata": "AAABAAIAAwAEAAUABgAHAAgACQAKAAsADAANAA4ADwAQABEAEgATABQAFQAWABcAGAAZABoAGwAcAB0AHgAfACAAIQAiACMAJAAlACYAJwAoACkAKgArACwALQAuAC8AMAAxADIAMwA0ADUANgA3ADgAOQA6ADsAPAA9AD4APwBAAEEAQgBDAEQARQBGAEcASABJAEoASwBMAE0ATgBPAFAAUQBSAFMAVABVAFYAVwBYAFkAWgBbAFwAXQBeAF8AYABhAGIAYwBkAGUAZgBnAGgAaQBqAGsAbABtAG4AbwBwAHEAcgBzAHQAdQB2AHcAeAB5AHoAewB8AH0AfgB/AIAAgQCCAIMAhACFAIYAhwCIAIkAigCLAIwAjQCOAI8AkACRAJIAkwCUAJUAlgCXAJgAmQCaAJsAnACdAJ4AnwCgAKEAogCjAKQApQCmAKcAqACpAKoAqwCsAK0ArgCvALAAsQCyALMAtAC1ALYAtwC4ALkAugC7ALwAvQC+AL8AwADBAMIAwwDEAMUAxgDHAMgAyQDKAMsAzADNAM4AzwDQANEA0gDTANQA1QDWANcA2ADZANoA2wDcAN0A3gDfAOAA4QDiAOMA5ADlAOYA5wDoAOkA6gDrAOwA7QDuAO8A8ADxAPIA8wD0APUA9gD3APgA+QD6APsA/AD9AP4A/wAAAQEBAgEDAQQBBQEGAQcBCAEJAQoBCwEMAQ0BDgEPARABEQESARMBFAEVARYBFwEYARkBGgEbARwBHQEeAR8BIAEhASIBIwEkASUBJgEnASgBKQEqASsB",
          "dtype": "i2"
         },
         "y": {
          "bdata": "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",
          "dtype": "f8"
         }
        }
       ],
       "layout": {
        "annotations": [
         {
          "arrowcolor": "green",
          "arrowhead": 2,
          "font": {
           "color": "green",
           "size": 12
          },
          "showarrow": true,
          "text": "← Stays roughly constant",
          "x": 100,
          "y": 12.611492886955723
         },
         {
          "arrowcolor": "red",
          "arrowhead": 2,
          "font": {
           "color": "red",
           "size": 12
          },
          "showarrow": true,
          "text": "Skyrockets! 🚀",
          "x": 250,
          "y": 608.5323134662455
         }
        ],
        "height": 500,
        "hovermode": "x unified",
        "legend": {
         "bgcolor": "rgba(255,255,255,0.8)",
         "x": 0.02,
         "y": 0.98
        },
        "template": {
         "data": {
          "bar": [
           {
            "error_x": {
             "color": "#2a3f5f"
            },
            "error_y": {
             "color": "#2a3f5f"
            },
            "marker": {
             "line": {
              "color": "white",
              "width": 0.5
             },
             "pattern": {
              "fillmode": "overlay",
              "size": 10,
              "solidity": 0.2
             }
            },
            "type": "bar"
           }
          ],
          "barpolar": [
           {
            "marker": {
             "line": {
              "color": "white",
              "width": 0.5
             },
             "pattern": {
              "fillmode": "overlay",
              "size": 10,
              "solidity": 0.2
             }
            },
            "type": "barpolar"
           }
          ],
          "carpet": [
           {
            "aaxis": {
             "endlinecolor": "#2a3f5f",
             "gridcolor": "#C8D4E3",
             "linecolor": "#C8D4E3",
             "minorgridcolor": "#C8D4E3",
             "startlinecolor": "#2a3f5f"
            },
            "baxis": {
             "endlinecolor": "#2a3f5f",
             "gridcolor": "#C8D4E3",
             "linecolor": "#C8D4E3",
             "minorgridcolor": "#C8D4E3",
             "startlinecolor": "#2a3f5f"
            },
            "type": "carpet"
           }
          ],
          "choropleth": [
           {
            "colorbar": {
             "outlinewidth": 0,
             "ticks": ""
            },
            "type": "choropleth"
           }
          ],
          "contour": [
           {
            "colorbar": {
             "outlinewidth": 0,
             "ticks": ""
            },
            "colorscale": [
             [
              0,
              "#0d0887"
             ],
             [
              0.1111111111111111,
              "#46039f"
             ],
             [
              0.2222222222222222,
              "#7201a8"
             ],
             [
              0.3333333333333333,
              "#9c179e"
             ],
             [
              0.4444444444444444,
              "#bd3786"
             ],
             [
              0.5555555555555556,
              "#d8576b"
             ],
             [
              0.6666666666666666,
              "#ed7953"
             ],
             [
              0.7777777777777778,
              "#fb9f3a"
             ],
             [
              0.8888888888888888,
              "#fdca26"
             ],
             [
              1,
              "#f0f921"
             ]
            ],
            "type": "contour"
           }
          ],
          "contourcarpet": [
           {
            "colorbar": {
             "outlinewidth": 0,
             "ticks": ""
            },
            "type": "contourcarpet"
           }
          ],
          "heatmap": [
           {
            "colorbar": {
             "outlinewidth": 0,
             "ticks": ""
            },
            "colorscale": [
             [
              0,
              "#0d0887"
             ],
             [
              0.1111111111111111,
              "#46039f"
             ],
             [
              0.2222222222222222,
              "#7201a8"
             ],
             [
              0.3333333333333333,
              "#9c179e"
             ],
             [
              0.4444444444444444,
              "#bd3786"
             ],
             [
              0.5555555555555556,
              "#d8576b"
             ],
             [
              0.6666666666666666,
              "#ed7953"
             ],
             [
              0.7777777777777778,
              "#fb9f3a"
             ],
             [
              0.8888888888888888,
              "#fdca26"
             ],
             [
              1,
              "#f0f921"
             ]
            ],
            "type": "heatmap"
           }
          ],
          "histogram": [
           {
            "marker": {
             "pattern": {
              "fillmode": "overlay",
              "size": 10,
              "solidity": 0.2
             }
            },
            "type": "histogram"
           }
          ],
          "histogram2d": [
           {
            "colorbar": {
             "outlinewidth": 0,
             "ticks": ""
            },
            "colorscale": [
             [
              0,
              "#0d0887"
             ],
             [
              0.1111111111111111,
              "#46039f"
             ],
             [
              0.2222222222222222,
              "#7201a8"
             ],
             [
              0.3333333333333333,
              "#9c179e"
             ],
             [
              0.4444444444444444,
              "#bd3786"
             ],
             [
              0.5555555555555556,
              "#d8576b"
             ],
             [
              0.6666666666666666,
              "#ed7953"
             ],
             [
              0.7777777777777778,
              "#fb9f3a"
             ],
             [
              0.8888888888888888,
              "#fdca26"
             ],
             [
              1,
              "#f0f921"
             ]
            ],
            "type": "histogram2d"
           }
          ],
          "histogram2dcontour": [
           {
            "colorbar": {
             "outlinewidth": 0,
             "ticks": ""
            },
            "colorscale": [
             [
              0,
              "#0d0887"
             ],
             [
              0.1111111111111111,
              "#46039f"
             ],
             [
              0.2222222222222222,
              "#7201a8"
             ],
             [
              0.3333333333333333,
              "#9c179e"
             ],
             [
              0.4444444444444444,
              "#bd3786"
             ],
             [
              0.5555555555555556,
              "#d8576b"
             ],
             [
              0.6666666666666666,
              "#ed7953"
             ],
             [
              0.7777777777777778,
              "#fb9f3a"
             ],
             [
              0.8888888888888888,
              "#fdca26"
             ],
             [
              1,
              "#f0f921"
             ]
            ],
            "type": "histogram2dcontour"
           }
          ],
          "mesh3d": [
           {
            "colorbar": {
             "outlinewidth": 0,
             "ticks": ""
            },
            "type": "mesh3d"
           }
          ],
          "parcoords": [
           {
            "line": {
             "colorbar": {
              "outlinewidth": 0,
              "ticks": ""
             }
            },
            "type": "parcoords"
           }
          ],
          "pie": [
           {
            "automargin": true,
            "type": "pie"
           }
          ],
          "scatter": [
           {
            "fillpattern": {
             "fillmode": "overlay",
             "size": 10,
             "solidity": 0.2
            },
            "type": "scatter"
           }
          ],
          "scatter3d": [
           {
            "line": {
             "colorbar": {
              "outlinewidth": 0,
              "ticks": ""
             }
            },
            "marker": {
             "colorbar": {
              "outlinewidth": 0,
              "ticks": ""
             }
            },
            "type": "scatter3d"
           }
          ],
          "scattercarpet": [
           {
            "marker": {
             "colorbar": {
              "outlinewidth": 0,
              "ticks": ""
             }
            },
            "type": "scattercarpet"
           }
          ],
          "scattergeo": [
           {
            "marker": {
             "colorbar": {
              "outlinewidth": 0,
              "ticks": ""
             }
            },
            "type": "scattergeo"
           }
          ],
          "scattergl": [
           {
            "marker": {
             "colorbar": {
              "outlinewidth": 0,
              "ticks": ""
             }
            },
            "type": "scattergl"
           }
          ],
          "scattermap": [
           {
            "marker": {
             "colorbar": {
              "outlinewidth": 0,
              "ticks": ""
             }
            },
            "type": "scattermap"
           }
          ],
          "scattermapbox": [
           {
            "marker": {
             "colorbar": {
              "outlinewidth": 0,
              "ticks": ""
             }
            },
            "type": "scattermapbox"
           }
          ],
          "scatterpolar": [
           {
            "marker": {
             "colorbar": {
              "outlinewidth": 0,
              "ticks": ""
             }
            },
            "type": "scatterpolar"
           }
          ],
          "scatterpolargl": [
           {
            "marker": {
             "colorbar": {
              "outlinewidth": 0,
              "ticks": ""
             }
            },
            "type": "scatterpolargl"
           }
          ],
          "scatterternary": [
           {
            "marker": {
             "colorbar": {
              "outlinewidth": 0,
              "ticks": ""
             }
            },
            "type": "scatterternary"
           }
          ],
          "surface": [
           {
            "colorbar": {
             "outlinewidth": 0,
             "ticks": ""
            },
            "colorscale": [
             [
              0,
              "#0d0887"
             ],
             [
              0.1111111111111111,
              "#46039f"
             ],
             [
              0.2222222222222222,
              "#7201a8"
             ],
             [
              0.3333333333333333,
              "#9c179e"
             ],
             [
              0.4444444444444444,
              "#bd3786"
             ],
             [
              0.5555555555555556,
              "#d8576b"
             ],
             [
              0.6666666666666666,
              "#ed7953"
             ],
             [
              0.7777777777777778,
              "#fb9f3a"
             ],
             [
              0.8888888888888888,
              "#fdca26"
             ],
             [
              1,
              "#f0f921"
             ]
            ],
            "type": "surface"
           }
          ],
          "table": [
           {
            "cells": {
             "fill": {
              "color": "#EBF0F8"
             },
             "line": {
              "color": "white"
             }
            },
            "header": {
             "fill": {
              "color": "#C8D4E3"
             },
             "line": {
              "color": "white"
             }
            },
            "type": "table"
           }
          ]
         },
         "layout": {
          "annotationdefaults": {
           "arrowcolor": "#2a3f5f",
           "arrowhead": 0,
           "arrowwidth": 1
          },
          "autotypenumbers": "strict",
          "coloraxis": {
           "colorbar": {
            "outlinewidth": 0,
            "ticks": ""
           }
          },
          "colorscale": {
           "diverging": [
            [
             0,
             "#8e0152"
            ],
            [
             0.1,
             "#c51b7d"
            ],
            [
             0.2,
             "#de77ae"
            ],
            [
             0.3,
             "#f1b6da"
            ],
            [
             0.4,
             "#fde0ef"
            ],
            [
             0.5,
             "#f7f7f7"
            ],
            [
             0.6,
             "#e6f5d0"
            ],
            [
             0.7,
             "#b8e186"
            ],
            [
             0.8,
             "#7fbc41"
            ],
            [
             0.9,
             "#4d9221"
            ],
            [
             1,
             "#276419"
            ]
           ],
           "sequential": [
            [
             0,
             "#0d0887"
            ],
            [
             0.1111111111111111,
             "#46039f"
            ],
            [
             0.2222222222222222,
             "#7201a8"
            ],
            [
             0.3333333333333333,
             "#9c179e"
            ],
            [
             0.4444444444444444,
             "#bd3786"
            ],
            [
             0.5555555555555556,
             "#d8576b"
            ],
            [
             0.6666666666666666,
             "#ed7953"
            ],
            [
             0.7777777777777778,
             "#fb9f3a"
            ],
            [
             0.8888888888888888,
             "#fdca26"
            ],
            [
             1,
             "#f0f921"
            ]
           ],
           "sequentialminus": [
            [
             0,
             "#0d0887"
            ],
            [
             0.1111111111111111,
             "#46039f"
            ],
            [
             0.2222222222222222,
             "#7201a8"
            ],
            [
             0.3333333333333333,
             "#9c179e"
            ],
            [
             0.4444444444444444,
             "#bd3786"
            ],
            [
             0.5555555555555556,
             "#d8576b"
            ],
            [
             0.6666666666666666,
             "#ed7953"
            ],
            [
             0.7777777777777778,
             "#fb9f3a"
            ],
            [
             0.8888888888888888,
             "#fdca26"
            ],
            [
             1,
             "#f0f921"
            ]
           ]
          },
          "colorway": [
           "#636efa",
           "#EF553B",
           "#00cc96",
           "#ab63fa",
           "#FFA15A",
           "#19d3f3",
           "#FF6692",
           "#B6E880",
           "#FF97FF",
           "#FECB52"
          ],
          "font": {
           "color": "#2a3f5f"
          },
          "geo": {
           "bgcolor": "white",
           "lakecolor": "white",
           "landcolor": "white",
           "showlakes": true,
           "showland": true,
           "subunitcolor": "#C8D4E3"
          },
          "hoverlabel": {
           "align": "left"
          },
          "hovermode": "closest",
          "mapbox": {
           "style": "light"
          },
          "paper_bgcolor": "white",
          "plot_bgcolor": "white",
          "polar": {
           "angularaxis": {
            "gridcolor": "#EBF0F8",
            "linecolor": "#EBF0F8",
            "ticks": ""
           },
           "bgcolor": "white",
           "radialaxis": {
            "gridcolor": "#EBF0F8",
            "linecolor": "#EBF0F8",
            "ticks": ""
           }
          },
          "scene": {
           "xaxis": {
            "backgroundcolor": "white",
            "gridcolor": "#DFE8F3",
            "gridwidth": 2,
            "linecolor": "#EBF0F8",
            "showbackground": true,
            "ticks": "",
            "zerolinecolor": "#EBF0F8"
           },
           "yaxis": {
            "backgroundcolor": "white",
            "gridcolor": "#DFE8F3",
            "gridwidth": 2,
            "linecolor": "#EBF0F8",
            "showbackground": true,
            "ticks": "",
            "zerolinecolor": "#EBF0F8"
           },
           "zaxis": {
            "backgroundcolor": "white",
            "gridcolor": "#DFE8F3",
            "gridwidth": 2,
            "linecolor": "#EBF0F8",
            "showbackground": true,
            "ticks": "",
            "zerolinecolor": "#EBF0F8"
           }
          },
          "shapedefaults": {
           "line": {
            "color": "#2a3f5f"
           }
          },
          "ternary": {
           "aaxis": {
            "gridcolor": "#DFE8F3",
            "linecolor": "#A2B1C6",
            "ticks": ""
           },
           "baxis": {
            "gridcolor": "#DFE8F3",
            "linecolor": "#A2B1C6",
            "ticks": ""
           },
           "bgcolor": "white",
           "caxis": {
            "gridcolor": "#DFE8F3",
            "linecolor": "#A2B1C6",
            "ticks": ""
           }
          },
          "title": {
           "x": 0.05
          },
          "xaxis": {
           "automargin": true,
           "gridcolor": "#EBF0F8",
           "linecolor": "#EBF0F8",
           "ticks": "",
           "title": {
            "standoff": 15
           },
           "zerolinecolor": "#EBF0F8",
           "zerolinewidth": 2
          },
          "yaxis": {
           "automargin": true,
           "gridcolor": "#EBF0F8",
           "linecolor": "#EBF0F8",
           "ticks": "",
           "title": {
            "standoff": 15
           },
           "zerolinecolor": "#EBF0F8",
           "zerolinewidth": 2
          }
         }
        },
        "title": {
         "text": "📊 Rolling Variance Over Time (window=30) - Now You Can REALLY See It!"
        },
        "xaxis": {
         "title": {
          "text": "Time"
         }
        },
        "yaxis": {
         "title": {
          "text": "Variance"
         }
        }
       }
      }
     },
     "metadata": {},
     "output_type": "display_data"
    },
    {
     "name": "stdout",
     "output_type": "stream",
     "text": [
      "\n",
      "💡 Key Insight:\n",
      "• Green line variance: ~12.6 (constant)\n",
      "• Red line variance at end: ~1447.7 (HUGE!)\n",
      "• That's a 115x difference!\n"
     ]
    }
   ],
   "source": [
    "# Calculate rolling variance with window size of 30\n",
    "window = 30\n",
    "df_homo = pd.DataFrame({'value': homoscedastic})\n",
    "df_hetero = pd.DataFrame({'value': heteroscedastic})\n",
    "\n",
    "rolling_var_homo = df_homo['value'].rolling(window=window).var()\n",
    "rolling_var_hetero = df_hetero['value'].rolling(window=window).var()\n",
    "\n",
    "# Create comparison plot\n",
    "fig = go.Figure()\n",
    "\n",
    "# Homoscedastic variance (should be flat/constant)\n",
    "fig.add_trace(go.Scatter(\n",
    "    x=time, y=rolling_var_homo,\n",
    "    mode='lines', name='Homoscedastic (stays flat)',\n",
    "    line=dict(color='green', width=3),\n",
    "    fill='tozeroy', fillcolor='rgba(0,255,0,0.2)'\n",
    "))\n",
    "\n",
    "# Heteroscedastic variance (should EXPLODE upward!)\n",
    "fig.add_trace(go.Scatter(\n",
    "    x=time, y=rolling_var_hetero,\n",
    "    mode='lines', name='Heteroscedastic (EXPLODES!)',\n",
    "    line=dict(color='red', width=3),\n",
    "    fill='tozeroy', fillcolor='rgba(255,0,0,0.2)'\n",
    "))\n",
    "\n",
    "# Add annotations\n",
    "fig.add_annotation(\n",
    "    x=100, y=rolling_var_homo.mean(),\n",
    "    text=\"← Stays roughly constant\",\n",
    "    showarrow=True, arrowhead=2,\n",
    "    arrowcolor='green', font=dict(color='green', size=12)\n",
    ")\n",
    "\n",
    "fig.add_annotation(\n",
    "    x=250, y=rolling_var_hetero.values[250] if len(rolling_var_hetero) > 250 else rolling_var_hetero.max(),\n",
    "    text=\"Skyrockets! 🚀\",\n",
    "    showarrow=True, arrowhead=2,\n",
    "    arrowcolor='red', font=dict(color='red', size=12)\n",
    ")\n",
    "\n",
    "fig.update_layout(\n",
    "    title=f'📊 Rolling Variance Over Time (window={window}) - Now You Can REALLY See It!',\n",
    "    xaxis_title='Time',\n",
    "    yaxis_title='Variance',\n",
    "    hovermode='x unified',\n",
    "    template='plotly_white',\n",
    "    height=500,\n",
    "    legend=dict(x=0.02, y=0.98, bgcolor='rgba(255,255,255,0.8)')\n",
    ")\n",
    "\n",
    "fig.show()\n",
    "\n",
    "print(\"\\n💡 Key Insight:\")\n",
    "print(f\"• Green line variance: ~{rolling_var_homo.mean():.1f} (constant)\")\n",
    "print(f\"• Red line variance at end: ~{rolling_var_hetero.values[-1]:.1f} (HUGE!)\")\n",
    "print(f\"• That's a {rolling_var_hetero.values[-1] / rolling_var_homo.mean():.0f}x difference!\")\n"
   ]
  },
  {
   "cell_type": "markdown",
   "id": "a91b97c5",
   "metadata": {},
   "source": [
    "## 4. Autocorrelation Function (ACF)\n",
    "\n",
    "**Autocorrelation** measures the correlation between a time series and a lagged version of itself. It helps us understand:\n",
    "- Whether past values influence future values\n",
    "- The presence of patterns or cycles\n",
    "- How many lags are significant\n",
    "\n",
    "The ACF plot shows correlation coefficients for different lag values. Values outside the shaded confidence bands are considered statistically significant.\n"
   ]
  },
  {
   "cell_type": "code",
   "execution_count": 5,
   "id": "5ec5ed7d",
   "metadata": {},
   "outputs": [
    {
     "data": {
      "application/vnd.plotly.v1+json": {
       "config": {
        "plotlyServerURL": "https://plot.ly"
       },
       "data": [
        {
         "hovertemplate": "Lag: 0<br>ACF: 1.000<extra></extra>",
         "line": {
          "color": "blue",
          "width": 2
         },
         "mode": "lines",
         "showlegend": false,
         "type": "scatter",
         "x": [
          0,
          0
         ],
         "y": [
          0,
          1
         ]
        },
        {
         "hovertemplate": "Lag: 1<br>ACF: 0.793<extra></extra>",
         "line": {
          "color": "blue",
          "width": 2
         },
         "mode": "lines",
         "showlegend": false,
         "type": "scatter",
         "x": [
          1,
          1
         ],
         "y": [
          0,
          0.7932163309821815
         ]
        },
        {
         "hovertemplate": "Lag: 2<br>ACF: 0.669<extra></extra>",
         "line": {
          "color": "blue",
          "width": 2
         },
         "mode": "lines",
         "showlegend": false,
         "type": "scatter",
         "x": [
          2,
          2
         ],
         "y": [
          0,
          0.6692714798801661
         ]
        },
        {
         "hovertemplate": "Lag: 3<br>ACF: 0.560<extra></extra>",
         "line": {
          "color": "blue",
          "width": 2
         },
         "mode": "lines",
         "showlegend": false,
         "type": "scatter",
         "x": [
          3,
          3
         ],
         "y": [
          0,
          0.559859283664333
         ]
        },
        {
         "hovertemplate": "Lag: 4<br>ACF: 0.468<extra></extra>",
         "line": {
          "color": "blue",
          "width": 2
         },
         "mode": "lines",
         "showlegend": false,
         "type": "scatter",
         "x": [
          4,
          4
         ],
         "y": [
          0,
          0.468015148031397
         ]
        },
        {
         "hovertemplate": "Lag: 5<br>ACF: 0.350<extra></extra>",
         "line": {
          "color": "blue",
          "width": 2
         },
         "mode": "lines",
         "showlegend": false,
         "type": "scatter",
         "x": [
          5,
          5
         ],
         "y": [
          0,
          0.34973135555492196
         ]
        },
        {
         "hovertemplate": "Lag: 6<br>ACF: 0.286<extra></extra>",
         "line": {
          "color": "blue",
          "width": 2
         },
         "mode": "lines",
         "showlegend": false,
         "type": "scatter",
         "x": [
          6,
          6
         ],
         "y": [
          0,
          0.2860285167558894
         ]
        },
        {
         "hovertemplate": "Lag: 7<br>ACF: 0.253<extra></extra>",
         "line": {
          "color": "blue",
          "width": 2
         },
         "mode": "lines",
         "showlegend": false,
         "type": "scatter",
         "x": [
          7,
          7
         ],
         "y": [
          0,
          0.25290688621983626
         ]
        },
        {
         "hovertemplate": "Lag: 8<br>ACF: 0.191<extra></extra>",
         "line": {
          "color": "blue",
          "width": 2
         },
         "mode": "lines",
         "showlegend": false,
         "type": "scatter",
         "x": [
          8,
          8
         ],
         "y": [
          0,
          0.19125262479120703
         ]
        },
        {
         "hovertemplate": "Lag: 9<br>ACF: 0.173<extra></extra>",
         "line": {
          "color": "blue",
          "width": 2
         },
         "mode": "lines",
         "showlegend": false,
         "type": "scatter",
         "x": [
          9,
          9
         ],
         "y": [
          0,
          0.17319277261827937
         ]
        },
        {
         "hovertemplate": "Lag: 10<br>ACF: 0.142<extra></extra>",
         "line": {
          "color": "blue",
          "width": 2
         },
         "mode": "lines",
         "showlegend": false,
         "type": "scatter",
         "x": [
          10,
          10
         ],
         "y": [
          0,
          0.14168537989393734
         ]
        },
        {
         "hovertemplate": "Lag: 11<br>ACF: 0.099<extra></extra>",
         "line": {
          "color": "blue",
          "width": 2
         },
         "mode": "lines",
         "showlegend": false,
         "type": "scatter",
         "x": [
          11,
          11
         ],
         "y": [
          0,
          0.09904085172719838
         ]
        },
        {
         "hovertemplate": "Lag: 12<br>ACF: 0.082<extra></extra>",
         "line": {
          "color": "blue",
          "width": 2
         },
         "mode": "lines",
         "showlegend": false,
         "type": "scatter",
         "x": [
          12,
          12
         ],
         "y": [
          0,
          0.08167099634885985
         ]
        },
        {
         "hovertemplate": "Lag: 13<br>ACF: 0.069<extra></extra>",
         "line": {
          "color": "blue",
          "width": 2
         },
         "mode": "lines",
         "showlegend": false,
         "type": "scatter",
         "x": [
          13,
          13
         ],
         "y": [
          0,
          0.06880682569187035
         ]
        },
        {
         "hovertemplate": "Lag: 14<br>ACF: 0.052<extra></extra>",
         "line": {
          "color": "blue",
          "width": 2
         },
         "mode": "lines",
         "showlegend": false,
         "type": "scatter",
         "x": [
          14,
          14
         ],
         "y": [
          0,
          0.051896019170199814
         ]
        },
        {
         "hovertemplate": "Lag: 15<br>ACF: 0.029<extra></extra>",
         "line": {
          "color": "blue",
          "width": 2
         },
         "mode": "lines",
         "showlegend": false,
         "type": "scatter",
         "x": [
          15,
          15
         ],
         "y": [
          0,
          0.029358575715424915
         ]
        },
        {
         "hovertemplate": "Lag: 16<br>ACF: 0.044<extra></extra>",
         "line": {
          "color": "blue",
          "width": 2
         },
         "mode": "lines",
         "showlegend": false,
         "type": "scatter",
         "x": [
          16,
          16
         ],
         "y": [
          0,
          0.04402772675556789
         ]
        },
        {
         "hovertemplate": "Lag: 17<br>ACF: -0.011<extra></extra>",
         "line": {
          "color": "blue",
          "width": 2
         },
         "mode": "lines",
         "showlegend": false,
         "type": "scatter",
         "x": [
          17,
          17
         ],
         "y": [
          0,
          -0.01082252337059034
         ]
        },
        {
         "hovertemplate": "Lag: 18<br>ACF: -0.055<extra></extra>",
         "line": {
          "color": "blue",
          "width": 2
         },
         "mode": "lines",
         "showlegend": false,
         "type": "scatter",
         "x": [
          18,
          18
         ],
         "y": [
          0,
          -0.05465029753183103
         ]
        },
        {
         "hovertemplate": "Lag: 19<br>ACF: -0.088<extra></extra>",
         "line": {
          "color": "blue",
          "width": 2
         },
         "mode": "lines",
         "showlegend": false,
         "type": "scatter",
         "x": [
          19,
          19
         ],
         "y": [
          0,
          -0.0876756159321525
         ]
        },
        {
         "hovertemplate": "Lag: 20<br>ACF: -0.098<extra></extra>",
         "line": {
          "color": "blue",
          "width": 2
         },
         "mode": "lines",
         "showlegend": false,
         "type": "scatter",
         "x": [
          20,
          20
         ],
         "y": [
          0,
          -0.0977452211626023
         ]
        },
        {
         "hovertemplate": "Lag: 21<br>ACF: -0.125<extra></extra>",
         "line": {
          "color": "blue",
          "width": 2
         },
         "mode": "lines",
         "showlegend": false,
         "type": "scatter",
         "x": [
          21,
          21
         ],
         "y": [
          0,
          -0.12522520330679593
         ]
        },
        {
         "hovertemplate": "Lag: 22<br>ACF: -0.123<extra></extra>",
         "line": {
          "color": "blue",
          "width": 2
         },
         "mode": "lines",
         "showlegend": false,
         "type": "scatter",
         "x": [
          22,
          22
         ],
         "y": [
          0,
          -0.12268062601332062
         ]
        },
        {
         "hovertemplate": "Lag: 23<br>ACF: -0.134<extra></extra>",
         "line": {
          "color": "blue",
          "width": 2
         },
         "mode": "lines",
         "showlegend": false,
         "type": "scatter",
         "x": [
          23,
          23
         ],
         "y": [
          0,
          -0.13449280168792604
         ]
        },
        {
         "hovertemplate": "Lag: 24<br>ACF: -0.122<extra></extra>",
         "line": {
          "color": "blue",
          "width": 2
         },
         "mode": "lines",
         "showlegend": false,
         "type": "scatter",
         "x": [
          24,
          24
         ],
         "y": [
          0,
          -0.12211665068578945
         ]
        },
        {
         "hovertemplate": "Lag: 25<br>ACF: -0.107<extra></extra>",
         "line": {
          "color": "blue",
          "width": 2
         },
         "mode": "lines",
         "showlegend": false,
         "type": "scatter",
         "x": [
          25,
          25
         ],
         "y": [
          0,
          -0.10682865142329329
         ]
        },
        {
         "hovertemplate": "Lag: 26<br>ACF: -0.111<extra></extra>",
         "line": {
          "color": "blue",
          "width": 2
         },
         "mode": "lines",
         "showlegend": false,
         "type": "scatter",
         "x": [
          26,
          26
         ],
         "y": [
          0,
          -0.11141570656355494
         ]
        },
        {
         "hovertemplate": "Lag: 27<br>ACF: -0.154<extra></extra>",
         "line": {
          "color": "blue",
          "width": 2
         },
         "mode": "lines",
         "showlegend": false,
         "type": "scatter",
         "x": [
          27,
          27
         ],
         "y": [
          0,
          -0.15414689942726578
         ]
        },
        {
         "hovertemplate": "Lag: 28<br>ACF: -0.165<extra></extra>",
         "line": {
          "color": "blue",
          "width": 2
         },
         "mode": "lines",
         "showlegend": false,
         "type": "scatter",
         "x": [
          28,
          28
         ],
         "y": [
          0,
          -0.16460067548389198
         ]
        },
        {
         "hovertemplate": "Lag: 29<br>ACF: -0.188<extra></extra>",
         "line": {
          "color": "blue",
          "width": 2
         },
         "mode": "lines",
         "showlegend": false,
         "type": "scatter",
         "x": [
          29,
          29
         ],
         "y": [
          0,
          -0.18779462412368875
         ]
        },
        {
         "hovertemplate": "Lag: 30<br>ACF: -0.214<extra></extra>",
         "line": {
          "color": "blue",
          "width": 2
         },
         "mode": "lines",
         "showlegend": false,
         "type": "scatter",
         "x": [
          30,
          30
         ],
         "y": [
          0,
          -0.21402147768570243
         ]
        },
        {
         "hovertemplate": "Lag: 31<br>ACF: -0.232<extra></extra>",
         "line": {
          "color": "blue",
          "width": 2
         },
         "mode": "lines",
         "showlegend": false,
         "type": "scatter",
         "x": [
          31,
          31
         ],
         "y": [
          0,
          -0.23163567809109173
         ]
        },
        {
         "hovertemplate": "Lag: 32<br>ACF: -0.184<extra></extra>",
         "line": {
          "color": "blue",
          "width": 2
         },
         "mode": "lines",
         "showlegend": false,
         "type": "scatter",
         "x": [
          32,
          32
         ],
         "y": [
          0,
          -0.18350336428965125
         ]
        },
        {
         "hovertemplate": "Lag: 33<br>ACF: -0.160<extra></extra>",
         "line": {
          "color": "blue",
          "width": 2
         },
         "mode": "lines",
         "showlegend": false,
         "type": "scatter",
         "x": [
          33,
          33
         ],
         "y": [
          0,
          -0.15966028324933457
         ]
        },
        {
         "hovertemplate": "Lag: 34<br>ACF: -0.128<extra></extra>",
         "line": {
          "color": "blue",
          "width": 2
         },
         "mode": "lines",
         "showlegend": false,
         "type": "scatter",
         "x": [
          34,
          34
         ],
         "y": [
          0,
          -0.12782360772784843
         ]
        },
        {
         "hovertemplate": "Lag: 35<br>ACF: -0.122<extra></extra>",
         "line": {
          "color": "blue",
          "width": 2
         },
         "mode": "lines",
         "showlegend": false,
         "type": "scatter",
         "x": [
          35,
          35
         ],
         "y": [
          0,
          -0.12191452054534331
         ]
        },
        {
         "hovertemplate": "Lag: 36<br>ACF: -0.110<extra></extra>",
         "line": {
          "color": "blue",
          "width": 2
         },
         "mode": "lines",
         "showlegend": false,
         "type": "scatter",
         "x": [
          36,
          36
         ],
         "y": [
          0,
          -0.10972032221590015
         ]
        },
        {
         "hovertemplate": "Lag: 37<br>ACF: -0.100<extra></extra>",
         "line": {
          "color": "blue",
          "width": 2
         },
         "mode": "lines",
         "showlegend": false,
         "type": "scatter",
         "x": [
          37,
          37
         ],
         "y": [
          0,
          -0.1001934609218261
         ]
        },
        {
         "hovertemplate": "Lag: 38<br>ACF: -0.086<extra></extra>",
         "line": {
          "color": "blue",
          "width": 2
         },
         "mode": "lines",
         "showlegend": false,
         "type": "scatter",
         "x": [
          38,
          38
         ],
         "y": [
          0,
          -0.08573229015535479
         ]
        },
        {
         "hovertemplate": "Lag: 39<br>ACF: -0.088<extra></extra>",
         "line": {
          "color": "blue",
          "width": 2
         },
         "mode": "lines",
         "showlegend": false,
         "type": "scatter",
         "x": [
          39,
          39
         ],
         "y": [
          0,
          -0.08807409003507659
         ]
        },
        {
         "hovertemplate": "Lag: 40<br>ACF: -0.095<extra></extra>",
         "line": {
          "color": "blue",
          "width": 2
         },
         "mode": "lines",
         "showlegend": false,
         "type": "scatter",
         "x": [
          40,
          40
         ],
         "y": [
          0,
          -0.09545282266408209
         ]
        },
        {
         "hovertemplate": "Lag: %{x}<br>ACF: %{y:.3f}<extra></extra>",
         "marker": {
          "color": "blue",
          "size": 8
         },
         "mode": "markers",
         "name": "ACF",
         "type": "scatter",
         "x": {
          "bdata": "AAECAwQFBgcICQoLDA0ODxAREhMUFRYXGBkaGxwdHh8gISIjJCUmJyg=",
          "dtype": "i1"
         },
         "y": {
          "bdata": "AAAAAAAA8D8xFwc3B2LpPwFjxwWsauU/1mg2BF7q4T/s9LTO9fPdP/Sfn5//YdY/3SdMjUpO0j881U9doC/QP2pOYEz3esg/EEgmRy4rxj87n3scvyLCP7PkIsO9Wrk/Zp9Z8mPotD9gkRb6Up2xP4DXQXIdkqo/CTU4qiwQnj8ylRBdzYqmP5K7fn8eKoa/H1U7sR/7q78M0xW/6HG2v2fRO7DUBbm/xjdrJGEHwL8ffJRc/2e/v+4FZmQPN8G/5hX+bAlDv79EiiNcH1m7v+mB81+9hby/vPLo6RW7w79fKQ2LohHFv9jofHynCci/o52mRw5ly7+Hd/7mPKbNv04+KsoJfce/mFODh79vxL8VhmwjhlzAv01Xpj7KNb+/K7afi6EWvL8Gq+5VR6a5v7GtbSaN8rW/Z1tTCAaMtr/iMqefmG+4vw==",
          "dtype": "f8"
         }
        }
       ],
       "layout": {
        "annotations": [
         {
          "showarrow": false,
          "text": "95% Confidence",
          "x": 1,
          "xanchor": "left",
          "xref": "x domain",
          "y": 0.1385929291125633,
          "yanchor": "middle",
          "yref": "y"
         }
        ],
        "height": 500,
        "shapes": [
         {
          "line": {
           "color": "gray",
           "dash": "dash"
          },
          "type": "line",
          "x0": 0,
          "x1": 1,
          "xref": "x domain",
          "y0": 0.1385929291125633,
          "y1": 0.1385929291125633,
          "yref": "y"
         },
         {
          "line": {
           "color": "gray",
           "dash": "dash"
          },
          "type": "line",
          "x0": 0,
          "x1": 1,
          "xref": "x domain",
          "y0": -0.1385929291125633,
          "y1": -0.1385929291125633,
          "yref": "y"
         },
         {
          "line": {
           "color": "black",
           "width": 1
          },
          "type": "line",
          "x0": 0,
          "x1": 1,
          "xref": "x domain",
          "y0": 0,
          "y1": 0,
          "yref": "y"
         }
        ],
        "showlegend": false,
        "template": {
         "data": {
          "bar": [
           {
            "error_x": {
             "color": "#2a3f5f"
            },
            "error_y": {
             "color": "#2a3f5f"
            },
            "marker": {
             "line": {
              "color": "white",
              "width": 0.5
             },
             "pattern": {
              "fillmode": "overlay",
              "size": 10,
              "solidity": 0.2
             }
            },
            "type": "bar"
           }
          ],
          "barpolar": [
           {
            "marker": {
             "line": {
              "color": "white",
              "width": 0.5
             },
             "pattern": {
              "fillmode": "overlay",
              "size": 10,
              "solidity": 0.2
             }
            },
            "type": "barpolar"
           }
          ],
          "carpet": [
           {
            "aaxis": {
             "endlinecolor": "#2a3f5f",
             "gridcolor": "#C8D4E3",
             "linecolor": "#C8D4E3",
             "minorgridcolor": "#C8D4E3",
             "startlinecolor": "#2a3f5f"
            },
            "baxis": {
             "endlinecolor": "#2a3f5f",
             "gridcolor": "#C8D4E3",
             "linecolor": "#C8D4E3",
             "minorgridcolor": "#C8D4E3",
             "startlinecolor": "#2a3f5f"
            },
            "type": "carpet"
           }
          ],
          "choropleth": [
           {
            "colorbar": {
             "outlinewidth": 0,
             "ticks": ""
            },
            "type": "choropleth"
           }
          ],
          "contour": [
           {
            "colorbar": {
             "outlinewidth": 0,
             "ticks": ""
            },
            "colorscale": [
             [
              0,
              "#0d0887"
             ],
             [
              0.1111111111111111,
              "#46039f"
             ],
             [
              0.2222222222222222,
              "#7201a8"
             ],
             [
              0.3333333333333333,
              "#9c179e"
             ],
             [
              0.4444444444444444,
              "#bd3786"
             ],
             [
              0.5555555555555556,
              "#d8576b"
             ],
             [
              0.6666666666666666,
              "#ed7953"
             ],
             [
              0.7777777777777778,
              "#fb9f3a"
             ],
             [
              0.8888888888888888,
              "#fdca26"
             ],
             [
              1,
              "#f0f921"
             ]
            ],
            "type": "contour"
           }
          ],
          "contourcarpet": [
           {
            "colorbar": {
             "outlinewidth": 0,
             "ticks": ""
            },
            "type": "contourcarpet"
           }
          ],
          "heatmap": [
           {
            "colorbar": {
             "outlinewidth": 0,
             "ticks": ""
            },
            "colorscale": [
             [
              0,
              "#0d0887"
             ],
             [
              0.1111111111111111,
              "#46039f"
             ],
             [
              0.2222222222222222,
              "#7201a8"
             ],
             [
              0.3333333333333333,
              "#9c179e"
             ],
             [
              0.4444444444444444,
              "#bd3786"
             ],
             [
              0.5555555555555556,
              "#d8576b"
             ],
             [
              0.6666666666666666,
              "#ed7953"
             ],
             [
              0.7777777777777778,
              "#fb9f3a"
             ],
             [
              0.8888888888888888,
              "#fdca26"
             ],
             [
              1,
              "#f0f921"
             ]
            ],
            "type": "heatmap"
           }
          ],
          "histogram": [
           {
            "marker": {
             "pattern": {
              "fillmode": "overlay",
              "size": 10,
              "solidity": 0.2
             }
            },
            "type": "histogram"
           }
          ],
          "histogram2d": [
           {
            "colorbar": {
             "outlinewidth": 0,
             "ticks": ""
            },
            "colorscale": [
             [
              0,
              "#0d0887"
             ],
             [
              0.1111111111111111,
              "#46039f"
             ],
             [
              0.2222222222222222,
              "#7201a8"
             ],
             [
              0.3333333333333333,
              "#9c179e"
             ],
             [
              0.4444444444444444,
              "#bd3786"
             ],
             [
              0.5555555555555556,
              "#d8576b"
             ],
             [
              0.6666666666666666,
              "#ed7953"
             ],
             [
              0.7777777777777778,
              "#fb9f3a"
             ],
             [
              0.8888888888888888,
              "#fdca26"
             ],
             [
              1,
              "#f0f921"
             ]
            ],
            "type": "histogram2d"
           }
          ],
          "histogram2dcontour": [
           {
            "colorbar": {
             "outlinewidth": 0,
             "ticks": ""
            },
            "colorscale": [
             [
              0,
              "#0d0887"
             ],
             [
              0.1111111111111111,
              "#46039f"
             ],
             [
              0.2222222222222222,
              "#7201a8"
             ],
             [
              0.3333333333333333,
              "#9c179e"
             ],
             [
              0.4444444444444444,
              "#bd3786"
             ],
             [
              0.5555555555555556,
              "#d8576b"
             ],
             [
              0.6666666666666666,
              "#ed7953"
             ],
             [
              0.7777777777777778,
              "#fb9f3a"
             ],
             [
              0.8888888888888888,
              "#fdca26"
             ],
             [
              1,
              "#f0f921"
             ]
            ],
            "type": "histogram2dcontour"
           }
          ],
          "mesh3d": [
           {
            "colorbar": {
             "outlinewidth": 0,
             "ticks": ""
            },
            "type": "mesh3d"
           }
          ],
          "parcoords": [
           {
            "line": {
             "colorbar": {
              "outlinewidth": 0,
              "ticks": ""
             }
            },
            "type": "parcoords"
           }
          ],
          "pie": [
           {
            "automargin": true,
            "type": "pie"
           }
          ],
          "scatter": [
           {
            "fillpattern": {
             "fillmode": "overlay",
             "size": 10,
             "solidity": 0.2
            },
            "type": "scatter"
           }
          ],
          "scatter3d": [
           {
            "line": {
             "colorbar": {
              "outlinewidth": 0,
              "ticks": ""
             }
            },
            "marker": {
             "colorbar": {
              "outlinewidth": 0,
              "ticks": ""
             }
            },
            "type": "scatter3d"
           }
          ],
          "scattercarpet": [
           {
            "marker": {
             "colorbar": {
              "outlinewidth": 0,
              "ticks": ""
             }
            },
            "type": "scattercarpet"
           }
          ],
          "scattergeo": [
           {
            "marker": {
             "colorbar": {
              "outlinewidth": 0,
              "ticks": ""
             }
            },
            "type": "scattergeo"
           }
          ],
          "scattergl": [
           {
            "marker": {
             "colorbar": {
              "outlinewidth": 0,
              "ticks": ""
             }
            },
            "type": "scattergl"
           }
          ],
          "scattermap": [
           {
            "marker": {
             "colorbar": {
              "outlinewidth": 0,
              "ticks": ""
             }
            },
            "type": "scattermap"
           }
          ],
          "scattermapbox": [
           {
            "marker": {
             "colorbar": {
              "outlinewidth": 0,
              "ticks": ""
             }
            },
            "type": "scattermapbox"
           }
          ],
          "scatterpolar": [
           {
            "marker": {
             "colorbar": {
              "outlinewidth": 0,
              "ticks": ""
             }
            },
            "type": "scatterpolar"
           }
          ],
          "scatterpolargl": [
           {
            "marker": {
             "colorbar": {
              "outlinewidth": 0,
              "ticks": ""
             }
            },
            "type": "scatterpolargl"
           }
          ],
          "scatterternary": [
           {
            "marker": {
             "colorbar": {
              "outlinewidth": 0,
              "ticks": ""
             }
            },
            "type": "scatterternary"
           }
          ],
          "surface": [
           {
            "colorbar": {
             "outlinewidth": 0,
             "ticks": ""
            },
            "colorscale": [
             [
              0,
              "#0d0887"
             ],
             [
              0.1111111111111111,
              "#46039f"
             ],
             [
              0.2222222222222222,
              "#7201a8"
             ],
             [
              0.3333333333333333,
              "#9c179e"
             ],
             [
              0.4444444444444444,
              "#bd3786"
             ],
             [
              0.5555555555555556,
              "#d8576b"
             ],
             [
              0.6666666666666666,
              "#ed7953"
             ],
             [
              0.7777777777777778,
              "#fb9f3a"
             ],
             [
              0.8888888888888888,
              "#fdca26"
             ],
             [
              1,
              "#f0f921"
             ]
            ],
            "type": "surface"
           }
          ],
          "table": [
           {
            "cells": {
             "fill": {
              "color": "#EBF0F8"
             },
             "line": {
              "color": "white"
             }
            },
            "header": {
             "fill": {
              "color": "#C8D4E3"
             },
             "line": {
              "color": "white"
             }
            },
            "type": "table"
           }
          ]
         },
         "layout": {
          "annotationdefaults": {
           "arrowcolor": "#2a3f5f",
           "arrowhead": 0,
           "arrowwidth": 1
          },
          "autotypenumbers": "strict",
          "coloraxis": {
           "colorbar": {
            "outlinewidth": 0,
            "ticks": ""
           }
          },
          "colorscale": {
           "diverging": [
            [
             0,
             "#8e0152"
            ],
            [
             0.1,
             "#c51b7d"
            ],
            [
             0.2,
             "#de77ae"
            ],
            [
             0.3,
             "#f1b6da"
            ],
            [
             0.4,
             "#fde0ef"
            ],
            [
             0.5,
             "#f7f7f7"
            ],
            [
             0.6,
             "#e6f5d0"
            ],
            [
             0.7,
             "#b8e186"
            ],
            [
             0.8,
             "#7fbc41"
            ],
            [
             0.9,
             "#4d9221"
            ],
            [
             1,
             "#276419"
            ]
           ],
           "sequential": [
            [
             0,
             "#0d0887"
            ],
            [
             0.1111111111111111,
             "#46039f"
            ],
            [
             0.2222222222222222,
             "#7201a8"
            ],
            [
             0.3333333333333333,
             "#9c179e"
            ],
            [
             0.4444444444444444,
             "#bd3786"
            ],
            [
             0.5555555555555556,
             "#d8576b"
            ],
            [
             0.6666666666666666,
             "#ed7953"
            ],
            [
             0.7777777777777778,
             "#fb9f3a"
            ],
            [
             0.8888888888888888,
             "#fdca26"
            ],
            [
             1,
             "#f0f921"
            ]
           ],
           "sequentialminus": [
            [
             0,
             "#0d0887"
            ],
            [
             0.1111111111111111,
             "#46039f"
            ],
            [
             0.2222222222222222,
             "#7201a8"
            ],
            [
             0.3333333333333333,
             "#9c179e"
            ],
            [
             0.4444444444444444,
             "#bd3786"
            ],
            [
             0.5555555555555556,
             "#d8576b"
            ],
            [
             0.6666666666666666,
             "#ed7953"
            ],
            [
             0.7777777777777778,
             "#fb9f3a"
            ],
            [
             0.8888888888888888,
             "#fdca26"
            ],
            [
             1,
             "#f0f921"
            ]
           ]
          },
          "colorway": [
           "#636efa",
           "#EF553B",
           "#00cc96",
           "#ab63fa",
           "#FFA15A",
           "#19d3f3",
           "#FF6692",
           "#B6E880",
           "#FF97FF",
           "#FECB52"
          ],
          "font": {
           "color": "#2a3f5f"
          },
          "geo": {
           "bgcolor": "white",
           "lakecolor": "white",
           "landcolor": "white",
           "showlakes": true,
           "showland": true,
           "subunitcolor": "#C8D4E3"
          },
          "hoverlabel": {
           "align": "left"
          },
          "hovermode": "closest",
          "mapbox": {
           "style": "light"
          },
          "paper_bgcolor": "white",
          "plot_bgcolor": "white",
          "polar": {
           "angularaxis": {
            "gridcolor": "#EBF0F8",
            "linecolor": "#EBF0F8",
            "ticks": ""
           },
           "bgcolor": "white",
           "radialaxis": {
            "gridcolor": "#EBF0F8",
            "linecolor": "#EBF0F8",
            "ticks": ""
           }
          },
          "scene": {
           "xaxis": {
            "backgroundcolor": "white",
            "gridcolor": "#DFE8F3",
            "gridwidth": 2,
            "linecolor": "#EBF0F8",
            "showbackground": true,
            "ticks": "",
            "zerolinecolor": "#EBF0F8"
           },
           "yaxis": {
            "backgroundcolor": "white",
            "gridcolor": "#DFE8F3",
            "gridwidth": 2,
            "linecolor": "#EBF0F8",
            "showbackground": true,
            "ticks": "",
            "zerolinecolor": "#EBF0F8"
           },
           "zaxis": {
            "backgroundcolor": "white",
            "gridcolor": "#DFE8F3",
            "gridwidth": 2,
            "linecolor": "#EBF0F8",
            "showbackground": true,
            "ticks": "",
            "zerolinecolor": "#EBF0F8"
           }
          },
          "shapedefaults": {
           "line": {
            "color": "#2a3f5f"
           }
          },
          "ternary": {
           "aaxis": {
            "gridcolor": "#DFE8F3",
            "linecolor": "#A2B1C6",
            "ticks": ""
           },
           "baxis": {
            "gridcolor": "#DFE8F3",
            "linecolor": "#A2B1C6",
            "ticks": ""
           },
           "bgcolor": "white",
           "caxis": {
            "gridcolor": "#DFE8F3",
            "linecolor": "#A2B1C6",
            "ticks": ""
           }
          },
          "title": {
           "x": 0.05
          },
          "xaxis": {
           "automargin": true,
           "gridcolor": "#EBF0F8",
           "linecolor": "#EBF0F8",
           "ticks": "",
           "title": {
            "standoff": 15
           },
           "zerolinecolor": "#EBF0F8",
           "zerolinewidth": 2
          },
          "yaxis": {
           "automargin": true,
           "gridcolor": "#EBF0F8",
           "linecolor": "#EBF0F8",
           "ticks": "",
           "title": {
            "standoff": 15
           },
           "zerolinecolor": "#EBF0F8",
           "zerolinewidth": 2
          }
         }
        },
        "title": {
         "text": "Autocorrelation Function (ACF)"
        },
        "xaxis": {
         "title": {
          "text": "Lag"
         }
        },
        "yaxis": {
         "title": {
          "text": "Correlation"
         }
        }
       }
      }
     },
     "metadata": {},
     "output_type": "display_data"
    }
   ],
   "source": [
    "# Generate a time series with strong autocorrelation\n",
    "n = 200\n",
    "ar_series = np.zeros(n)\n",
    "ar_series[0] = np.random.normal(0, 1)\n",
    "\n",
    "# AR(1) process: y_t = 0.8 * y_{t-1} + noise\n",
    "for t in range(1, n):\n",
    "    ar_series[t] = 0.8 * ar_series[t-1] + np.random.normal(0, 1)\n",
    "\n",
    "# Calculate ACF\n",
    "acf_values = acf(ar_series, nlags=40, alpha=0.05)\n",
    "acf_corr = acf_values[0]\n",
    "acf_confint = acf_values[1]\n",
    "\n",
    "# Create interactive ACF plot\n",
    "lags = np.arange(len(acf_corr))\n",
    "fig = go.Figure()\n",
    "\n",
    "# Add stems (vertical lines)\n",
    "for i in range(len(lags)):\n",
    "    fig.add_trace(go.Scatter(\n",
    "        x=[lags[i], lags[i]], \n",
    "        y=[0, acf_corr[i]],\n",
    "        mode='lines',\n",
    "        line=dict(color='blue', width=2),\n",
    "        showlegend=False,\n",
    "        hovertemplate=f'Lag: {lags[i]}<br>ACF: {acf_corr[i]:.3f}<extra></extra>'\n",
    "    ))\n",
    "\n",
    "# Add markers at the top of stems\n",
    "fig.add_trace(go.Scatter(\n",
    "    x=lags, y=acf_corr,\n",
    "    mode='markers',\n",
    "    marker=dict(size=8, color='blue'),\n",
    "    name='ACF',\n",
    "    hovertemplate='Lag: %{x}<br>ACF: %{y:.3f}<extra></extra>'\n",
    "))\n",
    "\n",
    "# Add confidence intervals\n",
    "confidence_band = 1.96 / np.sqrt(len(ar_series))\n",
    "fig.add_hline(y=confidence_band, line_dash=\"dash\", line_color=\"gray\", \n",
    "              annotation_text=\"95% Confidence\", annotation_position=\"right\")\n",
    "fig.add_hline(y=-confidence_band, line_dash=\"dash\", line_color=\"gray\")\n",
    "fig.add_hline(y=0, line_color=\"black\", line_width=1)\n",
    "\n",
    "fig.update_layout(\n",
    "    title='Autocorrelation Function (ACF)',\n",
    "    xaxis_title='Lag',\n",
    "    yaxis_title='Correlation',\n",
    "    template='plotly_white',\n",
    "    height=500,\n",
    "    showlegend=False\n",
    ")\n",
    "\n",
    "fig.show()\n"
   ]
  },
  {
   "cell_type": "markdown",
   "id": "2c185907",
   "metadata": {},
   "source": [
    "## 5. Partial Autocorrelation Function (PACF)\n",
    "\n",
    "**Partial Autocorrelation** measures the correlation between a time series and its lag, after removing the effects of intermediate lags. This helps us:\n",
    "- Identify the direct relationship between observations\n",
    "- Determine the order of AR (AutoRegressive) models\n",
    "- Distinguish direct effects from indirect effects\n",
    "\n",
    "**Key Difference:**\n",
    "- **ACF** shows both direct and indirect correlations\n",
    "- **PACF** shows only direct correlations (controlling for intermediate lags)\n"
   ]
  },
  {
   "cell_type": "code",
   "execution_count": 6,
   "id": "4e1d8a79",
   "metadata": {},
   "outputs": [
    {
     "data": {
      "application/vnd.plotly.v1+json": {
       "config": {
        "plotlyServerURL": "https://plot.ly"
       },
       "data": [
        {
         "hovertemplate": "Lag: 0<br>PACF: 1.000<extra></extra>",
         "line": {
          "color": "red",
          "width": 2
         },
         "mode": "lines",
         "showlegend": false,
         "type": "scatter",
         "x": [
          0,
          0
         ],
         "y": [
          0,
          1
         ]
        },
        {
         "hovertemplate": "Lag: 1<br>PACF: 0.797<extra></extra>",
         "line": {
          "color": "red",
          "width": 2
         },
         "mode": "lines",
         "showlegend": false,
         "type": "scatter",
         "x": [
          1,
          1
         ],
         "y": [
          0,
          0.7972023426956596
         ]
        },
        {
         "hovertemplate": "Lag: 2<br>PACF: 0.111<extra></extra>",
         "line": {
          "color": "red",
          "width": 2
         },
         "mode": "lines",
         "showlegend": false,
         "type": "scatter",
         "x": [
          2,
          2
         ],
         "y": [
          0,
          0.11112134797813718
         ]
        },
        {
         "hovertemplate": "Lag: 3<br>PACF: 0.002<extra></extra>",
         "line": {
          "color": "red",
          "width": 2
         },
         "mode": "lines",
         "showlegend": false,
         "type": "scatter",
         "x": [
          3,
          3
         ],
         "y": [
          0,
          0.0020885606383848204
         ]
        },
        {
         "hovertemplate": "Lag: 4<br>PACF: -0.002<extra></extra>",
         "line": {
          "color": "red",
          "width": 2
         },
         "mode": "lines",
         "showlegend": false,
         "type": "scatter",
         "x": [
          4,
          4
         ],
         "y": [
          0,
          -0.002373804470178774
         ]
        },
        {
         "hovertemplate": "Lag: 5<br>PACF: -0.119<extra></extra>",
         "line": {
          "color": "red",
          "width": 2
         },
         "mode": "lines",
         "showlegend": false,
         "type": "scatter",
         "x": [
          5,
          5
         ],
         "y": [
          0,
          -0.11869726255728304
         ]
        },
        {
         "hovertemplate": "Lag: 6<br>PACF: 0.051<extra></extra>",
         "line": {
          "color": "red",
          "width": 2
         },
         "mode": "lines",
         "showlegend": false,
         "type": "scatter",
         "x": [
          6,
          6
         ],
         "y": [
          0,
          0.05074249928968307
         ]
        },
        {
         "hovertemplate": "Lag: 7<br>PACF: 0.075<extra></extra>",
         "line": {
          "color": "red",
          "width": 2
         },
         "mode": "lines",
         "showlegend": false,
         "type": "scatter",
         "x": [
          7,
          7
         ],
         "y": [
          0,
          0.07515829285335839
         ]
        },
        {
         "hovertemplate": "Lag: 8<br>PACF: -0.076<extra></extra>",
         "line": {
          "color": "red",
          "width": 2
         },
         "mode": "lines",
         "showlegend": false,
         "type": "scatter",
         "x": [
          8,
          8
         ],
         "y": [
          0,
          -0.07568674201918671
         ]
        },
        {
         "hovertemplate": "Lag: 9<br>PACF: 0.076<extra></extra>",
         "line": {
          "color": "red",
          "width": 2
         },
         "mode": "lines",
         "showlegend": false,
         "type": "scatter",
         "x": [
          9,
          9
         ],
         "y": [
          0,
          0.07618354865429364
         ]
        },
        {
         "hovertemplate": "Lag: 10<br>PACF: -0.039<extra></extra>",
         "line": {
          "color": "red",
          "width": 2
         },
         "mode": "lines",
         "showlegend": false,
         "type": "scatter",
         "x": [
          10,
          10
         ],
         "y": [
          0,
          -0.03885426592593964
         ]
        },
        {
         "hovertemplate": "Lag: 11<br>PACF: -0.069<extra></extra>",
         "line": {
          "color": "red",
          "width": 2
         },
         "mode": "lines",
         "showlegend": false,
         "type": "scatter",
         "x": [
          11,
          11
         ],
         "y": [
          0,
          -0.06873533132818285
         ]
        },
        {
         "hovertemplate": "Lag: 12<br>PACF: 0.061<extra></extra>",
         "line": {
          "color": "red",
          "width": 2
         },
         "mode": "lines",
         "showlegend": false,
         "type": "scatter",
         "x": [
          12,
          12
         ],
         "y": [
          0,
          0.06070219667051729
         ]
        },
        {
         "hovertemplate": "Lag: 13<br>PACF: -0.009<extra></extra>",
         "line": {
          "color": "red",
          "width": 2
         },
         "mode": "lines",
         "showlegend": false,
         "type": "scatter",
         "x": [
          13,
          13
         ],
         "y": [
          0,
          -0.008949112867461603
         ]
        },
        {
         "hovertemplate": "Lag: 14<br>PACF: -0.007<extra></extra>",
         "line": {
          "color": "red",
          "width": 2
         },
         "mode": "lines",
         "showlegend": false,
         "type": "scatter",
         "x": [
          14,
          14
         ],
         "y": [
          0,
          -0.007282786472062445
         ]
        },
        {
         "hovertemplate": "Lag: 15<br>PACF: -0.011<extra></extra>",
         "line": {
          "color": "red",
          "width": 2
         },
         "mode": "lines",
         "showlegend": false,
         "type": "scatter",
         "x": [
          15,
          15
         ],
         "y": [
          0,
          -0.01081358354210743
         ]
        },
        {
         "hovertemplate": "Lag: 16<br>PACF: 0.052<extra></extra>",
         "line": {
          "color": "red",
          "width": 2
         },
         "mode": "lines",
         "showlegend": false,
         "type": "scatter",
         "x": [
          16,
          16
         ],
         "y": [
          0,
          0.051778192076972075
         ]
        },
        {
         "hovertemplate": "Lag: 17<br>PACF: -0.167<extra></extra>",
         "line": {
          "color": "red",
          "width": 2
         },
         "mode": "lines",
         "showlegend": false,
         "type": "scatter",
         "x": [
          17,
          17
         ],
         "y": [
          0,
          -0.1669067610188888
         ]
        },
        {
         "hovertemplate": "Lag: 18<br>PACF: -0.053<extra></extra>",
         "line": {
          "color": "red",
          "width": 2
         },
         "mode": "lines",
         "showlegend": false,
         "type": "scatter",
         "x": [
          18,
          18
         ],
         "y": [
          0,
          -0.052919702014428235
         ]
        },
        {
         "hovertemplate": "Lag: 19<br>PACF: -0.028<extra></extra>",
         "line": {
          "color": "red",
          "width": 2
         },
         "mode": "lines",
         "showlegend": false,
         "type": "scatter",
         "x": [
          19,
          19
         ],
         "y": [
          0,
          -0.028154582840097454
         ]
        },
        {
         "hovertemplate": "Lag: 20<br>PACF: 0.024<extra></extra>",
         "line": {
          "color": "red",
          "width": 2
         },
         "mode": "lines",
         "showlegend": false,
         "type": "scatter",
         "x": [
          20,
          20
         ],
         "y": [
          0,
          0.023833273971084205
         ]
        },
        {
         "hovertemplate": "Lag: 21<br>PACF: -0.020<extra></extra>",
         "line": {
          "color": "red",
          "width": 2
         },
         "mode": "lines",
         "showlegend": false,
         "type": "scatter",
         "x": [
          21,
          21
         ],
         "y": [
          0,
          -0.01983697879526624
         ]
        },
        {
         "hovertemplate": "Lag: 22<br>PACF: 0.027<extra></extra>",
         "line": {
          "color": "red",
          "width": 2
         },
         "mode": "lines",
         "showlegend": false,
         "type": "scatter",
         "x": [
          22,
          22
         ],
         "y": [
          0,
          0.026532940033951402
         ]
        },
        {
         "hovertemplate": "Lag: 23<br>PACF: -0.085<extra></extra>",
         "line": {
          "color": "red",
          "width": 2
         },
         "mode": "lines",
         "showlegend": false,
         "type": "scatter",
         "x": [
          23,
          23
         ],
         "y": [
          0,
          -0.08456603588072403
         ]
        },
        {
         "hovertemplate": "Lag: 24<br>PACF: 0.067<extra></extra>",
         "line": {
          "color": "red",
          "width": 2
         },
         "mode": "lines",
         "showlegend": false,
         "type": "scatter",
         "x": [
          24,
          24
         ],
         "y": [
          0,
          0.06726605380120927
         ]
        },
        {
         "hovertemplate": "Lag: 25<br>PACF: 0.011<extra></extra>",
         "line": {
          "color": "red",
          "width": 2
         },
         "mode": "lines",
         "showlegend": false,
         "type": "scatter",
         "x": [
          25,
          25
         ],
         "y": [
          0,
          0.01140103012372543
         ]
        },
        {
         "hovertemplate": "Lag: 26<br>PACF: -0.071<extra></extra>",
         "line": {
          "color": "red",
          "width": 2
         },
         "mode": "lines",
         "showlegend": false,
         "type": "scatter",
         "x": [
          26,
          26
         ],
         "y": [
          0,
          -0.07087822162119935
         ]
        },
        {
         "hovertemplate": "Lag: 27<br>PACF: -0.130<extra></extra>",
         "line": {
          "color": "red",
          "width": 2
         },
         "mode": "lines",
         "showlegend": false,
         "type": "scatter",
         "x": [
          27,
          27
         ],
         "y": [
          0,
          -0.12956458719424147
         ]
        },
        {
         "hovertemplate": "Lag: 28<br>PACF: 0.002<extra></extra>",
         "line": {
          "color": "red",
          "width": 2
         },
         "mode": "lines",
         "showlegend": false,
         "type": "scatter",
         "x": [
          28,
          28
         ],
         "y": [
          0,
          0.0018511000056595154
         ]
        },
        {
         "hovertemplate": "Lag: 29<br>PACF: -0.085<extra></extra>",
         "line": {
          "color": "red",
          "width": 2
         },
         "mode": "lines",
         "showlegend": false,
         "type": "scatter",
         "x": [
          29,
          29
         ],
         "y": [
          0,
          -0.085485776579402
         ]
        },
        {
         "hovertemplate": "Lag: 30<br>PACF: -0.031<extra></extra>",
         "line": {
          "color": "red",
          "width": 2
         },
         "mode": "lines",
         "showlegend": false,
         "type": "scatter",
         "x": [
          30,
          30
         ],
         "y": [
          0,
          -0.03146487007826658
         ]
        },
        {
         "hovertemplate": "Lag: 31<br>PACF: -0.019<extra></extra>",
         "line": {
          "color": "red",
          "width": 2
         },
         "mode": "lines",
         "showlegend": false,
         "type": "scatter",
         "x": [
          31,
          31
         ],
         "y": [
          0,
          -0.019461516937917447
         ]
        },
        {
         "hovertemplate": "Lag: 32<br>PACF: 0.138<extra></extra>",
         "line": {
          "color": "red",
          "width": 2
         },
         "mode": "lines",
         "showlegend": false,
         "type": "scatter",
         "x": [
          32,
          32
         ],
         "y": [
          0,
          0.13760512424174398
         ]
        },
        {
         "hovertemplate": "Lag: 33<br>PACF: 0.026<extra></extra>",
         "line": {
          "color": "red",
          "width": 2
         },
         "mode": "lines",
         "showlegend": false,
         "type": "scatter",
         "x": [
          33,
          33
         ],
         "y": [
          0,
          0.0259228085752578
         ]
        },
        {
         "hovertemplate": "Lag: 34<br>PACF: 0.039<extra></extra>",
         "line": {
          "color": "red",
          "width": 2
         },
         "mode": "lines",
         "showlegend": false,
         "type": "scatter",
         "x": [
          34,
          34
         ],
         "y": [
          0,
          0.03948710093191158
         ]
        },
        {
         "hovertemplate": "Lag: 35<br>PACF: -0.103<extra></extra>",
         "line": {
          "color": "red",
          "width": 2
         },
         "mode": "lines",
         "showlegend": false,
         "type": "scatter",
         "x": [
          35,
          35
         ],
         "y": [
          0,
          -0.10327673995514974
         ]
        },
        {
         "hovertemplate": "Lag: 36<br>PACF: -0.034<extra></extra>",
         "line": {
          "color": "red",
          "width": 2
         },
         "mode": "lines",
         "showlegend": false,
         "type": "scatter",
         "x": [
          36,
          36
         ],
         "y": [
          0,
          -0.03420569908653288
         ]
        },
        {
         "hovertemplate": "Lag: 37<br>PACF: 0.028<extra></extra>",
         "line": {
          "color": "red",
          "width": 2
         },
         "mode": "lines",
         "showlegend": false,
         "type": "scatter",
         "x": [
          37,
          37
         ],
         "y": [
          0,
          0.02772922649517534
         ]
        },
        {
         "hovertemplate": "Lag: 38<br>PACF: -0.002<extra></extra>",
         "line": {
          "color": "red",
          "width": 2
         },
         "mode": "lines",
         "showlegend": false,
         "type": "scatter",
         "x": [
          38,
          38
         ],
         "y": [
          0,
          -0.0016454763445299101
         ]
        },
        {
         "hovertemplate": "Lag: 39<br>PACF: -0.041<extra></extra>",
         "line": {
          "color": "red",
          "width": 2
         },
         "mode": "lines",
         "showlegend": false,
         "type": "scatter",
         "x": [
          39,
          39
         ],
         "y": [
          0,
          -0.04055030267171993
         ]
        },
        {
         "hovertemplate": "Lag: 40<br>PACF: -0.050<extra></extra>",
         "line": {
          "color": "red",
          "width": 2
         },
         "mode": "lines",
         "showlegend": false,
         "type": "scatter",
         "x": [
          40,
          40
         ],
         "y": [
          0,
          -0.05043503191263203
         ]
        },
        {
         "hovertemplate": "Lag: %{x}<br>PACF: %{y:.3f}<extra></extra>",
         "marker": {
          "color": "red",
          "size": 8
         },
         "mode": "markers",
         "name": "PACF",
         "type": "scatter",
         "x": {
          "bdata": "AAECAwQFBgcICQoLDA0ODxAREhMUFRYXGBkaGxwdHh8gISIjJCUmJyg=",
          "dtype": "i1"
         },
         "y": {
          "bdata": "AAAAAAAA8D+mhMV8roLpP90adNtycrw/IAVndAccYT8X5yCSOnJjv93pzpzxYr6/C9juvev6qT+3D9Tpkj2zPwKUttE0YLO/bqL22cOAsz/+iuzStOSjv35fIoCjmLG/B4/9ulsUrz9LbsCY6VOCv1FHihuO1H2/YMtTnW4lhr8tszvTq4KqP2BZB2QzXcW/FpzuikoYq7+qeh8SjtScv3G2DPG/Z5g/Xl21HCVQlL/Qptl2cyubP0zHdaYeprW/HQk1HVk4sT/TSC1cbFmHP82X3DsTJbK/cAhciJKVwL/ehhl/E1ReP4WDrlZl4rW/zgfr1ykcoL9nmR1LuO2Tv+itMHILncE/7m00PIKLmj9Fmjs+pzekP0B8iyxYcLq/GbPTzWiDob/wt8LjDGWcP3qfgsWg9Vq/18iiXwLDpL+WYkbZntKpvw==",
          "dtype": "f8"
         }
        }
       ],
       "layout": {
        "annotations": [
         {
          "showarrow": false,
          "text": "95% Confidence",
          "x": 1,
          "xanchor": "left",
          "xref": "x domain",
          "y": 0.1385929291125633,
          "yanchor": "middle",
          "yref": "y"
         }
        ],
        "height": 500,
        "shapes": [
         {
          "line": {
           "color": "gray",
           "dash": "dash"
          },
          "type": "line",
          "x0": 0,
          "x1": 1,
          "xref": "x domain",
          "y0": 0.1385929291125633,
          "y1": 0.1385929291125633,
          "yref": "y"
         },
         {
          "line": {
           "color": "gray",
           "dash": "dash"
          },
          "type": "line",
          "x0": 0,
          "x1": 1,
          "xref": "x domain",
          "y0": -0.1385929291125633,
          "y1": -0.1385929291125633,
          "yref": "y"
         },
         {
          "line": {
           "color": "black",
           "width": 1
          },
          "type": "line",
          "x0": 0,
          "x1": 1,
          "xref": "x domain",
          "y0": 0,
          "y1": 0,
          "yref": "y"
         }
        ],
        "showlegend": false,
        "template": {
         "data": {
          "bar": [
           {
            "error_x": {
             "color": "#2a3f5f"
            },
            "error_y": {
             "color": "#2a3f5f"
            },
            "marker": {
             "line": {
              "color": "white",
              "width": 0.5
             },
             "pattern": {
              "fillmode": "overlay",
              "size": 10,
              "solidity": 0.2
             }
            },
            "type": "bar"
           }
          ],
          "barpolar": [
           {
            "marker": {
             "line": {
              "color": "white",
              "width": 0.5
             },
             "pattern": {
              "fillmode": "overlay",
              "size": 10,
              "solidity": 0.2
             }
            },
            "type": "barpolar"
           }
          ],
          "carpet": [
           {
            "aaxis": {
             "endlinecolor": "#2a3f5f",
             "gridcolor": "#C8D4E3",
             "linecolor": "#C8D4E3",
             "minorgridcolor": "#C8D4E3",
             "startlinecolor": "#2a3f5f"
            },
            "baxis": {
             "endlinecolor": "#2a3f5f",
             "gridcolor": "#C8D4E3",
             "linecolor": "#C8D4E3",
             "minorgridcolor": "#C8D4E3",
             "startlinecolor": "#2a3f5f"
            },
            "type": "carpet"
           }
          ],
          "choropleth": [
           {
            "colorbar": {
             "outlinewidth": 0,
             "ticks": ""
            },
            "type": "choropleth"
           }
          ],
          "contour": [
           {
            "colorbar": {
             "outlinewidth": 0,
             "ticks": ""
            },
            "colorscale": [
             [
              0,
              "#0d0887"
             ],
             [
              0.1111111111111111,
              "#46039f"
             ],
             [
              0.2222222222222222,
              "#7201a8"
             ],
             [
              0.3333333333333333,
              "#9c179e"
             ],
             [
              0.4444444444444444,
              "#bd3786"
             ],
             [
              0.5555555555555556,
              "#d8576b"
             ],
             [
              0.6666666666666666,
              "#ed7953"
             ],
             [
              0.7777777777777778,
              "#fb9f3a"
             ],
             [
              0.8888888888888888,
              "#fdca26"
             ],
             [
              1,
              "#f0f921"
             ]
            ],
            "type": "contour"
           }
          ],
          "contourcarpet": [
           {
            "colorbar": {
             "outlinewidth": 0,
             "ticks": ""
            },
            "type": "contourcarpet"
           }
          ],
          "heatmap": [
           {
            "colorbar": {
             "outlinewidth": 0,
             "ticks": ""
            },
            "colorscale": [
             [
              0,
              "#0d0887"
             ],
             [
              0.1111111111111111,
              "#46039f"
             ],
             [
              0.2222222222222222,
              "#7201a8"
             ],
             [
              0.3333333333333333,
              "#9c179e"
             ],
             [
              0.4444444444444444,
              "#bd3786"
             ],
             [
              0.5555555555555556,
              "#d8576b"
             ],
             [
              0.6666666666666666,
              "#ed7953"
             ],
             [
              0.7777777777777778,
              "#fb9f3a"
             ],
             [
              0.8888888888888888,
              "#fdca26"
             ],
             [
              1,
              "#f0f921"
             ]
            ],
            "type": "heatmap"
           }
          ],
          "histogram": [
           {
            "marker": {
             "pattern": {
              "fillmode": "overlay",
              "size": 10,
              "solidity": 0.2
             }
            },
            "type": "histogram"
           }
          ],
          "histogram2d": [
           {
            "colorbar": {
             "outlinewidth": 0,
             "ticks": ""
            },
            "colorscale": [
             [
              0,
              "#0d0887"
             ],
             [
              0.1111111111111111,
              "#46039f"
             ],
             [
              0.2222222222222222,
              "#7201a8"
             ],
             [
              0.3333333333333333,
              "#9c179e"
             ],
             [
              0.4444444444444444,
              "#bd3786"
             ],
             [
              0.5555555555555556,
              "#d8576b"
             ],
             [
              0.6666666666666666,
              "#ed7953"
             ],
             [
              0.7777777777777778,
              "#fb9f3a"
             ],
             [
              0.8888888888888888,
              "#fdca26"
             ],
             [
              1,
              "#f0f921"
             ]
            ],
            "type": "histogram2d"
           }
          ],
          "histogram2dcontour": [
           {
            "colorbar": {
             "outlinewidth": 0,
             "ticks": ""
            },
            "colorscale": [
             [
              0,
              "#0d0887"
             ],
             [
              0.1111111111111111,
              "#46039f"
             ],
             [
              0.2222222222222222,
              "#7201a8"
             ],
             [
              0.3333333333333333,
              "#9c179e"
             ],
             [
              0.4444444444444444,
              "#bd3786"
             ],
             [
              0.5555555555555556,
              "#d8576b"
             ],
             [
              0.6666666666666666,
              "#ed7953"
             ],
             [
              0.7777777777777778,
              "#fb9f3a"
             ],
             [
              0.8888888888888888,
              "#fdca26"
             ],
             [
              1,
              "#f0f921"
             ]
            ],
            "type": "histogram2dcontour"
           }
          ],
          "mesh3d": [
           {
            "colorbar": {
             "outlinewidth": 0,
             "ticks": ""
            },
            "type": "mesh3d"
           }
          ],
          "parcoords": [
           {
            "line": {
             "colorbar": {
              "outlinewidth": 0,
              "ticks": ""
             }
            },
            "type": "parcoords"
           }
          ],
          "pie": [
           {
            "automargin": true,
            "type": "pie"
           }
          ],
          "scatter": [
           {
            "fillpattern": {
             "fillmode": "overlay",
             "size": 10,
             "solidity": 0.2
            },
            "type": "scatter"
           }
          ],
          "scatter3d": [
           {
            "line": {
             "colorbar": {
              "outlinewidth": 0,
              "ticks": ""
             }
            },
            "marker": {
             "colorbar": {
              "outlinewidth": 0,
              "ticks": ""
             }
            },
            "type": "scatter3d"
           }
          ],
          "scattercarpet": [
           {
            "marker": {
             "colorbar": {
              "outlinewidth": 0,
              "ticks": ""
             }
            },
            "type": "scattercarpet"
           }
          ],
          "scattergeo": [
           {
            "marker": {
             "colorbar": {
              "outlinewidth": 0,
              "ticks": ""
             }
            },
            "type": "scattergeo"
           }
          ],
          "scattergl": [
           {
            "marker": {
             "colorbar": {
              "outlinewidth": 0,
              "ticks": ""
             }
            },
            "type": "scattergl"
           }
          ],
          "scattermap": [
           {
            "marker": {
             "colorbar": {
              "outlinewidth": 0,
              "ticks": ""
             }
            },
            "type": "scattermap"
           }
          ],
          "scattermapbox": [
           {
            "marker": {
             "colorbar": {
              "outlinewidth": 0,
              "ticks": ""
             }
            },
            "type": "scattermapbox"
           }
          ],
          "scatterpolar": [
           {
            "marker": {
             "colorbar": {
              "outlinewidth": 0,
              "ticks": ""
             }
            },
            "type": "scatterpolar"
           }
          ],
          "scatterpolargl": [
           {
            "marker": {
             "colorbar": {
              "outlinewidth": 0,
              "ticks": ""
             }
            },
            "type": "scatterpolargl"
           }
          ],
          "scatterternary": [
           {
            "marker": {
             "colorbar": {
              "outlinewidth": 0,
              "ticks": ""
             }
            },
            "type": "scatterternary"
           }
          ],
          "surface": [
           {
            "colorbar": {
             "outlinewidth": 0,
             "ticks": ""
            },
            "colorscale": [
             [
              0,
              "#0d0887"
             ],
             [
              0.1111111111111111,
              "#46039f"
             ],
             [
              0.2222222222222222,
              "#7201a8"
             ],
             [
              0.3333333333333333,
              "#9c179e"
             ],
             [
              0.4444444444444444,
              "#bd3786"
             ],
             [
              0.5555555555555556,
              "#d8576b"
             ],
             [
              0.6666666666666666,
              "#ed7953"
             ],
             [
              0.7777777777777778,
              "#fb9f3a"
             ],
             [
              0.8888888888888888,
              "#fdca26"
             ],
             [
              1,
              "#f0f921"
             ]
            ],
            "type": "surface"
           }
          ],
          "table": [
           {
            "cells": {
             "fill": {
              "color": "#EBF0F8"
             },
             "line": {
              "color": "white"
             }
            },
            "header": {
             "fill": {
              "color": "#C8D4E3"
             },
             "line": {
              "color": "white"
             }
            },
            "type": "table"
           }
          ]
         },
         "layout": {
          "annotationdefaults": {
           "arrowcolor": "#2a3f5f",
           "arrowhead": 0,
           "arrowwidth": 1
          },
          "autotypenumbers": "strict",
          "coloraxis": {
           "colorbar": {
            "outlinewidth": 0,
            "ticks": ""
           }
          },
          "colorscale": {
           "diverging": [
            [
             0,
             "#8e0152"
            ],
            [
             0.1,
             "#c51b7d"
            ],
            [
             0.2,
             "#de77ae"
            ],
            [
             0.3,
             "#f1b6da"
            ],
            [
             0.4,
             "#fde0ef"
            ],
            [
             0.5,
             "#f7f7f7"
            ],
            [
             0.6,
             "#e6f5d0"
            ],
            [
             0.7,
             "#b8e186"
            ],
            [
             0.8,
             "#7fbc41"
            ],
            [
             0.9,
             "#4d9221"
            ],
            [
             1,
             "#276419"
            ]
           ],
           "sequential": [
            [
             0,
             "#0d0887"
            ],
            [
             0.1111111111111111,
             "#46039f"
            ],
            [
             0.2222222222222222,
             "#7201a8"
            ],
            [
             0.3333333333333333,
             "#9c179e"
            ],
            [
             0.4444444444444444,
             "#bd3786"
            ],
            [
             0.5555555555555556,
             "#d8576b"
            ],
            [
             0.6666666666666666,
             "#ed7953"
            ],
            [
             0.7777777777777778,
             "#fb9f3a"
            ],
            [
             0.8888888888888888,
             "#fdca26"
            ],
            [
             1,
             "#f0f921"
            ]
           ],
           "sequentialminus": [
            [
             0,
             "#0d0887"
            ],
            [
             0.1111111111111111,
             "#46039f"
            ],
            [
             0.2222222222222222,
             "#7201a8"
            ],
            [
             0.3333333333333333,
             "#9c179e"
            ],
            [
             0.4444444444444444,
             "#bd3786"
            ],
            [
             0.5555555555555556,
             "#d8576b"
            ],
            [
             0.6666666666666666,
             "#ed7953"
            ],
            [
             0.7777777777777778,
             "#fb9f3a"
            ],
            [
             0.8888888888888888,
             "#fdca26"
            ],
            [
             1,
             "#f0f921"
            ]
           ]
          },
          "colorway": [
           "#636efa",
           "#EF553B",
           "#00cc96",
           "#ab63fa",
           "#FFA15A",
           "#19d3f3",
           "#FF6692",
           "#B6E880",
           "#FF97FF",
           "#FECB52"
          ],
          "font": {
           "color": "#2a3f5f"
          },
          "geo": {
           "bgcolor": "white",
           "lakecolor": "white",
           "landcolor": "white",
           "showlakes": true,
           "showland": true,
           "subunitcolor": "#C8D4E3"
          },
          "hoverlabel": {
           "align": "left"
          },
          "hovermode": "closest",
          "mapbox": {
           "style": "light"
          },
          "paper_bgcolor": "white",
          "plot_bgcolor": "white",
          "polar": {
           "angularaxis": {
            "gridcolor": "#EBF0F8",
            "linecolor": "#EBF0F8",
            "ticks": ""
           },
           "bgcolor": "white",
           "radialaxis": {
            "gridcolor": "#EBF0F8",
            "linecolor": "#EBF0F8",
            "ticks": ""
           }
          },
          "scene": {
           "xaxis": {
            "backgroundcolor": "white",
            "gridcolor": "#DFE8F3",
            "gridwidth": 2,
            "linecolor": "#EBF0F8",
            "showbackground": true,
            "ticks": "",
            "zerolinecolor": "#EBF0F8"
           },
           "yaxis": {
            "backgroundcolor": "white",
            "gridcolor": "#DFE8F3",
            "gridwidth": 2,
            "linecolor": "#EBF0F8",
            "showbackground": true,
            "ticks": "",
            "zerolinecolor": "#EBF0F8"
           },
           "zaxis": {
            "backgroundcolor": "white",
            "gridcolor": "#DFE8F3",
            "gridwidth": 2,
            "linecolor": "#EBF0F8",
            "showbackground": true,
            "ticks": "",
            "zerolinecolor": "#EBF0F8"
           }
          },
          "shapedefaults": {
           "line": {
            "color": "#2a3f5f"
           }
          },
          "ternary": {
           "aaxis": {
            "gridcolor": "#DFE8F3",
            "linecolor": "#A2B1C6",
            "ticks": ""
           },
           "baxis": {
            "gridcolor": "#DFE8F3",
            "linecolor": "#A2B1C6",
            "ticks": ""
           },
           "bgcolor": "white",
           "caxis": {
            "gridcolor": "#DFE8F3",
            "linecolor": "#A2B1C6",
            "ticks": ""
           }
          },
          "title": {
           "x": 0.05
          },
          "xaxis": {
           "automargin": true,
           "gridcolor": "#EBF0F8",
           "linecolor": "#EBF0F8",
           "ticks": "",
           "title": {
            "standoff": 15
           },
           "zerolinecolor": "#EBF0F8",
           "zerolinewidth": 2
          },
          "yaxis": {
           "automargin": true,
           "gridcolor": "#EBF0F8",
           "linecolor": "#EBF0F8",
           "ticks": "",
           "title": {
            "standoff": 15
           },
           "zerolinecolor": "#EBF0F8",
           "zerolinewidth": 2
          }
         }
        },
        "title": {
         "text": "Partial Autocorrelation Function (PACF)"
        },
        "xaxis": {
         "title": {
          "text": "Lag"
         }
        },
        "yaxis": {
         "title": {
          "text": "Partial Correlation"
         }
        }
       }
      }
     },
     "metadata": {},
     "output_type": "display_data"
    }
   ],
   "source": [
    "# Calculate PACF\n",
    "pacf_values = pacf(ar_series, nlags=40, alpha=0.05)\n",
    "pacf_corr = pacf_values[0]\n",
    "pacf_confint = pacf_values[1]\n",
    "\n",
    "# Create interactive PACF plot\n",
    "lags = np.arange(len(pacf_corr))\n",
    "fig = go.Figure()\n",
    "\n",
    "# Add stems (vertical lines)\n",
    "for i in range(len(lags)):\n",
    "    fig.add_trace(go.Scatter(\n",
    "        x=[lags[i], lags[i]], \n",
    "        y=[0, pacf_corr[i]],\n",
    "        mode='lines',\n",
    "        line=dict(color='red', width=2),\n",
    "        showlegend=False,\n",
    "        hovertemplate=f'Lag: {lags[i]}<br>PACF: {pacf_corr[i]:.3f}<extra></extra>'\n",
    "    ))\n",
    "\n",
    "# Add markers at the top of stems\n",
    "fig.add_trace(go.Scatter(\n",
    "    x=lags, y=pacf_corr,\n",
    "    mode='markers',\n",
    "    marker=dict(size=8, color='red'),\n",
    "    name='PACF',\n",
    "    hovertemplate='Lag: %{x}<br>PACF: %{y:.3f}<extra></extra>'\n",
    "))\n",
    "\n",
    "# Add confidence intervals\n",
    "confidence_band = 1.96 / np.sqrt(len(ar_series))\n",
    "fig.add_hline(y=confidence_band, line_dash=\"dash\", line_color=\"gray\", \n",
    "              annotation_text=\"95% Confidence\", annotation_position=\"right\")\n",
    "fig.add_hline(y=-confidence_band, line_dash=\"dash\", line_color=\"gray\")\n",
    "fig.add_hline(y=0, line_color=\"black\", line_width=1)\n",
    "\n",
    "fig.update_layout(\n",
    "    title='Partial Autocorrelation Function (PACF)',\n",
    "    xaxis_title='Lag',\n",
    "    yaxis_title='Partial Correlation',\n",
    "    template='plotly_white',\n",
    "    height=500,\n",
    "    showlegend=False\n",
    ")\n",
    "\n",
    "fig.show()\n"
   ]
  },
  {
   "cell_type": "markdown",
   "id": "340d87a9",
   "metadata": {},
   "source": [
    "### ACF vs PACF Side-by-Side Comparison\n",
    "\n",
    "Let's compare ACF and PACF for the same series to see the difference:\n"
   ]
  },
  {
   "cell_type": "code",
   "execution_count": 7,
   "id": "0c0450a5",
   "metadata": {},
   "outputs": [
    {
     "data": {
      "application/vnd.plotly.v1+json": {
       "config": {
        "plotlyServerURL": "https://plot.ly"
       },
       "data": [
        {
         "line": {
          "color": "blue",
          "width": 2
         },
         "mode": "lines",
         "showlegend": false,
         "type": "scatter",
         "x": [
          0,
          0
         ],
         "xaxis": "x",
         "y": [
          0,
          1
         ],
         "yaxis": "y"
        },
        {
         "line": {
          "color": "blue",
          "width": 2
         },
         "mode": "lines",
         "showlegend": false,
         "type": "scatter",
         "x": [
          1,
          1
         ],
         "xaxis": "x",
         "y": [
          0,
          0.7932163309821815
         ],
         "yaxis": "y"
        },
        {
         "line": {
          "color": "blue",
          "width": 2
         },
         "mode": "lines",
         "showlegend": false,
         "type": "scatter",
         "x": [
          2,
          2
         ],
         "xaxis": "x",
         "y": [
          0,
          0.6692714798801661
         ],
         "yaxis": "y"
        },
        {
         "line": {
          "color": "blue",
          "width": 2
         },
         "mode": "lines",
         "showlegend": false,
         "type": "scatter",
         "x": [
          3,
          3
         ],
         "xaxis": "x",
         "y": [
          0,
          0.559859283664333
         ],
         "yaxis": "y"
        },
        {
         "line": {
          "color": "blue",
          "width": 2
         },
         "mode": "lines",
         "showlegend": false,
         "type": "scatter",
         "x": [
          4,
          4
         ],
         "xaxis": "x",
         "y": [
          0,
          0.468015148031397
         ],
         "yaxis": "y"
        },
        {
         "line": {
          "color": "blue",
          "width": 2
         },
         "mode": "lines",
         "showlegend": false,
         "type": "scatter",
         "x": [
          5,
          5
         ],
         "xaxis": "x",
         "y": [
          0,
          0.34973135555492196
         ],
         "yaxis": "y"
        },
        {
         "line": {
          "color": "blue",
          "width": 2
         },
         "mode": "lines",
         "showlegend": false,
         "type": "scatter",
         "x": [
          6,
          6
         ],
         "xaxis": "x",
         "y": [
          0,
          0.2860285167558894
         ],
         "yaxis": "y"
        },
        {
         "line": {
          "color": "blue",
          "width": 2
         },
         "mode": "lines",
         "showlegend": false,
         "type": "scatter",
         "x": [
          7,
          7
         ],
         "xaxis": "x",
         "y": [
          0,
          0.25290688621983626
         ],
         "yaxis": "y"
        },
        {
         "line": {
          "color": "blue",
          "width": 2
         },
         "mode": "lines",
         "showlegend": false,
         "type": "scatter",
         "x": [
          8,
          8
         ],
         "xaxis": "x",
         "y": [
          0,
          0.19125262479120703
         ],
         "yaxis": "y"
        },
        {
         "line": {
          "color": "blue",
          "width": 2
         },
         "mode": "lines",
         "showlegend": false,
         "type": "scatter",
         "x": [
          9,
          9
         ],
         "xaxis": "x",
         "y": [
          0,
          0.17319277261827937
         ],
         "yaxis": "y"
        },
        {
         "line": {
          "color": "blue",
          "width": 2
         },
         "mode": "lines",
         "showlegend": false,
         "type": "scatter",
         "x": [
          10,
          10
         ],
         "xaxis": "x",
         "y": [
          0,
          0.14168537989393734
         ],
         "yaxis": "y"
        },
        {
         "line": {
          "color": "blue",
          "width": 2
         },
         "mode": "lines",
         "showlegend": false,
         "type": "scatter",
         "x": [
          11,
          11
         ],
         "xaxis": "x",
         "y": [
          0,
          0.09904085172719838
         ],
         "yaxis": "y"
        },
        {
         "line": {
          "color": "blue",
          "width": 2
         },
         "mode": "lines",
         "showlegend": false,
         "type": "scatter",
         "x": [
          12,
          12
         ],
         "xaxis": "x",
         "y": [
          0,
          0.08167099634885985
         ],
         "yaxis": "y"
        },
        {
         "line": {
          "color": "blue",
          "width": 2
         },
         "mode": "lines",
         "showlegend": false,
         "type": "scatter",
         "x": [
          13,
          13
         ],
         "xaxis": "x",
         "y": [
          0,
          0.06880682569187035
         ],
         "yaxis": "y"
        },
        {
         "line": {
          "color": "blue",
          "width": 2
         },
         "mode": "lines",
         "showlegend": false,
         "type": "scatter",
         "x": [
          14,
          14
         ],
         "xaxis": "x",
         "y": [
          0,
          0.051896019170199814
         ],
         "yaxis": "y"
        },
        {
         "line": {
          "color": "blue",
          "width": 2
         },
         "mode": "lines",
         "showlegend": false,
         "type": "scatter",
         "x": [
          15,
          15
         ],
         "xaxis": "x",
         "y": [
          0,
          0.029358575715424915
         ],
         "yaxis": "y"
        },
        {
         "line": {
          "color": "blue",
          "width": 2
         },
         "mode": "lines",
         "showlegend": false,
         "type": "scatter",
         "x": [
          16,
          16
         ],
         "xaxis": "x",
         "y": [
          0,
          0.04402772675556789
         ],
         "yaxis": "y"
        },
        {
         "line": {
          "color": "blue",
          "width": 2
         },
         "mode": "lines",
         "showlegend": false,
         "type": "scatter",
         "x": [
          17,
          17
         ],
         "xaxis": "x",
         "y": [
          0,
          -0.01082252337059034
         ],
         "yaxis": "y"
        },
        {
         "line": {
          "color": "blue",
          "width": 2
         },
         "mode": "lines",
         "showlegend": false,
         "type": "scatter",
         "x": [
          18,
          18
         ],
         "xaxis": "x",
         "y": [
          0,
          -0.05465029753183103
         ],
         "yaxis": "y"
        },
        {
         "line": {
          "color": "blue",
          "width": 2
         },
         "mode": "lines",
         "showlegend": false,
         "type": "scatter",
         "x": [
          19,
          19
         ],
         "xaxis": "x",
         "y": [
          0,
          -0.0876756159321525
         ],
         "yaxis": "y"
        },
        {
         "line": {
          "color": "blue",
          "width": 2
         },
         "mode": "lines",
         "showlegend": false,
         "type": "scatter",
         "x": [
          20,
          20
         ],
         "xaxis": "x",
         "y": [
          0,
          -0.0977452211626023
         ],
         "yaxis": "y"
        },
        {
         "line": {
          "color": "blue",
          "width": 2
         },
         "mode": "lines",
         "showlegend": false,
         "type": "scatter",
         "x": [
          21,
          21
         ],
         "xaxis": "x",
         "y": [
          0,
          -0.12522520330679593
         ],
         "yaxis": "y"
        },
        {
         "line": {
          "color": "blue",
          "width": 2
         },
         "mode": "lines",
         "showlegend": false,
         "type": "scatter",
         "x": [
          22,
          22
         ],
         "xaxis": "x",
         "y": [
          0,
          -0.12268062601332062
         ],
         "yaxis": "y"
        },
        {
         "line": {
          "color": "blue",
          "width": 2
         },
         "mode": "lines",
         "showlegend": false,
         "type": "scatter",
         "x": [
          23,
          23
         ],
         "xaxis": "x",
         "y": [
          0,
          -0.13449280168792604
         ],
         "yaxis": "y"
        },
        {
         "line": {
          "color": "blue",
          "width": 2
         },
         "mode": "lines",
         "showlegend": false,
         "type": "scatter",
         "x": [
          24,
          24
         ],
         "xaxis": "x",
         "y": [
          0,
          -0.12211665068578945
         ],
         "yaxis": "y"
        },
        {
         "line": {
          "color": "blue",
          "width": 2
         },
         "mode": "lines",
         "showlegend": false,
         "type": "scatter",
         "x": [
          25,
          25
         ],
         "xaxis": "x",
         "y": [
          0,
          -0.10682865142329329
         ],
         "yaxis": "y"
        },
        {
         "line": {
          "color": "blue",
          "width": 2
         },
         "mode": "lines",
         "showlegend": false,
         "type": "scatter",
         "x": [
          26,
          26
         ],
         "xaxis": "x",
         "y": [
          0,
          -0.11141570656355494
         ],
         "yaxis": "y"
        },
        {
         "line": {
          "color": "blue",
          "width": 2
         },
         "mode": "lines",
         "showlegend": false,
         "type": "scatter",
         "x": [
          27,
          27
         ],
         "xaxis": "x",
         "y": [
          0,
          -0.15414689942726578
         ],
         "yaxis": "y"
        },
        {
         "line": {
          "color": "blue",
          "width": 2
         },
         "mode": "lines",
         "showlegend": false,
         "type": "scatter",
         "x": [
          28,
          28
         ],
         "xaxis": "x",
         "y": [
          0,
          -0.16460067548389198
         ],
         "yaxis": "y"
        },
        {
         "line": {
          "color": "blue",
          "width": 2
         },
         "mode": "lines",
         "showlegend": false,
         "type": "scatter",
         "x": [
          29,
          29
         ],
         "xaxis": "x",
         "y": [
          0,
          -0.18779462412368875
         ],
         "yaxis": "y"
        },
        {
         "line": {
          "color": "blue",
          "width": 2
         },
         "mode": "lines",
         "showlegend": false,
         "type": "scatter",
         "x": [
          30,
          30
         ],
         "xaxis": "x",
         "y": [
          0,
          -0.21402147768570243
         ],
         "yaxis": "y"
        },
        {
         "line": {
          "color": "blue",
          "width": 2
         },
         "mode": "lines",
         "showlegend": false,
         "type": "scatter",
         "x": [
          31,
          31
         ],
         "xaxis": "x",
         "y": [
          0,
          -0.23163567809109173
         ],
         "yaxis": "y"
        },
        {
         "line": {
          "color": "blue",
          "width": 2
         },
         "mode": "lines",
         "showlegend": false,
         "type": "scatter",
         "x": [
          32,
          32
         ],
         "xaxis": "x",
         "y": [
          0,
          -0.18350336428965125
         ],
         "yaxis": "y"
        },
        {
         "line": {
          "color": "blue",
          "width": 2
         },
         "mode": "lines",
         "showlegend": false,
         "type": "scatter",
         "x": [
          33,
          33
         ],
         "xaxis": "x",
         "y": [
          0,
          -0.15966028324933457
         ],
         "yaxis": "y"
        },
        {
         "line": {
          "color": "blue",
          "width": 2
         },
         "mode": "lines",
         "showlegend": false,
         "type": "scatter",
         "x": [
          34,
          34
         ],
         "xaxis": "x",
         "y": [
          0,
          -0.12782360772784843
         ],
         "yaxis": "y"
        },
        {
         "line": {
          "color": "blue",
          "width": 2
         },
         "mode": "lines",
         "showlegend": false,
         "type": "scatter",
         "x": [
          35,
          35
         ],
         "xaxis": "x",
         "y": [
          0,
          -0.12191452054534331
         ],
         "yaxis": "y"
        },
        {
         "line": {
          "color": "blue",
          "width": 2
         },
         "mode": "lines",
         "showlegend": false,
         "type": "scatter",
         "x": [
          36,
          36
         ],
         "xaxis": "x",
         "y": [
          0,
          -0.10972032221590015
         ],
         "yaxis": "y"
        },
        {
         "line": {
          "color": "blue",
          "width": 2
         },
         "mode": "lines",
         "showlegend": false,
         "type": "scatter",
         "x": [
          37,
          37
         ],
         "xaxis": "x",
         "y": [
          0,
          -0.1001934609218261
         ],
         "yaxis": "y"
        },
        {
         "line": {
          "color": "blue",
          "width": 2
         },
         "mode": "lines",
         "showlegend": false,
         "type": "scatter",
         "x": [
          38,
          38
         ],
         "xaxis": "x",
         "y": [
          0,
          -0.08573229015535479
         ],
         "yaxis": "y"
        },
        {
         "line": {
          "color": "blue",
          "width": 2
         },
         "mode": "lines",
         "showlegend": false,
         "type": "scatter",
         "x": [
          39,
          39
         ],
         "xaxis": "x",
         "y": [
          0,
          -0.08807409003507659
         ],
         "yaxis": "y"
        },
        {
         "line": {
          "color": "blue",
          "width": 2
         },
         "mode": "lines",
         "showlegend": false,
         "type": "scatter",
         "x": [
          40,
          40
         ],
         "xaxis": "x",
         "y": [
          0,
          -0.09545282266408209
         ],
         "yaxis": "y"
        },
        {
         "marker": {
          "color": "blue",
          "size": 8
         },
         "mode": "markers",
         "showlegend": false,
         "type": "scatter",
         "x": {
          "bdata": "AAECAwQFBgcICQoLDA0ODxAREhMUFRYXGBkaGxwdHh8gISIjJCUmJyg=",
          "dtype": "i1"
         },
         "xaxis": "x",
         "y": {
          "bdata": "AAAAAAAA8D8xFwc3B2LpPwFjxwWsauU/1mg2BF7q4T/s9LTO9fPdP/Sfn5//YdY/3SdMjUpO0j881U9doC/QP2pOYEz3esg/EEgmRy4rxj87n3scvyLCP7PkIsO9Wrk/Zp9Z8mPotD9gkRb6Up2xP4DXQXIdkqo/CTU4qiwQnj8ylRBdzYqmP5K7fn8eKoa/H1U7sR/7q78M0xW/6HG2v2fRO7DUBbm/xjdrJGEHwL8ffJRc/2e/v+4FZmQPN8G/5hX+bAlDv79EiiNcH1m7v+mB81+9hby/vPLo6RW7w79fKQ2LohHFv9jofHynCci/o52mRw5ly7+Hd/7mPKbNv04+KsoJfce/mFODh79vxL8VhmwjhlzAv01Xpj7KNb+/K7afi6EWvL8Gq+5VR6a5v7GtbSaN8rW/Z1tTCAaMtr/iMqefmG+4vw==",
          "dtype": "f8"
         },
         "yaxis": "y"
        },
        {
         "line": {
          "color": "red",
          "width": 2
         },
         "mode": "lines",
         "showlegend": false,
         "type": "scatter",
         "x": [
          0,
          0
         ],
         "xaxis": "x2",
         "y": [
          0,
          1
         ],
         "yaxis": "y2"
        },
        {
         "line": {
          "color": "red",
          "width": 2
         },
         "mode": "lines",
         "showlegend": false,
         "type": "scatter",
         "x": [
          1,
          1
         ],
         "xaxis": "x2",
         "y": [
          0,
          0.7972023426956596
         ],
         "yaxis": "y2"
        },
        {
         "line": {
          "color": "red",
          "width": 2
         },
         "mode": "lines",
         "showlegend": false,
         "type": "scatter",
         "x": [
          2,
          2
         ],
         "xaxis": "x2",
         "y": [
          0,
          0.11112134797813718
         ],
         "yaxis": "y2"
        },
        {
         "line": {
          "color": "red",
          "width": 2
         },
         "mode": "lines",
         "showlegend": false,
         "type": "scatter",
         "x": [
          3,
          3
         ],
         "xaxis": "x2",
         "y": [
          0,
          0.0020885606383848204
         ],
         "yaxis": "y2"
        },
        {
         "line": {
          "color": "red",
          "width": 2
         },
         "mode": "lines",
         "showlegend": false,
         "type": "scatter",
         "x": [
          4,
          4
         ],
         "xaxis": "x2",
         "y": [
          0,
          -0.002373804470178774
         ],
         "yaxis": "y2"
        },
        {
         "line": {
          "color": "red",
          "width": 2
         },
         "mode": "lines",
         "showlegend": false,
         "type": "scatter",
         "x": [
          5,
          5
         ],
         "xaxis": "x2",
         "y": [
          0,
          -0.11869726255728304
         ],
         "yaxis": "y2"
        },
        {
         "line": {
          "color": "red",
          "width": 2
         },
         "mode": "lines",
         "showlegend": false,
         "type": "scatter",
         "x": [
          6,
          6
         ],
         "xaxis": "x2",
         "y": [
          0,
          0.05074249928968307
         ],
         "yaxis": "y2"
        },
        {
         "line": {
          "color": "red",
          "width": 2
         },
         "mode": "lines",
         "showlegend": false,
         "type": "scatter",
         "x": [
          7,
          7
         ],
         "xaxis": "x2",
         "y": [
          0,
          0.07515829285335839
         ],
         "yaxis": "y2"
        },
        {
         "line": {
          "color": "red",
          "width": 2
         },
         "mode": "lines",
         "showlegend": false,
         "type": "scatter",
         "x": [
          8,
          8
         ],
         "xaxis": "x2",
         "y": [
          0,
          -0.07568674201918671
         ],
         "yaxis": "y2"
        },
        {
         "line": {
          "color": "red",
          "width": 2
         },
         "mode": "lines",
         "showlegend": false,
         "type": "scatter",
         "x": [
          9,
          9
         ],
         "xaxis": "x2",
         "y": [
          0,
          0.07618354865429364
         ],
         "yaxis": "y2"
        },
        {
         "line": {
          "color": "red",
          "width": 2
         },
         "mode": "lines",
         "showlegend": false,
         "type": "scatter",
         "x": [
          10,
          10
         ],
         "xaxis": "x2",
         "y": [
          0,
          -0.03885426592593964
         ],
         "yaxis": "y2"
        },
        {
         "line": {
          "color": "red",
          "width": 2
         },
         "mode": "lines",
         "showlegend": false,
         "type": "scatter",
         "x": [
          11,
          11
         ],
         "xaxis": "x2",
         "y": [
          0,
          -0.06873533132818285
         ],
         "yaxis": "y2"
        },
        {
         "line": {
          "color": "red",
          "width": 2
         },
         "mode": "lines",
         "showlegend": false,
         "type": "scatter",
         "x": [
          12,
          12
         ],
         "xaxis": "x2",
         "y": [
          0,
          0.06070219667051729
         ],
         "yaxis": "y2"
        },
        {
         "line": {
          "color": "red",
          "width": 2
         },
         "mode": "lines",
         "showlegend": false,
         "type": "scatter",
         "x": [
          13,
          13
         ],
         "xaxis": "x2",
         "y": [
          0,
          -0.008949112867461603
         ],
         "yaxis": "y2"
        },
        {
         "line": {
          "color": "red",
          "width": 2
         },
         "mode": "lines",
         "showlegend": false,
         "type": "scatter",
         "x": [
          14,
          14
         ],
         "xaxis": "x2",
         "y": [
          0,
          -0.007282786472062445
         ],
         "yaxis": "y2"
        },
        {
         "line": {
          "color": "red",
          "width": 2
         },
         "mode": "lines",
         "showlegend": false,
         "type": "scatter",
         "x": [
          15,
          15
         ],
         "xaxis": "x2",
         "y": [
          0,
          -0.01081358354210743
         ],
         "yaxis": "y2"
        },
        {
         "line": {
          "color": "red",
          "width": 2
         },
         "mode": "lines",
         "showlegend": false,
         "type": "scatter",
         "x": [
          16,
          16
         ],
         "xaxis": "x2",
         "y": [
          0,
          0.051778192076972075
         ],
         "yaxis": "y2"
        },
        {
         "line": {
          "color": "red",
          "width": 2
         },
         "mode": "lines",
         "showlegend": false,
         "type": "scatter",
         "x": [
          17,
          17
         ],
         "xaxis": "x2",
         "y": [
          0,
          -0.1669067610188888
         ],
         "yaxis": "y2"
        },
        {
         "line": {
          "color": "red",
          "width": 2
         },
         "mode": "lines",
         "showlegend": false,
         "type": "scatter",
         "x": [
          18,
          18
         ],
         "xaxis": "x2",
         "y": [
          0,
          -0.052919702014428235
         ],
         "yaxis": "y2"
        },
        {
         "line": {
          "color": "red",
          "width": 2
         },
         "mode": "lines",
         "showlegend": false,
         "type": "scatter",
         "x": [
          19,
          19
         ],
         "xaxis": "x2",
         "y": [
          0,
          -0.028154582840097454
         ],
         "yaxis": "y2"
        },
        {
         "line": {
          "color": "red",
          "width": 2
         },
         "mode": "lines",
         "showlegend": false,
         "type": "scatter",
         "x": [
          20,
          20
         ],
         "xaxis": "x2",
         "y": [
          0,
          0.023833273971084205
         ],
         "yaxis": "y2"
        },
        {
         "line": {
          "color": "red",
          "width": 2
         },
         "mode": "lines",
         "showlegend": false,
         "type": "scatter",
         "x": [
          21,
          21
         ],
         "xaxis": "x2",
         "y": [
          0,
          -0.01983697879526624
         ],
         "yaxis": "y2"
        },
        {
         "line": {
          "color": "red",
          "width": 2
         },
         "mode": "lines",
         "showlegend": false,
         "type": "scatter",
         "x": [
          22,
          22
         ],
         "xaxis": "x2",
         "y": [
          0,
          0.026532940033951402
         ],
         "yaxis": "y2"
        },
        {
         "line": {
          "color": "red",
          "width": 2
         },
         "mode": "lines",
         "showlegend": false,
         "type": "scatter",
         "x": [
          23,
          23
         ],
         "xaxis": "x2",
         "y": [
          0,
          -0.08456603588072403
         ],
         "yaxis": "y2"
        },
        {
         "line": {
          "color": "red",
          "width": 2
         },
         "mode": "lines",
         "showlegend": false,
         "type": "scatter",
         "x": [
          24,
          24
         ],
         "xaxis": "x2",
         "y": [
          0,
          0.06726605380120927
         ],
         "yaxis": "y2"
        },
        {
         "line": {
          "color": "red",
          "width": 2
         },
         "mode": "lines",
         "showlegend": false,
         "type": "scatter",
         "x": [
          25,
          25
         ],
         "xaxis": "x2",
         "y": [
          0,
          0.01140103012372543
         ],
         "yaxis": "y2"
        },
        {
         "line": {
          "color": "red",
          "width": 2
         },
         "mode": "lines",
         "showlegend": false,
         "type": "scatter",
         "x": [
          26,
          26
         ],
         "xaxis": "x2",
         "y": [
          0,
          -0.07087822162119935
         ],
         "yaxis": "y2"
        },
        {
         "line": {
          "color": "red",
          "width": 2
         },
         "mode": "lines",
         "showlegend": false,
         "type": "scatter",
         "x": [
          27,
          27
         ],
         "xaxis": "x2",
         "y": [
          0,
          -0.12956458719424147
         ],
         "yaxis": "y2"
        },
        {
         "line": {
          "color": "red",
          "width": 2
         },
         "mode": "lines",
         "showlegend": false,
         "type": "scatter",
         "x": [
          28,
          28
         ],
         "xaxis": "x2",
         "y": [
          0,
          0.0018511000056595154
         ],
         "yaxis": "y2"
        },
        {
         "line": {
          "color": "red",
          "width": 2
         },
         "mode": "lines",
         "showlegend": false,
         "type": "scatter",
         "x": [
          29,
          29
         ],
         "xaxis": "x2",
         "y": [
          0,
          -0.085485776579402
         ],
         "yaxis": "y2"
        },
        {
         "line": {
          "color": "red",
          "width": 2
         },
         "mode": "lines",
         "showlegend": false,
         "type": "scatter",
         "x": [
          30,
          30
         ],
         "xaxis": "x2",
         "y": [
          0,
          -0.03146487007826658
         ],
         "yaxis": "y2"
        },
        {
         "line": {
          "color": "red",
          "width": 2
         },
         "mode": "lines",
         "showlegend": false,
         "type": "scatter",
         "x": [
          31,
          31
         ],
         "xaxis": "x2",
         "y": [
          0,
          -0.019461516937917447
         ],
         "yaxis": "y2"
        },
        {
         "line": {
          "color": "red",
          "width": 2
         },
         "mode": "lines",
         "showlegend": false,
         "type": "scatter",
         "x": [
          32,
          32
         ],
         "xaxis": "x2",
         "y": [
          0,
          0.13760512424174398
         ],
         "yaxis": "y2"
        },
        {
         "line": {
          "color": "red",
          "width": 2
         },
         "mode": "lines",
         "showlegend": false,
         "type": "scatter",
         "x": [
          33,
          33
         ],
         "xaxis": "x2",
         "y": [
          0,
          0.0259228085752578
         ],
         "yaxis": "y2"
        },
        {
         "line": {
          "color": "red",
          "width": 2
         },
         "mode": "lines",
         "showlegend": false,
         "type": "scatter",
         "x": [
          34,
          34
         ],
         "xaxis": "x2",
         "y": [
          0,
          0.03948710093191158
         ],
         "yaxis": "y2"
        },
        {
         "line": {
          "color": "red",
          "width": 2
         },
         "mode": "lines",
         "showlegend": false,
         "type": "scatter",
         "x": [
          35,
          35
         ],
         "xaxis": "x2",
         "y": [
          0,
          -0.10327673995514974
         ],
         "yaxis": "y2"
        },
        {
         "line": {
          "color": "red",
          "width": 2
         },
         "mode": "lines",
         "showlegend": false,
         "type": "scatter",
         "x": [
          36,
          36
         ],
         "xaxis": "x2",
         "y": [
          0,
          -0.03420569908653288
         ],
         "yaxis": "y2"
        },
        {
         "line": {
          "color": "red",
          "width": 2
         },
         "mode": "lines",
         "showlegend": false,
         "type": "scatter",
         "x": [
          37,
          37
         ],
         "xaxis": "x2",
         "y": [
          0,
          0.02772922649517534
         ],
         "yaxis": "y2"
        },
        {
         "line": {
          "color": "red",
          "width": 2
         },
         "mode": "lines",
         "showlegend": false,
         "type": "scatter",
         "x": [
          38,
          38
         ],
         "xaxis": "x2",
         "y": [
          0,
          -0.0016454763445299101
         ],
         "yaxis": "y2"
        },
        {
         "line": {
          "color": "red",
          "width": 2
         },
         "mode": "lines",
         "showlegend": false,
         "type": "scatter",
         "x": [
          39,
          39
         ],
         "xaxis": "x2",
         "y": [
          0,
          -0.04055030267171993
         ],
         "yaxis": "y2"
        },
        {
         "line": {
          "color": "red",
          "width": 2
         },
         "mode": "lines",
         "showlegend": false,
         "type": "scatter",
         "x": [
          40,
          40
         ],
         "xaxis": "x2",
         "y": [
          0,
          -0.05043503191263203
         ],
         "yaxis": "y2"
        },
        {
         "marker": {
          "color": "red",
          "size": 8
         },
         "mode": "markers",
         "showlegend": false,
         "type": "scatter",
         "x": {
          "bdata": "AAECAwQFBgcICQoLDA0ODxAREhMUFRYXGBkaGxwdHh8gISIjJCUmJyg=",
          "dtype": "i1"
         },
         "xaxis": "x2",
         "y": {
          "bdata": "AAAAAAAA8D+mhMV8roLpP90adNtycrw/IAVndAccYT8X5yCSOnJjv93pzpzxYr6/C9juvev6qT+3D9Tpkj2zPwKUttE0YLO/bqL22cOAsz/+iuzStOSjv35fIoCjmLG/B4/9ulsUrz9LbsCY6VOCv1FHihuO1H2/YMtTnW4lhr8tszvTq4KqP2BZB2QzXcW/FpzuikoYq7+qeh8SjtScv3G2DPG/Z5g/Xl21HCVQlL/Qptl2cyubP0zHdaYeprW/HQk1HVk4sT/TSC1cbFmHP82X3DsTJbK/cAhciJKVwL/ehhl/E1ReP4WDrlZl4rW/zgfr1ykcoL9nmR1LuO2Tv+itMHILncE/7m00PIKLmj9Fmjs+pzekP0B8iyxYcLq/GbPTzWiDob/wt8LjDGWcP3qfgsWg9Vq/18iiXwLDpL+WYkbZntKpvw==",
          "dtype": "f8"
         },
         "yaxis": "y2"
        }
       ],
       "layout": {
        "annotations": [
         {
          "font": {
           "size": 16
          },
          "showarrow": false,
          "text": "Autocorrelation Function (ACF)",
          "x": 0.225,
          "xanchor": "center",
          "xref": "paper",
          "y": 1,
          "yanchor": "bottom",
          "yref": "paper"
         },
         {
          "font": {
           "size": 16
          },
          "showarrow": false,
          "text": "Partial Autocorrelation Function (PACF)",
          "x": 0.775,
          "xanchor": "center",
          "xref": "paper",
          "y": 1,
          "yanchor": "bottom",
          "yref": "paper"
         }
        ],
        "height": 500,
        "shapes": [
         {
          "line": {
           "color": "gray",
           "dash": "dash"
          },
          "type": "line",
          "x0": 0,
          "x1": 1,
          "xref": "x domain",
          "y0": 0.1385929291125633,
          "y1": 0.1385929291125633,
          "yref": "y"
         },
         {
          "line": {
           "color": "gray",
           "dash": "dash"
          },
          "type": "line",
          "x0": 0,
          "x1": 1,
          "xref": "x domain",
          "y0": -0.1385929291125633,
          "y1": -0.1385929291125633,
          "yref": "y"
         },
         {
          "line": {
           "color": "black",
           "width": 1
          },
          "type": "line",
          "x0": 0,
          "x1": 1,
          "xref": "x domain",
          "y0": 0,
          "y1": 0,
          "yref": "y"
         },
         {
          "line": {
           "color": "gray",
           "dash": "dash"
          },
          "type": "line",
          "x0": 0,
          "x1": 1,
          "xref": "x2 domain",
          "y0": 0.1385929291125633,
          "y1": 0.1385929291125633,
          "yref": "y2"
         },
         {
          "line": {
           "color": "gray",
           "dash": "dash"
          },
          "type": "line",
          "x0": 0,
          "x1": 1,
          "xref": "x2 domain",
          "y0": -0.1385929291125633,
          "y1": -0.1385929291125633,
          "yref": "y2"
         },
         {
          "line": {
           "color": "black",
           "width": 1
          },
          "type": "line",
          "x0": 0,
          "x1": 1,
          "xref": "x2 domain",
          "y0": 0,
          "y1": 0,
          "yref": "y2"
         }
        ],
        "template": {
         "data": {
          "bar": [
           {
            "error_x": {
             "color": "#2a3f5f"
            },
            "error_y": {
             "color": "#2a3f5f"
            },
            "marker": {
             "line": {
              "color": "white",
              "width": 0.5
             },
             "pattern": {
              "fillmode": "overlay",
              "size": 10,
              "solidity": 0.2
             }
            },
            "type": "bar"
           }
          ],
          "barpolar": [
           {
            "marker": {
             "line": {
              "color": "white",
              "width": 0.5
             },
             "pattern": {
              "fillmode": "overlay",
              "size": 10,
              "solidity": 0.2
             }
            },
            "type": "barpolar"
           }
          ],
          "carpet": [
           {
            "aaxis": {
             "endlinecolor": "#2a3f5f",
             "gridcolor": "#C8D4E3",
             "linecolor": "#C8D4E3",
             "minorgridcolor": "#C8D4E3",
             "startlinecolor": "#2a3f5f"
            },
            "baxis": {
             "endlinecolor": "#2a3f5f",
             "gridcolor": "#C8D4E3",
             "linecolor": "#C8D4E3",
             "minorgridcolor": "#C8D4E3",
             "startlinecolor": "#2a3f5f"
            },
            "type": "carpet"
           }
          ],
          "choropleth": [
           {
            "colorbar": {
             "outlinewidth": 0,
             "ticks": ""
            },
            "type": "choropleth"
           }
          ],
          "contour": [
           {
            "colorbar": {
             "outlinewidth": 0,
             "ticks": ""
            },
            "colorscale": [
             [
              0,
              "#0d0887"
             ],
             [
              0.1111111111111111,
              "#46039f"
             ],
             [
              0.2222222222222222,
              "#7201a8"
             ],
             [
              0.3333333333333333,
              "#9c179e"
             ],
             [
              0.4444444444444444,
              "#bd3786"
             ],
             [
              0.5555555555555556,
              "#d8576b"
             ],
             [
              0.6666666666666666,
              "#ed7953"
             ],
             [
              0.7777777777777778,
              "#fb9f3a"
             ],
             [
              0.8888888888888888,
              "#fdca26"
             ],
             [
              1,
              "#f0f921"
             ]
            ],
            "type": "contour"
           }
          ],
          "contourcarpet": [
           {
            "colorbar": {
             "outlinewidth": 0,
             "ticks": ""
            },
            "type": "contourcarpet"
           }
          ],
          "heatmap": [
           {
            "colorbar": {
             "outlinewidth": 0,
             "ticks": ""
            },
            "colorscale": [
             [
              0,
              "#0d0887"
             ],
             [
              0.1111111111111111,
              "#46039f"
             ],
             [
              0.2222222222222222,
              "#7201a8"
             ],
             [
              0.3333333333333333,
              "#9c179e"
             ],
             [
              0.4444444444444444,
              "#bd3786"
             ],
             [
              0.5555555555555556,
              "#d8576b"
             ],
             [
              0.6666666666666666,
              "#ed7953"
             ],
             [
              0.7777777777777778,
              "#fb9f3a"
             ],
             [
              0.8888888888888888,
              "#fdca26"
             ],
             [
              1,
              "#f0f921"
             ]
            ],
            "type": "heatmap"
           }
          ],
          "histogram": [
           {
            "marker": {
             "pattern": {
              "fillmode": "overlay",
              "size": 10,
              "solidity": 0.2
             }
            },
            "type": "histogram"
           }
          ],
          "histogram2d": [
           {
            "colorbar": {
             "outlinewidth": 0,
             "ticks": ""
            },
            "colorscale": [
             [
              0,
              "#0d0887"
             ],
             [
              0.1111111111111111,
              "#46039f"
             ],
             [
              0.2222222222222222,
              "#7201a8"
             ],
             [
              0.3333333333333333,
              "#9c179e"
             ],
             [
              0.4444444444444444,
              "#bd3786"
             ],
             [
              0.5555555555555556,
              "#d8576b"
             ],
             [
              0.6666666666666666,
              "#ed7953"
             ],
             [
              0.7777777777777778,
              "#fb9f3a"
             ],
             [
              0.8888888888888888,
              "#fdca26"
             ],
             [
              1,
              "#f0f921"
             ]
            ],
            "type": "histogram2d"
           }
          ],
          "histogram2dcontour": [
           {
            "colorbar": {
             "outlinewidth": 0,
             "ticks": ""
            },
            "colorscale": [
             [
              0,
              "#0d0887"
             ],
             [
              0.1111111111111111,
              "#46039f"
             ],
             [
              0.2222222222222222,
              "#7201a8"
             ],
             [
              0.3333333333333333,
              "#9c179e"
             ],
             [
              0.4444444444444444,
              "#bd3786"
             ],
             [
              0.5555555555555556,
              "#d8576b"
             ],
             [
              0.6666666666666666,
              "#ed7953"
             ],
             [
              0.7777777777777778,
              "#fb9f3a"
             ],
             [
              0.8888888888888888,
              "#fdca26"
             ],
             [
              1,
              "#f0f921"
             ]
            ],
            "type": "histogram2dcontour"
           }
          ],
          "mesh3d": [
           {
            "colorbar": {
             "outlinewidth": 0,
             "ticks": ""
            },
            "type": "mesh3d"
           }
          ],
          "parcoords": [
           {
            "line": {
             "colorbar": {
              "outlinewidth": 0,
              "ticks": ""
             }
            },
            "type": "parcoords"
           }
          ],
          "pie": [
           {
            "automargin": true,
            "type": "pie"
           }
          ],
          "scatter": [
           {
            "fillpattern": {
             "fillmode": "overlay",
             "size": 10,
             "solidity": 0.2
            },
            "type": "scatter"
           }
          ],
          "scatter3d": [
           {
            "line": {
             "colorbar": {
              "outlinewidth": 0,
              "ticks": ""
             }
            },
            "marker": {
             "colorbar": {
              "outlinewidth": 0,
              "ticks": ""
             }
            },
            "type": "scatter3d"
           }
          ],
          "scattercarpet": [
           {
            "marker": {
             "colorbar": {
              "outlinewidth": 0,
              "ticks": ""
             }
            },
            "type": "scattercarpet"
           }
          ],
          "scattergeo": [
           {
            "marker": {
             "colorbar": {
              "outlinewidth": 0,
              "ticks": ""
             }
            },
            "type": "scattergeo"
           }
          ],
          "scattergl": [
           {
            "marker": {
             "colorbar": {
              "outlinewidth": 0,
              "ticks": ""
             }
            },
            "type": "scattergl"
           }
          ],
          "scattermap": [
           {
            "marker": {
             "colorbar": {
              "outlinewidth": 0,
              "ticks": ""
             }
            },
            "type": "scattermap"
           }
          ],
          "scattermapbox": [
           {
            "marker": {
             "colorbar": {
              "outlinewidth": 0,
              "ticks": ""
             }
            },
            "type": "scattermapbox"
           }
          ],
          "scatterpolar": [
           {
            "marker": {
             "colorbar": {
              "outlinewidth": 0,
              "ticks": ""
             }
            },
            "type": "scatterpolar"
           }
          ],
          "scatterpolargl": [
           {
            "marker": {
             "colorbar": {
              "outlinewidth": 0,
              "ticks": ""
             }
            },
            "type": "scatterpolargl"
           }
          ],
          "scatterternary": [
           {
            "marker": {
             "colorbar": {
              "outlinewidth": 0,
              "ticks": ""
             }
            },
            "type": "scatterternary"
           }
          ],
          "surface": [
           {
            "colorbar": {
             "outlinewidth": 0,
             "ticks": ""
            },
            "colorscale": [
             [
              0,
              "#0d0887"
             ],
             [
              0.1111111111111111,
              "#46039f"
             ],
             [
              0.2222222222222222,
              "#7201a8"
             ],
             [
              0.3333333333333333,
              "#9c179e"
             ],
             [
              0.4444444444444444,
              "#bd3786"
             ],
             [
              0.5555555555555556,
              "#d8576b"
             ],
             [
              0.6666666666666666,
              "#ed7953"
             ],
             [
              0.7777777777777778,
              "#fb9f3a"
             ],
             [
              0.8888888888888888,
              "#fdca26"
             ],
             [
              1,
              "#f0f921"
             ]
            ],
            "type": "surface"
           }
          ],
          "table": [
           {
            "cells": {
             "fill": {
              "color": "#EBF0F8"
             },
             "line": {
              "color": "white"
             }
            },
            "header": {
             "fill": {
              "color": "#C8D4E3"
             },
             "line": {
              "color": "white"
             }
            },
            "type": "table"
           }
          ]
         },
         "layout": {
          "annotationdefaults": {
           "arrowcolor": "#2a3f5f",
           "arrowhead": 0,
           "arrowwidth": 1
          },
          "autotypenumbers": "strict",
          "coloraxis": {
           "colorbar": {
            "outlinewidth": 0,
            "ticks": ""
           }
          },
          "colorscale": {
           "diverging": [
            [
             0,
             "#8e0152"
            ],
            [
             0.1,
             "#c51b7d"
            ],
            [
             0.2,
             "#de77ae"
            ],
            [
             0.3,
             "#f1b6da"
            ],
            [
             0.4,
             "#fde0ef"
            ],
            [
             0.5,
             "#f7f7f7"
            ],
            [
             0.6,
             "#e6f5d0"
            ],
            [
             0.7,
             "#b8e186"
            ],
            [
             0.8,
             "#7fbc41"
            ],
            [
             0.9,
             "#4d9221"
            ],
            [
             1,
             "#276419"
            ]
           ],
           "sequential": [
            [
             0,
             "#0d0887"
            ],
            [
             0.1111111111111111,
             "#46039f"
            ],
            [
             0.2222222222222222,
             "#7201a8"
            ],
            [
             0.3333333333333333,
             "#9c179e"
            ],
            [
             0.4444444444444444,
             "#bd3786"
            ],
            [
             0.5555555555555556,
             "#d8576b"
            ],
            [
             0.6666666666666666,
             "#ed7953"
            ],
            [
             0.7777777777777778,
             "#fb9f3a"
            ],
            [
             0.8888888888888888,
             "#fdca26"
            ],
            [
             1,
             "#f0f921"
            ]
           ],
           "sequentialminus": [
            [
             0,
             "#0d0887"
            ],
            [
             0.1111111111111111,
             "#46039f"
            ],
            [
             0.2222222222222222,
             "#7201a8"
            ],
            [
             0.3333333333333333,
             "#9c179e"
            ],
            [
             0.4444444444444444,
             "#bd3786"
            ],
            [
             0.5555555555555556,
             "#d8576b"
            ],
            [
             0.6666666666666666,
             "#ed7953"
            ],
            [
             0.7777777777777778,
             "#fb9f3a"
            ],
            [
             0.8888888888888888,
             "#fdca26"
            ],
            [
             1,
             "#f0f921"
            ]
           ]
          },
          "colorway": [
           "#636efa",
           "#EF553B",
           "#00cc96",
           "#ab63fa",
           "#FFA15A",
           "#19d3f3",
           "#FF6692",
           "#B6E880",
           "#FF97FF",
           "#FECB52"
          ],
          "font": {
           "color": "#2a3f5f"
          },
          "geo": {
           "bgcolor": "white",
           "lakecolor": "white",
           "landcolor": "white",
           "showlakes": true,
           "showland": true,
           "subunitcolor": "#C8D4E3"
          },
          "hoverlabel": {
           "align": "left"
          },
          "hovermode": "closest",
          "mapbox": {
           "style": "light"
          },
          "paper_bgcolor": "white",
          "plot_bgcolor": "white",
          "polar": {
           "angularaxis": {
            "gridcolor": "#EBF0F8",
            "linecolor": "#EBF0F8",
            "ticks": ""
           },
           "bgcolor": "white",
           "radialaxis": {
            "gridcolor": "#EBF0F8",
            "linecolor": "#EBF0F8",
            "ticks": ""
           }
          },
          "scene": {
           "xaxis": {
            "backgroundcolor": "white",
            "gridcolor": "#DFE8F3",
            "gridwidth": 2,
            "linecolor": "#EBF0F8",
            "showbackground": true,
            "ticks": "",
            "zerolinecolor": "#EBF0F8"
           },
           "yaxis": {
            "backgroundcolor": "white",
            "gridcolor": "#DFE8F3",
            "gridwidth": 2,
            "linecolor": "#EBF0F8",
            "showbackground": true,
            "ticks": "",
            "zerolinecolor": "#EBF0F8"
           },
           "zaxis": {
            "backgroundcolor": "white",
            "gridcolor": "#DFE8F3",
            "gridwidth": 2,
            "linecolor": "#EBF0F8",
            "showbackground": true,
            "ticks": "",
            "zerolinecolor": "#EBF0F8"
           }
          },
          "shapedefaults": {
           "line": {
            "color": "#2a3f5f"
           }
          },
          "ternary": {
           "aaxis": {
            "gridcolor": "#DFE8F3",
            "linecolor": "#A2B1C6",
            "ticks": ""
           },
           "baxis": {
            "gridcolor": "#DFE8F3",
            "linecolor": "#A2B1C6",
            "ticks": ""
           },
           "bgcolor": "white",
           "caxis": {
            "gridcolor": "#DFE8F3",
            "linecolor": "#A2B1C6",
            "ticks": ""
           }
          },
          "title": {
           "x": 0.05
          },
          "xaxis": {
           "automargin": true,
           "gridcolor": "#EBF0F8",
           "linecolor": "#EBF0F8",
           "ticks": "",
           "title": {
            "standoff": 15
           },
           "zerolinecolor": "#EBF0F8",
           "zerolinewidth": 2
          },
          "yaxis": {
           "automargin": true,
           "gridcolor": "#EBF0F8",
           "linecolor": "#EBF0F8",
           "ticks": "",
           "title": {
            "standoff": 15
           },
           "zerolinecolor": "#EBF0F8",
           "zerolinewidth": 2
          }
         }
        },
        "title": {
         "text": "ACF vs PACF Comparison"
        },
        "xaxis": {
         "anchor": "y",
         "domain": [
          0,
          0.45
         ],
         "title": {
          "text": "Lag"
         }
        },
        "xaxis2": {
         "anchor": "y2",
         "domain": [
          0.55,
          1
         ],
         "title": {
          "text": "Lag"
         }
        },
        "yaxis": {
         "anchor": "x",
         "domain": [
          0,
          1
         ],
         "title": {
          "text": "Correlation"
         }
        },
        "yaxis2": {
         "anchor": "x2",
         "domain": [
          0,
          1
         ],
         "title": {
          "text": "Partial Correlation"
         }
        }
       }
      }
     },
     "metadata": {},
     "output_type": "display_data"
    }
   ],
   "source": [
    "# Create side-by-side comparison\n",
    "fig = make_subplots(\n",
    "    rows=1, cols=2,\n",
    "    subplot_titles=('Autocorrelation Function (ACF)', 'Partial Autocorrelation Function (PACF)')\n",
    ")\n",
    "\n",
    "# ACF plot\n",
    "for i in range(len(lags)):\n",
    "    fig.add_trace(go.Scatter(\n",
    "        x=[lags[i], lags[i]], y=[0, acf_corr[i]],\n",
    "        mode='lines', line=dict(color='blue', width=2),\n",
    "        showlegend=False\n",
    "    ), row=1, col=1)\n",
    "\n",
    "fig.add_trace(go.Scatter(\n",
    "    x=lags, y=acf_corr, mode='markers',\n",
    "    marker=dict(size=8, color='blue'),\n",
    "    showlegend=False\n",
    "), row=1, col=1)\n",
    "\n",
    "# PACF plot\n",
    "for i in range(len(lags)):\n",
    "    fig.add_trace(go.Scatter(\n",
    "        x=[lags[i], lags[i]], y=[0, pacf_corr[i]],\n",
    "        mode='lines', line=dict(color='red', width=2),\n",
    "        showlegend=False\n",
    "    ), row=1, col=2)\n",
    "\n",
    "fig.add_trace(go.Scatter(\n",
    "    x=lags, y=pacf_corr, mode='markers',\n",
    "    marker=dict(size=8, color='red'),\n",
    "    showlegend=False\n",
    "), row=1, col=2)\n",
    "\n",
    "# Add confidence bands\n",
    "fig.add_hline(y=confidence_band, line_dash=\"dash\", line_color=\"gray\", row=1, col=1)\n",
    "fig.add_hline(y=-confidence_band, line_dash=\"dash\", line_color=\"gray\", row=1, col=1)\n",
    "fig.add_hline(y=0, line_color=\"black\", line_width=1, row=1, col=1)\n",
    "\n",
    "fig.add_hline(y=confidence_band, line_dash=\"dash\", line_color=\"gray\", row=1, col=2)\n",
    "fig.add_hline(y=-confidence_band, line_dash=\"dash\", line_color=\"gray\", row=1, col=2)\n",
    "fig.add_hline(y=0, line_color=\"black\", line_width=1, row=1, col=2)\n",
    "\n",
    "fig.update_xaxes(title_text=\"Lag\", row=1, col=1)\n",
    "fig.update_xaxes(title_text=\"Lag\", row=1, col=2)\n",
    "fig.update_yaxes(title_text=\"Correlation\", row=1, col=1)\n",
    "fig.update_yaxes(title_text=\"Partial Correlation\", row=1, col=2)\n",
    "\n",
    "fig.update_layout(\n",
    "    title_text='ACF vs PACF Comparison',\n",
    "    height=500,\n",
    "    template='plotly_white'\n",
    ")\n",
    "\n",
    "fig.show()\n"
   ]
  },
  {
   "cell_type": "markdown",
   "id": "17440be4",
   "metadata": {},
   "source": [
    "## 📖 How to Read ACF and PACF Plots: A Practical Guide\n",
    "\n",
    "Understanding ACF and PACF plots is **crucial** for time series analysis and choosing ARIMA parameters. Let's break down how to interpret them!\n",
    "\n",
    "### 🔍 Reading ACF Plots\n",
    "\n",
    "**What are you looking at?**\n",
    "- **X-axis (Lag)**: How many time steps back we're comparing\n",
    "- **Y-axis (Correlation)**: Correlation coefficient (-1 to +1)\n",
    "- **Blue bars**: Correlation value at each lag\n",
    "- **Gray dashed lines**: 95% confidence interval (significance threshold)\n",
    "\n",
    "**Key Rules:**\n",
    "1. **Bars OUTSIDE the gray lines** = Statistically significant correlation\n",
    "2. **Bars INSIDE the gray lines** = Not significant (likely just noise)\n",
    "3. **Lag 0** is always 1.0 (perfect correlation with itself)\n",
    "\n",
    "### 🔍 Reading PACF Plots\n",
    "\n",
    "Same structure as ACF, but shows **direct** correlation only (removing indirect effects through intermediate lags).\n",
    "\n",
    "### 🎯 Using ACF & PACF to Identify Time Series Patterns\n",
    "\n",
    "| Pattern | ACF | PACF | Model Type |\n",
    "|---------|-----|------|------------|\n",
    "| **AR(p)** | Decays gradually (may oscillate/wiggle) | **Cuts off sharply** ✂️ after lag p | AutoRegressive |\n",
    "| **MA(q)** | **Cuts off sharply** ✂️ after lag q | Decays gradually (may oscillate/wiggle) | Moving Average |\n",
    "| **ARMA(p,q)** | Decays gradually (may oscillate/wiggle) | Decays gradually (may oscillate/wiggle) | Both AR and MA |\n",
    "\n",
    "**Note**: \"Decays gradually\" can mean either smooth exponential decay OR oscillating/sinusoidal decay - both are decay as long as values stay within confidence bands!\n",
    "\n",
    "### 📊 What to Look For:\n",
    "\n",
    "1. **\"Cuts off sharply\"** = Spikes are significant, then suddenly drop to within confidence bands\n",
    "   - Example: Lags 1, 2 are significant (bold) → Lag 3+ are not significant (gray)\n",
    "   \n",
    "2. **\"Decays gradually\"** = Values remain significant for many lags OR oscillate but stay insignificant\n",
    "   - Can be **exponential decay**: 0.8 → 0.6 → 0.4 → 0.2 (smooth decrease)\n",
    "   - Can be **sinusoidal decay**: 0.7 → -0.3 → 0.2 → -0.1 (wiggling/oscillating)\n",
    "   - **Key point**: If values wiggle but stay INSIDE confidence bands = still decay!\n",
    "   \n",
    "3. **Count significant spikes** before cutoff to determine p and q values\n",
    "\n",
    "⚠️ **Important**: \"Decay\" doesn't mean monotonic decrease! It can oscillate in a sine wave pattern. What matters is whether values are **statistically significant** (outside confidence bands) or not.\n"
   ]
  },
  {
   "cell_type": "markdown",
   "id": "d808882a",
   "metadata": {},
   "source": [
    "### 🧪 Visual Examples: Different Time Series Patterns\n",
    "\n",
    "Let's generate three different types of series and see how their ACF/PACF plots differ!\n"
   ]
  },
  {
   "cell_type": "code",
   "execution_count": null,
   "id": "d1bdd819",
   "metadata": {},
   "outputs": [
    {
     "data": {
      "application/vnd.plotly.v1+json": {
       "config": {
        "plotlyServerURL": "https://plot.ly"
       },
       "data": [
        {
         "hovertemplate": "Lag 0<br>ACF: 1.000<br>✅ Significant<extra></extra>",
         "line": {
          "color": "rgb(0, 100, 255)",
          "width": 3
         },
         "mode": "lines",
         "showlegend": false,
         "type": "scatter",
         "x": [
          0,
          0
         ],
         "xaxis": "x",
         "y": [
          0,
          1
         ],
         "yaxis": "y"
        },
        {
         "hovertemplate": "Lag 1<br>ACF: 0.484<br>✅ Significant<extra></extra>",
         "line": {
          "color": "rgb(0, 100, 255)",
          "width": 3
         },
         "mode": "lines",
         "showlegend": false,
         "type": "scatter",
         "x": [
          1,
          1
         ],
         "xaxis": "x",
         "y": [
          0,
          0.48444642927937887
         ],
         "yaxis": "y"
        },
        {
         "hovertemplate": "Lag 2<br>ACF: 0.014<br>❌ Not Significant<extra></extra>",
         "line": {
          "color": "rgba(150, 150, 150, 0.4)",
          "width": 2
         },
         "mode": "lines",
         "showlegend": false,
         "type": "scatter",
         "x": [
          2,
          2
         ],
         "xaxis": "x",
         "y": [
          0,
          0.013760008207265164
         ],
         "yaxis": "y"
        },
        {
         "hovertemplate": "Lag 3<br>ACF: -0.153<br>✅ Significant<extra></extra>",
         "line": {
          "color": "rgb(0, 100, 255)",
          "width": 3
         },
         "mode": "lines",
         "showlegend": false,
         "type": "scatter",
         "x": [
          3,
          3
         ],
         "xaxis": "x",
         "y": [
          0,
          -0.1529805338284643
         ],
         "yaxis": "y"
        },
        {
         "hovertemplate": "Lag 4<br>ACF: -0.130<br>✅ Significant<extra></extra>",
         "line": {
          "color": "rgb(0, 100, 255)",
          "width": 3
         },
         "mode": "lines",
         "showlegend": false,
         "type": "scatter",
         "x": [
          4,
          4
         ],
         "xaxis": "x",
         "y": [
          0,
          -0.12974410973559683
         ],
         "yaxis": "y"
        },
        {
         "hovertemplate": "Lag 5<br>ACF: 0.042<br>❌ Not Significant<extra></extra>",
         "line": {
          "color": "rgba(150, 150, 150, 0.4)",
          "width": 2
         },
         "mode": "lines",
         "showlegend": false,
         "type": "scatter",
         "x": [
          5,
          5
         ],
         "xaxis": "x",
         "y": [
          0,
          0.04161532510722946
         ],
         "yaxis": "y"
        },
        {
         "hovertemplate": "Lag 6<br>ACF: 0.108<br>❌ Not Significant<extra></extra>",
         "line": {
          "color": "rgba(150, 150, 150, 0.4)",
          "width": 2
         },
         "mode": "lines",
         "showlegend": false,
         "type": "scatter",
         "x": [
          6,
          6
         ],
         "xaxis": "x",
         "y": [
          0,
          0.10813800477150963
         ],
         "yaxis": "y"
        },
        {
         "hovertemplate": "Lag 7<br>ACF: 0.042<br>❌ Not Significant<extra></extra>",
         "line": {
          "color": "rgba(150, 150, 150, 0.4)",
          "width": 2
         },
         "mode": "lines",
         "showlegend": false,
         "type": "scatter",
         "x": [
          7,
          7
         ],
         "xaxis": "x",
         "y": [
          0,
          0.0416143303587781
         ],
         "yaxis": "y"
        },
        {
         "hovertemplate": "Lag 8<br>ACF: -0.039<br>❌ Not Significant<extra></extra>",
         "line": {
          "color": "rgba(150, 150, 150, 0.4)",
          "width": 2
         },
         "mode": "lines",
         "showlegend": false,
         "type": "scatter",
         "x": [
          8,
          8
         ],
         "xaxis": "x",
         "y": [
          0,
          -0.03918907877921441
         ],
         "yaxis": "y"
        },
        {
         "hovertemplate": "Lag 9<br>ACF: -0.049<br>❌ Not Significant<extra></extra>",
         "line": {
          "color": "rgba(150, 150, 150, 0.4)",
          "width": 2
         },
         "mode": "lines",
         "showlegend": false,
         "type": "scatter",
         "x": [
          9,
          9
         ],
         "xaxis": "x",
         "y": [
          0,
          -0.049459136168200114
         ],
         "yaxis": "y"
        },
        {
         "hovertemplate": "Lag 10<br>ACF: -0.045<br>❌ Not Significant<extra></extra>",
         "line": {
          "color": "rgba(150, 150, 150, 0.4)",
          "width": 2
         },
         "mode": "lines",
         "showlegend": false,
         "type": "scatter",
         "x": [
          10,
          10
         ],
         "xaxis": "x",
         "y": [
          0,
          -0.045227877566116854
         ],
         "yaxis": "y"
        },
        {
         "hovertemplate": "Lag 11<br>ACF: 0.008<br>❌ Not Significant<extra></extra>",
         "line": {
          "color": "rgba(150, 150, 150, 0.4)",
          "width": 2
         },
         "mode": "lines",
         "showlegend": false,
         "type": "scatter",
         "x": [
          11,
          11
         ],
         "xaxis": "x",
         "y": [
          0,
          0.007779413699531902
         ],
         "yaxis": "y"
        },
        {
         "hovertemplate": "Lag 12<br>ACF: 0.000<br>❌ Not Significant<extra></extra>",
         "line": {
          "color": "rgba(150, 150, 150, 0.4)",
          "width": 2
         },
         "mode": "lines",
         "showlegend": false,
         "type": "scatter",
         "x": [
          12,
          12
         ],
         "xaxis": "x",
         "y": [
          0,
          0.0003617027756969842
         ],
         "yaxis": "y"
        },
        {
         "hovertemplate": "Lag 13<br>ACF: -0.045<br>❌ Not Significant<extra></extra>",
         "line": {
          "color": "rgba(150, 150, 150, 0.4)",
          "width": 2
         },
         "mode": "lines",
         "showlegend": false,
         "type": "scatter",
         "x": [
          13,
          13
         ],
         "xaxis": "x",
         "y": [
          0,
          -0.044690528928920885
         ],
         "yaxis": "y"
        },
        {
         "hovertemplate": "Lag 14<br>ACF: -0.066<br>❌ Not Significant<extra></extra>",
         "line": {
          "color": "rgba(150, 150, 150, 0.4)",
          "width": 2
         },
         "mode": "lines",
         "showlegend": false,
         "type": "scatter",
         "x": [
          14,
          14
         ],
         "xaxis": "x",
         "y": [
          0,
          -0.06585111519547757
         ],
         "yaxis": "y"
        },
        {
         "hovertemplate": "Lag 15<br>ACF: -0.075<br>❌ Not Significant<extra></extra>",
         "line": {
          "color": "rgba(150, 150, 150, 0.4)",
          "width": 2
         },
         "mode": "lines",
         "showlegend": false,
         "type": "scatter",
         "x": [
          15,
          15
         ],
         "xaxis": "x",
         "y": [
          0,
          -0.07533659285380387
         ],
         "yaxis": "y"
        },
        {
         "marker": {
          "color": "blue",
          "size": 8
         },
         "mode": "markers",
         "showlegend": false,
         "type": "scatter",
         "x": {
          "bdata": "AAECAwQFBgcICQoLDA0ODw==",
          "dtype": "i1"
         },
         "xaxis": "x",
         "y": {
          "bdata": "AAAAAAAA8D9oz5qYKwHfPy5z8Qk1Low/W+Pbut2Uw7/13RR6dJvAv5UnspiaTqU/e8Xyqe6uuz85Ld83eU6lP+Emb0eXEKS/lWKpOLVSqb9JJge+Gyinv86kvnZO3X8//3ytl120Nz/PnWFQreGmv8ZxK2Ke27C/nsh/SkJJs78=",
          "dtype": "f8"
         },
         "yaxis": "y"
        },
        {
         "hovertemplate": "Lag 0<br>PACF: 1.000<br>✅ Significant<extra></extra>",
         "line": {
          "color": "rgb(255, 50, 50)",
          "width": 3
         },
         "mode": "lines",
         "showlegend": false,
         "type": "scatter",
         "x": [
          0,
          0
         ],
         "xaxis": "x2",
         "y": [
          0,
          1
         ],
         "yaxis": "y2"
        },
        {
         "hovertemplate": "Lag 1<br>PACF: 0.486<br>✅ Significant<extra></extra>",
         "line": {
          "color": "rgb(255, 50, 50)",
          "width": 3
         },
         "mode": "lines",
         "showlegend": false,
         "type": "scatter",
         "x": [
          1,
          1
         ],
         "xaxis": "x2",
         "y": [
          0,
          0.4860666514508816
         ],
         "yaxis": "y2"
        },
        {
         "hovertemplate": "Lag 2<br>PACF: -0.291<br>✅ Significant<extra></extra>",
         "line": {
          "color": "rgb(255, 50, 50)",
          "width": 3
         },
         "mode": "lines",
         "showlegend": false,
         "type": "scatter",
         "x": [
          2,
          2
         ],
         "xaxis": "x2",
         "y": [
          0,
          -0.29120991744798813
         ],
         "yaxis": "y2"
        },
        {
         "hovertemplate": "Lag 3<br>PACF: -0.031<br>❌ Not Significant<extra></extra>",
         "line": {
          "color": "rgba(150, 150, 150, 0.4)",
          "width": 2
         },
         "mode": "lines",
         "showlegend": false,
         "type": "scatter",
         "x": [
          3,
          3
         ],
         "xaxis": "x2",
         "y": [
          0,
          -0.03100597309977354
         ],
         "yaxis": "y2"
        },
        {
         "hovertemplate": "Lag 4<br>PACF: -0.024<br>❌ Not Significant<extra></extra>",
         "line": {
          "color": "rgba(150, 150, 150, 0.4)",
          "width": 2
         },
         "mode": "lines",
         "showlegend": false,
         "type": "scatter",
         "x": [
          4,
          4
         ],
         "xaxis": "x2",
         "y": [
          0,
          -0.024451890612538264
         ],
         "yaxis": "y2"
        },
        {
         "hovertemplate": "Lag 5<br>PACF: 0.133<br>✅ Significant<extra></extra>",
         "line": {
          "color": "rgb(255, 50, 50)",
          "width": 3
         },
         "mode": "lines",
         "showlegend": false,
         "type": "scatter",
         "x": [
          5,
          5
         ],
         "xaxis": "x2",
         "y": [
          0,
          0.13275780638531734
         ],
         "yaxis": "y2"
        },
        {
         "hovertemplate": "Lag 6<br>PACF: -0.018<br>❌ Not Significant<extra></extra>",
         "line": {
          "color": "rgba(150, 150, 150, 0.4)",
          "width": 2
         },
         "mode": "lines",
         "showlegend": false,
         "type": "scatter",
         "x": [
          6,
          6
         ],
         "xaxis": "x2",
         "y": [
          0,
          -0.017601585977685005
         ],
         "yaxis": "y2"
        },
        {
         "hovertemplate": "Lag 7<br>PACF: -0.032<br>❌ Not Significant<extra></extra>",
         "line": {
          "color": "rgba(150, 150, 150, 0.4)",
          "width": 2
         },
         "mode": "lines",
         "showlegend": false,
         "type": "scatter",
         "x": [
          7,
          7
         ],
         "xaxis": "x2",
         "y": [
          0,
          -0.03243246675902057
         ],
         "yaxis": "y2"
        },
        {
         "hovertemplate": "Lag 8<br>PACF: -0.022<br>❌ Not Significant<extra></extra>",
         "line": {
          "color": "rgba(150, 150, 150, 0.4)",
          "width": 2
         },
         "mode": "lines",
         "showlegend": false,
         "type": "scatter",
         "x": [
          8,
          8
         ],
         "xaxis": "x2",
         "y": [
          0,
          -0.0224753187239719
         ],
         "yaxis": "y2"
        },
        {
         "hovertemplate": "Lag 9<br>PACF: 0.024<br>❌ Not Significant<extra></extra>",
         "line": {
          "color": "rgba(150, 150, 150, 0.4)",
          "width": 2
         },
         "mode": "lines",
         "showlegend": false,
         "type": "scatter",
         "x": [
          9,
          9
         ],
         "xaxis": "x2",
         "y": [
          0,
          0.024244910570632414
         ],
         "yaxis": "y2"
        },
        {
         "hovertemplate": "Lag 10<br>PACF: -0.049<br>❌ Not Significant<extra></extra>",
         "line": {
          "color": "rgba(150, 150, 150, 0.4)",
          "width": 2
         },
         "mode": "lines",
         "showlegend": false,
         "type": "scatter",
         "x": [
          10,
          10
         ],
         "xaxis": "x2",
         "y": [
          0,
          -0.04902805581522778
         ],
         "yaxis": "y2"
        },
        {
         "hovertemplate": "Lag 11<br>PACF: 0.040<br>❌ Not Significant<extra></extra>",
         "line": {
          "color": "rgba(150, 150, 150, 0.4)",
          "width": 2
         },
         "mode": "lines",
         "showlegend": false,
         "type": "scatter",
         "x": [
          11,
          11
         ],
         "xaxis": "x2",
         "y": [
          0,
          0.03998690263319667
         ],
         "yaxis": "y2"
        },
        {
         "hovertemplate": "Lag 12<br>PACF: -0.059<br>❌ Not Significant<extra></extra>",
         "line": {
          "color": "rgba(150, 150, 150, 0.4)",
          "width": 2
         },
         "mode": "lines",
         "showlegend": false,
         "type": "scatter",
         "x": [
          12,
          12
         ],
         "xaxis": "x2",
         "y": [
          0,
          -0.05935884989102212
         ],
         "yaxis": "y2"
        },
        {
         "hovertemplate": "Lag 13<br>PACF: -0.027<br>❌ Not Significant<extra></extra>",
         "line": {
          "color": "rgba(150, 150, 150, 0.4)",
          "width": 2
         },
         "mode": "lines",
         "showlegend": false,
         "type": "scatter",
         "x": [
          13,
          13
         ],
         "xaxis": "x2",
         "y": [
          0,
          -0.026759253294949607
         ],
         "yaxis": "y2"
        },
        {
         "hovertemplate": "Lag 14<br>PACF: -0.034<br>❌ Not Significant<extra></extra>",
         "line": {
          "color": "rgba(150, 150, 150, 0.4)",
          "width": 2
         },
         "mode": "lines",
         "showlegend": false,
         "type": "scatter",
         "x": [
          14,
          14
         ],
         "xaxis": "x2",
         "y": [
          0,
          -0.0338282023835641
         ],
         "yaxis": "y2"
        },
        {
         "hovertemplate": "Lag 15<br>PACF: -0.038<br>❌ Not Significant<extra></extra>",
         "line": {
          "color": "rgba(150, 150, 150, 0.4)",
          "width": 2
         },
         "mode": "lines",
         "showlegend": false,
         "type": "scatter",
         "x": [
          15,
          15
         ],
         "xaxis": "x2",
         "y": [
          0,
          -0.038091493623790385
         ],
         "yaxis": "y2"
        },
        {
         "marker": {
          "color": "red",
          "size": 8
         },
         "mode": "markers",
         "showlegend": false,
         "type": "scatter",
         "x": {
          "bdata": "AAECAwQFBgcICQoLDA0ODw==",
          "dtype": "i1"
         },
         "xaxis": "x2",
         "y": {
          "bdata": "AAAAAAAA8D/dGOpMtxvfPyFw7esuo9K/79fGoQfAn7/dXgaa6gmZv31YWzI1/sA//A2HcCYGkr/hAB4A/Zqgvz/qixvFA5e/yTL7Z6jTmD/3L6CQNBqpv5vkJ84peaQ/ji0Ffkhkrr/xmREXx2abvyD61h3uUaG/AG29brqAo78=",
          "dtype": "f8"
         },
         "yaxis": "y2"
        },
        {
         "hovertemplate": "Lag 0<br>ACF: 1.000<br>✅ Significant<extra></extra>",
         "line": {
          "color": "rgb(0, 100, 255)",
          "width": 3
         },
         "mode": "lines",
         "showlegend": false,
         "type": "scatter",
         "x": [
          0,
          0
         ],
         "xaxis": "x3",
         "y": [
          0,
          1
         ],
         "yaxis": "y3"
        },
        {
         "hovertemplate": "Lag 1<br>ACF: 0.612<br>✅ Significant<extra></extra>",
         "line": {
          "color": "rgb(0, 100, 255)",
          "width": 3
         },
         "mode": "lines",
         "showlegend": false,
         "type": "scatter",
         "x": [
          1,
          1
         ],
         "xaxis": "x3",
         "y": [
          0,
          0.6123859395371632
         ],
         "yaxis": "y3"
        },
        {
         "hovertemplate": "Lag 2<br>ACF: 0.218<br>✅ Significant<extra></extra>",
         "line": {
          "color": "rgb(0, 100, 255)",
          "width": 3
         },
         "mode": "lines",
         "showlegend": false,
         "type": "scatter",
         "x": [
          2,
          2
         ],
         "xaxis": "x3",
         "y": [
          0,
          0.21750565933930507
         ],
         "yaxis": "y3"
        },
        {
         "hovertemplate": "Lag 3<br>ACF: -0.015<br>❌ Not Significant<extra></extra>",
         "line": {
          "color": "rgba(150, 150, 150, 0.4)",
          "width": 2
         },
         "mode": "lines",
         "showlegend": false,
         "type": "scatter",
         "x": [
          3,
          3
         ],
         "xaxis": "x3",
         "y": [
          0,
          -0.014738265036380708
         ],
         "yaxis": "y3"
        },
        {
         "hovertemplate": "Lag 4<br>ACF: -0.092<br>❌ Not Significant<extra></extra>",
         "line": {
          "color": "rgba(150, 150, 150, 0.4)",
          "width": 2
         },
         "mode": "lines",
         "showlegend": false,
         "type": "scatter",
         "x": [
          4,
          4
         ],
         "xaxis": "x3",
         "y": [
          0,
          -0.09197878737539322
         ],
         "yaxis": "y3"
        },
        {
         "hovertemplate": "Lag 5<br>ACF: -0.096<br>❌ Not Significant<extra></extra>",
         "line": {
          "color": "rgba(150, 150, 150, 0.4)",
          "width": 2
         },
         "mode": "lines",
         "showlegend": false,
         "type": "scatter",
         "x": [
          5,
          5
         ],
         "xaxis": "x3",
         "y": [
          0,
          -0.09572307524981451
         ],
         "yaxis": "y3"
        },
        {
         "hovertemplate": "Lag 6<br>ACF: -0.082<br>❌ Not Significant<extra></extra>",
         "line": {
          "color": "rgba(150, 150, 150, 0.4)",
          "width": 2
         },
         "mode": "lines",
         "showlegend": false,
         "type": "scatter",
         "x": [
          6,
          6
         ],
         "xaxis": "x3",
         "y": [
          0,
          -0.08176256127683842
         ],
         "yaxis": "y3"
        },
        {
         "hovertemplate": "Lag 7<br>ACF: -0.094<br>❌ Not Significant<extra></extra>",
         "line": {
          "color": "rgba(150, 150, 150, 0.4)",
          "width": 2
         },
         "mode": "lines",
         "showlegend": false,
         "type": "scatter",
         "x": [
          7,
          7
         ],
         "xaxis": "x3",
         "y": [
          0,
          -0.09377217563873773
         ],
         "yaxis": "y3"
        },
        {
         "hovertemplate": "Lag 8<br>ACF: -0.087<br>❌ Not Significant<extra></extra>",
         "line": {
          "color": "rgba(150, 150, 150, 0.4)",
          "width": 2
         },
         "mode": "lines",
         "showlegend": false,
         "type": "scatter",
         "x": [
          8,
          8
         ],
         "xaxis": "x3",
         "y": [
          0,
          -0.0866390427135788
         ],
         "yaxis": "y3"
        },
        {
         "hovertemplate": "Lag 9<br>ACF: 0.002<br>❌ Not Significant<extra></extra>",
         "line": {
          "color": "rgba(150, 150, 150, 0.4)",
          "width": 2
         },
         "mode": "lines",
         "showlegend": false,
         "type": "scatter",
         "x": [
          9,
          9
         ],
         "xaxis": "x3",
         "y": [
          0,
          0.001973537859260645
         ],
         "yaxis": "y3"
        },
        {
         "hovertemplate": "Lag 10<br>ACF: 0.115<br>✅ Significant<extra></extra>",
         "line": {
          "color": "rgb(0, 100, 255)",
          "width": 3
         },
         "mode": "lines",
         "showlegend": false,
         "type": "scatter",
         "x": [
          10,
          10
         ],
         "xaxis": "x3",
         "y": [
          0,
          0.11506431223151664
         ],
         "yaxis": "y3"
        },
        {
         "hovertemplate": "Lag 11<br>ACF: 0.175<br>✅ Significant<extra></extra>",
         "line": {
          "color": "rgb(0, 100, 255)",
          "width": 3
         },
         "mode": "lines",
         "showlegend": false,
         "type": "scatter",
         "x": [
          11,
          11
         ],
         "xaxis": "x3",
         "y": [
          0,
          0.17498726683157095
         ],
         "yaxis": "y3"
        },
        {
         "hovertemplate": "Lag 12<br>ACF: 0.150<br>✅ Significant<extra></extra>",
         "line": {
          "color": "rgb(0, 100, 255)",
          "width": 3
         },
         "mode": "lines",
         "showlegend": false,
         "type": "scatter",
         "x": [
          12,
          12
         ],
         "xaxis": "x3",
         "y": [
          0,
          0.15021849236497506
         ],
         "yaxis": "y3"
        },
        {
         "hovertemplate": "Lag 13<br>ACF: 0.085<br>❌ Not Significant<extra></extra>",
         "line": {
          "color": "rgba(150, 150, 150, 0.4)",
          "width": 2
         },
         "mode": "lines",
         "showlegend": false,
         "type": "scatter",
         "x": [
          13,
          13
         ],
         "xaxis": "x3",
         "y": [
          0,
          0.08488915213709797
         ],
         "yaxis": "y3"
        },
        {
         "hovertemplate": "Lag 14<br>ACF: 0.048<br>❌ Not Significant<extra></extra>",
         "line": {
          "color": "rgba(150, 150, 150, 0.4)",
          "width": 2
         },
         "mode": "lines",
         "showlegend": false,
         "type": "scatter",
         "x": [
          14,
          14
         ],
         "xaxis": "x3",
         "y": [
          0,
          0.04760472856529151
         ],
         "yaxis": "y3"
        },
        {
         "hovertemplate": "Lag 15<br>ACF: 0.058<br>❌ Not Significant<extra></extra>",
         "line": {
          "color": "rgba(150, 150, 150, 0.4)",
          "width": 2
         },
         "mode": "lines",
         "showlegend": false,
         "type": "scatter",
         "x": [
          15,
          15
         ],
         "xaxis": "x3",
         "y": [
          0,
          0.057527680929992234
         ],
         "yaxis": "y3"
        },
        {
         "marker": {
          "color": "blue",
          "size": 8
         },
         "mode": "markers",
         "showlegend": false,
         "type": "scatter",
         "x": {
          "bdata": "AAECAwQFBgcICQoLDA0ODw==",
          "dtype": "i1"
         },
         "xaxis": "x3",
         "y": {
          "bdata": "AAAAAAAA8D+H9NplqpjjP2NTx7Y518s/4vWlchgvjr8w+7P764u3v+mlq7VOgbi/rqG4JmTutL8/paQLdAG4vyD2Au/5Lba/nZ8DEs8qYD/MmfjR2nS9P+QGIZb7ZcY/myL7C1w6wz/8yDakS7u1Pw5RpaClX6g/OgdrqER0rT8=",
          "dtype": "f8"
         },
         "yaxis": "y3"
        },
        {
         "hovertemplate": "Lag 0<br>PACF: 1.000<br>✅ Significant<extra></extra>",
         "line": {
          "color": "rgb(255, 50, 50)",
          "width": 3
         },
         "mode": "lines",
         "showlegend": false,
         "type": "scatter",
         "x": [
          0,
          0
         ],
         "xaxis": "x4",
         "y": [
          0,
          1
         ],
         "yaxis": "y4"
        },
        {
         "hovertemplate": "Lag 1<br>PACF: 0.614<br>✅ Significant<extra></extra>",
         "line": {
          "color": "rgb(255, 50, 50)",
          "width": 3
         },
         "mode": "lines",
         "showlegend": false,
         "type": "scatter",
         "x": [
          1,
          1
         ],
         "xaxis": "x4",
         "y": [
          0,
          0.6144340530473211
         ],
         "yaxis": "y4"
        },
        {
         "hovertemplate": "Lag 2<br>PACF: -0.255<br>✅ Significant<extra></extra>",
         "line": {
          "color": "rgb(255, 50, 50)",
          "width": 3
         },
         "mode": "lines",
         "showlegend": false,
         "type": "scatter",
         "x": [
          2,
          2
         ],
         "xaxis": "x4",
         "y": [
          0,
          -0.25473287757653107
         ],
         "yaxis": "y4"
        },
        {
         "hovertemplate": "Lag 3<br>PACF: -0.047<br>❌ Not Significant<extra></extra>",
         "line": {
          "color": "rgba(150, 150, 150, 0.4)",
          "width": 2
         },
         "mode": "lines",
         "showlegend": false,
         "type": "scatter",
         "x": [
          3,
          3
         ],
         "xaxis": "x4",
         "y": [
          0,
          -0.04669829060123656
         ],
         "yaxis": "y4"
        },
        {
         "hovertemplate": "Lag 4<br>PACF: -0.009<br>❌ Not Significant<extra></extra>",
         "line": {
          "color": "rgba(150, 150, 150, 0.4)",
          "width": 2
         },
         "mode": "lines",
         "showlegend": false,
         "type": "scatter",
         "x": [
          4,
          4
         ],
         "xaxis": "x4",
         "y": [
          0,
          -0.009183871260434844
         ],
         "yaxis": "y4"
        },
        {
         "hovertemplate": "Lag 5<br>PACF: -0.027<br>❌ Not Significant<extra></extra>",
         "line": {
          "color": "rgba(150, 150, 150, 0.4)",
          "width": 2
         },
         "mode": "lines",
         "showlegend": false,
         "type": "scatter",
         "x": [
          5,
          5
         ],
         "xaxis": "x4",
         "y": [
          0,
          -0.026808712541018617
         ],
         "yaxis": "y4"
        },
        {
         "hovertemplate": "Lag 6<br>PACF: -0.029<br>❌ Not Significant<extra></extra>",
         "line": {
          "color": "rgba(150, 150, 150, 0.4)",
          "width": 2
         },
         "mode": "lines",
         "showlegend": false,
         "type": "scatter",
         "x": [
          6,
          6
         ],
         "xaxis": "x4",
         "y": [
          0,
          -0.029177514122624724
         ],
         "yaxis": "y4"
        },
        {
         "hovertemplate": "Lag 7<br>PACF: -0.069<br>❌ Not Significant<extra></extra>",
         "line": {
          "color": "rgba(150, 150, 150, 0.4)",
          "width": 2
         },
         "mode": "lines",
         "showlegend": false,
         "type": "scatter",
         "x": [
          7,
          7
         ],
         "xaxis": "x4",
         "y": [
          0,
          -0.06850413560431692
         ],
         "yaxis": "y4"
        },
        {
         "hovertemplate": "Lag 8<br>PACF: -0.004<br>❌ Not Significant<extra></extra>",
         "line": {
          "color": "rgba(150, 150, 150, 0.4)",
          "width": 2
         },
         "mode": "lines",
         "showlegend": false,
         "type": "scatter",
         "x": [
          8,
          8
         ],
         "xaxis": "x4",
         "y": [
          0,
          -0.004427960851983119
         ],
         "yaxis": "y4"
        },
        {
         "hovertemplate": "Lag 9<br>PACF: 0.103<br>❌ Not Significant<extra></extra>",
         "line": {
          "color": "rgba(150, 150, 150, 0.4)",
          "width": 2
         },
         "mode": "lines",
         "showlegend": false,
         "type": "scatter",
         "x": [
          9,
          9
         ],
         "xaxis": "x4",
         "y": [
          0,
          0.10338383305851581
         ],
         "yaxis": "y4"
        },
        {
         "hovertemplate": "Lag 10<br>PACF: 0.085<br>❌ Not Significant<extra></extra>",
         "line": {
          "color": "rgba(150, 150, 150, 0.4)",
          "width": 2
         },
         "mode": "lines",
         "showlegend": false,
         "type": "scatter",
         "x": [
          10,
          10
         ],
         "xaxis": "x4",
         "y": [
          0,
          0.08473197934622634
         ],
         "yaxis": "y4"
        },
        {
         "hovertemplate": "Lag 11<br>PACF: 0.044<br>❌ Not Significant<extra></extra>",
         "line": {
          "color": "rgba(150, 150, 150, 0.4)",
          "width": 2
         },
         "mode": "lines",
         "showlegend": false,
         "type": "scatter",
         "x": [
          11,
          11
         ],
         "xaxis": "x4",
         "y": [
          0,
          0.04421766830709088
         ],
         "yaxis": "y4"
        },
        {
         "hovertemplate": "Lag 12<br>PACF: -0.000<br>❌ Not Significant<extra></extra>",
         "line": {
          "color": "rgba(150, 150, 150, 0.4)",
          "width": 2
         },
         "mode": "lines",
         "showlegend": false,
         "type": "scatter",
         "x": [
          12,
          12
         ],
         "xaxis": "x4",
         "y": [
          0,
          -0.00023370026812701523
         ],
         "yaxis": "y4"
        },
        {
         "hovertemplate": "Lag 13<br>PACF: 0.005<br>❌ Not Significant<extra></extra>",
         "line": {
          "color": "rgba(150, 150, 150, 0.4)",
          "width": 2
         },
         "mode": "lines",
         "showlegend": false,
         "type": "scatter",
         "x": [
          13,
          13
         ],
         "xaxis": "x4",
         "y": [
          0,
          0.0051316866060310525
         ],
         "yaxis": "y4"
        },
        {
         "hovertemplate": "Lag 14<br>PACF: 0.046<br>❌ Not Significant<extra></extra>",
         "line": {
          "color": "rgba(150, 150, 150, 0.4)",
          "width": 2
         },
         "mode": "lines",
         "showlegend": false,
         "type": "scatter",
         "x": [
          14,
          14
         ],
         "xaxis": "x4",
         "y": [
          0,
          0.04571071433838703
         ],
         "yaxis": "y4"
        },
        {
         "hovertemplate": "Lag 15<br>PACF: 0.060<br>❌ Not Significant<extra></extra>",
         "line": {
          "color": "rgba(150, 150, 150, 0.4)",
          "width": 2
         },
         "mode": "lines",
         "showlegend": false,
         "type": "scatter",
         "x": [
          15,
          15
         ],
         "xaxis": "x4",
         "y": [
          0,
          0.060372152779620866
         ],
         "yaxis": "y4"
        },
        {
         "marker": {
          "color": "red",
          "size": 8
         },
         "mode": "markers",
         "showlegend": false,
         "type": "scatter",
         "x": {
          "bdata": "AAECAwQFBgcICQoLDA0ODw==",
          "dtype": "i1"
         },
         "xaxis": "x4",
         "y": {
          "bdata": "AAAAAAAA8D8WYmyacanjPx4PmiCLTdC/A6XSndbop798xLZV/s6Cv4w3cj6+c5u/hrK907Xgnb+6sA+ufImxv1J6wbANI3K/FuTr5Vx3uj/Ypje4/rC1P9aTkb6yo6Y/v6ZwBK6hLr+d71ai9gR1P+EBUg5lZ6c/5h+OSxnprj8=",
          "dtype": "f8"
         },
         "yaxis": "y4"
        },
        {
         "hovertemplate": "Lag 0<br>ACF: 1.000<br>✅ Significant<extra></extra>",
         "line": {
          "color": "rgb(0, 100, 255)",
          "width": 3
         },
         "mode": "lines",
         "showlegend": false,
         "type": "scatter",
         "x": [
          0,
          0
         ],
         "xaxis": "x5",
         "y": [
          0,
          1
         ],
         "yaxis": "y5"
        },
        {
         "hovertemplate": "Lag 1<br>ACF: 0.753<br>✅ Significant<extra></extra>",
         "line": {
          "color": "rgb(0, 100, 255)",
          "width": 3
         },
         "mode": "lines",
         "showlegend": false,
         "type": "scatter",
         "x": [
          1,
          1
         ],
         "xaxis": "x5",
         "y": [
          0,
          0.7526218494854683
         ],
         "yaxis": "y5"
        },
        {
         "hovertemplate": "Lag 2<br>ACF: 0.446<br>✅ Significant<extra></extra>",
         "line": {
          "color": "rgb(0, 100, 255)",
          "width": 3
         },
         "mode": "lines",
         "showlegend": false,
         "type": "scatter",
         "x": [
          2,
          2
         ],
         "xaxis": "x5",
         "y": [
          0,
          0.44603843251806835
         ],
         "yaxis": "y5"
        },
        {
         "hovertemplate": "Lag 3<br>ACF: 0.261<br>✅ Significant<extra></extra>",
         "line": {
          "color": "rgb(0, 100, 255)",
          "width": 3
         },
         "mode": "lines",
         "showlegend": false,
         "type": "scatter",
         "x": [
          3,
          3
         ],
         "xaxis": "x5",
         "y": [
          0,
          0.26068221421172205
         ],
         "yaxis": "y5"
        },
        {
         "hovertemplate": "Lag 4<br>ACF: 0.167<br>✅ Significant<extra></extra>",
         "line": {
          "color": "rgb(0, 100, 255)",
          "width": 3
         },
         "mode": "lines",
         "showlegend": false,
         "type": "scatter",
         "x": [
          4,
          4
         ],
         "xaxis": "x5",
         "y": [
          0,
          0.1669803152686025
         ],
         "yaxis": "y5"
        },
        {
         "hovertemplate": "Lag 5<br>ACF: 0.128<br>✅ Significant<extra></extra>",
         "line": {
          "color": "rgb(0, 100, 255)",
          "width": 3
         },
         "mode": "lines",
         "showlegend": false,
         "type": "scatter",
         "x": [
          5,
          5
         ],
         "xaxis": "x5",
         "y": [
          0,
          0.12785249383275127
         ],
         "yaxis": "y5"
        },
        {
         "hovertemplate": "Lag 6<br>ACF: 0.082<br>❌ Not Significant<extra></extra>",
         "line": {
          "color": "rgba(150, 150, 150, 0.4)",
          "width": 2
         },
         "mode": "lines",
         "showlegend": false,
         "type": "scatter",
         "x": [
          6,
          6
         ],
         "xaxis": "x5",
         "y": [
          0,
          0.08153056923433896
         ],
         "yaxis": "y5"
        },
        {
         "hovertemplate": "Lag 7<br>ACF: 0.064<br>❌ Not Significant<extra></extra>",
         "line": {
          "color": "rgba(150, 150, 150, 0.4)",
          "width": 2
         },
         "mode": "lines",
         "showlegend": false,
         "type": "scatter",
         "x": [
          7,
          7
         ],
         "xaxis": "x5",
         "y": [
          0,
          0.06408403351135646
         ],
         "yaxis": "y5"
        },
        {
         "hovertemplate": "Lag 8<br>ACF: 0.069<br>❌ Not Significant<extra></extra>",
         "line": {
          "color": "rgba(150, 150, 150, 0.4)",
          "width": 2
         },
         "mode": "lines",
         "showlegend": false,
         "type": "scatter",
         "x": [
          8,
          8
         ],
         "xaxis": "x5",
         "y": [
          0,
          0.06939471793591419
         ],
         "yaxis": "y5"
        },
        {
         "hovertemplate": "Lag 9<br>ACF: 0.075<br>❌ Not Significant<extra></extra>",
         "line": {
          "color": "rgba(150, 150, 150, 0.4)",
          "width": 2
         },
         "mode": "lines",
         "showlegend": false,
         "type": "scatter",
         "x": [
          9,
          9
         ],
         "xaxis": "x5",
         "y": [
          0,
          0.07535107305244035
         ],
         "yaxis": "y5"
        },
        {
         "hovertemplate": "Lag 10<br>ACF: 0.047<br>❌ Not Significant<extra></extra>",
         "line": {
          "color": "rgba(150, 150, 150, 0.4)",
          "width": 2
         },
         "mode": "lines",
         "showlegend": false,
         "type": "scatter",
         "x": [
          10,
          10
         ],
         "xaxis": "x5",
         "y": [
          0,
          0.04729280492489388
         ],
         "yaxis": "y5"
        },
        {
         "hovertemplate": "Lag 11<br>ACF: -0.002<br>❌ Not Significant<extra></extra>",
         "line": {
          "color": "rgba(150, 150, 150, 0.4)",
          "width": 2
         },
         "mode": "lines",
         "showlegend": false,
         "type": "scatter",
         "x": [
          11,
          11
         ],
         "xaxis": "x5",
         "y": [
          0,
          -0.0015074515567211056
         ],
         "yaxis": "y5"
        },
        {
         "hovertemplate": "Lag 12<br>ACF: -0.028<br>❌ Not Significant<extra></extra>",
         "line": {
          "color": "rgba(150, 150, 150, 0.4)",
          "width": 2
         },
         "mode": "lines",
         "showlegend": false,
         "type": "scatter",
         "x": [
          12,
          12
         ],
         "xaxis": "x5",
         "y": [
          0,
          -0.02787589978287283
         ],
         "yaxis": "y5"
        },
        {
         "hovertemplate": "Lag 13<br>ACF: -0.043<br>❌ Not Significant<extra></extra>",
         "line": {
          "color": "rgba(150, 150, 150, 0.4)",
          "width": 2
         },
         "mode": "lines",
         "showlegend": false,
         "type": "scatter",
         "x": [
          13,
          13
         ],
         "xaxis": "x5",
         "y": [
          0,
          -0.04336381567329623
         ],
         "yaxis": "y5"
        },
        {
         "hovertemplate": "Lag 14<br>ACF: -0.074<br>❌ Not Significant<extra></extra>",
         "line": {
          "color": "rgba(150, 150, 150, 0.4)",
          "width": 2
         },
         "mode": "lines",
         "showlegend": false,
         "type": "scatter",
         "x": [
          14,
          14
         ],
         "xaxis": "x5",
         "y": [
          0,
          -0.07373883269155958
         ],
         "yaxis": "y5"
        },
        {
         "hovertemplate": "Lag 15<br>ACF: -0.088<br>❌ Not Significant<extra></extra>",
         "line": {
          "color": "rgba(150, 150, 150, 0.4)",
          "width": 2
         },
         "mode": "lines",
         "showlegend": false,
         "type": "scatter",
         "x": [
          15,
          15
         ],
         "xaxis": "x5",
         "y": [
          0,
          -0.0882670435718707
         ],
         "yaxis": "y5"
        },
        {
         "marker": {
          "color": "blue",
          "size": 8
         },
         "mode": "markers",
         "showlegend": false,
         "type": "scatter",
         "x": {
          "bdata": "AAECAwQFBgcICQoLDA0ODw==",
          "dtype": "i1"
         },
         "xaxis": "x5",
         "y": {
          "bdata": "AAAAAAAA8D+hcblqehXoPzMmG8jki9w/rQssdASv0D/xw5NonF/FP3qi3HN4XcA/Flp8+C/ftD/1hSCsz2ewP/3FDCzaw7E/lo56OjVKsz80IPo0wzaoP/sgu8i1sli/2PKn93+LnL95DEs0yDOmv7H/2lKM4LK/xK50QauYtr8=",
          "dtype": "f8"
         },
         "yaxis": "y5"
        },
        {
         "hovertemplate": "Lag 0<br>PACF: 1.000<br>✅ Significant<extra></extra>",
         "line": {
          "color": "rgb(255, 50, 50)",
          "width": 3
         },
         "mode": "lines",
         "showlegend": false,
         "type": "scatter",
         "x": [
          0,
          0
         ],
         "xaxis": "x6",
         "y": [
          0,
          1
         ],
         "yaxis": "y6"
        },
        {
         "hovertemplate": "Lag 1<br>PACF: 0.755<br>✅ Significant<extra></extra>",
         "line": {
          "color": "rgb(255, 50, 50)",
          "width": 3
         },
         "mode": "lines",
         "showlegend": false,
         "type": "scatter",
         "x": [
          1,
          1
         ],
         "xaxis": "x6",
         "y": [
          0,
          0.7551389794168579
         ],
         "yaxis": "y6"
        },
        {
         "hovertemplate": "Lag 2<br>PACF: -0.282<br>✅ Significant<extra></extra>",
         "line": {
          "color": "rgb(255, 50, 50)",
          "width": 3
         },
         "mode": "lines",
         "showlegend": false,
         "type": "scatter",
         "x": [
          2,
          2
         ],
         "xaxis": "x6",
         "y": [
          0,
          -0.28202125545194506
         ],
         "yaxis": "y6"
        },
        {
         "hovertemplate": "Lag 3<br>PACF: 0.105<br>❌ Not Significant<extra></extra>",
         "line": {
          "color": "rgba(150, 150, 150, 0.4)",
          "width": 2
         },
         "mode": "lines",
         "showlegend": false,
         "type": "scatter",
         "x": [
          3,
          3
         ],
         "xaxis": "x6",
         "y": [
          0,
          0.10508748232349427
         ],
         "yaxis": "y6"
        },
        {
         "hovertemplate": "Lag 4<br>PACF: -0.001<br>❌ Not Significant<extra></extra>",
         "line": {
          "color": "rgba(150, 150, 150, 0.4)",
          "width": 2
         },
         "mode": "lines",
         "showlegend": false,
         "type": "scatter",
         "x": [
          4,
          4
         ],
         "xaxis": "x6",
         "y": [
          0,
          -0.0013299694502625125
         ],
         "yaxis": "y6"
        },
        {
         "hovertemplate": "Lag 5<br>PACF: 0.040<br>❌ Not Significant<extra></extra>",
         "line": {
          "color": "rgba(150, 150, 150, 0.4)",
          "width": 2
         },
         "mode": "lines",
         "showlegend": false,
         "type": "scatter",
         "x": [
          5,
          5
         ],
         "xaxis": "x6",
         "y": [
          0,
          0.03973684297757989
         ],
         "yaxis": "y6"
        },
        {
         "hovertemplate": "Lag 6<br>PACF: -0.063<br>❌ Not Significant<extra></extra>",
         "line": {
          "color": "rgba(150, 150, 150, 0.4)",
          "width": 2
         },
         "mode": "lines",
         "showlegend": false,
         "type": "scatter",
         "x": [
          6,
          6
         ],
         "xaxis": "x6",
         "y": [
          0,
          -0.06260731110992285
         ],
         "yaxis": "y6"
        },
        {
         "hovertemplate": "Lag 7<br>PACF: 0.077<br>❌ Not Significant<extra></extra>",
         "line": {
          "color": "rgba(150, 150, 150, 0.4)",
          "width": 2
         },
         "mode": "lines",
         "showlegend": false,
         "type": "scatter",
         "x": [
          7,
          7
         ],
         "xaxis": "x6",
         "y": [
          0,
          0.07691212942940012
         ],
         "yaxis": "y6"
        },
        {
         "hovertemplate": "Lag 8<br>PACF: 0.009<br>❌ Not Significant<extra></extra>",
         "line": {
          "color": "rgba(150, 150, 150, 0.4)",
          "width": 2
         },
         "mode": "lines",
         "showlegend": false,
         "type": "scatter",
         "x": [
          8,
          8
         ],
         "xaxis": "x6",
         "y": [
          0,
          0.009165911181010664
         ],
         "yaxis": "y6"
        },
        {
         "hovertemplate": "Lag 9<br>PACF: 0.018<br>❌ Not Significant<extra></extra>",
         "line": {
          "color": "rgba(150, 150, 150, 0.4)",
          "width": 2
         },
         "mode": "lines",
         "showlegend": false,
         "type": "scatter",
         "x": [
          9,
          9
         ],
         "xaxis": "x6",
         "y": [
          0,
          0.018247292316790644
         ],
         "yaxis": "y6"
        },
        {
         "hovertemplate": "Lag 10<br>PACF: -0.068<br>❌ Not Significant<extra></extra>",
         "line": {
          "color": "rgba(150, 150, 150, 0.4)",
          "width": 2
         },
         "mode": "lines",
         "showlegend": false,
         "type": "scatter",
         "x": [
          10,
          10
         ],
         "xaxis": "x6",
         "y": [
          0,
          -0.06818908194277054
         ],
         "yaxis": "y6"
        },
        {
         "hovertemplate": "Lag 11<br>PACF: -0.024<br>❌ Not Significant<extra></extra>",
         "line": {
          "color": "rgba(150, 150, 150, 0.4)",
          "width": 2
         },
         "mode": "lines",
         "showlegend": false,
         "type": "scatter",
         "x": [
          11,
          11
         ],
         "xaxis": "x6",
         "y": [
          0,
          -0.024224956224419027
         ],
         "yaxis": "y6"
        },
        {
         "hovertemplate": "Lag 12<br>PACF: 0.006<br>❌ Not Significant<extra></extra>",
         "line": {
          "color": "rgba(150, 150, 150, 0.4)",
          "width": 2
         },
         "mode": "lines",
         "showlegend": false,
         "type": "scatter",
         "x": [
          12,
          12
         ],
         "xaxis": "x6",
         "y": [
          0,
          0.006030072704970787
         ],
         "yaxis": "y6"
        },
        {
         "hovertemplate": "Lag 13<br>PACF: -0.034<br>❌ Not Significant<extra></extra>",
         "line": {
          "color": "rgba(150, 150, 150, 0.4)",
          "width": 2
         },
         "mode": "lines",
         "showlegend": false,
         "type": "scatter",
         "x": [
          13,
          13
         ],
         "xaxis": "x6",
         "y": [
          0,
          -0.03438813579552354
         ],
         "yaxis": "y6"
        },
        {
         "hovertemplate": "Lag 14<br>PACF: -0.070<br>❌ Not Significant<extra></extra>",
         "line": {
          "color": "rgba(150, 150, 150, 0.4)",
          "width": 2
         },
         "mode": "lines",
         "showlegend": false,
         "type": "scatter",
         "x": [
          14,
          14
         ],
         "xaxis": "x6",
         "y": [
          0,
          -0.06967717471242264
         ],
         "yaxis": "y6"
        },
        {
         "hovertemplate": "Lag 15<br>PACF: 0.022<br>❌ Not Significant<extra></extra>",
         "line": {
          "color": "rgba(150, 150, 150, 0.4)",
          "width": 2
         },
         "mode": "lines",
         "showlegend": false,
         "type": "scatter",
         "x": [
          15,
          15
         ],
         "xaxis": "x6",
         "y": [
          0,
          0.022426492601205873
         ],
         "yaxis": "y6"
        },
        {
         "marker": {
          "color": "red",
          "size": 8
         },
         "mode": "markers",
         "showlegend": false,
         "type": "scatter",
         "x": {
          "bdata": "AAECAwQFBgcICQoLDA0ODw==",
          "dtype": "i1"
         },
         "xaxis": "x6",
         "y": {
          "bdata": "AAAAAAAA8D+U95A4GSroP41ZPOGiDNK/BmPMYwPnuj+UocnSS8pVv5fqETJjWKQ/VCa1YQgHsL9co5Bog7CzP1h3FcaTxYI/t/T2Dmuvkj9acuP01nSxvwd07Eptzpi/bzP3UP2yeD+7bzldUpuhv3njqgJd1rG/fQglcfj2lj8=",
          "dtype": "f8"
         },
         "yaxis": "y6"
        }
       ],
       "layout": {
        "annotations": [
         {
          "font": {
           "size": 16
          },
          "showarrow": false,
          "text": "① AR(2) - ACF: DECAYS 📉",
          "x": 0.22,
          "xanchor": "center",
          "xref": "paper",
          "y": 1,
          "yanchor": "bottom",
          "yref": "paper"
         },
         {
          "font": {
           "size": 16
          },
          "showarrow": false,
          "text": "① AR(2) - PACF: CUTS OFF ✂️ after lag 2",
          "x": 0.78,
          "xanchor": "center",
          "xref": "paper",
          "y": 1,
          "yanchor": "bottom",
          "yref": "paper"
         },
         {
          "font": {
           "size": 16
          },
          "showarrow": false,
          "text": "② MA(2) - ACF: CUTS OFF ✂️ after lag 2",
          "x": 0.22,
          "xanchor": "center",
          "xref": "paper",
          "y": 0.6266666666666667,
          "yanchor": "bottom",
          "yref": "paper"
         },
         {
          "font": {
           "size": 16
          },
          "showarrow": false,
          "text": "② MA(2) - PACF: DECAYS 📉",
          "x": 0.78,
          "xanchor": "center",
          "xref": "paper",
          "y": 0.6266666666666667,
          "yanchor": "bottom",
          "yref": "paper"
         },
         {
          "font": {
           "size": 16
          },
          "showarrow": false,
          "text": "③ ARMA(1,1) - ACF: DECAYS 📉",
          "x": 0.22,
          "xanchor": "center",
          "xref": "paper",
          "y": 0.25333333333333335,
          "yanchor": "bottom",
          "yref": "paper"
         },
         {
          "font": {
           "size": 16
          },
          "showarrow": false,
          "text": "③ ARMA(1,1) - PACF: DECAYS 📉",
          "x": 0.78,
          "xanchor": "center",
          "xref": "paper",
          "y": 0.25333333333333335,
          "yanchor": "bottom",
          "yref": "paper"
         },
         {
          "arrowcolor": "blue",
          "arrowhead": 2,
          "font": {
           "color": "blue",
           "size": 11
          },
          "showarrow": true,
          "text": "← Slowly decreasing",
          "x": 10,
          "xref": "x",
          "y": 0.0865104038172077,
          "yref": "y"
         },
         {
          "bgcolor": "rgba(255,255,0,0.3)",
          "font": {
           "color": "red",
           "family": "Arial Black",
           "size": 12
          },
          "showarrow": false,
          "text": "✂️ CUTS OFF",
          "x": 3,
          "xref": "x2",
          "y": 0.5832799817410579,
          "yref": "y2"
         },
         {
          "bgcolor": "rgba(255,255,0,0.3)",
          "font": {
           "color": "blue",
           "family": "Arial Black",
           "size": 12
          },
          "showarrow": false,
          "text": "✂️ CUTS OFF",
          "x": 3,
          "xref": "x3",
          "y": 0.7348631274445959,
          "yref": "y3"
         },
         {
          "arrowcolor": "red",
          "arrowhead": 2,
          "font": {
           "color": "red",
           "size": 11
          },
          "showarrow": true,
          "text": "Oscillates but stays GRAY",
          "x": 10,
          "xref": "x4",
          "y": 0.12406059967021897,
          "yref": "y4"
         },
         {
          "font": {
           "color": "darkred",
           "size": 9,
           "style": "italic"
          },
          "showarrow": false,
          "text": "(Sinusoidal decay is still decay!)",
          "x": 7,
          "xref": "x4",
          "y": -0.09304544975266424,
          "yref": "y4"
         },
         {
          "arrowcolor": "blue",
          "arrowhead": 2,
          "font": {
           "color": "blue",
           "size": 11
          },
          "showarrow": true,
          "text": "← Decays",
          "x": 10,
          "xref": "x5",
          "y": 0.3568307460144547,
          "yref": "y5"
         },
         {
          "arrowcolor": "red",
          "arrowhead": 2,
          "font": {
           "color": "red",
           "size": 11
          },
          "showarrow": true,
          "text": "← Decays",
          "x": 10,
          "xref": "x6",
          "y": 0.22561700436155607,
          "yref": "y6"
         }
        ],
        "height": 1000,
        "shapes": [
         {
          "fillcolor": "green",
          "layer": "below",
          "line": {
           "width": 0
          },
          "opacity": 0.1,
          "type": "rect",
          "x0": 2.5,
          "x1": 15,
          "xref": "x2",
          "y0": 0,
          "y1": 1,
          "yref": "y2 domain"
         },
         {
          "fillcolor": "lightgray",
          "layer": "below",
          "line": {
           "width": 0
          },
          "opacity": 0.2,
          "type": "rect",
          "x0": 0,
          "x1": 15,
          "xref": "x",
          "y0": -0.11316065276116663,
          "y1": 0.11316065276116663,
          "yref": "y"
         },
         {
          "line": {
           "color": "gray",
           "dash": "dash",
           "width": 2
          },
          "type": "line",
          "x0": 0,
          "x1": 1,
          "xref": "x domain",
          "y0": 0.11316065276116663,
          "y1": 0.11316065276116663,
          "yref": "y"
         },
         {
          "line": {
           "color": "gray",
           "dash": "dash",
           "width": 2
          },
          "type": "line",
          "x0": 0,
          "x1": 1,
          "xref": "x domain",
          "y0": -0.11316065276116663,
          "y1": -0.11316065276116663,
          "yref": "y"
         },
         {
          "line": {
           "color": "black",
           "width": 1
          },
          "type": "line",
          "x0": 0,
          "x1": 1,
          "xref": "x domain",
          "y0": 0,
          "y1": 0,
          "yref": "y"
         },
         {
          "fillcolor": "lightgray",
          "layer": "below",
          "line": {
           "width": 0
          },
          "opacity": 0.2,
          "type": "rect",
          "x0": 0,
          "x1": 15,
          "xref": "x2",
          "y0": -0.11316065276116663,
          "y1": 0.11316065276116663,
          "yref": "y2"
         },
         {
          "line": {
           "color": "gray",
           "dash": "dash",
           "width": 2
          },
          "type": "line",
          "x0": 0,
          "x1": 1,
          "xref": "x2 domain",
          "y0": 0.11316065276116663,
          "y1": 0.11316065276116663,
          "yref": "y2"
         },
         {
          "line": {
           "color": "gray",
           "dash": "dash",
           "width": 2
          },
          "type": "line",
          "x0": 0,
          "x1": 1,
          "xref": "x2 domain",
          "y0": -0.11316065276116663,
          "y1": -0.11316065276116663,
          "yref": "y2"
         },
         {
          "line": {
           "color": "black",
           "width": 1
          },
          "type": "line",
          "x0": 0,
          "x1": 1,
          "xref": "x2 domain",
          "y0": 0,
          "y1": 0,
          "yref": "y2"
         },
         {
          "fillcolor": "green",
          "layer": "below",
          "line": {
           "width": 0
          },
          "opacity": 0.1,
          "type": "rect",
          "x0": 2.5,
          "x1": 15,
          "xref": "x3",
          "y0": 0,
          "y1": 1,
          "yref": "y3 domain"
         },
         {
          "fillcolor": "lightgray",
          "layer": "below",
          "line": {
           "width": 0
          },
          "opacity": 0.2,
          "type": "rect",
          "x0": 0,
          "x1": 15,
          "xref": "x3",
          "y0": -0.11316065276116663,
          "y1": 0.11316065276116663,
          "yref": "y3"
         },
         {
          "line": {
           "color": "gray",
           "dash": "dash",
           "width": 2
          },
          "type": "line",
          "x0": 0,
          "x1": 1,
          "xref": "x3 domain",
          "y0": 0.11316065276116663,
          "y1": 0.11316065276116663,
          "yref": "y3"
         },
         {
          "line": {
           "color": "gray",
           "dash": "dash",
           "width": 2
          },
          "type": "line",
          "x0": 0,
          "x1": 1,
          "xref": "x3 domain",
          "y0": -0.11316065276116663,
          "y1": -0.11316065276116663,
          "yref": "y3"
         },
         {
          "line": {
           "color": "black",
           "width": 1
          },
          "type": "line",
          "x0": 0,
          "x1": 1,
          "xref": "x3 domain",
          "y0": 0,
          "y1": 0,
          "yref": "y3"
         },
         {
          "fillcolor": "lightgray",
          "layer": "below",
          "line": {
           "width": 0
          },
          "opacity": 0.2,
          "type": "rect",
          "x0": 0,
          "x1": 15,
          "xref": "x4",
          "y0": -0.11316065276116663,
          "y1": 0.11316065276116663,
          "yref": "y4"
         },
         {
          "line": {
           "color": "gray",
           "dash": "dash",
           "width": 2
          },
          "type": "line",
          "x0": 0,
          "x1": 1,
          "xref": "x4 domain",
          "y0": 0.11316065276116663,
          "y1": 0.11316065276116663,
          "yref": "y4"
         },
         {
          "line": {
           "color": "gray",
           "dash": "dash",
           "width": 2
          },
          "type": "line",
          "x0": 0,
          "x1": 1,
          "xref": "x4 domain",
          "y0": -0.11316065276116663,
          "y1": -0.11316065276116663,
          "yref": "y4"
         },
         {
          "line": {
           "color": "black",
           "width": 1
          },
          "type": "line",
          "x0": 0,
          "x1": 1,
          "xref": "x4 domain",
          "y0": 0,
          "y1": 0,
          "yref": "y4"
         },
         {
          "fillcolor": "lightgray",
          "layer": "below",
          "line": {
           "width": 0
          },
          "opacity": 0.2,
          "type": "rect",
          "x0": 0,
          "x1": 15,
          "xref": "x5",
          "y0": -0.11316065276116663,
          "y1": 0.11316065276116663,
          "yref": "y5"
         },
         {
          "line": {
           "color": "gray",
           "dash": "dash",
           "width": 2
          },
          "type": "line",
          "x0": 0,
          "x1": 1,
          "xref": "x5 domain",
          "y0": 0.11316065276116663,
          "y1": 0.11316065276116663,
          "yref": "y5"
         },
         {
          "line": {
           "color": "gray",
           "dash": "dash",
           "width": 2
          },
          "type": "line",
          "x0": 0,
          "x1": 1,
          "xref": "x5 domain",
          "y0": -0.11316065276116663,
          "y1": -0.11316065276116663,
          "yref": "y5"
         },
         {
          "line": {
           "color": "black",
           "width": 1
          },
          "type": "line",
          "x0": 0,
          "x1": 1,
          "xref": "x5 domain",
          "y0": 0,
          "y1": 0,
          "yref": "y5"
         },
         {
          "fillcolor": "lightgray",
          "layer": "below",
          "line": {
           "width": 0
          },
          "opacity": 0.2,
          "type": "rect",
          "x0": 0,
          "x1": 15,
          "xref": "x6",
          "y0": -0.11316065276116663,
          "y1": 0.11316065276116663,
          "yref": "y6"
         },
         {
          "line": {
           "color": "gray",
           "dash": "dash",
           "width": 2
          },
          "type": "line",
          "x0": 0,
          "x1": 1,
          "xref": "x6 domain",
          "y0": 0.11316065276116663,
          "y1": 0.11316065276116663,
          "yref": "y6"
         },
         {
          "line": {
           "color": "gray",
           "dash": "dash",
           "width": 2
          },
          "type": "line",
          "x0": 0,
          "x1": 1,
          "xref": "x6 domain",
          "y0": -0.11316065276116663,
          "y1": -0.11316065276116663,
          "yref": "y6"
         },
         {
          "line": {
           "color": "black",
           "width": 1
          },
          "type": "line",
          "x0": 0,
          "x1": 1,
          "xref": "x6 domain",
          "y0": 0,
          "y1": 0,
          "yref": "y6"
         }
        ],
        "showlegend": false,
        "template": {
         "data": {
          "bar": [
           {
            "error_x": {
             "color": "#2a3f5f"
            },
            "error_y": {
             "color": "#2a3f5f"
            },
            "marker": {
             "line": {
              "color": "white",
              "width": 0.5
             },
             "pattern": {
              "fillmode": "overlay",
              "size": 10,
              "solidity": 0.2
             }
            },
            "type": "bar"
           }
          ],
          "barpolar": [
           {
            "marker": {
             "line": {
              "color": "white",
              "width": 0.5
             },
             "pattern": {
              "fillmode": "overlay",
              "size": 10,
              "solidity": 0.2
             }
            },
            "type": "barpolar"
           }
          ],
          "carpet": [
           {
            "aaxis": {
             "endlinecolor": "#2a3f5f",
             "gridcolor": "#C8D4E3",
             "linecolor": "#C8D4E3",
             "minorgridcolor": "#C8D4E3",
             "startlinecolor": "#2a3f5f"
            },
            "baxis": {
             "endlinecolor": "#2a3f5f",
             "gridcolor": "#C8D4E3",
             "linecolor": "#C8D4E3",
             "minorgridcolor": "#C8D4E3",
             "startlinecolor": "#2a3f5f"
            },
            "type": "carpet"
           }
          ],
          "choropleth": [
           {
            "colorbar": {
             "outlinewidth": 0,
             "ticks": ""
            },
            "type": "choropleth"
           }
          ],
          "contour": [
           {
            "colorbar": {
             "outlinewidth": 0,
             "ticks": ""
            },
            "colorscale": [
             [
              0,
              "#0d0887"
             ],
             [
              0.1111111111111111,
              "#46039f"
             ],
             [
              0.2222222222222222,
              "#7201a8"
             ],
             [
              0.3333333333333333,
              "#9c179e"
             ],
             [
              0.4444444444444444,
              "#bd3786"
             ],
             [
              0.5555555555555556,
              "#d8576b"
             ],
             [
              0.6666666666666666,
              "#ed7953"
             ],
             [
              0.7777777777777778,
              "#fb9f3a"
             ],
             [
              0.8888888888888888,
              "#fdca26"
             ],
             [
              1,
              "#f0f921"
             ]
            ],
            "type": "contour"
           }
          ],
          "contourcarpet": [
           {
            "colorbar": {
             "outlinewidth": 0,
             "ticks": ""
            },
            "type": "contourcarpet"
           }
          ],
          "heatmap": [
           {
            "colorbar": {
             "outlinewidth": 0,
             "ticks": ""
            },
            "colorscale": [
             [
              0,
              "#0d0887"
             ],
             [
              0.1111111111111111,
              "#46039f"
             ],
             [
              0.2222222222222222,
              "#7201a8"
             ],
             [
              0.3333333333333333,
              "#9c179e"
             ],
             [
              0.4444444444444444,
              "#bd3786"
             ],
             [
              0.5555555555555556,
              "#d8576b"
             ],
             [
              0.6666666666666666,
              "#ed7953"
             ],
             [
              0.7777777777777778,
              "#fb9f3a"
             ],
             [
              0.8888888888888888,
              "#fdca26"
             ],
             [
              1,
              "#f0f921"
             ]
            ],
            "type": "heatmap"
           }
          ],
          "histogram": [
           {
            "marker": {
             "pattern": {
              "fillmode": "overlay",
              "size": 10,
              "solidity": 0.2
             }
            },
            "type": "histogram"
           }
          ],
          "histogram2d": [
           {
            "colorbar": {
             "outlinewidth": 0,
             "ticks": ""
            },
            "colorscale": [
             [
              0,
              "#0d0887"
             ],
             [
              0.1111111111111111,
              "#46039f"
             ],
             [
              0.2222222222222222,
              "#7201a8"
             ],
             [
              0.3333333333333333,
              "#9c179e"
             ],
             [
              0.4444444444444444,
              "#bd3786"
             ],
             [
              0.5555555555555556,
              "#d8576b"
             ],
             [
              0.6666666666666666,
              "#ed7953"
             ],
             [
              0.7777777777777778,
              "#fb9f3a"
             ],
             [
              0.8888888888888888,
              "#fdca26"
             ],
             [
              1,
              "#f0f921"
             ]
            ],
            "type": "histogram2d"
           }
          ],
          "histogram2dcontour": [
           {
            "colorbar": {
             "outlinewidth": 0,
             "ticks": ""
            },
            "colorscale": [
             [
              0,
              "#0d0887"
             ],
             [
              0.1111111111111111,
              "#46039f"
             ],
             [
              0.2222222222222222,
              "#7201a8"
             ],
             [
              0.3333333333333333,
              "#9c179e"
             ],
             [
              0.4444444444444444,
              "#bd3786"
             ],
             [
              0.5555555555555556,
              "#d8576b"
             ],
             [
              0.6666666666666666,
              "#ed7953"
             ],
             [
              0.7777777777777778,
              "#fb9f3a"
             ],
             [
              0.8888888888888888,
              "#fdca26"
             ],
             [
              1,
              "#f0f921"
             ]
            ],
            "type": "histogram2dcontour"
           }
          ],
          "mesh3d": [
           {
            "colorbar": {
             "outlinewidth": 0,
             "ticks": ""
            },
            "type": "mesh3d"
           }
          ],
          "parcoords": [
           {
            "line": {
             "colorbar": {
              "outlinewidth": 0,
              "ticks": ""
             }
            },
            "type": "parcoords"
           }
          ],
          "pie": [
           {
            "automargin": true,
            "type": "pie"
           }
          ],
          "scatter": [
           {
            "fillpattern": {
             "fillmode": "overlay",
             "size": 10,
             "solidity": 0.2
            },
            "type": "scatter"
           }
          ],
          "scatter3d": [
           {
            "line": {
             "colorbar": {
              "outlinewidth": 0,
              "ticks": ""
             }
            },
            "marker": {
             "colorbar": {
              "outlinewidth": 0,
              "ticks": ""
             }
            },
            "type": "scatter3d"
           }
          ],
          "scattercarpet": [
           {
            "marker": {
             "colorbar": {
              "outlinewidth": 0,
              "ticks": ""
             }
            },
            "type": "scattercarpet"
           }
          ],
          "scattergeo": [
           {
            "marker": {
             "colorbar": {
              "outlinewidth": 0,
              "ticks": ""
             }
            },
            "type": "scattergeo"
           }
          ],
          "scattergl": [
           {
            "marker": {
             "colorbar": {
              "outlinewidth": 0,
              "ticks": ""
             }
            },
            "type": "scattergl"
           }
          ],
          "scattermap": [
           {
            "marker": {
             "colorbar": {
              "outlinewidth": 0,
              "ticks": ""
             }
            },
            "type": "scattermap"
           }
          ],
          "scattermapbox": [
           {
            "marker": {
             "colorbar": {
              "outlinewidth": 0,
              "ticks": ""
             }
            },
            "type": "scattermapbox"
           }
          ],
          "scatterpolar": [
           {
            "marker": {
             "colorbar": {
              "outlinewidth": 0,
              "ticks": ""
             }
            },
            "type": "scatterpolar"
           }
          ],
          "scatterpolargl": [
           {
            "marker": {
             "colorbar": {
              "outlinewidth": 0,
              "ticks": ""
             }
            },
            "type": "scatterpolargl"
           }
          ],
          "scatterternary": [
           {
            "marker": {
             "colorbar": {
              "outlinewidth": 0,
              "ticks": ""
             }
            },
            "type": "scatterternary"
           }
          ],
          "surface": [
           {
            "colorbar": {
             "outlinewidth": 0,
             "ticks": ""
            },
            "colorscale": [
             [
              0,
              "#0d0887"
             ],
             [
              0.1111111111111111,
              "#46039f"
             ],
             [
              0.2222222222222222,
              "#7201a8"
             ],
             [
              0.3333333333333333,
              "#9c179e"
             ],
             [
              0.4444444444444444,
              "#bd3786"
             ],
             [
              0.5555555555555556,
              "#d8576b"
             ],
             [
              0.6666666666666666,
              "#ed7953"
             ],
             [
              0.7777777777777778,
              "#fb9f3a"
             ],
             [
              0.8888888888888888,
              "#fdca26"
             ],
             [
              1,
              "#f0f921"
             ]
            ],
            "type": "surface"
           }
          ],
          "table": [
           {
            "cells": {
             "fill": {
              "color": "#EBF0F8"
             },
             "line": {
              "color": "white"
             }
            },
            "header": {
             "fill": {
              "color": "#C8D4E3"
             },
             "line": {
              "color": "white"
             }
            },
            "type": "table"
           }
          ]
         },
         "layout": {
          "annotationdefaults": {
           "arrowcolor": "#2a3f5f",
           "arrowhead": 0,
           "arrowwidth": 1
          },
          "autotypenumbers": "strict",
          "coloraxis": {
           "colorbar": {
            "outlinewidth": 0,
            "ticks": ""
           }
          },
          "colorscale": {
           "diverging": [
            [
             0,
             "#8e0152"
            ],
            [
             0.1,
             "#c51b7d"
            ],
            [
             0.2,
             "#de77ae"
            ],
            [
             0.3,
             "#f1b6da"
            ],
            [
             0.4,
             "#fde0ef"
            ],
            [
             0.5,
             "#f7f7f7"
            ],
            [
             0.6,
             "#e6f5d0"
            ],
            [
             0.7,
             "#b8e186"
            ],
            [
             0.8,
             "#7fbc41"
            ],
            [
             0.9,
             "#4d9221"
            ],
            [
             1,
             "#276419"
            ]
           ],
           "sequential": [
            [
             0,
             "#0d0887"
            ],
            [
             0.1111111111111111,
             "#46039f"
            ],
            [
             0.2222222222222222,
             "#7201a8"
            ],
            [
             0.3333333333333333,
             "#9c179e"
            ],
            [
             0.4444444444444444,
             "#bd3786"
            ],
            [
             0.5555555555555556,
             "#d8576b"
            ],
            [
             0.6666666666666666,
             "#ed7953"
            ],
            [
             0.7777777777777778,
             "#fb9f3a"
            ],
            [
             0.8888888888888888,
             "#fdca26"
            ],
            [
             1,
             "#f0f921"
            ]
           ],
           "sequentialminus": [
            [
             0,
             "#0d0887"
            ],
            [
             0.1111111111111111,
             "#46039f"
            ],
            [
             0.2222222222222222,
             "#7201a8"
            ],
            [
             0.3333333333333333,
             "#9c179e"
            ],
            [
             0.4444444444444444,
             "#bd3786"
            ],
            [
             0.5555555555555556,
             "#d8576b"
            ],
            [
             0.6666666666666666,
             "#ed7953"
            ],
            [
             0.7777777777777778,
             "#fb9f3a"
            ],
            [
             0.8888888888888888,
             "#fdca26"
            ],
            [
             1,
             "#f0f921"
            ]
           ]
          },
          "colorway": [
           "#636efa",
           "#EF553B",
           "#00cc96",
           "#ab63fa",
           "#FFA15A",
           "#19d3f3",
           "#FF6692",
           "#B6E880",
           "#FF97FF",
           "#FECB52"
          ],
          "font": {
           "color": "#2a3f5f"
          },
          "geo": {
           "bgcolor": "white",
           "lakecolor": "white",
           "landcolor": "white",
           "showlakes": true,
           "showland": true,
           "subunitcolor": "#C8D4E3"
          },
          "hoverlabel": {
           "align": "left"
          },
          "hovermode": "closest",
          "mapbox": {
           "style": "light"
          },
          "paper_bgcolor": "white",
          "plot_bgcolor": "white",
          "polar": {
           "angularaxis": {
            "gridcolor": "#EBF0F8",
            "linecolor": "#EBF0F8",
            "ticks": ""
           },
           "bgcolor": "white",
           "radialaxis": {
            "gridcolor": "#EBF0F8",
            "linecolor": "#EBF0F8",
            "ticks": ""
           }
          },
          "scene": {
           "xaxis": {
            "backgroundcolor": "white",
            "gridcolor": "#DFE8F3",
            "gridwidth": 2,
            "linecolor": "#EBF0F8",
            "showbackground": true,
            "ticks": "",
            "zerolinecolor": "#EBF0F8"
           },
           "yaxis": {
            "backgroundcolor": "white",
            "gridcolor": "#DFE8F3",
            "gridwidth": 2,
            "linecolor": "#EBF0F8",
            "showbackground": true,
            "ticks": "",
            "zerolinecolor": "#EBF0F8"
           },
           "zaxis": {
            "backgroundcolor": "white",
            "gridcolor": "#DFE8F3",
            "gridwidth": 2,
            "linecolor": "#EBF0F8",
            "showbackground": true,
            "ticks": "",
            "zerolinecolor": "#EBF0F8"
           }
          },
          "shapedefaults": {
           "line": {
            "color": "#2a3f5f"
           }
          },
          "ternary": {
           "aaxis": {
            "gridcolor": "#DFE8F3",
            "linecolor": "#A2B1C6",
            "ticks": ""
           },
           "baxis": {
            "gridcolor": "#DFE8F3",
            "linecolor": "#A2B1C6",
            "ticks": ""
           },
           "bgcolor": "white",
           "caxis": {
            "gridcolor": "#DFE8F3",
            "linecolor": "#A2B1C6",
            "ticks": ""
           }
          },
          "title": {
           "x": 0.05
          },
          "xaxis": {
           "automargin": true,
           "gridcolor": "#EBF0F8",
           "linecolor": "#EBF0F8",
           "ticks": "",
           "title": {
            "standoff": 15
           },
           "zerolinecolor": "#EBF0F8",
           "zerolinewidth": 2
          },
          "yaxis": {
           "automargin": true,
           "gridcolor": "#EBF0F8",
           "linecolor": "#EBF0F8",
           "ticks": "",
           "title": {
            "standoff": 15
           },
           "zerolinecolor": "#EBF0F8",
           "zerolinewidth": 2
          }
         }
        },
        "title": {
         "text": "🎓 Learn to Read ACF & PACF: Visual Guide (Bold = Significant, Gray = Not Significant)"
        },
        "xaxis": {
         "anchor": "y",
         "domain": [
          0,
          0.44
         ],
         "range": [
          -0.5,
          15
         ],
         "title": {
          "text": "Lag"
         }
        },
        "xaxis2": {
         "anchor": "y2",
         "domain": [
          0.56,
          1
         ],
         "range": [
          -0.5,
          15
         ],
         "title": {
          "text": "Lag"
         }
        },
        "xaxis3": {
         "anchor": "y3",
         "domain": [
          0,
          0.44
         ],
         "range": [
          -0.5,
          15
         ],
         "title": {
          "text": "Lag"
         }
        },
        "xaxis4": {
         "anchor": "y4",
         "domain": [
          0.56,
          1
         ],
         "range": [
          -0.5,
          15
         ],
         "title": {
          "text": "Lag"
         }
        },
        "xaxis5": {
         "anchor": "y5",
         "domain": [
          0,
          0.44
         ],
         "range": [
          -0.5,
          15
         ],
         "title": {
          "text": "Lag"
         }
        },
        "xaxis6": {
         "anchor": "y6",
         "domain": [
          0.56,
          1
         ],
         "range": [
          -0.5,
          15
         ],
         "title": {
          "text": "Lag"
         }
        },
        "yaxis": {
         "anchor": "x",
         "domain": [
          0.7466666666666667,
          1
         ],
         "title": {
          "text": "ACF"
         }
        },
        "yaxis2": {
         "anchor": "x2",
         "domain": [
          0.7466666666666667,
          1
         ],
         "title": {
          "text": "PACF"
         }
        },
        "yaxis3": {
         "anchor": "x3",
         "domain": [
          0.37333333333333335,
          0.6266666666666667
         ],
         "title": {
          "text": "ACF"
         }
        },
        "yaxis4": {
         "anchor": "x4",
         "domain": [
          0.37333333333333335,
          0.6266666666666667
         ],
         "title": {
          "text": "PACF"
         }
        },
        "yaxis5": {
         "anchor": "x5",
         "domain": [
          0,
          0.25333333333333335
         ],
         "title": {
          "text": "ACF"
         }
        },
        "yaxis6": {
         "anchor": "x6",
         "domain": [
          0,
          0.25333333333333335
         ],
         "title": {
          "text": "PACF"
         }
        }
       }
      }
     },
     "metadata": {},
     "output_type": "display_data"
    },
    {
     "name": "stdout",
     "output_type": "stream",
     "text": [
      "\n",
      "================================================================================\n",
      "📚 INTERPRETATION GUIDE - How to Read These Plots\n",
      "================================================================================\n",
      "\n",
      "🔵 BLUE BARS = ACF (Autocorrelation)\n",
      "🔴 RED BARS = PACF (Partial Autocorrelation)\n",
      "✅ BOLD/DARK = Statistically Significant (outside gray bands)\n",
      "❌ LIGHT GRAY = Not Significant (inside gray bands)\n",
      "✂️ = Where it 'CUTS OFF'\n",
      "📉 = 'DECAYS GRADUALLY'\n",
      "\n",
      "================================================================================\n",
      "1️⃣  AR(2) Process: y_t = 0.7*y_{t-1} - 0.3*y_{t-2} + noise\n",
      "================================================================================\n",
      "   🔵 ACF (LEFT): DECAYS GRADUALLY 📉\n",
      "      → Many lags remain significant, slowly getting smaller\n",
      "   🔴 PACF (RIGHT): CUTS OFF ✂️ after lag 2\n",
      "      → Only lags 1 & 2 are significant (bold red)\n",
      "      → After lag 2, everything is gray = not significant\n",
      "   📝 CONCLUSION: Use p=2 for ARIMA (because PACF cuts off at 2)\n",
      "\n",
      "================================================================================\n",
      "2️⃣  MA(2) Process: y_t = noise + 0.7*noise_{t-1} + 0.3*noise_{t-2}\n",
      "================================================================================\n",
      "   🔵 ACF (LEFT): CUTS OFF ✂️ after lag 2\n",
      "      → Only lags 1 & 2 are significant (bold blue)\n",
      "      → After lag 2, everything is gray = not significant\n",
      "   🔴 PACF (RIGHT): DECAYS GRADUALLY 📉 (with OSCILLATION)\n",
      "      → Notice the values wiggle up and down in a sine wave!\n",
      "      → BUT all those wiggles are GRAY (not significant)\n",
      "      → This sinusoidal/oscillating pattern is STILL decay!\n",
      "      → What matters: Values stay INSIDE confidence bands\n",
      "   📝 CONCLUSION: Use q=2 for ARIMA (because ACF cuts off at 2)\n",
      "\n",
      "================================================================================\n",
      "3️⃣  ARMA(1,1) Process: Combination of AR and MA\n",
      "================================================================================\n",
      "   🔵 ACF (LEFT): DECAYS GRADUALLY 📉\n",
      "      → Multiple significant lags that slowly decrease\n",
      "   🔴 PACF (RIGHT): DECAYS GRADUALLY 📉\n",
      "      → Multiple significant lags that slowly decrease\n",
      "   📝 CONCLUSION: Need BOTH p and q (mixed model)\n",
      "      → Try ARIMA(1,1,1) or ARIMA(1,1,2) etc.\n",
      "\n",
      "================================================================================\n",
      "💡 KEY TAKEAWAY:\n",
      "================================================================================\n",
      "Look for where the plot transitions from BOLD → GRAY\n",
      "That's where it 'cuts off'!\n",
      "\n",
      "If you see: BOLD → GRAY at lag k → That's your p or q value!\n",
      "If you see: BOLD staying BOLD for many lags → That's 'decay'\n",
      "================================================================================\n",
      "\n",
      "================================================================================\n",
      "❓ COMMON QUESTION: What does 'DECAY' mean?\n",
      "================================================================================\n",
      "\n",
      "'Decay' doesn't mean the values must decrease smoothly!\n",
      "\n",
      "Decay can happen in TWO ways:\n",
      "   1️⃣  EXPONENTIAL DECAY: Values get progressively smaller\n",
      "       Example: 0.8 → 0.6 → 0.4 → 0.2 → 0.1...\n",
      "\n",
      "   2️⃣  SINUSOIDAL DECAY (Dampened Oscillation): Values wiggle up/down\n",
      "       Example: 0.7 → -0.3 → 0.2 → -0.1 → 0.05...\n",
      "       ⚠️  Notice: It oscillates BUT stays within confidence bands!\n",
      "\n",
      "🔑 The KEY is: After several lags, the values stay INSIDE the gray bands\n",
      "   (not statistically significant anymore)\n",
      "\n",
      "👀 Look at MA(2) PACF: It wiggles/oscillates in a sine wave pattern,\n",
      "   but ALL those wiggles are GRAY (not significant) = DECAY!\n",
      "\n",
      "✂️ 'CUTS OFF' means: Significant → Not significant SUDDENLY\n",
      "📉 'DECAYS' means: Values stay not significant (even if wiggling)\n",
      "================================================================================\n"
     ]
    }
   ],
   "source": [
    "# Generate three different processes\n",
    "np.random.seed(42)\n",
    "n = 300\n",
    "\n",
    "# 1. AR(2) Process: y_t = 0.7*y_{t-1} - 0.3*y_{t-2} + noise\n",
    "ar2_series = np.zeros(n)\n",
    "for t in range(2, n):\n",
    "    ar2_series[t] = 0.7 * ar2_series[t-1] - 0.3 * ar2_series[t-2] + np.random.normal(0, 1)\n",
    "\n",
    "# 2. MA(2) Process: y_t = noise + 0.7*noise_{t-1} + 0.3*noise_{t-2}\n",
    "noise = np.random.normal(0, 1, n)\n",
    "ma2_series = np.zeros(n)\n",
    "for t in range(2, n):\n",
    "    ma2_series[t] = noise[t] + 0.7 * noise[t-1] + 0.3 * noise[t-2]\n",
    "\n",
    "# 3. ARMA(1,1) Process: combination of AR(1) and MA(1)\n",
    "arma_series = np.zeros(n)\n",
    "noise_arma = np.random.normal(0, 1, n)\n",
    "for t in range(1, n):\n",
    "    arma_series[t] = 0.6 * arma_series[t-1] + noise_arma[t] + 0.4 * noise_arma[t-1]\n",
    "\n",
    "# Calculate ACF and PACF for all three\n",
    "series_dict = {\n",
    "    'AR(2)': ar2_series,\n",
    "    'MA(2)': ma2_series,\n",
    "    'ARMA(1,1)': arma_series\n",
    "}\n",
    "\n",
    "# Create 3x2 subplot (3 rows, 2 columns: ACF and PACF for each)\n",
    "fig = make_subplots(\n",
    "    rows=3, cols=2,\n",
    "    subplot_titles=('① AR(2) - ACF: DECAYS 📉', '① AR(2) - PACF: CUTS OFF ✂️ after lag 2',\n",
    "                   '② MA(2) - ACF: CUTS OFF ✂️ after lag 2', '② MA(2) - PACF: DECAYS 📉',\n",
    "                   '③ ARMA(1,1) - ACF: DECAYS 📉', '③ ARMA(1,1) - PACF: DECAYS 📉'),\n",
    "    vertical_spacing=0.12,\n",
    "    horizontal_spacing=0.12\n",
    ")\n",
    "\n",
    "row = 1\n",
    "process_names = ['AR(2)', 'MA(2)', 'ARMA(1,1)']\n",
    "\n",
    "for idx, (name, series) in enumerate(series_dict.items()):\n",
    "    # Calculate ACF and PACF\n",
    "    acf_vals = acf(series, nlags=15)  # Reduced lags for clarity\n",
    "    pacf_vals = pacf(series, nlags=15)\n",
    "    lags = np.arange(len(acf_vals))\n",
    "    conf_band = 1.96 / np.sqrt(len(series))\n",
    "    \n",
    "    # ACF plot (column 1) - with color coding\n",
    "    for i in range(len(lags)):\n",
    "        # Color code: significant = bold blue, non-significant = light gray\n",
    "        is_significant = abs(acf_vals[i]) > conf_band\n",
    "        bar_color = 'rgb(0, 100, 255)' if is_significant else 'rgba(150, 150, 150, 0.4)'\n",
    "        bar_width = 3 if is_significant else 2\n",
    "        \n",
    "        fig.add_trace(go.Scatter(\n",
    "            x=[lags[i], lags[i]], y=[0, acf_vals[i]],\n",
    "            mode='lines', line=dict(color=bar_color, width=bar_width),\n",
    "            showlegend=False, \n",
    "            hovertemplate=f'Lag {lags[i]}<br>ACF: {acf_vals[i]:.3f}<br>{\"✅ Significant\" if is_significant else \"❌ Not Significant\"}<extra></extra>'\n",
    "        ), row=row, col=1)\n",
    "    \n",
    "    fig.add_trace(go.Scatter(\n",
    "        x=lags, y=acf_vals, mode='markers',\n",
    "        marker=dict(size=8, color='blue'), showlegend=False\n",
    "    ), row=row, col=1)\n",
    "    \n",
    "    # PACF plot (column 2) - with color coding\n",
    "    for i in range(len(lags)):\n",
    "        # Color code: significant = bold red, non-significant = light gray\n",
    "        is_significant = abs(pacf_vals[i]) > conf_band\n",
    "        bar_color = 'rgb(255, 50, 50)' if is_significant else 'rgba(150, 150, 150, 0.4)'\n",
    "        bar_width = 3 if is_significant else 2\n",
    "        \n",
    "        fig.add_trace(go.Scatter(\n",
    "            x=[lags[i], lags[i]], y=[0, pacf_vals[i]],\n",
    "            mode='lines', line=dict(color=bar_color, width=bar_width),\n",
    "            showlegend=False,\n",
    "            hovertemplate=f'Lag {lags[i]}<br>PACF: {pacf_vals[i]:.3f}<br>{\"✅ Significant\" if is_significant else \"❌ Not Significant\"}<extra></extra>'\n",
    "        ), row=row, col=2)\n",
    "    \n",
    "    fig.add_trace(go.Scatter(\n",
    "        x=lags, y=pacf_vals, mode='markers',\n",
    "        marker=dict(size=8, color='red'), showlegend=False\n",
    "    ), row=row, col=2)\n",
    "    \n",
    "    # Add annotations to highlight patterns\n",
    "    if name == 'AR(2)':\n",
    "        # ACF decays\n",
    "        fig.add_annotation(x=10, y=max(acf_vals[3:]) * 0.8, text=\"← Slowly decreasing\",\n",
    "                          showarrow=True, arrowhead=2, arrowcolor='blue',\n",
    "                          font=dict(size=11, color='blue'), row=row, col=1)\n",
    "        # PACF cuts off\n",
    "        fig.add_annotation(x=3, y=pacf_vals[1] * 1.2, text=\"✂️ CUTS OFF\",\n",
    "                          showarrow=False, font=dict(size=12, color='red', family='Arial Black'),\n",
    "                          bgcolor='rgba(255,255,0,0.3)', row=row, col=2)\n",
    "        # Shade non-significant region in PACF\n",
    "        fig.add_vrect(x0=2.5, x1=15, fillcolor=\"green\", opacity=0.1,\n",
    "                     layer=\"below\", line_width=0, row=row, col=2)\n",
    "        \n",
    "    elif name == 'MA(2)':\n",
    "        # ACF cuts off\n",
    "        fig.add_annotation(x=3, y=acf_vals[1] * 1.2, text=\"✂️ CUTS OFF\",\n",
    "                          showarrow=False, font=dict(size=12, color='blue', family='Arial Black'),\n",
    "                          bgcolor='rgba(255,255,0,0.3)', row=row, col=1)\n",
    "        # Shade non-significant region in ACF\n",
    "        fig.add_vrect(x0=2.5, x1=15, fillcolor=\"green\", opacity=0.1,\n",
    "                     layer=\"below\", line_width=0, row=row, col=1)\n",
    "        # PACF decays (with note about oscillation)\n",
    "        fig.add_annotation(x=10, y=max(abs(pacf_vals[3:])) * 1.2, text=\"Oscillates but stays GRAY\",\n",
    "                          showarrow=True, arrowhead=2, arrowcolor='red',\n",
    "                          font=dict(size=11, color='red'), row=row, col=2)\n",
    "        fig.add_annotation(x=7, y=-max(abs(pacf_vals[3:])) * 0.9, text=\"(Sinusoidal decay is still decay!)\",\n",
    "                          showarrow=False, font=dict(size=9, color='darkred', style='italic'),\n",
    "                          row=row, col=2)\n",
    "        \n",
    "    elif name == 'ARMA(1,1)':\n",
    "        # Both decay\n",
    "        fig.add_annotation(x=10, y=max(acf_vals[2:]) * 0.8, text=\"← Decays\",\n",
    "                          showarrow=True, arrowhead=2, arrowcolor='blue',\n",
    "                          font=dict(size=11, color='blue'), row=row, col=1)\n",
    "        fig.add_annotation(x=10, y=max(abs(pacf_vals[2:])) * 0.8, text=\"← Decays\",\n",
    "                          showarrow=True, arrowhead=2, arrowcolor='red',\n",
    "                          font=dict(size=11, color='red'), row=row, col=2)\n",
    "    \n",
    "    # Add confidence bands and zero line\n",
    "    for col in [1, 2]:\n",
    "        # Confidence bands with shading\n",
    "        fig.add_shape(type=\"rect\", x0=0, x1=15, y0=-conf_band, y1=conf_band,\n",
    "                     fillcolor=\"lightgray\", opacity=0.2, layer=\"below\", line_width=0,\n",
    "                     row=row, col=col)\n",
    "        fig.add_hline(y=conf_band, line_dash=\"dash\", line_color=\"gray\", \n",
    "                     line_width=2, row=row, col=col)\n",
    "        fig.add_hline(y=-conf_band, line_dash=\"dash\", line_color=\"gray\", \n",
    "                     line_width=2, row=row, col=col)\n",
    "        fig.add_hline(y=0, line_color=\"black\", line_width=1, row=row, col=col)\n",
    "    \n",
    "    row += 1\n",
    "\n",
    "# Update axes\n",
    "for i in range(1, 4):\n",
    "    fig.update_xaxes(title_text=\"Lag\", row=i, col=1, range=[-0.5, 15])\n",
    "    fig.update_xaxes(title_text=\"Lag\", row=i, col=2, range=[-0.5, 15])\n",
    "    fig.update_yaxes(title_text=\"ACF\", row=i, col=1)\n",
    "    fig.update_yaxes(title_text=\"PACF\", row=i, col=2)\n",
    "\n",
    "fig.update_layout(\n",
    "    title_text='🎓 Learn to Read ACF & PACF: Visual Guide (Bold = Significant, Gray = Not Significant)',\n",
    "    height=1000,\n",
    "    template='plotly_white',\n",
    "    showlegend=False\n",
    ")\n",
    "\n",
    "fig.show()\n",
    "\n",
    "print(\"\\n\" + \"=\"*80)\n",
    "print(\"📚 INTERPRETATION GUIDE - How to Read These Plots\")\n",
    "print(\"=\"*80)\n",
    "\n",
    "print(\"\\n🔵 BLUE BARS = ACF (Autocorrelation)\")\n",
    "print(\"🔴 RED BARS = PACF (Partial Autocorrelation)\")\n",
    "print(\"✅ BOLD/DARK = Statistically Significant (outside gray bands)\")\n",
    "print(\"❌ LIGHT GRAY = Not Significant (inside gray bands)\")\n",
    "print(\"✂️ = Where it 'CUTS OFF'\")\n",
    "print(\"📉 = 'DECAYS GRADUALLY'\")\n",
    "\n",
    "print(\"\\n\" + \"=\"*80)\n",
    "print(\"1️⃣  AR(2) Process: y_t = 0.7*y_{t-1} - 0.3*y_{t-2} + noise\")\n",
    "print(\"=\"*80)\n",
    "print(\"   🔵 ACF (LEFT): DECAYS GRADUALLY 📉\")\n",
    "print(\"      → Many lags remain significant (bold blue), slowly getting smaller\")\n",
    "print(\"      → May show smooth decay OR sinusoidal/oscillating decay\")\n",
    "print(\"   🔴 PACF (RIGHT): CUTS OFF ✂️ after lag 2\")\n",
    "print(\"      → Only lags 1 & 2 are significant (bold red)\")\n",
    "print(\"      → After lag 2, everything is gray = not significant\")\n",
    "print(\"   📝 CONCLUSION: Use p=2 for ARIMA (because PACF cuts off at 2)\")\n",
    "\n",
    "print(\"\\n\" + \"=\"*80)\n",
    "print(\"2️⃣  MA(2) Process: y_t = noise + 0.7*noise_{t-1} + 0.3*noise_{t-2}\")\n",
    "print(\"=\"*80)\n",
    "print(\"   🔵 ACF (LEFT): CUTS OFF ✂️ after lag 2\")\n",
    "print(\"      → Only lags 1 & 2 are significant (bold blue)\")\n",
    "print(\"      → After lag 2, everything is gray = not significant\")\n",
    "print(\"   🔴 PACF (RIGHT): DECAYS GRADUALLY 📉 (with OSCILLATION)\")\n",
    "print(\"      → Notice the values wiggle up and down in a sine wave!\")\n",
    "print(\"      → BUT all those wiggles are GRAY (not significant)\")\n",
    "print(\"      → This sinusoidal/oscillating pattern is STILL decay!\")\n",
    "print(\"      → What matters: Values stay INSIDE confidence bands\")\n",
    "print(\"   📝 CONCLUSION: Use q=2 for ARIMA (because ACF cuts off at 2)\")\n",
    "\n",
    "print(\"\\n\" + \"=\"*80)\n",
    "print(\"3️⃣  ARMA(1,1) Process: Combination of AR and MA\")\n",
    "print(\"=\"*80)\n",
    "print(\"   🔵 ACF (LEFT): DECAYS GRADUALLY 📉\")\n",
    "print(\"      → Multiple significant lags that slowly decrease\")\n",
    "print(\"   🔴 PACF (RIGHT): DECAYS GRADUALLY 📉\")\n",
    "print(\"      → Multiple significant lags that slowly decrease\")\n",
    "print(\"   📝 CONCLUSION: Need BOTH p and q (mixed model)\")\n",
    "print(\"      → Try ARIMA(1,1,1) or ARIMA(1,1,2) etc.\")\n",
    "\n",
    "print(\"\\n\" + \"=\"*80)\n",
    "print(\"💡 KEY TAKEAWAY:\")\n",
    "print(\"=\"*80)\n",
    "print(\"Look for where the plot transitions from BOLD → GRAY\")\n",
    "print(\"That's where it 'cuts off'!\")\n",
    "print(\"\\nIf you see: BOLD → GRAY at lag k → That's your p or q value!\")\n",
    "print(\"If you see: BOLD staying BOLD for many lags → That's 'decay'\")\n",
    "print(\"=\"*80)\n",
    "\n",
    "print(\"\\n\" + \"=\"*80)\n",
    "print(\"❓ COMMON QUESTION: What does 'DECAY' mean?\")\n",
    "print(\"=\"*80)\n",
    "print(\"\\n'Decay' doesn't mean the values must decrease smoothly!\")\n",
    "print(\"\\nDecay can happen in TWO ways:\")\n",
    "print(\"   1️⃣  EXPONENTIAL DECAY: Values get progressively smaller\")\n",
    "print(\"       Example: 0.8 → 0.6 → 0.4 → 0.2 → 0.1...\")\n",
    "print(\"\\n   2️⃣  SINUSOIDAL DECAY (Dampened Oscillation): Values wiggle up/down\")\n",
    "print(\"       Example: 0.7 → -0.3 → 0.2 → -0.1 → 0.05...\")\n",
    "print(\"       ⚠️  Notice: It oscillates BUT stays within confidence bands!\")\n",
    "print(\"\\n🔑 The KEY is: After several lags, the values stay INSIDE the gray bands\")\n",
    "print(\"   (not statistically significant anymore)\")\n",
    "print(\"\\n👀 Look at MA(2) PACF: It wiggles/oscillates in a sine wave pattern,\")\n",
    "print(\"   but ALL those wiggles are GRAY (not significant) = DECAY!\")\n",
    "print(\"\\n✂️ 'CUTS OFF' means: Significant → Not significant SUDDENLY\")\n",
    "print(\"📉 'DECAYS' means: Values stay not significant (even if wiggling)\")\n",
    "print(\"=\"*80)\n"
   ]
  },
  {
   "cell_type": "markdown",
   "id": "a9ef2615",
   "metadata": {},
   "source": [
    "### 📝 Quick Reference Cheat Sheet\n",
    "\n",
    "**Step-by-Step: How to Determine ARIMA(p, d, q) Parameters**\n",
    "\n",
    "```\n",
    "1. Check for Stationarity (determines 'd')\n",
    "   - Plot your data. Does it have a trend or changing variance?\n",
    "   - If YES → need differencing (d=1 or d=2)\n",
    "   - If NO → already stationary (d=0)\n",
    "\n",
    "2. Look at PACF (determines 'p')\n",
    "   - Count how many lags are OUTSIDE confidence bands before it cuts off\n",
    "   - That number = p (AR order)\n",
    "   - Example: PACF significant at lags 1, 2, then drops → p=2\n",
    "\n",
    "3. Look at ACF (determines 'q')\n",
    "   - Count how many lags are OUTSIDE confidence bands before it cuts off\n",
    "   - That number = q (MA order)\n",
    "   - Example: ACF significant at lags 1, 2, 3, then drops → q=3\n",
    "\n",
    "4. Start Simple, Then Refine\n",
    "   - Begin with ARIMA(1,1,1) if unsure\n",
    "   - Check residuals - should look like white noise\n",
    "   - Adjust p, d, q based on model diagnostics\n",
    "```\n",
    "\n",
    "**Common Patterns Quick Guide:**\n",
    "\n",
    "| If you see... | Then use... |\n",
    "|--------------|-------------|\n",
    "| PACF cuts off at lag 2, ACF decays | AR(2) → ARIMA(2, d, 0) |\n",
    "| ACF cuts off at lag 1, PACF decays | MA(1) → ARIMA(0, d, 1) |\n",
    "| Both decay gradually | ARMA → ARIMA(p, d, q) - try both |\n",
    "| Nothing significant | White noise (no model needed!) |\n",
    "\n",
    "**Pro Tips:**\n",
    "- 🎯 Most real-world series: d=1 (one difference)\n",
    "- 🎯 Keep p and q small (typically 0-3)\n",
    "- 🎯 Simpler is better (principle of parsimony)\n"
   ]
  },
  {
   "cell_type": "markdown",
   "id": "73a48b85",
   "metadata": {},
   "source": [
    "## 5.5. Testing for Stationarity: The Foundation of Time Series Modeling\n",
    "\n",
    "Before we can use ARIMA or other classical time series models, we need to ensure our data is **stationary**. This section will teach you how to test for stationarity and transform non-stationary data.\n",
    "\n",
    "### What is Stationarity?\n",
    "\n",
    "A time series is **stationary** when its statistical properties remain constant over time:\n",
    "- ✅ **Constant Mean**: No upward or downward trend\n",
    "- ✅ **Constant Variance**: Spread stays the same (no heteroscedasticity!)\n",
    "- ✅ **Constant Autocorrelation**: Correlation structure doesn't change\n",
    "\n",
    "### Why Does It Matter?\n",
    "\n",
    "- Most time series models (ARIMA, ARMA, etc.) **assume stationarity**\n",
    "- Non-stationary data can lead to spurious correlations and unreliable forecasts\n",
    "- We need to transform non-stationary data → stationary data before modeling\n"
   ]
  },
  {
   "cell_type": "markdown",
   "id": "f179008b",
   "metadata": {},
   "source": [
    "### 📊 The Augmented Dickey-Fuller (ADF) Test\n",
    "\n",
    "The **ADF test** is the most common statistical test for stationarity. \n",
    "\n",
    "**Hypothesis:**\n",
    "- **Null Hypothesis (H₀)**: The series has a unit root (i.e., it's NON-stationary)\n",
    "- **Alternative Hypothesis (H₁)**: The series is stationary\n",
    "\n",
    "**How to Interpret:**\n",
    "- **p-value < 0.05**: Reject H₀ → Series IS stationary ✅\n",
    "- **p-value ≥ 0.05**: Fail to reject H₀ → Series is NOT stationary ❌\n",
    "\n",
    "Let's test this on real data!\n"
   ]
  },
  {
   "cell_type": "code",
   "execution_count": 9,
   "id": "173762c2",
   "metadata": {},
   "outputs": [
    {
     "data": {
      "application/vnd.plotly.v1+json": {
       "config": {
        "plotlyServerURL": "https://plot.ly"
       },
       "data": [
        {
         "line": {
          "color": "green",
          "width": 1.5
         },
         "mode": "lines",
         "name": "Stationary",
         "type": "scatter",
         "x": {
          "bdata": "AAABAAIAAwAEAAUABgAHAAgACQAKAAsADAANAA4ADwAQABEAEgATABQAFQAWABcAGAAZABoAGwAcAB0AHgAfACAAIQAiACMAJAAlACYAJwAoACkAKgArACwALQAuAC8AMAAxADIAMwA0ADUANgA3ADgAOQA6ADsAPAA9AD4APwBAAEEAQgBDAEQARQBGAEcASABJAEoASwBMAE0ATgBPAFAAUQBSAFMAVABVAFYAVwBYAFkAWgBbAFwAXQBeAF8AYABhAGIAYwBkAGUAZgBnAGgAaQBqAGsAbABtAG4AbwBwAHEAcgBzAHQAdQB2AHcAeAB5AHoAewB8AH0AfgB/AIAAgQCCAIMAhACFAIYAhwCIAIkAigCLAIwAjQCOAI8AkACRAJIAkwCUAJUAlgCXAJgAmQCaAJsAnACdAJ4AnwCgAKEAogCjAKQApQCmAKcAqACpAKoAqwCsAK0ArgCvALAAsQCyALMAtAC1ALYAtwC4ALkAugC7ALwAvQC+AL8AwADBAMIAwwDEAMUAxgDHAMgAyQDKAMsAzADNAM4AzwDQANEA0gDTANQA1QDWANcA2ADZANoA2wDcAN0A3gDfAOAA4QDiAOMA5ADlAOYA5wDoAOkA6gDrAOwA7QDuAO8A8ADxAPIA8wD0APUA9gD3APgA+QD6APsA/AD9AP4A/wAAAQEBAgEDAQQBBQEGAQcBCAEJAQoBCwEMAQ0BDgEPARABEQESARMBFAEVARYBFwEYARkBGgEbARwBHQEeAR8BIAEhASIBIwEkASUBJgEnASgBKQEqASsB",
          "dtype": "i2"
         },
         "xaxis": "x",
         "y": {
          "bdata": "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",
          "dtype": "f8"
         },
         "yaxis": "y"
        },
        {
         "line": {
          "color": "red",
          "width": 1.5
         },
         "mode": "lines",
         "name": "Non-Stationary",
         "type": "scatter",
         "x": {
          "bdata": "AAABAAIAAwAEAAUABgAHAAgACQAKAAsADAANAA4ADwAQABEAEgATABQAFQAWABcAGAAZABoAGwAcAB0AHgAfACAAIQAiACMAJAAlACYAJwAoACkAKgArACwALQAuAC8AMAAxADIAMwA0ADUANgA3ADgAOQA6ADsAPAA9AD4APwBAAEEAQgBDAEQARQBGAEcASABJAEoASwBMAE0ATgBPAFAAUQBSAFMAVABVAFYAVwBYAFkAWgBbAFwAXQBeAF8AYABhAGIAYwBkAGUAZgBnAGgAaQBqAGsAbABtAG4AbwBwAHEAcgBzAHQAdQB2AHcAeAB5AHoAewB8AH0AfgB/AIAAgQCCAIMAhACFAIYAhwCIAIkAigCLAIwAjQCOAI8AkACRAJIAkwCUAJUAlgCXAJgAmQCaAJsAnACdAJ4AnwCgAKEAogCjAKQApQCmAKcAqACpAKoAqwCsAK0ArgCvALAAsQCyALMAtAC1ALYAtwC4ALkAugC7ALwAvQC+AL8AwADBAMIAwwDEAMUAxgDHAMgAyQDKAMsAzADNAM4AzwDQANEA0gDTANQA1QDWANcA2ADZANoA2wDcAN0A3gDfAOAA4QDiAOMA5ADlAOYA5wDoAOkA6gDrAOwA7QDuAO8A8ADxAPIA8wD0APUA9gD3APgA+QD6APsA/AD9AP4A/wAAAQEBAgEDAQQBBQEGAQcBCAEJAQoBCwEMAQ0BDgEPARABEQESARMBFAEVARYBFwEYARkBGgEbARwBHQEeAR8BIAEhASIBIwEkASUBJgEnASgBKQEqASsB",
          "dtype": "i2"
         },
         "xaxis": "x2",
         "y": {
          "bdata": "AAAAAAAAAAAURx0XQQ7Vv1hV/KpC6Ni/3UrS8bJ16z+F8nAV7X7/PzFkRBaolANAfkgWbfGECECWxkXmzF4TQDeUZAIIARNAPP0jTkIxF0B8Ne22NmIYQBbzqeROgxlAL3/9pnToH0AZuT9M15oiQCXuAqJbOyVAzKDfWcPXKEAqb9ldhOIpQJOtc06tPyxA33eqBdKgLEBsRX8ny0YuQFGmOgspBC9AAdDeP+kaMEB4DNd1RTMxQHGms4zO4TBAJ0n7PXV5M0B3iRLj6vcyQCRwc9IVQTJASUO6xo/pM0ACTL4uOjQ1QEhSuX8AVDZAMDMOwNt0N0BGV00lufE3QMGd564GjDdALvJZnG4fOEDq5QwkFPI3QJGccZa1azlArGz9CBDGOUDQQjZAvHI5QMX2huh1oDlARpG6yCuKOkB6UiSI23k6QJpC935eJzpARRLzx8DlOkC6mAbpdqQ7QHty3+GvojtAO6d56hmqO0ClpGWKgWU8QPwPneLLcjtAd8/bVnyKOkDwh/lgkFI6QBiBAejrmzpAodNji4NrO0BGk1F9NGU9QOBTEhLEwD5AsMPOVtIXP0B6uscX9JI/QFJUFVROEj9AF7IzDZGNP0Bo092Eq8M/QCIl7pkkS0BAML/R5UEhQEC9uSTYu6NAQEcNDaLsp0FAzK/MxwDaQUCnGvcRbE1CQLURYLXC5UJAlXMdhGfyQkBzxxmUFk9DQAyM0DSzkENAKvtQ2zPdQ0BRaELfQbpDQJTWgAVl/UNADgX0bSN9REDJqNSA4nZFQEauweOrMUZA51hYX0eFR0BptnDtDmNHQBbiTyG3EkhAojKH4S5qSEALoO5XesJJQFkeeAYEm0lAuSobBYhvSUAqWCofz2JJQPxUgE7zkkhALWu4XaePSEDCEWcbfG5IQK9J7DW8wUhAJeDV3notSUA18os8oV1KQLwej7lIF0tAFh3wvnANS0ANRXB+cdpKQLg3ibNoWUtAH5ixTGvwSkCyQFmK2BpMQP1LLm/Q8UxAvFyNfML1TEC+UIl+elpMQIdQKi/GR01AEpdN8Rx5TUDixx61jVdOQNmZgYB3y01AwslkLr++TUAdMLwBa/9NQDEShXduRU5APIq0uNJLTkAFaqFEjNtOQFYLW3vkkk5AgCar/arATkByLZHWEBBPQAI3SfjpkU9AyspFFYAWUECMguXkC91PQKywfQquWE9AqRJAehweUEDGbz0cYVNQQFhvKuh5Q1BAB+8Z+7/GUED2v64xJ+5QQGE0lMygWVFAbZadBfN9UUAuQeFQ1iFSQEkp/9EtslJAQ0Osyj7CUkAwSZkCbSBTQCaPhtm6aVNAJodXglLhU0C68QI0kcNTQPn1ZHh5D1RAdwl0sjZzVEC38WOCpyJUQHpKegDt9lNA7S7MOGqUU0BmXqJCLKNTQHjn/HgY8VNAL1IuFz9xVEBy/zYP/ZVUQIt+6Us4HlVAEnLYtuTlVED2ChF/4JhUQLSCIWdStVRApjBh7ubtVEB8vKpCzwtVQJ45/0l+p1RAk3F1JcrBVECEntC3TY5UQMWuEKIp2VRANh+O+p8QVUCTAgL9ePRUQEzl8MqV81RAruVto8vPVEAXqj20yOtUQBsPf8HpSFVANRrMntMpVUArDh3rFWpVQNe2di0maFVAzpnFv2dVVUAIrucpjm5VQIwf5MBMTFVAtyRlw91IVUBn01u7MxxVQLuz18nxuVVAIVHmizPcVUDNEGc+a89VQH23Mhcd/VVAX8E1tewVVkBt54hXyCdWQBGmYdkWb1ZA0O3/2pG/VkA+D+ofnr1WQKgOKuvDuFZAOBC7eCnHVkCb75TL1lNWQDYapufdElZA+jTbxViKVkCrUoTsnxNXQMr3qLevI1dAjB7WBpZoV0B4x5qMgZxXQLLtse6NgVhA2W85DDXpWEBMcPU+BQFZQLTX3avd41hAacWjpw2dWEDPQ/szE8pYQIZwBieruVhA+hqa8qR+WEClB15/Q3VYQKjiP2oLUFhAe3koiwXcWEBdNlFUcjRZQHDIorTvU1lAkeRBHKfSWUCLqnW2mvdZQH9ZsG574FlAZEEZTPZhWkCHiKbMc6RaQI/Z9I4RglpAc3etDOOVWkAW84jr2H1aQOKYFyFZRVpA6NRIn5+gWkBhJSOB0zpbQDpykV9RAVtAmIGwD1lFW0C4kPXutDtbQDB8A9+HPFtAEb/OFp42W0CLyt12Uh9bQIgVU3FtQltAmG/tJz8tW0Ct3BJSjl5bQHmWKzhXe1tAeudrSwyMW0ANB4bF9nFbQB+DOfMMbVtA+CmqR2W9W0Bv4KBOdP1bQBREwQrk3ltAYxSkgD8FXEB/dag6VlVcQJjpaLF+ClxArvc8G0VNXEBIacGt3EJcQDSZCF5hh1xA9KoZIYh2XECay+LwBCNcQL7nIEnb2ltAiT0DHO/9W0D/+CNnji5cQKJ1TRSuFFxAlPA0x4xdXECfqvZuNhNcQCojM8j7LlxAL+kbfnoBXEABklDPwvdbQGNdwGPLGlxAfiGIYLoDXEDjo6zRHQtcQI0VoeuEa1xABNrAH5lmXEAYkIUaFbxcQIXbivzHk1xADzdTTLDVXECnYVv18lFdQASJ8YjD01xAsGP8M8PAXEDMzurzsQVdQKqk10GzGF1A3692HHRQXUA/ovpqzEldQIb53hpXb11AH0o4fWCFXUDrNTFuHfBdQHyPjdxlIF5AcLm/JAFWXkBA24rzpFteQFZtzgJwXF5A/dlE+sBgXkCDsHeu/5leQLtgk0UOn15AasVq8ZnRXkD61klPbXZfQH7VHdEtzl9AtbxPP1DZX0CQxNV3GCNgQMkWwIMJJmBAqzycZaLpX0DMACrpHclfQHdlINticV9AmeG2qON6X0CG8v5sEZxfQMo5XBauE2BASYnBRiQuYECi0KRnITdgQFSaN+WrYWBATLNhRuoqYECCZOxtdEJgQFMQaFsfa2BAQNJNx85LYED7GWJpaIBgQAsazV89m2BA8gXsVfOdYECnk60VM8JgQKIEv5ncGmFAvzvtcq4wYUASxznfn0hhQE20mMnsSWFA/QLH3Lo+YUAmGzL5TGlhQO69Se/nXWFAS8mQNDJwYUDKt0s86XBhQJOYywk9kGFAelzyZeqqYUCueOrsHdxhQIZIAd/L22FAe6U+DinjYUD+6/UF19NhQHgwdl+f1WFA",
          "dtype": "f8"
         },
         "yaxis": "y2"
        }
       ],
       "layout": {
        "annotations": [
         {
          "font": {
           "size": 16
          },
          "showarrow": false,
          "text": "Stationary Series",
          "x": 0.5,
          "xanchor": "center",
          "xref": "paper",
          "y": 1,
          "yanchor": "bottom",
          "yref": "paper"
         },
         {
          "font": {
           "size": 16
          },
          "showarrow": false,
          "text": "Non-Stationary Series (Random Walk with Drift)",
          "x": 0.5,
          "xanchor": "center",
          "xref": "paper",
          "y": 0.425,
          "yanchor": "bottom",
          "yref": "paper"
         }
        ],
        "height": 600,
        "showlegend": false,
        "template": {
         "data": {
          "bar": [
           {
            "error_x": {
             "color": "#2a3f5f"
            },
            "error_y": {
             "color": "#2a3f5f"
            },
            "marker": {
             "line": {
              "color": "white",
              "width": 0.5
             },
             "pattern": {
              "fillmode": "overlay",
              "size": 10,
              "solidity": 0.2
             }
            },
            "type": "bar"
           }
          ],
          "barpolar": [
           {
            "marker": {
             "line": {
              "color": "white",
              "width": 0.5
             },
             "pattern": {
              "fillmode": "overlay",
              "size": 10,
              "solidity": 0.2
             }
            },
            "type": "barpolar"
           }
          ],
          "carpet": [
           {
            "aaxis": {
             "endlinecolor": "#2a3f5f",
             "gridcolor": "#C8D4E3",
             "linecolor": "#C8D4E3",
             "minorgridcolor": "#C8D4E3",
             "startlinecolor": "#2a3f5f"
            },
            "baxis": {
             "endlinecolor": "#2a3f5f",
             "gridcolor": "#C8D4E3",
             "linecolor": "#C8D4E3",
             "minorgridcolor": "#C8D4E3",
             "startlinecolor": "#2a3f5f"
            },
            "type": "carpet"
           }
          ],
          "choropleth": [
           {
            "colorbar": {
             "outlinewidth": 0,
             "ticks": ""
            },
            "type": "choropleth"
           }
          ],
          "contour": [
           {
            "colorbar": {
             "outlinewidth": 0,
             "ticks": ""
            },
            "colorscale": [
             [
              0,
              "#0d0887"
             ],
             [
              0.1111111111111111,
              "#46039f"
             ],
             [
              0.2222222222222222,
              "#7201a8"
             ],
             [
              0.3333333333333333,
              "#9c179e"
             ],
             [
              0.4444444444444444,
              "#bd3786"
             ],
             [
              0.5555555555555556,
              "#d8576b"
             ],
             [
              0.6666666666666666,
              "#ed7953"
             ],
             [
              0.7777777777777778,
              "#fb9f3a"
             ],
             [
              0.8888888888888888,
              "#fdca26"
             ],
             [
              1,
              "#f0f921"
             ]
            ],
            "type": "contour"
           }
          ],
          "contourcarpet": [
           {
            "colorbar": {
             "outlinewidth": 0,
             "ticks": ""
            },
            "type": "contourcarpet"
           }
          ],
          "heatmap": [
           {
            "colorbar": {
             "outlinewidth": 0,
             "ticks": ""
            },
            "colorscale": [
             [
              0,
              "#0d0887"
             ],
             [
              0.1111111111111111,
              "#46039f"
             ],
             [
              0.2222222222222222,
              "#7201a8"
             ],
             [
              0.3333333333333333,
              "#9c179e"
             ],
             [
              0.4444444444444444,
              "#bd3786"
             ],
             [
              0.5555555555555556,
              "#d8576b"
             ],
             [
              0.6666666666666666,
              "#ed7953"
             ],
             [
              0.7777777777777778,
              "#fb9f3a"
             ],
             [
              0.8888888888888888,
              "#fdca26"
             ],
             [
              1,
              "#f0f921"
             ]
            ],
            "type": "heatmap"
           }
          ],
          "histogram": [
           {
            "marker": {
             "pattern": {
              "fillmode": "overlay",
              "size": 10,
              "solidity": 0.2
             }
            },
            "type": "histogram"
           }
          ],
          "histogram2d": [
           {
            "colorbar": {
             "outlinewidth": 0,
             "ticks": ""
            },
            "colorscale": [
             [
              0,
              "#0d0887"
             ],
             [
              0.1111111111111111,
              "#46039f"
             ],
             [
              0.2222222222222222,
              "#7201a8"
             ],
             [
              0.3333333333333333,
              "#9c179e"
             ],
             [
              0.4444444444444444,
              "#bd3786"
             ],
             [
              0.5555555555555556,
              "#d8576b"
             ],
             [
              0.6666666666666666,
              "#ed7953"
             ],
             [
              0.7777777777777778,
              "#fb9f3a"
             ],
             [
              0.8888888888888888,
              "#fdca26"
             ],
             [
              1,
              "#f0f921"
             ]
            ],
            "type": "histogram2d"
           }
          ],
          "histogram2dcontour": [
           {
            "colorbar": {
             "outlinewidth": 0,
             "ticks": ""
            },
            "colorscale": [
             [
              0,
              "#0d0887"
             ],
             [
              0.1111111111111111,
              "#46039f"
             ],
             [
              0.2222222222222222,
              "#7201a8"
             ],
             [
              0.3333333333333333,
              "#9c179e"
             ],
             [
              0.4444444444444444,
              "#bd3786"
             ],
             [
              0.5555555555555556,
              "#d8576b"
             ],
             [
              0.6666666666666666,
              "#ed7953"
             ],
             [
              0.7777777777777778,
              "#fb9f3a"
             ],
             [
              0.8888888888888888,
              "#fdca26"
             ],
             [
              1,
              "#f0f921"
             ]
            ],
            "type": "histogram2dcontour"
           }
          ],
          "mesh3d": [
           {
            "colorbar": {
             "outlinewidth": 0,
             "ticks": ""
            },
            "type": "mesh3d"
           }
          ],
          "parcoords": [
           {
            "line": {
             "colorbar": {
              "outlinewidth": 0,
              "ticks": ""
             }
            },
            "type": "parcoords"
           }
          ],
          "pie": [
           {
            "automargin": true,
            "type": "pie"
           }
          ],
          "scatter": [
           {
            "fillpattern": {
             "fillmode": "overlay",
             "size": 10,
             "solidity": 0.2
            },
            "type": "scatter"
           }
          ],
          "scatter3d": [
           {
            "line": {
             "colorbar": {
              "outlinewidth": 0,
              "ticks": ""
             }
            },
            "marker": {
             "colorbar": {
              "outlinewidth": 0,
              "ticks": ""
             }
            },
            "type": "scatter3d"
           }
          ],
          "scattercarpet": [
           {
            "marker": {
             "colorbar": {
              "outlinewidth": 0,
              "ticks": ""
             }
            },
            "type": "scattercarpet"
           }
          ],
          "scattergeo": [
           {
            "marker": {
             "colorbar": {
              "outlinewidth": 0,
              "ticks": ""
             }
            },
            "type": "scattergeo"
           }
          ],
          "scattergl": [
           {
            "marker": {
             "colorbar": {
              "outlinewidth": 0,
              "ticks": ""
             }
            },
            "type": "scattergl"
           }
          ],
          "scattermap": [
           {
            "marker": {
             "colorbar": {
              "outlinewidth": 0,
              "ticks": ""
             }
            },
            "type": "scattermap"
           }
          ],
          "scattermapbox": [
           {
            "marker": {
             "colorbar": {
              "outlinewidth": 0,
              "ticks": ""
             }
            },
            "type": "scattermapbox"
           }
          ],
          "scatterpolar": [
           {
            "marker": {
             "colorbar": {
              "outlinewidth": 0,
              "ticks": ""
             }
            },
            "type": "scatterpolar"
           }
          ],
          "scatterpolargl": [
           {
            "marker": {
             "colorbar": {
              "outlinewidth": 0,
              "ticks": ""
             }
            },
            "type": "scatterpolargl"
           }
          ],
          "scatterternary": [
           {
            "marker": {
             "colorbar": {
              "outlinewidth": 0,
              "ticks": ""
             }
            },
            "type": "scatterternary"
           }
          ],
          "surface": [
           {
            "colorbar": {
             "outlinewidth": 0,
             "ticks": ""
            },
            "colorscale": [
             [
              0,
              "#0d0887"
             ],
             [
              0.1111111111111111,
              "#46039f"
             ],
             [
              0.2222222222222222,
              "#7201a8"
             ],
             [
              0.3333333333333333,
              "#9c179e"
             ],
             [
              0.4444444444444444,
              "#bd3786"
             ],
             [
              0.5555555555555556,
              "#d8576b"
             ],
             [
              0.6666666666666666,
              "#ed7953"
             ],
             [
              0.7777777777777778,
              "#fb9f3a"
             ],
             [
              0.8888888888888888,
              "#fdca26"
             ],
             [
              1,
              "#f0f921"
             ]
            ],
            "type": "surface"
           }
          ],
          "table": [
           {
            "cells": {
             "fill": {
              "color": "#EBF0F8"
             },
             "line": {
              "color": "white"
             }
            },
            "header": {
             "fill": {
              "color": "#C8D4E3"
             },
             "line": {
              "color": "white"
             }
            },
            "type": "table"
           }
          ]
         },
         "layout": {
          "annotationdefaults": {
           "arrowcolor": "#2a3f5f",
           "arrowhead": 0,
           "arrowwidth": 1
          },
          "autotypenumbers": "strict",
          "coloraxis": {
           "colorbar": {
            "outlinewidth": 0,
            "ticks": ""
           }
          },
          "colorscale": {
           "diverging": [
            [
             0,
             "#8e0152"
            ],
            [
             0.1,
             "#c51b7d"
            ],
            [
             0.2,
             "#de77ae"
            ],
            [
             0.3,
             "#f1b6da"
            ],
            [
             0.4,
             "#fde0ef"
            ],
            [
             0.5,
             "#f7f7f7"
            ],
            [
             0.6,
             "#e6f5d0"
            ],
            [
             0.7,
             "#b8e186"
            ],
            [
             0.8,
             "#7fbc41"
            ],
            [
             0.9,
             "#4d9221"
            ],
            [
             1,
             "#276419"
            ]
           ],
           "sequential": [
            [
             0,
             "#0d0887"
            ],
            [
             0.1111111111111111,
             "#46039f"
            ],
            [
             0.2222222222222222,
             "#7201a8"
            ],
            [
             0.3333333333333333,
             "#9c179e"
            ],
            [
             0.4444444444444444,
             "#bd3786"
            ],
            [
             0.5555555555555556,
             "#d8576b"
            ],
            [
             0.6666666666666666,
             "#ed7953"
            ],
            [
             0.7777777777777778,
             "#fb9f3a"
            ],
            [
             0.8888888888888888,
             "#fdca26"
            ],
            [
             1,
             "#f0f921"
            ]
           ],
           "sequentialminus": [
            [
             0,
             "#0d0887"
            ],
            [
             0.1111111111111111,
             "#46039f"
            ],
            [
             0.2222222222222222,
             "#7201a8"
            ],
            [
             0.3333333333333333,
             "#9c179e"
            ],
            [
             0.4444444444444444,
             "#bd3786"
            ],
            [
             0.5555555555555556,
             "#d8576b"
            ],
            [
             0.6666666666666666,
             "#ed7953"
            ],
            [
             0.7777777777777778,
             "#fb9f3a"
            ],
            [
             0.8888888888888888,
             "#fdca26"
            ],
            [
             1,
             "#f0f921"
            ]
           ]
          },
          "colorway": [
           "#636efa",
           "#EF553B",
           "#00cc96",
           "#ab63fa",
           "#FFA15A",
           "#19d3f3",
           "#FF6692",
           "#B6E880",
           "#FF97FF",
           "#FECB52"
          ],
          "font": {
           "color": "#2a3f5f"
          },
          "geo": {
           "bgcolor": "white",
           "lakecolor": "white",
           "landcolor": "white",
           "showlakes": true,
           "showland": true,
           "subunitcolor": "#C8D4E3"
          },
          "hoverlabel": {
           "align": "left"
          },
          "hovermode": "closest",
          "mapbox": {
           "style": "light"
          },
          "paper_bgcolor": "white",
          "plot_bgcolor": "white",
          "polar": {
           "angularaxis": {
            "gridcolor": "#EBF0F8",
            "linecolor": "#EBF0F8",
            "ticks": ""
           },
           "bgcolor": "white",
           "radialaxis": {
            "gridcolor": "#EBF0F8",
            "linecolor": "#EBF0F8",
            "ticks": ""
           }
          },
          "scene": {
           "xaxis": {
            "backgroundcolor": "white",
            "gridcolor": "#DFE8F3",
            "gridwidth": 2,
            "linecolor": "#EBF0F8",
            "showbackground": true,
            "ticks": "",
            "zerolinecolor": "#EBF0F8"
           },
           "yaxis": {
            "backgroundcolor": "white",
            "gridcolor": "#DFE8F3",
            "gridwidth": 2,
            "linecolor": "#EBF0F8",
            "showbackground": true,
            "ticks": "",
            "zerolinecolor": "#EBF0F8"
           },
           "zaxis": {
            "backgroundcolor": "white",
            "gridcolor": "#DFE8F3",
            "gridwidth": 2,
            "linecolor": "#EBF0F8",
            "showbackground": true,
            "ticks": "",
            "zerolinecolor": "#EBF0F8"
           }
          },
          "shapedefaults": {
           "line": {
            "color": "#2a3f5f"
           }
          },
          "ternary": {
           "aaxis": {
            "gridcolor": "#DFE8F3",
            "linecolor": "#A2B1C6",
            "ticks": ""
           },
           "baxis": {
            "gridcolor": "#DFE8F3",
            "linecolor": "#A2B1C6",
            "ticks": ""
           },
           "bgcolor": "white",
           "caxis": {
            "gridcolor": "#DFE8F3",
            "linecolor": "#A2B1C6",
            "ticks": ""
           }
          },
          "title": {
           "x": 0.05
          },
          "xaxis": {
           "automargin": true,
           "gridcolor": "#EBF0F8",
           "linecolor": "#EBF0F8",
           "ticks": "",
           "title": {
            "standoff": 15
           },
           "zerolinecolor": "#EBF0F8",
           "zerolinewidth": 2
          },
          "yaxis": {
           "automargin": true,
           "gridcolor": "#EBF0F8",
           "linecolor": "#EBF0F8",
           "ticks": "",
           "title": {
            "standoff": 15
           },
           "zerolinecolor": "#EBF0F8",
           "zerolinewidth": 2
          }
         }
        },
        "title": {
         "text": "Visual Comparison: Stationary vs Non-Stationary"
        },
        "xaxis": {
         "anchor": "y",
         "domain": [
          0,
          1
         ]
        },
        "xaxis2": {
         "anchor": "y2",
         "domain": [
          0,
          1
         ],
         "title": {
          "text": "Time"
         }
        },
        "yaxis": {
         "anchor": "x",
         "domain": [
          0.575,
          1
         ],
         "title": {
          "text": "Value"
         }
        },
        "yaxis2": {
         "anchor": "x2",
         "domain": [
          0,
          0.425
         ],
         "title": {
          "text": "Value"
         }
        }
       }
      }
     },
     "metadata": {},
     "output_type": "display_data"
    },
    {
     "name": "stdout",
     "output_type": "stream",
     "text": [
      "\n",
      "============================================================\n",
      "ADF Test Results for: Stationary Series\n",
      "============================================================\n",
      "ADF Statistic: -13.774184\n",
      "p-value: 0.000000\n",
      "Critical Values:\n",
      "   1%: -3.452\n",
      "   5%: -2.871\n",
      "   10%: -2.572\n",
      "\n",
      "✅ Result: STATIONARY (p-value = 0.000000 < 0.05)\n",
      "   → Can proceed with modeling!\n",
      "\n",
      "============================================================\n",
      "ADF Test Results for: Non-Stationary Series\n",
      "============================================================\n",
      "ADF Statistic: -1.739642\n",
      "p-value: 0.410812\n",
      "Critical Values:\n",
      "   1%: -3.452\n",
      "   5%: -2.871\n",
      "   10%: -2.572\n",
      "\n",
      "❌ Result: NON-STATIONARY (p-value = 0.410812 ≥ 0.05)\n",
      "   → Need to transform the data (detrend/deseasonalize/difference)\n"
     ]
    },
    {
     "data": {
      "text/plain": [
       "(np.float64(-1.739642159183937),\n",
       " np.float64(0.4108120008289858),\n",
       " 0,\n",
       " 299,\n",
       " {'1%': np.float64(-3.4524113009049935),\n",
       "  '5%': np.float64(-2.8712554127251764),\n",
       "  '10%': np.float64(-2.571946570731871)},\n",
       " np.float64(789.5352730524392))"
      ]
     },
     "execution_count": 9,
     "metadata": {},
     "output_type": "execute_result"
    }
   ],
   "source": [
    "from statsmodels.tsa.stattools import adfuller\n",
    "\n",
    "# Function to perform and display ADF test results\n",
    "def adf_test(series, name=''):\n",
    "    \"\"\"Perform Augmented Dickey-Fuller test and display results\"\"\"\n",
    "    result = adfuller(series, autolag='AIC')\n",
    "    \n",
    "    print(f'\\n{\"=\"*60}')\n",
    "    print(f'ADF Test Results for: {name}')\n",
    "    print(f'{\"=\"*60}')\n",
    "    print(f'ADF Statistic: {result[0]:.6f}')\n",
    "    print(f'p-value: {result[1]:.6f}')\n",
    "    print(f'Critical Values:')\n",
    "    for key, value in result[4].items():\n",
    "        print(f'   {key}: {value:.3f}')\n",
    "    \n",
    "    # Interpretation\n",
    "    if result[1] <= 0.05:\n",
    "        print(f\"\\n✅ Result: STATIONARY (p-value = {result[1]:.6f} < 0.05)\")\n",
    "        print(\"   → Can proceed with modeling!\")\n",
    "    else:\n",
    "        print(f\"\\n❌ Result: NON-STATIONARY (p-value = {result[1]:.6f} ≥ 0.05)\")\n",
    "        print(\"   → Need to transform the data (detrend/deseasonalize/difference)\")\n",
    "    \n",
    "    return result\n",
    "\n",
    "# Generate two time series: one stationary, one non-stationary\n",
    "np.random.seed(42)\n",
    "n = 300\n",
    "\n",
    "# 1. Stationary series (white noise + small AR component)\n",
    "stationary_series = np.random.normal(0, 1, n)\n",
    "for i in range(1, n):\n",
    "    stationary_series[i] += 0.3 * stationary_series[i-1]\n",
    "\n",
    "# 2. Non-stationary series (random walk with drift + trend)\n",
    "non_stationary = np.zeros(n)\n",
    "for i in range(1, n):\n",
    "    non_stationary[i] = non_stationary[i-1] + 0.5 + np.random.normal(0, 1)\n",
    "\n",
    "# Visualize both\n",
    "fig = make_subplots(\n",
    "    rows=2, cols=1,\n",
    "    subplot_titles=('Stationary Series', 'Non-Stationary Series (Random Walk with Drift)'),\n",
    "    vertical_spacing=0.15\n",
    ")\n",
    "\n",
    "fig.add_trace(\n",
    "    go.Scatter(x=np.arange(n), y=stationary_series, mode='lines',\n",
    "               line=dict(color='green', width=1.5), name='Stationary'),\n",
    "    row=1, col=1\n",
    ")\n",
    "\n",
    "fig.add_trace(\n",
    "    go.Scatter(x=np.arange(n), y=non_stationary, mode='lines',\n",
    "               line=dict(color='red', width=1.5), name='Non-Stationary'),\n",
    "    row=2, col=1\n",
    ")\n",
    "\n",
    "fig.update_xaxes(title_text=\"Time\", row=2, col=1)\n",
    "fig.update_yaxes(title_text=\"Value\", row=1, col=1)\n",
    "fig.update_yaxes(title_text=\"Value\", row=2, col=1)\n",
    "\n",
    "fig.update_layout(\n",
    "    title_text='Visual Comparison: Stationary vs Non-Stationary',\n",
    "    height=600,\n",
    "    showlegend=False,\n",
    "    template='plotly_white'\n",
    ")\n",
    "\n",
    "fig.show()\n",
    "\n",
    "# Perform ADF test on both\n",
    "adf_test(stationary_series, 'Stationary Series')\n",
    "adf_test(non_stationary, 'Non-Stationary Series')\n"
   ]
  },
  {
   "cell_type": "markdown",
   "id": "f1d517d5",
   "metadata": {},
   "source": [
    "### 🔧 Making Data Stationary: Transformation Techniques\n",
    "\n",
    "When data is non-stationary, we have several techniques to transform it:\n",
    "\n",
    "1. **Detrending**: Remove the trend component\n",
    "2. **Deseasonalizing**: Remove seasonal patterns\n",
    "3. **Differencing**: Subtract previous values\n",
    "4. **Log Transform**: Stabilize variance (for heteroscedasticity)\n",
    "\n",
    "Let's explore each method with interactive examples!\n"
   ]
  },
  {
   "cell_type": "code",
   "execution_count": 10,
   "id": "a1f6c554",
   "metadata": {},
   "outputs": [
    {
     "data": {
      "application/vnd.plotly.v1+json": {
       "config": {
        "plotlyServerURL": "https://plot.ly"
       },
       "data": [
        {
         "line": {
          "color": "red",
          "width": 1.5
         },
         "mode": "lines",
         "name": "Original",
         "type": "scatter",
         "x": {
          "bdata": "AAABAAIAAwAEAAUABgAHAAgACQAKAAsADAANAA4ADwAQABEAEgATABQAFQAWABcAGAAZABoAGwAcAB0AHgAfACAAIQAiACMAJAAlACYAJwAoACkAKgArACwALQAuAC8AMAAxADIAMwA0ADUANgA3ADgAOQA6ADsAPAA9AD4APwBAAEEAQgBDAEQARQBGAEcASABJAEoASwBMAE0ATgBPAFAAUQBSAFMAVABVAFYAVwBYAFkAWgBbAFwAXQBeAF8AYABhAGIAYwBkAGUAZgBnAGgAaQBqAGsAbABtAG4AbwBwAHEAcgBzAHQAdQB2AHcAeAB5AHoAewB8AH0AfgB/AIAAgQCCAIMAhACFAIYAhwCIAIkAigCLAIwAjQCOAI8AkACRAJIAkwCUAJUAlgCXAJgAmQCaAJsAnACdAJ4AnwCgAKEAogCjAKQApQCmAKcAqACpAKoAqwCsAK0ArgCvALAAsQCyALMAtAC1ALYAtwC4ALkAugC7ALwAvQC+AL8AwADBAMIAwwDEAMUAxgDHAMgAyQDKAMsAzADNAM4AzwDQANEA0gDTANQA1QDWANcA2ADZANoA2wDcAN0A3gDfAOAA4QDiAOMA5ADlAOYA5wDoAOkA6gDrAOwA7QDuAO8A8ADxAPIA8wD0APUA9gD3APgA+QD6APsA/AD9AP4A/wAAAQEBAgEDAQQBBQEGAQcBCAEJAQoBCwEMAQ0BDgEPARABEQESARMBFAEVARYBFwEYARkBGgEbARwBHQEeAR8BIAEhASIBIwEkASUBJgEnASgBKQEqASsBLAEtAS4BLwEwATEBMgEzATQBNQE2ATcBOAE5AToBOwE8AT0BPgE/AUABQQFCAUMBRAFFAUYBRwFIAUkBSgFLAUwBTQFOAU8BUAFRAVIBUwFUAVUBVgFXAVgBWQFaAVsBXAFdAV4BXwFgAWEBYgFjAWQBZQFmAWcBaAFpAWoBawFsAQ==",
          "dtype": "i2"
         },
         "xaxis": "x",
         "y": {
          "bdata": "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",
          "dtype": "f8"
         },
         "yaxis": "y"
        },
        {
         "line": {
          "color": "darkred",
          "dash": "dash",
          "width": 2
         },
         "mode": "lines",
         "name": "Trend",
         "showlegend": false,
         "type": "scatter",
         "x": {
          "bdata": "AAABAAIAAwAEAAUABgAHAAgACQAKAAsADAANAA4ADwAQABEAEgATABQAFQAWABcAGAAZABoAGwAcAB0AHgAfACAAIQAiACMAJAAlACYAJwAoACkAKgArACwALQAuAC8AMAAxADIAMwA0ADUANgA3ADgAOQA6ADsAPAA9AD4APwBAAEEAQgBDAEQARQBGAEcASABJAEoASwBMAE0ATgBPAFAAUQBSAFMAVABVAFYAVwBYAFkAWgBbAFwAXQBeAF8AYABhAGIAYwBkAGUAZgBnAGgAaQBqAGsAbABtAG4AbwBwAHEAcgBzAHQAdQB2AHcAeAB5AHoAewB8AH0AfgB/AIAAgQCCAIMAhACFAIYAhwCIAIkAigCLAIwAjQCOAI8AkACRAJIAkwCUAJUAlgCXAJgAmQCaAJsAnACdAJ4AnwCgAKEAogCjAKQApQCmAKcAqACpAKoAqwCsAK0ArgCvALAAsQCyALMAtAC1ALYAtwC4ALkAugC7ALwAvQC+AL8AwADBAMIAwwDEAMUAxgDHAMgAyQDKAMsAzADNAM4AzwDQANEA0gDTANQA1QDWANcA2ADZANoA2wDcAN0A3gDfAOAA4QDiAOMA5ADlAOYA5wDoAOkA6gDrAOwA7QDuAO8A8ADxAPIA8wD0APUA9gD3APgA+QD6APsA/AD9AP4A/wAAAQEBAgEDAQQBBQEGAQcBCAEJAQoBCwEMAQ0BDgEPARABEQESARMBFAEVARYBFwEYARkBGgEbARwBHQEeAR8BIAEhASIBIwEkASUBJgEnASgBKQEqASsBLAEtAS4BLwEwATEBMgEzATQBNQE2ATcBOAE5AToBOwE8AT0BPgE/AUABQQFCAUMBRAFFAUYBRwFIAUkBSgFLAUwBTQFOAU8BUAFRAVIBUwFUAVUBVgFXAVgBWQFaAVsBXAFdAV4BXwFgAWEBYgFjAWQBZQFmAWcBaAFpAWoBawFsAQ==",
          "dtype": "i2"
         },
         "xaxis": "x",
         "y": {
          "bdata": "AAAAAAAAWUDNzMzMzAxZQJqZmZmZGVlAZmZmZmYmWUAzMzMzMzNZQAAAAAAAQFlAzczMzMxMWUCamZmZmVlZQGZmZmZmZllAMzMzMzNzWUAAAAAAAIBZQM3MzMzMjFlAmpmZmZmZWUBmZmZmZqZZQDMzMzMzs1lAAAAAAADAWUDNzMzMzMxZQJqZmZmZ2VlAZmZmZmbmWUAzMzMzM/NZQAAAAAAAAFpAzczMzMwMWkCamZmZmRlaQGZmZmZmJlpAMzMzMzMzWkAAAAAAAEBaQM3MzMzMTFpAmpmZmZlZWkBmZmZmZmZaQDMzMzMzc1pAAAAAAACAWkDNzMzMzIxaQJqZmZmZmVpAZmZmZmamWkAzMzMzM7NaQAAAAAAAwFpAzczMzMzMWkCamZmZmdlaQGZmZmZm5lpAMzMzMzPzWkAAAAAAAABbQM3MzMzMDFtAmpmZmZkZW0BmZmZmZiZbQDMzMzMzM1tAAAAAAABAW0DNzMzMzExbQJqZmZmZWVtAZmZmZmZmW0AzMzMzM3NbQAAAAAAAgFtAzczMzMyMW0CamZmZmZlbQGZmZmZmpltAMzMzMzOzW0AAAAAAAMBbQM3MzMzMzFtAmpmZmZnZW0BmZmZmZuZbQDMzMzMz81tAAAAAAAAAXEDNzMzMzAxcQJqZmZmZGVxAZmZmZmYmXEAzMzMzMzNcQAAAAAAAQFxAzczMzMxMXECamZmZmVlcQGZmZmZmZlxAMzMzMzNzXEAAAAAAAIBcQM3MzMzMjFxAmpmZmZmZXEBmZmZmZqZcQDMzMzMzs1xAAAAAAADAXEDNzMzMzMxcQJqZmZmZ2VxAZmZmZmbmXEAzMzMzM/NcQAAAAAAAAF1AzczMzMwMXUCamZmZmRldQGZmZmZmJl1AMzMzMzMzXUAAAAAAAEBdQM3MzMzMTF1AmpmZmZlZXUBmZmZmZmZdQDMzMzMzc11AAAAAAACAXUDNzMzMzIxdQJqZmZmZmV1AZmZmZmamXUAzMzMzM7NdQAAAAAAAwF1AzczMzMzMXUCamZmZmdldQGZmZmZm5l1AMzMzMzPzXUAAAAAAAABeQM3MzMzMDF5AmpmZmZkZXkBmZmZmZiZeQDMzMzMzM15AAAAAAABAXkDNzMzMzExeQJqZmZmZWV5AZmZmZmZmXkAzMzMzM3NeQAAAAAAAgF5AzczMzMyMXkCamZmZmZleQGZmZmZmpl5AMzMzMzOzXkAAAAAAAMBeQM3MzMzMzF5AmpmZmZnZXkBmZmZmZuZeQDMzMzMz815AAAAAAAAAX0DNzMzMzAxfQJqZmZmZGV9AZmZmZmYmX0AzMzMzMzNfQAAAAAAAQF9AzczMzMxMX0CamZmZmVlfQGZmZmZmZl9AMzMzMzNzX0AAAAAAAIBfQM3MzMzMjF9AmpmZmZmZX0BmZmZmZqZfQDMzMzMzs19AAAAAAADAX0DNzMzMzMxfQJqZmZmZ2V9AZmZmZmbmX0AzMzMzM/NfQAAAAAAAAGBAZmZmZmYGYEDNzMzMzAxgQDMzMzMzE2BAmpmZmZkZYEAAAAAAACBgQGZmZmZmJmBAzczMzMwsYEAzMzMzMzNgQJqZmZmZOWBAAAAAAABAYEBmZmZmZkZgQM3MzMzMTGBAMzMzMzNTYECamZmZmVlgQAAAAAAAYGBAZmZmZmZmYEDNzMzMzGxgQDMzMzMzc2BAmpmZmZl5YEAAAAAAAIBgQGZmZmZmhmBAzczMzMyMYEAzMzMzM5NgQJqZmZmZmWBAAAAAAACgYEBmZmZmZqZgQM3MzMzMrGBAMzMzMzOzYECamZmZmblgQAAAAAAAwGBAZmZmZmbGYEDNzMzMzMxgQDMzMzMz02BAmpmZmZnZYEAAAAAAAOBgQGZmZmZm5mBAzczMzMzsYEAzMzMzM/NgQJqZmZmZ+WBAAAAAAAAAYUBmZmZmZgZhQM3MzMzMDGFAMzMzMzMTYUCamZmZmRlhQAAAAAAAIGFAZmZmZmYmYUDNzMzMzCxhQDMzMzMzM2FAmpmZmZk5YUAAAAAAAEBhQGZmZmZmRmFAzczMzMxMYUAzMzMzM1NhQJqZmZmZWWFAAAAAAABgYUBmZmZmZmZhQM3MzMzMbGFAMzMzMzNzYUCamZmZmXlhQAAAAAAAgGFAZmZmZmaGYUDNzMzMzIxhQDMzMzMzk2FAmpmZmZmZYUAAAAAAAKBhQGZmZmZmpmFAzczMzMysYUAzMzMzM7NhQJqZmZmZuWFAAAAAAADAYUBmZmZmZsZhQM3MzMzMzGFAMzMzMzPTYUCamZmZmdlhQAAAAAAA4GFAZmZmZmbmYUDNzMzMzOxhQDMzMzMz82FAmpmZmZn5YUAAAAAAAABiQGZmZmZmBmJAzczMzMwMYkAzMzMzMxNiQJqZmZmZGWJAAAAAAAAgYkBmZmZmZiZiQM3MzMzMLGJAMzMzMzMzYkCamZmZmTliQAAAAAAAQGJAZmZmZmZGYkDNzMzMzExiQDMzMzMzU2JAmpmZmZlZYkAAAAAAAGBiQGZmZmZmZmJAzczMzMxsYkAzMzMzM3NiQJqZmZmZeWJAAAAAAACAYkBmZmZmZoZiQM3MzMzMjGJAMzMzMzOTYkCamZmZmZliQAAAAAAAoGJAZmZmZmamYkDNzMzMzKxiQDMzMzMzs2JAmpmZmZm5YkAAAAAAAMBiQGZmZmZmxmJAzczMzMzMYkAzMzMzM9NiQJqZmZmZ2WJAAAAAAADgYkBmZmZmZuZiQM3MzMzM7GJAMzMzMzPzYkCamZmZmfliQAAAAAAAAGNAZmZmZmYGY0DNzMzMzAxjQDMzMzMzE2NAmpmZmZkZY0AAAAAAACBjQGZmZmZmJmNAzczMzMwsY0AzMzMzMzNjQJqZmZmZOWNAAAAAAABAY0BmZmZmZkZjQM3MzMzMTGNAMzMzMzNTY0CamZmZmVljQAAAAAAAYGNAZmZmZmZmY0DNzMzMzGxjQDMzMzMzc2NAmpmZmZl5Y0AAAAAAAIBjQGZmZmZmhmNAzczMzMyMY0AzMzMzM5NjQJqZmZmZmWNAAAAAAACgY0BmZmZmZqZjQM3MzMzMrGNAMzMzMzOzY0CamZmZmbljQAAAAAAAwGNAZmZmZmbGY0DNzMzMzMxjQDMzMzMz02NAmpmZmZnZY0AAAAAAAOBjQGZmZmZm5mNAzczMzMzsY0AzMzMzM/NjQJqZmZmZ+WNAAAAAAAAAZEBmZmZmZgZkQM3MzMzMDGRAMzMzMzMTZECamZmZmRlkQAAAAAAAIGRAZmZmZmYmZEDNzMzMzCxkQDMzMzMzM2RAmpmZmZk5ZEAAAAAAAEBkQGZmZmZmRmRAzczMzMxMZEAzMzMzM1NkQJqZmZmZWWRAAAAAAABgZEBmZmZmZmZkQM3MzMzMbGRAMzMzMzNzZECamZmZmXlkQAAAAAAAgGRAZmZmZmaGZEDNzMzMzIxkQDQzMzMzk2RAmpmZmZmZZEAAAAAAAKBkQGZmZmZmpmRAzczMzMysZEA0MzMzM7NkQJqZmZmZuWRAAAAAAADAZEBmZmZmZsZkQM3MzMzMzGRANDMzMzPTZECamZmZmdlkQAAAAAAA4GRAZmZmZmbmZEDNzMzMzOxkQDQzMzMz82RAmpmZmZn5ZEAAAAAAAABlQGZmZmZmBmVAzczMzMwMZUA0MzMzMxNlQJqZmZmZGWVAAAAAAAAgZUBmZmZmZiZlQM3MzMzMLGVANDMzMzMzZUCamZmZmTllQAAAAAAAQGVAZmZmZmZGZUDNzMzMzExlQDQzMzMzU2VAmpmZmZlZZUAAAAAAAGBlQGZmZmZmZmVAzczMzMxsZUA0MzMzM3NlQJqZmZmZeWVAAAAAAACAZUBmZmZmZoZlQM3MzMzMjGVANDMzMzOTZUCamZmZmZllQA==",
          "dtype": "f8"
         },
         "yaxis": "y"
        },
        {
         "line": {
          "color": "green",
          "width": 1.5
         },
         "mode": "lines",
         "name": "Detrended",
         "type": "scatter",
         "x": {
          "bdata": "AAABAAIAAwAEAAUABgAHAAgACQAKAAsADAANAA4ADwAQABEAEgATABQAFQAWABcAGAAZABoAGwAcAB0AHgAfACAAIQAiACMAJAAlACYAJwAoACkAKgArACwALQAuAC8AMAAxADIAMwA0ADUANgA3ADgAOQA6ADsAPAA9AD4APwBAAEEAQgBDAEQARQBGAEcASABJAEoASwBMAE0ATgBPAFAAUQBSAFMAVABVAFYAVwBYAFkAWgBbAFwAXQBeAF8AYABhAGIAYwBkAGUAZgBnAGgAaQBqAGsAbABtAG4AbwBwAHEAcgBzAHQAdQB2AHcAeAB5AHoAewB8AH0AfgB/AIAAgQCCAIMAhACFAIYAhwCIAIkAigCLAIwAjQCOAI8AkACRAJIAkwCUAJUAlgCXAJgAmQCaAJsAnACdAJ4AnwCgAKEAogCjAKQApQCmAKcAqACpAKoAqwCsAK0ArgCvALAAsQCyALMAtAC1ALYAtwC4ALkAugC7ALwAvQC+AL8AwADBAMIAwwDEAMUAxgDHAMgAyQDKAMsAzADNAM4AzwDQANEA0gDTANQA1QDWANcA2ADZANoA2wDcAN0A3gDfAOAA4QDiAOMA5ADlAOYA5wDoAOkA6gDrAOwA7QDuAO8A8ADxAPIA8wD0APUA9gD3APgA+QD6APsA/AD9AP4A/wAAAQEBAgEDAQQBBQEGAQcBCAEJAQoBCwEMAQ0BDgEPARABEQESARMBFAEVARYBFwEYARkBGgEbARwBHQEeAR8BIAEhASIBIwEkASUBJgEnASgBKQEqASsBLAEtAS4BLwEwATEBMgEzATQBNQE2ATcBOAE5AToBOwE8AT0BPgE/AUABQQFCAUMBRAFFAUYBRwFIAUkBSgFLAUwBTQFOAU8BUAFRAVIBUwFUAVUBVgFXAVgBWQFaAVsBXAFdAV4BXwFgAWEBYgFjAWQBZQFmAWcBaAFpAWoBawFsAQ==",
          "dtype": "i2"
         },
         "xaxis": "x2",
         "y": {
          "bdata": "wLOG/ElUF8CwDOK7I1gSQED9UyiwSPA/kLvyylCzH8Bg9r2C20MKwPD5w2pzex9AQL7AknQIKcBgjUZGgjEEwEAxhIx20BdAYFtLDUDTEsCATKjAsBsOwABrC3Ui2uq/EKMTMiZhHEBAqHOTtGwMwOCqibCKmQTAoNqKub0vBMA44jIJ+1wlQLhwGoHELSVAIPqTn4m3EkBAAzPAln75P8Ae0RWV0gpAIPBhcBp+HEDgFCOpUgYUwICqT4H7OBZAwIzNQYpbGsDgfKcrvAoMwAAPqdbj4xBAsBRQGb7PHcBAFzYC1Rnwv9B9cmfmcRLAAK1kYpQ7+b8grHSEp5MswEjjpWuYTCLAQKv0aXFNDsDACfRK2WgRQIAV47O6ZPK/AGJfzBXg0L/AOS8gblUJQAAIeLuerBLAgFFYAXpp8j9wCKUnsCkRwCjGM+EkzCHAAJk/QN+wAcDguORy5ewEQEDCV8rqFvc/AEZ5tT2N078oQjR7H3AnQEBsISkmNP0/cHf6haWhEkDoeZSgs+olQJDFBiUEzBrAMOKvwk2tFcCYyfpHWP4gQCDZiFyb1RDAADj/TTT9sL8gNHT1jYoUQNBdMCqq+xBA4DVLoO0jIUAQIhPfIBwdQDDrfuZPmRRAUEmU36c6EMBgJRFIzUUOQADOKr54J/Y/YOjethdCG8BAWPyBjKAbQKBL5XI94Q5AAPAt3OEIrD/A6YJFuFr1v2BU25D1oBjAAINCDfq76j9gdxXg3XcBQMD0lLFlPhHAsJfzNTGjFkBQR12BYYkWwAC5JiIxhSXAgGPRROI6FEBgd1jPUjwBwACYSfDcdOi/cEybr9RFEcDIMVZ2V1AgwKDwVKtAnBhAwBwtIfaDDMBAoMMkWWAgQKBgxvVBYw9AQBJ2zgnv+r/wkuhLbSQWwABicQxxHg7AcGhL6oqlGMAAXjL9F64kQIBTtyKUXec/0OJe3mamFkDQGZPd5q8ZwADSVjx0W+o/UFOSt8Y+F0CAsXu/Kf77v4D+kZCcVhRA0Hm+Rxf2FcBw81F/fIYbwMCeFP5wYv0/gItdBto+/79gVzHPKUEJQMBRrnf34CPAICUzYXoeDEDolzf7rOUpQAA+cQCszsS/ADoNedBAwT8APhGS0bDrPwjsgy11rSLAoFugcrnXAEBgjunADhkgwEAQaGUXQQHA0KdF1UHMGEDAmgW46H8NwOAhNkav/ANA4FUfP8M8FEAAZXXsIUn2P7Dz4PWIaBvAwIXxFth/+r8geI16C50jQICoW6deOSTAwE4Q3sDL9b9gyIhsO+wFwIADT7n1E+Q/YOr0g3IlDkCYEFBu+SUgQEC6ftkwEvW/gMUxK9JlEECAFY/KyVEEQKDiwKvyVANAgH0vW8QrBsDAIVilSb0TwJCMTZuhxxXAIMb3P47JDcAAhF+KOrv6P2CyLBjZ9g5AwPC9mHX8+j9gz2WFNWAFwJhaNRRaNiJAIHD36lGyHkDANUw7pfz6v+CuufAOHxDAAJMSJ5655z+ATOd0qbgZQIDf/lvDLfw/ACnL/5sRB0AA/KGY3pfuvwB9jSUhHQNAQKpb1x1WH0AA78kZ21XxvwA7gm28t+o/AFbytHNB9j8AU87HWbT4P3CiR7DduBvACAQRUfyAIsDAO4BKctkTwACWH3MlVe8/QIK1HzpMB0CA4b1lLw4EwCBnKFccJRxAAMtVyVb/4b8AkEE8C4zQPwACX9cm5um/AKiwWhOx6j/ABDjd1IQNQACgqZl9/gtAAHfaCTxFEcAgmsnQcC8fQABK3X6pLBXAAEVY79qY4j8AgJgoa+/yv6BeWrswNhTAANSSFyIMx79AWoQrRgoMwAC2uGylJeI/wJpPwp/FAUCgccWp4UYeQIBrdJUBAPw/QLaEWGC3BsCAkffX3c77vwA0mk0/je0/AEBMH6E45j9A8RpcPx0eQECgxNvy1xxAABhPHa3p+L8AGF5HPwQEwPgVAVjNFCnAwLWpYLv4A8BgUT4r9Y0SwAD9riKmTfi/gEusQpW7AUAAbTLbyF7yPwD4SLQXqL0/gEEmnQ5G9D8AYPCLpefWv4Czif5KLvQ/CAa6fEnAL8AAqKZCDgPxvwCIgbYhH9G/AIyvNzyo9r8ABW9cvXjpvwBWU7Cpgg5AQDkrH6aEBcDwA1iVlJ0mQMADvKF5/g1AAPKcNknn0T8AmYORK/7mvwCQIPEKRL2/4D04nNkEEcAAhPMeW0rDvwAte75Bjvs/gC/6BxnXCUAAPDcjzN8JQIBHq0GUj/C/oJZIi0XzGsCAU7QcSv4HwDDX5xNX0iBAwBcuZalVE0AA20r1xaMBQABmNBeakQvAAPDA1Hp02D/A69nO0KQXwAAQFDI8HAPAALUwvmdA678AHkyIdeL2v+DxlvFfqBRAIEzLarbVGsAA3SgLhIIPwCBxzUwO7RnA4MKHiE8qF8CAZ6Tdx07wP8DlMaQiZh7AANUbA4WzEEAABCksJ2PqvwB6o5e4OOg/wFci7ic8AEAAXgzTbAP8v2BxWrP2VxZAAM2PRTVu4b+A9ci2+jQLQACdrhod+OG/ANHLsTxF/j+ACU9q/G39PwAVemY+HPs/QNpubqaxEcBAxUqXKQwFQIBs6vxIPPK/QKDXXFvjDEAQi/w4zJkkwACbIwWicBvAwJn6qmNKAkBQ9bQhEZMjQCCXMV8JmxJAALpHIQt2B8CgPPAQl+gfwCBYaenczBBAAOi0hSJUtj/A3aSHy5MLQAB45ICmLfE/ANursZHD5D/A0k3ENpguQAAKuNyKh94/ANLz/TI+0r8AgLdcyrG3v4BAv7EnMgPAQHf4vLPjFUAA2GMco+XzvwC7Wo7cqg1AgKfxwqZI/z/AKABPy4UaQABUQKD+HgVAwBIS1sIYFsCAtn/aQVgYwADi7SzNXR5AQGrEAR3sA8AA38bwWS8YwABadbtxTQbA4B8rojKMG0CAZp1AlSIawIB2w9LpFw7AwObGzu0TBsDArmM0abYWwIBBY8p7XBXA4FUAZdkFHMCAOA5+THv7v4BmDjxZ7PK/wHMdhuqJBsBgLetUtK0ewMAXI1jmeRtAADGr/3goGMAA4DedI/7/P+BnASk2CxPAgIDSFu+pD0Cgj6Myo5gVQIA6920HHg7AkA6Hrrv7IcDAFWEG+28QQPCoS6ieBiRAQGMoCy26BUAAPBcLPhn3P0DFhrQW+RJA4AVzHpbkEUAA2ebrpvILwECwLVdVIAXAADLmsXa2DUAAMFLVKr2tvyCioXp7/hxAwHS+llvSBsBAxL9TxLMRQECvfmgVHQNAAOBWz607qD+Am3K4FEAaQMCIWqr5WBBAwISf49RWEcDAMdvgOCgPQKDsRxW8SR5AAIBNRaC/qD8AmmsIOUHhv4CW4voSIAXAAGStF/eT5D+gokkWFpUQQACkYW9D9grAwJUk9G0KGMCA6JP4TnXyv8C5WZcWrhjAgF5VhSXJCkCAR+VPdl32vzCMqttjEyDAAE6GmZsB8L8ATAWlIMTLv0Av11pz9gdAAGC7YRj7mj9Q9AI/WzMkQIDxsjxbVf2/AP57eZDo3D8A3MmDRivQPwB1glTfjuS/APv4sgjI9z8AgdlM+N4LQKC8Ov1G7R1A4L36OAc/HMCAOcNcNDf8v4CxkltgJ/e/QK0BXiHwFUAAWT+jfoHvv3AjzM/jWCHAgHBTbCnp8z8A0AHhs4HkPwCv+tV7Yvs/QOfS87+JEcCQkAdqd9QiQADQgJ7DeOm/AHh3AwRbvb/AlS34llsNwEBSWLHHkQ7AoBDjVfsaFcCA/Eth6gLyv4BKigVpjA/A8Ff5sKhCJkBQ7YtvpC4hwIBq1zOqJRPAgLNOag1h8r8AyPdn2OoQQIDUzZgYQfO/oHxuXK/+EECAAXOeFz8QwA==",
          "dtype": "f8"
         },
         "yaxis": "y2"
        },
        {
         "line": {
          "color": "blue",
          "width": 1.5
         },
         "mode": "lines",
         "name": "Detrended",
         "type": "scatter",
         "x": {
          "bdata": "AAABAAIAAwAEAAUABgAHAAgACQAKAAsADAANAA4ADwAQABEAEgATABQAFQAWABcAGAAZABoAGwAcAB0AHgAfACAAIQAiACMAJAAlACYAJwAoACkAKgArACwALQAuAC8AMAAxADIAMwA0ADUANgA3ADgAOQA6ADsAPAA9AD4APwBAAEEAQgBDAEQARQBGAEcASABJAEoASwBMAE0ATgBPAFAAUQBSAFMAVABVAFYAVwBYAFkAWgBbAFwAXQBeAF8AYABhAGIAYwBkAGUAZgBnAGgAaQBqAGsAbABtAG4AbwBwAHEAcgBzAHQAdQB2AHcAeAB5AHoAewB8AH0AfgB/AIAAgQCCAIMAhACFAIYAhwCIAIkAigCLAIwAjQCOAI8AkACRAJIAkwCUAJUAlgCXAJgAmQCaAJsAnACdAJ4AnwCgAKEAogCjAKQApQCmAKcAqACpAKoAqwCsAK0ArgCvALAAsQCyALMAtAC1ALYAtwC4ALkAugC7ALwAvQC+AL8AwADBAMIAwwDEAMUAxgDHAMgAyQDKAMsAzADNAM4AzwDQANEA0gDTANQA1QDWANcA2ADZANoA2wDcAN0A3gDfAOAA4QDiAOMA5ADlAOYA5wDoAOkA6gDrAOwA7QDuAO8A8ADxAPIA8wD0APUA9gD3APgA+QD6APsA/AD9AP4A/wAAAQEBAgEDAQQBBQEGAQcBCAEJAQoBCwEMAQ0BDgEPARABEQESARMBFAEVARYBFwEYARkBGgEbARwBHQEeAR8BIAEhASIBIwEkASUBJgEnASgBKQEqASsBLAEtAS4BLwEwATEBMgEzATQBNQE2ATcBOAE5AToBOwE8AT0BPgE/AUABQQFCAUMBRAFFAUYBRwFIAUkBSgFLAUwBTQFOAU8BUAFRAVIBUwFUAVUBVgFXAVgBWQFaAVsBXAFdAV4BXwFgAWEBYgFjAWQBZQFmAWcBaAFpAWoBawFsAQ==",
          "dtype": "i2"
         },
         "xaxis": "x3",
         "y": {
          "bdata": "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",
          "dtype": "f8"
         },
         "yaxis": "y3"
        },
        {
         "line": {
          "color": "purple",
          "width": 1.5
         },
         "mode": "lines",
         "name": "Differenced",
         "type": "scatter",
         "x": {
          "bdata": "AAABAAIAAwAEAAUABgAHAAgACQAKAAsADAANAA4ADwAQABEAEgATABQAFQAWABcAGAAZABoAGwAcAB0AHgAfACAAIQAiACMAJAAlACYAJwAoACkAKgArACwALQAuAC8AMAAxADIAMwA0ADUANgA3ADgAOQA6ADsAPAA9AD4APwBAAEEAQgBDAEQARQBGAEcASABJAEoASwBMAE0ATgBPAFAAUQBSAFMAVABVAFYAVwBYAFkAWgBbAFwAXQBeAF8AYABhAGIAYwBkAGUAZgBnAGgAaQBqAGsAbABtAG4AbwBwAHEAcgBzAHQAdQB2AHcAeAB5AHoAewB8AH0AfgB/AIAAgQCCAIMAhACFAIYAhwCIAIkAigCLAIwAjQCOAI8AkACRAJIAkwCUAJUAlgCXAJgAmQCaAJsAnACdAJ4AnwCgAKEAogCjAKQApQCmAKcAqACpAKoAqwCsAK0ArgCvALAAsQCyALMAtAC1ALYAtwC4ALkAugC7ALwAvQC+AL8AwADBAMIAwwDEAMUAxgDHAMgAyQDKAMsAzADNAM4AzwDQANEA0gDTANQA1QDWANcA2ADZANoA2wDcAN0A3gDfAOAA4QDiAOMA5ADlAOYA5wDoAOkA6gDrAOwA7QDuAO8A8ADxAPIA8wD0APUA9gD3APgA+QD6APsA/AD9AP4A/wAAAQEBAgEDAQQBBQEGAQcBCAEJAQoBCwEMAQ0BDgEPARABEQESARMBFAEVARYBFwEYARkBGgEbARwBHQEeAR8BIAEhASIBIwEkASUBJgEnASgBKQEqASsBLAEtAS4BLwEwATEBMgEzATQBNQE2ATcBOAE5AToBOwE8AT0BPgE/AUABQQFCAUMBRAFFAUYBRwFIAUkBSgFLAUwBTQFOAU8BUAFRAVIBUwFUAVUBVgFXAVgBWQFaAVsBXAFdAV4BXwFgAWEBYgFjAWQBZQFmAWcBaAFpAWoBawE=",
          "dtype": "i2"
         },
         "xaxis": "x4",
         "y": {
          "bdata": "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",
          "dtype": "f8"
         },
         "yaxis": "y4"
        }
       ],
       "layout": {
        "annotations": [
         {
          "font": {
           "size": 16
          },
          "showarrow": false,
          "text": "Original Series (Non-Stationary)",
          "x": 0.22,
          "xanchor": "center",
          "xref": "paper",
          "y": 1,
          "yanchor": "bottom",
          "yref": "paper"
         },
         {
          "font": {
           "size": 16
          },
          "showarrow": false,
          "text": "Linear Detrending",
          "x": 0.78,
          "xanchor": "center",
          "xref": "paper",
          "y": 1,
          "yanchor": "bottom",
          "yref": "paper"
         },
         {
          "font": {
           "size": 16
          },
          "showarrow": false,
          "text": "Polynomial Detrending",
          "x": 0.22,
          "xanchor": "center",
          "xref": "paper",
          "y": 0.425,
          "yanchor": "bottom",
          "yref": "paper"
         },
         {
          "font": {
           "size": 16
          },
          "showarrow": false,
          "text": "First Differencing",
          "x": 0.78,
          "xanchor": "center",
          "xref": "paper",
          "y": 0.425,
          "yanchor": "bottom",
          "yref": "paper"
         }
        ],
        "height": 700,
        "shapes": [
         {
          "line": {
           "color": "black",
           "dash": "dash"
          },
          "type": "line",
          "x0": 0,
          "x1": 1,
          "xref": "x2 domain",
          "y0": 0,
          "y1": 0,
          "yref": "y2"
         },
         {
          "line": {
           "color": "black",
           "dash": "dash"
          },
          "type": "line",
          "x0": 0,
          "x1": 1,
          "xref": "x3 domain",
          "y0": 0,
          "y1": 0,
          "yref": "y3"
         },
         {
          "line": {
           "color": "black",
           "dash": "dash"
          },
          "type": "line",
          "x0": 0,
          "x1": 1,
          "xref": "x4 domain",
          "y0": 0,
          "y1": 0,
          "yref": "y4"
         }
        ],
        "showlegend": false,
        "template": {
         "data": {
          "bar": [
           {
            "error_x": {
             "color": "#2a3f5f"
            },
            "error_y": {
             "color": "#2a3f5f"
            },
            "marker": {
             "line": {
              "color": "white",
              "width": 0.5
             },
             "pattern": {
              "fillmode": "overlay",
              "size": 10,
              "solidity": 0.2
             }
            },
            "type": "bar"
           }
          ],
          "barpolar": [
           {
            "marker": {
             "line": {
              "color": "white",
              "width": 0.5
             },
             "pattern": {
              "fillmode": "overlay",
              "size": 10,
              "solidity": 0.2
             }
            },
            "type": "barpolar"
           }
          ],
          "carpet": [
           {
            "aaxis": {
             "endlinecolor": "#2a3f5f",
             "gridcolor": "#C8D4E3",
             "linecolor": "#C8D4E3",
             "minorgridcolor": "#C8D4E3",
             "startlinecolor": "#2a3f5f"
            },
            "baxis": {
             "endlinecolor": "#2a3f5f",
             "gridcolor": "#C8D4E3",
             "linecolor": "#C8D4E3",
             "minorgridcolor": "#C8D4E3",
             "startlinecolor": "#2a3f5f"
            },
            "type": "carpet"
           }
          ],
          "choropleth": [
           {
            "colorbar": {
             "outlinewidth": 0,
             "ticks": ""
            },
            "type": "choropleth"
           }
          ],
          "contour": [
           {
            "colorbar": {
             "outlinewidth": 0,
             "ticks": ""
            },
            "colorscale": [
             [
              0,
              "#0d0887"
             ],
             [
              0.1111111111111111,
              "#46039f"
             ],
             [
              0.2222222222222222,
              "#7201a8"
             ],
             [
              0.3333333333333333,
              "#9c179e"
             ],
             [
              0.4444444444444444,
              "#bd3786"
             ],
             [
              0.5555555555555556,
              "#d8576b"
             ],
             [
              0.6666666666666666,
              "#ed7953"
             ],
             [
              0.7777777777777778,
              "#fb9f3a"
             ],
             [
              0.8888888888888888,
              "#fdca26"
             ],
             [
              1,
              "#f0f921"
             ]
            ],
            "type": "contour"
           }
          ],
          "contourcarpet": [
           {
            "colorbar": {
             "outlinewidth": 0,
             "ticks": ""
            },
            "type": "contourcarpet"
           }
          ],
          "heatmap": [
           {
            "colorbar": {
             "outlinewidth": 0,
             "ticks": ""
            },
            "colorscale": [
             [
              0,
              "#0d0887"
             ],
             [
              0.1111111111111111,
              "#46039f"
             ],
             [
              0.2222222222222222,
              "#7201a8"
             ],
             [
              0.3333333333333333,
              "#9c179e"
             ],
             [
              0.4444444444444444,
              "#bd3786"
             ],
             [
              0.5555555555555556,
              "#d8576b"
             ],
             [
              0.6666666666666666,
              "#ed7953"
             ],
             [
              0.7777777777777778,
              "#fb9f3a"
             ],
             [
              0.8888888888888888,
              "#fdca26"
             ],
             [
              1,
              "#f0f921"
             ]
            ],
            "type": "heatmap"
           }
          ],
          "histogram": [
           {
            "marker": {
             "pattern": {
              "fillmode": "overlay",
              "size": 10,
              "solidity": 0.2
             }
            },
            "type": "histogram"
           }
          ],
          "histogram2d": [
           {
            "colorbar": {
             "outlinewidth": 0,
             "ticks": ""
            },
            "colorscale": [
             [
              0,
              "#0d0887"
             ],
             [
              0.1111111111111111,
              "#46039f"
             ],
             [
              0.2222222222222222,
              "#7201a8"
             ],
             [
              0.3333333333333333,
              "#9c179e"
             ],
             [
              0.4444444444444444,
              "#bd3786"
             ],
             [
              0.5555555555555556,
              "#d8576b"
             ],
             [
              0.6666666666666666,
              "#ed7953"
             ],
             [
              0.7777777777777778,
              "#fb9f3a"
             ],
             [
              0.8888888888888888,
              "#fdca26"
             ],
             [
              1,
              "#f0f921"
             ]
            ],
            "type": "histogram2d"
           }
          ],
          "histogram2dcontour": [
           {
            "colorbar": {
             "outlinewidth": 0,
             "ticks": ""
            },
            "colorscale": [
             [
              0,
              "#0d0887"
             ],
             [
              0.1111111111111111,
              "#46039f"
             ],
             [
              0.2222222222222222,
              "#7201a8"
             ],
             [
              0.3333333333333333,
              "#9c179e"
             ],
             [
              0.4444444444444444,
              "#bd3786"
             ],
             [
              0.5555555555555556,
              "#d8576b"
             ],
             [
              0.6666666666666666,
              "#ed7953"
             ],
             [
              0.7777777777777778,
              "#fb9f3a"
             ],
             [
              0.8888888888888888,
              "#fdca26"
             ],
             [
              1,
              "#f0f921"
             ]
            ],
            "type": "histogram2dcontour"
           }
          ],
          "mesh3d": [
           {
            "colorbar": {
             "outlinewidth": 0,
             "ticks": ""
            },
            "type": "mesh3d"
           }
          ],
          "parcoords": [
           {
            "line": {
             "colorbar": {
              "outlinewidth": 0,
              "ticks": ""
             }
            },
            "type": "parcoords"
           }
          ],
          "pie": [
           {
            "automargin": true,
            "type": "pie"
           }
          ],
          "scatter": [
           {
            "fillpattern": {
             "fillmode": "overlay",
             "size": 10,
             "solidity": 0.2
            },
            "type": "scatter"
           }
          ],
          "scatter3d": [
           {
            "line": {
             "colorbar": {
              "outlinewidth": 0,
              "ticks": ""
             }
            },
            "marker": {
             "colorbar": {
              "outlinewidth": 0,
              "ticks": ""
             }
            },
            "type": "scatter3d"
           }
          ],
          "scattercarpet": [
           {
            "marker": {
             "colorbar": {
              "outlinewidth": 0,
              "ticks": ""
             }
            },
            "type": "scattercarpet"
           }
          ],
          "scattergeo": [
           {
            "marker": {
             "colorbar": {
              "outlinewidth": 0,
              "ticks": ""
             }
            },
            "type": "scattergeo"
           }
          ],
          "scattergl": [
           {
            "marker": {
             "colorbar": {
              "outlinewidth": 0,
              "ticks": ""
             }
            },
            "type": "scattergl"
           }
          ],
          "scattermap": [
           {
            "marker": {
             "colorbar": {
              "outlinewidth": 0,
              "ticks": ""
             }
            },
            "type": "scattermap"
           }
          ],
          "scattermapbox": [
           {
            "marker": {
             "colorbar": {
              "outlinewidth": 0,
              "ticks": ""
             }
            },
            "type": "scattermapbox"
           }
          ],
          "scatterpolar": [
           {
            "marker": {
             "colorbar": {
              "outlinewidth": 0,
              "ticks": ""
             }
            },
            "type": "scatterpolar"
           }
          ],
          "scatterpolargl": [
           {
            "marker": {
             "colorbar": {
              "outlinewidth": 0,
              "ticks": ""
             }
            },
            "type": "scatterpolargl"
           }
          ],
          "scatterternary": [
           {
            "marker": {
             "colorbar": {
              "outlinewidth": 0,
              "ticks": ""
             }
            },
            "type": "scatterternary"
           }
          ],
          "surface": [
           {
            "colorbar": {
             "outlinewidth": 0,
             "ticks": ""
            },
            "colorscale": [
             [
              0,
              "#0d0887"
             ],
             [
              0.1111111111111111,
              "#46039f"
             ],
             [
              0.2222222222222222,
              "#7201a8"
             ],
             [
              0.3333333333333333,
              "#9c179e"
             ],
             [
              0.4444444444444444,
              "#bd3786"
             ],
             [
              0.5555555555555556,
              "#d8576b"
             ],
             [
              0.6666666666666666,
              "#ed7953"
             ],
             [
              0.7777777777777778,
              "#fb9f3a"
             ],
             [
              0.8888888888888888,
              "#fdca26"
             ],
             [
              1,
              "#f0f921"
             ]
            ],
            "type": "surface"
           }
          ],
          "table": [
           {
            "cells": {
             "fill": {
              "color": "#EBF0F8"
             },
             "line": {
              "color": "white"
             }
            },
            "header": {
             "fill": {
              "color": "#C8D4E3"
             },
             "line": {
              "color": "white"
             }
            },
            "type": "table"
           }
          ]
         },
         "layout": {
          "annotationdefaults": {
           "arrowcolor": "#2a3f5f",
           "arrowhead": 0,
           "arrowwidth": 1
          },
          "autotypenumbers": "strict",
          "coloraxis": {
           "colorbar": {
            "outlinewidth": 0,
            "ticks": ""
           }
          },
          "colorscale": {
           "diverging": [
            [
             0,
             "#8e0152"
            ],
            [
             0.1,
             "#c51b7d"
            ],
            [
             0.2,
             "#de77ae"
            ],
            [
             0.3,
             "#f1b6da"
            ],
            [
             0.4,
             "#fde0ef"
            ],
            [
             0.5,
             "#f7f7f7"
            ],
            [
             0.6,
             "#e6f5d0"
            ],
            [
             0.7,
             "#b8e186"
            ],
            [
             0.8,
             "#7fbc41"
            ],
            [
             0.9,
             "#4d9221"
            ],
            [
             1,
             "#276419"
            ]
           ],
           "sequential": [
            [
             0,
             "#0d0887"
            ],
            [
             0.1111111111111111,
             "#46039f"
            ],
            [
             0.2222222222222222,
             "#7201a8"
            ],
            [
             0.3333333333333333,
             "#9c179e"
            ],
            [
             0.4444444444444444,
             "#bd3786"
            ],
            [
             0.5555555555555556,
             "#d8576b"
            ],
            [
             0.6666666666666666,
             "#ed7953"
            ],
            [
             0.7777777777777778,
             "#fb9f3a"
            ],
            [
             0.8888888888888888,
             "#fdca26"
            ],
            [
             1,
             "#f0f921"
            ]
           ],
           "sequentialminus": [
            [
             0,
             "#0d0887"
            ],
            [
             0.1111111111111111,
             "#46039f"
            ],
            [
             0.2222222222222222,
             "#7201a8"
            ],
            [
             0.3333333333333333,
             "#9c179e"
            ],
            [
             0.4444444444444444,
             "#bd3786"
            ],
            [
             0.5555555555555556,
             "#d8576b"
            ],
            [
             0.6666666666666666,
             "#ed7953"
            ],
            [
             0.7777777777777778,
             "#fb9f3a"
            ],
            [
             0.8888888888888888,
             "#fdca26"
            ],
            [
             1,
             "#f0f921"
            ]
           ]
          },
          "colorway": [
           "#636efa",
           "#EF553B",
           "#00cc96",
           "#ab63fa",
           "#FFA15A",
           "#19d3f3",
           "#FF6692",
           "#B6E880",
           "#FF97FF",
           "#FECB52"
          ],
          "font": {
           "color": "#2a3f5f"
          },
          "geo": {
           "bgcolor": "white",
           "lakecolor": "white",
           "landcolor": "white",
           "showlakes": true,
           "showland": true,
           "subunitcolor": "#C8D4E3"
          },
          "hoverlabel": {
           "align": "left"
          },
          "hovermode": "closest",
          "mapbox": {
           "style": "light"
          },
          "paper_bgcolor": "white",
          "plot_bgcolor": "white",
          "polar": {
           "angularaxis": {
            "gridcolor": "#EBF0F8",
            "linecolor": "#EBF0F8",
            "ticks": ""
           },
           "bgcolor": "white",
           "radialaxis": {
            "gridcolor": "#EBF0F8",
            "linecolor": "#EBF0F8",
            "ticks": ""
           }
          },
          "scene": {
           "xaxis": {
            "backgroundcolor": "white",
            "gridcolor": "#DFE8F3",
            "gridwidth": 2,
            "linecolor": "#EBF0F8",
            "showbackground": true,
            "ticks": "",
            "zerolinecolor": "#EBF0F8"
           },
           "yaxis": {
            "backgroundcolor": "white",
            "gridcolor": "#DFE8F3",
            "gridwidth": 2,
            "linecolor": "#EBF0F8",
            "showbackground": true,
            "ticks": "",
            "zerolinecolor": "#EBF0F8"
           },
           "zaxis": {
            "backgroundcolor": "white",
            "gridcolor": "#DFE8F3",
            "gridwidth": 2,
            "linecolor": "#EBF0F8",
            "showbackground": true,
            "ticks": "",
            "zerolinecolor": "#EBF0F8"
           }
          },
          "shapedefaults": {
           "line": {
            "color": "#2a3f5f"
           }
          },
          "ternary": {
           "aaxis": {
            "gridcolor": "#DFE8F3",
            "linecolor": "#A2B1C6",
            "ticks": ""
           },
           "baxis": {
            "gridcolor": "#DFE8F3",
            "linecolor": "#A2B1C6",
            "ticks": ""
           },
           "bgcolor": "white",
           "caxis": {
            "gridcolor": "#DFE8F3",
            "linecolor": "#A2B1C6",
            "ticks": ""
           }
          },
          "title": {
           "x": 0.05
          },
          "xaxis": {
           "automargin": true,
           "gridcolor": "#EBF0F8",
           "linecolor": "#EBF0F8",
           "ticks": "",
           "title": {
            "standoff": 15
           },
           "zerolinecolor": "#EBF0F8",
           "zerolinewidth": 2
          },
          "yaxis": {
           "automargin": true,
           "gridcolor": "#EBF0F8",
           "linecolor": "#EBF0F8",
           "ticks": "",
           "title": {
            "standoff": 15
           },
           "zerolinecolor": "#EBF0F8",
           "zerolinewidth": 2
          }
         }
        },
        "title": {
         "text": "🔧 Detrending Methods Comparison"
        },
        "xaxis": {
         "anchor": "y",
         "domain": [
          0,
          0.44
         ],
         "title": {
          "text": "Time"
         }
        },
        "xaxis2": {
         "anchor": "y2",
         "domain": [
          0.56,
          1
         ],
         "title": {
          "text": "Time"
         }
        },
        "xaxis3": {
         "anchor": "y3",
         "domain": [
          0,
          0.44
         ],
         "title": {
          "text": "Time"
         }
        },
        "xaxis4": {
         "anchor": "y4",
         "domain": [
          0.56,
          1
         ],
         "title": {
          "text": "Time"
         }
        },
        "yaxis": {
         "anchor": "x",
         "domain": [
          0.575,
          1
         ],
         "title": {
          "text": "Value"
         }
        },
        "yaxis2": {
         "anchor": "x2",
         "domain": [
          0.575,
          1
         ],
         "title": {
          "text": "Value"
         }
        },
        "yaxis3": {
         "anchor": "x3",
         "domain": [
          0,
          0.425
         ],
         "title": {
          "text": "Value"
         }
        },
        "yaxis4": {
         "anchor": "x4",
         "domain": [
          0,
          0.425
         ],
         "title": {
          "text": "Value"
         }
        }
       }
      }
     },
     "metadata": {},
     "output_type": "display_data"
    },
    {
     "name": "stdout",
     "output_type": "stream",
     "text": [
      "🧪 ADF Test Results:\n",
      "\n",
      "============================================================\n",
      "ADF Test Results for: Original (with trend)\n",
      "============================================================\n",
      "ADF Statistic: -0.182031\n",
      "p-value: 0.940630\n",
      "Critical Values:\n",
      "   1%: -3.449\n",
      "   5%: -2.870\n",
      "   10%: -2.571\n",
      "\n",
      "❌ Result: NON-STATIONARY (p-value = 0.940630 ≥ 0.05)\n",
      "   → Need to transform the data (detrend/deseasonalize/difference)\n",
      "\n",
      "============================================================\n",
      "ADF Test Results for: Linear Detrending\n",
      "============================================================\n",
      "ADF Statistic: -18.737146\n",
      "p-value: 0.000000\n",
      "Critical Values:\n",
      "   1%: -3.448\n",
      "   5%: -2.870\n",
      "   10%: -2.571\n",
      "\n",
      "✅ Result: STATIONARY (p-value = 0.000000 < 0.05)\n",
      "   → Can proceed with modeling!\n",
      "\n",
      "============================================================\n",
      "ADF Test Results for: Polynomial Detrending\n",
      "============================================================\n",
      "ADF Statistic: -18.740825\n",
      "p-value: 0.000000\n",
      "Critical Values:\n",
      "   1%: -3.448\n",
      "   5%: -2.870\n",
      "   10%: -2.571\n",
      "\n",
      "✅ Result: STATIONARY (p-value = 0.000000 < 0.05)\n",
      "   → Can proceed with modeling!\n",
      "\n",
      "============================================================\n",
      "ADF Test Results for: First Differencing\n",
      "============================================================\n",
      "ADF Statistic: -7.001748\n",
      "p-value: 0.000000\n",
      "Critical Values:\n",
      "   1%: -3.449\n",
      "   5%: -2.870\n",
      "   10%: -2.571\n",
      "\n",
      "✅ Result: STATIONARY (p-value = 0.000000 < 0.05)\n",
      "   → Can proceed with modeling!\n"
     ]
    },
    {
     "data": {
      "text/plain": [
       "(np.float64(-7.0017479871831325),\n",
       " np.float64(7.291836072792837e-10),\n",
       " 16,\n",
       " 347,\n",
       " {'1%': np.float64(-3.449336554273722),\n",
       "  '5%': np.float64(-2.8699055166063085),\n",
       "  '10%': np.float64(-2.571226758215748)},\n",
       " np.float64(2126.6770541389287))"
      ]
     },
     "execution_count": 10,
     "metadata": {},
     "output_type": "execute_result"
    }
   ],
   "source": [
    "# ====================\n",
    "# 1. DETRENDING\n",
    "# ====================\n",
    "\n",
    "from scipy import signal\n",
    "\n",
    "# Create a series with a strong trend\n",
    "np.random.seed(123)\n",
    "n = 365\n",
    "time = np.arange(n)\n",
    "\n",
    "# Original: Trend + Noise\n",
    "trend = 0.2 * time  # Linear trend\n",
    "noise = np.random.normal(0, 5, n)\n",
    "series_with_trend = 100 + trend + noise\n",
    "\n",
    "# METHOD 1: Linear Detrending (using scipy)\n",
    "detrended_linear = signal.detrend(series_with_trend, type='linear')\n",
    "\n",
    "# METHOD 2: Polynomial Detrending (fit and subtract polynomial)\n",
    "poly_coeffs = np.polyfit(time, series_with_trend, deg=2)  # 2nd degree polynomial\n",
    "poly_trend = np.polyval(poly_coeffs, time)\n",
    "detrended_poly = series_with_trend - poly_trend\n",
    "\n",
    "# METHOD 3: Differencing (simple and common)\n",
    "differenced = np.diff(series_with_trend)\n",
    "\n",
    "# Create 4-panel visualization\n",
    "fig = make_subplots(\n",
    "    rows=2, cols=2,\n",
    "    subplot_titles=('Original Series (Non-Stationary)', \n",
    "                   'Linear Detrending',\n",
    "                   'Polynomial Detrending',\n",
    "                   'First Differencing'),\n",
    "    vertical_spacing=0.15,\n",
    "    horizontal_spacing=0.12\n",
    ")\n",
    "\n",
    "# Original\n",
    "fig.add_trace(\n",
    "    go.Scatter(x=time, y=series_with_trend, mode='lines',\n",
    "               line=dict(color='red', width=1.5), name='Original'),\n",
    "    row=1, col=1\n",
    ")\n",
    "fig.add_trace(\n",
    "    go.Scatter(x=time, y=trend + 100, mode='lines',\n",
    "               line=dict(color='darkred', width=2, dash='dash'), name='Trend',\n",
    "               showlegend=False),\n",
    "    row=1, col=1\n",
    ")\n",
    "\n",
    "# Linear Detrending\n",
    "fig.add_trace(\n",
    "    go.Scatter(x=time, y=detrended_linear, mode='lines',\n",
    "               line=dict(color='green', width=1.5), name='Detrended'),\n",
    "    row=1, col=2\n",
    ")\n",
    "fig.add_hline(y=0, line_dash=\"dash\", line_color=\"black\", row=1, col=2)\n",
    "\n",
    "# Polynomial Detrending\n",
    "fig.add_trace(\n",
    "    go.Scatter(x=time, y=detrended_poly, mode='lines',\n",
    "               line=dict(color='blue', width=1.5), name='Detrended'),\n",
    "    row=2, col=1\n",
    ")\n",
    "fig.add_hline(y=0, line_dash=\"dash\", line_color=\"black\", row=2, col=1)\n",
    "\n",
    "# Differencing\n",
    "fig.add_trace(\n",
    "    go.Scatter(x=time[:-1], y=differenced, mode='lines',\n",
    "               line=dict(color='purple', width=1.5), name='Differenced'),\n",
    "    row=2, col=2\n",
    ")\n",
    "fig.add_hline(y=0, line_dash=\"dash\", line_color=\"black\", row=2, col=2)\n",
    "\n",
    "# Update axes\n",
    "for i in range(1, 3):\n",
    "    for j in range(1, 3):\n",
    "        fig.update_xaxes(title_text=\"Time\", row=i, col=j)\n",
    "        fig.update_yaxes(title_text=\"Value\", row=i, col=j)\n",
    "\n",
    "fig.update_layout(\n",
    "    title_text='🔧 Detrending Methods Comparison',\n",
    "    height=700,\n",
    "    showlegend=False,\n",
    "    template='plotly_white'\n",
    ")\n",
    "\n",
    "fig.show()\n",
    "\n",
    "# Test stationarity on each\n",
    "print(\"🧪 ADF Test Results:\")\n",
    "adf_test(series_with_trend, 'Original (with trend)')\n",
    "adf_test(detrended_linear, 'Linear Detrending')\n",
    "adf_test(detrended_poly, 'Polynomial Detrending')\n",
    "adf_test(differenced, 'First Differencing')\n"
   ]
  },
  {
   "cell_type": "code",
   "execution_count": 11,
   "id": "5eb4e6cd",
   "metadata": {},
   "outputs": [
    {
     "data": {
      "application/vnd.plotly.v1+json": {
       "config": {
        "plotlyServerURL": "https://plot.ly"
       },
       "data": [
        {
         "line": {
          "color": "red",
          "width": 1
         },
         "mode": "lines",
         "name": "Original",
         "type": "scatter",
         "x": {
          "bdata": "AAABAAIAAwAEAAUABgAHAAgACQAKAAsADAANAA4ADwAQABEAEgATABQAFQAWABcAGAAZABoAGwAcAB0AHgAfACAAIQAiACMAJAAlACYAJwAoACkAKgArACwALQAuAC8AMAAxADIAMwA0ADUANgA3ADgAOQA6ADsAPAA9AD4APwBAAEEAQgBDAEQARQBGAEcASABJAEoASwBMAE0ATgBPAFAAUQBSAFMAVABVAFYAVwBYAFkAWgBbAFwAXQBeAF8AYABhAGIAYwBkAGUAZgBnAGgAaQBqAGsAbABtAG4AbwBwAHEAcgBzAHQAdQB2AHcAeAB5AHoAewB8AH0AfgB/AIAAgQCCAIMAhACFAIYAhwCIAIkAigCLAIwAjQCOAI8AkACRAJIAkwCUAJUAlgCXAJgAmQCaAJsAnACdAJ4AnwCgAKEAogCjAKQApQCmAKcAqACpAKoAqwCsAK0ArgCvALAAsQCyALMAtAC1ALYAtwC4ALkAugC7ALwAvQC+AL8AwADBAMIAwwDEAMUAxgDHAMgAyQDKAMsAzADNAM4AzwDQANEA0gDTANQA1QDWANcA2ADZANoA2wDcAN0A3gDfAOAA4QDiAOMA5ADlAOYA5wDoAOkA6gDrAOwA7QDuAO8A8ADxAPIA8wD0APUA9gD3APgA+QD6APsA/AD9AP4A/wAAAQEBAgEDAQQBBQEGAQcBCAEJAQoBCwEMAQ0BDgEPARABEQESARMBFAEVARYBFwEYARkBGgEbARwBHQEeAR8BIAEhASIBIwEkASUBJgEnASgBKQEqASsBLAEtAS4BLwEwATEBMgEzATQBNQE2ATcBOAE5AToBOwE8AT0BPgE/AUABQQFCAUMBRAFFAUYBRwFIAUkBSgFLAUwBTQFOAU8BUAFRAVIBUwFUAVUBVgFXAVgBWQFaAVsBXAFdAV4BXwFgAWEBYgFjAWQBZQFmAWcBaAFpAWoBawFsAW0BbgFvAXABcQFyAXMBdAF1AXYBdwF4AXkBegF7AXwBfQF+AX8BgAGBAYIBgwGEAYUBhgGHAYgBiQGKAYsBjAGNAY4BjwGQAZEBkgGTAZQBlQGWAZcBmAGZAZoBmwGcAZ0BngGfAaABoQGiAaMBpAGlAaYBpwGoAakBqgGrAawBrQGuAa8BsAGxAbIBswG0AbUBtgG3AbgBuQG6AbsBvAG9Ab4BvwHAAcEBwgHDAcQBxQHGAccByAHJAcoBywHMAc0BzgHPAdAB0QHSAdMB1AHVAdYB1wHYAdkB2gHbAdwB3QHeAd8B4AHhAeIB4wHkAeUB5gHnAegB6QHqAesB7AHtAe4B7wHwAfEB8gHzAfQB9QH2AfcB+AH5AfoB+wH8Af0B/gH/AQACAQICAgMCBAIFAgYCBwIIAgkCCgILAgwCDQIOAg8CEAIRAhICEwIUAhUCFgIXAhgCGQIaAhsCHAIdAh4CHwIgAiECIgIjAiQCJQImAicCKAIpAioCKwIsAi0CLgIvAjACMQIyAjMCNAI1AjYCNwI4AjkCOgI7AjwCPQI+Aj8CQAJBAkICQwJEAkUCRgJHAkgCSQJKAksCTAJNAk4CTwJQAlECUgJTAlQCVQJWAlcCWAJZAloCWwJcAl0CXgJfAmACYQJiAmMCZAJlAmYCZwJoAmkCagJrAmwCbQJuAm8CcAJxAnICcwJ0AnUCdgJ3AngCeQJ6AnsCfAJ9An4CfwKAAoECggKDAoQChQKGAocCiAKJAooCiwKMAo0CjgKPApACkQKSApMClAKVApYClwKYApkCmgKbApwCnQKeAp8CoAKhAqICowKkAqUCpgKnAqgCqQKqAqsCrAKtAq4CrwKwArECsgKzArQCtQK2ArcCuAK5AroCuwK8Ar0CvgK/AsACwQLCAsMCxALFAsYCxwLIAskCygLLAswCzQLOAs8C0ALRAtIC0wLUAtUC1gLXAtgC2QI=",
          "dtype": "i2"
         },
         "xaxis": "x",
         "y": {
          "bdata": "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",
          "dtype": "f8"
         },
         "yaxis": "y"
        },
        {
         "line": {
          "color": "green",
          "width": 1
         },
         "mode": "lines",
         "name": "Deseasonalized",
         "type": "scatter",
         "x": {
          "bdata": "AAABAAIAAwAEAAUABgAHAAgACQAKAAsADAANAA4ADwAQABEAEgATABQAFQAWABcAGAAZABoAGwAcAB0AHgAfACAAIQAiACMAJAAlACYAJwAoACkAKgArACwALQAuAC8AMAAxADIAMwA0ADUANgA3ADgAOQA6ADsAPAA9AD4APwBAAEEAQgBDAEQARQBGAEcASABJAEoASwBMAE0ATgBPAFAAUQBSAFMAVABVAFYAVwBYAFkAWgBbAFwAXQBeAF8AYABhAGIAYwBkAGUAZgBnAGgAaQBqAGsAbABtAG4AbwBwAHEAcgBzAHQAdQB2AHcAeAB5AHoAewB8AH0AfgB/AIAAgQCCAIMAhACFAIYAhwCIAIkAigCLAIwAjQCOAI8AkACRAJIAkwCUAJUAlgCXAJgAmQCaAJsAnACdAJ4AnwCgAKEAogCjAKQApQCmAKcAqACpAKoAqwCsAK0ArgCvALAAsQCyALMAtAC1ALYAtwC4ALkAugC7ALwAvQC+AL8AwADBAMIAwwDEAMUAxgDHAMgAyQDKAMsAzADNAM4AzwDQANEA0gDTANQA1QDWANcA2ADZANoA2wDcAN0A3gDfAOAA4QDiAOMA5ADlAOYA5wDoAOkA6gDrAOwA7QDuAO8A8ADxAPIA8wD0APUA9gD3APgA+QD6APsA/AD9AP4A/wAAAQEBAgEDAQQBBQEGAQcBCAEJAQoBCwEMAQ0BDgEPARABEQESARMBFAEVARYBFwEYARkBGgEbARwBHQEeAR8BIAEhASIBIwEkASUBJgEnASgBKQEqASsBLAEtAS4BLwEwATEBMgEzATQBNQE2ATcBOAE5AToBOwE8AT0BPgE/AUABQQFCAUMBRAFFAUYBRwFIAUkBSgFLAUwBTQFOAU8BUAFRAVIBUwFUAVUBVgFXAVgBWQFaAVsBXAFdAV4BXwFgAWEBYgFjAWQBZQFmAWcBaAFpAWoBawFsAW0BbgFvAXABcQFyAXMBdAF1AXYBdwF4AXkBegF7AXwBfQF+AX8BgAGBAYIBgwGEAYUBhgGHAYgBiQGKAYsBjAGNAY4BjwGQAZEBkgGTAZQBlQGWAZcBmAGZAZoBmwGcAZ0BngGfAaABoQGiAaMBpAGlAaYBpwGoAakBqgGrAawBrQGuAa8BsAGxAbIBswG0AbUBtgG3AbgBuQG6AbsBvAG9Ab4BvwHAAcEBwgHDAcQBxQHGAccByAHJAcoBywHMAc0BzgHPAdAB0QHSAdMB1AHVAdYB1wHYAdkB2gHbAdwB3QHeAd8B4AHhAeIB4wHkAeUB5gHnAegB6QHqAesB7AHtAe4B7wHwAfEB8gHzAfQB9QH2AfcB+AH5AfoB+wH8Af0B/gH/AQACAQICAgMCBAIFAgYCBwIIAgkCCgILAgwCDQIOAg8CEAIRAhICEwIUAhUCFgIXAhgCGQIaAhsCHAIdAh4CHwIgAiECIgIjAiQCJQImAicCKAIpAioCKwIsAi0CLgIvAjACMQIyAjMCNAI1AjYCNwI4AjkCOgI7AjwCPQI+Aj8CQAJBAkICQwJEAkUCRgJHAkgCSQJKAksCTAJNAk4CTwJQAlECUgJTAlQCVQJWAlcCWAJZAloCWwJcAl0CXgJfAmACYQJiAmMCZAJlAmYCZwJoAmkCagJrAmwCbQJuAm8CcAJxAnICcwJ0AnUCdgJ3AngCeQJ6AnsCfAJ9An4CfwKAAoECggKDAoQChQKGAocCiAKJAooCiwKMAo0CjgKPApACkQKSApMClAKVApYClwKYApkCmgKbApwCnQKeAp8CoAKhAqICowKkAqUCpgKnAqgCqQKqAqsCrAKtAq4CrwKwArECsgKzArQCtQK2ArcCuAK5AroCuwK8Ar0CvgK/AsACwQLCAsMCxALFAsYCxwLIAskCygLLAswCzQLOAs8C0ALRAtIC0wLUAtUC1gLXAtgC2QI=",
          "dtype": "i2"
         },
         "xaxis": "x2",
         "y": {
          "bdata": "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",
          "dtype": "f8"
         },
         "yaxis": "y2"
        },
        {
         "line": {
          "color": "blue",
          "width": 2
         },
         "mode": "lines",
         "name": "Trend",
         "type": "scatter",
         "x": {
          "bdata": "AAABAAIAAwAEAAUABgAHAAgACQAKAAsADAANAA4ADwAQABEAEgATABQAFQAWABcAGAAZABoAGwAcAB0AHgAfACAAIQAiACMAJAAlACYAJwAoACkAKgArACwALQAuAC8AMAAxADIAMwA0ADUANgA3ADgAOQA6ADsAPAA9AD4APwBAAEEAQgBDAEQARQBGAEcASABJAEoASwBMAE0ATgBPAFAAUQBSAFMAVABVAFYAVwBYAFkAWgBbAFwAXQBeAF8AYABhAGIAYwBkAGUAZgBnAGgAaQBqAGsAbABtAG4AbwBwAHEAcgBzAHQAdQB2AHcAeAB5AHoAewB8AH0AfgB/AIAAgQCCAIMAhACFAIYAhwCIAIkAigCLAIwAjQCOAI8AkACRAJIAkwCUAJUAlgCXAJgAmQCaAJsAnACdAJ4AnwCgAKEAogCjAKQApQCmAKcAqACpAKoAqwCsAK0ArgCvALAAsQCyALMAtAC1ALYAtwC4ALkAugC7ALwAvQC+AL8AwADBAMIAwwDEAMUAxgDHAMgAyQDKAMsAzADNAM4AzwDQANEA0gDTANQA1QDWANcA2ADZANoA2wDcAN0A3gDfAOAA4QDiAOMA5ADlAOYA5wDoAOkA6gDrAOwA7QDuAO8A8ADxAPIA8wD0APUA9gD3APgA+QD6APsA/AD9AP4A/wAAAQEBAgEDAQQBBQEGAQcBCAEJAQoBCwEMAQ0BDgEPARABEQESARMBFAEVARYBFwEYARkBGgEbARwBHQEeAR8BIAEhASIBIwEkASUBJgEnASgBKQEqASsBLAEtAS4BLwEwATEBMgEzATQBNQE2ATcBOAE5AToBOwE8AT0BPgE/AUABQQFCAUMBRAFFAUYBRwFIAUkBSgFLAUwBTQFOAU8BUAFRAVIBUwFUAVUBVgFXAVgBWQFaAVsBXAFdAV4BXwFgAWEBYgFjAWQBZQFmAWcBaAFpAWoBawFsAW0BbgFvAXABcQFyAXMBdAF1AXYBdwF4AXkBegF7AXwBfQF+AX8BgAGBAYIBgwGEAYUBhgGHAYgBiQGKAYsBjAGNAY4BjwGQAZEBkgGTAZQBlQGWAZcBmAGZAZoBmwGcAZ0BngGfAaABoQGiAaMBpAGlAaYBpwGoAakBqgGrAawBrQGuAa8BsAGxAbIBswG0AbUBtgG3AbgBuQG6AbsBvAG9Ab4BvwHAAcEBwgHDAcQBxQHGAccByAHJAcoBywHMAc0BzgHPAdAB0QHSAdMB1AHVAdYB1wHYAdkB2gHbAdwB3QHeAd8B4AHhAeIB4wHkAeUB5gHnAegB6QHqAesB7AHtAe4B7wHwAfEB8gHzAfQB9QH2AfcB+AH5AfoB+wH8Af0B/gH/AQACAQICAgMCBAIFAgYCBwIIAgkCCgILAgwCDQIOAg8CEAIRAhICEwIUAhUCFgIXAhgCGQIaAhsCHAIdAh4CHwIgAiECIgIjAiQCJQImAicCKAIpAioCKwIsAi0CLgIvAjACMQIyAjMCNAI1AjYCNwI4AjkCOgI7AjwCPQI+Aj8CQAJBAkICQwJEAkUCRgJHAkgCSQJKAksCTAJNAk4CTwJQAlECUgJTAlQCVQJWAlcCWAJZAloCWwJcAl0CXgJfAmACYQJiAmMCZAJlAmYCZwJoAmkCagJrAmwCbQJuAm8CcAJxAnICcwJ0AnUCdgJ3AngCeQJ6AnsCfAJ9An4CfwKAAoECggKDAoQChQKGAocCiAKJAooCiwKMAo0CjgKPApACkQKSApMClAKVApYClwKYApkCmgKbApwCnQKeAp8CoAKhAqICowKkAqUCpgKnAqgCqQKqAqsCrAKtAq4CrwKwArECsgKzArQCtQK2ArcCuAK5AroCuwK8Ar0CvgK/AsACwQLCAsMCxALFAsYCxwLIAskCygLLAswCzQLOAs8C0ALRAtIC0wLUAtUC1gLXAtgC2QI=",
          "dtype": "i2"
         },
         "xaxis": "x3",
         "y": {
          "bdata": "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",
          "dtype": "f8"
         },
         "yaxis": "y3"
        },
        {
         "line": {
          "color": "orange",
          "width": 2
         },
         "mode": "lines",
         "name": "Seasonal",
         "type": "scatter",
         "x": {
          "bdata": "AAABAAIAAwAEAAUABgAHAAgACQAKAAsADAANAA4ADwAQABEAEgATABQAFQAWABcAGAAZABoAGwAcAB0AHgAfACAAIQAiACMAJAAlACYAJwAoACkAKgArACwALQAuAC8AMAAxADIAMwA0ADUANgA3ADgAOQA6ADsAPAA9AD4APwBAAEEAQgBDAEQARQBGAEcASABJAEoASwBMAE0ATgBPAFAAUQBSAFMAVABVAFYAVwBYAFkAWgBbAFwAXQBeAF8AYABhAGIAYwBkAGUAZgBnAGgAaQBqAGsAbABtAG4AbwBwAHEAcgBzAHQAdQB2AHcAeAB5AHoAewB8AH0AfgB/AIAAgQCCAIMAhACFAIYAhwCIAIkAigCLAIwAjQCOAI8AkACRAJIAkwCUAJUAlgCXAJgAmQCaAJsAnACdAJ4AnwCgAKEAogCjAKQApQCmAKcAqACpAKoAqwCsAK0ArgCvALAAsQCyALMAtAC1ALYAtwC4ALkAugC7ALwAvQC+AL8AwADBAMIAwwDEAMUAxgDHAMgAyQDKAMsAzADNAM4AzwDQANEA0gDTANQA1QDWANcA2ADZANoA2wDcAN0A3gDfAOAA4QDiAOMA5ADlAOYA5wDoAOkA6gDrAOwA7QDuAO8A8ADxAPIA8wD0APUA9gD3APgA+QD6APsA/AD9AP4A/wAAAQEBAgEDAQQBBQEGAQcBCAEJAQoBCwEMAQ0BDgEPARABEQESARMBFAEVARYBFwEYARkBGgEbARwBHQEeAR8BIAEhASIBIwEkASUBJgEnASgBKQEqASsBLAEtAS4BLwEwATEBMgEzATQBNQE2ATcBOAE5AToBOwE8AT0BPgE/AUABQQFCAUMBRAFFAUYBRwFIAUkBSgFLAUwBTQFOAU8BUAFRAVIBUwFUAVUBVgFXAVgBWQFaAVsBXAFdAV4BXwFgAWEBYgFjAWQBZQFmAWcBaAFpAWoBawFsAQ==",
          "dtype": "i2"
         },
         "xaxis": "x4",
         "y": {
          "bdata": "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",
          "dtype": "f8"
         },
         "yaxis": "y4"
        },
        {
         "line": {
          "color": "purple",
          "width": 0.5
         },
         "mode": "lines",
         "name": "Residual",
         "type": "scatter",
         "x": {
          "bdata": "AAABAAIAAwAEAAUABgAHAAgACQAKAAsADAANAA4ADwAQABEAEgATABQAFQAWABcAGAAZABoAGwAcAB0AHgAfACAAIQAiACMAJAAlACYAJwAoACkAKgArACwALQAuAC8AMAAxADIAMwA0ADUANgA3ADgAOQA6ADsAPAA9AD4APwBAAEEAQgBDAEQARQBGAEcASABJAEoASwBMAE0ATgBPAFAAUQBSAFMAVABVAFYAVwBYAFkAWgBbAFwAXQBeAF8AYABhAGIAYwBkAGUAZgBnAGgAaQBqAGsAbABtAG4AbwBwAHEAcgBzAHQAdQB2AHcAeAB5AHoAewB8AH0AfgB/AIAAgQCCAIMAhACFAIYAhwCIAIkAigCLAIwAjQCOAI8AkACRAJIAkwCUAJUAlgCXAJgAmQCaAJsAnACdAJ4AnwCgAKEAogCjAKQApQCmAKcAqACpAKoAqwCsAK0ArgCvALAAsQCyALMAtAC1ALYAtwC4ALkAugC7ALwAvQC+AL8AwADBAMIAwwDEAMUAxgDHAMgAyQDKAMsAzADNAM4AzwDQANEA0gDTANQA1QDWANcA2ADZANoA2wDcAN0A3gDfAOAA4QDiAOMA5ADlAOYA5wDoAOkA6gDrAOwA7QDuAO8A8ADxAPIA8wD0APUA9gD3APgA+QD6APsA/AD9AP4A/wAAAQEBAgEDAQQBBQEGAQcBCAEJAQoBCwEMAQ0BDgEPARABEQESARMBFAEVARYBFwEYARkBGgEbARwBHQEeAR8BIAEhASIBIwEkASUBJgEnASgBKQEqASsBLAEtAS4BLwEwATEBMgEzATQBNQE2ATcBOAE5AToBOwE8AT0BPgE/AUABQQFCAUMBRAFFAUYBRwFIAUkBSgFLAUwBTQFOAU8BUAFRAVIBUwFUAVUBVgFXAVgBWQFaAVsBXAFdAV4BXwFgAWEBYgFjAWQBZQFmAWcBaAFpAWoBawFsAW0BbgFvAXABcQFyAXMBdAF1AXYBdwF4AXkBegF7AXwBfQF+AX8BgAGBAYIBgwGEAYUBhgGHAYgBiQGKAYsBjAGNAY4BjwGQAZEBkgGTAZQBlQGWAZcBmAGZAZoBmwGcAZ0BngGfAaABoQGiAaMBpAGlAaYBpwGoAakBqgGrAawBrQGuAa8BsAGxAbIBswG0AbUBtgG3AbgBuQG6AbsBvAG9Ab4BvwHAAcEBwgHDAcQBxQHGAccByAHJAcoBywHMAc0BzgHPAdAB0QHSAdMB1AHVAdYB1wHYAdkB2gHbAdwB3QHeAd8B4AHhAeIB4wHkAeUB5gHnAegB6QHqAesB7AHtAe4B7wHwAfEB8gHzAfQB9QH2AfcB+AH5AfoB+wH8Af0B/gH/AQACAQICAgMCBAIFAgYCBwIIAgkCCgILAgwCDQIOAg8CEAIRAhICEwIUAhUCFgIXAhgCGQIaAhsCHAIdAh4CHwIgAiECIgIjAiQCJQImAicCKAIpAioCKwIsAi0CLgIvAjACMQIyAjMCNAI1AjYCNwI4AjkCOgI7AjwCPQI+Aj8CQAJBAkICQwJEAkUCRgJHAkgCSQJKAksCTAJNAk4CTwJQAlECUgJTAlQCVQJWAlcCWAJZAloCWwJcAl0CXgJfAmACYQJiAmMCZAJlAmYCZwJoAmkCagJrAmwCbQJuAm8CcAJxAnICcwJ0AnUCdgJ3AngCeQJ6AnsCfAJ9An4CfwKAAoECggKDAoQChQKGAocCiAKJAooCiwKMAo0CjgKPApACkQKSApMClAKVApYClwKYApkCmgKbApwCnQKeAp8CoAKhAqICowKkAqUCpgKnAqgCqQKqAqsCrAKtAq4CrwKwArECsgKzArQCtQK2ArcCuAK5AroCuwK8Ar0CvgK/AsACwQLCAsMCxALFAsYCxwLIAskCygLLAswCzQLOAs8C0ALRAtIC0wLUAtUC1gLXAtgC2QI=",
          "dtype": "i2"
         },
         "xaxis": "x5",
         "y": {
          "bdata": "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",
          "dtype": "f8"
         },
         "yaxis": "y5"
        },
        {
         "line": {
          "color": "red",
          "width": 1
         },
         "mode": "lines",
         "name": "Original",
         "opacity": 0.5,
         "type": "scatter",
         "x": {
          "bdata": "AAABAAIAAwAEAAUABgAHAAgACQAKAAsADAANAA4ADwAQABEAEgATABQAFQAWABcAGAAZABoAGwAcAB0AHgAfACAAIQAiACMAJAAlACYAJwAoACkAKgArACwALQAuAC8AMAAxADIAMwA0ADUANgA3ADgAOQA6ADsAPAA9AD4APwBAAEEAQgBDAEQARQBGAEcASABJAEoASwBMAE0ATgBPAFAAUQBSAFMAVABVAFYAVwBYAFkAWgBbAFwAXQBeAF8AYABhAGIAYwBkAGUAZgBnAGgAaQBqAGsAbABtAG4AbwBwAHEAcgBzAHQAdQB2AHcAeAB5AHoAewB8AH0AfgB/AIAAgQCCAIMAhACFAIYAhwCIAIkAigCLAIwAjQCOAI8AkACRAJIAkwCUAJUAlgCXAJgAmQCaAJsAnACdAJ4AnwCgAKEAogCjAKQApQCmAKcAqACpAKoAqwCsAK0ArgCvALAAsQCyALMAtAC1ALYAtwC4ALkAugC7ALwAvQC+AL8AwADBAMIAwwDEAMUAxgDHAMgAyQDKAMsAzADNAM4AzwDQANEA0gDTANQA1QDWANcA2ADZANoA2wDcAN0A3gDfAOAA4QDiAOMA5ADlAOYA5wDoAOkA6gDrAOwA7QDuAO8A8ADxAPIA8wD0APUA9gD3APgA+QD6APsA/AD9AP4A/wAAAQEBAgEDAQQBBQEGAQcBCAEJAQoBCwEMAQ0BDgEPARABEQESARMBFAEVARYBFwEYARkBGgEbARwBHQEeAR8BIAEhASIBIwEkASUBJgEnASgBKQEqASsBLAEtAS4BLwEwATEBMgEzATQBNQE2ATcBOAE5AToBOwE8AT0BPgE/AUABQQFCAUMBRAFFAUYBRwFIAUkBSgFLAUwBTQFOAU8BUAFRAVIBUwFUAVUBVgFXAVgBWQFaAVsBXAFdAV4BXwFgAWEBYgFjAWQBZQFmAWcBaAFpAWoBawFsAW0BbgFvAXABcQFyAXMBdAF1AXYBdwF4AXkBegF7AXwBfQF+AX8BgAGBAYIBgwGEAYUBhgGHAYgBiQGKAYsBjAGNAY4BjwGQAZEBkgGTAZQBlQGWAZcBmAGZAZoBmwGcAZ0BngGfAaABoQGiAaMBpAGlAaYBpwGoAakBqgGrAawBrQGuAa8BsAGxAbIBswG0AbUBtgG3AbgBuQG6AbsBvAG9Ab4BvwHAAcEBwgHDAcQBxQHGAccByAHJAcoBywHMAc0BzgHPAdAB0QHSAdMB1AHVAdYB1wHYAdkB2gHbAdwB3QHeAd8B4AHhAeIB4wHkAeUB5gHnAegB6QHqAesB7AHtAe4B7wHwAfEB8gHzAfQB9QH2AfcB+AH5AfoB+wH8Af0B/gH/AQACAQICAgMCBAIFAgYCBwIIAgkCCgILAgwCDQIOAg8CEAIRAhICEwIUAhUCFgIXAhgCGQIaAhsCHAIdAh4CHwIgAiECIgIjAiQCJQImAicCKAIpAioCKwIsAi0CLgIvAjACMQIyAjMCNAI1AjYCNwI4AjkCOgI7AjwCPQI+Aj8CQAJBAkICQwJEAkUCRgJHAkgCSQJKAksCTAJNAk4CTwJQAlECUgJTAlQCVQJWAlcCWAJZAloCWwJcAl0CXgJfAmACYQJiAmMCZAJlAmYCZwJoAmkCagJrAmwCbQJuAm8CcAJxAnICcwJ0AnUCdgJ3AngCeQJ6AnsCfAJ9An4CfwKAAoECggKDAoQChQKGAocCiAKJAooCiwKMAo0CjgKPApACkQKSApMClAKVApYClwKYApkCmgKbApwCnQKeAp8CoAKhAqICowKkAqUCpgKnAqgCqQKqAqsCrAKtAq4CrwKwArECsgKzArQCtQK2ArcCuAK5AroCuwK8Ar0CvgK/AsACwQLCAsMCxALFAsYCxwLIAskCygLLAswCzQLOAs8C0ALRAtIC0wLUAtUC1gLXAtgC2QI=",
          "dtype": "i2"
         },
         "xaxis": "x6",
         "y": {
          "bdata": "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",
          "dtype": "f8"
         },
         "yaxis": "y6"
        },
        {
         "line": {
          "color": "green",
          "width": 1.5
         },
         "mode": "lines",
         "name": "Deseasonalized",
         "type": "scatter",
         "x": {
          "bdata": "AAABAAIAAwAEAAUABgAHAAgACQAKAAsADAANAA4ADwAQABEAEgATABQAFQAWABcAGAAZABoAGwAcAB0AHgAfACAAIQAiACMAJAAlACYAJwAoACkAKgArACwALQAuAC8AMAAxADIAMwA0ADUANgA3ADgAOQA6ADsAPAA9AD4APwBAAEEAQgBDAEQARQBGAEcASABJAEoASwBMAE0ATgBPAFAAUQBSAFMAVABVAFYAVwBYAFkAWgBbAFwAXQBeAF8AYABhAGIAYwBkAGUAZgBnAGgAaQBqAGsAbABtAG4AbwBwAHEAcgBzAHQAdQB2AHcAeAB5AHoAewB8AH0AfgB/AIAAgQCCAIMAhACFAIYAhwCIAIkAigCLAIwAjQCOAI8AkACRAJIAkwCUAJUAlgCXAJgAmQCaAJsAnACdAJ4AnwCgAKEAogCjAKQApQCmAKcAqACpAKoAqwCsAK0ArgCvALAAsQCyALMAtAC1ALYAtwC4ALkAugC7ALwAvQC+AL8AwADBAMIAwwDEAMUAxgDHAMgAyQDKAMsAzADNAM4AzwDQANEA0gDTANQA1QDWANcA2ADZANoA2wDcAN0A3gDfAOAA4QDiAOMA5ADlAOYA5wDoAOkA6gDrAOwA7QDuAO8A8ADxAPIA8wD0APUA9gD3APgA+QD6APsA/AD9AP4A/wAAAQEBAgEDAQQBBQEGAQcBCAEJAQoBCwEMAQ0BDgEPARABEQESARMBFAEVARYBFwEYARkBGgEbARwBHQEeAR8BIAEhASIBIwEkASUBJgEnASgBKQEqASsBLAEtAS4BLwEwATEBMgEzATQBNQE2ATcBOAE5AToBOwE8AT0BPgE/AUABQQFCAUMBRAFFAUYBRwFIAUkBSgFLAUwBTQFOAU8BUAFRAVIBUwFUAVUBVgFXAVgBWQFaAVsBXAFdAV4BXwFgAWEBYgFjAWQBZQFmAWcBaAFpAWoBawFsAW0BbgFvAXABcQFyAXMBdAF1AXYBdwF4AXkBegF7AXwBfQF+AX8BgAGBAYIBgwGEAYUBhgGHAYgBiQGKAYsBjAGNAY4BjwGQAZEBkgGTAZQBlQGWAZcBmAGZAZoBmwGcAZ0BngGfAaABoQGiAaMBpAGlAaYBpwGoAakBqgGrAawBrQGuAa8BsAGxAbIBswG0AbUBtgG3AbgBuQG6AbsBvAG9Ab4BvwHAAcEBwgHDAcQBxQHGAccByAHJAcoBywHMAc0BzgHPAdAB0QHSAdMB1AHVAdYB1wHYAdkB2gHbAdwB3QHeAd8B4AHhAeIB4wHkAeUB5gHnAegB6QHqAesB7AHtAe4B7wHwAfEB8gHzAfQB9QH2AfcB+AH5AfoB+wH8Af0B/gH/AQACAQICAgMCBAIFAgYCBwIIAgkCCgILAgwCDQIOAg8CEAIRAhICEwIUAhUCFgIXAhgCGQIaAhsCHAIdAh4CHwIgAiECIgIjAiQCJQImAicCKAIpAioCKwIsAi0CLgIvAjACMQIyAjMCNAI1AjYCNwI4AjkCOgI7AjwCPQI+Aj8CQAJBAkICQwJEAkUCRgJHAkgCSQJKAksCTAJNAk4CTwJQAlECUgJTAlQCVQJWAlcCWAJZAloCWwJcAl0CXgJfAmACYQJiAmMCZAJlAmYCZwJoAmkCagJrAmwCbQJuAm8CcAJxAnICcwJ0AnUCdgJ3AngCeQJ6AnsCfAJ9An4CfwKAAoECggKDAoQChQKGAocCiAKJAooCiwKMAo0CjgKPApACkQKSApMClAKVApYClwKYApkCmgKbApwCnQKeAp8CoAKhAqICowKkAqUCpgKnAqgCqQKqAqsCrAKtAq4CrwKwArECsgKzArQCtQK2ArcCuAK5AroCuwK8Ar0CvgK/AsACwQLCAsMCxALFAsYCxwLIAskCygLLAswCzQLOAs8C0ALRAtIC0wLUAtUC1gLXAtgC2QI=",
          "dtype": "i2"
         },
         "xaxis": "x6",
         "y": {
          "bdata": "2jNnpvFSWECi/w6sI5ZXQMPv9JS13FlA17W2gN4yWkAYTcYs9s9aQLmvyffwM1tAMU7Bb7AsWUACRih+KOxaQLTzpiDM5FdALu7A9JRuWkDfo4cehZxXQEFDXYk2aVdAfpISeTdQWEBS4BdRynBZQPx3Awl7slhAW9ac155PW0CW/j7/CcRbQG5to1FGIFpAZvg2yVRaWkBehjOfYm9bQC1tnukb1lhAWxANIycCWUCIfj3OOaxZQIfCfyxkCltAA7ya8L+qWkAyNcZRKCRZQJBjC1l2WFlAetyNUfOBWUAS6q5E+i1aQHc61A/BfFpA2I+YGzj3V0BzTm6uERVaQMW918tikltAT8rhYEJlWEC8MUCZvqJbQG633jhzYVpA59XmkQfWWUCx6DTBablZQNZx48nv/FpA/ijvezZ0WEAA7EkwIlBaQOp4zhaVx1hA4Y32qqKvW0AUh6PT6RJaQM8+7JTzOFpACuCFREEWWkCVrNjnLWRaQEqxnUSGrVpAA4r40+diWkDqKneTSg1ZQGM29OQfYFlAOWIqUWJgWkBPntXEJ7dZQKZ73EB+PVhA8twBdWZEW0Bc+fVfPK5aQKjKYJCxY1pAl+CM0TyYWkAT2VyK06lZQHdRbYACXl1AqlcUcmstWkC0RIYSOnRaQMjhcXwT4VlALpCog/6BWUDGyzplSnlYQKJT2Ovn6VhAXrDYCxfNWkDA9k8BYwJbQNLVmiON9FlATKq5LKDNW0CI05ffCIxaQFMV0Y431VpA45Ts2JJ2XEB63KU5NWlbQM4AgLndeltAiFhulLWiWkAqShyujnBbQILfKpE9M1tACKHgYlCbWkAibAr2ydBbQFBC4NAKClxAvHYgdEwaW0ACLpin2nhbQGjc1FxbPFtA1DQ4hN27WkBsk91N1HxYQNayjibLrltAxiX3K/qTWkDg9qhfoMRaQFBAnJY8SVlA1CQ/fmIHWkAi/MPYwENbQABc5R4B/FxAqtPTiv9OWUAs/Xt++H9bQKouREDSLltASGon/2duXECGHgOx8BpcQD8v+vcSQ15AjHW2axXCW0BggYkJiblaQBpS+qjEBVtAotR7ZrOjWUB4locbW1lcQLqwaiYNt1pAFH2VPfilXECmi7JCuYxcQEgbqSFMD1xA3KrWUmK6W0AkW7JerIBZQBSIMZ36hVtADsUz5tXHXEDL+RC+cKpeQMjOjV2qXVxA9vDI0LPyXED4dOFbG8paQMCgWycql1xAvIdmvhGRXUAZ4tVH1ZFdQLBWg/SXNlpA2usaORmnWkCFicQQMsxbQE5C/pAvUVtAwNCMS4yPWkBPKoGmPeVdQHY3iNmKFF1AOVjyY/5ZXUByQo3m+dRaQFI3BI3YRVtAQ81Bh+SSW0Bdq4i2KX5bQB+EN71xulxAv5CvFKfrXEC0LQPYbHtcQMb9xgyUAVxAF0GUP366XkAlaNSMqDFcQOjKFwjiklpAeaeAL5BEXUApAxKF9GpdQEj0nzuLGltAF+urC2m3XEBKGy52lF9bQMLHGTX0rFtAhGdDswcCXEAhAtib2L5cQA9wQ9zAW11ArDzh5T2eWkCrE6fj/a9cQHb7dyQLkVtAgzWVBulNXEABCtelhYddQOKJtIBYe1xAYIbW5ZJ4XUDpoj+LJ6ZcQOV37Bv/WFxA7hQbDicdXkA1QJEhJD1cQN0wmtA4oltAXWgcnQF6XUCXZfv2ThpdQMUgtdEs0VpAoizT0Mf0XEApS8QIgIJcQNWyceErW15ArMvAbzxaWkAgcgE17/tbQOrvinkzNV5A31qJ/gCCXkDEZbU6TRdeQJl60SIhdF1Ai5yS/unBXUBO5lRu90BfQL1G/LjPOVxAO+td/9bpW0DkA/r+RVBdQBkUKG9D1F1ABpGA+xIeXUCAjgBhFJ5dQBEdZ5iaEV1A0E0IYV+eXEBXwQ4g7FFeQGhE37ACF15AB13llwqdXUA+CxiteKRdQH9jZtdTql1ANlzJLPevXUDTJLWNMLVdQB4vyJMnul1AIdcFJY/AXUB0E0whwsVdQJ5pP2IZzV1AA8qLWa7SXUCLX+XjQdpdQMTuPqj84V1AUPJlhRnpXUDTNUXbcO9dQM7yTpRS9l1Ac4BhU2P7XUDNndwSJgBeQLDUabsTBl5AI/80O90LXkBJ/tWm6RBeQJLc8LjNF15AHnZkKZceXkBCleLu7SReQHz2B/dSKl5AqPAd2v4vXkBIFwAuwTZeQEQLWG5jPV5AioQoa+1DXkCnAVbhAkpeQL9kYhjlT15Aks01tY9XXkCiohH9wl1eQDL2aUTwYl5AiaiFGlxqXkBj1Wszhm9eQEyezFGWdV5A33sjcgx8XkAWF6Q1nIJeQJM2PzhNiF5AurWas8mPXkCWspDa+5VeQD8bhDVFnV5Ab9ILyYiiXkB0jmbz8aheQA/p/mZFr15AbPieM7a1XkBis5829LteQF6GAowDwl5ALhR2xErIXkA8fCAHhs9eQJOLK6yL1l5A6B+z9uHcXkCZEqxztONeQL5zYMGT615AvhzF6FfxXkAw/HCmifdeQLpVYUfz/V5AkPMrFTwEX0BYpD4cMAtfQHD/BcuPD19AIld4qDAWX0AQdwkspBxfQPZbQEODI19AGht37KkqX0B02pR9jjJfQFoMh9EoOl9AMLnfR3VAX0CyadFUoUZfQDL0ZyaOTV9Aekpa0zJTX0DcoNmWvVlfQC4MBcMZYF9AIndFMFVlX0Cc5hudUWtfQKBaf/BFcV9ASKhDy9d3X0BQGvSy3X1fQFKGegMThF9A4rlFu7eKX0B6yVmXh5BfQHI5pAw0ll9Axsv09YycX0BHl1/Ap6JfQObeYSLxqF9AdmSRA5qvX0AElh8627dfQL7XwVrjvV9A0im6r7XEX0Bel0HFactfQI5reucs019AUGM2om7aX0Bqu7kI1+BfQLdCT2IO5l9AJPo08d3tX0Aqg/50KPRfQIxVSo+w+l9A89mRaC4AYEAzSXIEJANgQDBPbkVaBWBANwMnA3MIYECBVtMP6wtgQJNkH8ZKD2BAOQXYhSgTYEBDuI4mFRZgQO3oRpaWGWBA/UPhqGwcYECXgjixTR9gQF/JIYRcImBA/WC2dYslYEA2ZamKhClgQIC5YA/KLGBA9B4+8aAvYECc2ED30DFgQPXMPHjRNGBAkh4xmJ83YECI9qvzMTtgQFP3e8gkPmBAV/oCIMJAYEApf+mVYUNgQFUQAMowR2BA1hn1x9pKYECglcpGIE5gQJxytImTUWBAFA+yEU1VYED80A2Z3VdgQBkBxHe5WmBAKOAQKn9dYEA0oexJKWFgQHCvDPqtZGBAZmwL3hloYEAikps9j2tgQP4wzmWYbmBAmRdSOpJxYECvhsCDtXRgQPC+8q8FeGBAqgSd7mN6YED5z7nyp31gQAmw/5J/gWBAck4Nk2eEYEBY3bDaRIdgQHD1hR70imBAe+15ORSOYECydDQ2r5FgQFaGq0AxlWBA5rzL/5eYYEBrpkVwvptgQPNGG3WwnmBAHFNMi5qiYEAKW5jhzKVgQCiDzgZmqWBAjwu7T7+sYEBolnxPrK9gQLxo3Tf5smBAAZnm9++1YECxdsmQMrlgQP/lxiWSvGBAHmFJgVW/YEBlB1XJw8JgQBGcw41qxmBAB1lCu23JYEAUTivmlMxgQGb5h6OL0GBAXsnIlcTTYEA79PLfJ9dgQJO74YPn2WBAMD8nuBDeYECv+2/0qeFgQPfJ5/B95GBAtQ6QjznnYEC+tBahHOpgQHKMBCA77WBAxu2riEDwYEA+lRDewfJgQFY3isdV9mBAFGnrAQj6YEAfjtXJPv1gQFpeAIdJAGFAVSOvVZYDYUBq0fZFuAZhQF1cd8QNCmFAqvHWG44NYUDwhLEdeBBhQHkNNghME2FAWLKo8gsXYUDWYVRzGBthQH2qaZ9fHmFACap5rmIhYUAyrndQEiRhQAbuVEItJ2FAUSQmF+0qYUBeZszdGS5hQEkvU8b8MWFASesgsPA0YUC8O4c+QDdhQDtR2WQvOmFAgpA14Kc9YUAE9fLtJ0FhQBRmiKI/RGFAPuzjgNpGYUANV33RD0phQN4+8f5PTWFAZaffCQxRYUBbrvbcpFRhQGt+7zuuV2FA/fKHsfhaYUCJsOVkuF1hQD82eFtpYGFAyKOb9ZxjYUClIDkL5mZhQHpiZWNYamFAuCXF4UltYUC/wT7GJHBhQJGBgtq8cmFAqopukRd2YUAncmPC+HlhQEKIL1MBfWFA3RK3DOJ/YUB5lm5EN4NhQItg4NY5hmFAThrJvzGKYUCdq4dAKI1hQMW5sS5ZkGFAtrmB3tGSYUDaWO3hlZVhQDRfuwF+mGFALs2Am22bYUBvtpKy955hQJvjXYKKomFAOp7xF0ylYUC7QUKBsahhQNzdXKg5q2FAusE2UGSuYUB9i9walrFhQAJwPEq1tGFAH9Lj+aG4YUCufoUFcLthQMtpw0+JvmFA8MYB55PBYUCrOYgDJsRhQN70tx0Fx2FAm3MB0ODJYUDEGFVZN81hQIKwDZdj0GFAoGU4VHbTYUDmHtvKk9ZhQPqJW+MO2mFAm1BSphbdYUDpuhTOeOBhQBuQI+QN5GFAsk/0upjnYUBPJ5/7GephQGpXH2G17GFAlv4SzvDvYUBGjFxEUfNhQKCJ4s4m9mFAomexMw75YUCMNCZPHPxhQMuIKD9VAGJAl29XAn0DYkA9b2mwoAZiQLiSzDcVCmJA9lNSXxMNYkCn8wAGdxBiQO6LAI6IE2JADSvuoIYWYkCDfQoNfhliQJnRfEpTHWJADh1Ni+cgYkCANPPWMCRiQFAVAqnuJmJAwhTgiLEpYkB1ZNEwOi1iQM2xH94MMGJAQ00EgU0zYkCqoovs9TViQIIsLST3OGJAcS5qMhs8YkBHkS/fbz9iQIh4CfGAQmJA4iuAl6dFYkBroVEj5EhiQDDpMzZRS2JA9IJ3lu5OYkAzOO0+WVJiQJH1eg0EVWJABhFBsg5YYkBjutLcEltiQJST3qQ0XmJAXoe9hTVhYkBNem7HyGNiQIKBR5ofZ2JABTLWDXlqYkAq8fuHG21iQLKIw/tKcGJAgTHr8LBzYkAmSgIWjXZiQLvWvHc9eWJAdqMWHLp8YkCS8T6Azn9iQJuPsqregmJAaVCWvUWGYkAZqG4+uYliQKUC7LLrjGJAEMTD3i6QYkBRNO8v7pNiQOF/XgpNl2JAAQ0U0a+aYkC9tIb2wZ1iQL81k2neoGJA4N6YXwykYkA4ZzZkG6diQC9Q1FVGqmJAvCLKG26tYkBOQcguR7FiQNuRZ4oHtGJAoPp1Hga3YkAbsv0JGbpiQPCKj3ievWJA3BN4I87AYkArXKyH4MNiQGEwKysQx2JAxL+7ZvnKYkCPVqNUKc5iQOedrvN60GJAAdUJkcTTYkDQClEG49ZiQO5/j1qC2mJAtfK9qzrdYkDMmbdS8eBiQKr03pbg42JAPtk6/MPmYkCwL3Og3+liQF8WiXxB7WJA63veeavvYkD2JWaSU/JiQNgTBUAZ9mJAhuUVwQf5YkCZ7037xvtiQAwWFwAd/2JArrNkyc4CY0C7EPd54gVjQIueQayICGNAFhajqf8LY0As1fplYg9jQAQd0k6VEmNAeEGBwtAVY0DMECus0hhjQO4N/b7dG2NAmnk1jnIfY0AXlZaz2CJjQKWwLrWBJmNAeW5VmmYpY0APSYWKiyxjQO0T7zWrL2NA1jitd+IyY0B6Puq+yzZjQKrhQrwIOmNA9NFTCD49Y0Bi7p5tcUBjQMMj7yyMQ2NAd3mzxm1GY0DsrHmpskljQMAEzEMsTWNARFqrtJpQY0A2TWa3phNjQCvBZ5EmJ2RAeDtVyw+YZEBAyQvGo4FjQOkINBBYI2NABH8GPgKvYkBMGliifkpjQIVVzQDKOGRANzWyS7hpY0C1K0w5EnFkQLvwGocbH2NAS2PT+Y44YkAoHyj39x9jQHgwOaVU52NAh+iqBEz1Y0AgrDnD9WNjQNcJL7KAtGJAM5gr9BaTY0DNb/ariqVjQBqJhTMKWWRAHuw/y1kpZEAoEzlFQ2BjQFFvED91wGNA4Y0YtMn9YkCXn2wKeetiQMwkkjGSqGNA0RKLaJTKY0BD4kVuuQhkQMiiHeRHVGNAgnUOMhk3Y0AksMlwx9piQHXgI6ke9GNA9t22S/S2ZEBXfzCVroRjQDVzg5OWT2NAqo5cikP4Y0B5aiP1dYVjQGOZ4kx95mRAxTeHqsN6Y0DTyhUu6tBjQARFXYX3zWJAv0C6zXY8Y0APHIHzl3NjQCy3A6PigGNAeNk83ltgZEDo3C749G9kQNWQcF3dSGNA9vhIQ5E1ZEBE3vGGIf1iQObt5LP252NAAenw8cD1Y0B7mM5hvN5jQElyAG3nBmVA/A9Zz6BxY0ALc/i62OBjQDNdTZjFzmNAaBHqfhcmY0Bmkr75EZdjQDKsXz1blWNAzMxh2vlHZEDfWrPl2w1kQDdmIArQ7GNA+uUGPFT/Y0Dj2LiQQ4hkQOHBFPBl52NAqv777jlsZEA0f+nbpLhkQHEGkesurWRATB/+3Zk1Y0B4kPjKVl5jQLR8EsFTRWRAVtRLcmd9ZEAFwIxig7pjQCNFFVOV1mNAiB0W9MUQZEAjyZEr0b1lQEPlgC+dO2RA+owjCc44ZEDt2RaKLq9kQH5iVze6CWRAvpSmclidZEA8Or7tGCtkQM9DxneHEmRAP12RBBkMZEDs0jItgUtlQCdJxGot8mRA8TffeG6LZECsdJcslsdjQINKYgc00mNAQ26vVYzvZEDye2GM9+9jQJfYDJFfkGRA8qBR1Iy6Y0CxKXmCwztkQG9AlkVXcWRADi3tj865ZEBk4VO7rlxkQAaRz79JfmRAct8WXnegZECyow4y3npjQIg/iUPVL2VAjMCmP/3qZECEYjZG09xjQEorTXRVaWRAPjI92AVjZEA3kyvPwJBkQFbcwkatZGRA/N+CWkLLY0CWD5EjJ+VkQAYNKDgV7GRAUO16sizrY0C3x/MicrdkQAnOyXr/B2VAvPsu2bFFZEBePDfPTApkQFcFOuxVMGVAJlUjwUSfZEBzSFRPMZxkQIXgvA64GmVAjIVeShAvZUBdK7rgINZkQE3fk0qg8WRAYKG5AeelZUAEL2P60B9lQGtFjGIiKWVAN/mG/by4ZEDh75eAScpkQKEFI/AG5mRAOQeI3pK9ZEAP1zF46OhkQF+giB3P52RAXCbtUQ/oZUAZCvQH21pkQHx33VKLtmRAlSFBVK/WZEBJ5eRVRH1lQC89KJxaBWVAx+lE0eDeZECJQdSuawxlQEy8KYDxF2ZA3NziDZsSZUDXrZrhU9ljQAJ9h5QJPmVAfi28bBwEZUCRg7hdXL9lQJ5jBb9jeWRAXOA4girnZUDI1Deh1M1kQO85UQ/SwGRA35vrBTYUZUBfagjS7HtlQLPUfILdHWRAzwfqSFd5ZEC8lHbD0RNmQMqP4fz942RAFdOvktijZEBFtpL4Nn5lQGgh84TRA2ZAkrEDitYlZUAAzg9CYI1kQNzJOf8UumVAPcJGb1ugZUAJZ3meIWBlQL7Cf4aIb2VA7Y0PB+IgZUCipUdZsTBlQObBmCs8+WVAtivkP026ZUD3FMc2dRxmQKe2zEeUB2VAlVxRFcdlZUDNytqFYmFlQGeNxkQJhmVAtZ8RcFyGZkDY4ur+SpRlQB4DEnYFjWVA2RjtNYaNZUDheVxMbG1lQHlWnZI+H2VAvC6Omu+vZUDclt7Lbv5lQDjeQwoF8mVAJ81nBckFZkA=",
          "dtype": "f8"
         },
         "yaxis": "y6"
        }
       ],
       "layout": {
        "annotations": [
         {
          "font": {
           "size": 16
          },
          "showarrow": false,
          "text": "Original Series (with Seasonality)",
          "x": 0.22,
          "xanchor": "center",
          "xref": "paper",
          "y": 1,
          "yanchor": "bottom",
          "yref": "paper"
         },
         {
          "font": {
           "size": 16
          },
          "showarrow": false,
          "text": "Deseasonalized Series",
          "x": 0.78,
          "xanchor": "center",
          "xref": "paper",
          "y": 1,
          "yanchor": "bottom",
          "yref": "paper"
         },
         {
          "font": {
           "size": 16
          },
          "showarrow": false,
          "text": "Trend Component",
          "x": 0.22,
          "xanchor": "center",
          "xref": "paper",
          "y": 0.6333333333333333,
          "yanchor": "bottom",
          "yref": "paper"
         },
         {
          "font": {
           "size": 16
          },
          "showarrow": false,
          "text": "Seasonal Component",
          "x": 0.78,
          "xanchor": "center",
          "xref": "paper",
          "y": 0.6333333333333333,
          "yanchor": "bottom",
          "yref": "paper"
         },
         {
          "font": {
           "size": 16
          },
          "showarrow": false,
          "text": "Residual (Noise)",
          "x": 0.22,
          "xanchor": "center",
          "xref": "paper",
          "y": 0.26666666666666666,
          "yanchor": "bottom",
          "yref": "paper"
         },
         {
          "font": {
           "size": 16
          },
          "showarrow": false,
          "text": "Deseasonalized vs Original",
          "x": 0.78,
          "xanchor": "center",
          "xref": "paper",
          "y": 0.26666666666666666,
          "yanchor": "bottom",
          "yref": "paper"
         }
        ],
        "height": 900,
        "shapes": [
         {
          "line": {
           "color": "black",
           "dash": "dash"
          },
          "type": "line",
          "x0": 0,
          "x1": 1,
          "xref": "x5 domain",
          "y0": 0,
          "y1": 0,
          "yref": "y5"
         }
        ],
        "showlegend": false,
        "template": {
         "data": {
          "bar": [
           {
            "error_x": {
             "color": "#2a3f5f"
            },
            "error_y": {
             "color": "#2a3f5f"
            },
            "marker": {
             "line": {
              "color": "white",
              "width": 0.5
             },
             "pattern": {
              "fillmode": "overlay",
              "size": 10,
              "solidity": 0.2
             }
            },
            "type": "bar"
           }
          ],
          "barpolar": [
           {
            "marker": {
             "line": {
              "color": "white",
              "width": 0.5
             },
             "pattern": {
              "fillmode": "overlay",
              "size": 10,
              "solidity": 0.2
             }
            },
            "type": "barpolar"
           }
          ],
          "carpet": [
           {
            "aaxis": {
             "endlinecolor": "#2a3f5f",
             "gridcolor": "#C8D4E3",
             "linecolor": "#C8D4E3",
             "minorgridcolor": "#C8D4E3",
             "startlinecolor": "#2a3f5f"
            },
            "baxis": {
             "endlinecolor": "#2a3f5f",
             "gridcolor": "#C8D4E3",
             "linecolor": "#C8D4E3",
             "minorgridcolor": "#C8D4E3",
             "startlinecolor": "#2a3f5f"
            },
            "type": "carpet"
           }
          ],
          "choropleth": [
           {
            "colorbar": {
             "outlinewidth": 0,
             "ticks": ""
            },
            "type": "choropleth"
           }
          ],
          "contour": [
           {
            "colorbar": {
             "outlinewidth": 0,
             "ticks": ""
            },
            "colorscale": [
             [
              0,
              "#0d0887"
             ],
             [
              0.1111111111111111,
              "#46039f"
             ],
             [
              0.2222222222222222,
              "#7201a8"
             ],
             [
              0.3333333333333333,
              "#9c179e"
             ],
             [
              0.4444444444444444,
              "#bd3786"
             ],
             [
              0.5555555555555556,
              "#d8576b"
             ],
             [
              0.6666666666666666,
              "#ed7953"
             ],
             [
              0.7777777777777778,
              "#fb9f3a"
             ],
             [
              0.8888888888888888,
              "#fdca26"
             ],
             [
              1,
              "#f0f921"
             ]
            ],
            "type": "contour"
           }
          ],
          "contourcarpet": [
           {
            "colorbar": {
             "outlinewidth": 0,
             "ticks": ""
            },
            "type": "contourcarpet"
           }
          ],
          "heatmap": [
           {
            "colorbar": {
             "outlinewidth": 0,
             "ticks": ""
            },
            "colorscale": [
             [
              0,
              "#0d0887"
             ],
             [
              0.1111111111111111,
              "#46039f"
             ],
             [
              0.2222222222222222,
              "#7201a8"
             ],
             [
              0.3333333333333333,
              "#9c179e"
             ],
             [
              0.4444444444444444,
              "#bd3786"
             ],
             [
              0.5555555555555556,
              "#d8576b"
             ],
             [
              0.6666666666666666,
              "#ed7953"
             ],
             [
              0.7777777777777778,
              "#fb9f3a"
             ],
             [
              0.8888888888888888,
              "#fdca26"
             ],
             [
              1,
              "#f0f921"
             ]
            ],
            "type": "heatmap"
           }
          ],
          "histogram": [
           {
            "marker": {
             "pattern": {
              "fillmode": "overlay",
              "size": 10,
              "solidity": 0.2
             }
            },
            "type": "histogram"
           }
          ],
          "histogram2d": [
           {
            "colorbar": {
             "outlinewidth": 0,
             "ticks": ""
            },
            "colorscale": [
             [
              0,
              "#0d0887"
             ],
             [
              0.1111111111111111,
              "#46039f"
             ],
             [
              0.2222222222222222,
              "#7201a8"
             ],
             [
              0.3333333333333333,
              "#9c179e"
             ],
             [
              0.4444444444444444,
              "#bd3786"
             ],
             [
              0.5555555555555556,
              "#d8576b"
             ],
             [
              0.6666666666666666,
              "#ed7953"
             ],
             [
              0.7777777777777778,
              "#fb9f3a"
             ],
             [
              0.8888888888888888,
              "#fdca26"
             ],
             [
              1,
              "#f0f921"
             ]
            ],
            "type": "histogram2d"
           }
          ],
          "histogram2dcontour": [
           {
            "colorbar": {
             "outlinewidth": 0,
             "ticks": ""
            },
            "colorscale": [
             [
              0,
              "#0d0887"
             ],
             [
              0.1111111111111111,
              "#46039f"
             ],
             [
              0.2222222222222222,
              "#7201a8"
             ],
             [
              0.3333333333333333,
              "#9c179e"
             ],
             [
              0.4444444444444444,
              "#bd3786"
             ],
             [
              0.5555555555555556,
              "#d8576b"
             ],
             [
              0.6666666666666666,
              "#ed7953"
             ],
             [
              0.7777777777777778,
              "#fb9f3a"
             ],
             [
              0.8888888888888888,
              "#fdca26"
             ],
             [
              1,
              "#f0f921"
             ]
            ],
            "type": "histogram2dcontour"
           }
          ],
          "mesh3d": [
           {
            "colorbar": {
             "outlinewidth": 0,
             "ticks": ""
            },
            "type": "mesh3d"
           }
          ],
          "parcoords": [
           {
            "line": {
             "colorbar": {
              "outlinewidth": 0,
              "ticks": ""
             }
            },
            "type": "parcoords"
           }
          ],
          "pie": [
           {
            "automargin": true,
            "type": "pie"
           }
          ],
          "scatter": [
           {
            "fillpattern": {
             "fillmode": "overlay",
             "size": 10,
             "solidity": 0.2
            },
            "type": "scatter"
           }
          ],
          "scatter3d": [
           {
            "line": {
             "colorbar": {
              "outlinewidth": 0,
              "ticks": ""
             }
            },
            "marker": {
             "colorbar": {
              "outlinewidth": 0,
              "ticks": ""
             }
            },
            "type": "scatter3d"
           }
          ],
          "scattercarpet": [
           {
            "marker": {
             "colorbar": {
              "outlinewidth": 0,
              "ticks": ""
             }
            },
            "type": "scattercarpet"
           }
          ],
          "scattergeo": [
           {
            "marker": {
             "colorbar": {
              "outlinewidth": 0,
              "ticks": ""
             }
            },
            "type": "scattergeo"
           }
          ],
          "scattergl": [
           {
            "marker": {
             "colorbar": {
              "outlinewidth": 0,
              "ticks": ""
             }
            },
            "type": "scattergl"
           }
          ],
          "scattermap": [
           {
            "marker": {
             "colorbar": {
              "outlinewidth": 0,
              "ticks": ""
             }
            },
            "type": "scattermap"
           }
          ],
          "scattermapbox": [
           {
            "marker": {
             "colorbar": {
              "outlinewidth": 0,
              "ticks": ""
             }
            },
            "type": "scattermapbox"
           }
          ],
          "scatterpolar": [
           {
            "marker": {
             "colorbar": {
              "outlinewidth": 0,
              "ticks": ""
             }
            },
            "type": "scatterpolar"
           }
          ],
          "scatterpolargl": [
           {
            "marker": {
             "colorbar": {
              "outlinewidth": 0,
              "ticks": ""
             }
            },
            "type": "scatterpolargl"
           }
          ],
          "scatterternary": [
           {
            "marker": {
             "colorbar": {
              "outlinewidth": 0,
              "ticks": ""
             }
            },
            "type": "scatterternary"
           }
          ],
          "surface": [
           {
            "colorbar": {
             "outlinewidth": 0,
             "ticks": ""
            },
            "colorscale": [
             [
              0,
              "#0d0887"
             ],
             [
              0.1111111111111111,
              "#46039f"
             ],
             [
              0.2222222222222222,
              "#7201a8"
             ],
             [
              0.3333333333333333,
              "#9c179e"
             ],
             [
              0.4444444444444444,
              "#bd3786"
             ],
             [
              0.5555555555555556,
              "#d8576b"
             ],
             [
              0.6666666666666666,
              "#ed7953"
             ],
             [
              0.7777777777777778,
              "#fb9f3a"
             ],
             [
              0.8888888888888888,
              "#fdca26"
             ],
             [
              1,
              "#f0f921"
             ]
            ],
            "type": "surface"
           }
          ],
          "table": [
           {
            "cells": {
             "fill": {
              "color": "#EBF0F8"
             },
             "line": {
              "color": "white"
             }
            },
            "header": {
             "fill": {
              "color": "#C8D4E3"
             },
             "line": {
              "color": "white"
             }
            },
            "type": "table"
           }
          ]
         },
         "layout": {
          "annotationdefaults": {
           "arrowcolor": "#2a3f5f",
           "arrowhead": 0,
           "arrowwidth": 1
          },
          "autotypenumbers": "strict",
          "coloraxis": {
           "colorbar": {
            "outlinewidth": 0,
            "ticks": ""
           }
          },
          "colorscale": {
           "diverging": [
            [
             0,
             "#8e0152"
            ],
            [
             0.1,
             "#c51b7d"
            ],
            [
             0.2,
             "#de77ae"
            ],
            [
             0.3,
             "#f1b6da"
            ],
            [
             0.4,
             "#fde0ef"
            ],
            [
             0.5,
             "#f7f7f7"
            ],
            [
             0.6,
             "#e6f5d0"
            ],
            [
             0.7,
             "#b8e186"
            ],
            [
             0.8,
             "#7fbc41"
            ],
            [
             0.9,
             "#4d9221"
            ],
            [
             1,
             "#276419"
            ]
           ],
           "sequential": [
            [
             0,
             "#0d0887"
            ],
            [
             0.1111111111111111,
             "#46039f"
            ],
            [
             0.2222222222222222,
             "#7201a8"
            ],
            [
             0.3333333333333333,
             "#9c179e"
            ],
            [
             0.4444444444444444,
             "#bd3786"
            ],
            [
             0.5555555555555556,
             "#d8576b"
            ],
            [
             0.6666666666666666,
             "#ed7953"
            ],
            [
             0.7777777777777778,
             "#fb9f3a"
            ],
            [
             0.8888888888888888,
             "#fdca26"
            ],
            [
             1,
             "#f0f921"
            ]
           ],
           "sequentialminus": [
            [
             0,
             "#0d0887"
            ],
            [
             0.1111111111111111,
             "#46039f"
            ],
            [
             0.2222222222222222,
             "#7201a8"
            ],
            [
             0.3333333333333333,
             "#9c179e"
            ],
            [
             0.4444444444444444,
             "#bd3786"
            ],
            [
             0.5555555555555556,
             "#d8576b"
            ],
            [
             0.6666666666666666,
             "#ed7953"
            ],
            [
             0.7777777777777778,
             "#fb9f3a"
            ],
            [
             0.8888888888888888,
             "#fdca26"
            ],
            [
             1,
             "#f0f921"
            ]
           ]
          },
          "colorway": [
           "#636efa",
           "#EF553B",
           "#00cc96",
           "#ab63fa",
           "#FFA15A",
           "#19d3f3",
           "#FF6692",
           "#B6E880",
           "#FF97FF",
           "#FECB52"
          ],
          "font": {
           "color": "#2a3f5f"
          },
          "geo": {
           "bgcolor": "white",
           "lakecolor": "white",
           "landcolor": "white",
           "showlakes": true,
           "showland": true,
           "subunitcolor": "#C8D4E3"
          },
          "hoverlabel": {
           "align": "left"
          },
          "hovermode": "closest",
          "mapbox": {
           "style": "light"
          },
          "paper_bgcolor": "white",
          "plot_bgcolor": "white",
          "polar": {
           "angularaxis": {
            "gridcolor": "#EBF0F8",
            "linecolor": "#EBF0F8",
            "ticks": ""
           },
           "bgcolor": "white",
           "radialaxis": {
            "gridcolor": "#EBF0F8",
            "linecolor": "#EBF0F8",
            "ticks": ""
           }
          },
          "scene": {
           "xaxis": {
            "backgroundcolor": "white",
            "gridcolor": "#DFE8F3",
            "gridwidth": 2,
            "linecolor": "#EBF0F8",
            "showbackground": true,
            "ticks": "",
            "zerolinecolor": "#EBF0F8"
           },
           "yaxis": {
            "backgroundcolor": "white",
            "gridcolor": "#DFE8F3",
            "gridwidth": 2,
            "linecolor": "#EBF0F8",
            "showbackground": true,
            "ticks": "",
            "zerolinecolor": "#EBF0F8"
           },
           "zaxis": {
            "backgroundcolor": "white",
            "gridcolor": "#DFE8F3",
            "gridwidth": 2,
            "linecolor": "#EBF0F8",
            "showbackground": true,
            "ticks": "",
            "zerolinecolor": "#EBF0F8"
           }
          },
          "shapedefaults": {
           "line": {
            "color": "#2a3f5f"
           }
          },
          "ternary": {
           "aaxis": {
            "gridcolor": "#DFE8F3",
            "linecolor": "#A2B1C6",
            "ticks": ""
           },
           "baxis": {
            "gridcolor": "#DFE8F3",
            "linecolor": "#A2B1C6",
            "ticks": ""
           },
           "bgcolor": "white",
           "caxis": {
            "gridcolor": "#DFE8F3",
            "linecolor": "#A2B1C6",
            "ticks": ""
           }
          },
          "title": {
           "x": 0.05
          },
          "xaxis": {
           "automargin": true,
           "gridcolor": "#EBF0F8",
           "linecolor": "#EBF0F8",
           "ticks": "",
           "title": {
            "standoff": 15
           },
           "zerolinecolor": "#EBF0F8",
           "zerolinewidth": 2
          },
          "yaxis": {
           "automargin": true,
           "gridcolor": "#EBF0F8",
           "linecolor": "#EBF0F8",
           "ticks": "",
           "title": {
            "standoff": 15
           },
           "zerolinecolor": "#EBF0F8",
           "zerolinewidth": 2
          }
         }
        },
        "title": {
         "text": "🌊 Seasonal Decomposition: Breaking Down the Components"
        },
        "xaxis": {
         "anchor": "y",
         "domain": [
          0,
          0.44
         ],
         "title": {
          "text": "Time"
         }
        },
        "xaxis2": {
         "anchor": "y2",
         "domain": [
          0.56,
          1
         ],
         "title": {
          "text": "Time"
         }
        },
        "xaxis3": {
         "anchor": "y3",
         "domain": [
          0,
          0.44
         ],
         "title": {
          "text": "Time"
         }
        },
        "xaxis4": {
         "anchor": "y4",
         "domain": [
          0.56,
          1
         ],
         "title": {
          "text": "Time"
         }
        },
        "xaxis5": {
         "anchor": "y5",
         "domain": [
          0,
          0.44
         ],
         "title": {
          "text": "Time"
         }
        },
        "xaxis6": {
         "anchor": "y6",
         "domain": [
          0.56,
          1
         ],
         "title": {
          "text": "Time"
         }
        },
        "yaxis": {
         "anchor": "x",
         "domain": [
          0.7333333333333334,
          1
         ],
         "title": {
          "text": "Value"
         }
        },
        "yaxis2": {
         "anchor": "x2",
         "domain": [
          0.7333333333333334,
          1
         ],
         "title": {
          "text": "Value"
         }
        },
        "yaxis3": {
         "anchor": "x3",
         "domain": [
          0.3666666666666667,
          0.6333333333333333
         ],
         "title": {
          "text": "Value"
         }
        },
        "yaxis4": {
         "anchor": "x4",
         "domain": [
          0.3666666666666667,
          0.6333333333333333
         ],
         "title": {
          "text": "Value"
         }
        },
        "yaxis5": {
         "anchor": "x5",
         "domain": [
          0,
          0.26666666666666666
         ],
         "title": {
          "text": "Value"
         }
        },
        "yaxis6": {
         "anchor": "x6",
         "domain": [
          0,
          0.26666666666666666
         ],
         "title": {
          "text": "Value"
         }
        }
       }
      }
     },
     "metadata": {},
     "output_type": "display_data"
    },
    {
     "name": "stdout",
     "output_type": "stream",
     "text": [
      "\n",
      "🧪 ADF Test Results:\n",
      "\n",
      "============================================================\n",
      "ADF Test Results for: Original (with seasonality)\n",
      "============================================================\n",
      "ADF Statistic: -0.455801\n",
      "p-value: 0.900357\n",
      "Critical Values:\n",
      "   1%: -3.440\n",
      "   5%: -2.866\n",
      "   10%: -2.569\n",
      "\n",
      "❌ Result: NON-STATIONARY (p-value = 0.900357 ≥ 0.05)\n",
      "   → Need to transform the data (detrend/deseasonalize/difference)\n",
      "\n",
      "============================================================\n",
      "ADF Test Results for: Deseasonalized\n",
      "============================================================\n",
      "ADF Statistic: 0.885491\n",
      "p-value: 0.992898\n",
      "Critical Values:\n",
      "   1%: -3.440\n",
      "   5%: -2.866\n",
      "   10%: -2.569\n",
      "\n",
      "❌ Result: NON-STATIONARY (p-value = 0.992898 ≥ 0.05)\n",
      "   → Need to transform the data (detrend/deseasonalize/difference)\n",
      "\n",
      "============================================================\n",
      "ADF Test Results for: Residuals (Trend + Seasonality removed)\n",
      "============================================================\n",
      "ADF Statistic: 0.440309\n",
      "p-value: 0.982941\n",
      "Critical Values:\n",
      "   1%: -3.449\n",
      "   5%: -2.870\n",
      "   10%: -2.571\n",
      "\n",
      "❌ Result: NON-STATIONARY (p-value = 0.982941 ≥ 0.05)\n",
      "   → Need to transform the data (detrend/deseasonalize/difference)\n"
     ]
    },
    {
     "data": {
      "text/plain": [
       "(np.float64(0.4403085391369915),\n",
       " np.float64(0.9829413408365367),\n",
       " 9,\n",
       " 356,\n",
       " {'1%': np.float64(-3.448853029339765),\n",
       "  '5%': np.float64(-2.869693115704379),\n",
       "  '10%': np.float64(-2.571113512498422)},\n",
       " np.float64(-561.6047800038236))"
      ]
     },
     "execution_count": 11,
     "metadata": {},
     "output_type": "execute_result"
    }
   ],
   "source": [
    "# ====================\n",
    "# 2. DESEASONALIZING\n",
    "# ====================\n",
    "\n",
    "from statsmodels.tsa.seasonal import seasonal_decompose\n",
    "\n",
    "# Create a series with strong seasonality\n",
    "np.random.seed(456)\n",
    "n = 365 * 2  # 2 years of daily data\n",
    "time = np.arange(n)\n",
    "\n",
    "# Components\n",
    "trend = 0.1 * time\n",
    "seasonality = 20 * np.sin(2 * np.pi * time / 365)  # Annual seasonality\n",
    "noise = np.random.normal(0, 3, n)\n",
    "series_with_seasonality = 100 + trend + seasonality + noise\n",
    "\n",
    "# METHOD 1: Using statsmodels seasonal_decompose\n",
    "decomposition = seasonal_decompose(series_with_seasonality, model='additive', period=365)\n",
    "\n",
    "# Extract components\n",
    "observed = decomposition.observed\n",
    "trend_component = decomposition.trend\n",
    "seasonal_component = decomposition.seasonal\n",
    "residual_component = decomposition.resid\n",
    "\n",
    "# Deseasonalized = Original - Seasonal component\n",
    "deseasonalized = series_with_seasonality - seasonal_component\n",
    "\n",
    "# Create comprehensive visualization\n",
    "fig = make_subplots(\n",
    "    rows=3, cols=2,\n",
    "    subplot_titles=('Original Series (with Seasonality)', \n",
    "                   'Deseasonalized Series',\n",
    "                   'Trend Component',\n",
    "                   'Seasonal Component',\n",
    "                   'Residual (Noise)',\n",
    "                   'Deseasonalized vs Original'),\n",
    "    vertical_spacing=0.10,\n",
    "    horizontal_spacing=0.12\n",
    ")\n",
    "\n",
    "# Original\n",
    "fig.add_trace(\n",
    "    go.Scatter(x=time, y=series_with_seasonality, mode='lines',\n",
    "               line=dict(color='red', width=1), name='Original'),\n",
    "    row=1, col=1\n",
    ")\n",
    "\n",
    "# Deseasonalized\n",
    "fig.add_trace(\n",
    "    go.Scatter(x=time, y=deseasonalized, mode='lines',\n",
    "               line=dict(color='green', width=1), name='Deseasonalized'),\n",
    "    row=1, col=2\n",
    ")\n",
    "\n",
    "# Trend\n",
    "fig.add_trace(\n",
    "    go.Scatter(x=time, y=trend_component, mode='lines',\n",
    "               line=dict(color='blue', width=2), name='Trend'),\n",
    "    row=2, col=1\n",
    ")\n",
    "\n",
    "# Seasonal\n",
    "fig.add_trace(\n",
    "    go.Scatter(x=time[:365], y=seasonal_component[:365], mode='lines',\n",
    "               line=dict(color='orange', width=2), name='Seasonal'),\n",
    "    row=2, col=2\n",
    ")\n",
    "\n",
    "# Residual\n",
    "fig.add_trace(\n",
    "    go.Scatter(x=time, y=residual_component, mode='lines',\n",
    "               line=dict(color='purple', width=0.5), name='Residual'),\n",
    "    row=3, col=1\n",
    ")\n",
    "fig.add_hline(y=0, line_dash=\"dash\", line_color=\"black\", row=3, col=1)\n",
    "\n",
    "# Comparison\n",
    "fig.add_trace(\n",
    "    go.Scatter(x=time, y=series_with_seasonality, mode='lines',\n",
    "               line=dict(color='red', width=1), name='Original',\n",
    "               opacity=0.5),\n",
    "    row=3, col=2\n",
    ")\n",
    "fig.add_trace(\n",
    "    go.Scatter(x=time, y=deseasonalized, mode='lines',\n",
    "               line=dict(color='green', width=1.5), name='Deseasonalized'),\n",
    "    row=3, col=2\n",
    ")\n",
    "\n",
    "# Update axes\n",
    "for i in range(1, 4):\n",
    "    for j in range(1, 3):\n",
    "        fig.update_xaxes(title_text=\"Time\", row=i, col=j)\n",
    "        fig.update_yaxes(title_text=\"Value\", row=i, col=j)\n",
    "\n",
    "fig.update_layout(\n",
    "    title_text='🌊 Seasonal Decomposition: Breaking Down the Components',\n",
    "    height=900,\n",
    "    showlegend=False,\n",
    "    template='plotly_white'\n",
    ")\n",
    "\n",
    "fig.show()\n",
    "\n",
    "# Test stationarity\n",
    "print(\"\\n🧪 ADF Test Results:\")\n",
    "adf_test(series_with_seasonality, 'Original (with seasonality)')\n",
    "adf_test(deseasonalized, 'Deseasonalized')\n",
    "\n",
    "# Also test on residuals (fully decomposed)\n",
    "# Remove NaN values from residuals first\n",
    "residual_clean = residual_component[~np.isnan(residual_component)]\n",
    "adf_test(residual_clean, 'Residuals (Trend + Seasonality removed)')\n"
   ]
  },
  {
   "cell_type": "markdown",
   "id": "60053f65",
   "metadata": {},
   "source": [
    "### 📝 Summary: Choosing the Right Transformation\n",
    "\n",
    "Here's a quick decision tree for making your data stationary:\n",
    "\n",
    "```\n",
    "START: Run ADF Test on your data\n",
    "   |\n",
    "   ├─ p-value < 0.05? ✅ STATIONARY → Proceed with modeling!\n",
    "   |\n",
    "   └─ p-value ≥ 0.05? ❌ NON-STATIONARY → Transform it:\n",
    "       |\n",
    "       ├─ Has TREND?\n",
    "       |   └─ Try: Detrending or Differencing\n",
    "       |\n",
    "       ├─ Has SEASONALITY?\n",
    "       |   └─ Try: Seasonal Decomposition (remove seasonal component)\n",
    "       |\n",
    "       ├─ Has BOTH?\n",
    "       |   └─ Try: 1) Deseasonalize first, 2) Then detrend/difference\n",
    "       |\n",
    "       └─ Has CHANGING VARIANCE (Heteroscedasticity)?\n",
    "           └─ Try: Log transform, then detrend/deseasonalize\n",
    "```\n",
    "\n",
    "**Common Approaches:**\n",
    "\n",
    "| Problem | Solution | When to Use |\n",
    "|---------|----------|-------------|\n",
    "| **Linear Trend** | First Differencing | Most common, simple |\n",
    "| **Polynomial Trend** | Polynomial Detrending | Curved trends |\n",
    "| **Seasonality** | `seasonal_decompose` | Regular seasonal patterns |\n",
    "| **Trend + Seasonality** | Decompose → Detrend | Both present |\n",
    "| **Changing Variance** | Log transform first | Heteroscedastic data |\n",
    "| **Unit Root** | Differencing (d=1 or d=2) | Random walk behavior |\n",
    "\n",
    "**Pro Tips:**\n",
    "- 🎯 **Always test with ADF after transformation** to verify stationarity\n",
    "- 🎯 **Start simple**: Try differencing first (it's used in ARIMA's \"I\" component)\n",
    "- 🎯 **Don't over-difference**: If d=1 makes it stationary, don't use d=2\n",
    "- 🎯 **Visual inspection helps**: Plot your data before and after transformation\n"
   ]
  },
  {
   "cell_type": "markdown",
   "id": "7608830e",
   "metadata": {},
   "source": [
    "### 🧑‍💻 Practice: Complete Workflow Example\n",
    "\n",
    "Let's put it all together with a realistic time series that has trend, seasonality, and noise!\n"
   ]
  },
  {
   "cell_type": "code",
   "execution_count": 12,
   "id": "f5e67937",
   "metadata": {},
   "outputs": [
    {
     "name": "stdout",
     "output_type": "stream",
     "text": [
      "📊 STEP-BY-STEP WORKFLOW FOR MAKING DATA STATIONARY\n",
      "======================================================================\n",
      "\n",
      "1️⃣  STEP 1: Visualize & Inspect Original Data\n"
     ]
    },
    {
     "data": {
      "application/vnd.plotly.v1+json": {
       "config": {
        "plotlyServerURL": "https://plot.ly"
       },
       "data": [
        {
         "line": {
          "color": "red",
          "width": 1
         },
         "mode": "lines",
         "name": "Original Sales Data",
         "type": "scatter",
         "x": [
          "2021-01-01T00:00:00.000000000",
          "2021-01-02T00:00:00.000000000",
          "2021-01-03T00:00:00.000000000",
          "2021-01-04T00:00:00.000000000",
          "2021-01-05T00:00:00.000000000",
          "2021-01-06T00:00:00.000000000",
          "2021-01-07T00:00:00.000000000",
          "2021-01-08T00:00:00.000000000",
          "2021-01-09T00:00:00.000000000",
          "2021-01-10T00:00:00.000000000",
          "2021-01-11T00:00:00.000000000",
          "2021-01-12T00:00:00.000000000",
          "2021-01-13T00:00:00.000000000",
          "2021-01-14T00:00:00.000000000",
          "2021-01-15T00:00:00.000000000",
          "2021-01-16T00:00:00.000000000",
          "2021-01-17T00:00:00.000000000",
          "2021-01-18T00:00:00.000000000",
          "2021-01-19T00:00:00.000000000",
          "2021-01-20T00:00:00.000000000",
          "2021-01-21T00:00:00.000000000",
          "2021-01-22T00:00:00.000000000",
          "2021-01-23T00:00:00.000000000",
          "2021-01-24T00:00:00.000000000",
          "2021-01-25T00:00:00.000000000",
          "2021-01-26T00:00:00.000000000",
          "2021-01-27T00:00:00.000000000",
          "2021-01-28T00:00:00.000000000",
          "2021-01-29T00:00:00.000000000",
          "2021-01-30T00:00:00.000000000",
          "2021-01-31T00:00:00.000000000",
          "2021-02-01T00:00:00.000000000",
          "2021-02-02T00:00:00.000000000",
          "2021-02-03T00:00:00.000000000",
          "2021-02-04T00:00:00.000000000",
          "2021-02-05T00:00:00.000000000",
          "2021-02-06T00:00:00.000000000",
          "2021-02-07T00:00:00.000000000",
          "2021-02-08T00:00:00.000000000",
          "2021-02-09T00:00:00.000000000",
          "2021-02-10T00:00:00.000000000",
          "2021-02-11T00:00:00.000000000",
          "2021-02-12T00:00:00.000000000",
          "2021-02-13T00:00:00.000000000",
          "2021-02-14T00:00:00.000000000",
          "2021-02-15T00:00:00.000000000",
          "2021-02-16T00:00:00.000000000",
          "2021-02-17T00:00:00.000000000",
          "2021-02-18T00:00:00.000000000",
          "2021-02-19T00:00:00.000000000",
          "2021-02-20T00:00:00.000000000",
          "2021-02-21T00:00:00.000000000",
          "2021-02-22T00:00:00.000000000",
          "2021-02-23T00:00:00.000000000",
          "2021-02-24T00:00:00.000000000",
          "2021-02-25T00:00:00.000000000",
          "2021-02-26T00:00:00.000000000",
          "2021-02-27T00:00:00.000000000",
          "2021-02-28T00:00:00.000000000",
          "2021-03-01T00:00:00.000000000",
          "2021-03-02T00:00:00.000000000",
          "2021-03-03T00:00:00.000000000",
          "2021-03-04T00:00:00.000000000",
          "2021-03-05T00:00:00.000000000",
          "2021-03-06T00:00:00.000000000",
          "2021-03-07T00:00:00.000000000",
          "2021-03-08T00:00:00.000000000",
          "2021-03-09T00:00:00.000000000",
          "2021-03-10T00:00:00.000000000",
          "2021-03-11T00:00:00.000000000",
          "2021-03-12T00:00:00.000000000",
          "2021-03-13T00:00:00.000000000",
          "2021-03-14T00:00:00.000000000",
          "2021-03-15T00:00:00.000000000",
          "2021-03-16T00:00:00.000000000",
          "2021-03-17T00:00:00.000000000",
          "2021-03-18T00:00:00.000000000",
          "2021-03-19T00:00:00.000000000",
          "2021-03-20T00:00:00.000000000",
          "2021-03-21T00:00:00.000000000",
          "2021-03-22T00:00:00.000000000",
          "2021-03-23T00:00:00.000000000",
          "2021-03-24T00:00:00.000000000",
          "2021-03-25T00:00:00.000000000",
          "2021-03-26T00:00:00.000000000",
          "2021-03-27T00:00:00.000000000",
          "2021-03-28T00:00:00.000000000",
          "2021-03-29T00:00:00.000000000",
          "2021-03-30T00:00:00.000000000",
          "2021-03-31T00:00:00.000000000",
          "2021-04-01T00:00:00.000000000",
          "2021-04-02T00:00:00.000000000",
          "2021-04-03T00:00:00.000000000",
          "2021-04-04T00:00:00.000000000",
          "2021-04-05T00:00:00.000000000",
          "2021-04-06T00:00:00.000000000",
          "2021-04-07T00:00:00.000000000",
          "2021-04-08T00:00:00.000000000",
          "2021-04-09T00:00:00.000000000",
          "2021-04-10T00:00:00.000000000",
          "2021-04-11T00:00:00.000000000",
          "2021-04-12T00:00:00.000000000",
          "2021-04-13T00:00:00.000000000",
          "2021-04-14T00:00:00.000000000",
          "2021-04-15T00:00:00.000000000",
          "2021-04-16T00:00:00.000000000",
          "2021-04-17T00:00:00.000000000",
          "2021-04-18T00:00:00.000000000",
          "2021-04-19T00:00:00.000000000",
          "2021-04-20T00:00:00.000000000",
          "2021-04-21T00:00:00.000000000",
          "2021-04-22T00:00:00.000000000",
          "2021-04-23T00:00:00.000000000",
          "2021-04-24T00:00:00.000000000",
          "2021-04-25T00:00:00.000000000",
          "2021-04-26T00:00:00.000000000",
          "2021-04-27T00:00:00.000000000",
          "2021-04-28T00:00:00.000000000",
          "2021-04-29T00:00:00.000000000",
          "2021-04-30T00:00:00.000000000",
          "2021-05-01T00:00:00.000000000",
          "2021-05-02T00:00:00.000000000",
          "2021-05-03T00:00:00.000000000",
          "2021-05-04T00:00:00.000000000",
          "2021-05-05T00:00:00.000000000",
          "2021-05-06T00:00:00.000000000",
          "2021-05-07T00:00:00.000000000",
          "2021-05-08T00:00:00.000000000",
          "2021-05-09T00:00:00.000000000",
          "2021-05-10T00:00:00.000000000",
          "2021-05-11T00:00:00.000000000",
          "2021-05-12T00:00:00.000000000",
          "2021-05-13T00:00:00.000000000",
          "2021-05-14T00:00:00.000000000",
          "2021-05-15T00:00:00.000000000",
          "2021-05-16T00:00:00.000000000",
          "2021-05-17T00:00:00.000000000",
          "2021-05-18T00:00:00.000000000",
          "2021-05-19T00:00:00.000000000",
          "2021-05-20T00:00:00.000000000",
          "2021-05-21T00:00:00.000000000",
          "2021-05-22T00:00:00.000000000",
          "2021-05-23T00:00:00.000000000",
          "2021-05-24T00:00:00.000000000",
          "2021-05-25T00:00:00.000000000",
          "2021-05-26T00:00:00.000000000",
          "2021-05-27T00:00:00.000000000",
          "2021-05-28T00:00:00.000000000",
          "2021-05-29T00:00:00.000000000",
          "2021-05-30T00:00:00.000000000",
          "2021-05-31T00:00:00.000000000",
          "2021-06-01T00:00:00.000000000",
          "2021-06-02T00:00:00.000000000",
          "2021-06-03T00:00:00.000000000",
          "2021-06-04T00:00:00.000000000",
          "2021-06-05T00:00:00.000000000",
          "2021-06-06T00:00:00.000000000",
          "2021-06-07T00:00:00.000000000",
          "2021-06-08T00:00:00.000000000",
          "2021-06-09T00:00:00.000000000",
          "2021-06-10T00:00:00.000000000",
          "2021-06-11T00:00:00.000000000",
          "2021-06-12T00:00:00.000000000",
          "2021-06-13T00:00:00.000000000",
          "2021-06-14T00:00:00.000000000",
          "2021-06-15T00:00:00.000000000",
          "2021-06-16T00:00:00.000000000",
          "2021-06-17T00:00:00.000000000",
          "2021-06-18T00:00:00.000000000",
          "2021-06-19T00:00:00.000000000",
          "2021-06-20T00:00:00.000000000",
          "2021-06-21T00:00:00.000000000",
          "2021-06-22T00:00:00.000000000",
          "2021-06-23T00:00:00.000000000",
          "2021-06-24T00:00:00.000000000",
          "2021-06-25T00:00:00.000000000",
          "2021-06-26T00:00:00.000000000",
          "2021-06-27T00:00:00.000000000",
          "2021-06-28T00:00:00.000000000",
          "2021-06-29T00:00:00.000000000",
          "2021-06-30T00:00:00.000000000",
          "2021-07-01T00:00:00.000000000",
          "2021-07-02T00:00:00.000000000",
          "2021-07-03T00:00:00.000000000",
          "2021-07-04T00:00:00.000000000",
          "2021-07-05T00:00:00.000000000",
          "2021-07-06T00:00:00.000000000",
          "2021-07-07T00:00:00.000000000",
          "2021-07-08T00:00:00.000000000",
          "2021-07-09T00:00:00.000000000",
          "2021-07-10T00:00:00.000000000",
          "2021-07-11T00:00:00.000000000",
          "2021-07-12T00:00:00.000000000",
          "2021-07-13T00:00:00.000000000",
          "2021-07-14T00:00:00.000000000",
          "2021-07-15T00:00:00.000000000",
          "2021-07-16T00:00:00.000000000",
          "2021-07-17T00:00:00.000000000",
          "2021-07-18T00:00:00.000000000",
          "2021-07-19T00:00:00.000000000",
          "2021-07-20T00:00:00.000000000",
          "2021-07-21T00:00:00.000000000",
          "2021-07-22T00:00:00.000000000",
          "2021-07-23T00:00:00.000000000",
          "2021-07-24T00:00:00.000000000",
          "2021-07-25T00:00:00.000000000",
          "2021-07-26T00:00:00.000000000",
          "2021-07-27T00:00:00.000000000",
          "2021-07-28T00:00:00.000000000",
          "2021-07-29T00:00:00.000000000",
          "2021-07-30T00:00:00.000000000",
          "2021-07-31T00:00:00.000000000",
          "2021-08-01T00:00:00.000000000",
          "2021-08-02T00:00:00.000000000",
          "2021-08-03T00:00:00.000000000",
          "2021-08-04T00:00:00.000000000",
          "2021-08-05T00:00:00.000000000",
          "2021-08-06T00:00:00.000000000",
          "2021-08-07T00:00:00.000000000",
          "2021-08-08T00:00:00.000000000",
          "2021-08-09T00:00:00.000000000",
          "2021-08-10T00:00:00.000000000",
          "2021-08-11T00:00:00.000000000",
          "2021-08-12T00:00:00.000000000",
          "2021-08-13T00:00:00.000000000",
          "2021-08-14T00:00:00.000000000",
          "2021-08-15T00:00:00.000000000",
          "2021-08-16T00:00:00.000000000",
          "2021-08-17T00:00:00.000000000",
          "2021-08-18T00:00:00.000000000",
          "2021-08-19T00:00:00.000000000",
          "2021-08-20T00:00:00.000000000",
          "2021-08-21T00:00:00.000000000",
          "2021-08-22T00:00:00.000000000",
          "2021-08-23T00:00:00.000000000",
          "2021-08-24T00:00:00.000000000",
          "2021-08-25T00:00:00.000000000",
          "2021-08-26T00:00:00.000000000",
          "2021-08-27T00:00:00.000000000",
          "2021-08-28T00:00:00.000000000",
          "2021-08-29T00:00:00.000000000",
          "2021-08-30T00:00:00.000000000",
          "2021-08-31T00:00:00.000000000",
          "2021-09-01T00:00:00.000000000",
          "2021-09-02T00:00:00.000000000",
          "2021-09-03T00:00:00.000000000",
          "2021-09-04T00:00:00.000000000",
          "2021-09-05T00:00:00.000000000",
          "2021-09-06T00:00:00.000000000",
          "2021-09-07T00:00:00.000000000",
          "2021-09-08T00:00:00.000000000",
          "2021-09-09T00:00:00.000000000",
          "2021-09-10T00:00:00.000000000",
          "2021-09-11T00:00:00.000000000",
          "2021-09-12T00:00:00.000000000",
          "2021-09-13T00:00:00.000000000",
          "2021-09-14T00:00:00.000000000",
          "2021-09-15T00:00:00.000000000",
          "2021-09-16T00:00:00.000000000",
          "2021-09-17T00:00:00.000000000",
          "2021-09-18T00:00:00.000000000",
          "2021-09-19T00:00:00.000000000",
          "2021-09-20T00:00:00.000000000",
          "2021-09-21T00:00:00.000000000",
          "2021-09-22T00:00:00.000000000",
          "2021-09-23T00:00:00.000000000",
          "2021-09-24T00:00:00.000000000",
          "2021-09-25T00:00:00.000000000",
          "2021-09-26T00:00:00.000000000",
          "2021-09-27T00:00:00.000000000",
          "2021-09-28T00:00:00.000000000",
          "2021-09-29T00:00:00.000000000",
          "2021-09-30T00:00:00.000000000",
          "2021-10-01T00:00:00.000000000",
          "2021-10-02T00:00:00.000000000",
          "2021-10-03T00:00:00.000000000",
          "2021-10-04T00:00:00.000000000",
          "2021-10-05T00:00:00.000000000",
          "2021-10-06T00:00:00.000000000",
          "2021-10-07T00:00:00.000000000",
          "2021-10-08T00:00:00.000000000",
          "2021-10-09T00:00:00.000000000",
          "2021-10-10T00:00:00.000000000",
          "2021-10-11T00:00:00.000000000",
          "2021-10-12T00:00:00.000000000",
          "2021-10-13T00:00:00.000000000",
          "2021-10-14T00:00:00.000000000",
          "2021-10-15T00:00:00.000000000",
          "2021-10-16T00:00:00.000000000",
          "2021-10-17T00:00:00.000000000",
          "2021-10-18T00:00:00.000000000",
          "2021-10-19T00:00:00.000000000",
          "2021-10-20T00:00:00.000000000",
          "2021-10-21T00:00:00.000000000",
          "2021-10-22T00:00:00.000000000",
          "2021-10-23T00:00:00.000000000",
          "2021-10-24T00:00:00.000000000",
          "2021-10-25T00:00:00.000000000",
          "2021-10-26T00:00:00.000000000",
          "2021-10-27T00:00:00.000000000",
          "2021-10-28T00:00:00.000000000",
          "2021-10-29T00:00:00.000000000",
          "2021-10-30T00:00:00.000000000",
          "2021-10-31T00:00:00.000000000",
          "2021-11-01T00:00:00.000000000",
          "2021-11-02T00:00:00.000000000",
          "2021-11-03T00:00:00.000000000",
          "2021-11-04T00:00:00.000000000",
          "2021-11-05T00:00:00.000000000",
          "2021-11-06T00:00:00.000000000",
          "2021-11-07T00:00:00.000000000",
          "2021-11-08T00:00:00.000000000",
          "2021-11-09T00:00:00.000000000",
          "2021-11-10T00:00:00.000000000",
          "2021-11-11T00:00:00.000000000",
          "2021-11-12T00:00:00.000000000",
          "2021-11-13T00:00:00.000000000",
          "2021-11-14T00:00:00.000000000",
          "2021-11-15T00:00:00.000000000",
          "2021-11-16T00:00:00.000000000",
          "2021-11-17T00:00:00.000000000",
          "2021-11-18T00:00:00.000000000",
          "2021-11-19T00:00:00.000000000",
          "2021-11-20T00:00:00.000000000",
          "2021-11-21T00:00:00.000000000",
          "2021-11-22T00:00:00.000000000",
          "2021-11-23T00:00:00.000000000",
          "2021-11-24T00:00:00.000000000",
          "2021-11-25T00:00:00.000000000",
          "2021-11-26T00:00:00.000000000",
          "2021-11-27T00:00:00.000000000",
          "2021-11-28T00:00:00.000000000",
          "2021-11-29T00:00:00.000000000",
          "2021-11-30T00:00:00.000000000",
          "2021-12-01T00:00:00.000000000",
          "2021-12-02T00:00:00.000000000",
          "2021-12-03T00:00:00.000000000",
          "2021-12-04T00:00:00.000000000",
          "2021-12-05T00:00:00.000000000",
          "2021-12-06T00:00:00.000000000",
          "2021-12-07T00:00:00.000000000",
          "2021-12-08T00:00:00.000000000",
          "2021-12-09T00:00:00.000000000",
          "2021-12-10T00:00:00.000000000",
          "2021-12-11T00:00:00.000000000",
          "2021-12-12T00:00:00.000000000",
          "2021-12-13T00:00:00.000000000",
          "2021-12-14T00:00:00.000000000",
          "2021-12-15T00:00:00.000000000",
          "2021-12-16T00:00:00.000000000",
          "2021-12-17T00:00:00.000000000",
          "2021-12-18T00:00:00.000000000",
          "2021-12-19T00:00:00.000000000",
          "2021-12-20T00:00:00.000000000",
          "2021-12-21T00:00:00.000000000",
          "2021-12-22T00:00:00.000000000",
          "2021-12-23T00:00:00.000000000",
          "2021-12-24T00:00:00.000000000",
          "2021-12-25T00:00:00.000000000",
          "2021-12-26T00:00:00.000000000",
          "2021-12-27T00:00:00.000000000",
          "2021-12-28T00:00:00.000000000",
          "2021-12-29T00:00:00.000000000",
          "2021-12-30T00:00:00.000000000",
          "2021-12-31T00:00:00.000000000",
          "2022-01-01T00:00:00.000000000",
          "2022-01-02T00:00:00.000000000",
          "2022-01-03T00:00:00.000000000",
          "2022-01-04T00:00:00.000000000",
          "2022-01-05T00:00:00.000000000",
          "2022-01-06T00:00:00.000000000",
          "2022-01-07T00:00:00.000000000",
          "2022-01-08T00:00:00.000000000",
          "2022-01-09T00:00:00.000000000",
          "2022-01-10T00:00:00.000000000",
          "2022-01-11T00:00:00.000000000",
          "2022-01-12T00:00:00.000000000",
          "2022-01-13T00:00:00.000000000",
          "2022-01-14T00:00:00.000000000",
          "2022-01-15T00:00:00.000000000",
          "2022-01-16T00:00:00.000000000",
          "2022-01-17T00:00:00.000000000",
          "2022-01-18T00:00:00.000000000",
          "2022-01-19T00:00:00.000000000",
          "2022-01-20T00:00:00.000000000",
          "2022-01-21T00:00:00.000000000",
          "2022-01-22T00:00:00.000000000",
          "2022-01-23T00:00:00.000000000",
          "2022-01-24T00:00:00.000000000",
          "2022-01-25T00:00:00.000000000",
          "2022-01-26T00:00:00.000000000",
          "2022-01-27T00:00:00.000000000",
          "2022-01-28T00:00:00.000000000",
          "2022-01-29T00:00:00.000000000",
          "2022-01-30T00:00:00.000000000",
          "2022-01-31T00:00:00.000000000",
          "2022-02-01T00:00:00.000000000",
          "2022-02-02T00:00:00.000000000",
          "2022-02-03T00:00:00.000000000",
          "2022-02-04T00:00:00.000000000",
          "2022-02-05T00:00:00.000000000",
          "2022-02-06T00:00:00.000000000",
          "2022-02-07T00:00:00.000000000",
          "2022-02-08T00:00:00.000000000",
          "2022-02-09T00:00:00.000000000",
          "2022-02-10T00:00:00.000000000",
          "2022-02-11T00:00:00.000000000",
          "2022-02-12T00:00:00.000000000",
          "2022-02-13T00:00:00.000000000",
          "2022-02-14T00:00:00.000000000",
          "2022-02-15T00:00:00.000000000",
          "2022-02-16T00:00:00.000000000",
          "2022-02-17T00:00:00.000000000",
          "2022-02-18T00:00:00.000000000",
          "2022-02-19T00:00:00.000000000",
          "2022-02-20T00:00:00.000000000",
          "2022-02-21T00:00:00.000000000",
          "2022-02-22T00:00:00.000000000",
          "2022-02-23T00:00:00.000000000",
          "2022-02-24T00:00:00.000000000",
          "2022-02-25T00:00:00.000000000",
          "2022-02-26T00:00:00.000000000",
          "2022-02-27T00:00:00.000000000",
          "2022-02-28T00:00:00.000000000",
          "2022-03-01T00:00:00.000000000",
          "2022-03-02T00:00:00.000000000",
          "2022-03-03T00:00:00.000000000",
          "2022-03-04T00:00:00.000000000",
          "2022-03-05T00:00:00.000000000",
          "2022-03-06T00:00:00.000000000",
          "2022-03-07T00:00:00.000000000",
          "2022-03-08T00:00:00.000000000",
          "2022-03-09T00:00:00.000000000",
          "2022-03-10T00:00:00.000000000",
          "2022-03-11T00:00:00.000000000",
          "2022-03-12T00:00:00.000000000",
          "2022-03-13T00:00:00.000000000",
          "2022-03-14T00:00:00.000000000",
          "2022-03-15T00:00:00.000000000",
          "2022-03-16T00:00:00.000000000",
          "2022-03-17T00:00:00.000000000",
          "2022-03-18T00:00:00.000000000",
          "2022-03-19T00:00:00.000000000",
          "2022-03-20T00:00:00.000000000",
          "2022-03-21T00:00:00.000000000",
          "2022-03-22T00:00:00.000000000",
          "2022-03-23T00:00:00.000000000",
          "2022-03-24T00:00:00.000000000",
          "2022-03-25T00:00:00.000000000",
          "2022-03-26T00:00:00.000000000",
          "2022-03-27T00:00:00.000000000",
          "2022-03-28T00:00:00.000000000",
          "2022-03-29T00:00:00.000000000",
          "2022-03-30T00:00:00.000000000",
          "2022-03-31T00:00:00.000000000",
          "2022-04-01T00:00:00.000000000",
          "2022-04-02T00:00:00.000000000",
          "2022-04-03T00:00:00.000000000",
          "2022-04-04T00:00:00.000000000",
          "2022-04-05T00:00:00.000000000",
          "2022-04-06T00:00:00.000000000",
          "2022-04-07T00:00:00.000000000",
          "2022-04-08T00:00:00.000000000",
          "2022-04-09T00:00:00.000000000",
          "2022-04-10T00:00:00.000000000",
          "2022-04-11T00:00:00.000000000",
          "2022-04-12T00:00:00.000000000",
          "2022-04-13T00:00:00.000000000",
          "2022-04-14T00:00:00.000000000",
          "2022-04-15T00:00:00.000000000",
          "2022-04-16T00:00:00.000000000",
          "2022-04-17T00:00:00.000000000",
          "2022-04-18T00:00:00.000000000",
          "2022-04-19T00:00:00.000000000",
          "2022-04-20T00:00:00.000000000",
          "2022-04-21T00:00:00.000000000",
          "2022-04-22T00:00:00.000000000",
          "2022-04-23T00:00:00.000000000",
          "2022-04-24T00:00:00.000000000",
          "2022-04-25T00:00:00.000000000",
          "2022-04-26T00:00:00.000000000",
          "2022-04-27T00:00:00.000000000",
          "2022-04-28T00:00:00.000000000",
          "2022-04-29T00:00:00.000000000",
          "2022-04-30T00:00:00.000000000",
          "2022-05-01T00:00:00.000000000",
          "2022-05-02T00:00:00.000000000",
          "2022-05-03T00:00:00.000000000",
          "2022-05-04T00:00:00.000000000",
          "2022-05-05T00:00:00.000000000",
          "2022-05-06T00:00:00.000000000",
          "2022-05-07T00:00:00.000000000",
          "2022-05-08T00:00:00.000000000",
          "2022-05-09T00:00:00.000000000",
          "2022-05-10T00:00:00.000000000",
          "2022-05-11T00:00:00.000000000",
          "2022-05-12T00:00:00.000000000",
          "2022-05-13T00:00:00.000000000",
          "2022-05-14T00:00:00.000000000",
          "2022-05-15T00:00:00.000000000",
          "2022-05-16T00:00:00.000000000",
          "2022-05-17T00:00:00.000000000",
          "2022-05-18T00:00:00.000000000",
          "2022-05-19T00:00:00.000000000",
          "2022-05-20T00:00:00.000000000",
          "2022-05-21T00:00:00.000000000",
          "2022-05-22T00:00:00.000000000",
          "2022-05-23T00:00:00.000000000",
          "2022-05-24T00:00:00.000000000",
          "2022-05-25T00:00:00.000000000",
          "2022-05-26T00:00:00.000000000",
          "2022-05-27T00:00:00.000000000",
          "2022-05-28T00:00:00.000000000",
          "2022-05-29T00:00:00.000000000",
          "2022-05-30T00:00:00.000000000",
          "2022-05-31T00:00:00.000000000",
          "2022-06-01T00:00:00.000000000",
          "2022-06-02T00:00:00.000000000",
          "2022-06-03T00:00:00.000000000",
          "2022-06-04T00:00:00.000000000",
          "2022-06-05T00:00:00.000000000",
          "2022-06-06T00:00:00.000000000",
          "2022-06-07T00:00:00.000000000",
          "2022-06-08T00:00:00.000000000",
          "2022-06-09T00:00:00.000000000",
          "2022-06-10T00:00:00.000000000",
          "2022-06-11T00:00:00.000000000",
          "2022-06-12T00:00:00.000000000",
          "2022-06-13T00:00:00.000000000",
          "2022-06-14T00:00:00.000000000",
          "2022-06-15T00:00:00.000000000",
          "2022-06-16T00:00:00.000000000",
          "2022-06-17T00:00:00.000000000",
          "2022-06-18T00:00:00.000000000",
          "2022-06-19T00:00:00.000000000",
          "2022-06-20T00:00:00.000000000",
          "2022-06-21T00:00:00.000000000",
          "2022-06-22T00:00:00.000000000",
          "2022-06-23T00:00:00.000000000",
          "2022-06-24T00:00:00.000000000",
          "2022-06-25T00:00:00.000000000",
          "2022-06-26T00:00:00.000000000",
          "2022-06-27T00:00:00.000000000",
          "2022-06-28T00:00:00.000000000",
          "2022-06-29T00:00:00.000000000",
          "2022-06-30T00:00:00.000000000",
          "2022-07-01T00:00:00.000000000",
          "2022-07-02T00:00:00.000000000",
          "2022-07-03T00:00:00.000000000",
          "2022-07-04T00:00:00.000000000",
          "2022-07-05T00:00:00.000000000",
          "2022-07-06T00:00:00.000000000",
          "2022-07-07T00:00:00.000000000",
          "2022-07-08T00:00:00.000000000",
          "2022-07-09T00:00:00.000000000",
          "2022-07-10T00:00:00.000000000",
          "2022-07-11T00:00:00.000000000",
          "2022-07-12T00:00:00.000000000",
          "2022-07-13T00:00:00.000000000",
          "2022-07-14T00:00:00.000000000",
          "2022-07-15T00:00:00.000000000",
          "2022-07-16T00:00:00.000000000",
          "2022-07-17T00:00:00.000000000",
          "2022-07-18T00:00:00.000000000",
          "2022-07-19T00:00:00.000000000",
          "2022-07-20T00:00:00.000000000",
          "2022-07-21T00:00:00.000000000",
          "2022-07-22T00:00:00.000000000",
          "2022-07-23T00:00:00.000000000",
          "2022-07-24T00:00:00.000000000",
          "2022-07-25T00:00:00.000000000",
          "2022-07-26T00:00:00.000000000",
          "2022-07-27T00:00:00.000000000",
          "2022-07-28T00:00:00.000000000",
          "2022-07-29T00:00:00.000000000",
          "2022-07-30T00:00:00.000000000",
          "2022-07-31T00:00:00.000000000",
          "2022-08-01T00:00:00.000000000",
          "2022-08-02T00:00:00.000000000",
          "2022-08-03T00:00:00.000000000",
          "2022-08-04T00:00:00.000000000",
          "2022-08-05T00:00:00.000000000",
          "2022-08-06T00:00:00.000000000",
          "2022-08-07T00:00:00.000000000",
          "2022-08-08T00:00:00.000000000",
          "2022-08-09T00:00:00.000000000",
          "2022-08-10T00:00:00.000000000",
          "2022-08-11T00:00:00.000000000",
          "2022-08-12T00:00:00.000000000",
          "2022-08-13T00:00:00.000000000",
          "2022-08-14T00:00:00.000000000",
          "2022-08-15T00:00:00.000000000",
          "2022-08-16T00:00:00.000000000",
          "2022-08-17T00:00:00.000000000",
          "2022-08-18T00:00:00.000000000",
          "2022-08-19T00:00:00.000000000",
          "2022-08-20T00:00:00.000000000",
          "2022-08-21T00:00:00.000000000",
          "2022-08-22T00:00:00.000000000",
          "2022-08-23T00:00:00.000000000",
          "2022-08-24T00:00:00.000000000",
          "2022-08-25T00:00:00.000000000",
          "2022-08-26T00:00:00.000000000",
          "2022-08-27T00:00:00.000000000",
          "2022-08-28T00:00:00.000000000",
          "2022-08-29T00:00:00.000000000",
          "2022-08-30T00:00:00.000000000",
          "2022-08-31T00:00:00.000000000",
          "2022-09-01T00:00:00.000000000",
          "2022-09-02T00:00:00.000000000",
          "2022-09-03T00:00:00.000000000",
          "2022-09-04T00:00:00.000000000",
          "2022-09-05T00:00:00.000000000",
          "2022-09-06T00:00:00.000000000",
          "2022-09-07T00:00:00.000000000",
          "2022-09-08T00:00:00.000000000",
          "2022-09-09T00:00:00.000000000",
          "2022-09-10T00:00:00.000000000",
          "2022-09-11T00:00:00.000000000",
          "2022-09-12T00:00:00.000000000",
          "2022-09-13T00:00:00.000000000",
          "2022-09-14T00:00:00.000000000",
          "2022-09-15T00:00:00.000000000",
          "2022-09-16T00:00:00.000000000",
          "2022-09-17T00:00:00.000000000",
          "2022-09-18T00:00:00.000000000",
          "2022-09-19T00:00:00.000000000",
          "2022-09-20T00:00:00.000000000",
          "2022-09-21T00:00:00.000000000",
          "2022-09-22T00:00:00.000000000",
          "2022-09-23T00:00:00.000000000",
          "2022-09-24T00:00:00.000000000",
          "2022-09-25T00:00:00.000000000",
          "2022-09-26T00:00:00.000000000",
          "2022-09-27T00:00:00.000000000",
          "2022-09-28T00:00:00.000000000",
          "2022-09-29T00:00:00.000000000",
          "2022-09-30T00:00:00.000000000",
          "2022-10-01T00:00:00.000000000",
          "2022-10-02T00:00:00.000000000",
          "2022-10-03T00:00:00.000000000",
          "2022-10-04T00:00:00.000000000",
          "2022-10-05T00:00:00.000000000",
          "2022-10-06T00:00:00.000000000",
          "2022-10-07T00:00:00.000000000",
          "2022-10-08T00:00:00.000000000",
          "2022-10-09T00:00:00.000000000",
          "2022-10-10T00:00:00.000000000",
          "2022-10-11T00:00:00.000000000",
          "2022-10-12T00:00:00.000000000",
          "2022-10-13T00:00:00.000000000",
          "2022-10-14T00:00:00.000000000",
          "2022-10-15T00:00:00.000000000",
          "2022-10-16T00:00:00.000000000",
          "2022-10-17T00:00:00.000000000",
          "2022-10-18T00:00:00.000000000",
          "2022-10-19T00:00:00.000000000",
          "2022-10-20T00:00:00.000000000",
          "2022-10-21T00:00:00.000000000",
          "2022-10-22T00:00:00.000000000",
          "2022-10-23T00:00:00.000000000",
          "2022-10-24T00:00:00.000000000",
          "2022-10-25T00:00:00.000000000",
          "2022-10-26T00:00:00.000000000",
          "2022-10-27T00:00:00.000000000",
          "2022-10-28T00:00:00.000000000",
          "2022-10-29T00:00:00.000000000",
          "2022-10-30T00:00:00.000000000",
          "2022-10-31T00:00:00.000000000",
          "2022-11-01T00:00:00.000000000",
          "2022-11-02T00:00:00.000000000",
          "2022-11-03T00:00:00.000000000",
          "2022-11-04T00:00:00.000000000",
          "2022-11-05T00:00:00.000000000",
          "2022-11-06T00:00:00.000000000",
          "2022-11-07T00:00:00.000000000",
          "2022-11-08T00:00:00.000000000",
          "2022-11-09T00:00:00.000000000",
          "2022-11-10T00:00:00.000000000",
          "2022-11-11T00:00:00.000000000",
          "2022-11-12T00:00:00.000000000",
          "2022-11-13T00:00:00.000000000",
          "2022-11-14T00:00:00.000000000",
          "2022-11-15T00:00:00.000000000",
          "2022-11-16T00:00:00.000000000",
          "2022-11-17T00:00:00.000000000",
          "2022-11-18T00:00:00.000000000",
          "2022-11-19T00:00:00.000000000",
          "2022-11-20T00:00:00.000000000",
          "2022-11-21T00:00:00.000000000",
          "2022-11-22T00:00:00.000000000",
          "2022-11-23T00:00:00.000000000",
          "2022-11-24T00:00:00.000000000",
          "2022-11-25T00:00:00.000000000",
          "2022-11-26T00:00:00.000000000",
          "2022-11-27T00:00:00.000000000",
          "2022-11-28T00:00:00.000000000",
          "2022-11-29T00:00:00.000000000",
          "2022-11-30T00:00:00.000000000",
          "2022-12-01T00:00:00.000000000",
          "2022-12-02T00:00:00.000000000",
          "2022-12-03T00:00:00.000000000",
          "2022-12-04T00:00:00.000000000",
          "2022-12-05T00:00:00.000000000",
          "2022-12-06T00:00:00.000000000",
          "2022-12-07T00:00:00.000000000",
          "2022-12-08T00:00:00.000000000",
          "2022-12-09T00:00:00.000000000",
          "2022-12-10T00:00:00.000000000",
          "2022-12-11T00:00:00.000000000",
          "2022-12-12T00:00:00.000000000",
          "2022-12-13T00:00:00.000000000",
          "2022-12-14T00:00:00.000000000",
          "2022-12-15T00:00:00.000000000",
          "2022-12-16T00:00:00.000000000",
          "2022-12-17T00:00:00.000000000",
          "2022-12-18T00:00:00.000000000",
          "2022-12-19T00:00:00.000000000",
          "2022-12-20T00:00:00.000000000",
          "2022-12-21T00:00:00.000000000",
          "2022-12-22T00:00:00.000000000",
          "2022-12-23T00:00:00.000000000",
          "2022-12-24T00:00:00.000000000",
          "2022-12-25T00:00:00.000000000",
          "2022-12-26T00:00:00.000000000",
          "2022-12-27T00:00:00.000000000",
          "2022-12-28T00:00:00.000000000",
          "2022-12-29T00:00:00.000000000",
          "2022-12-30T00:00:00.000000000",
          "2022-12-31T00:00:00.000000000",
          "2023-01-01T00:00:00.000000000",
          "2023-01-02T00:00:00.000000000",
          "2023-01-03T00:00:00.000000000",
          "2023-01-04T00:00:00.000000000",
          "2023-01-05T00:00:00.000000000",
          "2023-01-06T00:00:00.000000000",
          "2023-01-07T00:00:00.000000000",
          "2023-01-08T00:00:00.000000000",
          "2023-01-09T00:00:00.000000000",
          "2023-01-10T00:00:00.000000000",
          "2023-01-11T00:00:00.000000000",
          "2023-01-12T00:00:00.000000000",
          "2023-01-13T00:00:00.000000000",
          "2023-01-14T00:00:00.000000000",
          "2023-01-15T00:00:00.000000000",
          "2023-01-16T00:00:00.000000000",
          "2023-01-17T00:00:00.000000000",
          "2023-01-18T00:00:00.000000000",
          "2023-01-19T00:00:00.000000000",
          "2023-01-20T00:00:00.000000000",
          "2023-01-21T00:00:00.000000000",
          "2023-01-22T00:00:00.000000000",
          "2023-01-23T00:00:00.000000000",
          "2023-01-24T00:00:00.000000000",
          "2023-01-25T00:00:00.000000000",
          "2023-01-26T00:00:00.000000000",
          "2023-01-27T00:00:00.000000000",
          "2023-01-28T00:00:00.000000000",
          "2023-01-29T00:00:00.000000000",
          "2023-01-30T00:00:00.000000000",
          "2023-01-31T00:00:00.000000000",
          "2023-02-01T00:00:00.000000000",
          "2023-02-02T00:00:00.000000000",
          "2023-02-03T00:00:00.000000000",
          "2023-02-04T00:00:00.000000000",
          "2023-02-05T00:00:00.000000000",
          "2023-02-06T00:00:00.000000000",
          "2023-02-07T00:00:00.000000000",
          "2023-02-08T00:00:00.000000000",
          "2023-02-09T00:00:00.000000000",
          "2023-02-10T00:00:00.000000000",
          "2023-02-11T00:00:00.000000000",
          "2023-02-12T00:00:00.000000000",
          "2023-02-13T00:00:00.000000000",
          "2023-02-14T00:00:00.000000000",
          "2023-02-15T00:00:00.000000000",
          "2023-02-16T00:00:00.000000000",
          "2023-02-17T00:00:00.000000000",
          "2023-02-18T00:00:00.000000000",
          "2023-02-19T00:00:00.000000000",
          "2023-02-20T00:00:00.000000000",
          "2023-02-21T00:00:00.000000000",
          "2023-02-22T00:00:00.000000000",
          "2023-02-23T00:00:00.000000000",
          "2023-02-24T00:00:00.000000000",
          "2023-02-25T00:00:00.000000000",
          "2023-02-26T00:00:00.000000000",
          "2023-02-27T00:00:00.000000000",
          "2023-02-28T00:00:00.000000000",
          "2023-03-01T00:00:00.000000000",
          "2023-03-02T00:00:00.000000000",
          "2023-03-03T00:00:00.000000000",
          "2023-03-04T00:00:00.000000000",
          "2023-03-05T00:00:00.000000000",
          "2023-03-06T00:00:00.000000000",
          "2023-03-07T00:00:00.000000000",
          "2023-03-08T00:00:00.000000000",
          "2023-03-09T00:00:00.000000000",
          "2023-03-10T00:00:00.000000000",
          "2023-03-11T00:00:00.000000000",
          "2023-03-12T00:00:00.000000000",
          "2023-03-13T00:00:00.000000000",
          "2023-03-14T00:00:00.000000000",
          "2023-03-15T00:00:00.000000000",
          "2023-03-16T00:00:00.000000000",
          "2023-03-17T00:00:00.000000000",
          "2023-03-18T00:00:00.000000000",
          "2023-03-19T00:00:00.000000000",
          "2023-03-20T00:00:00.000000000",
          "2023-03-21T00:00:00.000000000",
          "2023-03-22T00:00:00.000000000",
          "2023-03-23T00:00:00.000000000",
          "2023-03-24T00:00:00.000000000",
          "2023-03-25T00:00:00.000000000",
          "2023-03-26T00:00:00.000000000",
          "2023-03-27T00:00:00.000000000",
          "2023-03-28T00:00:00.000000000",
          "2023-03-29T00:00:00.000000000",
          "2023-03-30T00:00:00.000000000",
          "2023-03-31T00:00:00.000000000",
          "2023-04-01T00:00:00.000000000",
          "2023-04-02T00:00:00.000000000",
          "2023-04-03T00:00:00.000000000",
          "2023-04-04T00:00:00.000000000",
          "2023-04-05T00:00:00.000000000",
          "2023-04-06T00:00:00.000000000",
          "2023-04-07T00:00:00.000000000",
          "2023-04-08T00:00:00.000000000",
          "2023-04-09T00:00:00.000000000",
          "2023-04-10T00:00:00.000000000",
          "2023-04-11T00:00:00.000000000",
          "2023-04-12T00:00:00.000000000",
          "2023-04-13T00:00:00.000000000",
          "2023-04-14T00:00:00.000000000",
          "2023-04-15T00:00:00.000000000",
          "2023-04-16T00:00:00.000000000",
          "2023-04-17T00:00:00.000000000",
          "2023-04-18T00:00:00.000000000",
          "2023-04-19T00:00:00.000000000",
          "2023-04-20T00:00:00.000000000",
          "2023-04-21T00:00:00.000000000",
          "2023-04-22T00:00:00.000000000",
          "2023-04-23T00:00:00.000000000",
          "2023-04-24T00:00:00.000000000",
          "2023-04-25T00:00:00.000000000",
          "2023-04-26T00:00:00.000000000",
          "2023-04-27T00:00:00.000000000",
          "2023-04-28T00:00:00.000000000",
          "2023-04-29T00:00:00.000000000",
          "2023-04-30T00:00:00.000000000",
          "2023-05-01T00:00:00.000000000",
          "2023-05-02T00:00:00.000000000",
          "2023-05-03T00:00:00.000000000",
          "2023-05-04T00:00:00.000000000",
          "2023-05-05T00:00:00.000000000",
          "2023-05-06T00:00:00.000000000",
          "2023-05-07T00:00:00.000000000",
          "2023-05-08T00:00:00.000000000",
          "2023-05-09T00:00:00.000000000",
          "2023-05-10T00:00:00.000000000",
          "2023-05-11T00:00:00.000000000",
          "2023-05-12T00:00:00.000000000",
          "2023-05-13T00:00:00.000000000",
          "2023-05-14T00:00:00.000000000",
          "2023-05-15T00:00:00.000000000",
          "2023-05-16T00:00:00.000000000",
          "2023-05-17T00:00:00.000000000",
          "2023-05-18T00:00:00.000000000",
          "2023-05-19T00:00:00.000000000",
          "2023-05-20T00:00:00.000000000",
          "2023-05-21T00:00:00.000000000",
          "2023-05-22T00:00:00.000000000",
          "2023-05-23T00:00:00.000000000",
          "2023-05-24T00:00:00.000000000",
          "2023-05-25T00:00:00.000000000",
          "2023-05-26T00:00:00.000000000",
          "2023-05-27T00:00:00.000000000",
          "2023-05-28T00:00:00.000000000",
          "2023-05-29T00:00:00.000000000",
          "2023-05-30T00:00:00.000000000",
          "2023-05-31T00:00:00.000000000",
          "2023-06-01T00:00:00.000000000",
          "2023-06-02T00:00:00.000000000",
          "2023-06-03T00:00:00.000000000",
          "2023-06-04T00:00:00.000000000",
          "2023-06-05T00:00:00.000000000",
          "2023-06-06T00:00:00.000000000",
          "2023-06-07T00:00:00.000000000",
          "2023-06-08T00:00:00.000000000",
          "2023-06-09T00:00:00.000000000",
          "2023-06-10T00:00:00.000000000",
          "2023-06-11T00:00:00.000000000",
          "2023-06-12T00:00:00.000000000",
          "2023-06-13T00:00:00.000000000",
          "2023-06-14T00:00:00.000000000",
          "2023-06-15T00:00:00.000000000",
          "2023-06-16T00:00:00.000000000",
          "2023-06-17T00:00:00.000000000",
          "2023-06-18T00:00:00.000000000",
          "2023-06-19T00:00:00.000000000",
          "2023-06-20T00:00:00.000000000",
          "2023-06-21T00:00:00.000000000",
          "2023-06-22T00:00:00.000000000",
          "2023-06-23T00:00:00.000000000",
          "2023-06-24T00:00:00.000000000",
          "2023-06-25T00:00:00.000000000",
          "2023-06-26T00:00:00.000000000",
          "2023-06-27T00:00:00.000000000",
          "2023-06-28T00:00:00.000000000",
          "2023-06-29T00:00:00.000000000",
          "2023-06-30T00:00:00.000000000",
          "2023-07-01T00:00:00.000000000",
          "2023-07-02T00:00:00.000000000",
          "2023-07-03T00:00:00.000000000",
          "2023-07-04T00:00:00.000000000",
          "2023-07-05T00:00:00.000000000",
          "2023-07-06T00:00:00.000000000",
          "2023-07-07T00:00:00.000000000",
          "2023-07-08T00:00:00.000000000",
          "2023-07-09T00:00:00.000000000",
          "2023-07-10T00:00:00.000000000",
          "2023-07-11T00:00:00.000000000",
          "2023-07-12T00:00:00.000000000",
          "2023-07-13T00:00:00.000000000",
          "2023-07-14T00:00:00.000000000",
          "2023-07-15T00:00:00.000000000",
          "2023-07-16T00:00:00.000000000",
          "2023-07-17T00:00:00.000000000",
          "2023-07-18T00:00:00.000000000",
          "2023-07-19T00:00:00.000000000",
          "2023-07-20T00:00:00.000000000",
          "2023-07-21T00:00:00.000000000",
          "2023-07-22T00:00:00.000000000",
          "2023-07-23T00:00:00.000000000",
          "2023-07-24T00:00:00.000000000",
          "2023-07-25T00:00:00.000000000",
          "2023-07-26T00:00:00.000000000",
          "2023-07-27T00:00:00.000000000",
          "2023-07-28T00:00:00.000000000",
          "2023-07-29T00:00:00.000000000",
          "2023-07-30T00:00:00.000000000",
          "2023-07-31T00:00:00.000000000",
          "2023-08-01T00:00:00.000000000",
          "2023-08-02T00:00:00.000000000",
          "2023-08-03T00:00:00.000000000",
          "2023-08-04T00:00:00.000000000",
          "2023-08-05T00:00:00.000000000",
          "2023-08-06T00:00:00.000000000",
          "2023-08-07T00:00:00.000000000",
          "2023-08-08T00:00:00.000000000",
          "2023-08-09T00:00:00.000000000",
          "2023-08-10T00:00:00.000000000",
          "2023-08-11T00:00:00.000000000",
          "2023-08-12T00:00:00.000000000",
          "2023-08-13T00:00:00.000000000",
          "2023-08-14T00:00:00.000000000",
          "2023-08-15T00:00:00.000000000",
          "2023-08-16T00:00:00.000000000",
          "2023-08-17T00:00:00.000000000",
          "2023-08-18T00:00:00.000000000",
          "2023-08-19T00:00:00.000000000",
          "2023-08-20T00:00:00.000000000",
          "2023-08-21T00:00:00.000000000",
          "2023-08-22T00:00:00.000000000",
          "2023-08-23T00:00:00.000000000",
          "2023-08-24T00:00:00.000000000",
          "2023-08-25T00:00:00.000000000",
          "2023-08-26T00:00:00.000000000",
          "2023-08-27T00:00:00.000000000",
          "2023-08-28T00:00:00.000000000",
          "2023-08-29T00:00:00.000000000",
          "2023-08-30T00:00:00.000000000",
          "2023-08-31T00:00:00.000000000",
          "2023-09-01T00:00:00.000000000",
          "2023-09-02T00:00:00.000000000",
          "2023-09-03T00:00:00.000000000",
          "2023-09-04T00:00:00.000000000",
          "2023-09-05T00:00:00.000000000",
          "2023-09-06T00:00:00.000000000",
          "2023-09-07T00:00:00.000000000",
          "2023-09-08T00:00:00.000000000",
          "2023-09-09T00:00:00.000000000",
          "2023-09-10T00:00:00.000000000",
          "2023-09-11T00:00:00.000000000",
          "2023-09-12T00:00:00.000000000",
          "2023-09-13T00:00:00.000000000",
          "2023-09-14T00:00:00.000000000",
          "2023-09-15T00:00:00.000000000",
          "2023-09-16T00:00:00.000000000",
          "2023-09-17T00:00:00.000000000",
          "2023-09-18T00:00:00.000000000",
          "2023-09-19T00:00:00.000000000",
          "2023-09-20T00:00:00.000000000",
          "2023-09-21T00:00:00.000000000",
          "2023-09-22T00:00:00.000000000",
          "2023-09-23T00:00:00.000000000",
          "2023-09-24T00:00:00.000000000",
          "2023-09-25T00:00:00.000000000",
          "2023-09-26T00:00:00.000000000",
          "2023-09-27T00:00:00.000000000",
          "2023-09-28T00:00:00.000000000",
          "2023-09-29T00:00:00.000000000",
          "2023-09-30T00:00:00.000000000",
          "2023-10-01T00:00:00.000000000",
          "2023-10-02T00:00:00.000000000",
          "2023-10-03T00:00:00.000000000",
          "2023-10-04T00:00:00.000000000",
          "2023-10-05T00:00:00.000000000",
          "2023-10-06T00:00:00.000000000",
          "2023-10-07T00:00:00.000000000",
          "2023-10-08T00:00:00.000000000",
          "2023-10-09T00:00:00.000000000",
          "2023-10-10T00:00:00.000000000",
          "2023-10-11T00:00:00.000000000",
          "2023-10-12T00:00:00.000000000",
          "2023-10-13T00:00:00.000000000",
          "2023-10-14T00:00:00.000000000",
          "2023-10-15T00:00:00.000000000",
          "2023-10-16T00:00:00.000000000",
          "2023-10-17T00:00:00.000000000",
          "2023-10-18T00:00:00.000000000",
          "2023-10-19T00:00:00.000000000",
          "2023-10-20T00:00:00.000000000",
          "2023-10-21T00:00:00.000000000",
          "2023-10-22T00:00:00.000000000",
          "2023-10-23T00:00:00.000000000",
          "2023-10-24T00:00:00.000000000",
          "2023-10-25T00:00:00.000000000",
          "2023-10-26T00:00:00.000000000",
          "2023-10-27T00:00:00.000000000",
          "2023-10-28T00:00:00.000000000",
          "2023-10-29T00:00:00.000000000",
          "2023-10-30T00:00:00.000000000",
          "2023-10-31T00:00:00.000000000",
          "2023-11-01T00:00:00.000000000",
          "2023-11-02T00:00:00.000000000",
          "2023-11-03T00:00:00.000000000",
          "2023-11-04T00:00:00.000000000",
          "2023-11-05T00:00:00.000000000",
          "2023-11-06T00:00:00.000000000",
          "2023-11-07T00:00:00.000000000",
          "2023-11-08T00:00:00.000000000",
          "2023-11-09T00:00:00.000000000",
          "2023-11-10T00:00:00.000000000",
          "2023-11-11T00:00:00.000000000",
          "2023-11-12T00:00:00.000000000",
          "2023-11-13T00:00:00.000000000",
          "2023-11-14T00:00:00.000000000",
          "2023-11-15T00:00:00.000000000",
          "2023-11-16T00:00:00.000000000",
          "2023-11-17T00:00:00.000000000",
          "2023-11-18T00:00:00.000000000",
          "2023-11-19T00:00:00.000000000",
          "2023-11-20T00:00:00.000000000",
          "2023-11-21T00:00:00.000000000",
          "2023-11-22T00:00:00.000000000",
          "2023-11-23T00:00:00.000000000",
          "2023-11-24T00:00:00.000000000",
          "2023-11-25T00:00:00.000000000",
          "2023-11-26T00:00:00.000000000",
          "2023-11-27T00:00:00.000000000",
          "2023-11-28T00:00:00.000000000",
          "2023-11-29T00:00:00.000000000",
          "2023-11-30T00:00:00.000000000",
          "2023-12-01T00:00:00.000000000",
          "2023-12-02T00:00:00.000000000",
          "2023-12-03T00:00:00.000000000",
          "2023-12-04T00:00:00.000000000",
          "2023-12-05T00:00:00.000000000",
          "2023-12-06T00:00:00.000000000",
          "2023-12-07T00:00:00.000000000",
          "2023-12-08T00:00:00.000000000",
          "2023-12-09T00:00:00.000000000",
          "2023-12-10T00:00:00.000000000",
          "2023-12-11T00:00:00.000000000",
          "2023-12-12T00:00:00.000000000",
          "2023-12-13T00:00:00.000000000",
          "2023-12-14T00:00:00.000000000",
          "2023-12-15T00:00:00.000000000",
          "2023-12-16T00:00:00.000000000",
          "2023-12-17T00:00:00.000000000",
          "2023-12-18T00:00:00.000000000",
          "2023-12-19T00:00:00.000000000",
          "2023-12-20T00:00:00.000000000",
          "2023-12-21T00:00:00.000000000",
          "2023-12-22T00:00:00.000000000",
          "2023-12-23T00:00:00.000000000",
          "2023-12-24T00:00:00.000000000",
          "2023-12-25T00:00:00.000000000",
          "2023-12-26T00:00:00.000000000",
          "2023-12-27T00:00:00.000000000",
          "2023-12-28T00:00:00.000000000",
          "2023-12-29T00:00:00.000000000",
          "2023-12-30T00:00:00.000000000",
          "2023-12-31T00:00:00.000000000"
         ],
         "y": {
          "bdata": "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",
          "dtype": "f8"
         }
        }
       ],
       "layout": {
        "height": 400,
        "template": {
         "data": {
          "bar": [
           {
            "error_x": {
             "color": "#2a3f5f"
            },
            "error_y": {
             "color": "#2a3f5f"
            },
            "marker": {
             "line": {
              "color": "white",
              "width": 0.5
             },
             "pattern": {
              "fillmode": "overlay",
              "size": 10,
              "solidity": 0.2
             }
            },
            "type": "bar"
           }
          ],
          "barpolar": [
           {
            "marker": {
             "line": {
              "color": "white",
              "width": 0.5
             },
             "pattern": {
              "fillmode": "overlay",
              "size": 10,
              "solidity": 0.2
             }
            },
            "type": "barpolar"
           }
          ],
          "carpet": [
           {
            "aaxis": {
             "endlinecolor": "#2a3f5f",
             "gridcolor": "#C8D4E3",
             "linecolor": "#C8D4E3",
             "minorgridcolor": "#C8D4E3",
             "startlinecolor": "#2a3f5f"
            },
            "baxis": {
             "endlinecolor": "#2a3f5f",
             "gridcolor": "#C8D4E3",
             "linecolor": "#C8D4E3",
             "minorgridcolor": "#C8D4E3",
             "startlinecolor": "#2a3f5f"
            },
            "type": "carpet"
           }
          ],
          "choropleth": [
           {
            "colorbar": {
             "outlinewidth": 0,
             "ticks": ""
            },
            "type": "choropleth"
           }
          ],
          "contour": [
           {
            "colorbar": {
             "outlinewidth": 0,
             "ticks": ""
            },
            "colorscale": [
             [
              0,
              "#0d0887"
             ],
             [
              0.1111111111111111,
              "#46039f"
             ],
             [
              0.2222222222222222,
              "#7201a8"
             ],
             [
              0.3333333333333333,
              "#9c179e"
             ],
             [
              0.4444444444444444,
              "#bd3786"
             ],
             [
              0.5555555555555556,
              "#d8576b"
             ],
             [
              0.6666666666666666,
              "#ed7953"
             ],
             [
              0.7777777777777778,
              "#fb9f3a"
             ],
             [
              0.8888888888888888,
              "#fdca26"
             ],
             [
              1,
              "#f0f921"
             ]
            ],
            "type": "contour"
           }
          ],
          "contourcarpet": [
           {
            "colorbar": {
             "outlinewidth": 0,
             "ticks": ""
            },
            "type": "contourcarpet"
           }
          ],
          "heatmap": [
           {
            "colorbar": {
             "outlinewidth": 0,
             "ticks": ""
            },
            "colorscale": [
             [
              0,
              "#0d0887"
             ],
             [
              0.1111111111111111,
              "#46039f"
             ],
             [
              0.2222222222222222,
              "#7201a8"
             ],
             [
              0.3333333333333333,
              "#9c179e"
             ],
             [
              0.4444444444444444,
              "#bd3786"
             ],
             [
              0.5555555555555556,
              "#d8576b"
             ],
             [
              0.6666666666666666,
              "#ed7953"
             ],
             [
              0.7777777777777778,
              "#fb9f3a"
             ],
             [
              0.8888888888888888,
              "#fdca26"
             ],
             [
              1,
              "#f0f921"
             ]
            ],
            "type": "heatmap"
           }
          ],
          "histogram": [
           {
            "marker": {
             "pattern": {
              "fillmode": "overlay",
              "size": 10,
              "solidity": 0.2
             }
            },
            "type": "histogram"
           }
          ],
          "histogram2d": [
           {
            "colorbar": {
             "outlinewidth": 0,
             "ticks": ""
            },
            "colorscale": [
             [
              0,
              "#0d0887"
             ],
             [
              0.1111111111111111,
              "#46039f"
             ],
             [
              0.2222222222222222,
              "#7201a8"
             ],
             [
              0.3333333333333333,
              "#9c179e"
             ],
             [
              0.4444444444444444,
              "#bd3786"
             ],
             [
              0.5555555555555556,
              "#d8576b"
             ],
             [
              0.6666666666666666,
              "#ed7953"
             ],
             [
              0.7777777777777778,
              "#fb9f3a"
             ],
             [
              0.8888888888888888,
              "#fdca26"
             ],
             [
              1,
              "#f0f921"
             ]
            ],
            "type": "histogram2d"
           }
          ],
          "histogram2dcontour": [
           {
            "colorbar": {
             "outlinewidth": 0,
             "ticks": ""
            },
            "colorscale": [
             [
              0,
              "#0d0887"
             ],
             [
              0.1111111111111111,
              "#46039f"
             ],
             [
              0.2222222222222222,
              "#7201a8"
             ],
             [
              0.3333333333333333,
              "#9c179e"
             ],
             [
              0.4444444444444444,
              "#bd3786"
             ],
             [
              0.5555555555555556,
              "#d8576b"
             ],
             [
              0.6666666666666666,
              "#ed7953"
             ],
             [
              0.7777777777777778,
              "#fb9f3a"
             ],
             [
              0.8888888888888888,
              "#fdca26"
             ],
             [
              1,
              "#f0f921"
             ]
            ],
            "type": "histogram2dcontour"
           }
          ],
          "mesh3d": [
           {
            "colorbar": {
             "outlinewidth": 0,
             "ticks": ""
            },
            "type": "mesh3d"
           }
          ],
          "parcoords": [
           {
            "line": {
             "colorbar": {
              "outlinewidth": 0,
              "ticks": ""
             }
            },
            "type": "parcoords"
           }
          ],
          "pie": [
           {
            "automargin": true,
            "type": "pie"
           }
          ],
          "scatter": [
           {
            "fillpattern": {
             "fillmode": "overlay",
             "size": 10,
             "solidity": 0.2
            },
            "type": "scatter"
           }
          ],
          "scatter3d": [
           {
            "line": {
             "colorbar": {
              "outlinewidth": 0,
              "ticks": ""
             }
            },
            "marker": {
             "colorbar": {
              "outlinewidth": 0,
              "ticks": ""
             }
            },
            "type": "scatter3d"
           }
          ],
          "scattercarpet": [
           {
            "marker": {
             "colorbar": {
              "outlinewidth": 0,
              "ticks": ""
             }
            },
            "type": "scattercarpet"
           }
          ],
          "scattergeo": [
           {
            "marker": {
             "colorbar": {
              "outlinewidth": 0,
              "ticks": ""
             }
            },
            "type": "scattergeo"
           }
          ],
          "scattergl": [
           {
            "marker": {
             "colorbar": {
              "outlinewidth": 0,
              "ticks": ""
             }
            },
            "type": "scattergl"
           }
          ],
          "scattermap": [
           {
            "marker": {
             "colorbar": {
              "outlinewidth": 0,
              "ticks": ""
             }
            },
            "type": "scattermap"
           }
          ],
          "scattermapbox": [
           {
            "marker": {
             "colorbar": {
              "outlinewidth": 0,
              "ticks": ""
             }
            },
            "type": "scattermapbox"
           }
          ],
          "scatterpolar": [
           {
            "marker": {
             "colorbar": {
              "outlinewidth": 0,
              "ticks": ""
             }
            },
            "type": "scatterpolar"
           }
          ],
          "scatterpolargl": [
           {
            "marker": {
             "colorbar": {
              "outlinewidth": 0,
              "ticks": ""
             }
            },
            "type": "scatterpolargl"
           }
          ],
          "scatterternary": [
           {
            "marker": {
             "colorbar": {
              "outlinewidth": 0,
              "ticks": ""
             }
            },
            "type": "scatterternary"
           }
          ],
          "surface": [
           {
            "colorbar": {
             "outlinewidth": 0,
             "ticks": ""
            },
            "colorscale": [
             [
              0,
              "#0d0887"
             ],
             [
              0.1111111111111111,
              "#46039f"
             ],
             [
              0.2222222222222222,
              "#7201a8"
             ],
             [
              0.3333333333333333,
              "#9c179e"
             ],
             [
              0.4444444444444444,
              "#bd3786"
             ],
             [
              0.5555555555555556,
              "#d8576b"
             ],
             [
              0.6666666666666666,
              "#ed7953"
             ],
             [
              0.7777777777777778,
              "#fb9f3a"
             ],
             [
              0.8888888888888888,
              "#fdca26"
             ],
             [
              1,
              "#f0f921"
             ]
            ],
            "type": "surface"
           }
          ],
          "table": [
           {
            "cells": {
             "fill": {
              "color": "#EBF0F8"
             },
             "line": {
              "color": "white"
             }
            },
            "header": {
             "fill": {
              "color": "#C8D4E3"
             },
             "line": {
              "color": "white"
             }
            },
            "type": "table"
           }
          ]
         },
         "layout": {
          "annotationdefaults": {
           "arrowcolor": "#2a3f5f",
           "arrowhead": 0,
           "arrowwidth": 1
          },
          "autotypenumbers": "strict",
          "coloraxis": {
           "colorbar": {
            "outlinewidth": 0,
            "ticks": ""
           }
          },
          "colorscale": {
           "diverging": [
            [
             0,
             "#8e0152"
            ],
            [
             0.1,
             "#c51b7d"
            ],
            [
             0.2,
             "#de77ae"
            ],
            [
             0.3,
             "#f1b6da"
            ],
            [
             0.4,
             "#fde0ef"
            ],
            [
             0.5,
             "#f7f7f7"
            ],
            [
             0.6,
             "#e6f5d0"
            ],
            [
             0.7,
             "#b8e186"
            ],
            [
             0.8,
             "#7fbc41"
            ],
            [
             0.9,
             "#4d9221"
            ],
            [
             1,
             "#276419"
            ]
           ],
           "sequential": [
            [
             0,
             "#0d0887"
            ],
            [
             0.1111111111111111,
             "#46039f"
            ],
            [
             0.2222222222222222,
             "#7201a8"
            ],
            [
             0.3333333333333333,
             "#9c179e"
            ],
            [
             0.4444444444444444,
             "#bd3786"
            ],
            [
             0.5555555555555556,
             "#d8576b"
            ],
            [
             0.6666666666666666,
             "#ed7953"
            ],
            [
             0.7777777777777778,
             "#fb9f3a"
            ],
            [
             0.8888888888888888,
             "#fdca26"
            ],
            [
             1,
             "#f0f921"
            ]
           ],
           "sequentialminus": [
            [
             0,
             "#0d0887"
            ],
            [
             0.1111111111111111,
             "#46039f"
            ],
            [
             0.2222222222222222,
             "#7201a8"
            ],
            [
             0.3333333333333333,
             "#9c179e"
            ],
            [
             0.4444444444444444,
             "#bd3786"
            ],
            [
             0.5555555555555556,
             "#d8576b"
            ],
            [
             0.6666666666666666,
             "#ed7953"
            ],
            [
             0.7777777777777778,
             "#fb9f3a"
            ],
            [
             0.8888888888888888,
             "#fdca26"
            ],
            [
             1,
             "#f0f921"
            ]
           ]
          },
          "colorway": [
           "#636efa",
           "#EF553B",
           "#00cc96",
           "#ab63fa",
           "#FFA15A",
           "#19d3f3",
           "#FF6692",
           "#B6E880",
           "#FF97FF",
           "#FECB52"
          ],
          "font": {
           "color": "#2a3f5f"
          },
          "geo": {
           "bgcolor": "white",
           "lakecolor": "white",
           "landcolor": "white",
           "showlakes": true,
           "showland": true,
           "subunitcolor": "#C8D4E3"
          },
          "hoverlabel": {
           "align": "left"
          },
          "hovermode": "closest",
          "mapbox": {
           "style": "light"
          },
          "paper_bgcolor": "white",
          "plot_bgcolor": "white",
          "polar": {
           "angularaxis": {
            "gridcolor": "#EBF0F8",
            "linecolor": "#EBF0F8",
            "ticks": ""
           },
           "bgcolor": "white",
           "radialaxis": {
            "gridcolor": "#EBF0F8",
            "linecolor": "#EBF0F8",
            "ticks": ""
           }
          },
          "scene": {
           "xaxis": {
            "backgroundcolor": "white",
            "gridcolor": "#DFE8F3",
            "gridwidth": 2,
            "linecolor": "#EBF0F8",
            "showbackground": true,
            "ticks": "",
            "zerolinecolor": "#EBF0F8"
           },
           "yaxis": {
            "backgroundcolor": "white",
            "gridcolor": "#DFE8F3",
            "gridwidth": 2,
            "linecolor": "#EBF0F8",
            "showbackground": true,
            "ticks": "",
            "zerolinecolor": "#EBF0F8"
           },
           "zaxis": {
            "backgroundcolor": "white",
            "gridcolor": "#DFE8F3",
            "gridwidth": 2,
            "linecolor": "#EBF0F8",
            "showbackground": true,
            "ticks": "",
            "zerolinecolor": "#EBF0F8"
           }
          },
          "shapedefaults": {
           "line": {
            "color": "#2a3f5f"
           }
          },
          "ternary": {
           "aaxis": {
            "gridcolor": "#DFE8F3",
            "linecolor": "#A2B1C6",
            "ticks": ""
           },
           "baxis": {
            "gridcolor": "#DFE8F3",
            "linecolor": "#A2B1C6",
            "ticks": ""
           },
           "bgcolor": "white",
           "caxis": {
            "gridcolor": "#DFE8F3",
            "linecolor": "#A2B1C6",
            "ticks": ""
           }
          },
          "title": {
           "x": 0.05
          },
          "xaxis": {
           "automargin": true,
           "gridcolor": "#EBF0F8",
           "linecolor": "#EBF0F8",
           "ticks": "",
           "title": {
            "standoff": 15
           },
           "zerolinecolor": "#EBF0F8",
           "zerolinewidth": 2
          },
          "yaxis": {
           "automargin": true,
           "gridcolor": "#EBF0F8",
           "linecolor": "#EBF0F8",
           "ticks": "",
           "title": {
            "standoff": 15
           },
           "zerolinecolor": "#EBF0F8",
           "zerolinewidth": 2
          }
         }
        },
        "title": {
         "text": "Original Sales Data (Non-Stationary)"
        },
        "xaxis": {
         "title": {
          "text": "Date"
         }
        },
        "yaxis": {
         "title": {
          "text": "Sales"
         }
        }
       }
      }
     },
     "metadata": {},
     "output_type": "display_data"
    },
    {
     "name": "stdout",
     "output_type": "stream",
     "text": [
      "\n",
      "2️⃣  STEP 2: Test for Stationarity (ADF Test)\n",
      "\n",
      "============================================================\n",
      "ADF Test Results for: Original Sales Data\n",
      "============================================================\n",
      "ADF Statistic: -1.369093\n",
      "p-value: 0.597000\n",
      "Critical Values:\n",
      "   1%: -3.436\n",
      "   5%: -2.864\n",
      "   10%: -2.568\n",
      "\n",
      "❌ Result: NON-STATIONARY (p-value = 0.597000 ≥ 0.05)\n",
      "   → Need to transform the data (detrend/deseasonalize/difference)\n",
      "\n",
      "3️⃣  STEP 3: Decompose to Identify Components\n",
      "\n",
      "4️⃣  STEP 4: Remove Seasonality\n",
      "\n",
      "============================================================\n",
      "ADF Test Results for: After Deseasonalizing\n",
      "============================================================\n",
      "ADF Statistic: -0.775758\n",
      "p-value: 0.826139\n",
      "Critical Values:\n",
      "   1%: -3.436\n",
      "   5%: -2.864\n",
      "   10%: -2.568\n",
      "\n",
      "❌ Result: NON-STATIONARY (p-value = 0.826139 ≥ 0.05)\n",
      "   → Need to transform the data (detrend/deseasonalize/difference)\n",
      "\n",
      "5️⃣  STEP 5: Apply First Differencing\n",
      "\n",
      "============================================================\n",
      "ADF Test Results for: After Deseasonalizing + Differencing\n",
      "============================================================\n",
      "ADF Statistic: -13.641557\n",
      "p-value: 0.000000\n",
      "Critical Values:\n",
      "   1%: -3.436\n",
      "   5%: -2.864\n",
      "   10%: -2.568\n",
      "\n",
      "✅ Result: STATIONARY (p-value = 0.000000 < 0.05)\n",
      "   → Can proceed with modeling!\n",
      "\n",
      "6️⃣  STEP 6: Visualize the Transformation Journey\n"
     ]
    },
    {
     "data": {
      "application/vnd.plotly.v1+json": {
       "config": {
        "plotlyServerURL": "https://plot.ly"
       },
       "data": [
        {
         "line": {
          "color": "red",
          "width": 1
         },
         "mode": "lines",
         "type": "scatter",
         "x": [
          "2021-01-01T00:00:00.000000000",
          "2021-01-02T00:00:00.000000000",
          "2021-01-03T00:00:00.000000000",
          "2021-01-04T00:00:00.000000000",
          "2021-01-05T00:00:00.000000000",
          "2021-01-06T00:00:00.000000000",
          "2021-01-07T00:00:00.000000000",
          "2021-01-08T00:00:00.000000000",
          "2021-01-09T00:00:00.000000000",
          "2021-01-10T00:00:00.000000000",
          "2021-01-11T00:00:00.000000000",
          "2021-01-12T00:00:00.000000000",
          "2021-01-13T00:00:00.000000000",
          "2021-01-14T00:00:00.000000000",
          "2021-01-15T00:00:00.000000000",
          "2021-01-16T00:00:00.000000000",
          "2021-01-17T00:00:00.000000000",
          "2021-01-18T00:00:00.000000000",
          "2021-01-19T00:00:00.000000000",
          "2021-01-20T00:00:00.000000000",
          "2021-01-21T00:00:00.000000000",
          "2021-01-22T00:00:00.000000000",
          "2021-01-23T00:00:00.000000000",
          "2021-01-24T00:00:00.000000000",
          "2021-01-25T00:00:00.000000000",
          "2021-01-26T00:00:00.000000000",
          "2021-01-27T00:00:00.000000000",
          "2021-01-28T00:00:00.000000000",
          "2021-01-29T00:00:00.000000000",
          "2021-01-30T00:00:00.000000000",
          "2021-01-31T00:00:00.000000000",
          "2021-02-01T00:00:00.000000000",
          "2021-02-02T00:00:00.000000000",
          "2021-02-03T00:00:00.000000000",
          "2021-02-04T00:00:00.000000000",
          "2021-02-05T00:00:00.000000000",
          "2021-02-06T00:00:00.000000000",
          "2021-02-07T00:00:00.000000000",
          "2021-02-08T00:00:00.000000000",
          "2021-02-09T00:00:00.000000000",
          "2021-02-10T00:00:00.000000000",
          "2021-02-11T00:00:00.000000000",
          "2021-02-12T00:00:00.000000000",
          "2021-02-13T00:00:00.000000000",
          "2021-02-14T00:00:00.000000000",
          "2021-02-15T00:00:00.000000000",
          "2021-02-16T00:00:00.000000000",
          "2021-02-17T00:00:00.000000000",
          "2021-02-18T00:00:00.000000000",
          "2021-02-19T00:00:00.000000000",
          "2021-02-20T00:00:00.000000000",
          "2021-02-21T00:00:00.000000000",
          "2021-02-22T00:00:00.000000000",
          "2021-02-23T00:00:00.000000000",
          "2021-02-24T00:00:00.000000000",
          "2021-02-25T00:00:00.000000000",
          "2021-02-26T00:00:00.000000000",
          "2021-02-27T00:00:00.000000000",
          "2021-02-28T00:00:00.000000000",
          "2021-03-01T00:00:00.000000000",
          "2021-03-02T00:00:00.000000000",
          "2021-03-03T00:00:00.000000000",
          "2021-03-04T00:00:00.000000000",
          "2021-03-05T00:00:00.000000000",
          "2021-03-06T00:00:00.000000000",
          "2021-03-07T00:00:00.000000000",
          "2021-03-08T00:00:00.000000000",
          "2021-03-09T00:00:00.000000000",
          "2021-03-10T00:00:00.000000000",
          "2021-03-11T00:00:00.000000000",
          "2021-03-12T00:00:00.000000000",
          "2021-03-13T00:00:00.000000000",
          "2021-03-14T00:00:00.000000000",
          "2021-03-15T00:00:00.000000000",
          "2021-03-16T00:00:00.000000000",
          "2021-03-17T00:00:00.000000000",
          "2021-03-18T00:00:00.000000000",
          "2021-03-19T00:00:00.000000000",
          "2021-03-20T00:00:00.000000000",
          "2021-03-21T00:00:00.000000000",
          "2021-03-22T00:00:00.000000000",
          "2021-03-23T00:00:00.000000000",
          "2021-03-24T00:00:00.000000000",
          "2021-03-25T00:00:00.000000000",
          "2021-03-26T00:00:00.000000000",
          "2021-03-27T00:00:00.000000000",
          "2021-03-28T00:00:00.000000000",
          "2021-03-29T00:00:00.000000000",
          "2021-03-30T00:00:00.000000000",
          "2021-03-31T00:00:00.000000000",
          "2021-04-01T00:00:00.000000000",
          "2021-04-02T00:00:00.000000000",
          "2021-04-03T00:00:00.000000000",
          "2021-04-04T00:00:00.000000000",
          "2021-04-05T00:00:00.000000000",
          "2021-04-06T00:00:00.000000000",
          "2021-04-07T00:00:00.000000000",
          "2021-04-08T00:00:00.000000000",
          "2021-04-09T00:00:00.000000000",
          "2021-04-10T00:00:00.000000000",
          "2021-04-11T00:00:00.000000000",
          "2021-04-12T00:00:00.000000000",
          "2021-04-13T00:00:00.000000000",
          "2021-04-14T00:00:00.000000000",
          "2021-04-15T00:00:00.000000000",
          "2021-04-16T00:00:00.000000000",
          "2021-04-17T00:00:00.000000000",
          "2021-04-18T00:00:00.000000000",
          "2021-04-19T00:00:00.000000000",
          "2021-04-20T00:00:00.000000000",
          "2021-04-21T00:00:00.000000000",
          "2021-04-22T00:00:00.000000000",
          "2021-04-23T00:00:00.000000000",
          "2021-04-24T00:00:00.000000000",
          "2021-04-25T00:00:00.000000000",
          "2021-04-26T00:00:00.000000000",
          "2021-04-27T00:00:00.000000000",
          "2021-04-28T00:00:00.000000000",
          "2021-04-29T00:00:00.000000000",
          "2021-04-30T00:00:00.000000000",
          "2021-05-01T00:00:00.000000000",
          "2021-05-02T00:00:00.000000000",
          "2021-05-03T00:00:00.000000000",
          "2021-05-04T00:00:00.000000000",
          "2021-05-05T00:00:00.000000000",
          "2021-05-06T00:00:00.000000000",
          "2021-05-07T00:00:00.000000000",
          "2021-05-08T00:00:00.000000000",
          "2021-05-09T00:00:00.000000000",
          "2021-05-10T00:00:00.000000000",
          "2021-05-11T00:00:00.000000000",
          "2021-05-12T00:00:00.000000000",
          "2021-05-13T00:00:00.000000000",
          "2021-05-14T00:00:00.000000000",
          "2021-05-15T00:00:00.000000000",
          "2021-05-16T00:00:00.000000000",
          "2021-05-17T00:00:00.000000000",
          "2021-05-18T00:00:00.000000000",
          "2021-05-19T00:00:00.000000000",
          "2021-05-20T00:00:00.000000000",
          "2021-05-21T00:00:00.000000000",
          "2021-05-22T00:00:00.000000000",
          "2021-05-23T00:00:00.000000000",
          "2021-05-24T00:00:00.000000000",
          "2021-05-25T00:00:00.000000000",
          "2021-05-26T00:00:00.000000000",
          "2021-05-27T00:00:00.000000000",
          "2021-05-28T00:00:00.000000000",
          "2021-05-29T00:00:00.000000000",
          "2021-05-30T00:00:00.000000000",
          "2021-05-31T00:00:00.000000000",
          "2021-06-01T00:00:00.000000000",
          "2021-06-02T00:00:00.000000000",
          "2021-06-03T00:00:00.000000000",
          "2021-06-04T00:00:00.000000000",
          "2021-06-05T00:00:00.000000000",
          "2021-06-06T00:00:00.000000000",
          "2021-06-07T00:00:00.000000000",
          "2021-06-08T00:00:00.000000000",
          "2021-06-09T00:00:00.000000000",
          "2021-06-10T00:00:00.000000000",
          "2021-06-11T00:00:00.000000000",
          "2021-06-12T00:00:00.000000000",
          "2021-06-13T00:00:00.000000000",
          "2021-06-14T00:00:00.000000000",
          "2021-06-15T00:00:00.000000000",
          "2021-06-16T00:00:00.000000000",
          "2021-06-17T00:00:00.000000000",
          "2021-06-18T00:00:00.000000000",
          "2021-06-19T00:00:00.000000000",
          "2021-06-20T00:00:00.000000000",
          "2021-06-21T00:00:00.000000000",
          "2021-06-22T00:00:00.000000000",
          "2021-06-23T00:00:00.000000000",
          "2021-06-24T00:00:00.000000000",
          "2021-06-25T00:00:00.000000000",
          "2021-06-26T00:00:00.000000000",
          "2021-06-27T00:00:00.000000000",
          "2021-06-28T00:00:00.000000000",
          "2021-06-29T00:00:00.000000000",
          "2021-06-30T00:00:00.000000000",
          "2021-07-01T00:00:00.000000000",
          "2021-07-02T00:00:00.000000000",
          "2021-07-03T00:00:00.000000000",
          "2021-07-04T00:00:00.000000000",
          "2021-07-05T00:00:00.000000000",
          "2021-07-06T00:00:00.000000000",
          "2021-07-07T00:00:00.000000000",
          "2021-07-08T00:00:00.000000000",
          "2021-07-09T00:00:00.000000000",
          "2021-07-10T00:00:00.000000000",
          "2021-07-11T00:00:00.000000000",
          "2021-07-12T00:00:00.000000000",
          "2021-07-13T00:00:00.000000000",
          "2021-07-14T00:00:00.000000000",
          "2021-07-15T00:00:00.000000000",
          "2021-07-16T00:00:00.000000000",
          "2021-07-17T00:00:00.000000000",
          "2021-07-18T00:00:00.000000000",
          "2021-07-19T00:00:00.000000000",
          "2021-07-20T00:00:00.000000000",
          "2021-07-21T00:00:00.000000000",
          "2021-07-22T00:00:00.000000000",
          "2021-07-23T00:00:00.000000000",
          "2021-07-24T00:00:00.000000000",
          "2021-07-25T00:00:00.000000000",
          "2021-07-26T00:00:00.000000000",
          "2021-07-27T00:00:00.000000000",
          "2021-07-28T00:00:00.000000000",
          "2021-07-29T00:00:00.000000000",
          "2021-07-30T00:00:00.000000000",
          "2021-07-31T00:00:00.000000000",
          "2021-08-01T00:00:00.000000000",
          "2021-08-02T00:00:00.000000000",
          "2021-08-03T00:00:00.000000000",
          "2021-08-04T00:00:00.000000000",
          "2021-08-05T00:00:00.000000000",
          "2021-08-06T00:00:00.000000000",
          "2021-08-07T00:00:00.000000000",
          "2021-08-08T00:00:00.000000000",
          "2021-08-09T00:00:00.000000000",
          "2021-08-10T00:00:00.000000000",
          "2021-08-11T00:00:00.000000000",
          "2021-08-12T00:00:00.000000000",
          "2021-08-13T00:00:00.000000000",
          "2021-08-14T00:00:00.000000000",
          "2021-08-15T00:00:00.000000000",
          "2021-08-16T00:00:00.000000000",
          "2021-08-17T00:00:00.000000000",
          "2021-08-18T00:00:00.000000000",
          "2021-08-19T00:00:00.000000000",
          "2021-08-20T00:00:00.000000000",
          "2021-08-21T00:00:00.000000000",
          "2021-08-22T00:00:00.000000000",
          "2021-08-23T00:00:00.000000000",
          "2021-08-24T00:00:00.000000000",
          "2021-08-25T00:00:00.000000000",
          "2021-08-26T00:00:00.000000000",
          "2021-08-27T00:00:00.000000000",
          "2021-08-28T00:00:00.000000000",
          "2021-08-29T00:00:00.000000000",
          "2021-08-30T00:00:00.000000000",
          "2021-08-31T00:00:00.000000000",
          "2021-09-01T00:00:00.000000000",
          "2021-09-02T00:00:00.000000000",
          "2021-09-03T00:00:00.000000000",
          "2021-09-04T00:00:00.000000000",
          "2021-09-05T00:00:00.000000000",
          "2021-09-06T00:00:00.000000000",
          "2021-09-07T00:00:00.000000000",
          "2021-09-08T00:00:00.000000000",
          "2021-09-09T00:00:00.000000000",
          "2021-09-10T00:00:00.000000000",
          "2021-09-11T00:00:00.000000000",
          "2021-09-12T00:00:00.000000000",
          "2021-09-13T00:00:00.000000000",
          "2021-09-14T00:00:00.000000000",
          "2021-09-15T00:00:00.000000000",
          "2021-09-16T00:00:00.000000000",
          "2021-09-17T00:00:00.000000000",
          "2021-09-18T00:00:00.000000000",
          "2021-09-19T00:00:00.000000000",
          "2021-09-20T00:00:00.000000000",
          "2021-09-21T00:00:00.000000000",
          "2021-09-22T00:00:00.000000000",
          "2021-09-23T00:00:00.000000000",
          "2021-09-24T00:00:00.000000000",
          "2021-09-25T00:00:00.000000000",
          "2021-09-26T00:00:00.000000000",
          "2021-09-27T00:00:00.000000000",
          "2021-09-28T00:00:00.000000000",
          "2021-09-29T00:00:00.000000000",
          "2021-09-30T00:00:00.000000000",
          "2021-10-01T00:00:00.000000000",
          "2021-10-02T00:00:00.000000000",
          "2021-10-03T00:00:00.000000000",
          "2021-10-04T00:00:00.000000000",
          "2021-10-05T00:00:00.000000000",
          "2021-10-06T00:00:00.000000000",
          "2021-10-07T00:00:00.000000000",
          "2021-10-08T00:00:00.000000000",
          "2021-10-09T00:00:00.000000000",
          "2021-10-10T00:00:00.000000000",
          "2021-10-11T00:00:00.000000000",
          "2021-10-12T00:00:00.000000000",
          "2021-10-13T00:00:00.000000000",
          "2021-10-14T00:00:00.000000000",
          "2021-10-15T00:00:00.000000000",
          "2021-10-16T00:00:00.000000000",
          "2021-10-17T00:00:00.000000000",
          "2021-10-18T00:00:00.000000000",
          "2021-10-19T00:00:00.000000000",
          "2021-10-20T00:00:00.000000000",
          "2021-10-21T00:00:00.000000000",
          "2021-10-22T00:00:00.000000000",
          "2021-10-23T00:00:00.000000000",
          "2021-10-24T00:00:00.000000000",
          "2021-10-25T00:00:00.000000000",
          "2021-10-26T00:00:00.000000000",
          "2021-10-27T00:00:00.000000000",
          "2021-10-28T00:00:00.000000000",
          "2021-10-29T00:00:00.000000000",
          "2021-10-30T00:00:00.000000000",
          "2021-10-31T00:00:00.000000000",
          "2021-11-01T00:00:00.000000000",
          "2021-11-02T00:00:00.000000000",
          "2021-11-03T00:00:00.000000000",
          "2021-11-04T00:00:00.000000000",
          "2021-11-05T00:00:00.000000000",
          "2021-11-06T00:00:00.000000000",
          "2021-11-07T00:00:00.000000000",
          "2021-11-08T00:00:00.000000000",
          "2021-11-09T00:00:00.000000000",
          "2021-11-10T00:00:00.000000000",
          "2021-11-11T00:00:00.000000000",
          "2021-11-12T00:00:00.000000000",
          "2021-11-13T00:00:00.000000000",
          "2021-11-14T00:00:00.000000000",
          "2021-11-15T00:00:00.000000000",
          "2021-11-16T00:00:00.000000000",
          "2021-11-17T00:00:00.000000000",
          "2021-11-18T00:00:00.000000000",
          "2021-11-19T00:00:00.000000000",
          "2021-11-20T00:00:00.000000000",
          "2021-11-21T00:00:00.000000000",
          "2021-11-22T00:00:00.000000000",
          "2021-11-23T00:00:00.000000000",
          "2021-11-24T00:00:00.000000000",
          "2021-11-25T00:00:00.000000000",
          "2021-11-26T00:00:00.000000000",
          "2021-11-27T00:00:00.000000000",
          "2021-11-28T00:00:00.000000000",
          "2021-11-29T00:00:00.000000000",
          "2021-11-30T00:00:00.000000000",
          "2021-12-01T00:00:00.000000000",
          "2021-12-02T00:00:00.000000000",
          "2021-12-03T00:00:00.000000000",
          "2021-12-04T00:00:00.000000000",
          "2021-12-05T00:00:00.000000000",
          "2021-12-06T00:00:00.000000000",
          "2021-12-07T00:00:00.000000000",
          "2021-12-08T00:00:00.000000000",
          "2021-12-09T00:00:00.000000000",
          "2021-12-10T00:00:00.000000000",
          "2021-12-11T00:00:00.000000000",
          "2021-12-12T00:00:00.000000000",
          "2021-12-13T00:00:00.000000000",
          "2021-12-14T00:00:00.000000000",
          "2021-12-15T00:00:00.000000000",
          "2021-12-16T00:00:00.000000000",
          "2021-12-17T00:00:00.000000000",
          "2021-12-18T00:00:00.000000000",
          "2021-12-19T00:00:00.000000000",
          "2021-12-20T00:00:00.000000000",
          "2021-12-21T00:00:00.000000000",
          "2021-12-22T00:00:00.000000000",
          "2021-12-23T00:00:00.000000000",
          "2021-12-24T00:00:00.000000000",
          "2021-12-25T00:00:00.000000000",
          "2021-12-26T00:00:00.000000000",
          "2021-12-27T00:00:00.000000000",
          "2021-12-28T00:00:00.000000000",
          "2021-12-29T00:00:00.000000000",
          "2021-12-30T00:00:00.000000000",
          "2021-12-31T00:00:00.000000000",
          "2022-01-01T00:00:00.000000000",
          "2022-01-02T00:00:00.000000000",
          "2022-01-03T00:00:00.000000000",
          "2022-01-04T00:00:00.000000000",
          "2022-01-05T00:00:00.000000000",
          "2022-01-06T00:00:00.000000000",
          "2022-01-07T00:00:00.000000000",
          "2022-01-08T00:00:00.000000000",
          "2022-01-09T00:00:00.000000000",
          "2022-01-10T00:00:00.000000000",
          "2022-01-11T00:00:00.000000000",
          "2022-01-12T00:00:00.000000000",
          "2022-01-13T00:00:00.000000000",
          "2022-01-14T00:00:00.000000000",
          "2022-01-15T00:00:00.000000000",
          "2022-01-16T00:00:00.000000000",
          "2022-01-17T00:00:00.000000000",
          "2022-01-18T00:00:00.000000000",
          "2022-01-19T00:00:00.000000000",
          "2022-01-20T00:00:00.000000000",
          "2022-01-21T00:00:00.000000000",
          "2022-01-22T00:00:00.000000000",
          "2022-01-23T00:00:00.000000000",
          "2022-01-24T00:00:00.000000000",
          "2022-01-25T00:00:00.000000000",
          "2022-01-26T00:00:00.000000000",
          "2022-01-27T00:00:00.000000000",
          "2022-01-28T00:00:00.000000000",
          "2022-01-29T00:00:00.000000000",
          "2022-01-30T00:00:00.000000000",
          "2022-01-31T00:00:00.000000000",
          "2022-02-01T00:00:00.000000000",
          "2022-02-02T00:00:00.000000000",
          "2022-02-03T00:00:00.000000000",
          "2022-02-04T00:00:00.000000000",
          "2022-02-05T00:00:00.000000000",
          "2022-02-06T00:00:00.000000000",
          "2022-02-07T00:00:00.000000000",
          "2022-02-08T00:00:00.000000000",
          "2022-02-09T00:00:00.000000000",
          "2022-02-10T00:00:00.000000000",
          "2022-02-11T00:00:00.000000000",
          "2022-02-12T00:00:00.000000000",
          "2022-02-13T00:00:00.000000000",
          "2022-02-14T00:00:00.000000000",
          "2022-02-15T00:00:00.000000000",
          "2022-02-16T00:00:00.000000000",
          "2022-02-17T00:00:00.000000000",
          "2022-02-18T00:00:00.000000000",
          "2022-02-19T00:00:00.000000000",
          "2022-02-20T00:00:00.000000000",
          "2022-02-21T00:00:00.000000000",
          "2022-02-22T00:00:00.000000000",
          "2022-02-23T00:00:00.000000000",
          "2022-02-24T00:00:00.000000000",
          "2022-02-25T00:00:00.000000000",
          "2022-02-26T00:00:00.000000000",
          "2022-02-27T00:00:00.000000000",
          "2022-02-28T00:00:00.000000000",
          "2022-03-01T00:00:00.000000000",
          "2022-03-02T00:00:00.000000000",
          "2022-03-03T00:00:00.000000000",
          "2022-03-04T00:00:00.000000000",
          "2022-03-05T00:00:00.000000000",
          "2022-03-06T00:00:00.000000000",
          "2022-03-07T00:00:00.000000000",
          "2022-03-08T00:00:00.000000000",
          "2022-03-09T00:00:00.000000000",
          "2022-03-10T00:00:00.000000000",
          "2022-03-11T00:00:00.000000000",
          "2022-03-12T00:00:00.000000000",
          "2022-03-13T00:00:00.000000000",
          "2022-03-14T00:00:00.000000000",
          "2022-03-15T00:00:00.000000000",
          "2022-03-16T00:00:00.000000000",
          "2022-03-17T00:00:00.000000000",
          "2022-03-18T00:00:00.000000000",
          "2022-03-19T00:00:00.000000000",
          "2022-03-20T00:00:00.000000000",
          "2022-03-21T00:00:00.000000000",
          "2022-03-22T00:00:00.000000000",
          "2022-03-23T00:00:00.000000000",
          "2022-03-24T00:00:00.000000000",
          "2022-03-25T00:00:00.000000000",
          "2022-03-26T00:00:00.000000000",
          "2022-03-27T00:00:00.000000000",
          "2022-03-28T00:00:00.000000000",
          "2022-03-29T00:00:00.000000000",
          "2022-03-30T00:00:00.000000000",
          "2022-03-31T00:00:00.000000000",
          "2022-04-01T00:00:00.000000000",
          "2022-04-02T00:00:00.000000000",
          "2022-04-03T00:00:00.000000000",
          "2022-04-04T00:00:00.000000000",
          "2022-04-05T00:00:00.000000000",
          "2022-04-06T00:00:00.000000000",
          "2022-04-07T00:00:00.000000000",
          "2022-04-08T00:00:00.000000000",
          "2022-04-09T00:00:00.000000000",
          "2022-04-10T00:00:00.000000000",
          "2022-04-11T00:00:00.000000000",
          "2022-04-12T00:00:00.000000000",
          "2022-04-13T00:00:00.000000000",
          "2022-04-14T00:00:00.000000000",
          "2022-04-15T00:00:00.000000000",
          "2022-04-16T00:00:00.000000000",
          "2022-04-17T00:00:00.000000000",
          "2022-04-18T00:00:00.000000000",
          "2022-04-19T00:00:00.000000000",
          "2022-04-20T00:00:00.000000000",
          "2022-04-21T00:00:00.000000000",
          "2022-04-22T00:00:00.000000000",
          "2022-04-23T00:00:00.000000000",
          "2022-04-24T00:00:00.000000000",
          "2022-04-25T00:00:00.000000000",
          "2022-04-26T00:00:00.000000000",
          "2022-04-27T00:00:00.000000000",
          "2022-04-28T00:00:00.000000000",
          "2022-04-29T00:00:00.000000000",
          "2022-04-30T00:00:00.000000000",
          "2022-05-01T00:00:00.000000000",
          "2022-05-02T00:00:00.000000000",
          "2022-05-03T00:00:00.000000000",
          "2022-05-04T00:00:00.000000000",
          "2022-05-05T00:00:00.000000000",
          "2022-05-06T00:00:00.000000000",
          "2022-05-07T00:00:00.000000000",
          "2022-05-08T00:00:00.000000000",
          "2022-05-09T00:00:00.000000000",
          "2022-05-10T00:00:00.000000000",
          "2022-05-11T00:00:00.000000000",
          "2022-05-12T00:00:00.000000000",
          "2022-05-13T00:00:00.000000000",
          "2022-05-14T00:00:00.000000000",
          "2022-05-15T00:00:00.000000000",
          "2022-05-16T00:00:00.000000000",
          "2022-05-17T00:00:00.000000000",
          "2022-05-18T00:00:00.000000000",
          "2022-05-19T00:00:00.000000000",
          "2022-05-20T00:00:00.000000000",
          "2022-05-21T00:00:00.000000000",
          "2022-05-22T00:00:00.000000000",
          "2022-05-23T00:00:00.000000000",
          "2022-05-24T00:00:00.000000000",
          "2022-05-25T00:00:00.000000000",
          "2022-05-26T00:00:00.000000000",
          "2022-05-27T00:00:00.000000000",
          "2022-05-28T00:00:00.000000000",
          "2022-05-29T00:00:00.000000000",
          "2022-05-30T00:00:00.000000000",
          "2022-05-31T00:00:00.000000000",
          "2022-06-01T00:00:00.000000000",
          "2022-06-02T00:00:00.000000000",
          "2022-06-03T00:00:00.000000000",
          "2022-06-04T00:00:00.000000000",
          "2022-06-05T00:00:00.000000000",
          "2022-06-06T00:00:00.000000000",
          "2022-06-07T00:00:00.000000000",
          "2022-06-08T00:00:00.000000000",
          "2022-06-09T00:00:00.000000000",
          "2022-06-10T00:00:00.000000000",
          "2022-06-11T00:00:00.000000000",
          "2022-06-12T00:00:00.000000000",
          "2022-06-13T00:00:00.000000000",
          "2022-06-14T00:00:00.000000000",
          "2022-06-15T00:00:00.000000000",
          "2022-06-16T00:00:00.000000000",
          "2022-06-17T00:00:00.000000000",
          "2022-06-18T00:00:00.000000000",
          "2022-06-19T00:00:00.000000000",
          "2022-06-20T00:00:00.000000000",
          "2022-06-21T00:00:00.000000000",
          "2022-06-22T00:00:00.000000000",
          "2022-06-23T00:00:00.000000000",
          "2022-06-24T00:00:00.000000000",
          "2022-06-25T00:00:00.000000000",
          "2022-06-26T00:00:00.000000000",
          "2022-06-27T00:00:00.000000000",
          "2022-06-28T00:00:00.000000000",
          "2022-06-29T00:00:00.000000000",
          "2022-06-30T00:00:00.000000000",
          "2022-07-01T00:00:00.000000000",
          "2022-07-02T00:00:00.000000000",
          "2022-07-03T00:00:00.000000000",
          "2022-07-04T00:00:00.000000000",
          "2022-07-05T00:00:00.000000000",
          "2022-07-06T00:00:00.000000000",
          "2022-07-07T00:00:00.000000000",
          "2022-07-08T00:00:00.000000000",
          "2022-07-09T00:00:00.000000000",
          "2022-07-10T00:00:00.000000000",
          "2022-07-11T00:00:00.000000000",
          "2022-07-12T00:00:00.000000000",
          "2022-07-13T00:00:00.000000000",
          "2022-07-14T00:00:00.000000000",
          "2022-07-15T00:00:00.000000000",
          "2022-07-16T00:00:00.000000000",
          "2022-07-17T00:00:00.000000000",
          "2022-07-18T00:00:00.000000000",
          "2022-07-19T00:00:00.000000000",
          "2022-07-20T00:00:00.000000000",
          "2022-07-21T00:00:00.000000000",
          "2022-07-22T00:00:00.000000000",
          "2022-07-23T00:00:00.000000000",
          "2022-07-24T00:00:00.000000000",
          "2022-07-25T00:00:00.000000000",
          "2022-07-26T00:00:00.000000000",
          "2022-07-27T00:00:00.000000000",
          "2022-07-28T00:00:00.000000000",
          "2022-07-29T00:00:00.000000000",
          "2022-07-30T00:00:00.000000000",
          "2022-07-31T00:00:00.000000000",
          "2022-08-01T00:00:00.000000000",
          "2022-08-02T00:00:00.000000000",
          "2022-08-03T00:00:00.000000000",
          "2022-08-04T00:00:00.000000000",
          "2022-08-05T00:00:00.000000000",
          "2022-08-06T00:00:00.000000000",
          "2022-08-07T00:00:00.000000000",
          "2022-08-08T00:00:00.000000000",
          "2022-08-09T00:00:00.000000000",
          "2022-08-10T00:00:00.000000000",
          "2022-08-11T00:00:00.000000000",
          "2022-08-12T00:00:00.000000000",
          "2022-08-13T00:00:00.000000000",
          "2022-08-14T00:00:00.000000000",
          "2022-08-15T00:00:00.000000000",
          "2022-08-16T00:00:00.000000000",
          "2022-08-17T00:00:00.000000000",
          "2022-08-18T00:00:00.000000000",
          "2022-08-19T00:00:00.000000000",
          "2022-08-20T00:00:00.000000000",
          "2022-08-21T00:00:00.000000000",
          "2022-08-22T00:00:00.000000000",
          "2022-08-23T00:00:00.000000000",
          "2022-08-24T00:00:00.000000000",
          "2022-08-25T00:00:00.000000000",
          "2022-08-26T00:00:00.000000000",
          "2022-08-27T00:00:00.000000000",
          "2022-08-28T00:00:00.000000000",
          "2022-08-29T00:00:00.000000000",
          "2022-08-30T00:00:00.000000000",
          "2022-08-31T00:00:00.000000000",
          "2022-09-01T00:00:00.000000000",
          "2022-09-02T00:00:00.000000000",
          "2022-09-03T00:00:00.000000000",
          "2022-09-04T00:00:00.000000000",
          "2022-09-05T00:00:00.000000000",
          "2022-09-06T00:00:00.000000000",
          "2022-09-07T00:00:00.000000000",
          "2022-09-08T00:00:00.000000000",
          "2022-09-09T00:00:00.000000000",
          "2022-09-10T00:00:00.000000000",
          "2022-09-11T00:00:00.000000000",
          "2022-09-12T00:00:00.000000000",
          "2022-09-13T00:00:00.000000000",
          "2022-09-14T00:00:00.000000000",
          "2022-09-15T00:00:00.000000000",
          "2022-09-16T00:00:00.000000000",
          "2022-09-17T00:00:00.000000000",
          "2022-09-18T00:00:00.000000000",
          "2022-09-19T00:00:00.000000000",
          "2022-09-20T00:00:00.000000000",
          "2022-09-21T00:00:00.000000000",
          "2022-09-22T00:00:00.000000000",
          "2022-09-23T00:00:00.000000000",
          "2022-09-24T00:00:00.000000000",
          "2022-09-25T00:00:00.000000000",
          "2022-09-26T00:00:00.000000000",
          "2022-09-27T00:00:00.000000000",
          "2022-09-28T00:00:00.000000000",
          "2022-09-29T00:00:00.000000000",
          "2022-09-30T00:00:00.000000000",
          "2022-10-01T00:00:00.000000000",
          "2022-10-02T00:00:00.000000000",
          "2022-10-03T00:00:00.000000000",
          "2022-10-04T00:00:00.000000000",
          "2022-10-05T00:00:00.000000000",
          "2022-10-06T00:00:00.000000000",
          "2022-10-07T00:00:00.000000000",
          "2022-10-08T00:00:00.000000000",
          "2022-10-09T00:00:00.000000000",
          "2022-10-10T00:00:00.000000000",
          "2022-10-11T00:00:00.000000000",
          "2022-10-12T00:00:00.000000000",
          "2022-10-13T00:00:00.000000000",
          "2022-10-14T00:00:00.000000000",
          "2022-10-15T00:00:00.000000000",
          "2022-10-16T00:00:00.000000000",
          "2022-10-17T00:00:00.000000000",
          "2022-10-18T00:00:00.000000000",
          "2022-10-19T00:00:00.000000000",
          "2022-10-20T00:00:00.000000000",
          "2022-10-21T00:00:00.000000000",
          "2022-10-22T00:00:00.000000000",
          "2022-10-23T00:00:00.000000000",
          "2022-10-24T00:00:00.000000000",
          "2022-10-25T00:00:00.000000000",
          "2022-10-26T00:00:00.000000000",
          "2022-10-27T00:00:00.000000000",
          "2022-10-28T00:00:00.000000000",
          "2022-10-29T00:00:00.000000000",
          "2022-10-30T00:00:00.000000000",
          "2022-10-31T00:00:00.000000000",
          "2022-11-01T00:00:00.000000000",
          "2022-11-02T00:00:00.000000000",
          "2022-11-03T00:00:00.000000000",
          "2022-11-04T00:00:00.000000000",
          "2022-11-05T00:00:00.000000000",
          "2022-11-06T00:00:00.000000000",
          "2022-11-07T00:00:00.000000000",
          "2022-11-08T00:00:00.000000000",
          "2022-11-09T00:00:00.000000000",
          "2022-11-10T00:00:00.000000000",
          "2022-11-11T00:00:00.000000000",
          "2022-11-12T00:00:00.000000000",
          "2022-11-13T00:00:00.000000000",
          "2022-11-14T00:00:00.000000000",
          "2022-11-15T00:00:00.000000000",
          "2022-11-16T00:00:00.000000000",
          "2022-11-17T00:00:00.000000000",
          "2022-11-18T00:00:00.000000000",
          "2022-11-19T00:00:00.000000000",
          "2022-11-20T00:00:00.000000000",
          "2022-11-21T00:00:00.000000000",
          "2022-11-22T00:00:00.000000000",
          "2022-11-23T00:00:00.000000000",
          "2022-11-24T00:00:00.000000000",
          "2022-11-25T00:00:00.000000000",
          "2022-11-26T00:00:00.000000000",
          "2022-11-27T00:00:00.000000000",
          "2022-11-28T00:00:00.000000000",
          "2022-11-29T00:00:00.000000000",
          "2022-11-30T00:00:00.000000000",
          "2022-12-01T00:00:00.000000000",
          "2022-12-02T00:00:00.000000000",
          "2022-12-03T00:00:00.000000000",
          "2022-12-04T00:00:00.000000000",
          "2022-12-05T00:00:00.000000000",
          "2022-12-06T00:00:00.000000000",
          "2022-12-07T00:00:00.000000000",
          "2022-12-08T00:00:00.000000000",
          "2022-12-09T00:00:00.000000000",
          "2022-12-10T00:00:00.000000000",
          "2022-12-11T00:00:00.000000000",
          "2022-12-12T00:00:00.000000000",
          "2022-12-13T00:00:00.000000000",
          "2022-12-14T00:00:00.000000000",
          "2022-12-15T00:00:00.000000000",
          "2022-12-16T00:00:00.000000000",
          "2022-12-17T00:00:00.000000000",
          "2022-12-18T00:00:00.000000000",
          "2022-12-19T00:00:00.000000000",
          "2022-12-20T00:00:00.000000000",
          "2022-12-21T00:00:00.000000000",
          "2022-12-22T00:00:00.000000000",
          "2022-12-23T00:00:00.000000000",
          "2022-12-24T00:00:00.000000000",
          "2022-12-25T00:00:00.000000000",
          "2022-12-26T00:00:00.000000000",
          "2022-12-27T00:00:00.000000000",
          "2022-12-28T00:00:00.000000000",
          "2022-12-29T00:00:00.000000000",
          "2022-12-30T00:00:00.000000000",
          "2022-12-31T00:00:00.000000000",
          "2023-01-01T00:00:00.000000000",
          "2023-01-02T00:00:00.000000000",
          "2023-01-03T00:00:00.000000000",
          "2023-01-04T00:00:00.000000000",
          "2023-01-05T00:00:00.000000000",
          "2023-01-06T00:00:00.000000000",
          "2023-01-07T00:00:00.000000000",
          "2023-01-08T00:00:00.000000000",
          "2023-01-09T00:00:00.000000000",
          "2023-01-10T00:00:00.000000000",
          "2023-01-11T00:00:00.000000000",
          "2023-01-12T00:00:00.000000000",
          "2023-01-13T00:00:00.000000000",
          "2023-01-14T00:00:00.000000000",
          "2023-01-15T00:00:00.000000000",
          "2023-01-16T00:00:00.000000000",
          "2023-01-17T00:00:00.000000000",
          "2023-01-18T00:00:00.000000000",
          "2023-01-19T00:00:00.000000000",
          "2023-01-20T00:00:00.000000000",
          "2023-01-21T00:00:00.000000000",
          "2023-01-22T00:00:00.000000000",
          "2023-01-23T00:00:00.000000000",
          "2023-01-24T00:00:00.000000000",
          "2023-01-25T00:00:00.000000000",
          "2023-01-26T00:00:00.000000000",
          "2023-01-27T00:00:00.000000000",
          "2023-01-28T00:00:00.000000000",
          "2023-01-29T00:00:00.000000000",
          "2023-01-30T00:00:00.000000000",
          "2023-01-31T00:00:00.000000000",
          "2023-02-01T00:00:00.000000000",
          "2023-02-02T00:00:00.000000000",
          "2023-02-03T00:00:00.000000000",
          "2023-02-04T00:00:00.000000000",
          "2023-02-05T00:00:00.000000000",
          "2023-02-06T00:00:00.000000000",
          "2023-02-07T00:00:00.000000000",
          "2023-02-08T00:00:00.000000000",
          "2023-02-09T00:00:00.000000000",
          "2023-02-10T00:00:00.000000000",
          "2023-02-11T00:00:00.000000000",
          "2023-02-12T00:00:00.000000000",
          "2023-02-13T00:00:00.000000000",
          "2023-02-14T00:00:00.000000000",
          "2023-02-15T00:00:00.000000000",
          "2023-02-16T00:00:00.000000000",
          "2023-02-17T00:00:00.000000000",
          "2023-02-18T00:00:00.000000000",
          "2023-02-19T00:00:00.000000000",
          "2023-02-20T00:00:00.000000000",
          "2023-02-21T00:00:00.000000000",
          "2023-02-22T00:00:00.000000000",
          "2023-02-23T00:00:00.000000000",
          "2023-02-24T00:00:00.000000000",
          "2023-02-25T00:00:00.000000000",
          "2023-02-26T00:00:00.000000000",
          "2023-02-27T00:00:00.000000000",
          "2023-02-28T00:00:00.000000000",
          "2023-03-01T00:00:00.000000000",
          "2023-03-02T00:00:00.000000000",
          "2023-03-03T00:00:00.000000000",
          "2023-03-04T00:00:00.000000000",
          "2023-03-05T00:00:00.000000000",
          "2023-03-06T00:00:00.000000000",
          "2023-03-07T00:00:00.000000000",
          "2023-03-08T00:00:00.000000000",
          "2023-03-09T00:00:00.000000000",
          "2023-03-10T00:00:00.000000000",
          "2023-03-11T00:00:00.000000000",
          "2023-03-12T00:00:00.000000000",
          "2023-03-13T00:00:00.000000000",
          "2023-03-14T00:00:00.000000000",
          "2023-03-15T00:00:00.000000000",
          "2023-03-16T00:00:00.000000000",
          "2023-03-17T00:00:00.000000000",
          "2023-03-18T00:00:00.000000000",
          "2023-03-19T00:00:00.000000000",
          "2023-03-20T00:00:00.000000000",
          "2023-03-21T00:00:00.000000000",
          "2023-03-22T00:00:00.000000000",
          "2023-03-23T00:00:00.000000000",
          "2023-03-24T00:00:00.000000000",
          "2023-03-25T00:00:00.000000000",
          "2023-03-26T00:00:00.000000000",
          "2023-03-27T00:00:00.000000000",
          "2023-03-28T00:00:00.000000000",
          "2023-03-29T00:00:00.000000000",
          "2023-03-30T00:00:00.000000000",
          "2023-03-31T00:00:00.000000000",
          "2023-04-01T00:00:00.000000000",
          "2023-04-02T00:00:00.000000000",
          "2023-04-03T00:00:00.000000000",
          "2023-04-04T00:00:00.000000000",
          "2023-04-05T00:00:00.000000000",
          "2023-04-06T00:00:00.000000000",
          "2023-04-07T00:00:00.000000000",
          "2023-04-08T00:00:00.000000000",
          "2023-04-09T00:00:00.000000000",
          "2023-04-10T00:00:00.000000000",
          "2023-04-11T00:00:00.000000000",
          "2023-04-12T00:00:00.000000000",
          "2023-04-13T00:00:00.000000000",
          "2023-04-14T00:00:00.000000000",
          "2023-04-15T00:00:00.000000000",
          "2023-04-16T00:00:00.000000000",
          "2023-04-17T00:00:00.000000000",
          "2023-04-18T00:00:00.000000000",
          "2023-04-19T00:00:00.000000000",
          "2023-04-20T00:00:00.000000000",
          "2023-04-21T00:00:00.000000000",
          "2023-04-22T00:00:00.000000000",
          "2023-04-23T00:00:00.000000000",
          "2023-04-24T00:00:00.000000000",
          "2023-04-25T00:00:00.000000000",
          "2023-04-26T00:00:00.000000000",
          "2023-04-27T00:00:00.000000000",
          "2023-04-28T00:00:00.000000000",
          "2023-04-29T00:00:00.000000000",
          "2023-04-30T00:00:00.000000000",
          "2023-05-01T00:00:00.000000000",
          "2023-05-02T00:00:00.000000000",
          "2023-05-03T00:00:00.000000000",
          "2023-05-04T00:00:00.000000000",
          "2023-05-05T00:00:00.000000000",
          "2023-05-06T00:00:00.000000000",
          "2023-05-07T00:00:00.000000000",
          "2023-05-08T00:00:00.000000000",
          "2023-05-09T00:00:00.000000000",
          "2023-05-10T00:00:00.000000000",
          "2023-05-11T00:00:00.000000000",
          "2023-05-12T00:00:00.000000000",
          "2023-05-13T00:00:00.000000000",
          "2023-05-14T00:00:00.000000000",
          "2023-05-15T00:00:00.000000000",
          "2023-05-16T00:00:00.000000000",
          "2023-05-17T00:00:00.000000000",
          "2023-05-18T00:00:00.000000000",
          "2023-05-19T00:00:00.000000000",
          "2023-05-20T00:00:00.000000000",
          "2023-05-21T00:00:00.000000000",
          "2023-05-22T00:00:00.000000000",
          "2023-05-23T00:00:00.000000000",
          "2023-05-24T00:00:00.000000000",
          "2023-05-25T00:00:00.000000000",
          "2023-05-26T00:00:00.000000000",
          "2023-05-27T00:00:00.000000000",
          "2023-05-28T00:00:00.000000000",
          "2023-05-29T00:00:00.000000000",
          "2023-05-30T00:00:00.000000000",
          "2023-05-31T00:00:00.000000000",
          "2023-06-01T00:00:00.000000000",
          "2023-06-02T00:00:00.000000000",
          "2023-06-03T00:00:00.000000000",
          "2023-06-04T00:00:00.000000000",
          "2023-06-05T00:00:00.000000000",
          "2023-06-06T00:00:00.000000000",
          "2023-06-07T00:00:00.000000000",
          "2023-06-08T00:00:00.000000000",
          "2023-06-09T00:00:00.000000000",
          "2023-06-10T00:00:00.000000000",
          "2023-06-11T00:00:00.000000000",
          "2023-06-12T00:00:00.000000000",
          "2023-06-13T00:00:00.000000000",
          "2023-06-14T00:00:00.000000000",
          "2023-06-15T00:00:00.000000000",
          "2023-06-16T00:00:00.000000000",
          "2023-06-17T00:00:00.000000000",
          "2023-06-18T00:00:00.000000000",
          "2023-06-19T00:00:00.000000000",
          "2023-06-20T00:00:00.000000000",
          "2023-06-21T00:00:00.000000000",
          "2023-06-22T00:00:00.000000000",
          "2023-06-23T00:00:00.000000000",
          "2023-06-24T00:00:00.000000000",
          "2023-06-25T00:00:00.000000000",
          "2023-06-26T00:00:00.000000000",
          "2023-06-27T00:00:00.000000000",
          "2023-06-28T00:00:00.000000000",
          "2023-06-29T00:00:00.000000000",
          "2023-06-30T00:00:00.000000000",
          "2023-07-01T00:00:00.000000000",
          "2023-07-02T00:00:00.000000000",
          "2023-07-03T00:00:00.000000000",
          "2023-07-04T00:00:00.000000000",
          "2023-07-05T00:00:00.000000000",
          "2023-07-06T00:00:00.000000000",
          "2023-07-07T00:00:00.000000000",
          "2023-07-08T00:00:00.000000000",
          "2023-07-09T00:00:00.000000000",
          "2023-07-10T00:00:00.000000000",
          "2023-07-11T00:00:00.000000000",
          "2023-07-12T00:00:00.000000000",
          "2023-07-13T00:00:00.000000000",
          "2023-07-14T00:00:00.000000000",
          "2023-07-15T00:00:00.000000000",
          "2023-07-16T00:00:00.000000000",
          "2023-07-17T00:00:00.000000000",
          "2023-07-18T00:00:00.000000000",
          "2023-07-19T00:00:00.000000000",
          "2023-07-20T00:00:00.000000000",
          "2023-07-21T00:00:00.000000000",
          "2023-07-22T00:00:00.000000000",
          "2023-07-23T00:00:00.000000000",
          "2023-07-24T00:00:00.000000000",
          "2023-07-25T00:00:00.000000000",
          "2023-07-26T00:00:00.000000000",
          "2023-07-27T00:00:00.000000000",
          "2023-07-28T00:00:00.000000000",
          "2023-07-29T00:00:00.000000000",
          "2023-07-30T00:00:00.000000000",
          "2023-07-31T00:00:00.000000000",
          "2023-08-01T00:00:00.000000000",
          "2023-08-02T00:00:00.000000000",
          "2023-08-03T00:00:00.000000000",
          "2023-08-04T00:00:00.000000000",
          "2023-08-05T00:00:00.000000000",
          "2023-08-06T00:00:00.000000000",
          "2023-08-07T00:00:00.000000000",
          "2023-08-08T00:00:00.000000000",
          "2023-08-09T00:00:00.000000000",
          "2023-08-10T00:00:00.000000000",
          "2023-08-11T00:00:00.000000000",
          "2023-08-12T00:00:00.000000000",
          "2023-08-13T00:00:00.000000000",
          "2023-08-14T00:00:00.000000000",
          "2023-08-15T00:00:00.000000000",
          "2023-08-16T00:00:00.000000000",
          "2023-08-17T00:00:00.000000000",
          "2023-08-18T00:00:00.000000000",
          "2023-08-19T00:00:00.000000000",
          "2023-08-20T00:00:00.000000000",
          "2023-08-21T00:00:00.000000000",
          "2023-08-22T00:00:00.000000000",
          "2023-08-23T00:00:00.000000000",
          "2023-08-24T00:00:00.000000000",
          "2023-08-25T00:00:00.000000000",
          "2023-08-26T00:00:00.000000000",
          "2023-08-27T00:00:00.000000000",
          "2023-08-28T00:00:00.000000000",
          "2023-08-29T00:00:00.000000000",
          "2023-08-30T00:00:00.000000000",
          "2023-08-31T00:00:00.000000000",
          "2023-09-01T00:00:00.000000000",
          "2023-09-02T00:00:00.000000000",
          "2023-09-03T00:00:00.000000000",
          "2023-09-04T00:00:00.000000000",
          "2023-09-05T00:00:00.000000000",
          "2023-09-06T00:00:00.000000000",
          "2023-09-07T00:00:00.000000000",
          "2023-09-08T00:00:00.000000000",
          "2023-09-09T00:00:00.000000000",
          "2023-09-10T00:00:00.000000000",
          "2023-09-11T00:00:00.000000000",
          "2023-09-12T00:00:00.000000000",
          "2023-09-13T00:00:00.000000000",
          "2023-09-14T00:00:00.000000000",
          "2023-09-15T00:00:00.000000000",
          "2023-09-16T00:00:00.000000000",
          "2023-09-17T00:00:00.000000000",
          "2023-09-18T00:00:00.000000000",
          "2023-09-19T00:00:00.000000000",
          "2023-09-20T00:00:00.000000000",
          "2023-09-21T00:00:00.000000000",
          "2023-09-22T00:00:00.000000000",
          "2023-09-23T00:00:00.000000000",
          "2023-09-24T00:00:00.000000000",
          "2023-09-25T00:00:00.000000000",
          "2023-09-26T00:00:00.000000000",
          "2023-09-27T00:00:00.000000000",
          "2023-09-28T00:00:00.000000000",
          "2023-09-29T00:00:00.000000000",
          "2023-09-30T00:00:00.000000000",
          "2023-10-01T00:00:00.000000000",
          "2023-10-02T00:00:00.000000000",
          "2023-10-03T00:00:00.000000000",
          "2023-10-04T00:00:00.000000000",
          "2023-10-05T00:00:00.000000000",
          "2023-10-06T00:00:00.000000000",
          "2023-10-07T00:00:00.000000000",
          "2023-10-08T00:00:00.000000000",
          "2023-10-09T00:00:00.000000000",
          "2023-10-10T00:00:00.000000000",
          "2023-10-11T00:00:00.000000000",
          "2023-10-12T00:00:00.000000000",
          "2023-10-13T00:00:00.000000000",
          "2023-10-14T00:00:00.000000000",
          "2023-10-15T00:00:00.000000000",
          "2023-10-16T00:00:00.000000000",
          "2023-10-17T00:00:00.000000000",
          "2023-10-18T00:00:00.000000000",
          "2023-10-19T00:00:00.000000000",
          "2023-10-20T00:00:00.000000000",
          "2023-10-21T00:00:00.000000000",
          "2023-10-22T00:00:00.000000000",
          "2023-10-23T00:00:00.000000000",
          "2023-10-24T00:00:00.000000000",
          "2023-10-25T00:00:00.000000000",
          "2023-10-26T00:00:00.000000000",
          "2023-10-27T00:00:00.000000000",
          "2023-10-28T00:00:00.000000000",
          "2023-10-29T00:00:00.000000000",
          "2023-10-30T00:00:00.000000000",
          "2023-10-31T00:00:00.000000000",
          "2023-11-01T00:00:00.000000000",
          "2023-11-02T00:00:00.000000000",
          "2023-11-03T00:00:00.000000000",
          "2023-11-04T00:00:00.000000000",
          "2023-11-05T00:00:00.000000000",
          "2023-11-06T00:00:00.000000000",
          "2023-11-07T00:00:00.000000000",
          "2023-11-08T00:00:00.000000000",
          "2023-11-09T00:00:00.000000000",
          "2023-11-10T00:00:00.000000000",
          "2023-11-11T00:00:00.000000000",
          "2023-11-12T00:00:00.000000000",
          "2023-11-13T00:00:00.000000000",
          "2023-11-14T00:00:00.000000000",
          "2023-11-15T00:00:00.000000000",
          "2023-11-16T00:00:00.000000000",
          "2023-11-17T00:00:00.000000000",
          "2023-11-18T00:00:00.000000000",
          "2023-11-19T00:00:00.000000000",
          "2023-11-20T00:00:00.000000000",
          "2023-11-21T00:00:00.000000000",
          "2023-11-22T00:00:00.000000000",
          "2023-11-23T00:00:00.000000000",
          "2023-11-24T00:00:00.000000000",
          "2023-11-25T00:00:00.000000000",
          "2023-11-26T00:00:00.000000000",
          "2023-11-27T00:00:00.000000000",
          "2023-11-28T00:00:00.000000000",
          "2023-11-29T00:00:00.000000000",
          "2023-11-30T00:00:00.000000000",
          "2023-12-01T00:00:00.000000000",
          "2023-12-02T00:00:00.000000000",
          "2023-12-03T00:00:00.000000000",
          "2023-12-04T00:00:00.000000000",
          "2023-12-05T00:00:00.000000000",
          "2023-12-06T00:00:00.000000000",
          "2023-12-07T00:00:00.000000000",
          "2023-12-08T00:00:00.000000000",
          "2023-12-09T00:00:00.000000000",
          "2023-12-10T00:00:00.000000000",
          "2023-12-11T00:00:00.000000000",
          "2023-12-12T00:00:00.000000000",
          "2023-12-13T00:00:00.000000000",
          "2023-12-14T00:00:00.000000000",
          "2023-12-15T00:00:00.000000000",
          "2023-12-16T00:00:00.000000000",
          "2023-12-17T00:00:00.000000000",
          "2023-12-18T00:00:00.000000000",
          "2023-12-19T00:00:00.000000000",
          "2023-12-20T00:00:00.000000000",
          "2023-12-21T00:00:00.000000000",
          "2023-12-22T00:00:00.000000000",
          "2023-12-23T00:00:00.000000000",
          "2023-12-24T00:00:00.000000000",
          "2023-12-25T00:00:00.000000000",
          "2023-12-26T00:00:00.000000000",
          "2023-12-27T00:00:00.000000000",
          "2023-12-28T00:00:00.000000000",
          "2023-12-29T00:00:00.000000000",
          "2023-12-30T00:00:00.000000000",
          "2023-12-31T00:00:00.000000000"
         ],
         "xaxis": "x",
         "y": {
          "bdata": "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",
          "dtype": "f8"
         },
         "yaxis": "y"
        },
        {
         "line": {
          "color": "orange",
          "width": 1
         },
         "mode": "lines",
         "type": "scatter",
         "x": [
          "2021-01-01T00:00:00.000000000",
          "2021-01-02T00:00:00.000000000",
          "2021-01-03T00:00:00.000000000",
          "2021-01-04T00:00:00.000000000",
          "2021-01-05T00:00:00.000000000",
          "2021-01-06T00:00:00.000000000",
          "2021-01-07T00:00:00.000000000",
          "2021-01-08T00:00:00.000000000",
          "2021-01-09T00:00:00.000000000",
          "2021-01-10T00:00:00.000000000",
          "2021-01-11T00:00:00.000000000",
          "2021-01-12T00:00:00.000000000",
          "2021-01-13T00:00:00.000000000",
          "2021-01-14T00:00:00.000000000",
          "2021-01-15T00:00:00.000000000",
          "2021-01-16T00:00:00.000000000",
          "2021-01-17T00:00:00.000000000",
          "2021-01-18T00:00:00.000000000",
          "2021-01-19T00:00:00.000000000",
          "2021-01-20T00:00:00.000000000",
          "2021-01-21T00:00:00.000000000",
          "2021-01-22T00:00:00.000000000",
          "2021-01-23T00:00:00.000000000",
          "2021-01-24T00:00:00.000000000",
          "2021-01-25T00:00:00.000000000",
          "2021-01-26T00:00:00.000000000",
          "2021-01-27T00:00:00.000000000",
          "2021-01-28T00:00:00.000000000",
          "2021-01-29T00:00:00.000000000",
          "2021-01-30T00:00:00.000000000",
          "2021-01-31T00:00:00.000000000",
          "2021-02-01T00:00:00.000000000",
          "2021-02-02T00:00:00.000000000",
          "2021-02-03T00:00:00.000000000",
          "2021-02-04T00:00:00.000000000",
          "2021-02-05T00:00:00.000000000",
          "2021-02-06T00:00:00.000000000",
          "2021-02-07T00:00:00.000000000",
          "2021-02-08T00:00:00.000000000",
          "2021-02-09T00:00:00.000000000",
          "2021-02-10T00:00:00.000000000",
          "2021-02-11T00:00:00.000000000",
          "2021-02-12T00:00:00.000000000",
          "2021-02-13T00:00:00.000000000",
          "2021-02-14T00:00:00.000000000",
          "2021-02-15T00:00:00.000000000",
          "2021-02-16T00:00:00.000000000",
          "2021-02-17T00:00:00.000000000",
          "2021-02-18T00:00:00.000000000",
          "2021-02-19T00:00:00.000000000",
          "2021-02-20T00:00:00.000000000",
          "2021-02-21T00:00:00.000000000",
          "2021-02-22T00:00:00.000000000",
          "2021-02-23T00:00:00.000000000",
          "2021-02-24T00:00:00.000000000",
          "2021-02-25T00:00:00.000000000",
          "2021-02-26T00:00:00.000000000",
          "2021-02-27T00:00:00.000000000",
          "2021-02-28T00:00:00.000000000",
          "2021-03-01T00:00:00.000000000",
          "2021-03-02T00:00:00.000000000",
          "2021-03-03T00:00:00.000000000",
          "2021-03-04T00:00:00.000000000",
          "2021-03-05T00:00:00.000000000",
          "2021-03-06T00:00:00.000000000",
          "2021-03-07T00:00:00.000000000",
          "2021-03-08T00:00:00.000000000",
          "2021-03-09T00:00:00.000000000",
          "2021-03-10T00:00:00.000000000",
          "2021-03-11T00:00:00.000000000",
          "2021-03-12T00:00:00.000000000",
          "2021-03-13T00:00:00.000000000",
          "2021-03-14T00:00:00.000000000",
          "2021-03-15T00:00:00.000000000",
          "2021-03-16T00:00:00.000000000",
          "2021-03-17T00:00:00.000000000",
          "2021-03-18T00:00:00.000000000",
          "2021-03-19T00:00:00.000000000",
          "2021-03-20T00:00:00.000000000",
          "2021-03-21T00:00:00.000000000",
          "2021-03-22T00:00:00.000000000",
          "2021-03-23T00:00:00.000000000",
          "2021-03-24T00:00:00.000000000",
          "2021-03-25T00:00:00.000000000",
          "2021-03-26T00:00:00.000000000",
          "2021-03-27T00:00:00.000000000",
          "2021-03-28T00:00:00.000000000",
          "2021-03-29T00:00:00.000000000",
          "2021-03-30T00:00:00.000000000",
          "2021-03-31T00:00:00.000000000",
          "2021-04-01T00:00:00.000000000",
          "2021-04-02T00:00:00.000000000",
          "2021-04-03T00:00:00.000000000",
          "2021-04-04T00:00:00.000000000",
          "2021-04-05T00:00:00.000000000",
          "2021-04-06T00:00:00.000000000",
          "2021-04-07T00:00:00.000000000",
          "2021-04-08T00:00:00.000000000",
          "2021-04-09T00:00:00.000000000",
          "2021-04-10T00:00:00.000000000",
          "2021-04-11T00:00:00.000000000",
          "2021-04-12T00:00:00.000000000",
          "2021-04-13T00:00:00.000000000",
          "2021-04-14T00:00:00.000000000",
          "2021-04-15T00:00:00.000000000",
          "2021-04-16T00:00:00.000000000",
          "2021-04-17T00:00:00.000000000",
          "2021-04-18T00:00:00.000000000",
          "2021-04-19T00:00:00.000000000",
          "2021-04-20T00:00:00.000000000",
          "2021-04-21T00:00:00.000000000",
          "2021-04-22T00:00:00.000000000",
          "2021-04-23T00:00:00.000000000",
          "2021-04-24T00:00:00.000000000",
          "2021-04-25T00:00:00.000000000",
          "2021-04-26T00:00:00.000000000",
          "2021-04-27T00:00:00.000000000",
          "2021-04-28T00:00:00.000000000",
          "2021-04-29T00:00:00.000000000",
          "2021-04-30T00:00:00.000000000",
          "2021-05-01T00:00:00.000000000",
          "2021-05-02T00:00:00.000000000",
          "2021-05-03T00:00:00.000000000",
          "2021-05-04T00:00:00.000000000",
          "2021-05-05T00:00:00.000000000",
          "2021-05-06T00:00:00.000000000",
          "2021-05-07T00:00:00.000000000",
          "2021-05-08T00:00:00.000000000",
          "2021-05-09T00:00:00.000000000",
          "2021-05-10T00:00:00.000000000",
          "2021-05-11T00:00:00.000000000",
          "2021-05-12T00:00:00.000000000",
          "2021-05-13T00:00:00.000000000",
          "2021-05-14T00:00:00.000000000",
          "2021-05-15T00:00:00.000000000",
          "2021-05-16T00:00:00.000000000",
          "2021-05-17T00:00:00.000000000",
          "2021-05-18T00:00:00.000000000",
          "2021-05-19T00:00:00.000000000",
          "2021-05-20T00:00:00.000000000",
          "2021-05-21T00:00:00.000000000",
          "2021-05-22T00:00:00.000000000",
          "2021-05-23T00:00:00.000000000",
          "2021-05-24T00:00:00.000000000",
          "2021-05-25T00:00:00.000000000",
          "2021-05-26T00:00:00.000000000",
          "2021-05-27T00:00:00.000000000",
          "2021-05-28T00:00:00.000000000",
          "2021-05-29T00:00:00.000000000",
          "2021-05-30T00:00:00.000000000",
          "2021-05-31T00:00:00.000000000",
          "2021-06-01T00:00:00.000000000",
          "2021-06-02T00:00:00.000000000",
          "2021-06-03T00:00:00.000000000",
          "2021-06-04T00:00:00.000000000",
          "2021-06-05T00:00:00.000000000",
          "2021-06-06T00:00:00.000000000",
          "2021-06-07T00:00:00.000000000",
          "2021-06-08T00:00:00.000000000",
          "2021-06-09T00:00:00.000000000",
          "2021-06-10T00:00:00.000000000",
          "2021-06-11T00:00:00.000000000",
          "2021-06-12T00:00:00.000000000",
          "2021-06-13T00:00:00.000000000",
          "2021-06-14T00:00:00.000000000",
          "2021-06-15T00:00:00.000000000",
          "2021-06-16T00:00:00.000000000",
          "2021-06-17T00:00:00.000000000",
          "2021-06-18T00:00:00.000000000",
          "2021-06-19T00:00:00.000000000",
          "2021-06-20T00:00:00.000000000",
          "2021-06-21T00:00:00.000000000",
          "2021-06-22T00:00:00.000000000",
          "2021-06-23T00:00:00.000000000",
          "2021-06-24T00:00:00.000000000",
          "2021-06-25T00:00:00.000000000",
          "2021-06-26T00:00:00.000000000",
          "2021-06-27T00:00:00.000000000",
          "2021-06-28T00:00:00.000000000",
          "2021-06-29T00:00:00.000000000",
          "2021-06-30T00:00:00.000000000",
          "2021-07-01T00:00:00.000000000",
          "2021-07-02T00:00:00.000000000",
          "2021-07-03T00:00:00.000000000",
          "2021-07-04T00:00:00.000000000",
          "2021-07-05T00:00:00.000000000",
          "2021-07-06T00:00:00.000000000",
          "2021-07-07T00:00:00.000000000",
          "2021-07-08T00:00:00.000000000",
          "2021-07-09T00:00:00.000000000",
          "2021-07-10T00:00:00.000000000",
          "2021-07-11T00:00:00.000000000",
          "2021-07-12T00:00:00.000000000",
          "2021-07-13T00:00:00.000000000",
          "2021-07-14T00:00:00.000000000",
          "2021-07-15T00:00:00.000000000",
          "2021-07-16T00:00:00.000000000",
          "2021-07-17T00:00:00.000000000",
          "2021-07-18T00:00:00.000000000",
          "2021-07-19T00:00:00.000000000",
          "2021-07-20T00:00:00.000000000",
          "2021-07-21T00:00:00.000000000",
          "2021-07-22T00:00:00.000000000",
          "2021-07-23T00:00:00.000000000",
          "2021-07-24T00:00:00.000000000",
          "2021-07-25T00:00:00.000000000",
          "2021-07-26T00:00:00.000000000",
          "2021-07-27T00:00:00.000000000",
          "2021-07-28T00:00:00.000000000",
          "2021-07-29T00:00:00.000000000",
          "2021-07-30T00:00:00.000000000",
          "2021-07-31T00:00:00.000000000",
          "2021-08-01T00:00:00.000000000",
          "2021-08-02T00:00:00.000000000",
          "2021-08-03T00:00:00.000000000",
          "2021-08-04T00:00:00.000000000",
          "2021-08-05T00:00:00.000000000",
          "2021-08-06T00:00:00.000000000",
          "2021-08-07T00:00:00.000000000",
          "2021-08-08T00:00:00.000000000",
          "2021-08-09T00:00:00.000000000",
          "2021-08-10T00:00:00.000000000",
          "2021-08-11T00:00:00.000000000",
          "2021-08-12T00:00:00.000000000",
          "2021-08-13T00:00:00.000000000",
          "2021-08-14T00:00:00.000000000",
          "2021-08-15T00:00:00.000000000",
          "2021-08-16T00:00:00.000000000",
          "2021-08-17T00:00:00.000000000",
          "2021-08-18T00:00:00.000000000",
          "2021-08-19T00:00:00.000000000",
          "2021-08-20T00:00:00.000000000",
          "2021-08-21T00:00:00.000000000",
          "2021-08-22T00:00:00.000000000",
          "2021-08-23T00:00:00.000000000",
          "2021-08-24T00:00:00.000000000",
          "2021-08-25T00:00:00.000000000",
          "2021-08-26T00:00:00.000000000",
          "2021-08-27T00:00:00.000000000",
          "2021-08-28T00:00:00.000000000",
          "2021-08-29T00:00:00.000000000",
          "2021-08-30T00:00:00.000000000",
          "2021-08-31T00:00:00.000000000",
          "2021-09-01T00:00:00.000000000",
          "2021-09-02T00:00:00.000000000",
          "2021-09-03T00:00:00.000000000",
          "2021-09-04T00:00:00.000000000",
          "2021-09-05T00:00:00.000000000",
          "2021-09-06T00:00:00.000000000",
          "2021-09-07T00:00:00.000000000",
          "2021-09-08T00:00:00.000000000",
          "2021-09-09T00:00:00.000000000",
          "2021-09-10T00:00:00.000000000",
          "2021-09-11T00:00:00.000000000",
          "2021-09-12T00:00:00.000000000",
          "2021-09-13T00:00:00.000000000",
          "2021-09-14T00:00:00.000000000",
          "2021-09-15T00:00:00.000000000",
          "2021-09-16T00:00:00.000000000",
          "2021-09-17T00:00:00.000000000",
          "2021-09-18T00:00:00.000000000",
          "2021-09-19T00:00:00.000000000",
          "2021-09-20T00:00:00.000000000",
          "2021-09-21T00:00:00.000000000",
          "2021-09-22T00:00:00.000000000",
          "2021-09-23T00:00:00.000000000",
          "2021-09-24T00:00:00.000000000",
          "2021-09-25T00:00:00.000000000",
          "2021-09-26T00:00:00.000000000",
          "2021-09-27T00:00:00.000000000",
          "2021-09-28T00:00:00.000000000",
          "2021-09-29T00:00:00.000000000",
          "2021-09-30T00:00:00.000000000",
          "2021-10-01T00:00:00.000000000",
          "2021-10-02T00:00:00.000000000",
          "2021-10-03T00:00:00.000000000",
          "2021-10-04T00:00:00.000000000",
          "2021-10-05T00:00:00.000000000",
          "2021-10-06T00:00:00.000000000",
          "2021-10-07T00:00:00.000000000",
          "2021-10-08T00:00:00.000000000",
          "2021-10-09T00:00:00.000000000",
          "2021-10-10T00:00:00.000000000",
          "2021-10-11T00:00:00.000000000",
          "2021-10-12T00:00:00.000000000",
          "2021-10-13T00:00:00.000000000",
          "2021-10-14T00:00:00.000000000",
          "2021-10-15T00:00:00.000000000",
          "2021-10-16T00:00:00.000000000",
          "2021-10-17T00:00:00.000000000",
          "2021-10-18T00:00:00.000000000",
          "2021-10-19T00:00:00.000000000",
          "2021-10-20T00:00:00.000000000",
          "2021-10-21T00:00:00.000000000",
          "2021-10-22T00:00:00.000000000",
          "2021-10-23T00:00:00.000000000",
          "2021-10-24T00:00:00.000000000",
          "2021-10-25T00:00:00.000000000",
          "2021-10-26T00:00:00.000000000",
          "2021-10-27T00:00:00.000000000",
          "2021-10-28T00:00:00.000000000",
          "2021-10-29T00:00:00.000000000",
          "2021-10-30T00:00:00.000000000",
          "2021-10-31T00:00:00.000000000",
          "2021-11-01T00:00:00.000000000",
          "2021-11-02T00:00:00.000000000",
          "2021-11-03T00:00:00.000000000",
          "2021-11-04T00:00:00.000000000",
          "2021-11-05T00:00:00.000000000",
          "2021-11-06T00:00:00.000000000",
          "2021-11-07T00:00:00.000000000",
          "2021-11-08T00:00:00.000000000",
          "2021-11-09T00:00:00.000000000",
          "2021-11-10T00:00:00.000000000",
          "2021-11-11T00:00:00.000000000",
          "2021-11-12T00:00:00.000000000",
          "2021-11-13T00:00:00.000000000",
          "2021-11-14T00:00:00.000000000",
          "2021-11-15T00:00:00.000000000",
          "2021-11-16T00:00:00.000000000",
          "2021-11-17T00:00:00.000000000",
          "2021-11-18T00:00:00.000000000",
          "2021-11-19T00:00:00.000000000",
          "2021-11-20T00:00:00.000000000",
          "2021-11-21T00:00:00.000000000",
          "2021-11-22T00:00:00.000000000",
          "2021-11-23T00:00:00.000000000",
          "2021-11-24T00:00:00.000000000",
          "2021-11-25T00:00:00.000000000",
          "2021-11-26T00:00:00.000000000",
          "2021-11-27T00:00:00.000000000",
          "2021-11-28T00:00:00.000000000",
          "2021-11-29T00:00:00.000000000",
          "2021-11-30T00:00:00.000000000",
          "2021-12-01T00:00:00.000000000",
          "2021-12-02T00:00:00.000000000",
          "2021-12-03T00:00:00.000000000",
          "2021-12-04T00:00:00.000000000",
          "2021-12-05T00:00:00.000000000",
          "2021-12-06T00:00:00.000000000",
          "2021-12-07T00:00:00.000000000",
          "2021-12-08T00:00:00.000000000",
          "2021-12-09T00:00:00.000000000",
          "2021-12-10T00:00:00.000000000",
          "2021-12-11T00:00:00.000000000",
          "2021-12-12T00:00:00.000000000",
          "2021-12-13T00:00:00.000000000",
          "2021-12-14T00:00:00.000000000",
          "2021-12-15T00:00:00.000000000",
          "2021-12-16T00:00:00.000000000",
          "2021-12-17T00:00:00.000000000",
          "2021-12-18T00:00:00.000000000",
          "2021-12-19T00:00:00.000000000",
          "2021-12-20T00:00:00.000000000",
          "2021-12-21T00:00:00.000000000",
          "2021-12-22T00:00:00.000000000",
          "2021-12-23T00:00:00.000000000",
          "2021-12-24T00:00:00.000000000",
          "2021-12-25T00:00:00.000000000",
          "2021-12-26T00:00:00.000000000",
          "2021-12-27T00:00:00.000000000",
          "2021-12-28T00:00:00.000000000",
          "2021-12-29T00:00:00.000000000",
          "2021-12-30T00:00:00.000000000",
          "2021-12-31T00:00:00.000000000",
          "2022-01-01T00:00:00.000000000",
          "2022-01-02T00:00:00.000000000",
          "2022-01-03T00:00:00.000000000",
          "2022-01-04T00:00:00.000000000",
          "2022-01-05T00:00:00.000000000",
          "2022-01-06T00:00:00.000000000",
          "2022-01-07T00:00:00.000000000",
          "2022-01-08T00:00:00.000000000",
          "2022-01-09T00:00:00.000000000",
          "2022-01-10T00:00:00.000000000",
          "2022-01-11T00:00:00.000000000",
          "2022-01-12T00:00:00.000000000",
          "2022-01-13T00:00:00.000000000",
          "2022-01-14T00:00:00.000000000",
          "2022-01-15T00:00:00.000000000",
          "2022-01-16T00:00:00.000000000",
          "2022-01-17T00:00:00.000000000",
          "2022-01-18T00:00:00.000000000",
          "2022-01-19T00:00:00.000000000",
          "2022-01-20T00:00:00.000000000",
          "2022-01-21T00:00:00.000000000",
          "2022-01-22T00:00:00.000000000",
          "2022-01-23T00:00:00.000000000",
          "2022-01-24T00:00:00.000000000",
          "2022-01-25T00:00:00.000000000",
          "2022-01-26T00:00:00.000000000",
          "2022-01-27T00:00:00.000000000",
          "2022-01-28T00:00:00.000000000",
          "2022-01-29T00:00:00.000000000",
          "2022-01-30T00:00:00.000000000",
          "2022-01-31T00:00:00.000000000",
          "2022-02-01T00:00:00.000000000",
          "2022-02-02T00:00:00.000000000",
          "2022-02-03T00:00:00.000000000",
          "2022-02-04T00:00:00.000000000",
          "2022-02-05T00:00:00.000000000",
          "2022-02-06T00:00:00.000000000",
          "2022-02-07T00:00:00.000000000",
          "2022-02-08T00:00:00.000000000",
          "2022-02-09T00:00:00.000000000",
          "2022-02-10T00:00:00.000000000",
          "2022-02-11T00:00:00.000000000",
          "2022-02-12T00:00:00.000000000",
          "2022-02-13T00:00:00.000000000",
          "2022-02-14T00:00:00.000000000",
          "2022-02-15T00:00:00.000000000",
          "2022-02-16T00:00:00.000000000",
          "2022-02-17T00:00:00.000000000",
          "2022-02-18T00:00:00.000000000",
          "2022-02-19T00:00:00.000000000",
          "2022-02-20T00:00:00.000000000",
          "2022-02-21T00:00:00.000000000",
          "2022-02-22T00:00:00.000000000",
          "2022-02-23T00:00:00.000000000",
          "2022-02-24T00:00:00.000000000",
          "2022-02-25T00:00:00.000000000",
          "2022-02-26T00:00:00.000000000",
          "2022-02-27T00:00:00.000000000",
          "2022-02-28T00:00:00.000000000",
          "2022-03-01T00:00:00.000000000",
          "2022-03-02T00:00:00.000000000",
          "2022-03-03T00:00:00.000000000",
          "2022-03-04T00:00:00.000000000",
          "2022-03-05T00:00:00.000000000",
          "2022-03-06T00:00:00.000000000",
          "2022-03-07T00:00:00.000000000",
          "2022-03-08T00:00:00.000000000",
          "2022-03-09T00:00:00.000000000",
          "2022-03-10T00:00:00.000000000",
          "2022-03-11T00:00:00.000000000",
          "2022-03-12T00:00:00.000000000",
          "2022-03-13T00:00:00.000000000",
          "2022-03-14T00:00:00.000000000",
          "2022-03-15T00:00:00.000000000",
          "2022-03-16T00:00:00.000000000",
          "2022-03-17T00:00:00.000000000",
          "2022-03-18T00:00:00.000000000",
          "2022-03-19T00:00:00.000000000",
          "2022-03-20T00:00:00.000000000",
          "2022-03-21T00:00:00.000000000",
          "2022-03-22T00:00:00.000000000",
          "2022-03-23T00:00:00.000000000",
          "2022-03-24T00:00:00.000000000",
          "2022-03-25T00:00:00.000000000",
          "2022-03-26T00:00:00.000000000",
          "2022-03-27T00:00:00.000000000",
          "2022-03-28T00:00:00.000000000",
          "2022-03-29T00:00:00.000000000",
          "2022-03-30T00:00:00.000000000",
          "2022-03-31T00:00:00.000000000",
          "2022-04-01T00:00:00.000000000",
          "2022-04-02T00:00:00.000000000",
          "2022-04-03T00:00:00.000000000",
          "2022-04-04T00:00:00.000000000",
          "2022-04-05T00:00:00.000000000",
          "2022-04-06T00:00:00.000000000",
          "2022-04-07T00:00:00.000000000",
          "2022-04-08T00:00:00.000000000",
          "2022-04-09T00:00:00.000000000",
          "2022-04-10T00:00:00.000000000",
          "2022-04-11T00:00:00.000000000",
          "2022-04-12T00:00:00.000000000",
          "2022-04-13T00:00:00.000000000",
          "2022-04-14T00:00:00.000000000",
          "2022-04-15T00:00:00.000000000",
          "2022-04-16T00:00:00.000000000",
          "2022-04-17T00:00:00.000000000",
          "2022-04-18T00:00:00.000000000",
          "2022-04-19T00:00:00.000000000",
          "2022-04-20T00:00:00.000000000",
          "2022-04-21T00:00:00.000000000",
          "2022-04-22T00:00:00.000000000",
          "2022-04-23T00:00:00.000000000",
          "2022-04-24T00:00:00.000000000",
          "2022-04-25T00:00:00.000000000",
          "2022-04-26T00:00:00.000000000",
          "2022-04-27T00:00:00.000000000",
          "2022-04-28T00:00:00.000000000",
          "2022-04-29T00:00:00.000000000",
          "2022-04-30T00:00:00.000000000",
          "2022-05-01T00:00:00.000000000",
          "2022-05-02T00:00:00.000000000",
          "2022-05-03T00:00:00.000000000",
          "2022-05-04T00:00:00.000000000",
          "2022-05-05T00:00:00.000000000",
          "2022-05-06T00:00:00.000000000",
          "2022-05-07T00:00:00.000000000",
          "2022-05-08T00:00:00.000000000",
          "2022-05-09T00:00:00.000000000",
          "2022-05-10T00:00:00.000000000",
          "2022-05-11T00:00:00.000000000",
          "2022-05-12T00:00:00.000000000",
          "2022-05-13T00:00:00.000000000",
          "2022-05-14T00:00:00.000000000",
          "2022-05-15T00:00:00.000000000",
          "2022-05-16T00:00:00.000000000",
          "2022-05-17T00:00:00.000000000",
          "2022-05-18T00:00:00.000000000",
          "2022-05-19T00:00:00.000000000",
          "2022-05-20T00:00:00.000000000",
          "2022-05-21T00:00:00.000000000",
          "2022-05-22T00:00:00.000000000",
          "2022-05-23T00:00:00.000000000",
          "2022-05-24T00:00:00.000000000",
          "2022-05-25T00:00:00.000000000",
          "2022-05-26T00:00:00.000000000",
          "2022-05-27T00:00:00.000000000",
          "2022-05-28T00:00:00.000000000",
          "2022-05-29T00:00:00.000000000",
          "2022-05-30T00:00:00.000000000",
          "2022-05-31T00:00:00.000000000",
          "2022-06-01T00:00:00.000000000",
          "2022-06-02T00:00:00.000000000",
          "2022-06-03T00:00:00.000000000",
          "2022-06-04T00:00:00.000000000",
          "2022-06-05T00:00:00.000000000",
          "2022-06-06T00:00:00.000000000",
          "2022-06-07T00:00:00.000000000",
          "2022-06-08T00:00:00.000000000",
          "2022-06-09T00:00:00.000000000",
          "2022-06-10T00:00:00.000000000",
          "2022-06-11T00:00:00.000000000",
          "2022-06-12T00:00:00.000000000",
          "2022-06-13T00:00:00.000000000",
          "2022-06-14T00:00:00.000000000",
          "2022-06-15T00:00:00.000000000",
          "2022-06-16T00:00:00.000000000",
          "2022-06-17T00:00:00.000000000",
          "2022-06-18T00:00:00.000000000",
          "2022-06-19T00:00:00.000000000",
          "2022-06-20T00:00:00.000000000",
          "2022-06-21T00:00:00.000000000",
          "2022-06-22T00:00:00.000000000",
          "2022-06-23T00:00:00.000000000",
          "2022-06-24T00:00:00.000000000",
          "2022-06-25T00:00:00.000000000",
          "2022-06-26T00:00:00.000000000",
          "2022-06-27T00:00:00.000000000",
          "2022-06-28T00:00:00.000000000",
          "2022-06-29T00:00:00.000000000",
          "2022-06-30T00:00:00.000000000",
          "2022-07-01T00:00:00.000000000",
          "2022-07-02T00:00:00.000000000",
          "2022-07-03T00:00:00.000000000",
          "2022-07-04T00:00:00.000000000",
          "2022-07-05T00:00:00.000000000",
          "2022-07-06T00:00:00.000000000",
          "2022-07-07T00:00:00.000000000",
          "2022-07-08T00:00:00.000000000",
          "2022-07-09T00:00:00.000000000",
          "2022-07-10T00:00:00.000000000",
          "2022-07-11T00:00:00.000000000",
          "2022-07-12T00:00:00.000000000",
          "2022-07-13T00:00:00.000000000",
          "2022-07-14T00:00:00.000000000",
          "2022-07-15T00:00:00.000000000",
          "2022-07-16T00:00:00.000000000",
          "2022-07-17T00:00:00.000000000",
          "2022-07-18T00:00:00.000000000",
          "2022-07-19T00:00:00.000000000",
          "2022-07-20T00:00:00.000000000",
          "2022-07-21T00:00:00.000000000",
          "2022-07-22T00:00:00.000000000",
          "2022-07-23T00:00:00.000000000",
          "2022-07-24T00:00:00.000000000",
          "2022-07-25T00:00:00.000000000",
          "2022-07-26T00:00:00.000000000",
          "2022-07-27T00:00:00.000000000",
          "2022-07-28T00:00:00.000000000",
          "2022-07-29T00:00:00.000000000",
          "2022-07-30T00:00:00.000000000",
          "2022-07-31T00:00:00.000000000",
          "2022-08-01T00:00:00.000000000",
          "2022-08-02T00:00:00.000000000",
          "2022-08-03T00:00:00.000000000",
          "2022-08-04T00:00:00.000000000",
          "2022-08-05T00:00:00.000000000",
          "2022-08-06T00:00:00.000000000",
          "2022-08-07T00:00:00.000000000",
          "2022-08-08T00:00:00.000000000",
          "2022-08-09T00:00:00.000000000",
          "2022-08-10T00:00:00.000000000",
          "2022-08-11T00:00:00.000000000",
          "2022-08-12T00:00:00.000000000",
          "2022-08-13T00:00:00.000000000",
          "2022-08-14T00:00:00.000000000",
          "2022-08-15T00:00:00.000000000",
          "2022-08-16T00:00:00.000000000",
          "2022-08-17T00:00:00.000000000",
          "2022-08-18T00:00:00.000000000",
          "2022-08-19T00:00:00.000000000",
          "2022-08-20T00:00:00.000000000",
          "2022-08-21T00:00:00.000000000",
          "2022-08-22T00:00:00.000000000",
          "2022-08-23T00:00:00.000000000",
          "2022-08-24T00:00:00.000000000",
          "2022-08-25T00:00:00.000000000",
          "2022-08-26T00:00:00.000000000",
          "2022-08-27T00:00:00.000000000",
          "2022-08-28T00:00:00.000000000",
          "2022-08-29T00:00:00.000000000",
          "2022-08-30T00:00:00.000000000",
          "2022-08-31T00:00:00.000000000",
          "2022-09-01T00:00:00.000000000",
          "2022-09-02T00:00:00.000000000",
          "2022-09-03T00:00:00.000000000",
          "2022-09-04T00:00:00.000000000",
          "2022-09-05T00:00:00.000000000",
          "2022-09-06T00:00:00.000000000",
          "2022-09-07T00:00:00.000000000",
          "2022-09-08T00:00:00.000000000",
          "2022-09-09T00:00:00.000000000",
          "2022-09-10T00:00:00.000000000",
          "2022-09-11T00:00:00.000000000",
          "2022-09-12T00:00:00.000000000",
          "2022-09-13T00:00:00.000000000",
          "2022-09-14T00:00:00.000000000",
          "2022-09-15T00:00:00.000000000",
          "2022-09-16T00:00:00.000000000",
          "2022-09-17T00:00:00.000000000",
          "2022-09-18T00:00:00.000000000",
          "2022-09-19T00:00:00.000000000",
          "2022-09-20T00:00:00.000000000",
          "2022-09-21T00:00:00.000000000",
          "2022-09-22T00:00:00.000000000",
          "2022-09-23T00:00:00.000000000",
          "2022-09-24T00:00:00.000000000",
          "2022-09-25T00:00:00.000000000",
          "2022-09-26T00:00:00.000000000",
          "2022-09-27T00:00:00.000000000",
          "2022-09-28T00:00:00.000000000",
          "2022-09-29T00:00:00.000000000",
          "2022-09-30T00:00:00.000000000",
          "2022-10-01T00:00:00.000000000",
          "2022-10-02T00:00:00.000000000",
          "2022-10-03T00:00:00.000000000",
          "2022-10-04T00:00:00.000000000",
          "2022-10-05T00:00:00.000000000",
          "2022-10-06T00:00:00.000000000",
          "2022-10-07T00:00:00.000000000",
          "2022-10-08T00:00:00.000000000",
          "2022-10-09T00:00:00.000000000",
          "2022-10-10T00:00:00.000000000",
          "2022-10-11T00:00:00.000000000",
          "2022-10-12T00:00:00.000000000",
          "2022-10-13T00:00:00.000000000",
          "2022-10-14T00:00:00.000000000",
          "2022-10-15T00:00:00.000000000",
          "2022-10-16T00:00:00.000000000",
          "2022-10-17T00:00:00.000000000",
          "2022-10-18T00:00:00.000000000",
          "2022-10-19T00:00:00.000000000",
          "2022-10-20T00:00:00.000000000",
          "2022-10-21T00:00:00.000000000",
          "2022-10-22T00:00:00.000000000",
          "2022-10-23T00:00:00.000000000",
          "2022-10-24T00:00:00.000000000",
          "2022-10-25T00:00:00.000000000",
          "2022-10-26T00:00:00.000000000",
          "2022-10-27T00:00:00.000000000",
          "2022-10-28T00:00:00.000000000",
          "2022-10-29T00:00:00.000000000",
          "2022-10-30T00:00:00.000000000",
          "2022-10-31T00:00:00.000000000",
          "2022-11-01T00:00:00.000000000",
          "2022-11-02T00:00:00.000000000",
          "2022-11-03T00:00:00.000000000",
          "2022-11-04T00:00:00.000000000",
          "2022-11-05T00:00:00.000000000",
          "2022-11-06T00:00:00.000000000",
          "2022-11-07T00:00:00.000000000",
          "2022-11-08T00:00:00.000000000",
          "2022-11-09T00:00:00.000000000",
          "2022-11-10T00:00:00.000000000",
          "2022-11-11T00:00:00.000000000",
          "2022-11-12T00:00:00.000000000",
          "2022-11-13T00:00:00.000000000",
          "2022-11-14T00:00:00.000000000",
          "2022-11-15T00:00:00.000000000",
          "2022-11-16T00:00:00.000000000",
          "2022-11-17T00:00:00.000000000",
          "2022-11-18T00:00:00.000000000",
          "2022-11-19T00:00:00.000000000",
          "2022-11-20T00:00:00.000000000",
          "2022-11-21T00:00:00.000000000",
          "2022-11-22T00:00:00.000000000",
          "2022-11-23T00:00:00.000000000",
          "2022-11-24T00:00:00.000000000",
          "2022-11-25T00:00:00.000000000",
          "2022-11-26T00:00:00.000000000",
          "2022-11-27T00:00:00.000000000",
          "2022-11-28T00:00:00.000000000",
          "2022-11-29T00:00:00.000000000",
          "2022-11-30T00:00:00.000000000",
          "2022-12-01T00:00:00.000000000",
          "2022-12-02T00:00:00.000000000",
          "2022-12-03T00:00:00.000000000",
          "2022-12-04T00:00:00.000000000",
          "2022-12-05T00:00:00.000000000",
          "2022-12-06T00:00:00.000000000",
          "2022-12-07T00:00:00.000000000",
          "2022-12-08T00:00:00.000000000",
          "2022-12-09T00:00:00.000000000",
          "2022-12-10T00:00:00.000000000",
          "2022-12-11T00:00:00.000000000",
          "2022-12-12T00:00:00.000000000",
          "2022-12-13T00:00:00.000000000",
          "2022-12-14T00:00:00.000000000",
          "2022-12-15T00:00:00.000000000",
          "2022-12-16T00:00:00.000000000",
          "2022-12-17T00:00:00.000000000",
          "2022-12-18T00:00:00.000000000",
          "2022-12-19T00:00:00.000000000",
          "2022-12-20T00:00:00.000000000",
          "2022-12-21T00:00:00.000000000",
          "2022-12-22T00:00:00.000000000",
          "2022-12-23T00:00:00.000000000",
          "2022-12-24T00:00:00.000000000",
          "2022-12-25T00:00:00.000000000",
          "2022-12-26T00:00:00.000000000",
          "2022-12-27T00:00:00.000000000",
          "2022-12-28T00:00:00.000000000",
          "2022-12-29T00:00:00.000000000",
          "2022-12-30T00:00:00.000000000",
          "2022-12-31T00:00:00.000000000",
          "2023-01-01T00:00:00.000000000",
          "2023-01-02T00:00:00.000000000",
          "2023-01-03T00:00:00.000000000",
          "2023-01-04T00:00:00.000000000",
          "2023-01-05T00:00:00.000000000",
          "2023-01-06T00:00:00.000000000",
          "2023-01-07T00:00:00.000000000",
          "2023-01-08T00:00:00.000000000",
          "2023-01-09T00:00:00.000000000",
          "2023-01-10T00:00:00.000000000",
          "2023-01-11T00:00:00.000000000",
          "2023-01-12T00:00:00.000000000",
          "2023-01-13T00:00:00.000000000",
          "2023-01-14T00:00:00.000000000",
          "2023-01-15T00:00:00.000000000",
          "2023-01-16T00:00:00.000000000",
          "2023-01-17T00:00:00.000000000",
          "2023-01-18T00:00:00.000000000",
          "2023-01-19T00:00:00.000000000",
          "2023-01-20T00:00:00.000000000",
          "2023-01-21T00:00:00.000000000",
          "2023-01-22T00:00:00.000000000",
          "2023-01-23T00:00:00.000000000",
          "2023-01-24T00:00:00.000000000",
          "2023-01-25T00:00:00.000000000",
          "2023-01-26T00:00:00.000000000",
          "2023-01-27T00:00:00.000000000",
          "2023-01-28T00:00:00.000000000",
          "2023-01-29T00:00:00.000000000",
          "2023-01-30T00:00:00.000000000",
          "2023-01-31T00:00:00.000000000",
          "2023-02-01T00:00:00.000000000",
          "2023-02-02T00:00:00.000000000",
          "2023-02-03T00:00:00.000000000",
          "2023-02-04T00:00:00.000000000",
          "2023-02-05T00:00:00.000000000",
          "2023-02-06T00:00:00.000000000",
          "2023-02-07T00:00:00.000000000",
          "2023-02-08T00:00:00.000000000",
          "2023-02-09T00:00:00.000000000",
          "2023-02-10T00:00:00.000000000",
          "2023-02-11T00:00:00.000000000",
          "2023-02-12T00:00:00.000000000",
          "2023-02-13T00:00:00.000000000",
          "2023-02-14T00:00:00.000000000",
          "2023-02-15T00:00:00.000000000",
          "2023-02-16T00:00:00.000000000",
          "2023-02-17T00:00:00.000000000",
          "2023-02-18T00:00:00.000000000",
          "2023-02-19T00:00:00.000000000",
          "2023-02-20T00:00:00.000000000",
          "2023-02-21T00:00:00.000000000",
          "2023-02-22T00:00:00.000000000",
          "2023-02-23T00:00:00.000000000",
          "2023-02-24T00:00:00.000000000",
          "2023-02-25T00:00:00.000000000",
          "2023-02-26T00:00:00.000000000",
          "2023-02-27T00:00:00.000000000",
          "2023-02-28T00:00:00.000000000",
          "2023-03-01T00:00:00.000000000",
          "2023-03-02T00:00:00.000000000",
          "2023-03-03T00:00:00.000000000",
          "2023-03-04T00:00:00.000000000",
          "2023-03-05T00:00:00.000000000",
          "2023-03-06T00:00:00.000000000",
          "2023-03-07T00:00:00.000000000",
          "2023-03-08T00:00:00.000000000",
          "2023-03-09T00:00:00.000000000",
          "2023-03-10T00:00:00.000000000",
          "2023-03-11T00:00:00.000000000",
          "2023-03-12T00:00:00.000000000",
          "2023-03-13T00:00:00.000000000",
          "2023-03-14T00:00:00.000000000",
          "2023-03-15T00:00:00.000000000",
          "2023-03-16T00:00:00.000000000",
          "2023-03-17T00:00:00.000000000",
          "2023-03-18T00:00:00.000000000",
          "2023-03-19T00:00:00.000000000",
          "2023-03-20T00:00:00.000000000",
          "2023-03-21T00:00:00.000000000",
          "2023-03-22T00:00:00.000000000",
          "2023-03-23T00:00:00.000000000",
          "2023-03-24T00:00:00.000000000",
          "2023-03-25T00:00:00.000000000",
          "2023-03-26T00:00:00.000000000",
          "2023-03-27T00:00:00.000000000",
          "2023-03-28T00:00:00.000000000",
          "2023-03-29T00:00:00.000000000",
          "2023-03-30T00:00:00.000000000",
          "2023-03-31T00:00:00.000000000",
          "2023-04-01T00:00:00.000000000",
          "2023-04-02T00:00:00.000000000",
          "2023-04-03T00:00:00.000000000",
          "2023-04-04T00:00:00.000000000",
          "2023-04-05T00:00:00.000000000",
          "2023-04-06T00:00:00.000000000",
          "2023-04-07T00:00:00.000000000",
          "2023-04-08T00:00:00.000000000",
          "2023-04-09T00:00:00.000000000",
          "2023-04-10T00:00:00.000000000",
          "2023-04-11T00:00:00.000000000",
          "2023-04-12T00:00:00.000000000",
          "2023-04-13T00:00:00.000000000",
          "2023-04-14T00:00:00.000000000",
          "2023-04-15T00:00:00.000000000",
          "2023-04-16T00:00:00.000000000",
          "2023-04-17T00:00:00.000000000",
          "2023-04-18T00:00:00.000000000",
          "2023-04-19T00:00:00.000000000",
          "2023-04-20T00:00:00.000000000",
          "2023-04-21T00:00:00.000000000",
          "2023-04-22T00:00:00.000000000",
          "2023-04-23T00:00:00.000000000",
          "2023-04-24T00:00:00.000000000",
          "2023-04-25T00:00:00.000000000",
          "2023-04-26T00:00:00.000000000",
          "2023-04-27T00:00:00.000000000",
          "2023-04-28T00:00:00.000000000",
          "2023-04-29T00:00:00.000000000",
          "2023-04-30T00:00:00.000000000",
          "2023-05-01T00:00:00.000000000",
          "2023-05-02T00:00:00.000000000",
          "2023-05-03T00:00:00.000000000",
          "2023-05-04T00:00:00.000000000",
          "2023-05-05T00:00:00.000000000",
          "2023-05-06T00:00:00.000000000",
          "2023-05-07T00:00:00.000000000",
          "2023-05-08T00:00:00.000000000",
          "2023-05-09T00:00:00.000000000",
          "2023-05-10T00:00:00.000000000",
          "2023-05-11T00:00:00.000000000",
          "2023-05-12T00:00:00.000000000",
          "2023-05-13T00:00:00.000000000",
          "2023-05-14T00:00:00.000000000",
          "2023-05-15T00:00:00.000000000",
          "2023-05-16T00:00:00.000000000",
          "2023-05-17T00:00:00.000000000",
          "2023-05-18T00:00:00.000000000",
          "2023-05-19T00:00:00.000000000",
          "2023-05-20T00:00:00.000000000",
          "2023-05-21T00:00:00.000000000",
          "2023-05-22T00:00:00.000000000",
          "2023-05-23T00:00:00.000000000",
          "2023-05-24T00:00:00.000000000",
          "2023-05-25T00:00:00.000000000",
          "2023-05-26T00:00:00.000000000",
          "2023-05-27T00:00:00.000000000",
          "2023-05-28T00:00:00.000000000",
          "2023-05-29T00:00:00.000000000",
          "2023-05-30T00:00:00.000000000",
          "2023-05-31T00:00:00.000000000",
          "2023-06-01T00:00:00.000000000",
          "2023-06-02T00:00:00.000000000",
          "2023-06-03T00:00:00.000000000",
          "2023-06-04T00:00:00.000000000",
          "2023-06-05T00:00:00.000000000",
          "2023-06-06T00:00:00.000000000",
          "2023-06-07T00:00:00.000000000",
          "2023-06-08T00:00:00.000000000",
          "2023-06-09T00:00:00.000000000",
          "2023-06-10T00:00:00.000000000",
          "2023-06-11T00:00:00.000000000",
          "2023-06-12T00:00:00.000000000",
          "2023-06-13T00:00:00.000000000",
          "2023-06-14T00:00:00.000000000",
          "2023-06-15T00:00:00.000000000",
          "2023-06-16T00:00:00.000000000",
          "2023-06-17T00:00:00.000000000",
          "2023-06-18T00:00:00.000000000",
          "2023-06-19T00:00:00.000000000",
          "2023-06-20T00:00:00.000000000",
          "2023-06-21T00:00:00.000000000",
          "2023-06-22T00:00:00.000000000",
          "2023-06-23T00:00:00.000000000",
          "2023-06-24T00:00:00.000000000",
          "2023-06-25T00:00:00.000000000",
          "2023-06-26T00:00:00.000000000",
          "2023-06-27T00:00:00.000000000",
          "2023-06-28T00:00:00.000000000",
          "2023-06-29T00:00:00.000000000",
          "2023-06-30T00:00:00.000000000",
          "2023-07-01T00:00:00.000000000",
          "2023-07-02T00:00:00.000000000",
          "2023-07-03T00:00:00.000000000",
          "2023-07-04T00:00:00.000000000",
          "2023-07-05T00:00:00.000000000",
          "2023-07-06T00:00:00.000000000",
          "2023-07-07T00:00:00.000000000",
          "2023-07-08T00:00:00.000000000",
          "2023-07-09T00:00:00.000000000",
          "2023-07-10T00:00:00.000000000",
          "2023-07-11T00:00:00.000000000",
          "2023-07-12T00:00:00.000000000",
          "2023-07-13T00:00:00.000000000",
          "2023-07-14T00:00:00.000000000",
          "2023-07-15T00:00:00.000000000",
          "2023-07-16T00:00:00.000000000",
          "2023-07-17T00:00:00.000000000",
          "2023-07-18T00:00:00.000000000",
          "2023-07-19T00:00:00.000000000",
          "2023-07-20T00:00:00.000000000",
          "2023-07-21T00:00:00.000000000",
          "2023-07-22T00:00:00.000000000",
          "2023-07-23T00:00:00.000000000",
          "2023-07-24T00:00:00.000000000",
          "2023-07-25T00:00:00.000000000",
          "2023-07-26T00:00:00.000000000",
          "2023-07-27T00:00:00.000000000",
          "2023-07-28T00:00:00.000000000",
          "2023-07-29T00:00:00.000000000",
          "2023-07-30T00:00:00.000000000",
          "2023-07-31T00:00:00.000000000",
          "2023-08-01T00:00:00.000000000",
          "2023-08-02T00:00:00.000000000",
          "2023-08-03T00:00:00.000000000",
          "2023-08-04T00:00:00.000000000",
          "2023-08-05T00:00:00.000000000",
          "2023-08-06T00:00:00.000000000",
          "2023-08-07T00:00:00.000000000",
          "2023-08-08T00:00:00.000000000",
          "2023-08-09T00:00:00.000000000",
          "2023-08-10T00:00:00.000000000",
          "2023-08-11T00:00:00.000000000",
          "2023-08-12T00:00:00.000000000",
          "2023-08-13T00:00:00.000000000",
          "2023-08-14T00:00:00.000000000",
          "2023-08-15T00:00:00.000000000",
          "2023-08-16T00:00:00.000000000",
          "2023-08-17T00:00:00.000000000",
          "2023-08-18T00:00:00.000000000",
          "2023-08-19T00:00:00.000000000",
          "2023-08-20T00:00:00.000000000",
          "2023-08-21T00:00:00.000000000",
          "2023-08-22T00:00:00.000000000",
          "2023-08-23T00:00:00.000000000",
          "2023-08-24T00:00:00.000000000",
          "2023-08-25T00:00:00.000000000",
          "2023-08-26T00:00:00.000000000",
          "2023-08-27T00:00:00.000000000",
          "2023-08-28T00:00:00.000000000",
          "2023-08-29T00:00:00.000000000",
          "2023-08-30T00:00:00.000000000",
          "2023-08-31T00:00:00.000000000",
          "2023-09-01T00:00:00.000000000",
          "2023-09-02T00:00:00.000000000",
          "2023-09-03T00:00:00.000000000",
          "2023-09-04T00:00:00.000000000",
          "2023-09-05T00:00:00.000000000",
          "2023-09-06T00:00:00.000000000",
          "2023-09-07T00:00:00.000000000",
          "2023-09-08T00:00:00.000000000",
          "2023-09-09T00:00:00.000000000",
          "2023-09-10T00:00:00.000000000",
          "2023-09-11T00:00:00.000000000",
          "2023-09-12T00:00:00.000000000",
          "2023-09-13T00:00:00.000000000",
          "2023-09-14T00:00:00.000000000",
          "2023-09-15T00:00:00.000000000",
          "2023-09-16T00:00:00.000000000",
          "2023-09-17T00:00:00.000000000",
          "2023-09-18T00:00:00.000000000",
          "2023-09-19T00:00:00.000000000",
          "2023-09-20T00:00:00.000000000",
          "2023-09-21T00:00:00.000000000",
          "2023-09-22T00:00:00.000000000",
          "2023-09-23T00:00:00.000000000",
          "2023-09-24T00:00:00.000000000",
          "2023-09-25T00:00:00.000000000",
          "2023-09-26T00:00:00.000000000",
          "2023-09-27T00:00:00.000000000",
          "2023-09-28T00:00:00.000000000",
          "2023-09-29T00:00:00.000000000",
          "2023-09-30T00:00:00.000000000",
          "2023-10-01T00:00:00.000000000",
          "2023-10-02T00:00:00.000000000",
          "2023-10-03T00:00:00.000000000",
          "2023-10-04T00:00:00.000000000",
          "2023-10-05T00:00:00.000000000",
          "2023-10-06T00:00:00.000000000",
          "2023-10-07T00:00:00.000000000",
          "2023-10-08T00:00:00.000000000",
          "2023-10-09T00:00:00.000000000",
          "2023-10-10T00:00:00.000000000",
          "2023-10-11T00:00:00.000000000",
          "2023-10-12T00:00:00.000000000",
          "2023-10-13T00:00:00.000000000",
          "2023-10-14T00:00:00.000000000",
          "2023-10-15T00:00:00.000000000",
          "2023-10-16T00:00:00.000000000",
          "2023-10-17T00:00:00.000000000",
          "2023-10-18T00:00:00.000000000",
          "2023-10-19T00:00:00.000000000",
          "2023-10-20T00:00:00.000000000",
          "2023-10-21T00:00:00.000000000",
          "2023-10-22T00:00:00.000000000",
          "2023-10-23T00:00:00.000000000",
          "2023-10-24T00:00:00.000000000",
          "2023-10-25T00:00:00.000000000",
          "2023-10-26T00:00:00.000000000",
          "2023-10-27T00:00:00.000000000",
          "2023-10-28T00:00:00.000000000",
          "2023-10-29T00:00:00.000000000",
          "2023-10-30T00:00:00.000000000",
          "2023-10-31T00:00:00.000000000",
          "2023-11-01T00:00:00.000000000",
          "2023-11-02T00:00:00.000000000",
          "2023-11-03T00:00:00.000000000",
          "2023-11-04T00:00:00.000000000",
          "2023-11-05T00:00:00.000000000",
          "2023-11-06T00:00:00.000000000",
          "2023-11-07T00:00:00.000000000",
          "2023-11-08T00:00:00.000000000",
          "2023-11-09T00:00:00.000000000",
          "2023-11-10T00:00:00.000000000",
          "2023-11-11T00:00:00.000000000",
          "2023-11-12T00:00:00.000000000",
          "2023-11-13T00:00:00.000000000",
          "2023-11-14T00:00:00.000000000",
          "2023-11-15T00:00:00.000000000",
          "2023-11-16T00:00:00.000000000",
          "2023-11-17T00:00:00.000000000",
          "2023-11-18T00:00:00.000000000",
          "2023-11-19T00:00:00.000000000",
          "2023-11-20T00:00:00.000000000",
          "2023-11-21T00:00:00.000000000",
          "2023-11-22T00:00:00.000000000",
          "2023-11-23T00:00:00.000000000",
          "2023-11-24T00:00:00.000000000",
          "2023-11-25T00:00:00.000000000",
          "2023-11-26T00:00:00.000000000",
          "2023-11-27T00:00:00.000000000",
          "2023-11-28T00:00:00.000000000",
          "2023-11-29T00:00:00.000000000",
          "2023-11-30T00:00:00.000000000",
          "2023-12-01T00:00:00.000000000",
          "2023-12-02T00:00:00.000000000",
          "2023-12-03T00:00:00.000000000",
          "2023-12-04T00:00:00.000000000",
          "2023-12-05T00:00:00.000000000",
          "2023-12-06T00:00:00.000000000",
          "2023-12-07T00:00:00.000000000",
          "2023-12-08T00:00:00.000000000",
          "2023-12-09T00:00:00.000000000",
          "2023-12-10T00:00:00.000000000",
          "2023-12-11T00:00:00.000000000",
          "2023-12-12T00:00:00.000000000",
          "2023-12-13T00:00:00.000000000",
          "2023-12-14T00:00:00.000000000",
          "2023-12-15T00:00:00.000000000",
          "2023-12-16T00:00:00.000000000",
          "2023-12-17T00:00:00.000000000",
          "2023-12-18T00:00:00.000000000",
          "2023-12-19T00:00:00.000000000",
          "2023-12-20T00:00:00.000000000",
          "2023-12-21T00:00:00.000000000",
          "2023-12-22T00:00:00.000000000",
          "2023-12-23T00:00:00.000000000",
          "2023-12-24T00:00:00.000000000",
          "2023-12-25T00:00:00.000000000",
          "2023-12-26T00:00:00.000000000",
          "2023-12-27T00:00:00.000000000",
          "2023-12-28T00:00:00.000000000",
          "2023-12-29T00:00:00.000000000",
          "2023-12-30T00:00:00.000000000",
          "2023-12-31T00:00:00.000000000"
         ],
         "xaxis": "x2",
         "y": {
          "bdata": "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",
          "dtype": "f8"
         },
         "yaxis": "y2"
        },
        {
         "line": {
          "color": "green",
          "width": 1
         },
         "mode": "lines",
         "type": "scatter",
         "x": [
          "2021-01-02T00:00:00.000000000",
          "2021-01-03T00:00:00.000000000",
          "2021-01-04T00:00:00.000000000",
          "2021-01-05T00:00:00.000000000",
          "2021-01-06T00:00:00.000000000",
          "2021-01-07T00:00:00.000000000",
          "2021-01-08T00:00:00.000000000",
          "2021-01-09T00:00:00.000000000",
          "2021-01-10T00:00:00.000000000",
          "2021-01-11T00:00:00.000000000",
          "2021-01-12T00:00:00.000000000",
          "2021-01-13T00:00:00.000000000",
          "2021-01-14T00:00:00.000000000",
          "2021-01-15T00:00:00.000000000",
          "2021-01-16T00:00:00.000000000",
          "2021-01-17T00:00:00.000000000",
          "2021-01-18T00:00:00.000000000",
          "2021-01-19T00:00:00.000000000",
          "2021-01-20T00:00:00.000000000",
          "2021-01-21T00:00:00.000000000",
          "2021-01-22T00:00:00.000000000",
          "2021-01-23T00:00:00.000000000",
          "2021-01-24T00:00:00.000000000",
          "2021-01-25T00:00:00.000000000",
          "2021-01-26T00:00:00.000000000",
          "2021-01-27T00:00:00.000000000",
          "2021-01-28T00:00:00.000000000",
          "2021-01-29T00:00:00.000000000",
          "2021-01-30T00:00:00.000000000",
          "2021-01-31T00:00:00.000000000",
          "2021-02-01T00:00:00.000000000",
          "2021-02-02T00:00:00.000000000",
          "2021-02-03T00:00:00.000000000",
          "2021-02-04T00:00:00.000000000",
          "2021-02-05T00:00:00.000000000",
          "2021-02-06T00:00:00.000000000",
          "2021-02-07T00:00:00.000000000",
          "2021-02-08T00:00:00.000000000",
          "2021-02-09T00:00:00.000000000",
          "2021-02-10T00:00:00.000000000",
          "2021-02-11T00:00:00.000000000",
          "2021-02-12T00:00:00.000000000",
          "2021-02-13T00:00:00.000000000",
          "2021-02-14T00:00:00.000000000",
          "2021-02-15T00:00:00.000000000",
          "2021-02-16T00:00:00.000000000",
          "2021-02-17T00:00:00.000000000",
          "2021-02-18T00:00:00.000000000",
          "2021-02-19T00:00:00.000000000",
          "2021-02-20T00:00:00.000000000",
          "2021-02-21T00:00:00.000000000",
          "2021-02-22T00:00:00.000000000",
          "2021-02-23T00:00:00.000000000",
          "2021-02-24T00:00:00.000000000",
          "2021-02-25T00:00:00.000000000",
          "2021-02-26T00:00:00.000000000",
          "2021-02-27T00:00:00.000000000",
          "2021-02-28T00:00:00.000000000",
          "2021-03-01T00:00:00.000000000",
          "2021-03-02T00:00:00.000000000",
          "2021-03-03T00:00:00.000000000",
          "2021-03-04T00:00:00.000000000",
          "2021-03-05T00:00:00.000000000",
          "2021-03-06T00:00:00.000000000",
          "2021-03-07T00:00:00.000000000",
          "2021-03-08T00:00:00.000000000",
          "2021-03-09T00:00:00.000000000",
          "2021-03-10T00:00:00.000000000",
          "2021-03-11T00:00:00.000000000",
          "2021-03-12T00:00:00.000000000",
          "2021-03-13T00:00:00.000000000",
          "2021-03-14T00:00:00.000000000",
          "2021-03-15T00:00:00.000000000",
          "2021-03-16T00:00:00.000000000",
          "2021-03-17T00:00:00.000000000",
          "2021-03-18T00:00:00.000000000",
          "2021-03-19T00:00:00.000000000",
          "2021-03-20T00:00:00.000000000",
          "2021-03-21T00:00:00.000000000",
          "2021-03-22T00:00:00.000000000",
          "2021-03-23T00:00:00.000000000",
          "2021-03-24T00:00:00.000000000",
          "2021-03-25T00:00:00.000000000",
          "2021-03-26T00:00:00.000000000",
          "2021-03-27T00:00:00.000000000",
          "2021-03-28T00:00:00.000000000",
          "2021-03-29T00:00:00.000000000",
          "2021-03-30T00:00:00.000000000",
          "2021-03-31T00:00:00.000000000",
          "2021-04-01T00:00:00.000000000",
          "2021-04-02T00:00:00.000000000",
          "2021-04-03T00:00:00.000000000",
          "2021-04-04T00:00:00.000000000",
          "2021-04-05T00:00:00.000000000",
          "2021-04-06T00:00:00.000000000",
          "2021-04-07T00:00:00.000000000",
          "2021-04-08T00:00:00.000000000",
          "2021-04-09T00:00:00.000000000",
          "2021-04-10T00:00:00.000000000",
          "2021-04-11T00:00:00.000000000",
          "2021-04-12T00:00:00.000000000",
          "2021-04-13T00:00:00.000000000",
          "2021-04-14T00:00:00.000000000",
          "2021-04-15T00:00:00.000000000",
          "2021-04-16T00:00:00.000000000",
          "2021-04-17T00:00:00.000000000",
          "2021-04-18T00:00:00.000000000",
          "2021-04-19T00:00:00.000000000",
          "2021-04-20T00:00:00.000000000",
          "2021-04-21T00:00:00.000000000",
          "2021-04-22T00:00:00.000000000",
          "2021-04-23T00:00:00.000000000",
          "2021-04-24T00:00:00.000000000",
          "2021-04-25T00:00:00.000000000",
          "2021-04-26T00:00:00.000000000",
          "2021-04-27T00:00:00.000000000",
          "2021-04-28T00:00:00.000000000",
          "2021-04-29T00:00:00.000000000",
          "2021-04-30T00:00:00.000000000",
          "2021-05-01T00:00:00.000000000",
          "2021-05-02T00:00:00.000000000",
          "2021-05-03T00:00:00.000000000",
          "2021-05-04T00:00:00.000000000",
          "2021-05-05T00:00:00.000000000",
          "2021-05-06T00:00:00.000000000",
          "2021-05-07T00:00:00.000000000",
          "2021-05-08T00:00:00.000000000",
          "2021-05-09T00:00:00.000000000",
          "2021-05-10T00:00:00.000000000",
          "2021-05-11T00:00:00.000000000",
          "2021-05-12T00:00:00.000000000",
          "2021-05-13T00:00:00.000000000",
          "2021-05-14T00:00:00.000000000",
          "2021-05-15T00:00:00.000000000",
          "2021-05-16T00:00:00.000000000",
          "2021-05-17T00:00:00.000000000",
          "2021-05-18T00:00:00.000000000",
          "2021-05-19T00:00:00.000000000",
          "2021-05-20T00:00:00.000000000",
          "2021-05-21T00:00:00.000000000",
          "2021-05-22T00:00:00.000000000",
          "2021-05-23T00:00:00.000000000",
          "2021-05-24T00:00:00.000000000",
          "2021-05-25T00:00:00.000000000",
          "2021-05-26T00:00:00.000000000",
          "2021-05-27T00:00:00.000000000",
          "2021-05-28T00:00:00.000000000",
          "2021-05-29T00:00:00.000000000",
          "2021-05-30T00:00:00.000000000",
          "2021-05-31T00:00:00.000000000",
          "2021-06-01T00:00:00.000000000",
          "2021-06-02T00:00:00.000000000",
          "2021-06-03T00:00:00.000000000",
          "2021-06-04T00:00:00.000000000",
          "2021-06-05T00:00:00.000000000",
          "2021-06-06T00:00:00.000000000",
          "2021-06-07T00:00:00.000000000",
          "2021-06-08T00:00:00.000000000",
          "2021-06-09T00:00:00.000000000",
          "2021-06-10T00:00:00.000000000",
          "2021-06-11T00:00:00.000000000",
          "2021-06-12T00:00:00.000000000",
          "2021-06-13T00:00:00.000000000",
          "2021-06-14T00:00:00.000000000",
          "2021-06-15T00:00:00.000000000",
          "2021-06-16T00:00:00.000000000",
          "2021-06-17T00:00:00.000000000",
          "2021-06-18T00:00:00.000000000",
          "2021-06-19T00:00:00.000000000",
          "2021-06-20T00:00:00.000000000",
          "2021-06-21T00:00:00.000000000",
          "2021-06-22T00:00:00.000000000",
          "2021-06-23T00:00:00.000000000",
          "2021-06-24T00:00:00.000000000",
          "2021-06-25T00:00:00.000000000",
          "2021-06-26T00:00:00.000000000",
          "2021-06-27T00:00:00.000000000",
          "2021-06-28T00:00:00.000000000",
          "2021-06-29T00:00:00.000000000",
          "2021-06-30T00:00:00.000000000",
          "2021-07-01T00:00:00.000000000",
          "2021-07-02T00:00:00.000000000",
          "2021-07-03T00:00:00.000000000",
          "2021-07-04T00:00:00.000000000",
          "2021-07-05T00:00:00.000000000",
          "2021-07-06T00:00:00.000000000",
          "2021-07-07T00:00:00.000000000",
          "2021-07-08T00:00:00.000000000",
          "2021-07-09T00:00:00.000000000",
          "2021-07-10T00:00:00.000000000",
          "2021-07-11T00:00:00.000000000",
          "2021-07-12T00:00:00.000000000",
          "2021-07-13T00:00:00.000000000",
          "2021-07-14T00:00:00.000000000",
          "2021-07-15T00:00:00.000000000",
          "2021-07-16T00:00:00.000000000",
          "2021-07-17T00:00:00.000000000",
          "2021-07-18T00:00:00.000000000",
          "2021-07-19T00:00:00.000000000",
          "2021-07-20T00:00:00.000000000",
          "2021-07-21T00:00:00.000000000",
          "2021-07-22T00:00:00.000000000",
          "2021-07-23T00:00:00.000000000",
          "2021-07-24T00:00:00.000000000",
          "2021-07-25T00:00:00.000000000",
          "2021-07-26T00:00:00.000000000",
          "2021-07-27T00:00:00.000000000",
          "2021-07-28T00:00:00.000000000",
          "2021-07-29T00:00:00.000000000",
          "2021-07-30T00:00:00.000000000",
          "2021-07-31T00:00:00.000000000",
          "2021-08-01T00:00:00.000000000",
          "2021-08-02T00:00:00.000000000",
          "2021-08-03T00:00:00.000000000",
          "2021-08-04T00:00:00.000000000",
          "2021-08-05T00:00:00.000000000",
          "2021-08-06T00:00:00.000000000",
          "2021-08-07T00:00:00.000000000",
          "2021-08-08T00:00:00.000000000",
          "2021-08-09T00:00:00.000000000",
          "2021-08-10T00:00:00.000000000",
          "2021-08-11T00:00:00.000000000",
          "2021-08-12T00:00:00.000000000",
          "2021-08-13T00:00:00.000000000",
          "2021-08-14T00:00:00.000000000",
          "2021-08-15T00:00:00.000000000",
          "2021-08-16T00:00:00.000000000",
          "2021-08-17T00:00:00.000000000",
          "2021-08-18T00:00:00.000000000",
          "2021-08-19T00:00:00.000000000",
          "2021-08-20T00:00:00.000000000",
          "2021-08-21T00:00:00.000000000",
          "2021-08-22T00:00:00.000000000",
          "2021-08-23T00:00:00.000000000",
          "2021-08-24T00:00:00.000000000",
          "2021-08-25T00:00:00.000000000",
          "2021-08-26T00:00:00.000000000",
          "2021-08-27T00:00:00.000000000",
          "2021-08-28T00:00:00.000000000",
          "2021-08-29T00:00:00.000000000",
          "2021-08-30T00:00:00.000000000",
          "2021-08-31T00:00:00.000000000",
          "2021-09-01T00:00:00.000000000",
          "2021-09-02T00:00:00.000000000",
          "2021-09-03T00:00:00.000000000",
          "2021-09-04T00:00:00.000000000",
          "2021-09-05T00:00:00.000000000",
          "2021-09-06T00:00:00.000000000",
          "2021-09-07T00:00:00.000000000",
          "2021-09-08T00:00:00.000000000",
          "2021-09-09T00:00:00.000000000",
          "2021-09-10T00:00:00.000000000",
          "2021-09-11T00:00:00.000000000",
          "2021-09-12T00:00:00.000000000",
          "2021-09-13T00:00:00.000000000",
          "2021-09-14T00:00:00.000000000",
          "2021-09-15T00:00:00.000000000",
          "2021-09-16T00:00:00.000000000",
          "2021-09-17T00:00:00.000000000",
          "2021-09-18T00:00:00.000000000",
          "2021-09-19T00:00:00.000000000",
          "2021-09-20T00:00:00.000000000",
          "2021-09-21T00:00:00.000000000",
          "2021-09-22T00:00:00.000000000",
          "2021-09-23T00:00:00.000000000",
          "2021-09-24T00:00:00.000000000",
          "2021-09-25T00:00:00.000000000",
          "2021-09-26T00:00:00.000000000",
          "2021-09-27T00:00:00.000000000",
          "2021-09-28T00:00:00.000000000",
          "2021-09-29T00:00:00.000000000",
          "2021-09-30T00:00:00.000000000",
          "2021-10-01T00:00:00.000000000",
          "2021-10-02T00:00:00.000000000",
          "2021-10-03T00:00:00.000000000",
          "2021-10-04T00:00:00.000000000",
          "2021-10-05T00:00:00.000000000",
          "2021-10-06T00:00:00.000000000",
          "2021-10-07T00:00:00.000000000",
          "2021-10-08T00:00:00.000000000",
          "2021-10-09T00:00:00.000000000",
          "2021-10-10T00:00:00.000000000",
          "2021-10-11T00:00:00.000000000",
          "2021-10-12T00:00:00.000000000",
          "2021-10-13T00:00:00.000000000",
          "2021-10-14T00:00:00.000000000",
          "2021-10-15T00:00:00.000000000",
          "2021-10-16T00:00:00.000000000",
          "2021-10-17T00:00:00.000000000",
          "2021-10-18T00:00:00.000000000",
          "2021-10-19T00:00:00.000000000",
          "2021-10-20T00:00:00.000000000",
          "2021-10-21T00:00:00.000000000",
          "2021-10-22T00:00:00.000000000",
          "2021-10-23T00:00:00.000000000",
          "2021-10-24T00:00:00.000000000",
          "2021-10-25T00:00:00.000000000",
          "2021-10-26T00:00:00.000000000",
          "2021-10-27T00:00:00.000000000",
          "2021-10-28T00:00:00.000000000",
          "2021-10-29T00:00:00.000000000",
          "2021-10-30T00:00:00.000000000",
          "2021-10-31T00:00:00.000000000",
          "2021-11-01T00:00:00.000000000",
          "2021-11-02T00:00:00.000000000",
          "2021-11-03T00:00:00.000000000",
          "2021-11-04T00:00:00.000000000",
          "2021-11-05T00:00:00.000000000",
          "2021-11-06T00:00:00.000000000",
          "2021-11-07T00:00:00.000000000",
          "2021-11-08T00:00:00.000000000",
          "2021-11-09T00:00:00.000000000",
          "2021-11-10T00:00:00.000000000",
          "2021-11-11T00:00:00.000000000",
          "2021-11-12T00:00:00.000000000",
          "2021-11-13T00:00:00.000000000",
          "2021-11-14T00:00:00.000000000",
          "2021-11-15T00:00:00.000000000",
          "2021-11-16T00:00:00.000000000",
          "2021-11-17T00:00:00.000000000",
          "2021-11-18T00:00:00.000000000",
          "2021-11-19T00:00:00.000000000",
          "2021-11-20T00:00:00.000000000",
          "2021-11-21T00:00:00.000000000",
          "2021-11-22T00:00:00.000000000",
          "2021-11-23T00:00:00.000000000",
          "2021-11-24T00:00:00.000000000",
          "2021-11-25T00:00:00.000000000",
          "2021-11-26T00:00:00.000000000",
          "2021-11-27T00:00:00.000000000",
          "2021-11-28T00:00:00.000000000",
          "2021-11-29T00:00:00.000000000",
          "2021-11-30T00:00:00.000000000",
          "2021-12-01T00:00:00.000000000",
          "2021-12-02T00:00:00.000000000",
          "2021-12-03T00:00:00.000000000",
          "2021-12-04T00:00:00.000000000",
          "2021-12-05T00:00:00.000000000",
          "2021-12-06T00:00:00.000000000",
          "2021-12-07T00:00:00.000000000",
          "2021-12-08T00:00:00.000000000",
          "2021-12-09T00:00:00.000000000",
          "2021-12-10T00:00:00.000000000",
          "2021-12-11T00:00:00.000000000",
          "2021-12-12T00:00:00.000000000",
          "2021-12-13T00:00:00.000000000",
          "2021-12-14T00:00:00.000000000",
          "2021-12-15T00:00:00.000000000",
          "2021-12-16T00:00:00.000000000",
          "2021-12-17T00:00:00.000000000",
          "2021-12-18T00:00:00.000000000",
          "2021-12-19T00:00:00.000000000",
          "2021-12-20T00:00:00.000000000",
          "2021-12-21T00:00:00.000000000",
          "2021-12-22T00:00:00.000000000",
          "2021-12-23T00:00:00.000000000",
          "2021-12-24T00:00:00.000000000",
          "2021-12-25T00:00:00.000000000",
          "2021-12-26T00:00:00.000000000",
          "2021-12-27T00:00:00.000000000",
          "2021-12-28T00:00:00.000000000",
          "2021-12-29T00:00:00.000000000",
          "2021-12-30T00:00:00.000000000",
          "2021-12-31T00:00:00.000000000",
          "2022-01-01T00:00:00.000000000",
          "2022-01-02T00:00:00.000000000",
          "2022-01-03T00:00:00.000000000",
          "2022-01-04T00:00:00.000000000",
          "2022-01-05T00:00:00.000000000",
          "2022-01-06T00:00:00.000000000",
          "2022-01-07T00:00:00.000000000",
          "2022-01-08T00:00:00.000000000",
          "2022-01-09T00:00:00.000000000",
          "2022-01-10T00:00:00.000000000",
          "2022-01-11T00:00:00.000000000",
          "2022-01-12T00:00:00.000000000",
          "2022-01-13T00:00:00.000000000",
          "2022-01-14T00:00:00.000000000",
          "2022-01-15T00:00:00.000000000",
          "2022-01-16T00:00:00.000000000",
          "2022-01-17T00:00:00.000000000",
          "2022-01-18T00:00:00.000000000",
          "2022-01-19T00:00:00.000000000",
          "2022-01-20T00:00:00.000000000",
          "2022-01-21T00:00:00.000000000",
          "2022-01-22T00:00:00.000000000",
          "2022-01-23T00:00:00.000000000",
          "2022-01-24T00:00:00.000000000",
          "2022-01-25T00:00:00.000000000",
          "2022-01-26T00:00:00.000000000",
          "2022-01-27T00:00:00.000000000",
          "2022-01-28T00:00:00.000000000",
          "2022-01-29T00:00:00.000000000",
          "2022-01-30T00:00:00.000000000",
          "2022-01-31T00:00:00.000000000",
          "2022-02-01T00:00:00.000000000",
          "2022-02-02T00:00:00.000000000",
          "2022-02-03T00:00:00.000000000",
          "2022-02-04T00:00:00.000000000",
          "2022-02-05T00:00:00.000000000",
          "2022-02-06T00:00:00.000000000",
          "2022-02-07T00:00:00.000000000",
          "2022-02-08T00:00:00.000000000",
          "2022-02-09T00:00:00.000000000",
          "2022-02-10T00:00:00.000000000",
          "2022-02-11T00:00:00.000000000",
          "2022-02-12T00:00:00.000000000",
          "2022-02-13T00:00:00.000000000",
          "2022-02-14T00:00:00.000000000",
          "2022-02-15T00:00:00.000000000",
          "2022-02-16T00:00:00.000000000",
          "2022-02-17T00:00:00.000000000",
          "2022-02-18T00:00:00.000000000",
          "2022-02-19T00:00:00.000000000",
          "2022-02-20T00:00:00.000000000",
          "2022-02-21T00:00:00.000000000",
          "2022-02-22T00:00:00.000000000",
          "2022-02-23T00:00:00.000000000",
          "2022-02-24T00:00:00.000000000",
          "2022-02-25T00:00:00.000000000",
          "2022-02-26T00:00:00.000000000",
          "2022-02-27T00:00:00.000000000",
          "2022-02-28T00:00:00.000000000",
          "2022-03-01T00:00:00.000000000",
          "2022-03-02T00:00:00.000000000",
          "2022-03-03T00:00:00.000000000",
          "2022-03-04T00:00:00.000000000",
          "2022-03-05T00:00:00.000000000",
          "2022-03-06T00:00:00.000000000",
          "2022-03-07T00:00:00.000000000",
          "2022-03-08T00:00:00.000000000",
          "2022-03-09T00:00:00.000000000",
          "2022-03-10T00:00:00.000000000",
          "2022-03-11T00:00:00.000000000",
          "2022-03-12T00:00:00.000000000",
          "2022-03-13T00:00:00.000000000",
          "2022-03-14T00:00:00.000000000",
          "2022-03-15T00:00:00.000000000",
          "2022-03-16T00:00:00.000000000",
          "2022-03-17T00:00:00.000000000",
          "2022-03-18T00:00:00.000000000",
          "2022-03-19T00:00:00.000000000",
          "2022-03-20T00:00:00.000000000",
          "2022-03-21T00:00:00.000000000",
          "2022-03-22T00:00:00.000000000",
          "2022-03-23T00:00:00.000000000",
          "2022-03-24T00:00:00.000000000",
          "2022-03-25T00:00:00.000000000",
          "2022-03-26T00:00:00.000000000",
          "2022-03-27T00:00:00.000000000",
          "2022-03-28T00:00:00.000000000",
          "2022-03-29T00:00:00.000000000",
          "2022-03-30T00:00:00.000000000",
          "2022-03-31T00:00:00.000000000",
          "2022-04-01T00:00:00.000000000",
          "2022-04-02T00:00:00.000000000",
          "2022-04-03T00:00:00.000000000",
          "2022-04-04T00:00:00.000000000",
          "2022-04-05T00:00:00.000000000",
          "2022-04-06T00:00:00.000000000",
          "2022-04-07T00:00:00.000000000",
          "2022-04-08T00:00:00.000000000",
          "2022-04-09T00:00:00.000000000",
          "2022-04-10T00:00:00.000000000",
          "2022-04-11T00:00:00.000000000",
          "2022-04-12T00:00:00.000000000",
          "2022-04-13T00:00:00.000000000",
          "2022-04-14T00:00:00.000000000",
          "2022-04-15T00:00:00.000000000",
          "2022-04-16T00:00:00.000000000",
          "2022-04-17T00:00:00.000000000",
          "2022-04-18T00:00:00.000000000",
          "2022-04-19T00:00:00.000000000",
          "2022-04-20T00:00:00.000000000",
          "2022-04-21T00:00:00.000000000",
          "2022-04-22T00:00:00.000000000",
          "2022-04-23T00:00:00.000000000",
          "2022-04-24T00:00:00.000000000",
          "2022-04-25T00:00:00.000000000",
          "2022-04-26T00:00:00.000000000",
          "2022-04-27T00:00:00.000000000",
          "2022-04-28T00:00:00.000000000",
          "2022-04-29T00:00:00.000000000",
          "2022-04-30T00:00:00.000000000",
          "2022-05-01T00:00:00.000000000",
          "2022-05-02T00:00:00.000000000",
          "2022-05-03T00:00:00.000000000",
          "2022-05-04T00:00:00.000000000",
          "2022-05-05T00:00:00.000000000",
          "2022-05-06T00:00:00.000000000",
          "2022-05-07T00:00:00.000000000",
          "2022-05-08T00:00:00.000000000",
          "2022-05-09T00:00:00.000000000",
          "2022-05-10T00:00:00.000000000",
          "2022-05-11T00:00:00.000000000",
          "2022-05-12T00:00:00.000000000",
          "2022-05-13T00:00:00.000000000",
          "2022-05-14T00:00:00.000000000",
          "2022-05-15T00:00:00.000000000",
          "2022-05-16T00:00:00.000000000",
          "2022-05-17T00:00:00.000000000",
          "2022-05-18T00:00:00.000000000",
          "2022-05-19T00:00:00.000000000",
          "2022-05-20T00:00:00.000000000",
          "2022-05-21T00:00:00.000000000",
          "2022-05-22T00:00:00.000000000",
          "2022-05-23T00:00:00.000000000",
          "2022-05-24T00:00:00.000000000",
          "2022-05-25T00:00:00.000000000",
          "2022-05-26T00:00:00.000000000",
          "2022-05-27T00:00:00.000000000",
          "2022-05-28T00:00:00.000000000",
          "2022-05-29T00:00:00.000000000",
          "2022-05-30T00:00:00.000000000",
          "2022-05-31T00:00:00.000000000",
          "2022-06-01T00:00:00.000000000",
          "2022-06-02T00:00:00.000000000",
          "2022-06-03T00:00:00.000000000",
          "2022-06-04T00:00:00.000000000",
          "2022-06-05T00:00:00.000000000",
          "2022-06-06T00:00:00.000000000",
          "2022-06-07T00:00:00.000000000",
          "2022-06-08T00:00:00.000000000",
          "2022-06-09T00:00:00.000000000",
          "2022-06-10T00:00:00.000000000",
          "2022-06-11T00:00:00.000000000",
          "2022-06-12T00:00:00.000000000",
          "2022-06-13T00:00:00.000000000",
          "2022-06-14T00:00:00.000000000",
          "2022-06-15T00:00:00.000000000",
          "2022-06-16T00:00:00.000000000",
          "2022-06-17T00:00:00.000000000",
          "2022-06-18T00:00:00.000000000",
          "2022-06-19T00:00:00.000000000",
          "2022-06-20T00:00:00.000000000",
          "2022-06-21T00:00:00.000000000",
          "2022-06-22T00:00:00.000000000",
          "2022-06-23T00:00:00.000000000",
          "2022-06-24T00:00:00.000000000",
          "2022-06-25T00:00:00.000000000",
          "2022-06-26T00:00:00.000000000",
          "2022-06-27T00:00:00.000000000",
          "2022-06-28T00:00:00.000000000",
          "2022-06-29T00:00:00.000000000",
          "2022-06-30T00:00:00.000000000",
          "2022-07-01T00:00:00.000000000",
          "2022-07-02T00:00:00.000000000",
          "2022-07-03T00:00:00.000000000",
          "2022-07-04T00:00:00.000000000",
          "2022-07-05T00:00:00.000000000",
          "2022-07-06T00:00:00.000000000",
          "2022-07-07T00:00:00.000000000",
          "2022-07-08T00:00:00.000000000",
          "2022-07-09T00:00:00.000000000",
          "2022-07-10T00:00:00.000000000",
          "2022-07-11T00:00:00.000000000",
          "2022-07-12T00:00:00.000000000",
          "2022-07-13T00:00:00.000000000",
          "2022-07-14T00:00:00.000000000",
          "2022-07-15T00:00:00.000000000",
          "2022-07-16T00:00:00.000000000",
          "2022-07-17T00:00:00.000000000",
          "2022-07-18T00:00:00.000000000",
          "2022-07-19T00:00:00.000000000",
          "2022-07-20T00:00:00.000000000",
          "2022-07-21T00:00:00.000000000",
          "2022-07-22T00:00:00.000000000",
          "2022-07-23T00:00:00.000000000",
          "2022-07-24T00:00:00.000000000",
          "2022-07-25T00:00:00.000000000",
          "2022-07-26T00:00:00.000000000",
          "2022-07-27T00:00:00.000000000",
          "2022-07-28T00:00:00.000000000",
          "2022-07-29T00:00:00.000000000",
          "2022-07-30T00:00:00.000000000",
          "2022-07-31T00:00:00.000000000",
          "2022-08-01T00:00:00.000000000",
          "2022-08-02T00:00:00.000000000",
          "2022-08-03T00:00:00.000000000",
          "2022-08-04T00:00:00.000000000",
          "2022-08-05T00:00:00.000000000",
          "2022-08-06T00:00:00.000000000",
          "2022-08-07T00:00:00.000000000",
          "2022-08-08T00:00:00.000000000",
          "2022-08-09T00:00:00.000000000",
          "2022-08-10T00:00:00.000000000",
          "2022-08-11T00:00:00.000000000",
          "2022-08-12T00:00:00.000000000",
          "2022-08-13T00:00:00.000000000",
          "2022-08-14T00:00:00.000000000",
          "2022-08-15T00:00:00.000000000",
          "2022-08-16T00:00:00.000000000",
          "2022-08-17T00:00:00.000000000",
          "2022-08-18T00:00:00.000000000",
          "2022-08-19T00:00:00.000000000",
          "2022-08-20T00:00:00.000000000",
          "2022-08-21T00:00:00.000000000",
          "2022-08-22T00:00:00.000000000",
          "2022-08-23T00:00:00.000000000",
          "2022-08-24T00:00:00.000000000",
          "2022-08-25T00:00:00.000000000",
          "2022-08-26T00:00:00.000000000",
          "2022-08-27T00:00:00.000000000",
          "2022-08-28T00:00:00.000000000",
          "2022-08-29T00:00:00.000000000",
          "2022-08-30T00:00:00.000000000",
          "2022-08-31T00:00:00.000000000",
          "2022-09-01T00:00:00.000000000",
          "2022-09-02T00:00:00.000000000",
          "2022-09-03T00:00:00.000000000",
          "2022-09-04T00:00:00.000000000",
          "2022-09-05T00:00:00.000000000",
          "2022-09-06T00:00:00.000000000",
          "2022-09-07T00:00:00.000000000",
          "2022-09-08T00:00:00.000000000",
          "2022-09-09T00:00:00.000000000",
          "2022-09-10T00:00:00.000000000",
          "2022-09-11T00:00:00.000000000",
          "2022-09-12T00:00:00.000000000",
          "2022-09-13T00:00:00.000000000",
          "2022-09-14T00:00:00.000000000",
          "2022-09-15T00:00:00.000000000",
          "2022-09-16T00:00:00.000000000",
          "2022-09-17T00:00:00.000000000",
          "2022-09-18T00:00:00.000000000",
          "2022-09-19T00:00:00.000000000",
          "2022-09-20T00:00:00.000000000",
          "2022-09-21T00:00:00.000000000",
          "2022-09-22T00:00:00.000000000",
          "2022-09-23T00:00:00.000000000",
          "2022-09-24T00:00:00.000000000",
          "2022-09-25T00:00:00.000000000",
          "2022-09-26T00:00:00.000000000",
          "2022-09-27T00:00:00.000000000",
          "2022-09-28T00:00:00.000000000",
          "2022-09-29T00:00:00.000000000",
          "2022-09-30T00:00:00.000000000",
          "2022-10-01T00:00:00.000000000",
          "2022-10-02T00:00:00.000000000",
          "2022-10-03T00:00:00.000000000",
          "2022-10-04T00:00:00.000000000",
          "2022-10-05T00:00:00.000000000",
          "2022-10-06T00:00:00.000000000",
          "2022-10-07T00:00:00.000000000",
          "2022-10-08T00:00:00.000000000",
          "2022-10-09T00:00:00.000000000",
          "2022-10-10T00:00:00.000000000",
          "2022-10-11T00:00:00.000000000",
          "2022-10-12T00:00:00.000000000",
          "2022-10-13T00:00:00.000000000",
          "2022-10-14T00:00:00.000000000",
          "2022-10-15T00:00:00.000000000",
          "2022-10-16T00:00:00.000000000",
          "2022-10-17T00:00:00.000000000",
          "2022-10-18T00:00:00.000000000",
          "2022-10-19T00:00:00.000000000",
          "2022-10-20T00:00:00.000000000",
          "2022-10-21T00:00:00.000000000",
          "2022-10-22T00:00:00.000000000",
          "2022-10-23T00:00:00.000000000",
          "2022-10-24T00:00:00.000000000",
          "2022-10-25T00:00:00.000000000",
          "2022-10-26T00:00:00.000000000",
          "2022-10-27T00:00:00.000000000",
          "2022-10-28T00:00:00.000000000",
          "2022-10-29T00:00:00.000000000",
          "2022-10-30T00:00:00.000000000",
          "2022-10-31T00:00:00.000000000",
          "2022-11-01T00:00:00.000000000",
          "2022-11-02T00:00:00.000000000",
          "2022-11-03T00:00:00.000000000",
          "2022-11-04T00:00:00.000000000",
          "2022-11-05T00:00:00.000000000",
          "2022-11-06T00:00:00.000000000",
          "2022-11-07T00:00:00.000000000",
          "2022-11-08T00:00:00.000000000",
          "2022-11-09T00:00:00.000000000",
          "2022-11-10T00:00:00.000000000",
          "2022-11-11T00:00:00.000000000",
          "2022-11-12T00:00:00.000000000",
          "2022-11-13T00:00:00.000000000",
          "2022-11-14T00:00:00.000000000",
          "2022-11-15T00:00:00.000000000",
          "2022-11-16T00:00:00.000000000",
          "2022-11-17T00:00:00.000000000",
          "2022-11-18T00:00:00.000000000",
          "2022-11-19T00:00:00.000000000",
          "2022-11-20T00:00:00.000000000",
          "2022-11-21T00:00:00.000000000",
          "2022-11-22T00:00:00.000000000",
          "2022-11-23T00:00:00.000000000",
          "2022-11-24T00:00:00.000000000",
          "2022-11-25T00:00:00.000000000",
          "2022-11-26T00:00:00.000000000",
          "2022-11-27T00:00:00.000000000",
          "2022-11-28T00:00:00.000000000",
          "2022-11-29T00:00:00.000000000",
          "2022-11-30T00:00:00.000000000",
          "2022-12-01T00:00:00.000000000",
          "2022-12-02T00:00:00.000000000",
          "2022-12-03T00:00:00.000000000",
          "2022-12-04T00:00:00.000000000",
          "2022-12-05T00:00:00.000000000",
          "2022-12-06T00:00:00.000000000",
          "2022-12-07T00:00:00.000000000",
          "2022-12-08T00:00:00.000000000",
          "2022-12-09T00:00:00.000000000",
          "2022-12-10T00:00:00.000000000",
          "2022-12-11T00:00:00.000000000",
          "2022-12-12T00:00:00.000000000",
          "2022-12-13T00:00:00.000000000",
          "2022-12-14T00:00:00.000000000",
          "2022-12-15T00:00:00.000000000",
          "2022-12-16T00:00:00.000000000",
          "2022-12-17T00:00:00.000000000",
          "2022-12-18T00:00:00.000000000",
          "2022-12-19T00:00:00.000000000",
          "2022-12-20T00:00:00.000000000",
          "2022-12-21T00:00:00.000000000",
          "2022-12-22T00:00:00.000000000",
          "2022-12-23T00:00:00.000000000",
          "2022-12-24T00:00:00.000000000",
          "2022-12-25T00:00:00.000000000",
          "2022-12-26T00:00:00.000000000",
          "2022-12-27T00:00:00.000000000",
          "2022-12-28T00:00:00.000000000",
          "2022-12-29T00:00:00.000000000",
          "2022-12-30T00:00:00.000000000",
          "2022-12-31T00:00:00.000000000",
          "2023-01-01T00:00:00.000000000",
          "2023-01-02T00:00:00.000000000",
          "2023-01-03T00:00:00.000000000",
          "2023-01-04T00:00:00.000000000",
          "2023-01-05T00:00:00.000000000",
          "2023-01-06T00:00:00.000000000",
          "2023-01-07T00:00:00.000000000",
          "2023-01-08T00:00:00.000000000",
          "2023-01-09T00:00:00.000000000",
          "2023-01-10T00:00:00.000000000",
          "2023-01-11T00:00:00.000000000",
          "2023-01-12T00:00:00.000000000",
          "2023-01-13T00:00:00.000000000",
          "2023-01-14T00:00:00.000000000",
          "2023-01-15T00:00:00.000000000",
          "2023-01-16T00:00:00.000000000",
          "2023-01-17T00:00:00.000000000",
          "2023-01-18T00:00:00.000000000",
          "2023-01-19T00:00:00.000000000",
          "2023-01-20T00:00:00.000000000",
          "2023-01-21T00:00:00.000000000",
          "2023-01-22T00:00:00.000000000",
          "2023-01-23T00:00:00.000000000",
          "2023-01-24T00:00:00.000000000",
          "2023-01-25T00:00:00.000000000",
          "2023-01-26T00:00:00.000000000",
          "2023-01-27T00:00:00.000000000",
          "2023-01-28T00:00:00.000000000",
          "2023-01-29T00:00:00.000000000",
          "2023-01-30T00:00:00.000000000",
          "2023-01-31T00:00:00.000000000",
          "2023-02-01T00:00:00.000000000",
          "2023-02-02T00:00:00.000000000",
          "2023-02-03T00:00:00.000000000",
          "2023-02-04T00:00:00.000000000",
          "2023-02-05T00:00:00.000000000",
          "2023-02-06T00:00:00.000000000",
          "2023-02-07T00:00:00.000000000",
          "2023-02-08T00:00:00.000000000",
          "2023-02-09T00:00:00.000000000",
          "2023-02-10T00:00:00.000000000",
          "2023-02-11T00:00:00.000000000",
          "2023-02-12T00:00:00.000000000",
          "2023-02-13T00:00:00.000000000",
          "2023-02-14T00:00:00.000000000",
          "2023-02-15T00:00:00.000000000",
          "2023-02-16T00:00:00.000000000",
          "2023-02-17T00:00:00.000000000",
          "2023-02-18T00:00:00.000000000",
          "2023-02-19T00:00:00.000000000",
          "2023-02-20T00:00:00.000000000",
          "2023-02-21T00:00:00.000000000",
          "2023-02-22T00:00:00.000000000",
          "2023-02-23T00:00:00.000000000",
          "2023-02-24T00:00:00.000000000",
          "2023-02-25T00:00:00.000000000",
          "2023-02-26T00:00:00.000000000",
          "2023-02-27T00:00:00.000000000",
          "2023-02-28T00:00:00.000000000",
          "2023-03-01T00:00:00.000000000",
          "2023-03-02T00:00:00.000000000",
          "2023-03-03T00:00:00.000000000",
          "2023-03-04T00:00:00.000000000",
          "2023-03-05T00:00:00.000000000",
          "2023-03-06T00:00:00.000000000",
          "2023-03-07T00:00:00.000000000",
          "2023-03-08T00:00:00.000000000",
          "2023-03-09T00:00:00.000000000",
          "2023-03-10T00:00:00.000000000",
          "2023-03-11T00:00:00.000000000",
          "2023-03-12T00:00:00.000000000",
          "2023-03-13T00:00:00.000000000",
          "2023-03-14T00:00:00.000000000",
          "2023-03-15T00:00:00.000000000",
          "2023-03-16T00:00:00.000000000",
          "2023-03-17T00:00:00.000000000",
          "2023-03-18T00:00:00.000000000",
          "2023-03-19T00:00:00.000000000",
          "2023-03-20T00:00:00.000000000",
          "2023-03-21T00:00:00.000000000",
          "2023-03-22T00:00:00.000000000",
          "2023-03-23T00:00:00.000000000",
          "2023-03-24T00:00:00.000000000",
          "2023-03-25T00:00:00.000000000",
          "2023-03-26T00:00:00.000000000",
          "2023-03-27T00:00:00.000000000",
          "2023-03-28T00:00:00.000000000",
          "2023-03-29T00:00:00.000000000",
          "2023-03-30T00:00:00.000000000",
          "2023-03-31T00:00:00.000000000",
          "2023-04-01T00:00:00.000000000",
          "2023-04-02T00:00:00.000000000",
          "2023-04-03T00:00:00.000000000",
          "2023-04-04T00:00:00.000000000",
          "2023-04-05T00:00:00.000000000",
          "2023-04-06T00:00:00.000000000",
          "2023-04-07T00:00:00.000000000",
          "2023-04-08T00:00:00.000000000",
          "2023-04-09T00:00:00.000000000",
          "2023-04-10T00:00:00.000000000",
          "2023-04-11T00:00:00.000000000",
          "2023-04-12T00:00:00.000000000",
          "2023-04-13T00:00:00.000000000",
          "2023-04-14T00:00:00.000000000",
          "2023-04-15T00:00:00.000000000",
          "2023-04-16T00:00:00.000000000",
          "2023-04-17T00:00:00.000000000",
          "2023-04-18T00:00:00.000000000",
          "2023-04-19T00:00:00.000000000",
          "2023-04-20T00:00:00.000000000",
          "2023-04-21T00:00:00.000000000",
          "2023-04-22T00:00:00.000000000",
          "2023-04-23T00:00:00.000000000",
          "2023-04-24T00:00:00.000000000",
          "2023-04-25T00:00:00.000000000",
          "2023-04-26T00:00:00.000000000",
          "2023-04-27T00:00:00.000000000",
          "2023-04-28T00:00:00.000000000",
          "2023-04-29T00:00:00.000000000",
          "2023-04-30T00:00:00.000000000",
          "2023-05-01T00:00:00.000000000",
          "2023-05-02T00:00:00.000000000",
          "2023-05-03T00:00:00.000000000",
          "2023-05-04T00:00:00.000000000",
          "2023-05-05T00:00:00.000000000",
          "2023-05-06T00:00:00.000000000",
          "2023-05-07T00:00:00.000000000",
          "2023-05-08T00:00:00.000000000",
          "2023-05-09T00:00:00.000000000",
          "2023-05-10T00:00:00.000000000",
          "2023-05-11T00:00:00.000000000",
          "2023-05-12T00:00:00.000000000",
          "2023-05-13T00:00:00.000000000",
          "2023-05-14T00:00:00.000000000",
          "2023-05-15T00:00:00.000000000",
          "2023-05-16T00:00:00.000000000",
          "2023-05-17T00:00:00.000000000",
          "2023-05-18T00:00:00.000000000",
          "2023-05-19T00:00:00.000000000",
          "2023-05-20T00:00:00.000000000",
          "2023-05-21T00:00:00.000000000",
          "2023-05-22T00:00:00.000000000",
          "2023-05-23T00:00:00.000000000",
          "2023-05-24T00:00:00.000000000",
          "2023-05-25T00:00:00.000000000",
          "2023-05-26T00:00:00.000000000",
          "2023-05-27T00:00:00.000000000",
          "2023-05-28T00:00:00.000000000",
          "2023-05-29T00:00:00.000000000",
          "2023-05-30T00:00:00.000000000",
          "2023-05-31T00:00:00.000000000",
          "2023-06-01T00:00:00.000000000",
          "2023-06-02T00:00:00.000000000",
          "2023-06-03T00:00:00.000000000",
          "2023-06-04T00:00:00.000000000",
          "2023-06-05T00:00:00.000000000",
          "2023-06-06T00:00:00.000000000",
          "2023-06-07T00:00:00.000000000",
          "2023-06-08T00:00:00.000000000",
          "2023-06-09T00:00:00.000000000",
          "2023-06-10T00:00:00.000000000",
          "2023-06-11T00:00:00.000000000",
          "2023-06-12T00:00:00.000000000",
          "2023-06-13T00:00:00.000000000",
          "2023-06-14T00:00:00.000000000",
          "2023-06-15T00:00:00.000000000",
          "2023-06-16T00:00:00.000000000",
          "2023-06-17T00:00:00.000000000",
          "2023-06-18T00:00:00.000000000",
          "2023-06-19T00:00:00.000000000",
          "2023-06-20T00:00:00.000000000",
          "2023-06-21T00:00:00.000000000",
          "2023-06-22T00:00:00.000000000",
          "2023-06-23T00:00:00.000000000",
          "2023-06-24T00:00:00.000000000",
          "2023-06-25T00:00:00.000000000",
          "2023-06-26T00:00:00.000000000",
          "2023-06-27T00:00:00.000000000",
          "2023-06-28T00:00:00.000000000",
          "2023-06-29T00:00:00.000000000",
          "2023-06-30T00:00:00.000000000",
          "2023-07-01T00:00:00.000000000",
          "2023-07-02T00:00:00.000000000",
          "2023-07-03T00:00:00.000000000",
          "2023-07-04T00:00:00.000000000",
          "2023-07-05T00:00:00.000000000",
          "2023-07-06T00:00:00.000000000",
          "2023-07-07T00:00:00.000000000",
          "2023-07-08T00:00:00.000000000",
          "2023-07-09T00:00:00.000000000",
          "2023-07-10T00:00:00.000000000",
          "2023-07-11T00:00:00.000000000",
          "2023-07-12T00:00:00.000000000",
          "2023-07-13T00:00:00.000000000",
          "2023-07-14T00:00:00.000000000",
          "2023-07-15T00:00:00.000000000",
          "2023-07-16T00:00:00.000000000",
          "2023-07-17T00:00:00.000000000",
          "2023-07-18T00:00:00.000000000",
          "2023-07-19T00:00:00.000000000",
          "2023-07-20T00:00:00.000000000",
          "2023-07-21T00:00:00.000000000",
          "2023-07-22T00:00:00.000000000",
          "2023-07-23T00:00:00.000000000",
          "2023-07-24T00:00:00.000000000",
          "2023-07-25T00:00:00.000000000",
          "2023-07-26T00:00:00.000000000",
          "2023-07-27T00:00:00.000000000",
          "2023-07-28T00:00:00.000000000",
          "2023-07-29T00:00:00.000000000",
          "2023-07-30T00:00:00.000000000",
          "2023-07-31T00:00:00.000000000",
          "2023-08-01T00:00:00.000000000",
          "2023-08-02T00:00:00.000000000",
          "2023-08-03T00:00:00.000000000",
          "2023-08-04T00:00:00.000000000",
          "2023-08-05T00:00:00.000000000",
          "2023-08-06T00:00:00.000000000",
          "2023-08-07T00:00:00.000000000",
          "2023-08-08T00:00:00.000000000",
          "2023-08-09T00:00:00.000000000",
          "2023-08-10T00:00:00.000000000",
          "2023-08-11T00:00:00.000000000",
          "2023-08-12T00:00:00.000000000",
          "2023-08-13T00:00:00.000000000",
          "2023-08-14T00:00:00.000000000",
          "2023-08-15T00:00:00.000000000",
          "2023-08-16T00:00:00.000000000",
          "2023-08-17T00:00:00.000000000",
          "2023-08-18T00:00:00.000000000",
          "2023-08-19T00:00:00.000000000",
          "2023-08-20T00:00:00.000000000",
          "2023-08-21T00:00:00.000000000",
          "2023-08-22T00:00:00.000000000",
          "2023-08-23T00:00:00.000000000",
          "2023-08-24T00:00:00.000000000",
          "2023-08-25T00:00:00.000000000",
          "2023-08-26T00:00:00.000000000",
          "2023-08-27T00:00:00.000000000",
          "2023-08-28T00:00:00.000000000",
          "2023-08-29T00:00:00.000000000",
          "2023-08-30T00:00:00.000000000",
          "2023-08-31T00:00:00.000000000",
          "2023-09-01T00:00:00.000000000",
          "2023-09-02T00:00:00.000000000",
          "2023-09-03T00:00:00.000000000",
          "2023-09-04T00:00:00.000000000",
          "2023-09-05T00:00:00.000000000",
          "2023-09-06T00:00:00.000000000",
          "2023-09-07T00:00:00.000000000",
          "2023-09-08T00:00:00.000000000",
          "2023-09-09T00:00:00.000000000",
          "2023-09-10T00:00:00.000000000",
          "2023-09-11T00:00:00.000000000",
          "2023-09-12T00:00:00.000000000",
          "2023-09-13T00:00:00.000000000",
          "2023-09-14T00:00:00.000000000",
          "2023-09-15T00:00:00.000000000",
          "2023-09-16T00:00:00.000000000",
          "2023-09-17T00:00:00.000000000",
          "2023-09-18T00:00:00.000000000",
          "2023-09-19T00:00:00.000000000",
          "2023-09-20T00:00:00.000000000",
          "2023-09-21T00:00:00.000000000",
          "2023-09-22T00:00:00.000000000",
          "2023-09-23T00:00:00.000000000",
          "2023-09-24T00:00:00.000000000",
          "2023-09-25T00:00:00.000000000",
          "2023-09-26T00:00:00.000000000",
          "2023-09-27T00:00:00.000000000",
          "2023-09-28T00:00:00.000000000",
          "2023-09-29T00:00:00.000000000",
          "2023-09-30T00:00:00.000000000",
          "2023-10-01T00:00:00.000000000",
          "2023-10-02T00:00:00.000000000",
          "2023-10-03T00:00:00.000000000",
          "2023-10-04T00:00:00.000000000",
          "2023-10-05T00:00:00.000000000",
          "2023-10-06T00:00:00.000000000",
          "2023-10-07T00:00:00.000000000",
          "2023-10-08T00:00:00.000000000",
          "2023-10-09T00:00:00.000000000",
          "2023-10-10T00:00:00.000000000",
          "2023-10-11T00:00:00.000000000",
          "2023-10-12T00:00:00.000000000",
          "2023-10-13T00:00:00.000000000",
          "2023-10-14T00:00:00.000000000",
          "2023-10-15T00:00:00.000000000",
          "2023-10-16T00:00:00.000000000",
          "2023-10-17T00:00:00.000000000",
          "2023-10-18T00:00:00.000000000",
          "2023-10-19T00:00:00.000000000",
          "2023-10-20T00:00:00.000000000",
          "2023-10-21T00:00:00.000000000",
          "2023-10-22T00:00:00.000000000",
          "2023-10-23T00:00:00.000000000",
          "2023-10-24T00:00:00.000000000",
          "2023-10-25T00:00:00.000000000",
          "2023-10-26T00:00:00.000000000",
          "2023-10-27T00:00:00.000000000",
          "2023-10-28T00:00:00.000000000",
          "2023-10-29T00:00:00.000000000",
          "2023-10-30T00:00:00.000000000",
          "2023-10-31T00:00:00.000000000",
          "2023-11-01T00:00:00.000000000",
          "2023-11-02T00:00:00.000000000",
          "2023-11-03T00:00:00.000000000",
          "2023-11-04T00:00:00.000000000",
          "2023-11-05T00:00:00.000000000",
          "2023-11-06T00:00:00.000000000",
          "2023-11-07T00:00:00.000000000",
          "2023-11-08T00:00:00.000000000",
          "2023-11-09T00:00:00.000000000",
          "2023-11-10T00:00:00.000000000",
          "2023-11-11T00:00:00.000000000",
          "2023-11-12T00:00:00.000000000",
          "2023-11-13T00:00:00.000000000",
          "2023-11-14T00:00:00.000000000",
          "2023-11-15T00:00:00.000000000",
          "2023-11-16T00:00:00.000000000",
          "2023-11-17T00:00:00.000000000",
          "2023-11-18T00:00:00.000000000",
          "2023-11-19T00:00:00.000000000",
          "2023-11-20T00:00:00.000000000",
          "2023-11-21T00:00:00.000000000",
          "2023-11-22T00:00:00.000000000",
          "2023-11-23T00:00:00.000000000",
          "2023-11-24T00:00:00.000000000",
          "2023-11-25T00:00:00.000000000",
          "2023-11-26T00:00:00.000000000",
          "2023-11-27T00:00:00.000000000",
          "2023-11-28T00:00:00.000000000",
          "2023-11-29T00:00:00.000000000",
          "2023-11-30T00:00:00.000000000",
          "2023-12-01T00:00:00.000000000",
          "2023-12-02T00:00:00.000000000",
          "2023-12-03T00:00:00.000000000",
          "2023-12-04T00:00:00.000000000",
          "2023-12-05T00:00:00.000000000",
          "2023-12-06T00:00:00.000000000",
          "2023-12-07T00:00:00.000000000",
          "2023-12-08T00:00:00.000000000",
          "2023-12-09T00:00:00.000000000",
          "2023-12-10T00:00:00.000000000",
          "2023-12-11T00:00:00.000000000",
          "2023-12-12T00:00:00.000000000",
          "2023-12-13T00:00:00.000000000",
          "2023-12-14T00:00:00.000000000",
          "2023-12-15T00:00:00.000000000",
          "2023-12-16T00:00:00.000000000",
          "2023-12-17T00:00:00.000000000",
          "2023-12-18T00:00:00.000000000",
          "2023-12-19T00:00:00.000000000",
          "2023-12-20T00:00:00.000000000",
          "2023-12-21T00:00:00.000000000",
          "2023-12-22T00:00:00.000000000",
          "2023-12-23T00:00:00.000000000",
          "2023-12-24T00:00:00.000000000",
          "2023-12-25T00:00:00.000000000",
          "2023-12-26T00:00:00.000000000",
          "2023-12-27T00:00:00.000000000",
          "2023-12-28T00:00:00.000000000",
          "2023-12-29T00:00:00.000000000",
          "2023-12-30T00:00:00.000000000",
          "2023-12-31T00:00:00.000000000"
         ],
         "xaxis": "x3",
         "y": {
          "bdata": "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",
          "dtype": "f8"
         },
         "yaxis": "y3"
        },
        {
         "line": {
          "color": "darkgreen",
          "width": 1.5
         },
         "mode": "lines",
         "type": "scatter",
         "x": [
          "2021-01-02T00:00:00.000000000",
          "2021-01-03T00:00:00.000000000",
          "2021-01-04T00:00:00.000000000",
          "2021-01-05T00:00:00.000000000",
          "2021-01-06T00:00:00.000000000",
          "2021-01-07T00:00:00.000000000",
          "2021-01-08T00:00:00.000000000",
          "2021-01-09T00:00:00.000000000",
          "2021-01-10T00:00:00.000000000",
          "2021-01-11T00:00:00.000000000",
          "2021-01-12T00:00:00.000000000",
          "2021-01-13T00:00:00.000000000",
          "2021-01-14T00:00:00.000000000",
          "2021-01-15T00:00:00.000000000",
          "2021-01-16T00:00:00.000000000",
          "2021-01-17T00:00:00.000000000",
          "2021-01-18T00:00:00.000000000",
          "2021-01-19T00:00:00.000000000",
          "2021-01-20T00:00:00.000000000",
          "2021-01-21T00:00:00.000000000",
          "2021-01-22T00:00:00.000000000",
          "2021-01-23T00:00:00.000000000",
          "2021-01-24T00:00:00.000000000",
          "2021-01-25T00:00:00.000000000",
          "2021-01-26T00:00:00.000000000",
          "2021-01-27T00:00:00.000000000",
          "2021-01-28T00:00:00.000000000",
          "2021-01-29T00:00:00.000000000",
          "2021-01-30T00:00:00.000000000",
          "2021-01-31T00:00:00.000000000",
          "2021-02-01T00:00:00.000000000",
          "2021-02-02T00:00:00.000000000",
          "2021-02-03T00:00:00.000000000",
          "2021-02-04T00:00:00.000000000",
          "2021-02-05T00:00:00.000000000",
          "2021-02-06T00:00:00.000000000",
          "2021-02-07T00:00:00.000000000",
          "2021-02-08T00:00:00.000000000",
          "2021-02-09T00:00:00.000000000",
          "2021-02-10T00:00:00.000000000",
          "2021-02-11T00:00:00.000000000",
          "2021-02-12T00:00:00.000000000",
          "2021-02-13T00:00:00.000000000",
          "2021-02-14T00:00:00.000000000",
          "2021-02-15T00:00:00.000000000",
          "2021-02-16T00:00:00.000000000",
          "2021-02-17T00:00:00.000000000",
          "2021-02-18T00:00:00.000000000",
          "2021-02-19T00:00:00.000000000",
          "2021-02-20T00:00:00.000000000",
          "2021-02-21T00:00:00.000000000",
          "2021-02-22T00:00:00.000000000",
          "2021-02-23T00:00:00.000000000",
          "2021-02-24T00:00:00.000000000",
          "2021-02-25T00:00:00.000000000",
          "2021-02-26T00:00:00.000000000",
          "2021-02-27T00:00:00.000000000",
          "2021-02-28T00:00:00.000000000",
          "2021-03-01T00:00:00.000000000",
          "2021-03-02T00:00:00.000000000",
          "2021-03-03T00:00:00.000000000",
          "2021-03-04T00:00:00.000000000",
          "2021-03-05T00:00:00.000000000",
          "2021-03-06T00:00:00.000000000",
          "2021-03-07T00:00:00.000000000",
          "2021-03-08T00:00:00.000000000",
          "2021-03-09T00:00:00.000000000",
          "2021-03-10T00:00:00.000000000",
          "2021-03-11T00:00:00.000000000",
          "2021-03-12T00:00:00.000000000",
          "2021-03-13T00:00:00.000000000",
          "2021-03-14T00:00:00.000000000",
          "2021-03-15T00:00:00.000000000",
          "2021-03-16T00:00:00.000000000",
          "2021-03-17T00:00:00.000000000",
          "2021-03-18T00:00:00.000000000",
          "2021-03-19T00:00:00.000000000",
          "2021-03-20T00:00:00.000000000",
          "2021-03-21T00:00:00.000000000",
          "2021-03-22T00:00:00.000000000",
          "2021-03-23T00:00:00.000000000",
          "2021-03-24T00:00:00.000000000",
          "2021-03-25T00:00:00.000000000",
          "2021-03-26T00:00:00.000000000",
          "2021-03-27T00:00:00.000000000",
          "2021-03-28T00:00:00.000000000",
          "2021-03-29T00:00:00.000000000",
          "2021-03-30T00:00:00.000000000",
          "2021-03-31T00:00:00.000000000",
          "2021-04-01T00:00:00.000000000",
          "2021-04-02T00:00:00.000000000",
          "2021-04-03T00:00:00.000000000",
          "2021-04-04T00:00:00.000000000",
          "2021-04-05T00:00:00.000000000",
          "2021-04-06T00:00:00.000000000",
          "2021-04-07T00:00:00.000000000",
          "2021-04-08T00:00:00.000000000",
          "2021-04-09T00:00:00.000000000",
          "2021-04-10T00:00:00.000000000",
          "2021-04-11T00:00:00.000000000",
          "2021-04-12T00:00:00.000000000",
          "2021-04-13T00:00:00.000000000",
          "2021-04-14T00:00:00.000000000",
          "2021-04-15T00:00:00.000000000",
          "2021-04-16T00:00:00.000000000",
          "2021-04-17T00:00:00.000000000",
          "2021-04-18T00:00:00.000000000",
          "2021-04-19T00:00:00.000000000",
          "2021-04-20T00:00:00.000000000",
          "2021-04-21T00:00:00.000000000",
          "2021-04-22T00:00:00.000000000",
          "2021-04-23T00:00:00.000000000",
          "2021-04-24T00:00:00.000000000",
          "2021-04-25T00:00:00.000000000",
          "2021-04-26T00:00:00.000000000",
          "2021-04-27T00:00:00.000000000",
          "2021-04-28T00:00:00.000000000",
          "2021-04-29T00:00:00.000000000",
          "2021-04-30T00:00:00.000000000",
          "2021-05-01T00:00:00.000000000",
          "2021-05-02T00:00:00.000000000",
          "2021-05-03T00:00:00.000000000",
          "2021-05-04T00:00:00.000000000",
          "2021-05-05T00:00:00.000000000",
          "2021-05-06T00:00:00.000000000",
          "2021-05-07T00:00:00.000000000",
          "2021-05-08T00:00:00.000000000",
          "2021-05-09T00:00:00.000000000",
          "2021-05-10T00:00:00.000000000",
          "2021-05-11T00:00:00.000000000",
          "2021-05-12T00:00:00.000000000",
          "2021-05-13T00:00:00.000000000",
          "2021-05-14T00:00:00.000000000",
          "2021-05-15T00:00:00.000000000",
          "2021-05-16T00:00:00.000000000",
          "2021-05-17T00:00:00.000000000",
          "2021-05-18T00:00:00.000000000",
          "2021-05-19T00:00:00.000000000",
          "2021-05-20T00:00:00.000000000",
          "2021-05-21T00:00:00.000000000",
          "2021-05-22T00:00:00.000000000",
          "2021-05-23T00:00:00.000000000",
          "2021-05-24T00:00:00.000000000",
          "2021-05-25T00:00:00.000000000",
          "2021-05-26T00:00:00.000000000",
          "2021-05-27T00:00:00.000000000",
          "2021-05-28T00:00:00.000000000",
          "2021-05-29T00:00:00.000000000",
          "2021-05-30T00:00:00.000000000",
          "2021-05-31T00:00:00.000000000",
          "2021-06-01T00:00:00.000000000",
          "2021-06-02T00:00:00.000000000",
          "2021-06-03T00:00:00.000000000",
          "2021-06-04T00:00:00.000000000",
          "2021-06-05T00:00:00.000000000",
          "2021-06-06T00:00:00.000000000",
          "2021-06-07T00:00:00.000000000",
          "2021-06-08T00:00:00.000000000",
          "2021-06-09T00:00:00.000000000",
          "2021-06-10T00:00:00.000000000",
          "2021-06-11T00:00:00.000000000",
          "2021-06-12T00:00:00.000000000",
          "2021-06-13T00:00:00.000000000",
          "2021-06-14T00:00:00.000000000",
          "2021-06-15T00:00:00.000000000",
          "2021-06-16T00:00:00.000000000",
          "2021-06-17T00:00:00.000000000",
          "2021-06-18T00:00:00.000000000",
          "2021-06-19T00:00:00.000000000",
          "2021-06-20T00:00:00.000000000",
          "2021-06-21T00:00:00.000000000",
          "2021-06-22T00:00:00.000000000",
          "2021-06-23T00:00:00.000000000",
          "2021-06-24T00:00:00.000000000",
          "2021-06-25T00:00:00.000000000",
          "2021-06-26T00:00:00.000000000",
          "2021-06-27T00:00:00.000000000",
          "2021-06-28T00:00:00.000000000",
          "2021-06-29T00:00:00.000000000",
          "2021-06-30T00:00:00.000000000",
          "2021-07-01T00:00:00.000000000",
          "2021-07-02T00:00:00.000000000",
          "2021-07-03T00:00:00.000000000",
          "2021-07-04T00:00:00.000000000",
          "2021-07-05T00:00:00.000000000",
          "2021-07-06T00:00:00.000000000",
          "2021-07-07T00:00:00.000000000",
          "2021-07-08T00:00:00.000000000",
          "2021-07-09T00:00:00.000000000",
          "2021-07-10T00:00:00.000000000",
          "2021-07-11T00:00:00.000000000",
          "2021-07-12T00:00:00.000000000",
          "2021-07-13T00:00:00.000000000",
          "2021-07-14T00:00:00.000000000",
          "2021-07-15T00:00:00.000000000",
          "2021-07-16T00:00:00.000000000",
          "2021-07-17T00:00:00.000000000",
          "2021-07-18T00:00:00.000000000",
          "2021-07-19T00:00:00.000000000",
          "2021-07-20T00:00:00.000000000",
          "2021-07-21T00:00:00.000000000",
          "2021-07-22T00:00:00.000000000",
          "2021-07-23T00:00:00.000000000",
          "2021-07-24T00:00:00.000000000",
          "2021-07-25T00:00:00.000000000",
          "2021-07-26T00:00:00.000000000",
          "2021-07-27T00:00:00.000000000",
          "2021-07-28T00:00:00.000000000",
          "2021-07-29T00:00:00.000000000",
          "2021-07-30T00:00:00.000000000",
          "2021-07-31T00:00:00.000000000",
          "2021-08-01T00:00:00.000000000",
          "2021-08-02T00:00:00.000000000",
          "2021-08-03T00:00:00.000000000",
          "2021-08-04T00:00:00.000000000",
          "2021-08-05T00:00:00.000000000",
          "2021-08-06T00:00:00.000000000",
          "2021-08-07T00:00:00.000000000",
          "2021-08-08T00:00:00.000000000",
          "2021-08-09T00:00:00.000000000",
          "2021-08-10T00:00:00.000000000",
          "2021-08-11T00:00:00.000000000",
          "2021-08-12T00:00:00.000000000",
          "2021-08-13T00:00:00.000000000",
          "2021-08-14T00:00:00.000000000",
          "2021-08-15T00:00:00.000000000",
          "2021-08-16T00:00:00.000000000",
          "2021-08-17T00:00:00.000000000",
          "2021-08-18T00:00:00.000000000",
          "2021-08-19T00:00:00.000000000",
          "2021-08-20T00:00:00.000000000",
          "2021-08-21T00:00:00.000000000",
          "2021-08-22T00:00:00.000000000",
          "2021-08-23T00:00:00.000000000",
          "2021-08-24T00:00:00.000000000",
          "2021-08-25T00:00:00.000000000",
          "2021-08-26T00:00:00.000000000",
          "2021-08-27T00:00:00.000000000",
          "2021-08-28T00:00:00.000000000",
          "2021-08-29T00:00:00.000000000",
          "2021-08-30T00:00:00.000000000",
          "2021-08-31T00:00:00.000000000",
          "2021-09-01T00:00:00.000000000",
          "2021-09-02T00:00:00.000000000",
          "2021-09-03T00:00:00.000000000",
          "2021-09-04T00:00:00.000000000",
          "2021-09-05T00:00:00.000000000",
          "2021-09-06T00:00:00.000000000",
          "2021-09-07T00:00:00.000000000",
          "2021-09-08T00:00:00.000000000",
          "2021-09-09T00:00:00.000000000",
          "2021-09-10T00:00:00.000000000",
          "2021-09-11T00:00:00.000000000",
          "2021-09-12T00:00:00.000000000",
          "2021-09-13T00:00:00.000000000",
          "2021-09-14T00:00:00.000000000",
          "2021-09-15T00:00:00.000000000",
          "2021-09-16T00:00:00.000000000",
          "2021-09-17T00:00:00.000000000",
          "2021-09-18T00:00:00.000000000",
          "2021-09-19T00:00:00.000000000",
          "2021-09-20T00:00:00.000000000",
          "2021-09-21T00:00:00.000000000",
          "2021-09-22T00:00:00.000000000",
          "2021-09-23T00:00:00.000000000",
          "2021-09-24T00:00:00.000000000",
          "2021-09-25T00:00:00.000000000",
          "2021-09-26T00:00:00.000000000",
          "2021-09-27T00:00:00.000000000",
          "2021-09-28T00:00:00.000000000",
          "2021-09-29T00:00:00.000000000",
          "2021-09-30T00:00:00.000000000",
          "2021-10-01T00:00:00.000000000",
          "2021-10-02T00:00:00.000000000",
          "2021-10-03T00:00:00.000000000",
          "2021-10-04T00:00:00.000000000",
          "2021-10-05T00:00:00.000000000",
          "2021-10-06T00:00:00.000000000",
          "2021-10-07T00:00:00.000000000",
          "2021-10-08T00:00:00.000000000",
          "2021-10-09T00:00:00.000000000",
          "2021-10-10T00:00:00.000000000",
          "2021-10-11T00:00:00.000000000",
          "2021-10-12T00:00:00.000000000",
          "2021-10-13T00:00:00.000000000",
          "2021-10-14T00:00:00.000000000",
          "2021-10-15T00:00:00.000000000",
          "2021-10-16T00:00:00.000000000",
          "2021-10-17T00:00:00.000000000",
          "2021-10-18T00:00:00.000000000",
          "2021-10-19T00:00:00.000000000",
          "2021-10-20T00:00:00.000000000",
          "2021-10-21T00:00:00.000000000",
          "2021-10-22T00:00:00.000000000",
          "2021-10-23T00:00:00.000000000",
          "2021-10-24T00:00:00.000000000",
          "2021-10-25T00:00:00.000000000",
          "2021-10-26T00:00:00.000000000",
          "2021-10-27T00:00:00.000000000",
          "2021-10-28T00:00:00.000000000",
          "2021-10-29T00:00:00.000000000",
          "2021-10-30T00:00:00.000000000",
          "2021-10-31T00:00:00.000000000",
          "2021-11-01T00:00:00.000000000",
          "2021-11-02T00:00:00.000000000",
          "2021-11-03T00:00:00.000000000",
          "2021-11-04T00:00:00.000000000",
          "2021-11-05T00:00:00.000000000",
          "2021-11-06T00:00:00.000000000",
          "2021-11-07T00:00:00.000000000",
          "2021-11-08T00:00:00.000000000",
          "2021-11-09T00:00:00.000000000",
          "2021-11-10T00:00:00.000000000",
          "2021-11-11T00:00:00.000000000",
          "2021-11-12T00:00:00.000000000",
          "2021-11-13T00:00:00.000000000",
          "2021-11-14T00:00:00.000000000",
          "2021-11-15T00:00:00.000000000",
          "2021-11-16T00:00:00.000000000",
          "2021-11-17T00:00:00.000000000",
          "2021-11-18T00:00:00.000000000",
          "2021-11-19T00:00:00.000000000",
          "2021-11-20T00:00:00.000000000",
          "2021-11-21T00:00:00.000000000",
          "2021-11-22T00:00:00.000000000",
          "2021-11-23T00:00:00.000000000",
          "2021-11-24T00:00:00.000000000",
          "2021-11-25T00:00:00.000000000",
          "2021-11-26T00:00:00.000000000",
          "2021-11-27T00:00:00.000000000",
          "2021-11-28T00:00:00.000000000",
          "2021-11-29T00:00:00.000000000",
          "2021-11-30T00:00:00.000000000",
          "2021-12-01T00:00:00.000000000",
          "2021-12-02T00:00:00.000000000",
          "2021-12-03T00:00:00.000000000",
          "2021-12-04T00:00:00.000000000",
          "2021-12-05T00:00:00.000000000",
          "2021-12-06T00:00:00.000000000",
          "2021-12-07T00:00:00.000000000",
          "2021-12-08T00:00:00.000000000",
          "2021-12-09T00:00:00.000000000",
          "2021-12-10T00:00:00.000000000",
          "2021-12-11T00:00:00.000000000",
          "2021-12-12T00:00:00.000000000",
          "2021-12-13T00:00:00.000000000",
          "2021-12-14T00:00:00.000000000",
          "2021-12-15T00:00:00.000000000",
          "2021-12-16T00:00:00.000000000",
          "2021-12-17T00:00:00.000000000",
          "2021-12-18T00:00:00.000000000",
          "2021-12-19T00:00:00.000000000",
          "2021-12-20T00:00:00.000000000",
          "2021-12-21T00:00:00.000000000",
          "2021-12-22T00:00:00.000000000",
          "2021-12-23T00:00:00.000000000",
          "2021-12-24T00:00:00.000000000",
          "2021-12-25T00:00:00.000000000",
          "2021-12-26T00:00:00.000000000",
          "2021-12-27T00:00:00.000000000",
          "2021-12-28T00:00:00.000000000",
          "2021-12-29T00:00:00.000000000",
          "2021-12-30T00:00:00.000000000",
          "2021-12-31T00:00:00.000000000",
          "2022-01-01T00:00:00.000000000",
          "2022-01-02T00:00:00.000000000",
          "2022-01-03T00:00:00.000000000",
          "2022-01-04T00:00:00.000000000",
          "2022-01-05T00:00:00.000000000",
          "2022-01-06T00:00:00.000000000",
          "2022-01-07T00:00:00.000000000",
          "2022-01-08T00:00:00.000000000",
          "2022-01-09T00:00:00.000000000",
          "2022-01-10T00:00:00.000000000",
          "2022-01-11T00:00:00.000000000",
          "2022-01-12T00:00:00.000000000",
          "2022-01-13T00:00:00.000000000",
          "2022-01-14T00:00:00.000000000",
          "2022-01-15T00:00:00.000000000",
          "2022-01-16T00:00:00.000000000",
          "2022-01-17T00:00:00.000000000",
          "2022-01-18T00:00:00.000000000",
          "2022-01-19T00:00:00.000000000",
          "2022-01-20T00:00:00.000000000",
          "2022-01-21T00:00:00.000000000",
          "2022-01-22T00:00:00.000000000",
          "2022-01-23T00:00:00.000000000",
          "2022-01-24T00:00:00.000000000",
          "2022-01-25T00:00:00.000000000",
          "2022-01-26T00:00:00.000000000",
          "2022-01-27T00:00:00.000000000",
          "2022-01-28T00:00:00.000000000",
          "2022-01-29T00:00:00.000000000",
          "2022-01-30T00:00:00.000000000",
          "2022-01-31T00:00:00.000000000",
          "2022-02-01T00:00:00.000000000",
          "2022-02-02T00:00:00.000000000",
          "2022-02-03T00:00:00.000000000",
          "2022-02-04T00:00:00.000000000",
          "2022-02-05T00:00:00.000000000",
          "2022-02-06T00:00:00.000000000",
          "2022-02-07T00:00:00.000000000",
          "2022-02-08T00:00:00.000000000",
          "2022-02-09T00:00:00.000000000",
          "2022-02-10T00:00:00.000000000",
          "2022-02-11T00:00:00.000000000",
          "2022-02-12T00:00:00.000000000",
          "2022-02-13T00:00:00.000000000",
          "2022-02-14T00:00:00.000000000",
          "2022-02-15T00:00:00.000000000",
          "2022-02-16T00:00:00.000000000",
          "2022-02-17T00:00:00.000000000",
          "2022-02-18T00:00:00.000000000",
          "2022-02-19T00:00:00.000000000",
          "2022-02-20T00:00:00.000000000",
          "2022-02-21T00:00:00.000000000",
          "2022-02-22T00:00:00.000000000",
          "2022-02-23T00:00:00.000000000",
          "2022-02-24T00:00:00.000000000",
          "2022-02-25T00:00:00.000000000",
          "2022-02-26T00:00:00.000000000",
          "2022-02-27T00:00:00.000000000",
          "2022-02-28T00:00:00.000000000",
          "2022-03-01T00:00:00.000000000",
          "2022-03-02T00:00:00.000000000",
          "2022-03-03T00:00:00.000000000",
          "2022-03-04T00:00:00.000000000",
          "2022-03-05T00:00:00.000000000",
          "2022-03-06T00:00:00.000000000",
          "2022-03-07T00:00:00.000000000",
          "2022-03-08T00:00:00.000000000",
          "2022-03-09T00:00:00.000000000",
          "2022-03-10T00:00:00.000000000",
          "2022-03-11T00:00:00.000000000",
          "2022-03-12T00:00:00.000000000",
          "2022-03-13T00:00:00.000000000",
          "2022-03-14T00:00:00.000000000",
          "2022-03-15T00:00:00.000000000",
          "2022-03-16T00:00:00.000000000",
          "2022-03-17T00:00:00.000000000",
          "2022-03-18T00:00:00.000000000",
          "2022-03-19T00:00:00.000000000",
          "2022-03-20T00:00:00.000000000",
          "2022-03-21T00:00:00.000000000",
          "2022-03-22T00:00:00.000000000",
          "2022-03-23T00:00:00.000000000",
          "2022-03-24T00:00:00.000000000",
          "2022-03-25T00:00:00.000000000",
          "2022-03-26T00:00:00.000000000",
          "2022-03-27T00:00:00.000000000",
          "2022-03-28T00:00:00.000000000",
          "2022-03-29T00:00:00.000000000",
          "2022-03-30T00:00:00.000000000",
          "2022-03-31T00:00:00.000000000",
          "2022-04-01T00:00:00.000000000",
          "2022-04-02T00:00:00.000000000",
          "2022-04-03T00:00:00.000000000",
          "2022-04-04T00:00:00.000000000",
          "2022-04-05T00:00:00.000000000",
          "2022-04-06T00:00:00.000000000",
          "2022-04-07T00:00:00.000000000",
          "2022-04-08T00:00:00.000000000",
          "2022-04-09T00:00:00.000000000",
          "2022-04-10T00:00:00.000000000",
          "2022-04-11T00:00:00.000000000",
          "2022-04-12T00:00:00.000000000",
          "2022-04-13T00:00:00.000000000",
          "2022-04-14T00:00:00.000000000",
          "2022-04-15T00:00:00.000000000",
          "2022-04-16T00:00:00.000000000",
          "2022-04-17T00:00:00.000000000",
          "2022-04-18T00:00:00.000000000",
          "2022-04-19T00:00:00.000000000",
          "2022-04-20T00:00:00.000000000",
          "2022-04-21T00:00:00.000000000",
          "2022-04-22T00:00:00.000000000",
          "2022-04-23T00:00:00.000000000",
          "2022-04-24T00:00:00.000000000",
          "2022-04-25T00:00:00.000000000",
          "2022-04-26T00:00:00.000000000",
          "2022-04-27T00:00:00.000000000",
          "2022-04-28T00:00:00.000000000",
          "2022-04-29T00:00:00.000000000",
          "2022-04-30T00:00:00.000000000",
          "2022-05-01T00:00:00.000000000",
          "2022-05-02T00:00:00.000000000",
          "2022-05-03T00:00:00.000000000",
          "2022-05-04T00:00:00.000000000",
          "2022-05-05T00:00:00.000000000",
          "2022-05-06T00:00:00.000000000",
          "2022-05-07T00:00:00.000000000",
          "2022-05-08T00:00:00.000000000",
          "2022-05-09T00:00:00.000000000",
          "2022-05-10T00:00:00.000000000",
          "2022-05-11T00:00:00.000000000",
          "2022-05-12T00:00:00.000000000",
          "2022-05-13T00:00:00.000000000",
          "2022-05-14T00:00:00.000000000",
          "2022-05-15T00:00:00.000000000",
          "2022-05-16T00:00:00.000000000",
          "2022-05-17T00:00:00.000000000",
          "2022-05-18T00:00:00.000000000",
          "2022-05-19T00:00:00.000000000",
          "2022-05-20T00:00:00.000000000",
          "2022-05-21T00:00:00.000000000",
          "2022-05-22T00:00:00.000000000",
          "2022-05-23T00:00:00.000000000",
          "2022-05-24T00:00:00.000000000",
          "2022-05-25T00:00:00.000000000",
          "2022-05-26T00:00:00.000000000",
          "2022-05-27T00:00:00.000000000",
          "2022-05-28T00:00:00.000000000",
          "2022-05-29T00:00:00.000000000",
          "2022-05-30T00:00:00.000000000",
          "2022-05-31T00:00:00.000000000",
          "2022-06-01T00:00:00.000000000",
          "2022-06-02T00:00:00.000000000",
          "2022-06-03T00:00:00.000000000",
          "2022-06-04T00:00:00.000000000",
          "2022-06-05T00:00:00.000000000",
          "2022-06-06T00:00:00.000000000",
          "2022-06-07T00:00:00.000000000",
          "2022-06-08T00:00:00.000000000",
          "2022-06-09T00:00:00.000000000",
          "2022-06-10T00:00:00.000000000",
          "2022-06-11T00:00:00.000000000",
          "2022-06-12T00:00:00.000000000",
          "2022-06-13T00:00:00.000000000",
          "2022-06-14T00:00:00.000000000",
          "2022-06-15T00:00:00.000000000",
          "2022-06-16T00:00:00.000000000",
          "2022-06-17T00:00:00.000000000",
          "2022-06-18T00:00:00.000000000",
          "2022-06-19T00:00:00.000000000",
          "2022-06-20T00:00:00.000000000",
          "2022-06-21T00:00:00.000000000",
          "2022-06-22T00:00:00.000000000",
          "2022-06-23T00:00:00.000000000",
          "2022-06-24T00:00:00.000000000",
          "2022-06-25T00:00:00.000000000",
          "2022-06-26T00:00:00.000000000",
          "2022-06-27T00:00:00.000000000",
          "2022-06-28T00:00:00.000000000",
          "2022-06-29T00:00:00.000000000",
          "2022-06-30T00:00:00.000000000",
          "2022-07-01T00:00:00.000000000",
          "2022-07-02T00:00:00.000000000",
          "2022-07-03T00:00:00.000000000",
          "2022-07-04T00:00:00.000000000",
          "2022-07-05T00:00:00.000000000",
          "2022-07-06T00:00:00.000000000",
          "2022-07-07T00:00:00.000000000",
          "2022-07-08T00:00:00.000000000",
          "2022-07-09T00:00:00.000000000",
          "2022-07-10T00:00:00.000000000",
          "2022-07-11T00:00:00.000000000",
          "2022-07-12T00:00:00.000000000",
          "2022-07-13T00:00:00.000000000",
          "2022-07-14T00:00:00.000000000",
          "2022-07-15T00:00:00.000000000",
          "2022-07-16T00:00:00.000000000",
          "2022-07-17T00:00:00.000000000",
          "2022-07-18T00:00:00.000000000",
          "2022-07-19T00:00:00.000000000",
          "2022-07-20T00:00:00.000000000",
          "2022-07-21T00:00:00.000000000",
          "2022-07-22T00:00:00.000000000",
          "2022-07-23T00:00:00.000000000",
          "2022-07-24T00:00:00.000000000",
          "2022-07-25T00:00:00.000000000",
          "2022-07-26T00:00:00.000000000",
          "2022-07-27T00:00:00.000000000",
          "2022-07-28T00:00:00.000000000",
          "2022-07-29T00:00:00.000000000",
          "2022-07-30T00:00:00.000000000",
          "2022-07-31T00:00:00.000000000",
          "2022-08-01T00:00:00.000000000",
          "2022-08-02T00:00:00.000000000",
          "2022-08-03T00:00:00.000000000",
          "2022-08-04T00:00:00.000000000",
          "2022-08-05T00:00:00.000000000",
          "2022-08-06T00:00:00.000000000",
          "2022-08-07T00:00:00.000000000",
          "2022-08-08T00:00:00.000000000",
          "2022-08-09T00:00:00.000000000",
          "2022-08-10T00:00:00.000000000",
          "2022-08-11T00:00:00.000000000",
          "2022-08-12T00:00:00.000000000",
          "2022-08-13T00:00:00.000000000",
          "2022-08-14T00:00:00.000000000",
          "2022-08-15T00:00:00.000000000",
          "2022-08-16T00:00:00.000000000",
          "2022-08-17T00:00:00.000000000",
          "2022-08-18T00:00:00.000000000",
          "2022-08-19T00:00:00.000000000",
          "2022-08-20T00:00:00.000000000",
          "2022-08-21T00:00:00.000000000",
          "2022-08-22T00:00:00.000000000",
          "2022-08-23T00:00:00.000000000",
          "2022-08-24T00:00:00.000000000",
          "2022-08-25T00:00:00.000000000",
          "2022-08-26T00:00:00.000000000",
          "2022-08-27T00:00:00.000000000",
          "2022-08-28T00:00:00.000000000",
          "2022-08-29T00:00:00.000000000",
          "2022-08-30T00:00:00.000000000",
          "2022-08-31T00:00:00.000000000",
          "2022-09-01T00:00:00.000000000",
          "2022-09-02T00:00:00.000000000",
          "2022-09-03T00:00:00.000000000",
          "2022-09-04T00:00:00.000000000",
          "2022-09-05T00:00:00.000000000",
          "2022-09-06T00:00:00.000000000",
          "2022-09-07T00:00:00.000000000",
          "2022-09-08T00:00:00.000000000",
          "2022-09-09T00:00:00.000000000",
          "2022-09-10T00:00:00.000000000",
          "2022-09-11T00:00:00.000000000",
          "2022-09-12T00:00:00.000000000",
          "2022-09-13T00:00:00.000000000",
          "2022-09-14T00:00:00.000000000",
          "2022-09-15T00:00:00.000000000",
          "2022-09-16T00:00:00.000000000",
          "2022-09-17T00:00:00.000000000",
          "2022-09-18T00:00:00.000000000",
          "2022-09-19T00:00:00.000000000",
          "2022-09-20T00:00:00.000000000",
          "2022-09-21T00:00:00.000000000",
          "2022-09-22T00:00:00.000000000",
          "2022-09-23T00:00:00.000000000",
          "2022-09-24T00:00:00.000000000",
          "2022-09-25T00:00:00.000000000",
          "2022-09-26T00:00:00.000000000",
          "2022-09-27T00:00:00.000000000",
          "2022-09-28T00:00:00.000000000",
          "2022-09-29T00:00:00.000000000",
          "2022-09-30T00:00:00.000000000",
          "2022-10-01T00:00:00.000000000",
          "2022-10-02T00:00:00.000000000",
          "2022-10-03T00:00:00.000000000",
          "2022-10-04T00:00:00.000000000",
          "2022-10-05T00:00:00.000000000",
          "2022-10-06T00:00:00.000000000",
          "2022-10-07T00:00:00.000000000",
          "2022-10-08T00:00:00.000000000",
          "2022-10-09T00:00:00.000000000",
          "2022-10-10T00:00:00.000000000",
          "2022-10-11T00:00:00.000000000",
          "2022-10-12T00:00:00.000000000",
          "2022-10-13T00:00:00.000000000",
          "2022-10-14T00:00:00.000000000",
          "2022-10-15T00:00:00.000000000",
          "2022-10-16T00:00:00.000000000",
          "2022-10-17T00:00:00.000000000",
          "2022-10-18T00:00:00.000000000",
          "2022-10-19T00:00:00.000000000",
          "2022-10-20T00:00:00.000000000",
          "2022-10-21T00:00:00.000000000",
          "2022-10-22T00:00:00.000000000",
          "2022-10-23T00:00:00.000000000",
          "2022-10-24T00:00:00.000000000",
          "2022-10-25T00:00:00.000000000",
          "2022-10-26T00:00:00.000000000",
          "2022-10-27T00:00:00.000000000",
          "2022-10-28T00:00:00.000000000",
          "2022-10-29T00:00:00.000000000",
          "2022-10-30T00:00:00.000000000",
          "2022-10-31T00:00:00.000000000",
          "2022-11-01T00:00:00.000000000",
          "2022-11-02T00:00:00.000000000",
          "2022-11-03T00:00:00.000000000",
          "2022-11-04T00:00:00.000000000",
          "2022-11-05T00:00:00.000000000",
          "2022-11-06T00:00:00.000000000",
          "2022-11-07T00:00:00.000000000",
          "2022-11-08T00:00:00.000000000",
          "2022-11-09T00:00:00.000000000",
          "2022-11-10T00:00:00.000000000",
          "2022-11-11T00:00:00.000000000",
          "2022-11-12T00:00:00.000000000",
          "2022-11-13T00:00:00.000000000",
          "2022-11-14T00:00:00.000000000",
          "2022-11-15T00:00:00.000000000",
          "2022-11-16T00:00:00.000000000",
          "2022-11-17T00:00:00.000000000",
          "2022-11-18T00:00:00.000000000",
          "2022-11-19T00:00:00.000000000",
          "2022-11-20T00:00:00.000000000",
          "2022-11-21T00:00:00.000000000",
          "2022-11-22T00:00:00.000000000",
          "2022-11-23T00:00:00.000000000",
          "2022-11-24T00:00:00.000000000",
          "2022-11-25T00:00:00.000000000",
          "2022-11-26T00:00:00.000000000",
          "2022-11-27T00:00:00.000000000",
          "2022-11-28T00:00:00.000000000",
          "2022-11-29T00:00:00.000000000",
          "2022-11-30T00:00:00.000000000",
          "2022-12-01T00:00:00.000000000",
          "2022-12-02T00:00:00.000000000",
          "2022-12-03T00:00:00.000000000",
          "2022-12-04T00:00:00.000000000",
          "2022-12-05T00:00:00.000000000",
          "2022-12-06T00:00:00.000000000",
          "2022-12-07T00:00:00.000000000",
          "2022-12-08T00:00:00.000000000",
          "2022-12-09T00:00:00.000000000",
          "2022-12-10T00:00:00.000000000",
          "2022-12-11T00:00:00.000000000",
          "2022-12-12T00:00:00.000000000",
          "2022-12-13T00:00:00.000000000",
          "2022-12-14T00:00:00.000000000",
          "2022-12-15T00:00:00.000000000",
          "2022-12-16T00:00:00.000000000",
          "2022-12-17T00:00:00.000000000",
          "2022-12-18T00:00:00.000000000",
          "2022-12-19T00:00:00.000000000",
          "2022-12-20T00:00:00.000000000",
          "2022-12-21T00:00:00.000000000",
          "2022-12-22T00:00:00.000000000",
          "2022-12-23T00:00:00.000000000",
          "2022-12-24T00:00:00.000000000",
          "2022-12-25T00:00:00.000000000",
          "2022-12-26T00:00:00.000000000",
          "2022-12-27T00:00:00.000000000",
          "2022-12-28T00:00:00.000000000",
          "2022-12-29T00:00:00.000000000",
          "2022-12-30T00:00:00.000000000",
          "2022-12-31T00:00:00.000000000",
          "2023-01-01T00:00:00.000000000",
          "2023-01-02T00:00:00.000000000",
          "2023-01-03T00:00:00.000000000",
          "2023-01-04T00:00:00.000000000",
          "2023-01-05T00:00:00.000000000",
          "2023-01-06T00:00:00.000000000",
          "2023-01-07T00:00:00.000000000",
          "2023-01-08T00:00:00.000000000",
          "2023-01-09T00:00:00.000000000",
          "2023-01-10T00:00:00.000000000",
          "2023-01-11T00:00:00.000000000",
          "2023-01-12T00:00:00.000000000",
          "2023-01-13T00:00:00.000000000",
          "2023-01-14T00:00:00.000000000",
          "2023-01-15T00:00:00.000000000",
          "2023-01-16T00:00:00.000000000",
          "2023-01-17T00:00:00.000000000",
          "2023-01-18T00:00:00.000000000",
          "2023-01-19T00:00:00.000000000",
          "2023-01-20T00:00:00.000000000",
          "2023-01-21T00:00:00.000000000",
          "2023-01-22T00:00:00.000000000",
          "2023-01-23T00:00:00.000000000",
          "2023-01-24T00:00:00.000000000",
          "2023-01-25T00:00:00.000000000",
          "2023-01-26T00:00:00.000000000",
          "2023-01-27T00:00:00.000000000",
          "2023-01-28T00:00:00.000000000",
          "2023-01-29T00:00:00.000000000",
          "2023-01-30T00:00:00.000000000",
          "2023-01-31T00:00:00.000000000",
          "2023-02-01T00:00:00.000000000",
          "2023-02-02T00:00:00.000000000",
          "2023-02-03T00:00:00.000000000",
          "2023-02-04T00:00:00.000000000",
          "2023-02-05T00:00:00.000000000",
          "2023-02-06T00:00:00.000000000",
          "2023-02-07T00:00:00.000000000",
          "2023-02-08T00:00:00.000000000",
          "2023-02-09T00:00:00.000000000",
          "2023-02-10T00:00:00.000000000",
          "2023-02-11T00:00:00.000000000",
          "2023-02-12T00:00:00.000000000",
          "2023-02-13T00:00:00.000000000",
          "2023-02-14T00:00:00.000000000",
          "2023-02-15T00:00:00.000000000",
          "2023-02-16T00:00:00.000000000",
          "2023-02-17T00:00:00.000000000",
          "2023-02-18T00:00:00.000000000",
          "2023-02-19T00:00:00.000000000",
          "2023-02-20T00:00:00.000000000",
          "2023-02-21T00:00:00.000000000",
          "2023-02-22T00:00:00.000000000",
          "2023-02-23T00:00:00.000000000",
          "2023-02-24T00:00:00.000000000",
          "2023-02-25T00:00:00.000000000",
          "2023-02-26T00:00:00.000000000",
          "2023-02-27T00:00:00.000000000",
          "2023-02-28T00:00:00.000000000",
          "2023-03-01T00:00:00.000000000",
          "2023-03-02T00:00:00.000000000",
          "2023-03-03T00:00:00.000000000",
          "2023-03-04T00:00:00.000000000",
          "2023-03-05T00:00:00.000000000",
          "2023-03-06T00:00:00.000000000",
          "2023-03-07T00:00:00.000000000",
          "2023-03-08T00:00:00.000000000",
          "2023-03-09T00:00:00.000000000",
          "2023-03-10T00:00:00.000000000",
          "2023-03-11T00:00:00.000000000",
          "2023-03-12T00:00:00.000000000",
          "2023-03-13T00:00:00.000000000",
          "2023-03-14T00:00:00.000000000",
          "2023-03-15T00:00:00.000000000",
          "2023-03-16T00:00:00.000000000",
          "2023-03-17T00:00:00.000000000",
          "2023-03-18T00:00:00.000000000",
          "2023-03-19T00:00:00.000000000",
          "2023-03-20T00:00:00.000000000",
          "2023-03-21T00:00:00.000000000",
          "2023-03-22T00:00:00.000000000",
          "2023-03-23T00:00:00.000000000",
          "2023-03-24T00:00:00.000000000",
          "2023-03-25T00:00:00.000000000",
          "2023-03-26T00:00:00.000000000",
          "2023-03-27T00:00:00.000000000",
          "2023-03-28T00:00:00.000000000",
          "2023-03-29T00:00:00.000000000",
          "2023-03-30T00:00:00.000000000",
          "2023-03-31T00:00:00.000000000",
          "2023-04-01T00:00:00.000000000",
          "2023-04-02T00:00:00.000000000",
          "2023-04-03T00:00:00.000000000",
          "2023-04-04T00:00:00.000000000",
          "2023-04-05T00:00:00.000000000",
          "2023-04-06T00:00:00.000000000",
          "2023-04-07T00:00:00.000000000",
          "2023-04-08T00:00:00.000000000",
          "2023-04-09T00:00:00.000000000",
          "2023-04-10T00:00:00.000000000",
          "2023-04-11T00:00:00.000000000",
          "2023-04-12T00:00:00.000000000",
          "2023-04-13T00:00:00.000000000",
          "2023-04-14T00:00:00.000000000",
          "2023-04-15T00:00:00.000000000",
          "2023-04-16T00:00:00.000000000",
          "2023-04-17T00:00:00.000000000",
          "2023-04-18T00:00:00.000000000",
          "2023-04-19T00:00:00.000000000",
          "2023-04-20T00:00:00.000000000",
          "2023-04-21T00:00:00.000000000",
          "2023-04-22T00:00:00.000000000",
          "2023-04-23T00:00:00.000000000",
          "2023-04-24T00:00:00.000000000",
          "2023-04-25T00:00:00.000000000",
          "2023-04-26T00:00:00.000000000",
          "2023-04-27T00:00:00.000000000",
          "2023-04-28T00:00:00.000000000",
          "2023-04-29T00:00:00.000000000",
          "2023-04-30T00:00:00.000000000",
          "2023-05-01T00:00:00.000000000",
          "2023-05-02T00:00:00.000000000",
          "2023-05-03T00:00:00.000000000",
          "2023-05-04T00:00:00.000000000",
          "2023-05-05T00:00:00.000000000",
          "2023-05-06T00:00:00.000000000",
          "2023-05-07T00:00:00.000000000",
          "2023-05-08T00:00:00.000000000",
          "2023-05-09T00:00:00.000000000",
          "2023-05-10T00:00:00.000000000",
          "2023-05-11T00:00:00.000000000",
          "2023-05-12T00:00:00.000000000",
          "2023-05-13T00:00:00.000000000",
          "2023-05-14T00:00:00.000000000",
          "2023-05-15T00:00:00.000000000",
          "2023-05-16T00:00:00.000000000",
          "2023-05-17T00:00:00.000000000",
          "2023-05-18T00:00:00.000000000",
          "2023-05-19T00:00:00.000000000",
          "2023-05-20T00:00:00.000000000",
          "2023-05-21T00:00:00.000000000",
          "2023-05-22T00:00:00.000000000",
          "2023-05-23T00:00:00.000000000",
          "2023-05-24T00:00:00.000000000",
          "2023-05-25T00:00:00.000000000",
          "2023-05-26T00:00:00.000000000",
          "2023-05-27T00:00:00.000000000",
          "2023-05-28T00:00:00.000000000",
          "2023-05-29T00:00:00.000000000",
          "2023-05-30T00:00:00.000000000",
          "2023-05-31T00:00:00.000000000",
          "2023-06-01T00:00:00.000000000",
          "2023-06-02T00:00:00.000000000",
          "2023-06-03T00:00:00.000000000",
          "2023-06-04T00:00:00.000000000",
          "2023-06-05T00:00:00.000000000",
          "2023-06-06T00:00:00.000000000",
          "2023-06-07T00:00:00.000000000",
          "2023-06-08T00:00:00.000000000",
          "2023-06-09T00:00:00.000000000",
          "2023-06-10T00:00:00.000000000",
          "2023-06-11T00:00:00.000000000",
          "2023-06-12T00:00:00.000000000",
          "2023-06-13T00:00:00.000000000",
          "2023-06-14T00:00:00.000000000",
          "2023-06-15T00:00:00.000000000",
          "2023-06-16T00:00:00.000000000",
          "2023-06-17T00:00:00.000000000",
          "2023-06-18T00:00:00.000000000",
          "2023-06-19T00:00:00.000000000",
          "2023-06-20T00:00:00.000000000",
          "2023-06-21T00:00:00.000000000",
          "2023-06-22T00:00:00.000000000",
          "2023-06-23T00:00:00.000000000",
          "2023-06-24T00:00:00.000000000",
          "2023-06-25T00:00:00.000000000",
          "2023-06-26T00:00:00.000000000",
          "2023-06-27T00:00:00.000000000",
          "2023-06-28T00:00:00.000000000",
          "2023-06-29T00:00:00.000000000",
          "2023-06-30T00:00:00.000000000",
          "2023-07-01T00:00:00.000000000",
          "2023-07-02T00:00:00.000000000",
          "2023-07-03T00:00:00.000000000",
          "2023-07-04T00:00:00.000000000",
          "2023-07-05T00:00:00.000000000",
          "2023-07-06T00:00:00.000000000",
          "2023-07-07T00:00:00.000000000",
          "2023-07-08T00:00:00.000000000",
          "2023-07-09T00:00:00.000000000",
          "2023-07-10T00:00:00.000000000",
          "2023-07-11T00:00:00.000000000",
          "2023-07-12T00:00:00.000000000",
          "2023-07-13T00:00:00.000000000",
          "2023-07-14T00:00:00.000000000",
          "2023-07-15T00:00:00.000000000",
          "2023-07-16T00:00:00.000000000",
          "2023-07-17T00:00:00.000000000",
          "2023-07-18T00:00:00.000000000",
          "2023-07-19T00:00:00.000000000",
          "2023-07-20T00:00:00.000000000",
          "2023-07-21T00:00:00.000000000",
          "2023-07-22T00:00:00.000000000",
          "2023-07-23T00:00:00.000000000",
          "2023-07-24T00:00:00.000000000",
          "2023-07-25T00:00:00.000000000",
          "2023-07-26T00:00:00.000000000",
          "2023-07-27T00:00:00.000000000",
          "2023-07-28T00:00:00.000000000",
          "2023-07-29T00:00:00.000000000",
          "2023-07-30T00:00:00.000000000",
          "2023-07-31T00:00:00.000000000",
          "2023-08-01T00:00:00.000000000",
          "2023-08-02T00:00:00.000000000",
          "2023-08-03T00:00:00.000000000",
          "2023-08-04T00:00:00.000000000",
          "2023-08-05T00:00:00.000000000",
          "2023-08-06T00:00:00.000000000",
          "2023-08-07T00:00:00.000000000",
          "2023-08-08T00:00:00.000000000",
          "2023-08-09T00:00:00.000000000",
          "2023-08-10T00:00:00.000000000",
          "2023-08-11T00:00:00.000000000",
          "2023-08-12T00:00:00.000000000",
          "2023-08-13T00:00:00.000000000",
          "2023-08-14T00:00:00.000000000",
          "2023-08-15T00:00:00.000000000",
          "2023-08-16T00:00:00.000000000",
          "2023-08-17T00:00:00.000000000",
          "2023-08-18T00:00:00.000000000",
          "2023-08-19T00:00:00.000000000",
          "2023-08-20T00:00:00.000000000",
          "2023-08-21T00:00:00.000000000",
          "2023-08-22T00:00:00.000000000",
          "2023-08-23T00:00:00.000000000",
          "2023-08-24T00:00:00.000000000",
          "2023-08-25T00:00:00.000000000",
          "2023-08-26T00:00:00.000000000",
          "2023-08-27T00:00:00.000000000",
          "2023-08-28T00:00:00.000000000",
          "2023-08-29T00:00:00.000000000",
          "2023-08-30T00:00:00.000000000",
          "2023-08-31T00:00:00.000000000",
          "2023-09-01T00:00:00.000000000",
          "2023-09-02T00:00:00.000000000",
          "2023-09-03T00:00:00.000000000",
          "2023-09-04T00:00:00.000000000",
          "2023-09-05T00:00:00.000000000",
          "2023-09-06T00:00:00.000000000",
          "2023-09-07T00:00:00.000000000",
          "2023-09-08T00:00:00.000000000",
          "2023-09-09T00:00:00.000000000",
          "2023-09-10T00:00:00.000000000",
          "2023-09-11T00:00:00.000000000",
          "2023-09-12T00:00:00.000000000",
          "2023-09-13T00:00:00.000000000",
          "2023-09-14T00:00:00.000000000",
          "2023-09-15T00:00:00.000000000",
          "2023-09-16T00:00:00.000000000",
          "2023-09-17T00:00:00.000000000",
          "2023-09-18T00:00:00.000000000",
          "2023-09-19T00:00:00.000000000",
          "2023-09-20T00:00:00.000000000",
          "2023-09-21T00:00:00.000000000",
          "2023-09-22T00:00:00.000000000",
          "2023-09-23T00:00:00.000000000",
          "2023-09-24T00:00:00.000000000",
          "2023-09-25T00:00:00.000000000",
          "2023-09-26T00:00:00.000000000",
          "2023-09-27T00:00:00.000000000",
          "2023-09-28T00:00:00.000000000",
          "2023-09-29T00:00:00.000000000",
          "2023-09-30T00:00:00.000000000",
          "2023-10-01T00:00:00.000000000",
          "2023-10-02T00:00:00.000000000",
          "2023-10-03T00:00:00.000000000",
          "2023-10-04T00:00:00.000000000",
          "2023-10-05T00:00:00.000000000",
          "2023-10-06T00:00:00.000000000",
          "2023-10-07T00:00:00.000000000",
          "2023-10-08T00:00:00.000000000",
          "2023-10-09T00:00:00.000000000",
          "2023-10-10T00:00:00.000000000",
          "2023-10-11T00:00:00.000000000",
          "2023-10-12T00:00:00.000000000",
          "2023-10-13T00:00:00.000000000",
          "2023-10-14T00:00:00.000000000",
          "2023-10-15T00:00:00.000000000",
          "2023-10-16T00:00:00.000000000",
          "2023-10-17T00:00:00.000000000",
          "2023-10-18T00:00:00.000000000",
          "2023-10-19T00:00:00.000000000",
          "2023-10-20T00:00:00.000000000",
          "2023-10-21T00:00:00.000000000",
          "2023-10-22T00:00:00.000000000",
          "2023-10-23T00:00:00.000000000",
          "2023-10-24T00:00:00.000000000",
          "2023-10-25T00:00:00.000000000",
          "2023-10-26T00:00:00.000000000",
          "2023-10-27T00:00:00.000000000",
          "2023-10-28T00:00:00.000000000",
          "2023-10-29T00:00:00.000000000",
          "2023-10-30T00:00:00.000000000",
          "2023-10-31T00:00:00.000000000",
          "2023-11-01T00:00:00.000000000",
          "2023-11-02T00:00:00.000000000",
          "2023-11-03T00:00:00.000000000",
          "2023-11-04T00:00:00.000000000",
          "2023-11-05T00:00:00.000000000",
          "2023-11-06T00:00:00.000000000",
          "2023-11-07T00:00:00.000000000",
          "2023-11-08T00:00:00.000000000",
          "2023-11-09T00:00:00.000000000",
          "2023-11-10T00:00:00.000000000",
          "2023-11-11T00:00:00.000000000",
          "2023-11-12T00:00:00.000000000",
          "2023-11-13T00:00:00.000000000",
          "2023-11-14T00:00:00.000000000",
          "2023-11-15T00:00:00.000000000",
          "2023-11-16T00:00:00.000000000",
          "2023-11-17T00:00:00.000000000",
          "2023-11-18T00:00:00.000000000",
          "2023-11-19T00:00:00.000000000",
          "2023-11-20T00:00:00.000000000",
          "2023-11-21T00:00:00.000000000",
          "2023-11-22T00:00:00.000000000",
          "2023-11-23T00:00:00.000000000",
          "2023-11-24T00:00:00.000000000",
          "2023-11-25T00:00:00.000000000",
          "2023-11-26T00:00:00.000000000",
          "2023-11-27T00:00:00.000000000",
          "2023-11-28T00:00:00.000000000",
          "2023-11-29T00:00:00.000000000",
          "2023-11-30T00:00:00.000000000",
          "2023-12-01T00:00:00.000000000",
          "2023-12-02T00:00:00.000000000",
          "2023-12-03T00:00:00.000000000",
          "2023-12-04T00:00:00.000000000",
          "2023-12-05T00:00:00.000000000",
          "2023-12-06T00:00:00.000000000",
          "2023-12-07T00:00:00.000000000",
          "2023-12-08T00:00:00.000000000",
          "2023-12-09T00:00:00.000000000",
          "2023-12-10T00:00:00.000000000",
          "2023-12-11T00:00:00.000000000",
          "2023-12-12T00:00:00.000000000",
          "2023-12-13T00:00:00.000000000",
          "2023-12-14T00:00:00.000000000",
          "2023-12-15T00:00:00.000000000",
          "2023-12-16T00:00:00.000000000",
          "2023-12-17T00:00:00.000000000",
          "2023-12-18T00:00:00.000000000",
          "2023-12-19T00:00:00.000000000",
          "2023-12-20T00:00:00.000000000",
          "2023-12-21T00:00:00.000000000",
          "2023-12-22T00:00:00.000000000",
          "2023-12-23T00:00:00.000000000",
          "2023-12-24T00:00:00.000000000",
          "2023-12-25T00:00:00.000000000",
          "2023-12-26T00:00:00.000000000",
          "2023-12-27T00:00:00.000000000",
          "2023-12-28T00:00:00.000000000",
          "2023-12-29T00:00:00.000000000",
          "2023-12-30T00:00:00.000000000",
          "2023-12-31T00:00:00.000000000"
         ],
         "xaxis": "x4",
         "y": {
          "bdata": "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",
          "dtype": "f8"
         },
         "yaxis": "y4"
        }
       ],
       "layout": {
        "annotations": [
         {
          "font": {
           "size": 16
          },
          "showarrow": false,
          "text": "① Original (Non-Stationary)",
          "x": 0.5,
          "xanchor": "center",
          "xref": "paper",
          "y": 1,
          "yanchor": "bottom",
          "yref": "paper"
         },
         {
          "font": {
           "size": 16
          },
          "showarrow": false,
          "text": "② After Deseasonalizing",
          "x": 0.5,
          "xanchor": "center",
          "xref": "paper",
          "y": 0.73,
          "yanchor": "bottom",
          "yref": "paper"
         },
         {
          "font": {
           "size": 16
          },
          "showarrow": false,
          "text": "③ After Differencing",
          "x": 0.5,
          "xanchor": "center",
          "xref": "paper",
          "y": 0.46,
          "yanchor": "bottom",
          "yref": "paper"
         },
         {
          "font": {
           "size": 16
          },
          "showarrow": false,
          "text": "④ Final Stationary Series (Ready for ARIMA!)",
          "x": 0.5,
          "xanchor": "center",
          "xref": "paper",
          "y": 0.19,
          "yanchor": "bottom",
          "yref": "paper"
         }
        ],
        "height": 1000,
        "shapes": [
         {
          "line": {
           "color": "black",
           "dash": "dash"
          },
          "type": "line",
          "x0": 0,
          "x1": 1,
          "xref": "x4 domain",
          "y0": 0,
          "y1": 0,
          "yref": "y4"
         }
        ],
        "showlegend": false,
        "template": {
         "data": {
          "bar": [
           {
            "error_x": {
             "color": "#2a3f5f"
            },
            "error_y": {
             "color": "#2a3f5f"
            },
            "marker": {
             "line": {
              "color": "white",
              "width": 0.5
             },
             "pattern": {
              "fillmode": "overlay",
              "size": 10,
              "solidity": 0.2
             }
            },
            "type": "bar"
           }
          ],
          "barpolar": [
           {
            "marker": {
             "line": {
              "color": "white",
              "width": 0.5
             },
             "pattern": {
              "fillmode": "overlay",
              "size": 10,
              "solidity": 0.2
             }
            },
            "type": "barpolar"
           }
          ],
          "carpet": [
           {
            "aaxis": {
             "endlinecolor": "#2a3f5f",
             "gridcolor": "#C8D4E3",
             "linecolor": "#C8D4E3",
             "minorgridcolor": "#C8D4E3",
             "startlinecolor": "#2a3f5f"
            },
            "baxis": {
             "endlinecolor": "#2a3f5f",
             "gridcolor": "#C8D4E3",
             "linecolor": "#C8D4E3",
             "minorgridcolor": "#C8D4E3",
             "startlinecolor": "#2a3f5f"
            },
            "type": "carpet"
           }
          ],
          "choropleth": [
           {
            "colorbar": {
             "outlinewidth": 0,
             "ticks": ""
            },
            "type": "choropleth"
           }
          ],
          "contour": [
           {
            "colorbar": {
             "outlinewidth": 0,
             "ticks": ""
            },
            "colorscale": [
             [
              0,
              "#0d0887"
             ],
             [
              0.1111111111111111,
              "#46039f"
             ],
             [
              0.2222222222222222,
              "#7201a8"
             ],
             [
              0.3333333333333333,
              "#9c179e"
             ],
             [
              0.4444444444444444,
              "#bd3786"
             ],
             [
              0.5555555555555556,
              "#d8576b"
             ],
             [
              0.6666666666666666,
              "#ed7953"
             ],
             [
              0.7777777777777778,
              "#fb9f3a"
             ],
             [
              0.8888888888888888,
              "#fdca26"
             ],
             [
              1,
              "#f0f921"
             ]
            ],
            "type": "contour"
           }
          ],
          "contourcarpet": [
           {
            "colorbar": {
             "outlinewidth": 0,
             "ticks": ""
            },
            "type": "contourcarpet"
           }
          ],
          "heatmap": [
           {
            "colorbar": {
             "outlinewidth": 0,
             "ticks": ""
            },
            "colorscale": [
             [
              0,
              "#0d0887"
             ],
             [
              0.1111111111111111,
              "#46039f"
             ],
             [
              0.2222222222222222,
              "#7201a8"
             ],
             [
              0.3333333333333333,
              "#9c179e"
             ],
             [
              0.4444444444444444,
              "#bd3786"
             ],
             [
              0.5555555555555556,
              "#d8576b"
             ],
             [
              0.6666666666666666,
              "#ed7953"
             ],
             [
              0.7777777777777778,
              "#fb9f3a"
             ],
             [
              0.8888888888888888,
              "#fdca26"
             ],
             [
              1,
              "#f0f921"
             ]
            ],
            "type": "heatmap"
           }
          ],
          "histogram": [
           {
            "marker": {
             "pattern": {
              "fillmode": "overlay",
              "size": 10,
              "solidity": 0.2
             }
            },
            "type": "histogram"
           }
          ],
          "histogram2d": [
           {
            "colorbar": {
             "outlinewidth": 0,
             "ticks": ""
            },
            "colorscale": [
             [
              0,
              "#0d0887"
             ],
             [
              0.1111111111111111,
              "#46039f"
             ],
             [
              0.2222222222222222,
              "#7201a8"
             ],
             [
              0.3333333333333333,
              "#9c179e"
             ],
             [
              0.4444444444444444,
              "#bd3786"
             ],
             [
              0.5555555555555556,
              "#d8576b"
             ],
             [
              0.6666666666666666,
              "#ed7953"
             ],
             [
              0.7777777777777778,
              "#fb9f3a"
             ],
             [
              0.8888888888888888,
              "#fdca26"
             ],
             [
              1,
              "#f0f921"
             ]
            ],
            "type": "histogram2d"
           }
          ],
          "histogram2dcontour": [
           {
            "colorbar": {
             "outlinewidth": 0,
             "ticks": ""
            },
            "colorscale": [
             [
              0,
              "#0d0887"
             ],
             [
              0.1111111111111111,
              "#46039f"
             ],
             [
              0.2222222222222222,
              "#7201a8"
             ],
             [
              0.3333333333333333,
              "#9c179e"
             ],
             [
              0.4444444444444444,
              "#bd3786"
             ],
             [
              0.5555555555555556,
              "#d8576b"
             ],
             [
              0.6666666666666666,
              "#ed7953"
             ],
             [
              0.7777777777777778,
              "#fb9f3a"
             ],
             [
              0.8888888888888888,
              "#fdca26"
             ],
             [
              1,
              "#f0f921"
             ]
            ],
            "type": "histogram2dcontour"
           }
          ],
          "mesh3d": [
           {
            "colorbar": {
             "outlinewidth": 0,
             "ticks": ""
            },
            "type": "mesh3d"
           }
          ],
          "parcoords": [
           {
            "line": {
             "colorbar": {
              "outlinewidth": 0,
              "ticks": ""
             }
            },
            "type": "parcoords"
           }
          ],
          "pie": [
           {
            "automargin": true,
            "type": "pie"
           }
          ],
          "scatter": [
           {
            "fillpattern": {
             "fillmode": "overlay",
             "size": 10,
             "solidity": 0.2
            },
            "type": "scatter"
           }
          ],
          "scatter3d": [
           {
            "line": {
             "colorbar": {
              "outlinewidth": 0,
              "ticks": ""
             }
            },
            "marker": {
             "colorbar": {
              "outlinewidth": 0,
              "ticks": ""
             }
            },
            "type": "scatter3d"
           }
          ],
          "scattercarpet": [
           {
            "marker": {
             "colorbar": {
              "outlinewidth": 0,
              "ticks": ""
             }
            },
            "type": "scattercarpet"
           }
          ],
          "scattergeo": [
           {
            "marker": {
             "colorbar": {
              "outlinewidth": 0,
              "ticks": ""
             }
            },
            "type": "scattergeo"
           }
          ],
          "scattergl": [
           {
            "marker": {
             "colorbar": {
              "outlinewidth": 0,
              "ticks": ""
             }
            },
            "type": "scattergl"
           }
          ],
          "scattermap": [
           {
            "marker": {
             "colorbar": {
              "outlinewidth": 0,
              "ticks": ""
             }
            },
            "type": "scattermap"
           }
          ],
          "scattermapbox": [
           {
            "marker": {
             "colorbar": {
              "outlinewidth": 0,
              "ticks": ""
             }
            },
            "type": "scattermapbox"
           }
          ],
          "scatterpolar": [
           {
            "marker": {
             "colorbar": {
              "outlinewidth": 0,
              "ticks": ""
             }
            },
            "type": "scatterpolar"
           }
          ],
          "scatterpolargl": [
           {
            "marker": {
             "colorbar": {
              "outlinewidth": 0,
              "ticks": ""
             }
            },
            "type": "scatterpolargl"
           }
          ],
          "scatterternary": [
           {
            "marker": {
             "colorbar": {
              "outlinewidth": 0,
              "ticks": ""
             }
            },
            "type": "scatterternary"
           }
          ],
          "surface": [
           {
            "colorbar": {
             "outlinewidth": 0,
             "ticks": ""
            },
            "colorscale": [
             [
              0,
              "#0d0887"
             ],
             [
              0.1111111111111111,
              "#46039f"
             ],
             [
              0.2222222222222222,
              "#7201a8"
             ],
             [
              0.3333333333333333,
              "#9c179e"
             ],
             [
              0.4444444444444444,
              "#bd3786"
             ],
             [
              0.5555555555555556,
              "#d8576b"
             ],
             [
              0.6666666666666666,
              "#ed7953"
             ],
             [
              0.7777777777777778,
              "#fb9f3a"
             ],
             [
              0.8888888888888888,
              "#fdca26"
             ],
             [
              1,
              "#f0f921"
             ]
            ],
            "type": "surface"
           }
          ],
          "table": [
           {
            "cells": {
             "fill": {
              "color": "#EBF0F8"
             },
             "line": {
              "color": "white"
             }
            },
            "header": {
             "fill": {
              "color": "#C8D4E3"
             },
             "line": {
              "color": "white"
             }
            },
            "type": "table"
           }
          ]
         },
         "layout": {
          "annotationdefaults": {
           "arrowcolor": "#2a3f5f",
           "arrowhead": 0,
           "arrowwidth": 1
          },
          "autotypenumbers": "strict",
          "coloraxis": {
           "colorbar": {
            "outlinewidth": 0,
            "ticks": ""
           }
          },
          "colorscale": {
           "diverging": [
            [
             0,
             "#8e0152"
            ],
            [
             0.1,
             "#c51b7d"
            ],
            [
             0.2,
             "#de77ae"
            ],
            [
             0.3,
             "#f1b6da"
            ],
            [
             0.4,
             "#fde0ef"
            ],
            [
             0.5,
             "#f7f7f7"
            ],
            [
             0.6,
             "#e6f5d0"
            ],
            [
             0.7,
             "#b8e186"
            ],
            [
             0.8,
             "#7fbc41"
            ],
            [
             0.9,
             "#4d9221"
            ],
            [
             1,
             "#276419"
            ]
           ],
           "sequential": [
            [
             0,
             "#0d0887"
            ],
            [
             0.1111111111111111,
             "#46039f"
            ],
            [
             0.2222222222222222,
             "#7201a8"
            ],
            [
             0.3333333333333333,
             "#9c179e"
            ],
            [
             0.4444444444444444,
             "#bd3786"
            ],
            [
             0.5555555555555556,
             "#d8576b"
            ],
            [
             0.6666666666666666,
             "#ed7953"
            ],
            [
             0.7777777777777778,
             "#fb9f3a"
            ],
            [
             0.8888888888888888,
             "#fdca26"
            ],
            [
             1,
             "#f0f921"
            ]
           ],
           "sequentialminus": [
            [
             0,
             "#0d0887"
            ],
            [
             0.1111111111111111,
             "#46039f"
            ],
            [
             0.2222222222222222,
             "#7201a8"
            ],
            [
             0.3333333333333333,
             "#9c179e"
            ],
            [
             0.4444444444444444,
             "#bd3786"
            ],
            [
             0.5555555555555556,
             "#d8576b"
            ],
            [
             0.6666666666666666,
             "#ed7953"
            ],
            [
             0.7777777777777778,
             "#fb9f3a"
            ],
            [
             0.8888888888888888,
             "#fdca26"
            ],
            [
             1,
             "#f0f921"
            ]
           ]
          },
          "colorway": [
           "#636efa",
           "#EF553B",
           "#00cc96",
           "#ab63fa",
           "#FFA15A",
           "#19d3f3",
           "#FF6692",
           "#B6E880",
           "#FF97FF",
           "#FECB52"
          ],
          "font": {
           "color": "#2a3f5f"
          },
          "geo": {
           "bgcolor": "white",
           "lakecolor": "white",
           "landcolor": "white",
           "showlakes": true,
           "showland": true,
           "subunitcolor": "#C8D4E3"
          },
          "hoverlabel": {
           "align": "left"
          },
          "hovermode": "closest",
          "mapbox": {
           "style": "light"
          },
          "paper_bgcolor": "white",
          "plot_bgcolor": "white",
          "polar": {
           "angularaxis": {
            "gridcolor": "#EBF0F8",
            "linecolor": "#EBF0F8",
            "ticks": ""
           },
           "bgcolor": "white",
           "radialaxis": {
            "gridcolor": "#EBF0F8",
            "linecolor": "#EBF0F8",
            "ticks": ""
           }
          },
          "scene": {
           "xaxis": {
            "backgroundcolor": "white",
            "gridcolor": "#DFE8F3",
            "gridwidth": 2,
            "linecolor": "#EBF0F8",
            "showbackground": true,
            "ticks": "",
            "zerolinecolor": "#EBF0F8"
           },
           "yaxis": {
            "backgroundcolor": "white",
            "gridcolor": "#DFE8F3",
            "gridwidth": 2,
            "linecolor": "#EBF0F8",
            "showbackground": true,
            "ticks": "",
            "zerolinecolor": "#EBF0F8"
           },
           "zaxis": {
            "backgroundcolor": "white",
            "gridcolor": "#DFE8F3",
            "gridwidth": 2,
            "linecolor": "#EBF0F8",
            "showbackground": true,
            "ticks": "",
            "zerolinecolor": "#EBF0F8"
           }
          },
          "shapedefaults": {
           "line": {
            "color": "#2a3f5f"
           }
          },
          "ternary": {
           "aaxis": {
            "gridcolor": "#DFE8F3",
            "linecolor": "#A2B1C6",
            "ticks": ""
           },
           "baxis": {
            "gridcolor": "#DFE8F3",
            "linecolor": "#A2B1C6",
            "ticks": ""
           },
           "bgcolor": "white",
           "caxis": {
            "gridcolor": "#DFE8F3",
            "linecolor": "#A2B1C6",
            "ticks": ""
           }
          },
          "title": {
           "x": 0.05
          },
          "xaxis": {
           "automargin": true,
           "gridcolor": "#EBF0F8",
           "linecolor": "#EBF0F8",
           "ticks": "",
           "title": {
            "standoff": 15
           },
           "zerolinecolor": "#EBF0F8",
           "zerolinewidth": 2
          },
          "yaxis": {
           "automargin": true,
           "gridcolor": "#EBF0F8",
           "linecolor": "#EBF0F8",
           "ticks": "",
           "title": {
            "standoff": 15
           },
           "zerolinecolor": "#EBF0F8",
           "zerolinewidth": 2
          }
         }
        },
        "title": {
         "text": "🎯 Complete Transformation: Non-Stationary → Stationary"
        },
        "xaxis": {
         "anchor": "y",
         "domain": [
          0,
          1
         ],
         "title": {
          "text": "Date"
         }
        },
        "xaxis2": {
         "anchor": "y2",
         "domain": [
          0,
          1
         ],
         "title": {
          "text": "Date"
         }
        },
        "xaxis3": {
         "anchor": "y3",
         "domain": [
          0,
          1
         ],
         "title": {
          "text": "Date"
         }
        },
        "xaxis4": {
         "anchor": "y4",
         "domain": [
          0,
          1
         ],
         "title": {
          "text": "Date"
         }
        },
        "yaxis": {
         "anchor": "x",
         "domain": [
          0.81,
          1
         ],
         "title": {
          "text": "Value"
         }
        },
        "yaxis2": {
         "anchor": "x2",
         "domain": [
          0.54,
          0.73
         ],
         "title": {
          "text": "Value"
         }
        },
        "yaxis3": {
         "anchor": "x3",
         "domain": [
          0.27,
          0.46
         ],
         "title": {
          "text": "Value"
         }
        },
        "yaxis4": {
         "anchor": "x4",
         "domain": [
          0,
          0.19
         ],
         "title": {
          "text": "Value"
         }
        }
       }
      }
     },
     "metadata": {},
     "output_type": "display_data"
    },
    {
     "name": "stdout",
     "output_type": "stream",
     "text": [
      "\n",
      "======================================================================\n",
      "✅ SUCCESS! The data is now stationary and ready for ARIMA modeling!\n",
      "======================================================================\n",
      "\n",
      "💡 Key Takeaways:\n",
      "   • Original data: Non-stationary (p > 0.05)\n",
      "   • After deseasonalizing: Still non-stationary (trend remains)\n",
      "   • After differencing: STATIONARY (p < 0.05) ✅\n",
      "   • We would use: d=1 in ARIMA (one difference)\n",
      "\n",
      "📈 Next step: Fit ARIMA model to the stationary series!\n"
     ]
    }
   ],
   "source": [
    "# ====================\n",
    "# COMPLETE WORKFLOW: Simulating Sales Data\n",
    "# ====================\n",
    "\n",
    "# Generate realistic \"sales\" data with multiple components\n",
    "np.random.seed(789)\n",
    "n = 365 * 3  # 3 years of daily data\n",
    "time = np.arange(n)\n",
    "dates = pd.date_range(start='2021-01-01', periods=n, freq='D')\n",
    "\n",
    "# Components of sales data\n",
    "trend = 0.05 * time  # Growing business\n",
    "seasonality = 30 * np.sin(2 * np.pi * time / 365)  # Annual pattern\n",
    "weekly = 10 * np.sin(2 * np.pi * time / 7)  # Weekly pattern (weekday/weekend)\n",
    "noise = np.random.normal(0, 8, n)\n",
    "sales_data = 200 + trend + seasonality + weekly + noise\n",
    "\n",
    "# Create DataFrame\n",
    "df = pd.DataFrame({'date': dates, 'sales': sales_data})\n",
    "df.set_index('date', inplace=True)\n",
    "\n",
    "print(\"📊 STEP-BY-STEP WORKFLOW FOR MAKING DATA STATIONARY\")\n",
    "print(\"=\"*70)\n",
    "\n",
    "# STEP 1: Visualize original data\n",
    "print(\"\\n1️⃣  STEP 1: Visualize & Inspect Original Data\")\n",
    "fig = go.Figure()\n",
    "fig.add_trace(go.Scatter(x=df.index, y=df['sales'], mode='lines',\n",
    "                         line=dict(color='red', width=1),\n",
    "                         name='Original Sales Data'))\n",
    "fig.update_layout(title='Original Sales Data (Non-Stationary)',\n",
    "                  xaxis_title='Date', yaxis_title='Sales',\n",
    "                  template='plotly_white', height=400)\n",
    "fig.show()\n",
    "\n",
    "# STEP 2: Test for stationarity\n",
    "print(\"\\n2️⃣  STEP 2: Test for Stationarity (ADF Test)\")\n",
    "adf_test(df['sales'], 'Original Sales Data')\n",
    "\n",
    "# STEP 3: Decompose to understand components\n",
    "print(\"\\n3️⃣  STEP 3: Decompose to Identify Components\")\n",
    "decomp = seasonal_decompose(df['sales'], model='additive', period=365)\n",
    "\n",
    "# STEP 4: Remove seasonality\n",
    "print(\"\\n4️⃣  STEP 4: Remove Seasonality\")\n",
    "df['deseasonalized'] = df['sales'] - decomp.seasonal\n",
    "adf_test(df['deseasonalized'], 'After Deseasonalizing')\n",
    "\n",
    "# STEP 5: Apply differencing to remove trend\n",
    "print(\"\\n5️⃣  STEP 5: Apply First Differencing\")\n",
    "df['differenced'] = df['deseasonalized'].diff()\n",
    "df_clean = df.dropna()  # Remove NaN from differencing\n",
    "adf_test(df_clean['differenced'], 'After Deseasonalizing + Differencing')\n",
    "\n",
    "# STEP 6: Visualize the transformation journey\n",
    "print(\"\\n6️⃣  STEP 6: Visualize the Transformation Journey\")\n",
    "fig = make_subplots(\n",
    "    rows=4, cols=1,\n",
    "    subplot_titles=('① Original (Non-Stationary)', \n",
    "                   '② After Deseasonalizing',\n",
    "                   '③ After Differencing',\n",
    "                   '④ Final Stationary Series (Ready for ARIMA!)'),\n",
    "    vertical_spacing=0.08\n",
    ")\n",
    "\n",
    "fig.add_trace(\n",
    "    go.Scatter(x=df.index, y=df['sales'], mode='lines',\n",
    "               line=dict(color='red', width=1)),\n",
    "    row=1, col=1\n",
    ")\n",
    "\n",
    "fig.add_trace(\n",
    "    go.Scatter(x=df.index, y=df['deseasonalized'], mode='lines',\n",
    "               line=dict(color='orange', width=1)),\n",
    "    row=2, col=1\n",
    ")\n",
    "\n",
    "fig.add_trace(\n",
    "    go.Scatter(x=df_clean.index, y=df_clean['differenced'], mode='lines',\n",
    "               line=dict(color='green', width=1)),\n",
    "    row=3, col=1\n",
    ")\n",
    "\n",
    "# Highlight final stationary series\n",
    "fig.add_trace(\n",
    "    go.Scatter(x=df_clean.index, y=df_clean['differenced'], mode='lines',\n",
    "               line=dict(color='darkgreen', width=1.5)),\n",
    "    row=4, col=1\n",
    ")\n",
    "fig.add_hline(y=0, line_dash=\"dash\", line_color=\"black\", row=4, col=1)\n",
    "\n",
    "for i in range(1, 5):\n",
    "    fig.update_xaxes(title_text=\"Date\", row=i, col=1)\n",
    "    fig.update_yaxes(title_text=\"Value\", row=i, col=1)\n",
    "\n",
    "fig.update_layout(\n",
    "    title_text='🎯 Complete Transformation: Non-Stationary → Stationary',\n",
    "    height=1000,\n",
    "    showlegend=False,\n",
    "    template='plotly_white'\n",
    ")\n",
    "\n",
    "fig.show()\n",
    "\n",
    "print(\"\\n\" + \"=\"*70)\n",
    "print(\"✅ SUCCESS! The data is now stationary and ready for ARIMA modeling!\")\n",
    "print(\"=\"*70)\n",
    "print(\"\\n💡 Key Takeaways:\")\n",
    "print(\"   • Original data: Non-stationary (p > 0.05)\")\n",
    "print(\"   • After deseasonalizing: Still non-stationary (trend remains)\")\n",
    "print(\"   • After differencing: STATIONARY (p < 0.05) ✅\")\n",
    "print(\"   • We would use: d=1 in ARIMA (one difference)\")\n",
    "print(\"\\n📈 Next step: Fit ARIMA model to the stationary series!\")\n"
   ]
  },
  {
   "cell_type": "markdown",
   "id": "04edbb48",
   "metadata": {},
   "source": [
    "## 6. Introduction to ARIMA Models\n",
    "\n",
    "**ARIMA** stands for **AutoRegressive Integrated Moving Average**. It's one of the most popular time series forecasting methods.\n",
    "\n",
    "### ARIMA Components: ARIMA(p, d, q)\n",
    "\n",
    "1. **AR (AutoRegressive) - p**: Uses past values to predict future values\n",
    "   - Model: y_t = c + φ₁y_{t-1} + φ₂y_{t-2} + ... + φₚy_{t-p} + ε_t\n",
    "   - **p** = number of lag observations\n",
    "\n",
    "2. **I (Integrated) - d**: Number of times the data needs to be differenced to make it stationary\n",
    "   - **d** = order of differencing (usually 0, 1, or 2)\n",
    "   - Stationary data has constant mean and variance over time\n",
    "\n",
    "3. **MA (Moving Average) - q**: Uses past forecast errors to predict future values\n",
    "   - Model: y_t = μ + ε_t + θ₁ε_{t-1} + θ₂ε_{t-2} + ... + θqε_{t-q}\n",
    "   - **q** = number of lagged forecast errors\n",
    "\n",
    "### How to Choose p, d, q:\n",
    "- **p**: Look at PACF plot - where it cuts off\n",
    "- **d**: Number of differencing needed for stationarity (often 1)\n",
    "- **q**: Look at ACF plot - where it cuts off\n"
   ]
  },
  {
   "cell_type": "markdown",
   "id": "92849dd1",
   "metadata": {},
   "source": [
    "### ARIMA Example: Forecasting\n",
    "\n",
    "Let's create a time series, fit an ARIMA model, and make forecasts:\n"
   ]
  },
  {
   "cell_type": "code",
   "execution_count": 13,
   "id": "2b8cade3",
   "metadata": {},
   "outputs": [
    {
     "name": "stdout",
     "output_type": "stream",
     "text": [
      "                               SARIMAX Results                                \n",
      "==============================================================================\n",
      "Dep. Variable:                      y   No. Observations:                  150\n",
      "Model:                 ARIMA(2, 1, 2)   Log Likelihood                -421.527\n",
      "Date:                Mon, 20 Oct 2025   AIC                            853.053\n",
      "Time:                        12:10:08   BIC                            868.073\n",
      "Sample:                             0   HQIC                           859.155\n",
      "                                - 150                                         \n",
      "Covariance Type:                  opg                                         \n",
      "==============================================================================\n",
      "                 coef    std err          z      P>|z|      [0.025      0.975]\n",
      "------------------------------------------------------------------------------\n",
      "ar.L1          1.2713      0.110     11.570      0.000       1.056       1.487\n",
      "ar.L2         -0.3357      0.112     -2.987      0.003      -0.556      -0.115\n",
      "ma.L1         -1.8239      0.051    -35.431      0.000      -1.925      -1.723\n",
      "ma.L2          0.9527      0.053     17.975      0.000       0.849       1.057\n",
      "sigma2        16.3620      2.082      7.859      0.000      12.282      20.442\n",
      "===================================================================================\n",
      "Ljung-Box (L1) (Q):                   0.32   Jarque-Bera (JB):                 0.86\n",
      "Prob(Q):                              0.57   Prob(JB):                         0.65\n",
      "Heteroskedasticity (H):               0.77   Skew:                             0.07\n",
      "Prob(H) (two-sided):                  0.36   Kurtosis:                         2.66\n",
      "===================================================================================\n",
      "\n",
      "Warnings:\n",
      "[1] Covariance matrix calculated using the outer product of gradients (complex-step).\n"
     ]
    }
   ],
   "source": [
    "# Generate a more complex time series\n",
    "np.random.seed(123)\n",
    "n = 200\n",
    "time_idx = np.arange(n)\n",
    "\n",
    "# Create trend + seasonality + noise\n",
    "trend = 0.5 * time_idx\n",
    "seasonality = 15 * np.sin(2 * np.pi * time_idx / 50)\n",
    "noise = np.random.normal(0, 3, n)\n",
    "ts_data = 100 + trend + seasonality + noise\n",
    "\n",
    "# Split into train and test\n",
    "train_size = 150\n",
    "train = ts_data[:train_size]\n",
    "test = ts_data[train_size:]\n",
    "\n",
    "# Fit ARIMA model\n",
    "# Based on our ACF/PACF analysis, we'll use ARIMA(2, 1, 2)\n",
    "model = ARIMA(train, order=(2, 1, 2))\n",
    "fitted_model = model.fit()\n",
    "\n",
    "# Make predictions\n",
    "n_forecast = len(test)\n",
    "forecast = fitted_model.forecast(steps=n_forecast)\n",
    "\n",
    "# Get confidence intervals\n",
    "forecast_result = fitted_model.get_forecast(steps=n_forecast)\n",
    "forecast_ci = forecast_result.conf_int()\n",
    "\n",
    "print(fitted_model.summary())\n"
   ]
  },
  {
   "cell_type": "code",
   "execution_count": 14,
   "id": "f6e9c67e",
   "metadata": {},
   "outputs": [
    {
     "data": {
      "application/vnd.plotly.v1+json": {
       "config": {
        "plotlyServerURL": "https://plot.ly"
       },
       "data": [
        {
         "line": {
          "color": "blue",
          "width": 2
         },
         "mode": "lines",
         "name": "Training Data",
         "type": "scatter",
         "x": {
          "bdata": "AAABAAIAAwAEAAUABgAHAAgACQAKAAsADAANAA4ADwAQABEAEgATABQAFQAWABcAGAAZABoAGwAcAB0AHgAfACAAIQAiACMAJAAlACYAJwAoACkAKgArACwALQAuAC8AMAAxADIAMwA0ADUANgA3ADgAOQA6ADsAPAA9AD4APwBAAEEAQgBDAEQARQBGAEcASABJAEoASwBMAE0ATgBPAFAAUQBSAFMAVABVAFYAVwBYAFkAWgBbAFwAXQBeAF8AYABhAGIAYwBkAGUAZgBnAGgAaQBqAGsAbABtAG4AbwBwAHEAcgBzAHQAdQB2AHcAeAB5AHoAewB8AH0AfgB/AIAAgQCCAIMAhACFAIYAhwCIAIkAigCLAIwAjQCOAI8AkACRAJIAkwCUAJUA",
          "dtype": "i2"
         },
         "y": {
          "bdata": "K3enFY8vWEBEJTtrz1daQErGXfwSZVpADxJt5DCgWUDGe2FsZN9aQO1wJINZEV1Av9CYKD5/WkAkYcdrV3FcQPA1eFSdHV5AOmesRTjeXECN0I0Jq05dQJUsjcfP/F1AFhnp1HNcX0Dp6uK8b+NdQPTRPlDAGV5AijBhap4dXkDU2/4VFgZgQJBb2fBq7l9AYNJ7l3jkXkAI+HEhUDteQICubD7ZQV5AWTxcPrSMXkCkbAsvuG1cQDqXOWCAsF1AA20kJ5OHW0Clffc8jaVbQKdEnCPYdVxAkkGldfNeWkC90FwNtQNbQB2biz0PLFpACcJusaVaWkBE0pdzgTVYQFWMMkUsyFhAdeZqmhFvWUBztkdWcI1aQIq9Oc+lrVlA/m+894zRWUBlqVJ5CGZaQIKZG/sFWVlAqKl773VnWkAUtLf5WtRZQNuM6Eqnb1lA0Z1ddmTKWkCmPwdfeupbQC6dQwjYL1xADxZoZ3RpXECKvC3B2bxeQE2aHivhzV1AJN40zizNXkBd3bapsypgQHUXQh6JR15AeICbYN8QX0DLnCd8xN5gQFpvi/QVNGBAI2P0YhfKYEAICqKPynBhQFjbDSYXnmFAMUkFwFAqYkD3fz7320RiQDeC3or6SGJAf55AvFO+YUD5SZYAznNiQLtLqxI5XWJAJ0d1ObvPYUCDJa3/jt9iQIKPRHgApmJAJR/IHK9WYkC9yYSL5i5iQGUj5TfPvmFA/APqprwrYkApsl5pGydiQCpnNG1zh2FAb0DEeEUgYkBcRLkmCh5hQHyHL6JXkGBAV44+VdCTYUA0prLtHd1gQBnf/q6HzGBA7KlCC+ZeYEAO3XjvK91fQNKOc6ld3mBAZi0dNUkFYED78azmms1gQNG392M5aGBArHsOtu7eX0BjYGMTfj5fQIrDGh1fhF9AKPqnAxc5X0C1DaBfT+lgQLiPrdlJSGBA7tZuoOnFYEAP+WdoBARgQLeFlhoavGBAu4m9dzpPYUBUIYygQfdgQNzv/J3ZuGFAY0B8xKMwYUBcH6QtaFxhQNry1yINTWJAOCyGaXBPYkDvv9Mio/1iQOM5ul9ITmJAqTMHob+bY0AzM/YPI5pkQPhI8K7g5GNAUYj2IGotZEBptKrB0XlkQM5ukMAY72NAqijM/i/+ZEBYryyZMmhkQJlWwStz/2RA2fIrONC+ZUAxKB3VeBhlQBvhNDgsn2VAjLdIiLjYZUAn4PUoRJNlQLyP9re07mRA4/tlGlxFZUBdeBEp8w1mQAsjq58tdmRAWoiwVan/ZEAnB5RIPcJkQK3I2aFK3GRA+TkMKTPvZECHfxAjmBZlQBXAy8QONmRAGu0cJ9NxZECJGbiZmihkQFtMBmrW/GNAGSIuHZ9yY0COoJnGHiZjQBypLDHQ/WJAZDPCIYkFY0BpOPnAmlljQN8gr/G7dmNAwQ3lvotGY0CfZxRszfNiQIOEPf9R3mNAkFH/HcLSY0BasMeihDZjQBRLaYZxKGNAXbC2Ay+qY0CKK7MdYkRkQIAaZF0ZHmRAOVS0l9hsZEBgIvvdgGFkQIRDC2yP5GRAZeRTlJOTZUBGOP7injFlQOIHrPuYoWVA",
          "dtype": "f8"
         }
        },
        {
         "line": {
          "color": "green",
          "width": 2
         },
         "mode": "lines",
         "name": "Actual Test Data",
         "type": "scatter",
         "x": {
          "bdata": "lgCXAJgAmQCaAJsAnACdAJ4AnwCgAKEAogCjAKQApQCmAKcAqACpAKoAqwCsAK0ArgCvALAAsQCyALMAtAC1ALYAtwC4ALkAugC7ALwAvQC+AL8AwADBAMIAwwDEAMUAxgDHAA==",
          "dtype": "i2"
         },
         "y": {
          "bdata": "y7wxy134ZUAFpTbIZUdmQCRLrG7U72VA1v2POIUMZkC3DzTZWqVmQF3D0mZCWmdAXuGut8C9Z0DRti3P5o5nQASH0X5+eWhAFiiZdJIUaEBMgVYcdUpoQC3v7ZngVGhA6rzpXeuLaEAdNuKtrtJoQLcIZ45m12hAIYu6LkJCaEB5rIy1liRpQAFIMKUnHGhATEkYwHN5aEA8+QOUPT5oQNNtRwhv1WdAfuNXugcQaEAbrN7nlKlnQEl6IMhezmdA1vQ1MNvCZ0AsKdwiTv1nQMpAqlNZYWdAs21Ag/PdZkBvPhBotMlmQKza4DUy1mZAa19v19WuZkD0u6y3iRNnQFaGvYYb9GZAj+pyxkM4ZkAO8T9sAxlmQHsJVwAEUmVAJRVJRs4TZkCrqbu6DfNlQI1fSk/iPmZAl8bxHRieZkAlIJ3agKhmQPhHqVvOumZAfSAb6uH9ZkBq18HcCxJnQPX79clUamdABadSiq5fZkAJEqTz575nQJ7vb5aoFGhAaqiDI95HaEA3YQ/O6p5oQA==",
          "dtype": "f8"
         }
        },
        {
         "line": {
          "color": "red",
          "dash": "dash",
          "width": 2
         },
         "mode": "lines",
         "name": "ARIMA Forecast",
         "type": "scatter",
         "x": {
          "bdata": "lgCXAJgAmQCaAJsAnACdAJ4AnwCgAKEAogCjAKQApQCmAKcAqACpAKoAqwCsAK0ArgCvALAAsQCyALMAtAC1ALYAtwC4ALkAugC7ALwAvQC+AL8AwADBAMIAwwDEAMUAxgDHAA==",
          "dtype": "i2"
         },
         "y": {
          "bdata": "0kpakeutZUCiIY6QD9FlQMw9sROZ+WVAm25rvlUhZkDNXuYqPkZmQN5/YKLSZ2ZA3MRGKR+GZkBEgW/nXaFmQKtr6MLUuWZAkQ0MEsnPZkDClDqDe+NmQGcotgkn9WZAdJTL3wAFZ0BtnvDlOBNnQBQQ9xr6H2dA/bPsFGsrZ0Auh2tyrjVnQAPhEkLjPmdAbxAIYCVHZ0DEpxfKjU5nQHyBResyVWdAY/2d3yhbZ0Bh5A6xgWBnQNSK/Y1NZWdA3m4++pppZ0BlJwL7dm1nQKdvPD7tcGdAmYD8PQh0Z0DvqSFg0XZnQOsbzBJReWdA0vLf5Y57Z0BquOehkX1nQMacm1xff2dA9oVLi/2AZ0CXsGMTcYJnQCzePVm+g2dAYehrTemEZ0BM8qN49YVnQGdMcgbmhmdA0GjRzr2HZ0Ap6MRef4hnQBzKEQAtiWdA9B0rwMiJZ0DpJ2h2VIpnQFTHlsnRimdAb/r6NEKLZ0DGn8oMp4tnQMAGM4IBjGdA/Hr0plKMZ0BhtZ5wm4xnQA==",
          "dtype": "f8"
         }
        },
        {
         "line": {
          "width": 0
         },
         "mode": "lines",
         "name": "95% CI Lower",
         "showlegend": false,
         "type": "scatter",
         "x": {
          "bdata": "lgCXAJgAmQCaAJsAnACdAJ4AnwCgAKEAogCjAKQApQCmAKcAqACpAKoAqwCsAK0ArgCvALAAsQCyALMAtAC1ALYAtwC4ALkAugC7ALwAvQC+AL8AwADBAMIAwwDEAMUAxgDHAA==",
          "dtype": "i2"
         },
         "y": {
          "bdata": "mAO2JzewZEAHlEKTHbtkQIT+UH3g1GRALTbliCroZEDRvwZ/0u1kQKnG2KpT5GRANv+6qT7NZEA+TuGpNKtkQE5zadLEgGRAippcbQpQZEBfECIUpxpkQCadC5LY4WNAEkZxB5GmY0BUVGJwimljQHbtqA5VK2NAeeiCxmHsYkCdS0iRCa1iQDQETOeSbWJAbe89vzUuYkAs28yOHu9hQN85g5VwsGFAoNiro0dyYUA6l7F/uTRhQCUVMwLX92BAY8ge+qy7YEBw+3TlRIBgQGEWBoilRWBAQHcyZ9MLYEC10w1goqVfQCRQsxdANV9A71tKzX/GXkCooGFTX1leQPrrJdna7V1AuQJmPO2DXUC2I0NOkBtdQDxxvgy9tFxAJgDw0mtPXEBDiGSBlOtbQA0+3p8uiVtAGO2AeTEoW0CGe0Y0lMhaQOmldeRNalpAEYO3nFUNWkAJD1B7orFZQKCx6bQrV1lACbVSnej9WEBrV32u0KVYQBIXB47bTlhABquBEQH5V0DDea9BOaRXQA==",
          "dtype": "f8"
         }
        },
        {
         "fill": "tonexty",
         "fillcolor": "rgba(255, 0, 0, 0.2)",
         "line": {
          "width": 0
         },
         "mode": "lines",
         "name": "95% CI Upper",
         "showlegend": true,
         "type": "scatter",
         "x": {
          "bdata": "lgCXAJgAmQCaAJsAnACdAJ4AnwCgAKEAogCjAKQApQCmAKcAqACpAKoAqwCsAK0ArgCvALAAsQCyALMAtAC1ALYAtwC4ALkAugC7ALwAvQC+AL8AwADBAMIAwwDEAMUAxgDHAA==",
          "dtype": "i2"
         },
         "y": {
          "bdata": "DJL++p+rZkA9r9mNAedmQBR9EapRHmdACafx84BaZ0DJ/cXWqZ5nQBM56JlR62dAgorSqP8+aEBKtP0kh5doQAhkZ7Pk8mhAmIC7todPaUAlGVPyT6xpQKizYIF1CGpA1uIluHBjakCG6H5b57xqQLIyRSefFGtAgX9WY3Rqa0C/wo5TU75rQNK92ZwzEGxAcTHSABVgbEBcdGIF/a1sQBnJB0H1+WxAJiKQGwpEbUCIMWziSYxtQIMAyBnE0m1AWRVe+ogXbkBaU48QqVpuQO3IcvQ0nG5A8onGFD3cbkAEajyQ0RpvQMSPvhkCWG9ArLca5d2Tb0CAoB6ac85vQMghUqboA3BASAUyPAIgcECq59L/jDtwQN1BDhaPVnBAWOivWA5xcEA70EpYEItwQOS8el6apHBAii1xcLG9cEBISbNRWtZwQKJg9IaZ7nBAMD39WHMGcUAnJJTX6x1xQOxaXNwGNXFALU2mDchLcUDrSSvhMmJxQPxAsZ5KeHFAOhCUYhKOcUDw1jIgjaNxQA==",
          "dtype": "f8"
         }
        }
       ],
       "layout": {
        "annotations": [
         {
          "showarrow": false,
          "text": "Train/Test Split",
          "x": 150,
          "xanchor": "center",
          "xref": "x",
          "y": 1,
          "yanchor": "bottom",
          "yref": "y domain"
         }
        ],
        "height": 500,
        "hovermode": "x unified",
        "legend": {
         "x": 0.02,
         "y": 0.98
        },
        "shapes": [
         {
          "line": {
           "color": "gray",
           "dash": "dash"
          },
          "type": "line",
          "x0": 150,
          "x1": 150,
          "xref": "x",
          "y0": 0,
          "y1": 1,
          "yref": "y domain"
         }
        ],
        "template": {
         "data": {
          "bar": [
           {
            "error_x": {
             "color": "#2a3f5f"
            },
            "error_y": {
             "color": "#2a3f5f"
            },
            "marker": {
             "line": {
              "color": "white",
              "width": 0.5
             },
             "pattern": {
              "fillmode": "overlay",
              "size": 10,
              "solidity": 0.2
             }
            },
            "type": "bar"
           }
          ],
          "barpolar": [
           {
            "marker": {
             "line": {
              "color": "white",
              "width": 0.5
             },
             "pattern": {
              "fillmode": "overlay",
              "size": 10,
              "solidity": 0.2
             }
            },
            "type": "barpolar"
           }
          ],
          "carpet": [
           {
            "aaxis": {
             "endlinecolor": "#2a3f5f",
             "gridcolor": "#C8D4E3",
             "linecolor": "#C8D4E3",
             "minorgridcolor": "#C8D4E3",
             "startlinecolor": "#2a3f5f"
            },
            "baxis": {
             "endlinecolor": "#2a3f5f",
             "gridcolor": "#C8D4E3",
             "linecolor": "#C8D4E3",
             "minorgridcolor": "#C8D4E3",
             "startlinecolor": "#2a3f5f"
            },
            "type": "carpet"
           }
          ],
          "choropleth": [
           {
            "colorbar": {
             "outlinewidth": 0,
             "ticks": ""
            },
            "type": "choropleth"
           }
          ],
          "contour": [
           {
            "colorbar": {
             "outlinewidth": 0,
             "ticks": ""
            },
            "colorscale": [
             [
              0,
              "#0d0887"
             ],
             [
              0.1111111111111111,
              "#46039f"
             ],
             [
              0.2222222222222222,
              "#7201a8"
             ],
             [
              0.3333333333333333,
              "#9c179e"
             ],
             [
              0.4444444444444444,
              "#bd3786"
             ],
             [
              0.5555555555555556,
              "#d8576b"
             ],
             [
              0.6666666666666666,
              "#ed7953"
             ],
             [
              0.7777777777777778,
              "#fb9f3a"
             ],
             [
              0.8888888888888888,
              "#fdca26"
             ],
             [
              1,
              "#f0f921"
             ]
            ],
            "type": "contour"
           }
          ],
          "contourcarpet": [
           {
            "colorbar": {
             "outlinewidth": 0,
             "ticks": ""
            },
            "type": "contourcarpet"
           }
          ],
          "heatmap": [
           {
            "colorbar": {
             "outlinewidth": 0,
             "ticks": ""
            },
            "colorscale": [
             [
              0,
              "#0d0887"
             ],
             [
              0.1111111111111111,
              "#46039f"
             ],
             [
              0.2222222222222222,
              "#7201a8"
             ],
             [
              0.3333333333333333,
              "#9c179e"
             ],
             [
              0.4444444444444444,
              "#bd3786"
             ],
             [
              0.5555555555555556,
              "#d8576b"
             ],
             [
              0.6666666666666666,
              "#ed7953"
             ],
             [
              0.7777777777777778,
              "#fb9f3a"
             ],
             [
              0.8888888888888888,
              "#fdca26"
             ],
             [
              1,
              "#f0f921"
             ]
            ],
            "type": "heatmap"
           }
          ],
          "histogram": [
           {
            "marker": {
             "pattern": {
              "fillmode": "overlay",
              "size": 10,
              "solidity": 0.2
             }
            },
            "type": "histogram"
           }
          ],
          "histogram2d": [
           {
            "colorbar": {
             "outlinewidth": 0,
             "ticks": ""
            },
            "colorscale": [
             [
              0,
              "#0d0887"
             ],
             [
              0.1111111111111111,
              "#46039f"
             ],
             [
              0.2222222222222222,
              "#7201a8"
             ],
             [
              0.3333333333333333,
              "#9c179e"
             ],
             [
              0.4444444444444444,
              "#bd3786"
             ],
             [
              0.5555555555555556,
              "#d8576b"
             ],
             [
              0.6666666666666666,
              "#ed7953"
             ],
             [
              0.7777777777777778,
              "#fb9f3a"
             ],
             [
              0.8888888888888888,
              "#fdca26"
             ],
             [
              1,
              "#f0f921"
             ]
            ],
            "type": "histogram2d"
           }
          ],
          "histogram2dcontour": [
           {
            "colorbar": {
             "outlinewidth": 0,
             "ticks": ""
            },
            "colorscale": [
             [
              0,
              "#0d0887"
             ],
             [
              0.1111111111111111,
              "#46039f"
             ],
             [
              0.2222222222222222,
              "#7201a8"
             ],
             [
              0.3333333333333333,
              "#9c179e"
             ],
             [
              0.4444444444444444,
              "#bd3786"
             ],
             [
              0.5555555555555556,
              "#d8576b"
             ],
             [
              0.6666666666666666,
              "#ed7953"
             ],
             [
              0.7777777777777778,
              "#fb9f3a"
             ],
             [
              0.8888888888888888,
              "#fdca26"
             ],
             [
              1,
              "#f0f921"
             ]
            ],
            "type": "histogram2dcontour"
           }
          ],
          "mesh3d": [
           {
            "colorbar": {
             "outlinewidth": 0,
             "ticks": ""
            },
            "type": "mesh3d"
           }
          ],
          "parcoords": [
           {
            "line": {
             "colorbar": {
              "outlinewidth": 0,
              "ticks": ""
             }
            },
            "type": "parcoords"
           }
          ],
          "pie": [
           {
            "automargin": true,
            "type": "pie"
           }
          ],
          "scatter": [
           {
            "fillpattern": {
             "fillmode": "overlay",
             "size": 10,
             "solidity": 0.2
            },
            "type": "scatter"
           }
          ],
          "scatter3d": [
           {
            "line": {
             "colorbar": {
              "outlinewidth": 0,
              "ticks": ""
             }
            },
            "marker": {
             "colorbar": {
              "outlinewidth": 0,
              "ticks": ""
             }
            },
            "type": "scatter3d"
           }
          ],
          "scattercarpet": [
           {
            "marker": {
             "colorbar": {
              "outlinewidth": 0,
              "ticks": ""
             }
            },
            "type": "scattercarpet"
           }
          ],
          "scattergeo": [
           {
            "marker": {
             "colorbar": {
              "outlinewidth": 0,
              "ticks": ""
             }
            },
            "type": "scattergeo"
           }
          ],
          "scattergl": [
           {
            "marker": {
             "colorbar": {
              "outlinewidth": 0,
              "ticks": ""
             }
            },
            "type": "scattergl"
           }
          ],
          "scattermap": [
           {
            "marker": {
             "colorbar": {
              "outlinewidth": 0,
              "ticks": ""
             }
            },
            "type": "scattermap"
           }
          ],
          "scattermapbox": [
           {
            "marker": {
             "colorbar": {
              "outlinewidth": 0,
              "ticks": ""
             }
            },
            "type": "scattermapbox"
           }
          ],
          "scatterpolar": [
           {
            "marker": {
             "colorbar": {
              "outlinewidth": 0,
              "ticks": ""
             }
            },
            "type": "scatterpolar"
           }
          ],
          "scatterpolargl": [
           {
            "marker": {
             "colorbar": {
              "outlinewidth": 0,
              "ticks": ""
             }
            },
            "type": "scatterpolargl"
           }
          ],
          "scatterternary": [
           {
            "marker": {
             "colorbar": {
              "outlinewidth": 0,
              "ticks": ""
             }
            },
            "type": "scatterternary"
           }
          ],
          "surface": [
           {
            "colorbar": {
             "outlinewidth": 0,
             "ticks": ""
            },
            "colorscale": [
             [
              0,
              "#0d0887"
             ],
             [
              0.1111111111111111,
              "#46039f"
             ],
             [
              0.2222222222222222,
              "#7201a8"
             ],
             [
              0.3333333333333333,
              "#9c179e"
             ],
             [
              0.4444444444444444,
              "#bd3786"
             ],
             [
              0.5555555555555556,
              "#d8576b"
             ],
             [
              0.6666666666666666,
              "#ed7953"
             ],
             [
              0.7777777777777778,
              "#fb9f3a"
             ],
             [
              0.8888888888888888,
              "#fdca26"
             ],
             [
              1,
              "#f0f921"
             ]
            ],
            "type": "surface"
           }
          ],
          "table": [
           {
            "cells": {
             "fill": {
              "color": "#EBF0F8"
             },
             "line": {
              "color": "white"
             }
            },
            "header": {
             "fill": {
              "color": "#C8D4E3"
             },
             "line": {
              "color": "white"
             }
            },
            "type": "table"
           }
          ]
         },
         "layout": {
          "annotationdefaults": {
           "arrowcolor": "#2a3f5f",
           "arrowhead": 0,
           "arrowwidth": 1
          },
          "autotypenumbers": "strict",
          "coloraxis": {
           "colorbar": {
            "outlinewidth": 0,
            "ticks": ""
           }
          },
          "colorscale": {
           "diverging": [
            [
             0,
             "#8e0152"
            ],
            [
             0.1,
             "#c51b7d"
            ],
            [
             0.2,
             "#de77ae"
            ],
            [
             0.3,
             "#f1b6da"
            ],
            [
             0.4,
             "#fde0ef"
            ],
            [
             0.5,
             "#f7f7f7"
            ],
            [
             0.6,
             "#e6f5d0"
            ],
            [
             0.7,
             "#b8e186"
            ],
            [
             0.8,
             "#7fbc41"
            ],
            [
             0.9,
             "#4d9221"
            ],
            [
             1,
             "#276419"
            ]
           ],
           "sequential": [
            [
             0,
             "#0d0887"
            ],
            [
             0.1111111111111111,
             "#46039f"
            ],
            [
             0.2222222222222222,
             "#7201a8"
            ],
            [
             0.3333333333333333,
             "#9c179e"
            ],
            [
             0.4444444444444444,
             "#bd3786"
            ],
            [
             0.5555555555555556,
             "#d8576b"
            ],
            [
             0.6666666666666666,
             "#ed7953"
            ],
            [
             0.7777777777777778,
             "#fb9f3a"
            ],
            [
             0.8888888888888888,
             "#fdca26"
            ],
            [
             1,
             "#f0f921"
            ]
           ],
           "sequentialminus": [
            [
             0,
             "#0d0887"
            ],
            [
             0.1111111111111111,
             "#46039f"
            ],
            [
             0.2222222222222222,
             "#7201a8"
            ],
            [
             0.3333333333333333,
             "#9c179e"
            ],
            [
             0.4444444444444444,
             "#bd3786"
            ],
            [
             0.5555555555555556,
             "#d8576b"
            ],
            [
             0.6666666666666666,
             "#ed7953"
            ],
            [
             0.7777777777777778,
             "#fb9f3a"
            ],
            [
             0.8888888888888888,
             "#fdca26"
            ],
            [
             1,
             "#f0f921"
            ]
           ]
          },
          "colorway": [
           "#636efa",
           "#EF553B",
           "#00cc96",
           "#ab63fa",
           "#FFA15A",
           "#19d3f3",
           "#FF6692",
           "#B6E880",
           "#FF97FF",
           "#FECB52"
          ],
          "font": {
           "color": "#2a3f5f"
          },
          "geo": {
           "bgcolor": "white",
           "lakecolor": "white",
           "landcolor": "white",
           "showlakes": true,
           "showland": true,
           "subunitcolor": "#C8D4E3"
          },
          "hoverlabel": {
           "align": "left"
          },
          "hovermode": "closest",
          "mapbox": {
           "style": "light"
          },
          "paper_bgcolor": "white",
          "plot_bgcolor": "white",
          "polar": {
           "angularaxis": {
            "gridcolor": "#EBF0F8",
            "linecolor": "#EBF0F8",
            "ticks": ""
           },
           "bgcolor": "white",
           "radialaxis": {
            "gridcolor": "#EBF0F8",
            "linecolor": "#EBF0F8",
            "ticks": ""
           }
          },
          "scene": {
           "xaxis": {
            "backgroundcolor": "white",
            "gridcolor": "#DFE8F3",
            "gridwidth": 2,
            "linecolor": "#EBF0F8",
            "showbackground": true,
            "ticks": "",
            "zerolinecolor": "#EBF0F8"
           },
           "yaxis": {
            "backgroundcolor": "white",
            "gridcolor": "#DFE8F3",
            "gridwidth": 2,
            "linecolor": "#EBF0F8",
            "showbackground": true,
            "ticks": "",
            "zerolinecolor": "#EBF0F8"
           },
           "zaxis": {
            "backgroundcolor": "white",
            "gridcolor": "#DFE8F3",
            "gridwidth": 2,
            "linecolor": "#EBF0F8",
            "showbackground": true,
            "ticks": "",
            "zerolinecolor": "#EBF0F8"
           }
          },
          "shapedefaults": {
           "line": {
            "color": "#2a3f5f"
           }
          },
          "ternary": {
           "aaxis": {
            "gridcolor": "#DFE8F3",
            "linecolor": "#A2B1C6",
            "ticks": ""
           },
           "baxis": {
            "gridcolor": "#DFE8F3",
            "linecolor": "#A2B1C6",
            "ticks": ""
           },
           "bgcolor": "white",
           "caxis": {
            "gridcolor": "#DFE8F3",
            "linecolor": "#A2B1C6",
            "ticks": ""
           }
          },
          "title": {
           "x": 0.05
          },
          "xaxis": {
           "automargin": true,
           "gridcolor": "#EBF0F8",
           "linecolor": "#EBF0F8",
           "ticks": "",
           "title": {
            "standoff": 15
           },
           "zerolinecolor": "#EBF0F8",
           "zerolinewidth": 2
          },
          "yaxis": {
           "automargin": true,
           "gridcolor": "#EBF0F8",
           "linecolor": "#EBF0F8",
           "ticks": "",
           "title": {
            "standoff": 15
           },
           "zerolinecolor": "#EBF0F8",
           "zerolinewidth": 2
          }
         }
        },
        "title": {
         "text": "ARIMA(2,1,2) Forecast with 95% Confidence Interval"
        },
        "xaxis": {
         "title": {
          "text": "Time"
         }
        },
        "yaxis": {
         "title": {
          "text": "Value"
         }
        }
       }
      }
     },
     "metadata": {},
     "output_type": "display_data"
    }
   ],
   "source": [
    "# Create visualization of ARIMA forecast\n",
    "fig = go.Figure()\n",
    "\n",
    "# Training data\n",
    "fig.add_trace(go.Scatter(\n",
    "    x=time_idx[:train_size],\n",
    "    y=train,\n",
    "    mode='lines',\n",
    "    name='Training Data',\n",
    "    line=dict(color='blue', width=2)\n",
    "))\n",
    "\n",
    "# Test data (actual)\n",
    "fig.add_trace(go.Scatter(\n",
    "    x=time_idx[train_size:],\n",
    "    y=test,\n",
    "    mode='lines',\n",
    "    name='Actual Test Data',\n",
    "    line=dict(color='green', width=2)\n",
    "))\n",
    "\n",
    "# Forecast\n",
    "fig.add_trace(go.Scatter(\n",
    "    x=time_idx[train_size:],\n",
    "    y=forecast,\n",
    "    mode='lines',\n",
    "    name='ARIMA Forecast',\n",
    "    line=dict(color='red', width=2, dash='dash')\n",
    "))\n",
    "\n",
    "# Confidence intervals\n",
    "# Convert to numpy array if it's a DataFrame, otherwise use as is\n",
    "ci_array = forecast_ci.values if hasattr(forecast_ci, 'values') else forecast_ci\n",
    "\n",
    "fig.add_trace(go.Scatter(\n",
    "    x=time_idx[train_size:],\n",
    "    y=ci_array[:, 0],  # Lower bound\n",
    "    mode='lines',\n",
    "    name='95% CI Lower',\n",
    "    line=dict(width=0),\n",
    "    showlegend=False\n",
    "))\n",
    "\n",
    "fig.add_trace(go.Scatter(\n",
    "    x=time_idx[train_size:],\n",
    "    y=ci_array[:, 1],  # Upper bound\n",
    "    mode='lines',\n",
    "    name='95% CI Upper',\n",
    "    line=dict(width=0),\n",
    "    fillcolor='rgba(255, 0, 0, 0.2)',\n",
    "    fill='tonexty',\n",
    "    showlegend=True\n",
    "))\n",
    "\n",
    "# Add vertical line to separate train/test\n",
    "fig.add_vline(x=train_size, line_dash=\"dash\", line_color=\"gray\", \n",
    "              annotation_text=\"Train/Test Split\", annotation_position=\"top\")\n",
    "\n",
    "fig.update_layout(\n",
    "    title='ARIMA(2,1,2) Forecast with 95% Confidence Interval',\n",
    "    xaxis_title='Time',\n",
    "    yaxis_title='Value',\n",
    "    hovermode='x unified',\n",
    "    template='plotly_white',\n",
    "    height=500,\n",
    "    legend=dict(x=0.02, y=0.98)\n",
    ")\n",
    "\n",
    "fig.show()\n"
   ]
  },
  {
   "cell_type": "markdown",
   "id": "d4b3fd30",
   "metadata": {},
   "source": [
    "### ARIMA Model Diagnostics\n",
    "\n",
    "Let's examine the residuals (errors) from our ARIMA model to ensure it's a good fit:\n"
   ]
  },
  {
   "cell_type": "code",
   "execution_count": 15,
   "id": "f5830019",
   "metadata": {},
   "outputs": [
    {
     "data": {
      "application/vnd.plotly.v1+json": {
       "config": {
        "plotlyServerURL": "https://plot.ly"
       },
       "data": [
        {
         "line": {
          "color": "purple",
          "width": 1
         },
         "mode": "lines",
         "type": "scatter",
         "x": {
          "bdata": "AAABAAIAAwAEAAUABgAHAAgACQAKAAsADAANAA4ADwAQABEAEgATABQAFQAWABcAGAAZABoAGwAcAB0AHgAfACAAIQAiACMAJAAlACYAJwAoACkAKgArACwALQAuAC8AMAAxADIAMwA0ADUANgA3ADgAOQA6ADsAPAA9AD4APwBAAEEAQgBDAEQARQBGAEcASABJAEoASwBMAE0ATgBPAFAAUQBSAFMAVABVAFYAVwBYAFkAWgBbAFwAXQBeAF8AYABhAGIAYwBkAGUAZgBnAGgAaQBqAGsAbABtAG4AbwBwAHEAcgBzAHQAdQB2AHcAeAB5AHoAewB8AH0AfgB/AIAAgQCCAIMAhACFAIYAhwCIAIkAigCLAIwAjQCOAI8AkACRAJIAkwCUAJUA",
          "dtype": "i2"
         },
         "xaxis": "x",
         "y": {
          "bdata": "K3enFY8vWECgkzK6UkIhQMDqLDYYHQRAoGwSDraoAcCAAEBe2ucNQDhjH+9UryFA4KnASsTIIMAAOEsgPlsNQHDe5h/fShdAQDxzc9cHD8AAneHpK/3xvwBW6pO2IsI/oANhHjW9DkAQZ2QxJJIVwMALVpyWhQTAAJZQO2cmBsBQxiWukUwVQIA18qeP2/g/IIld+S6QB8CAt61bHpgQwOBe/GvhTAXAALD9CRRS6r9At5nawvMhwICncv4S3u4/MNu0Ppf2H8AgZj5BbDkAwACpI3v5hQtAYAGWzTUrEcBA+1hdWiMLQIDENhgFY+Q/gJezoBr8DkAwtbpGDQURwODZGfbmcwFAAFqwBA/NEkCQCa66K8IgQABeWDbekQNAAL9qt9XZCECgGsr/vBwOQMB8m89ngwjAwHZbWFZU9D8A6StSIUAPwDA10PZn/BXAAA/h22H11j8gOPhMHDAHQAAJU4B7ywBA4M6bC67oAEAgViDPbsIkQIDUNfyyaPk/QPOVZ3fIE0AANcxnISEdQNDjcyVddhjAwDuLLdCnAsBAk9mouuoVQCCuv+352xbAAHf5Dtln4L+A6oyzBPv+PwAWt9XA3tc/QHPSSw1oCUCAU5ZC/3zyPwAoFTzWF9e/wE/KqzvgF8AAJtwieoXmPwDbJrU4cQPAgFWrBbrYGsAAmwAVvL0PQACCChf9Zt+/gFyJ2uj6/78AjtYOqub9vwD21SgXChHAgJ8lwdxP9z8A/UQOGs3wP8BUzprnEQnAAKQnW8l0EUDAtXRbNo4TwEBghBQMeRbA4F6rLTjDFUCA5SONSggCwADYiMUurMc/ADz3AXeiAcCAPkeFxSoMwGBrmpxy8BlAANbYGE2TAsBQgUvulQAcQAAMYZZe/vg/gOxJoJBM97/AkfraSE0HwAD2OdNFLO2/QH9P/LVfAsAYP6GjLeIhQABUKo2RtcS/gDZ/OgwKFECAJCwP/J8LwEBI/7m3sA1AIHHb1gM1FUAAtZ2yZPTgv+B0bVJIThRAgNYLn9bjCMAAkT9b0xz7vwAtiuf45RBAACwLi+iA0j+AgzOa14MRQECbVgwUqxLAQG1dsbslGkCQyBwMr3IiQAAopA5d1fq/AJ7ibvvz0j8AipNPtJHQv4AMABlGdB3AgIhXGRyp+T+g93DZbecbwAD+5Ozn+ua/gBQwHUDZDUAAFxI/PM8NwMDe+IrE0QNAQAYNUFslBkAAbrCs47TWvwDHczdyQBTAAJD0wgcx2L8Ayci0o+0UQECCQVONzSPAAJqegVUY3L9AUoFUlTwIwABCG3ePP9q/gBiHu07J8D9AFEm/JnUIQIDgN8ZydQ7AgBHHqOiI9T8A/UUCmf3tvwD5PSR4Veq/QOLZkoanD8AATF6GL1QOwMBtm6kMhgbAAKas8V/w3r/AWW5HBJUNQEBHjIZUbBNAQMFVZhJrDEAAqOrwA8z3PzDvvcbF4CJAAERB7pwBFUAAxBWODgb2vwDziSTh3/2/AKgQLd4q7D+AcEZu4DQHQAAbLanVJfi/AKik4hNqtT+A+8fxtFoCwACVkHmCu/E/gIw1l/RmEUCAz0xqNyr8vwAK31vp8/0/",
          "dtype": "f8"
         },
         "yaxis": "y"
        },
        {
         "marker": {
          "color": "lightblue"
         },
         "name": "Residuals",
         "nbinsx": 30,
         "type": "histogram",
         "x": {
          "bdata": "K3enFY8vWECgkzK6UkIhQMDqLDYYHQRAoGwSDraoAcCAAEBe2ucNQDhjH+9UryFA4KnASsTIIMAAOEsgPlsNQHDe5h/fShdAQDxzc9cHD8AAneHpK/3xvwBW6pO2IsI/oANhHjW9DkAQZ2QxJJIVwMALVpyWhQTAAJZQO2cmBsBQxiWukUwVQIA18qeP2/g/IIld+S6QB8CAt61bHpgQwOBe/GvhTAXAALD9CRRS6r9At5nawvMhwICncv4S3u4/MNu0Ppf2H8AgZj5BbDkAwACpI3v5hQtAYAGWzTUrEcBA+1hdWiMLQIDENhgFY+Q/gJezoBr8DkAwtbpGDQURwODZGfbmcwFAAFqwBA/NEkCQCa66K8IgQABeWDbekQNAAL9qt9XZCECgGsr/vBwOQMB8m89ngwjAwHZbWFZU9D8A6StSIUAPwDA10PZn/BXAAA/h22H11j8gOPhMHDAHQAAJU4B7ywBA4M6bC67oAEAgViDPbsIkQIDUNfyyaPk/QPOVZ3fIE0AANcxnISEdQNDjcyVddhjAwDuLLdCnAsBAk9mouuoVQCCuv+352xbAAHf5Dtln4L+A6oyzBPv+PwAWt9XA3tc/QHPSSw1oCUCAU5ZC/3zyPwAoFTzWF9e/wE/KqzvgF8AAJtwieoXmPwDbJrU4cQPAgFWrBbrYGsAAmwAVvL0PQACCChf9Zt+/gFyJ2uj6/78AjtYOqub9vwD21SgXChHAgJ8lwdxP9z8A/UQOGs3wP8BUzprnEQnAAKQnW8l0EUDAtXRbNo4TwEBghBQMeRbA4F6rLTjDFUCA5SONSggCwADYiMUurMc/ADz3AXeiAcCAPkeFxSoMwGBrmpxy8BlAANbYGE2TAsBQgUvulQAcQAAMYZZe/vg/gOxJoJBM97/AkfraSE0HwAD2OdNFLO2/QH9P/LVfAsAYP6GjLeIhQABUKo2RtcS/gDZ/OgwKFECAJCwP/J8LwEBI/7m3sA1AIHHb1gM1FUAAtZ2yZPTgv+B0bVJIThRAgNYLn9bjCMAAkT9b0xz7vwAtiuf45RBAACwLi+iA0j+AgzOa14MRQECbVgwUqxLAQG1dsbslGkCQyBwMr3IiQAAopA5d1fq/AJ7ibvvz0j8AipNPtJHQv4AMABlGdB3AgIhXGRyp+T+g93DZbecbwAD+5Ozn+ua/gBQwHUDZDUAAFxI/PM8NwMDe+IrE0QNAQAYNUFslBkAAbrCs47TWvwDHczdyQBTAAJD0wgcx2L8Ayci0o+0UQECCQVONzSPAAJqegVUY3L9AUoFUlTwIwABCG3ePP9q/gBiHu07J8D9AFEm/JnUIQIDgN8ZydQ7AgBHHqOiI9T8A/UUCmf3tvwD5PSR4Veq/QOLZkoanD8AATF6GL1QOwMBtm6kMhgbAAKas8V/w3r/AWW5HBJUNQEBHjIZUbBNAQMFVZhJrDEAAqOrwA8z3PzDvvcbF4CJAAERB7pwBFUAAxBWODgb2vwDziSTh3/2/AKgQLd4q7D+AcEZu4DQHQAAbLanVJfi/AKik4hNqtT+A+8fxtFoCwACVkHmCu/E/gIw1l/RmEUCAz0xqNyr8vwAK31vp8/0/",
          "dtype": "f8"
         },
         "xaxis": "x2",
         "yaxis": "y2"
        },
        {
         "line": {
          "color": "blue",
          "width": 2
         },
         "mode": "lines",
         "showlegend": false,
         "type": "scatter",
         "x": [
          0,
          0
         ],
         "xaxis": "x3",
         "y": [
          0,
          1
         ],
         "yaxis": "y3"
        },
        {
         "line": {
          "color": "blue",
          "width": 2
         },
         "mode": "lines",
         "showlegend": false,
         "type": "scatter",
         "x": [
          1,
          1
         ],
         "xaxis": "x3",
         "y": [
          0,
          0.05797739382584161
         ],
         "yaxis": "y3"
        },
        {
         "line": {
          "color": "blue",
          "width": 2
         },
         "mode": "lines",
         "showlegend": false,
         "type": "scatter",
         "x": [
          2,
          2
         ],
         "xaxis": "x3",
         "y": [
          0,
          0.026947594729173796
         ],
         "yaxis": "y3"
        },
        {
         "line": {
          "color": "blue",
          "width": 2
         },
         "mode": "lines",
         "showlegend": false,
         "type": "scatter",
         "x": [
          3,
          3
         ],
         "xaxis": "x3",
         "y": [
          0,
          0.024616431613457043
         ],
         "yaxis": "y3"
        },
        {
         "line": {
          "color": "blue",
          "width": 2
         },
         "mode": "lines",
         "showlegend": false,
         "type": "scatter",
         "x": [
          4,
          4
         ],
         "xaxis": "x3",
         "y": [
          0,
          0.014485727276827764
         ],
         "yaxis": "y3"
        },
        {
         "line": {
          "color": "blue",
          "width": 2
         },
         "mode": "lines",
         "showlegend": false,
         "type": "scatter",
         "x": [
          5,
          5
         ],
         "xaxis": "x3",
         "y": [
          0,
          0.0727805952769559
         ],
         "yaxis": "y3"
        },
        {
         "line": {
          "color": "blue",
          "width": 2
         },
         "mode": "lines",
         "showlegend": false,
         "type": "scatter",
         "x": [
          6,
          6
         ],
         "xaxis": "x3",
         "y": [
          0,
          -0.08818050025345234
         ],
         "yaxis": "y3"
        },
        {
         "line": {
          "color": "blue",
          "width": 2
         },
         "mode": "lines",
         "showlegend": false,
         "type": "scatter",
         "x": [
          7,
          7
         ],
         "xaxis": "x3",
         "y": [
          0,
          0.017542792643448945
         ],
         "yaxis": "y3"
        },
        {
         "line": {
          "color": "blue",
          "width": 2
         },
         "mode": "lines",
         "showlegend": false,
         "type": "scatter",
         "x": [
          8,
          8
         ],
         "xaxis": "x3",
         "y": [
          0,
          0.03688179607679205
         ],
         "yaxis": "y3"
        },
        {
         "line": {
          "color": "blue",
          "width": 2
         },
         "mode": "lines",
         "showlegend": false,
         "type": "scatter",
         "x": [
          9,
          9
         ],
         "xaxis": "x3",
         "y": [
          0,
          -0.03406583209061125
         ],
         "yaxis": "y3"
        },
        {
         "line": {
          "color": "blue",
          "width": 2
         },
         "mode": "lines",
         "showlegend": false,
         "type": "scatter",
         "x": [
          10,
          10
         ],
         "xaxis": "x3",
         "y": [
          0,
          0.01794257228266812
         ],
         "yaxis": "y3"
        },
        {
         "line": {
          "color": "blue",
          "width": 2
         },
         "mode": "lines",
         "showlegend": false,
         "type": "scatter",
         "x": [
          11,
          11
         ],
         "xaxis": "x3",
         "y": [
          0,
          0.003696911004274678
         ],
         "yaxis": "y3"
        },
        {
         "line": {
          "color": "blue",
          "width": 2
         },
         "mode": "lines",
         "showlegend": false,
         "type": "scatter",
         "x": [
          12,
          12
         ],
         "xaxis": "x3",
         "y": [
          0,
          0.03570718758616763
         ],
         "yaxis": "y3"
        },
        {
         "line": {
          "color": "blue",
          "width": 2
         },
         "mode": "lines",
         "showlegend": false,
         "type": "scatter",
         "x": [
          13,
          13
         ],
         "xaxis": "x3",
         "y": [
          0,
          -0.023737866024038472
         ],
         "yaxis": "y3"
        },
        {
         "line": {
          "color": "blue",
          "width": 2
         },
         "mode": "lines",
         "showlegend": false,
         "type": "scatter",
         "x": [
          14,
          14
         ],
         "xaxis": "x3",
         "y": [
          0,
          -0.05562547613521372
         ],
         "yaxis": "y3"
        },
        {
         "line": {
          "color": "blue",
          "width": 2
         },
         "mode": "lines",
         "showlegend": false,
         "type": "scatter",
         "x": [
          15,
          15
         ],
         "xaxis": "x3",
         "y": [
          0,
          -0.024889088969676322
         ],
         "yaxis": "y3"
        },
        {
         "line": {
          "color": "blue",
          "width": 2
         },
         "mode": "lines",
         "showlegend": false,
         "type": "scatter",
         "x": [
          16,
          16
         ],
         "xaxis": "x3",
         "y": [
          0,
          0.03628094885113876
         ],
         "yaxis": "y3"
        },
        {
         "line": {
          "color": "blue",
          "width": 2
         },
         "mode": "lines",
         "showlegend": false,
         "type": "scatter",
         "x": [
          17,
          17
         ],
         "xaxis": "x3",
         "y": [
          0,
          -0.04684474126706531
         ],
         "yaxis": "y3"
        },
        {
         "line": {
          "color": "blue",
          "width": 2
         },
         "mode": "lines",
         "showlegend": false,
         "type": "scatter",
         "x": [
          18,
          18
         ],
         "xaxis": "x3",
         "y": [
          0,
          0.00028785837001123795
         ],
         "yaxis": "y3"
        },
        {
         "line": {
          "color": "blue",
          "width": 2
         },
         "mode": "lines",
         "showlegend": false,
         "type": "scatter",
         "x": [
          19,
          19
         ],
         "xaxis": "x3",
         "y": [
          0,
          -0.07776865497317871
         ],
         "yaxis": "y3"
        },
        {
         "line": {
          "color": "blue",
          "width": 2
         },
         "mode": "lines",
         "showlegend": false,
         "type": "scatter",
         "x": [
          20,
          20
         ],
         "xaxis": "x3",
         "y": [
          0,
          -0.016241816943109298
         ],
         "yaxis": "y3"
        },
        {
         "line": {
          "color": "blue",
          "width": 2
         },
         "mode": "lines",
         "showlegend": false,
         "type": "scatter",
         "x": [
          21,
          21
         ],
         "xaxis": "x3",
         "y": [
          0,
          -0.02351226330385267
         ],
         "yaxis": "y3"
        },
        {
         "line": {
          "color": "blue",
          "width": 2
         },
         "mode": "lines",
         "showlegend": false,
         "type": "scatter",
         "x": [
          22,
          22
         ],
         "xaxis": "x3",
         "y": [
          0,
          -0.10046746848407079
         ],
         "yaxis": "y3"
        },
        {
         "line": {
          "color": "blue",
          "width": 2
         },
         "mode": "lines",
         "showlegend": false,
         "type": "scatter",
         "x": [
          23,
          23
         ],
         "xaxis": "x3",
         "y": [
          0,
          0.026034328953966724
         ],
         "yaxis": "y3"
        },
        {
         "line": {
          "color": "blue",
          "width": 2
         },
         "mode": "lines",
         "showlegend": false,
         "type": "scatter",
         "x": [
          24,
          24
         ],
         "xaxis": "x3",
         "y": [
          0,
          -0.0968566088864633
         ],
         "yaxis": "y3"
        },
        {
         "line": {
          "color": "blue",
          "width": 2
         },
         "mode": "lines",
         "showlegend": false,
         "type": "scatter",
         "x": [
          25,
          25
         ],
         "xaxis": "x3",
         "y": [
          0,
          -0.03726234553226012
         ],
         "yaxis": "y3"
        },
        {
         "line": {
          "color": "blue",
          "width": 2
         },
         "mode": "lines",
         "showlegend": false,
         "type": "scatter",
         "x": [
          26,
          26
         ],
         "xaxis": "x3",
         "y": [
          0,
          0.010377039310934397
         ],
         "yaxis": "y3"
        },
        {
         "line": {
          "color": "blue",
          "width": 2
         },
         "mode": "lines",
         "showlegend": false,
         "type": "scatter",
         "x": [
          27,
          27
         ],
         "xaxis": "x3",
         "y": [
          0,
          -0.08177635831863968
         ],
         "yaxis": "y3"
        },
        {
         "line": {
          "color": "blue",
          "width": 2
         },
         "mode": "lines",
         "showlegend": false,
         "type": "scatter",
         "x": [
          28,
          28
         ],
         "xaxis": "x3",
         "y": [
          0,
          0.014480395138233293
         ],
         "yaxis": "y3"
        },
        {
         "line": {
          "color": "blue",
          "width": 2
         },
         "mode": "lines",
         "showlegend": false,
         "type": "scatter",
         "x": [
          29,
          29
         ],
         "xaxis": "x3",
         "y": [
          0,
          -0.008112247535935741
         ],
         "yaxis": "y3"
        },
        {
         "line": {
          "color": "blue",
          "width": 2
         },
         "mode": "lines",
         "showlegend": false,
         "type": "scatter",
         "x": [
          30,
          30
         ],
         "xaxis": "x3",
         "y": [
          0,
          0.0006246246585497098
         ],
         "yaxis": "y3"
        },
        {
         "marker": {
          "color": "blue",
          "size": 6
         },
         "mode": "markers",
         "showlegend": false,
         "type": "scatter",
         "x": {
          "bdata": "AAECAwQFBgcICQoLDA0ODxAREhMUFRYXGBkaGxwdHg==",
          "dtype": "i1"
         },
         "xaxis": "x3",
         "y": {
          "bdata": "AAAAAAAA8D+ZUseENq+tP5BJRXgmmJs/HGXlwgw1mT8TUE1nsaqNP9h4f8S/obI/fsa7TP+Str+jirzivPaRP2pk77cr4qI/1/t6pRNxob8VBaSkiV+SP6eygfv7SG4/HlfUZTZIoj+bEwA5vU6Yv958pkHxeqy/WqSbfIZ8mb+RJZGhapOiP9SXdq8I/Ke/b+H6SHbdMj+FgsOFpeizv7ahZOKxoZC/+KrHR5kTmL9kdHNrPLi5v13tuD2+qJo/YJ6RP5jLuL+r2t3WDBSjv5IWwqOOQIU/XYWQoEvvtL+AOmq85aeNP7dE6W4nnYC/LBeJPbt3RD8=",
          "dtype": "f8"
         },
         "yaxis": "y3"
        },
        {
         "marker": {
          "color": "orange",
          "size": 5
         },
         "mode": "markers",
         "name": "Q-Q Plot",
         "type": "scatter",
         "x": {
          "bdata": "Dv8wRlycAsBbWA8EqwoBwPB3mW+P4f+/hhdwlfMn/r8gEjOLQLn8v2AJLyx8ffu/M8ChVrxm+r+h3fS1LWz5v7ZkmVPZh/i/oG6DsIS197/KhQ85E/L2v3fB4+koO/a/dnjjV/CO9b+kevMZ9ev0v75HlYUKUfS/t//rLTq9878E/Dtxty/zvxwySmvWp/K/DJUcPgUl8r8+4DcAx6bxv5AwvdmvLPG/cewS/2G28L93dTZQi0Pwvw7kaujGp++/BiX+plTO7r/ZKg63Tfrtv8Qfa/dLK+2/nEojn/Ng7L+pgOnZ8Zrrv4/oYp772Oq/x05Zs8wa6r8+7S7bJmDpv5Glvh7RqOi//GU2Mpf05795F4zvSEPnv8HVA+O5lOa/X9Dm5sDo5b/qxg/MNz/lvzKZXA37l+S/B+RpjOny479nq0JW5E/jvy4h5m7OruK/KVuzoowP4r92WPBcBXLhvwOtwIIg1uC/JtD5Ucc74L9MxLCGyEXfvzshV9/FFt6/Fmw171/q3L/Qz2vbccDbv4aUGYXYmNq/GwogZXJz2b8ixxJrH1DYv6Nk+t7ALte/KhSaRTkP1r8mCvJGbPHUv+z7wJY+1dO/gxLO3pW60r+f3MqqWKHRv/wfolVuidC/bRYa8H3lzr84m5iwZrrMv1syzLVpkcq/hzqa6FpqyL9TW642D0XGvysu2XhcIcS/CEW2Whn/wb9KFOaGOry/v6bpJX+AfLu/FEwg17U+t781a3O+jAKzvx5ky2Zwj62/Vn/et9cbpb+DVGp+b1OZv/aSVBDm4YC/9pJUEObhgD9bVGp+b1OZP1Z/3rfXG6U/HmTLZnCPrT8ra3O+jAKzPxRMINe1Prc/puklf4B8uz9AFOaGOry/PwhFtloZ/8E/Ky7ZeFwhxD9OW642D0XGP4c6muhaasg/WzLMtWmRyj8zm5iwZrrMP20WGvB95c4//B+iVW6J0D+c3MqqWKHRP4MSzt6VutI/7PvAlj7V0z8kCvJGbPHUPyoUmkU5D9Y/o2T63sAu1z8fxxJrH1DYPxsKIGVyc9k/hpQZhdiY2j/Nz2vbccDbPxZsNe9f6tw/OyFX38UW3j9IxLCGyEXfPybQ+VHHO+A/A63AgiDW4D90WPBcBXLhPylbs6KMD+I/LiHmbs6u4j9mq0JW5E/jPwfkaYzp8uM/MplcDfuX5D/oxg/MNz/lP1/Q5ubA6OU/wdUD47mU5j94F4zvSEPnP/xlNjKX9Oc/kaW+HtGo6D887S7bJmDpP8dOWbPMGuo/j+hinvvY6j+mgOnZ8ZrrP5xKI5/zYOw/xB9r90sr7T/WKg63TfrtPwYl/qZUzu4/DuRq6Man7z92dTZQi0PwP3HsEv9htvA/kDC92a8s8T8+4DcAx6bxPwyVHD4FJfI/HDJKa9an8j8B/Dtxty/zP7b/6y06vfM/vkeVhQpR9D+hevMZ9ev0P3Z441fwjvU/d8Hj6Sg79j/GhQ85E/L2P6Bug7CEtfc/uWSZU9mH+D+h3fS1LWz5PzPAoVa8Zvo/YgkvLHx9+z8eEjOLQLn8P4MXcJXzJ/4/83eZb4/h/z9ZWA8EqwoBQA7/MEZcnAJA",
          "dtype": "f8"
         },
         "xaxis": "x4",
         "y": {
          "bdata": "QIJBU43NI8BAt5nawvMhwOCpwErEyCDAMNu0Ppf2H8CADAAZRnQdwKD3cNlt5xvAgFWrBbrYGsDQ43MlXXYYwMBPyqs74BfAIK6/7fnbFsBAYIQUDHkWwDA10PZn/BXAEGdkMSSSFcAAx3M3ckAUwMC1dFs2jhPAQJtWDBSrEsBgAZbNNSsRwAD21SgXChHAMLW6Rg0FEcCAt61bHpgQwEDi2ZKGpw/AAOkrUiFAD8BAPHNz1wcPwIDgN8ZydQ7AAExehi9UDsAAFxI/PM8NwIA+R4XFKgzAgCQsD/yfC8DAVM6a5xEJwIDWC5/W4wjAwHybz2eDCMBAUoFUlTwIwCCJXfkukAfAwJH62khNB8DAbZupDIYGwACWUDtnJgbA4F78a+FMBcDAC1acloUEwADbJrU4cQPAwDuLLdCnAsAA1tgYTZMCwEB/T/y1XwLAgPvH8bRaAsCA5SONSggCwKBsEg62qAHAADz3AXeiAcAgZj5BbDkAwIBcidro+v+/AI7WDqrm/b8A84kk4d/9v4DPTGo3Kvy/AJE/W9Mc+78AKKQOXdX6vwAbLanVJfi/gOxJoJBM978AxBWODgb2vwCd4ekr/fG/AP1FApn97b8A9jnTRSztvwD5PSR4Veq/ALD9CRRS6r8A/uTs5/rmvwC1nbJk9OC/AHf5Dtln4L8AggoX/WbfvwCmrPFf8N6/AJqegVUY3L8AQht3jz/avwCQ9MIHMdi/ACgVPNYX178AbrCs47TWvwCKk0+0kdC/AFQqjZG1xL8AqKTiE2q1PwBW6pO2IsI/ANiIxS6sxz8ALAuL6IDSPwCe4m7789I/AA/h22H11j8AFrfVwN7XP4DENhgFY+Q/ACbcInqF5j8AqBAt3irsP4Cncv4S3u4/gBiHu07J8D8A/UQOGs3wPwCVkHmCu/E/gFOWQv988j/AdltYVlT0P4ARx6joiPU/gJ8lwdxP9z8AqOrwA8z3P4A18qeP2/g/AAxhll7++D+A1DX8smj5P4CIVxkcqfk/AArfW+nz/T+A6oyzBPv+PwAJU4B7ywBA4M6bC67oAEDg2Rn25nMBQABeWDbekQNAwN74isTRA0DA6iw2GB0EQEAGDVBbJQZAIDj4TBwwB0CAcEZu4DQHQEAUSb8mdQhAAL9qt9XZCEBAc9JLDWgJQED7WF1aIwtAAKkje/mFC0BAwVVmEmsMQAA4SyA+Ww1AwFluRwSVDUBASP+5t7ANQIAUMB1A2Q1AgABAXtrnDUCgGsr/vBwOQKADYR41vQ5AgJezoBr8DkAAmwAVvL0PQAAtiuf45RBAgIw1l/RmEUAApCdbyXQRQICDM5rXgxFAAFqwBA/NEkBAR4yGVGwTQEDzlWd3yBNAgDZ/OgwKFEDgdG1SSE4UQADJyLSj7RRAAERB7pwBFUAgcdvWAzUVQFDGJa6RTBVA4F6rLTjDFUBAk9mouuoVQHDe5h/fShdAYGuanHLwGUBAbV2xuyUaQFCBS+6VABxAADXMZyEhHUCQCa66K8IgQKCTMrpSQiFAOGMf71SvIUAYP6GjLeIhQJDIHAyvciJAMO+9xsXgIkAgViDPbsIkQCt3pxWPL1hA",
          "dtype": "f8"
         },
         "yaxis": "y4"
        },
        {
         "line": {
          "color": "red",
          "dash": "dash"
         },
         "mode": "lines",
         "name": "Reference",
         "showlegend": false,
         "type": "scatter",
         "x": {
          "bdata": "Dv8wRlycAsBbWA8EqwoBwPB3mW+P4f+/hhdwlfMn/r8gEjOLQLn8v2AJLyx8ffu/M8ChVrxm+r+h3fS1LWz5v7ZkmVPZh/i/oG6DsIS197/KhQ85E/L2v3fB4+koO/a/dnjjV/CO9b+kevMZ9ev0v75HlYUKUfS/t//rLTq9878E/Dtxty/zvxwySmvWp/K/DJUcPgUl8r8+4DcAx6bxv5AwvdmvLPG/cewS/2G28L93dTZQi0Pwvw7kaujGp++/BiX+plTO7r/ZKg63Tfrtv8Qfa/dLK+2/nEojn/Ng7L+pgOnZ8Zrrv4/oYp772Oq/x05Zs8wa6r8+7S7bJmDpv5Glvh7RqOi//GU2Mpf05795F4zvSEPnv8HVA+O5lOa/X9Dm5sDo5b/qxg/MNz/lvzKZXA37l+S/B+RpjOny479nq0JW5E/jvy4h5m7OruK/KVuzoowP4r92WPBcBXLhvwOtwIIg1uC/JtD5Ucc74L9MxLCGyEXfvzshV9/FFt6/Fmw171/q3L/Qz2vbccDbv4aUGYXYmNq/GwogZXJz2b8ixxJrH1DYv6Nk+t7ALte/KhSaRTkP1r8mCvJGbPHUv+z7wJY+1dO/gxLO3pW60r+f3MqqWKHRv/wfolVuidC/bRYa8H3lzr84m5iwZrrMv1syzLVpkcq/hzqa6FpqyL9TW642D0XGvysu2XhcIcS/CEW2Whn/wb9KFOaGOry/v6bpJX+AfLu/FEwg17U+t781a3O+jAKzvx5ky2Zwj62/Vn/et9cbpb+DVGp+b1OZv/aSVBDm4YC/9pJUEObhgD9bVGp+b1OZP1Z/3rfXG6U/HmTLZnCPrT8ra3O+jAKzPxRMINe1Prc/puklf4B8uz9AFOaGOry/PwhFtloZ/8E/Ky7ZeFwhxD9OW642D0XGP4c6muhaasg/WzLMtWmRyj8zm5iwZrrMP20WGvB95c4//B+iVW6J0D+c3MqqWKHRP4MSzt6VutI/7PvAlj7V0z8kCvJGbPHUPyoUmkU5D9Y/o2T63sAu1z8fxxJrH1DYPxsKIGVyc9k/hpQZhdiY2j/Nz2vbccDbPxZsNe9f6tw/OyFX38UW3j9IxLCGyEXfPybQ+VHHO+A/A63AgiDW4D90WPBcBXLhPylbs6KMD+I/LiHmbs6u4j9mq0JW5E/jPwfkaYzp8uM/MplcDfuX5D/oxg/MNz/lP1/Q5ubA6OU/wdUD47mU5j94F4zvSEPnP/xlNjKX9Oc/kaW+HtGo6D887S7bJmDpP8dOWbPMGuo/j+hinvvY6j+mgOnZ8ZrrP5xKI5/zYOw/xB9r90sr7T/WKg63TfrtPwYl/qZUzu4/DuRq6Man7z92dTZQi0PwP3HsEv9htvA/kDC92a8s8T8+4DcAx6bxPwyVHD4FJfI/HDJKa9an8j8B/Dtxty/zP7b/6y06vfM/vkeVhQpR9D+hevMZ9ev0P3Z441fwjvU/d8Hj6Sg79j/GhQ85E/L2P6Bug7CEtfc/uWSZU9mH+D+h3fS1LWz5PzPAoVa8Zvo/YgkvLHx9+z8eEjOLQLn8P4MXcJXzJ/4/83eZb4/h/z9ZWA8EqwoBQA7/MEZcnAJA",
          "dtype": "f8"
         },
         "xaxis": "x4",
         "y": {
          "bdata": "Dv8wRlycAsBbWA8EqwoBwPB3mW+P4f+/hhdwlfMn/r8gEjOLQLn8v2AJLyx8ffu/M8ChVrxm+r+h3fS1LWz5v7ZkmVPZh/i/oG6DsIS197/KhQ85E/L2v3fB4+koO/a/dnjjV/CO9b+kevMZ9ev0v75HlYUKUfS/t//rLTq9878E/Dtxty/zvxwySmvWp/K/DJUcPgUl8r8+4DcAx6bxv5AwvdmvLPG/cewS/2G28L93dTZQi0Pwvw7kaujGp++/BiX+plTO7r/ZKg63Tfrtv8Qfa/dLK+2/nEojn/Ng7L+pgOnZ8Zrrv4/oYp772Oq/x05Zs8wa6r8+7S7bJmDpv5Glvh7RqOi//GU2Mpf05795F4zvSEPnv8HVA+O5lOa/X9Dm5sDo5b/qxg/MNz/lvzKZXA37l+S/B+RpjOny479nq0JW5E/jvy4h5m7OruK/KVuzoowP4r92WPBcBXLhvwOtwIIg1uC/JtD5Ucc74L9MxLCGyEXfvzshV9/FFt6/Fmw171/q3L/Qz2vbccDbv4aUGYXYmNq/GwogZXJz2b8ixxJrH1DYv6Nk+t7ALte/KhSaRTkP1r8mCvJGbPHUv+z7wJY+1dO/gxLO3pW60r+f3MqqWKHRv/wfolVuidC/bRYa8H3lzr84m5iwZrrMv1syzLVpkcq/hzqa6FpqyL9TW642D0XGvysu2XhcIcS/CEW2Whn/wb9KFOaGOry/v6bpJX+AfLu/FEwg17U+t781a3O+jAKzvx5ky2Zwj62/Vn/et9cbpb+DVGp+b1OZv/aSVBDm4YC/9pJUEObhgD9bVGp+b1OZP1Z/3rfXG6U/HmTLZnCPrT8ra3O+jAKzPxRMINe1Prc/puklf4B8uz9AFOaGOry/PwhFtloZ/8E/Ky7ZeFwhxD9OW642D0XGP4c6muhaasg/WzLMtWmRyj8zm5iwZrrMP20WGvB95c4//B+iVW6J0D+c3MqqWKHRP4MSzt6VutI/7PvAlj7V0z8kCvJGbPHUPyoUmkU5D9Y/o2T63sAu1z8fxxJrH1DYPxsKIGVyc9k/hpQZhdiY2j/Nz2vbccDbPxZsNe9f6tw/OyFX38UW3j9IxLCGyEXfPybQ+VHHO+A/A63AgiDW4D90WPBcBXLhPylbs6KMD+I/LiHmbs6u4j9mq0JW5E/jPwfkaYzp8uM/MplcDfuX5D/oxg/MNz/lP1/Q5ubA6OU/wdUD47mU5j94F4zvSEPnP/xlNjKX9Oc/kaW+HtGo6D887S7bJmDpP8dOWbPMGuo/j+hinvvY6j+mgOnZ8ZrrP5xKI5/zYOw/xB9r90sr7T/WKg63TfrtPwYl/qZUzu4/DuRq6Man7z92dTZQi0PwP3HsEv9htvA/kDC92a8s8T8+4DcAx6bxPwyVHD4FJfI/HDJKa9an8j8B/Dtxty/zP7b/6y06vfM/vkeVhQpR9D+hevMZ9ev0P3Z441fwjvU/d8Hj6Sg79j/GhQ85E/L2P6Bug7CEtfc/uWSZU9mH+D+h3fS1LWz5PzPAoVa8Zvo/YgkvLHx9+z8eEjOLQLn8P4MXcJXzJ/4/83eZb4/h/z9ZWA8EqwoBQA7/MEZcnAJA",
          "dtype": "f8"
         },
         "yaxis": "y4"
        }
       ],
       "layout": {
        "annotations": [
         {
          "font": {
           "size": 16
          },
          "showarrow": false,
          "text": "Residuals Over Time",
          "x": 0.225,
          "xanchor": "center",
          "xref": "paper",
          "y": 1,
          "yanchor": "bottom",
          "yref": "paper"
         },
         {
          "font": {
           "size": 16
          },
          "showarrow": false,
          "text": "Residuals Histogram",
          "x": 0.775,
          "xanchor": "center",
          "xref": "paper",
          "y": 1,
          "yanchor": "bottom",
          "yref": "paper"
         },
         {
          "font": {
           "size": 16
          },
          "showarrow": false,
          "text": "Residuals ACF",
          "x": 0.225,
          "xanchor": "center",
          "xref": "paper",
          "y": 0.375,
          "yanchor": "bottom",
          "yref": "paper"
         },
         {
          "font": {
           "size": 16
          },
          "showarrow": false,
          "text": "Q-Q Plot",
          "x": 0.775,
          "xanchor": "center",
          "xref": "paper",
          "y": 0.375,
          "yanchor": "bottom",
          "yref": "paper"
         }
        ],
        "height": 700,
        "shapes": [
         {
          "line": {
           "color": "red",
           "dash": "dash"
          },
          "type": "line",
          "x0": 0,
          "x1": 1,
          "xref": "x domain",
          "y0": 0,
          "y1": 0,
          "yref": "y"
         },
         {
          "line": {
           "color": "gray",
           "dash": "dash"
          },
          "type": "line",
          "x0": 0,
          "x1": 1,
          "xref": "x3 domain",
          "y0": 0.1600333298618343,
          "y1": 0.1600333298618343,
          "yref": "y3"
         },
         {
          "line": {
           "color": "gray",
           "dash": "dash"
          },
          "type": "line",
          "x0": 0,
          "x1": 1,
          "xref": "x3 domain",
          "y0": -0.1600333298618343,
          "y1": -0.1600333298618343,
          "yref": "y3"
         },
         {
          "line": {
           "color": "black"
          },
          "type": "line",
          "x0": 0,
          "x1": 1,
          "xref": "x3 domain",
          "y0": 0,
          "y1": 0,
          "yref": "y3"
         }
        ],
        "showlegend": false,
        "template": {
         "data": {
          "bar": [
           {
            "error_x": {
             "color": "#2a3f5f"
            },
            "error_y": {
             "color": "#2a3f5f"
            },
            "marker": {
             "line": {
              "color": "white",
              "width": 0.5
             },
             "pattern": {
              "fillmode": "overlay",
              "size": 10,
              "solidity": 0.2
             }
            },
            "type": "bar"
           }
          ],
          "barpolar": [
           {
            "marker": {
             "line": {
              "color": "white",
              "width": 0.5
             },
             "pattern": {
              "fillmode": "overlay",
              "size": 10,
              "solidity": 0.2
             }
            },
            "type": "barpolar"
           }
          ],
          "carpet": [
           {
            "aaxis": {
             "endlinecolor": "#2a3f5f",
             "gridcolor": "#C8D4E3",
             "linecolor": "#C8D4E3",
             "minorgridcolor": "#C8D4E3",
             "startlinecolor": "#2a3f5f"
            },
            "baxis": {
             "endlinecolor": "#2a3f5f",
             "gridcolor": "#C8D4E3",
             "linecolor": "#C8D4E3",
             "minorgridcolor": "#C8D4E3",
             "startlinecolor": "#2a3f5f"
            },
            "type": "carpet"
           }
          ],
          "choropleth": [
           {
            "colorbar": {
             "outlinewidth": 0,
             "ticks": ""
            },
            "type": "choropleth"
           }
          ],
          "contour": [
           {
            "colorbar": {
             "outlinewidth": 0,
             "ticks": ""
            },
            "colorscale": [
             [
              0,
              "#0d0887"
             ],
             [
              0.1111111111111111,
              "#46039f"
             ],
             [
              0.2222222222222222,
              "#7201a8"
             ],
             [
              0.3333333333333333,
              "#9c179e"
             ],
             [
              0.4444444444444444,
              "#bd3786"
             ],
             [
              0.5555555555555556,
              "#d8576b"
             ],
             [
              0.6666666666666666,
              "#ed7953"
             ],
             [
              0.7777777777777778,
              "#fb9f3a"
             ],
             [
              0.8888888888888888,
              "#fdca26"
             ],
             [
              1,
              "#f0f921"
             ]
            ],
            "type": "contour"
           }
          ],
          "contourcarpet": [
           {
            "colorbar": {
             "outlinewidth": 0,
             "ticks": ""
            },
            "type": "contourcarpet"
           }
          ],
          "heatmap": [
           {
            "colorbar": {
             "outlinewidth": 0,
             "ticks": ""
            },
            "colorscale": [
             [
              0,
              "#0d0887"
             ],
             [
              0.1111111111111111,
              "#46039f"
             ],
             [
              0.2222222222222222,
              "#7201a8"
             ],
             [
              0.3333333333333333,
              "#9c179e"
             ],
             [
              0.4444444444444444,
              "#bd3786"
             ],
             [
              0.5555555555555556,
              "#d8576b"
             ],
             [
              0.6666666666666666,
              "#ed7953"
             ],
             [
              0.7777777777777778,
              "#fb9f3a"
             ],
             [
              0.8888888888888888,
              "#fdca26"
             ],
             [
              1,
              "#f0f921"
             ]
            ],
            "type": "heatmap"
           }
          ],
          "histogram": [
           {
            "marker": {
             "pattern": {
              "fillmode": "overlay",
              "size": 10,
              "solidity": 0.2
             }
            },
            "type": "histogram"
           }
          ],
          "histogram2d": [
           {
            "colorbar": {
             "outlinewidth": 0,
             "ticks": ""
            },
            "colorscale": [
             [
              0,
              "#0d0887"
             ],
             [
              0.1111111111111111,
              "#46039f"
             ],
             [
              0.2222222222222222,
              "#7201a8"
             ],
             [
              0.3333333333333333,
              "#9c179e"
             ],
             [
              0.4444444444444444,
              "#bd3786"
             ],
             [
              0.5555555555555556,
              "#d8576b"
             ],
             [
              0.6666666666666666,
              "#ed7953"
             ],
             [
              0.7777777777777778,
              "#fb9f3a"
             ],
             [
              0.8888888888888888,
              "#fdca26"
             ],
             [
              1,
              "#f0f921"
             ]
            ],
            "type": "histogram2d"
           }
          ],
          "histogram2dcontour": [
           {
            "colorbar": {
             "outlinewidth": 0,
             "ticks": ""
            },
            "colorscale": [
             [
              0,
              "#0d0887"
             ],
             [
              0.1111111111111111,
              "#46039f"
             ],
             [
              0.2222222222222222,
              "#7201a8"
             ],
             [
              0.3333333333333333,
              "#9c179e"
             ],
             [
              0.4444444444444444,
              "#bd3786"
             ],
             [
              0.5555555555555556,
              "#d8576b"
             ],
             [
              0.6666666666666666,
              "#ed7953"
             ],
             [
              0.7777777777777778,
              "#fb9f3a"
             ],
             [
              0.8888888888888888,
              "#fdca26"
             ],
             [
              1,
              "#f0f921"
             ]
            ],
            "type": "histogram2dcontour"
           }
          ],
          "mesh3d": [
           {
            "colorbar": {
             "outlinewidth": 0,
             "ticks": ""
            },
            "type": "mesh3d"
           }
          ],
          "parcoords": [
           {
            "line": {
             "colorbar": {
              "outlinewidth": 0,
              "ticks": ""
             }
            },
            "type": "parcoords"
           }
          ],
          "pie": [
           {
            "automargin": true,
            "type": "pie"
           }
          ],
          "scatter": [
           {
            "fillpattern": {
             "fillmode": "overlay",
             "size": 10,
             "solidity": 0.2
            },
            "type": "scatter"
           }
          ],
          "scatter3d": [
           {
            "line": {
             "colorbar": {
              "outlinewidth": 0,
              "ticks": ""
             }
            },
            "marker": {
             "colorbar": {
              "outlinewidth": 0,
              "ticks": ""
             }
            },
            "type": "scatter3d"
           }
          ],
          "scattercarpet": [
           {
            "marker": {
             "colorbar": {
              "outlinewidth": 0,
              "ticks": ""
             }
            },
            "type": "scattercarpet"
           }
          ],
          "scattergeo": [
           {
            "marker": {
             "colorbar": {
              "outlinewidth": 0,
              "ticks": ""
             }
            },
            "type": "scattergeo"
           }
          ],
          "scattergl": [
           {
            "marker": {
             "colorbar": {
              "outlinewidth": 0,
              "ticks": ""
             }
            },
            "type": "scattergl"
           }
          ],
          "scattermap": [
           {
            "marker": {
             "colorbar": {
              "outlinewidth": 0,
              "ticks": ""
             }
            },
            "type": "scattermap"
           }
          ],
          "scattermapbox": [
           {
            "marker": {
             "colorbar": {
              "outlinewidth": 0,
              "ticks": ""
             }
            },
            "type": "scattermapbox"
           }
          ],
          "scatterpolar": [
           {
            "marker": {
             "colorbar": {
              "outlinewidth": 0,
              "ticks": ""
             }
            },
            "type": "scatterpolar"
           }
          ],
          "scatterpolargl": [
           {
            "marker": {
             "colorbar": {
              "outlinewidth": 0,
              "ticks": ""
             }
            },
            "type": "scatterpolargl"
           }
          ],
          "scatterternary": [
           {
            "marker": {
             "colorbar": {
              "outlinewidth": 0,
              "ticks": ""
             }
            },
            "type": "scatterternary"
           }
          ],
          "surface": [
           {
            "colorbar": {
             "outlinewidth": 0,
             "ticks": ""
            },
            "colorscale": [
             [
              0,
              "#0d0887"
             ],
             [
              0.1111111111111111,
              "#46039f"
             ],
             [
              0.2222222222222222,
              "#7201a8"
             ],
             [
              0.3333333333333333,
              "#9c179e"
             ],
             [
              0.4444444444444444,
              "#bd3786"
             ],
             [
              0.5555555555555556,
              "#d8576b"
             ],
             [
              0.6666666666666666,
              "#ed7953"
             ],
             [
              0.7777777777777778,
              "#fb9f3a"
             ],
             [
              0.8888888888888888,
              "#fdca26"
             ],
             [
              1,
              "#f0f921"
             ]
            ],
            "type": "surface"
           }
          ],
          "table": [
           {
            "cells": {
             "fill": {
              "color": "#EBF0F8"
             },
             "line": {
              "color": "white"
             }
            },
            "header": {
             "fill": {
              "color": "#C8D4E3"
             },
             "line": {
              "color": "white"
             }
            },
            "type": "table"
           }
          ]
         },
         "layout": {
          "annotationdefaults": {
           "arrowcolor": "#2a3f5f",
           "arrowhead": 0,
           "arrowwidth": 1
          },
          "autotypenumbers": "strict",
          "coloraxis": {
           "colorbar": {
            "outlinewidth": 0,
            "ticks": ""
           }
          },
          "colorscale": {
           "diverging": [
            [
             0,
             "#8e0152"
            ],
            [
             0.1,
             "#c51b7d"
            ],
            [
             0.2,
             "#de77ae"
            ],
            [
             0.3,
             "#f1b6da"
            ],
            [
             0.4,
             "#fde0ef"
            ],
            [
             0.5,
             "#f7f7f7"
            ],
            [
             0.6,
             "#e6f5d0"
            ],
            [
             0.7,
             "#b8e186"
            ],
            [
             0.8,
             "#7fbc41"
            ],
            [
             0.9,
             "#4d9221"
            ],
            [
             1,
             "#276419"
            ]
           ],
           "sequential": [
            [
             0,
             "#0d0887"
            ],
            [
             0.1111111111111111,
             "#46039f"
            ],
            [
             0.2222222222222222,
             "#7201a8"
            ],
            [
             0.3333333333333333,
             "#9c179e"
            ],
            [
             0.4444444444444444,
             "#bd3786"
            ],
            [
             0.5555555555555556,
             "#d8576b"
            ],
            [
             0.6666666666666666,
             "#ed7953"
            ],
            [
             0.7777777777777778,
             "#fb9f3a"
            ],
            [
             0.8888888888888888,
             "#fdca26"
            ],
            [
             1,
             "#f0f921"
            ]
           ],
           "sequentialminus": [
            [
             0,
             "#0d0887"
            ],
            [
             0.1111111111111111,
             "#46039f"
            ],
            [
             0.2222222222222222,
             "#7201a8"
            ],
            [
             0.3333333333333333,
             "#9c179e"
            ],
            [
             0.4444444444444444,
             "#bd3786"
            ],
            [
             0.5555555555555556,
             "#d8576b"
            ],
            [
             0.6666666666666666,
             "#ed7953"
            ],
            [
             0.7777777777777778,
             "#fb9f3a"
            ],
            [
             0.8888888888888888,
             "#fdca26"
            ],
            [
             1,
             "#f0f921"
            ]
           ]
          },
          "colorway": [
           "#636efa",
           "#EF553B",
           "#00cc96",
           "#ab63fa",
           "#FFA15A",
           "#19d3f3",
           "#FF6692",
           "#B6E880",
           "#FF97FF",
           "#FECB52"
          ],
          "font": {
           "color": "#2a3f5f"
          },
          "geo": {
           "bgcolor": "white",
           "lakecolor": "white",
           "landcolor": "white",
           "showlakes": true,
           "showland": true,
           "subunitcolor": "#C8D4E3"
          },
          "hoverlabel": {
           "align": "left"
          },
          "hovermode": "closest",
          "mapbox": {
           "style": "light"
          },
          "paper_bgcolor": "white",
          "plot_bgcolor": "white",
          "polar": {
           "angularaxis": {
            "gridcolor": "#EBF0F8",
            "linecolor": "#EBF0F8",
            "ticks": ""
           },
           "bgcolor": "white",
           "radialaxis": {
            "gridcolor": "#EBF0F8",
            "linecolor": "#EBF0F8",
            "ticks": ""
           }
          },
          "scene": {
           "xaxis": {
            "backgroundcolor": "white",
            "gridcolor": "#DFE8F3",
            "gridwidth": 2,
            "linecolor": "#EBF0F8",
            "showbackground": true,
            "ticks": "",
            "zerolinecolor": "#EBF0F8"
           },
           "yaxis": {
            "backgroundcolor": "white",
            "gridcolor": "#DFE8F3",
            "gridwidth": 2,
            "linecolor": "#EBF0F8",
            "showbackground": true,
            "ticks": "",
            "zerolinecolor": "#EBF0F8"
           },
           "zaxis": {
            "backgroundcolor": "white",
            "gridcolor": "#DFE8F3",
            "gridwidth": 2,
            "linecolor": "#EBF0F8",
            "showbackground": true,
            "ticks": "",
            "zerolinecolor": "#EBF0F8"
           }
          },
          "shapedefaults": {
           "line": {
            "color": "#2a3f5f"
           }
          },
          "ternary": {
           "aaxis": {
            "gridcolor": "#DFE8F3",
            "linecolor": "#A2B1C6",
            "ticks": ""
           },
           "baxis": {
            "gridcolor": "#DFE8F3",
            "linecolor": "#A2B1C6",
            "ticks": ""
           },
           "bgcolor": "white",
           "caxis": {
            "gridcolor": "#DFE8F3",
            "linecolor": "#A2B1C6",
            "ticks": ""
           }
          },
          "title": {
           "x": 0.05
          },
          "xaxis": {
           "automargin": true,
           "gridcolor": "#EBF0F8",
           "linecolor": "#EBF0F8",
           "ticks": "",
           "title": {
            "standoff": 15
           },
           "zerolinecolor": "#EBF0F8",
           "zerolinewidth": 2
          },
          "yaxis": {
           "automargin": true,
           "gridcolor": "#EBF0F8",
           "linecolor": "#EBF0F8",
           "ticks": "",
           "title": {
            "standoff": 15
           },
           "zerolinecolor": "#EBF0F8",
           "zerolinewidth": 2
          }
         }
        },
        "title": {
         "text": "ARIMA Model Diagnostics"
        },
        "xaxis": {
         "anchor": "y",
         "domain": [
          0,
          0.45
         ],
         "title": {
          "text": "Time"
         }
        },
        "xaxis2": {
         "anchor": "y2",
         "domain": [
          0.55,
          1
         ],
         "title": {
          "text": "Residual Value"
         }
        },
        "xaxis3": {
         "anchor": "y3",
         "domain": [
          0,
          0.45
         ],
         "title": {
          "text": "Lag"
         }
        },
        "xaxis4": {
         "anchor": "y4",
         "domain": [
          0.55,
          1
         ],
         "title": {
          "text": "Theoretical Quantiles"
         }
        },
        "yaxis": {
         "anchor": "x",
         "domain": [
          0.625,
          1
         ],
         "title": {
          "text": "Residual"
         }
        },
        "yaxis2": {
         "anchor": "x2",
         "domain": [
          0.625,
          1
         ],
         "title": {
          "text": "Frequency"
         }
        },
        "yaxis3": {
         "anchor": "x3",
         "domain": [
          0,
          0.375
         ],
         "title": {
          "text": "ACF"
         }
        },
        "yaxis4": {
         "anchor": "x4",
         "domain": [
          0,
          0.375
         ],
         "title": {
          "text": "Sample Quantiles"
         }
        }
       }
      }
     },
     "metadata": {},
     "output_type": "display_data"
    }
   ],
   "source": [
    "# Get residuals\n",
    "residuals = fitted_model.resid\n",
    "\n",
    "# Create diagnostic plots\n",
    "fig = make_subplots(\n",
    "    rows=2, cols=2,\n",
    "    subplot_titles=('Residuals Over Time', 'Residuals Histogram',\n",
    "                   'Residuals ACF', 'Q-Q Plot'),\n",
    "    specs=[[{\"type\": \"scatter\"}, {\"type\": \"histogram\"}],\n",
    "           [{\"type\": \"scatter\"}, {\"type\": \"scatter\"}]]\n",
    ")\n",
    "\n",
    "# 1. Residuals over time\n",
    "fig.add_trace(\n",
    "    go.Scatter(x=np.arange(len(residuals)), y=residuals,\n",
    "               mode='lines', line=dict(color='purple', width=1)),\n",
    "    row=1, col=1\n",
    ")\n",
    "fig.add_hline(y=0, line_dash=\"dash\", line_color=\"red\", row=1, col=1)\n",
    "\n",
    "# 2. Histogram of residuals\n",
    "fig.add_trace(\n",
    "    go.Histogram(x=residuals, nbinsx=30, marker_color='lightblue',\n",
    "                 name='Residuals'),\n",
    "    row=1, col=2\n",
    ")\n",
    "\n",
    "# 3. ACF of residuals\n",
    "residuals_acf = acf(residuals, nlags=30)\n",
    "lags_resid = np.arange(len(residuals_acf))\n",
    "\n",
    "for i in range(len(lags_resid)):\n",
    "    fig.add_trace(go.Scatter(\n",
    "        x=[lags_resid[i], lags_resid[i]], \n",
    "        y=[0, residuals_acf[i]],\n",
    "        mode='lines',\n",
    "        line=dict(color='blue', width=2),\n",
    "        showlegend=False\n",
    "    ), row=2, col=1)\n",
    "\n",
    "fig.add_trace(\n",
    "    go.Scatter(x=lags_resid, y=residuals_acf, mode='markers',\n",
    "               marker=dict(size=6, color='blue'), showlegend=False),\n",
    "    row=2, col=1\n",
    ")\n",
    "\n",
    "confidence_band_resid = 1.96 / np.sqrt(len(residuals))\n",
    "fig.add_hline(y=confidence_band_resid, line_dash=\"dash\", line_color=\"gray\", row=2, col=1)\n",
    "fig.add_hline(y=-confidence_band_resid, line_dash=\"dash\", line_color=\"gray\", row=2, col=1)\n",
    "fig.add_hline(y=0, line_color=\"black\", row=2, col=1)\n",
    "\n",
    "# 4. Q-Q plot (theoretical quantiles vs sample quantiles)\n",
    "from scipy import stats\n",
    "theoretical_quantiles = stats.norm.ppf(np.linspace(0.01, 0.99, len(residuals)))\n",
    "sample_quantiles = np.sort(residuals)\n",
    "\n",
    "fig.add_trace(\n",
    "    go.Scatter(x=theoretical_quantiles, y=sample_quantiles,\n",
    "               mode='markers', marker=dict(size=5, color='orange'),\n",
    "               name='Q-Q Plot'),\n",
    "    row=2, col=2\n",
    ")\n",
    "\n",
    "# Add reference line for Q-Q plot\n",
    "fig.add_trace(\n",
    "    go.Scatter(x=theoretical_quantiles, y=theoretical_quantiles,\n",
    "               mode='lines', line=dict(color='red', dash='dash'),\n",
    "               name='Reference', showlegend=False),\n",
    "    row=2, col=2\n",
    ")\n",
    "\n",
    "fig.update_xaxes(title_text=\"Time\", row=1, col=1)\n",
    "fig.update_xaxes(title_text=\"Residual Value\", row=1, col=2)\n",
    "fig.update_xaxes(title_text=\"Lag\", row=2, col=1)\n",
    "fig.update_xaxes(title_text=\"Theoretical Quantiles\", row=2, col=2)\n",
    "\n",
    "fig.update_yaxes(title_text=\"Residual\", row=1, col=1)\n",
    "fig.update_yaxes(title_text=\"Frequency\", row=1, col=2)\n",
    "fig.update_yaxes(title_text=\"ACF\", row=2, col=1)\n",
    "fig.update_yaxes(title_text=\"Sample Quantiles\", row=2, col=2)\n",
    "\n",
    "fig.update_layout(\n",
    "    title_text='ARIMA Model Diagnostics',\n",
    "    height=700,\n",
    "    showlegend=False,\n",
    "    template='plotly_white'\n",
    ")\n",
    "\n",
    "fig.show()\n"
   ]
  },
  {
   "cell_type": "markdown",
   "id": "fe543f5b",
   "metadata": {},
   "source": [
    "## 7. Interactive Exploration: Try Different Parameters!\n",
    "\n",
    "Now it's your turn! Try modifying the ARIMA parameters below to see how they affect the forecast:\n"
   ]
  },
  {
   "cell_type": "code",
   "execution_count": 16,
   "id": "f311ea5f",
   "metadata": {},
   "outputs": [
    {
     "name": "stdout",
     "output_type": "stream",
     "text": [
      "Fitting ARIMA(1, 1, 1)...\n",
      "\n",
      "✓ Model fitted successfully!\n",
      "Mean Absolute Error (MAE): 14.79\n",
      "Root Mean Squared Error (RMSE): 16.54\n"
     ]
    },
    {
     "data": {
      "application/vnd.plotly.v1+json": {
       "config": {
        "plotlyServerURL": "https://plot.ly"
       },
       "data": [
        {
         "line": {
          "color": "blue",
          "width": 2
         },
         "mode": "lines",
         "name": "Training Data",
         "type": "scatter",
         "x": {
          "bdata": "AAABAAIAAwAEAAUABgAHAAgACQAKAAsADAANAA4ADwAQABEAEgATABQAFQAWABcAGAAZABoAGwAcAB0AHgAfACAAIQAiACMAJAAlACYAJwAoACkAKgArACwALQAuAC8AMAAxADIAMwA0ADUANgA3ADgAOQA6ADsAPAA9AD4APwBAAEEAQgBDAEQARQBGAEcASABJAEoASwBMAE0ATgBPAFAAUQBSAFMAVABVAFYAVwBYAFkAWgBbAFwAXQBeAF8AYABhAGIAYwBkAGUAZgBnAGgAaQBqAGsAbABtAG4AbwBwAHEAcgBzAHQAdQB2AHcAeAB5AHoAewB8AH0AfgB/AIAAgQCCAIMAhACFAIYAhwCIAIkAigCLAIwAjQCOAI8AkACRAJIAkwCUAJUA",
          "dtype": "i2"
         },
         "y": {
          "bdata": "K3enFY8vWEBEJTtrz1daQErGXfwSZVpADxJt5DCgWUDGe2FsZN9aQO1wJINZEV1Av9CYKD5/WkAkYcdrV3FcQPA1eFSdHV5AOmesRTjeXECN0I0Jq05dQJUsjcfP/F1AFhnp1HNcX0Dp6uK8b+NdQPTRPlDAGV5AijBhap4dXkDU2/4VFgZgQJBb2fBq7l9AYNJ7l3jkXkAI+HEhUDteQICubD7ZQV5AWTxcPrSMXkCkbAsvuG1cQDqXOWCAsF1AA20kJ5OHW0Clffc8jaVbQKdEnCPYdVxAkkGldfNeWkC90FwNtQNbQB2biz0PLFpACcJusaVaWkBE0pdzgTVYQFWMMkUsyFhAdeZqmhFvWUBztkdWcI1aQIq9Oc+lrVlA/m+894zRWUBlqVJ5CGZaQIKZG/sFWVlAqKl773VnWkAUtLf5WtRZQNuM6Eqnb1lA0Z1ddmTKWkCmPwdfeupbQC6dQwjYL1xADxZoZ3RpXECKvC3B2bxeQE2aHivhzV1AJN40zizNXkBd3bapsypgQHUXQh6JR15AeICbYN8QX0DLnCd8xN5gQFpvi/QVNGBAI2P0YhfKYEAICqKPynBhQFjbDSYXnmFAMUkFwFAqYkD3fz7320RiQDeC3or6SGJAf55AvFO+YUD5SZYAznNiQLtLqxI5XWJAJ0d1ObvPYUCDJa3/jt9iQIKPRHgApmJAJR/IHK9WYkC9yYSL5i5iQGUj5TfPvmFA/APqprwrYkApsl5pGydiQCpnNG1zh2FAb0DEeEUgYkBcRLkmCh5hQHyHL6JXkGBAV44+VdCTYUA0prLtHd1gQBnf/q6HzGBA7KlCC+ZeYEAO3XjvK91fQNKOc6ld3mBAZi0dNUkFYED78azmms1gQNG392M5aGBArHsOtu7eX0BjYGMTfj5fQIrDGh1fhF9AKPqnAxc5X0C1DaBfT+lgQLiPrdlJSGBA7tZuoOnFYEAP+WdoBARgQLeFlhoavGBAu4m9dzpPYUBUIYygQfdgQNzv/J3ZuGFAY0B8xKMwYUBcH6QtaFxhQNry1yINTWJAOCyGaXBPYkDvv9Mio/1iQOM5ul9ITmJAqTMHob+bY0AzM/YPI5pkQPhI8K7g5GNAUYj2IGotZEBptKrB0XlkQM5ukMAY72NAqijM/i/+ZEBYryyZMmhkQJlWwStz/2RA2fIrONC+ZUAxKB3VeBhlQBvhNDgsn2VAjLdIiLjYZUAn4PUoRJNlQLyP9re07mRA4/tlGlxFZUBdeBEp8w1mQAsjq58tdmRAWoiwVan/ZEAnB5RIPcJkQK3I2aFK3GRA+TkMKTPvZECHfxAjmBZlQBXAy8QONmRAGu0cJ9NxZECJGbiZmihkQFtMBmrW/GNAGSIuHZ9yY0COoJnGHiZjQBypLDHQ/WJAZDPCIYkFY0BpOPnAmlljQN8gr/G7dmNAwQ3lvotGY0CfZxRszfNiQIOEPf9R3mNAkFH/HcLSY0BasMeihDZjQBRLaYZxKGNAXbC2Ay+qY0CKK7MdYkRkQIAaZF0ZHmRAOVS0l9hsZEBgIvvdgGFkQIRDC2yP5GRAZeRTlJOTZUBGOP7injFlQOIHrPuYoWVA",
          "dtype": "f8"
         }
        },
        {
         "line": {
          "color": "green",
          "width": 2
         },
         "mode": "lines",
         "name": "Actual Test Data",
         "type": "scatter",
         "x": {
          "bdata": "lgCXAJgAmQCaAJsAnACdAJ4AnwCgAKEAogCjAKQApQCmAKcAqACpAKoAqwCsAK0ArgCvALAAsQCyALMAtAC1ALYAtwC4ALkAugC7ALwAvQC+AL8AwADBAMIAwwDEAMUAxgDHAA==",
          "dtype": "i2"
         },
         "y": {
          "bdata": "y7wxy134ZUAFpTbIZUdmQCRLrG7U72VA1v2POIUMZkC3DzTZWqVmQF3D0mZCWmdAXuGut8C9Z0DRti3P5o5nQASH0X5+eWhAFiiZdJIUaEBMgVYcdUpoQC3v7ZngVGhA6rzpXeuLaEAdNuKtrtJoQLcIZ45m12hAIYu6LkJCaEB5rIy1liRpQAFIMKUnHGhATEkYwHN5aEA8+QOUPT5oQNNtRwhv1WdAfuNXugcQaEAbrN7nlKlnQEl6IMhezmdA1vQ1MNvCZ0AsKdwiTv1nQMpAqlNZYWdAs21Ag/PdZkBvPhBotMlmQKza4DUy1mZAa19v19WuZkD0u6y3iRNnQFaGvYYb9GZAj+pyxkM4ZkAO8T9sAxlmQHsJVwAEUmVAJRVJRs4TZkCrqbu6DfNlQI1fSk/iPmZAl8bxHRieZkAlIJ3agKhmQPhHqVvOumZAfSAb6uH9ZkBq18HcCxJnQPX79clUamdABadSiq5fZkAJEqTz575nQJ7vb5aoFGhAaqiDI95HaEA3YQ/O6p5oQA==",
          "dtype": "f8"
         }
        },
        {
         "line": {
          "color": "red",
          "dash": "dash",
          "width": 2
         },
         "mode": "lines",
         "name": "ARIMA(1,1,1) Forecast",
         "type": "scatter",
         "x": {
          "bdata": "lgCXAJgAmQCaAJsAnACdAJ4AnwCgAKEAogCjAKQApQCmAKcAqACpAKoAqwCsAK0ArgCvALAAsQCyALMAtAC1ALYAtwC4ALkAugC7ALwAvQC+AL8AwADBAMIAwwDEAMUAxgDHAA==",
          "dtype": "i2"
         },
         "y": {
          "bdata": "ir0PM+N6ZUBkycvg4oJlQOSkGsM7gWVAFA0CMZOBZUBDnTAggYFlQDJP09uEgWVASktcFoSBZUCxwCk/hIFlQO5iuzaEgWVAwV95OISBZUD+Nx04hIFlQM5CMDiEgWVAg1MsOISBZUCnIy04hIFlQKX4LDiEgWVAiAEtOISBZUCy/yw4hIFlQBMALTiEgWVA//8sOISBZUADAC04hIFlQAIALTiEgWVAAgAtOISBZUACAC04hIFlQAIALTiEgWVAAgAtOISBZUACAC04hIFlQAIALTiEgWVAAgAtOISBZUACAC04hIFlQAIALTiEgWVAAgAtOISBZUACAC04hIFlQAIALTiEgWVAAgAtOISBZUACAC04hIFlQAIALTiEgWVAAgAtOISBZUACAC04hIFlQAIALTiEgWVAAgAtOISBZUACAC04hIFlQAIALTiEgWVAAgAtOISBZUACAC04hIFlQAIALTiEgWVAAgAtOISBZUACAC04hIFlQAIALTiEgWVAAgAtOISBZUACAC04hIFlQA==",
          "dtype": "f8"
         }
        }
       ],
       "layout": {
        "height": 500,
        "hovermode": "x unified",
        "shapes": [
         {
          "line": {
           "color": "gray",
           "dash": "dash"
          },
          "type": "line",
          "x0": 150,
          "x1": 150,
          "xref": "x",
          "y0": 0,
          "y1": 1,
          "yref": "y domain"
         }
        ],
        "template": {
         "data": {
          "bar": [
           {
            "error_x": {
             "color": "#2a3f5f"
            },
            "error_y": {
             "color": "#2a3f5f"
            },
            "marker": {
             "line": {
              "color": "white",
              "width": 0.5
             },
             "pattern": {
              "fillmode": "overlay",
              "size": 10,
              "solidity": 0.2
             }
            },
            "type": "bar"
           }
          ],
          "barpolar": [
           {
            "marker": {
             "line": {
              "color": "white",
              "width": 0.5
             },
             "pattern": {
              "fillmode": "overlay",
              "size": 10,
              "solidity": 0.2
             }
            },
            "type": "barpolar"
           }
          ],
          "carpet": [
           {
            "aaxis": {
             "endlinecolor": "#2a3f5f",
             "gridcolor": "#C8D4E3",
             "linecolor": "#C8D4E3",
             "minorgridcolor": "#C8D4E3",
             "startlinecolor": "#2a3f5f"
            },
            "baxis": {
             "endlinecolor": "#2a3f5f",
             "gridcolor": "#C8D4E3",
             "linecolor": "#C8D4E3",
             "minorgridcolor": "#C8D4E3",
             "startlinecolor": "#2a3f5f"
            },
            "type": "carpet"
           }
          ],
          "choropleth": [
           {
            "colorbar": {
             "outlinewidth": 0,
             "ticks": ""
            },
            "type": "choropleth"
           }
          ],
          "contour": [
           {
            "colorbar": {
             "outlinewidth": 0,
             "ticks": ""
            },
            "colorscale": [
             [
              0,
              "#0d0887"
             ],
             [
              0.1111111111111111,
              "#46039f"
             ],
             [
              0.2222222222222222,
              "#7201a8"
             ],
             [
              0.3333333333333333,
              "#9c179e"
             ],
             [
              0.4444444444444444,
              "#bd3786"
             ],
             [
              0.5555555555555556,
              "#d8576b"
             ],
             [
              0.6666666666666666,
              "#ed7953"
             ],
             [
              0.7777777777777778,
              "#fb9f3a"
             ],
             [
              0.8888888888888888,
              "#fdca26"
             ],
             [
              1,
              "#f0f921"
             ]
            ],
            "type": "contour"
           }
          ],
          "contourcarpet": [
           {
            "colorbar": {
             "outlinewidth": 0,
             "ticks": ""
            },
            "type": "contourcarpet"
           }
          ],
          "heatmap": [
           {
            "colorbar": {
             "outlinewidth": 0,
             "ticks": ""
            },
            "colorscale": [
             [
              0,
              "#0d0887"
             ],
             [
              0.1111111111111111,
              "#46039f"
             ],
             [
              0.2222222222222222,
              "#7201a8"
             ],
             [
              0.3333333333333333,
              "#9c179e"
             ],
             [
              0.4444444444444444,
              "#bd3786"
             ],
             [
              0.5555555555555556,
              "#d8576b"
             ],
             [
              0.6666666666666666,
              "#ed7953"
             ],
             [
              0.7777777777777778,
              "#fb9f3a"
             ],
             [
              0.8888888888888888,
              "#fdca26"
             ],
             [
              1,
              "#f0f921"
             ]
            ],
            "type": "heatmap"
           }
          ],
          "histogram": [
           {
            "marker": {
             "pattern": {
              "fillmode": "overlay",
              "size": 10,
              "solidity": 0.2
             }
            },
            "type": "histogram"
           }
          ],
          "histogram2d": [
           {
            "colorbar": {
             "outlinewidth": 0,
             "ticks": ""
            },
            "colorscale": [
             [
              0,
              "#0d0887"
             ],
             [
              0.1111111111111111,
              "#46039f"
             ],
             [
              0.2222222222222222,
              "#7201a8"
             ],
             [
              0.3333333333333333,
              "#9c179e"
             ],
             [
              0.4444444444444444,
              "#bd3786"
             ],
             [
              0.5555555555555556,
              "#d8576b"
             ],
             [
              0.6666666666666666,
              "#ed7953"
             ],
             [
              0.7777777777777778,
              "#fb9f3a"
             ],
             [
              0.8888888888888888,
              "#fdca26"
             ],
             [
              1,
              "#f0f921"
             ]
            ],
            "type": "histogram2d"
           }
          ],
          "histogram2dcontour": [
           {
            "colorbar": {
             "outlinewidth": 0,
             "ticks": ""
            },
            "colorscale": [
             [
              0,
              "#0d0887"
             ],
             [
              0.1111111111111111,
              "#46039f"
             ],
             [
              0.2222222222222222,
              "#7201a8"
             ],
             [
              0.3333333333333333,
              "#9c179e"
             ],
             [
              0.4444444444444444,
              "#bd3786"
             ],
             [
              0.5555555555555556,
              "#d8576b"
             ],
             [
              0.6666666666666666,
              "#ed7953"
             ],
             [
              0.7777777777777778,
              "#fb9f3a"
             ],
             [
              0.8888888888888888,
              "#fdca26"
             ],
             [
              1,
              "#f0f921"
             ]
            ],
            "type": "histogram2dcontour"
           }
          ],
          "mesh3d": [
           {
            "colorbar": {
             "outlinewidth": 0,
             "ticks": ""
            },
            "type": "mesh3d"
           }
          ],
          "parcoords": [
           {
            "line": {
             "colorbar": {
              "outlinewidth": 0,
              "ticks": ""
             }
            },
            "type": "parcoords"
           }
          ],
          "pie": [
           {
            "automargin": true,
            "type": "pie"
           }
          ],
          "scatter": [
           {
            "fillpattern": {
             "fillmode": "overlay",
             "size": 10,
             "solidity": 0.2
            },
            "type": "scatter"
           }
          ],
          "scatter3d": [
           {
            "line": {
             "colorbar": {
              "outlinewidth": 0,
              "ticks": ""
             }
            },
            "marker": {
             "colorbar": {
              "outlinewidth": 0,
              "ticks": ""
             }
            },
            "type": "scatter3d"
           }
          ],
          "scattercarpet": [
           {
            "marker": {
             "colorbar": {
              "outlinewidth": 0,
              "ticks": ""
             }
            },
            "type": "scattercarpet"
           }
          ],
          "scattergeo": [
           {
            "marker": {
             "colorbar": {
              "outlinewidth": 0,
              "ticks": ""
             }
            },
            "type": "scattergeo"
           }
          ],
          "scattergl": [
           {
            "marker": {
             "colorbar": {
              "outlinewidth": 0,
              "ticks": ""
             }
            },
            "type": "scattergl"
           }
          ],
          "scattermap": [
           {
            "marker": {
             "colorbar": {
              "outlinewidth": 0,
              "ticks": ""
             }
            },
            "type": "scattermap"
           }
          ],
          "scattermapbox": [
           {
            "marker": {
             "colorbar": {
              "outlinewidth": 0,
              "ticks": ""
             }
            },
            "type": "scattermapbox"
           }
          ],
          "scatterpolar": [
           {
            "marker": {
             "colorbar": {
              "outlinewidth": 0,
              "ticks": ""
             }
            },
            "type": "scatterpolar"
           }
          ],
          "scatterpolargl": [
           {
            "marker": {
             "colorbar": {
              "outlinewidth": 0,
              "ticks": ""
             }
            },
            "type": "scatterpolargl"
           }
          ],
          "scatterternary": [
           {
            "marker": {
             "colorbar": {
              "outlinewidth": 0,
              "ticks": ""
             }
            },
            "type": "scatterternary"
           }
          ],
          "surface": [
           {
            "colorbar": {
             "outlinewidth": 0,
             "ticks": ""
            },
            "colorscale": [
             [
              0,
              "#0d0887"
             ],
             [
              0.1111111111111111,
              "#46039f"
             ],
             [
              0.2222222222222222,
              "#7201a8"
             ],
             [
              0.3333333333333333,
              "#9c179e"
             ],
             [
              0.4444444444444444,
              "#bd3786"
             ],
             [
              0.5555555555555556,
              "#d8576b"
             ],
             [
              0.6666666666666666,
              "#ed7953"
             ],
             [
              0.7777777777777778,
              "#fb9f3a"
             ],
             [
              0.8888888888888888,
              "#fdca26"
             ],
             [
              1,
              "#f0f921"
             ]
            ],
            "type": "surface"
           }
          ],
          "table": [
           {
            "cells": {
             "fill": {
              "color": "#EBF0F8"
             },
             "line": {
              "color": "white"
             }
            },
            "header": {
             "fill": {
              "color": "#C8D4E3"
             },
             "line": {
              "color": "white"
             }
            },
            "type": "table"
           }
          ]
         },
         "layout": {
          "annotationdefaults": {
           "arrowcolor": "#2a3f5f",
           "arrowhead": 0,
           "arrowwidth": 1
          },
          "autotypenumbers": "strict",
          "coloraxis": {
           "colorbar": {
            "outlinewidth": 0,
            "ticks": ""
           }
          },
          "colorscale": {
           "diverging": [
            [
             0,
             "#8e0152"
            ],
            [
             0.1,
             "#c51b7d"
            ],
            [
             0.2,
             "#de77ae"
            ],
            [
             0.3,
             "#f1b6da"
            ],
            [
             0.4,
             "#fde0ef"
            ],
            [
             0.5,
             "#f7f7f7"
            ],
            [
             0.6,
             "#e6f5d0"
            ],
            [
             0.7,
             "#b8e186"
            ],
            [
             0.8,
             "#7fbc41"
            ],
            [
             0.9,
             "#4d9221"
            ],
            [
             1,
             "#276419"
            ]
           ],
           "sequential": [
            [
             0,
             "#0d0887"
            ],
            [
             0.1111111111111111,
             "#46039f"
            ],
            [
             0.2222222222222222,
             "#7201a8"
            ],
            [
             0.3333333333333333,
             "#9c179e"
            ],
            [
             0.4444444444444444,
             "#bd3786"
            ],
            [
             0.5555555555555556,
             "#d8576b"
            ],
            [
             0.6666666666666666,
             "#ed7953"
            ],
            [
             0.7777777777777778,
             "#fb9f3a"
            ],
            [
             0.8888888888888888,
             "#fdca26"
            ],
            [
             1,
             "#f0f921"
            ]
           ],
           "sequentialminus": [
            [
             0,
             "#0d0887"
            ],
            [
             0.1111111111111111,
             "#46039f"
            ],
            [
             0.2222222222222222,
             "#7201a8"
            ],
            [
             0.3333333333333333,
             "#9c179e"
            ],
            [
             0.4444444444444444,
             "#bd3786"
            ],
            [
             0.5555555555555556,
             "#d8576b"
            ],
            [
             0.6666666666666666,
             "#ed7953"
            ],
            [
             0.7777777777777778,
             "#fb9f3a"
            ],
            [
             0.8888888888888888,
             "#fdca26"
            ],
            [
             1,
             "#f0f921"
            ]
           ]
          },
          "colorway": [
           "#636efa",
           "#EF553B",
           "#00cc96",
           "#ab63fa",
           "#FFA15A",
           "#19d3f3",
           "#FF6692",
           "#B6E880",
           "#FF97FF",
           "#FECB52"
          ],
          "font": {
           "color": "#2a3f5f"
          },
          "geo": {
           "bgcolor": "white",
           "lakecolor": "white",
           "landcolor": "white",
           "showlakes": true,
           "showland": true,
           "subunitcolor": "#C8D4E3"
          },
          "hoverlabel": {
           "align": "left"
          },
          "hovermode": "closest",
          "mapbox": {
           "style": "light"
          },
          "paper_bgcolor": "white",
          "plot_bgcolor": "white",
          "polar": {
           "angularaxis": {
            "gridcolor": "#EBF0F8",
            "linecolor": "#EBF0F8",
            "ticks": ""
           },
           "bgcolor": "white",
           "radialaxis": {
            "gridcolor": "#EBF0F8",
            "linecolor": "#EBF0F8",
            "ticks": ""
           }
          },
          "scene": {
           "xaxis": {
            "backgroundcolor": "white",
            "gridcolor": "#DFE8F3",
            "gridwidth": 2,
            "linecolor": "#EBF0F8",
            "showbackground": true,
            "ticks": "",
            "zerolinecolor": "#EBF0F8"
           },
           "yaxis": {
            "backgroundcolor": "white",
            "gridcolor": "#DFE8F3",
            "gridwidth": 2,
            "linecolor": "#EBF0F8",
            "showbackground": true,
            "ticks": "",
            "zerolinecolor": "#EBF0F8"
           },
           "zaxis": {
            "backgroundcolor": "white",
            "gridcolor": "#DFE8F3",
            "gridwidth": 2,
            "linecolor": "#EBF0F8",
            "showbackground": true,
            "ticks": "",
            "zerolinecolor": "#EBF0F8"
           }
          },
          "shapedefaults": {
           "line": {
            "color": "#2a3f5f"
           }
          },
          "ternary": {
           "aaxis": {
            "gridcolor": "#DFE8F3",
            "linecolor": "#A2B1C6",
            "ticks": ""
           },
           "baxis": {
            "gridcolor": "#DFE8F3",
            "linecolor": "#A2B1C6",
            "ticks": ""
           },
           "bgcolor": "white",
           "caxis": {
            "gridcolor": "#DFE8F3",
            "linecolor": "#A2B1C6",
            "ticks": ""
           }
          },
          "title": {
           "x": 0.05
          },
          "xaxis": {
           "automargin": true,
           "gridcolor": "#EBF0F8",
           "linecolor": "#EBF0F8",
           "ticks": "",
           "title": {
            "standoff": 15
           },
           "zerolinecolor": "#EBF0F8",
           "zerolinewidth": 2
          },
          "yaxis": {
           "automargin": true,
           "gridcolor": "#EBF0F8",
           "linecolor": "#EBF0F8",
           "ticks": "",
           "title": {
            "standoff": 15
           },
           "zerolinecolor": "#EBF0F8",
           "zerolinewidth": 2
          }
         }
        },
        "title": {
         "text": "Your ARIMA(1,1,1) Model - MAE: 14.79, RMSE: 16.54"
        },
        "xaxis": {
         "title": {
          "text": "Time"
         }
        },
        "yaxis": {
         "title": {
          "text": "Value"
         }
        }
       }
      }
     },
     "metadata": {},
     "output_type": "display_data"
    }
   ],
   "source": [
    "# EXPERIMENT HERE: Try changing these parameters!\n",
    "p_value = 1  # AR order (try 0, 1, 2, 3)\n",
    "d_value = 1  # Differencing order (try 0, 1, 2)\n",
    "q_value = 1  # MA order (try 0, 1, 2, 3)\n",
    "\n",
    "print(f\"Fitting ARIMA({p_value}, {d_value}, {q_value})...\")\n",
    "\n",
    "try:\n",
    "    # Fit model with your parameters\n",
    "    model_custom = ARIMA(train, order=(p_value, d_value, q_value))\n",
    "    fitted_custom = model_custom.fit()\n",
    "    \n",
    "    # Make forecast\n",
    "    forecast_custom = fitted_custom.forecast(steps=n_forecast)\n",
    "    \n",
    "    # Calculate error metrics\n",
    "    from sklearn.metrics import mean_absolute_error, mean_squared_error\n",
    "    mae = mean_absolute_error(test, forecast_custom)\n",
    "    rmse = np.sqrt(mean_squared_error(test, forecast_custom))\n",
    "    \n",
    "    print(f\"\\n✓ Model fitted successfully!\")\n",
    "    print(f\"Mean Absolute Error (MAE): {mae:.2f}\")\n",
    "    print(f\"Root Mean Squared Error (RMSE): {rmse:.2f}\")\n",
    "    \n",
    "    # Visualize\n",
    "    fig = go.Figure()\n",
    "    \n",
    "    fig.add_trace(go.Scatter(\n",
    "        x=time_idx[:train_size], y=train,\n",
    "        mode='lines', name='Training Data',\n",
    "        line=dict(color='blue', width=2)\n",
    "    ))\n",
    "    \n",
    "    fig.add_trace(go.Scatter(\n",
    "        x=time_idx[train_size:], y=test,\n",
    "        mode='lines', name='Actual Test Data',\n",
    "        line=dict(color='green', width=2)\n",
    "    ))\n",
    "    \n",
    "    fig.add_trace(go.Scatter(\n",
    "        x=time_idx[train_size:], y=forecast_custom,\n",
    "        mode='lines', name=f'ARIMA({p_value},{d_value},{q_value}) Forecast',\n",
    "        line=dict(color='red', width=2, dash='dash')\n",
    "    ))\n",
    "    \n",
    "    fig.add_vline(x=train_size, line_dash=\"dash\", line_color=\"gray\")\n",
    "    \n",
    "    fig.update_layout(\n",
    "        title=f'Your ARIMA({p_value},{d_value},{q_value}) Model - MAE: {mae:.2f}, RMSE: {rmse:.2f}',\n",
    "        xaxis_title='Time',\n",
    "        yaxis_title='Value',\n",
    "        hovermode='x unified',\n",
    "        template='plotly_white',\n",
    "        height=500\n",
    "    )\n",
    "    \n",
    "    fig.show()\n",
    "    \n",
    "except Exception as e:\n",
    "    print(f\"❌ Error: {e}\")\n",
    "    print(\"Try different parameters!\")\n"
   ]
  },
  {
   "cell_type": "markdown",
   "id": "e4d6a478",
   "metadata": {},
   "source": [
    "## 8. Key Takeaways & Summary\n",
    "\n",
    "### What We Learned:\n",
    "\n",
    "1. **Time Series Components**:\n",
    "   - Trend: Long-term direction\n",
    "   - Seasonality: Regular patterns\n",
    "   - Noise: Random variation\n",
    "\n",
    "2. **Heteroscedasticity**:\n",
    "   - When variance changes over time\n",
    "   - Important to detect for model assumptions\n",
    "   - Can be visualized with rolling variance\n",
    "\n",
    "3. **Autocorrelation (ACF)**:\n",
    "   - Measures correlation with lagged values\n",
    "   - Shows both direct and indirect relationships\n",
    "   - Helps identify MA component (q)\n",
    "\n",
    "4. **Partial Autocorrelation (PACF)**:\n",
    "   - Measures correlation after removing intermediate effects\n",
    "   - Shows only direct relationships\n",
    "   - Helps identify AR component (p)\n",
    "\n",
    "5. **ARIMA Models**:\n",
    "   - **AR(p)**: Uses past values\n",
    "   - **I(d)**: Differencing for stationarity\n",
    "   - **MA(q)**: Uses past errors\n",
    "   - Choose parameters using ACF/PACF plots\n",
    "\n",
    "### Practice Exercises:\n",
    "\n",
    "1. **Exercise 1**: Modify the heteroscedasticity example to create a series with decreasing variance\n",
    "2. **Exercise 2**: Try different ARIMA parameters and compare their MAE/RMSE scores\n",
    "3. **Exercise 3**: Create your own time series with different seasonal patterns\n",
    "4. **Exercise 4**: Analyze the ACF and PACF plots to determine appropriate (p,q) values\n",
    "\n",
    "### Further Learning:\n",
    "- SARIMA: ARIMA with seasonal components\n",
    "- VAR: Vector AutoRegression for multivariate series\n",
    "- Prophet: Facebook's forecasting tool\n",
    "- LSTM: Deep learning for time series\n"
   ]
  }
 ],
 "metadata": {
  "kernelspec": {
   "display_name": "Python (timeseries)",
   "language": "python",
   "name": "timeseries"
  },
  "language_info": {
   "codemirror_mode": {
    "name": "ipython",
    "version": 3
   },
   "file_extension": ".py",
   "mimetype": "text/x-python",
   "name": "python",
   "nbconvert_exporter": "python",
   "pygments_lexer": "ipython3",
   "version": "3.13.5"
  }
 },
 "nbformat": 4,
 "nbformat_minor": 5
}
