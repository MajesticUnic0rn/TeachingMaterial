{
 "cells": [
  {
   "cell_type": "code",
   "execution_count": 40,
   "metadata": {},
   "outputs": [],
   "source": [
    "import pandas as pd \n",
    "#json dataset:  https://datacatalog.cookcountyil.gov/resource/tg8v-tm6u.json \n",
    "input_df=pd.read_json('https://datacatalog.cookcountyil.gov/resource/tg8v-tm6u.json')"
   ]
  },
  {
   "cell_type": "code",
   "execution_count": 41,
   "metadata": {},
   "outputs": [
    {
     "data": {
      "text/plain": [
       "Index(['case_id', 'case_participant_id', 'received_date', 'offense_category',\n",
       "       'primary_charge', 'charge_id', 'charge_version_id',\n",
       "       'disposition_charged_offense_title', 'charge_count', 'disposition_date',\n",
       "       'disposition_charged_chapter', 'disposition_charged_act',\n",
       "       'disposition_charged_section', 'disposition_charged_class',\n",
       "       'disposition_charged_aoic', 'charge_disposition', 'sentence_judge',\n",
       "       'court_name', 'court_facility', 'sentence_phase', 'sentence_date',\n",
       "       'sentence_type', 'current_sentence', 'commitment_type',\n",
       "       'length_of_case_in_days', 'age_at_incident', 'race', 'gender',\n",
       "       'incident_begin_date', 'law_enforcement_agency', 'arrest_date',\n",
       "       'felony_review_date', 'felony_review_result', 'arraignment_date',\n",
       "       'updated_offense_category', 'commitment_term', 'commitment_unit',\n",
       "       'incident_end_date', 'charge_disposition_reason', 'incident_city'],\n",
       "      dtype='object')"
      ]
     },
     "execution_count": 41,
     "metadata": {},
     "output_type": "execute_result"
    }
   ],
   "source": [
    "input_df.columns"
   ]
  },
  {
   "cell_type": "code",
   "execution_count": 42,
   "metadata": {},
   "outputs": [
    {
     "data": {
      "text/html": [
       "<div>\n",
       "<style scoped>\n",
       "    .dataframe tbody tr th:only-of-type {\n",
       "        vertical-align: middle;\n",
       "    }\n",
       "\n",
       "    .dataframe tbody tr th {\n",
       "        vertical-align: top;\n",
       "    }\n",
       "\n",
       "    .dataframe thead th {\n",
       "        text-align: right;\n",
       "    }\n",
       "</style>\n",
       "<table border=\"1\" class=\"dataframe\">\n",
       "  <thead>\n",
       "    <tr style=\"text-align: right;\">\n",
       "      <th></th>\n",
       "      <th>case_id</th>\n",
       "      <th>case_participant_id</th>\n",
       "      <th>charge_id</th>\n",
       "      <th>charge_version_id</th>\n",
       "      <th>charge_count</th>\n",
       "      <th>length_of_case_in_days</th>\n",
       "      <th>age_at_incident</th>\n",
       "      <th>commitment_term</th>\n",
       "    </tr>\n",
       "  </thead>\n",
       "  <tbody>\n",
       "    <tr>\n",
       "      <th>count</th>\n",
       "      <td>1.000000e+03</td>\n",
       "      <td>1.000000e+03</td>\n",
       "      <td>1.000000e+03</td>\n",
       "      <td>1.000000e+03</td>\n",
       "      <td>1000.000000</td>\n",
       "      <td>204.000000</td>\n",
       "      <td>970.000000</td>\n",
       "      <td>990.000000</td>\n",
       "    </tr>\n",
       "    <tr>\n",
       "      <th>mean</th>\n",
       "      <td>1.339322e+11</td>\n",
       "      <td>5.742349e+11</td>\n",
       "      <td>5.561777e+11</td>\n",
       "      <td>8.811571e+11</td>\n",
       "      <td>8.839000</td>\n",
       "      <td>2683.514706</td>\n",
       "      <td>29.461856</td>\n",
       "      <td>22.928788</td>\n",
       "    </tr>\n",
       "    <tr>\n",
       "      <th>std</th>\n",
       "      <td>1.058008e+10</td>\n",
       "      <td>9.455413e+10</td>\n",
       "      <td>2.071539e+11</td>\n",
       "      <td>5.263346e+11</td>\n",
       "      <td>17.714595</td>\n",
       "      <td>1710.443322</td>\n",
       "      <td>9.470670</td>\n",
       "      <td>26.765539</td>\n",
       "    </tr>\n",
       "    <tr>\n",
       "      <th>min</th>\n",
       "      <td>1.076101e+11</td>\n",
       "      <td>3.478431e+11</td>\n",
       "      <td>3.501581e+11</td>\n",
       "      <td>2.766368e+11</td>\n",
       "      <td>1.000000</td>\n",
       "      <td>-20.000000</td>\n",
       "      <td>17.000000</td>\n",
       "      <td>0.000000</td>\n",
       "    </tr>\n",
       "    <tr>\n",
       "      <th>25%</th>\n",
       "      <td>1.284440e+11</td>\n",
       "      <td>5.537250e+11</td>\n",
       "      <td>4.800214e+11</td>\n",
       "      <td>5.625977e+11</td>\n",
       "      <td>1.000000</td>\n",
       "      <td>2293.500000</td>\n",
       "      <td>22.000000</td>\n",
       "      <td>2.000000</td>\n",
       "    </tr>\n",
       "    <tr>\n",
       "      <th>50%</th>\n",
       "      <td>1.338367e+11</td>\n",
       "      <td>5.729008e+11</td>\n",
       "      <td>5.286224e+11</td>\n",
       "      <td>6.586892e+11</td>\n",
       "      <td>1.000000</td>\n",
       "      <td>2776.000000</td>\n",
       "      <td>28.000000</td>\n",
       "      <td>17.250000</td>\n",
       "    </tr>\n",
       "    <tr>\n",
       "      <th>75%</th>\n",
       "      <td>1.421015e+11</td>\n",
       "      <td>5.967173e+11</td>\n",
       "      <td>6.043234e+11</td>\n",
       "      <td>9.808487e+11</td>\n",
       "      <td>7.000000</td>\n",
       "      <td>2776.000000</td>\n",
       "      <td>33.000000</td>\n",
       "      <td>30.000000</td>\n",
       "    </tr>\n",
       "    <tr>\n",
       "      <th>max</th>\n",
       "      <td>1.493805e+11</td>\n",
       "      <td>2.804346e+12</td>\n",
       "      <td>3.116695e+12</td>\n",
       "      <td>2.569915e+12</td>\n",
       "      <td>99.000000</td>\n",
       "      <td>12479.000000</td>\n",
       "      <td>64.000000</td>\n",
       "      <td>181.000000</td>\n",
       "    </tr>\n",
       "  </tbody>\n",
       "</table>\n",
       "</div>"
      ],
      "text/plain": [
       "            case_id  case_participant_id     charge_id  charge_version_id  \\\n",
       "count  1.000000e+03         1.000000e+03  1.000000e+03       1.000000e+03   \n",
       "mean   1.339322e+11         5.742349e+11  5.561777e+11       8.811571e+11   \n",
       "std    1.058008e+10         9.455413e+10  2.071539e+11       5.263346e+11   \n",
       "min    1.076101e+11         3.478431e+11  3.501581e+11       2.766368e+11   \n",
       "25%    1.284440e+11         5.537250e+11  4.800214e+11       5.625977e+11   \n",
       "50%    1.338367e+11         5.729008e+11  5.286224e+11       6.586892e+11   \n",
       "75%    1.421015e+11         5.967173e+11  6.043234e+11       9.808487e+11   \n",
       "max    1.493805e+11         2.804346e+12  3.116695e+12       2.569915e+12   \n",
       "\n",
       "       charge_count  length_of_case_in_days  age_at_incident  commitment_term  \n",
       "count   1000.000000              204.000000       970.000000       990.000000  \n",
       "mean       8.839000             2683.514706        29.461856        22.928788  \n",
       "std       17.714595             1710.443322         9.470670        26.765539  \n",
       "min        1.000000              -20.000000        17.000000         0.000000  \n",
       "25%        1.000000             2293.500000        22.000000         2.000000  \n",
       "50%        1.000000             2776.000000        28.000000        17.250000  \n",
       "75%        7.000000             2776.000000        33.000000        30.000000  \n",
       "max       99.000000            12479.000000        64.000000       181.000000  "
      ]
     },
     "execution_count": 42,
     "metadata": {},
     "output_type": "execute_result"
    }
   ],
   "source": [
    "input_df.describe()"
   ]
  },
  {
   "cell_type": "code",
   "execution_count": 9,
   "metadata": {},
   "outputs": [
    {
     "data": {
      "text/plain": [
       "0       NaN\n",
       "1      30.0\n",
       "2       NaN\n",
       "3       NaN\n",
       "4      30.0\n",
       "       ... \n",
       "995     1.0\n",
       "996     2.0\n",
       "997     2.0\n",
       "998    18.0\n",
       "999    18.0\n",
       "Name: commitment_term, Length: 1000, dtype: float64"
      ]
     },
     "execution_count": 9,
     "metadata": {},
     "output_type": "execute_result"
    }
   ],
   "source": [
    "input_df['commitment_term']"
   ]
  },
  {
   "cell_type": "code",
   "execution_count": 45,
   "metadata": {},
   "outputs": [
    {
     "data": {
      "text/plain": [
       "164    2016-10-08T20:00:00.000\n",
       "703    2014-08-21T20:20:00.000\n",
       "763    2011-09-21T12:30:00.000\n",
       "533    2010-12-24T09:00:00.000\n",
       "484    2010-10-15T09:05:00.000\n",
       "                ...           \n",
       "198                        NaN\n",
       "221                        NaN\n",
       "222                        NaN\n",
       "572                        NaN\n",
       "573                        NaN\n",
       "Name: arrest_date, Length: 1000, dtype: object"
      ]
     },
     "execution_count": 45,
     "metadata": {},
     "output_type": "execute_result"
    }
   ],
   "source": [
    "#order the dates\n",
    "input_df['arrest_date'].sort_values(ascending=False)"
   ]
  },
  {
   "cell_type": "code",
   "execution_count": 31,
   "metadata": {},
   "outputs": [
    {
     "data": {
      "text/plain": [
       "164   2016-10-08 20:00:00\n",
       "703   2014-08-21 20:20:00\n",
       "763   2011-09-21 12:30:00\n",
       "533   2010-12-24 09:00:00\n",
       "484   2010-10-15 09:05:00\n",
       "              ...        \n",
       "198                   NaT\n",
       "221                   NaT\n",
       "222                   NaT\n",
       "572                   NaT\n",
       "573                   NaT\n",
       "Name: arrest_date, Length: 1000, dtype: datetime64[ns]"
      ]
     },
     "execution_count": 31,
     "metadata": {},
     "output_type": "execute_result"
    }
   ],
   "source": [
    "input_df['arrest_date'].sort_values(ascending=False) ## what is NaT? "
   ]
  },
  {
   "cell_type": "code",
   "execution_count": 34,
   "metadata": {},
   "outputs": [
    {
     "name": "stderr",
     "output_type": "stream",
     "text": [
      "C:\\Users\\chris\\AppData\\Local\\Temp\\ipykernel_6168\\1927135075.py:1: DtypeWarning: Columns (10,11,14,25) have mixed types. Specify dtype option on import or set low_memory=False.\n",
      "  input_csv_df=pd.read_csv('data/Sentencing_20240214.csv')\n"
     ]
    }
   ],
   "source": [
    "input_csv_df=pd.read_csv('data/Sentencing_20240214.csv') ## might honestly be better to read from csv rather json on the site"
   ]
  },
  {
   "cell_type": "code",
   "execution_count": 46,
   "metadata": {},
   "outputs": [
    {
     "data": {
      "text/plain": [
       "286545    12/31/2022 12:30:00 AM\n",
       "286557    12/31/2022 09:58:00 PM\n",
       "286553    12/31/2022 09:54:00 PM\n",
       "286608    12/31/2022 09:45:00 PM\n",
       "286552    12/31/2022 09:41:00 PM\n",
       "                   ...          \n",
       "287676                       NaN\n",
       "287681                       NaN\n",
       "287720                       NaN\n",
       "287744                       NaN\n",
       "287784                       NaN\n",
       "Name: ARREST_DATE, Length: 287790, dtype: object"
      ]
     },
     "execution_count": 46,
     "metadata": {},
     "output_type": "execute_result"
    }
   ],
   "source": [
    "input_csv_df.ARREST_DATE.sort_values(ascending=False)"
   ]
  },
  {
   "cell_type": "code",
   "execution_count": null,
   "metadata": {},
   "outputs": [],
   "source": []
  }
 ],
 "metadata": {
  "kernelspec": {
   "display_name": "test",
   "language": "python",
   "name": "python3"
  },
  "language_info": {
   "codemirror_mode": {
    "name": "ipython",
    "version": 3
   },
   "file_extension": ".py",
   "mimetype": "text/x-python",
   "name": "python",
   "nbconvert_exporter": "python",
   "pygments_lexer": "ipython3",
   "version": "3.8.16"
  }
 },
 "nbformat": 4,
 "nbformat_minor": 2
}
