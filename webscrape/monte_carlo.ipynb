{
 "cells": [
  {
   "cell_type": "code",
   "execution_count": 4,
   "metadata": {},
   "outputs": [
    {
     "name": "stdout",
     "output_type": "stream",
     "text": [
      "Estimated π after 10000 samples: 3.1656\n"
     ]
    }
   ],
   "source": [
    "import random\n",
    "\n",
    "def estimate_pi(num_samples):\n",
    "    inside_circle = 0\n",
    "\n",
    "    for _ in range(num_samples):\n",
    "        x, y = random.uniform(0, 1), random.uniform(0, 1)  # Random point between 0 and 1\n",
    "        distance = x**2 + y**2  # Distance from the origin\n",
    "\n",
    "        if distance <= 1:  # Check if the point is inside the quarter circle\n",
    "            inside_circle += 1\n",
    "\n",
    "    return 4 * inside_circle / num_samples  # Multiply by 4 to estimate π\n",
    "\n",
    "# Example usage\n",
    "num_samples = 10000\n",
    "estimated_pi = estimate_pi(num_samples)\n",
    "print(f\"Estimated π after {num_samples} samples: {estimated_pi}\")"
   ]
  }
 ],
 "metadata": {
  "kernelspec": {
   "display_name": "teaching",
   "language": "python",
   "name": "python3"
  },
  "language_info": {
   "codemirror_mode": {
    "name": "ipython",
    "version": 3
   },
   "file_extension": ".py",
   "mimetype": "text/x-python",
   "name": "python",
   "nbconvert_exporter": "python",
   "pygments_lexer": "ipython3",
   "version": "3.9.18"
  }
 },
 "nbformat": 4,
 "nbformat_minor": 2
}
