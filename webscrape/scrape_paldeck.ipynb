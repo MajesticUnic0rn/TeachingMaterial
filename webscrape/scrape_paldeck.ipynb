{
 "cells": [
  {
   "cell_type": "markdown",
   "metadata": {},
   "source": [
    "## Import initial packages"
   ]
  },
  {
   "cell_type": "code",
   "execution_count": 4,
   "metadata": {},
   "outputs": [],
   "source": [
    "import pandas as pd \n",
    "from bs4 import BeautifulSoup\n",
    "import requests\n",
    "url = \"https://palworld.fandom.com/wiki/Paldeck\""
   ]
  },
  {
   "cell_type": "code",
   "execution_count": 25,
   "metadata": {},
   "outputs": [],
   "source": [
    "def get_colspan(td):\n",
    "    \"\"\"Helper function to get the colspan attribute of a table cell.\"\"\"\n",
    "    return int(td.get('colspan', 1))\n",
    "\n",
    "def get_cell_content(td):\n",
    "    \"\"\"Helper function to extract text or link from a table cell.\"\"\"\n",
    "    link = td.find('a')\n",
    "    if link and 'title' in link.attrs:\n",
    "        return link['title']  # Extract the title attribute of the link\n",
    "    return td.get_text(strip=True)"
   ]
  },
  {
   "cell_type": "code",
   "execution_count": 26,
   "metadata": {},
   "outputs": [
    {
     "name": "stdout",
     "output_type": "stream",
     "text": [
      "    No.         Pal         Pal Element(s) Element(s)\n",
      "0   010   Pengullet   Pengullet      Water        Ice\n",
      "1   011     Penking     Penking      Water        Ice\n",
      "2   013      Gumoss      Gumoss      Grass     Ground\n",
      "3   040   Incineram   Incineram       Fire       Dark\n",
      "4   055     Chillet     Chillet        Ice     Dragon\n",
      "5   064    Dinossom    Dinossom      Grass     Dragon\n",
      "6   071     Vanwyrm     Vanwyrm       Fire       Dark\n",
      "7   082     Azurobe     Azurobe      Water     Dragon\n",
      "8   085  Relaxaurus  Relaxaurus     Dragon      Water\n",
      "9   088     Reptyro     Reptyro       Fire     Ground\n",
      "10  092     Warsect     Warsect      Grass     Ground\n",
      "11  098     Astegon     Astegon     Dragon       Dark\n",
      "12  099   Menasting   Menasting       Dark     Ground\n",
      "13  101  Jormuntide  Jormuntide     Dragon      Water\n",
      "14  106      Orserk      Orserk     Dragon   Electric\n"
     ]
    }
   ],
   "source": [
    "# Fetch the content from the URL\n",
    "response = requests.get(url)\n",
    "soup = BeautifulSoup(response.content, 'html.parser')\n",
    "\n",
    "# Find the table in the HTML\n",
    "table = soup.find('table')\n",
    "\n",
    "# Extract the rows\n",
    "rows = table.find_all('tr')\n",
    "\n",
    "# Initialize lists for header and data\n",
    "header = []\n",
    "data = []\n",
    "\n",
    "# Process header (assuming the first row contains headers)\n",
    "header_cells = rows[0].find_all(['th', 'td'])\n",
    "for cell in header_cells:\n",
    "    colspan = get_colspan(cell)\n",
    "    # Repeat the header for the number of columns it spans\n",
    "    header.extend([get_cell_content(cell)] * colspan)\n",
    "\n",
    "# Process data rows\n",
    "for row in rows[1:]:\n",
    "    row_data = []\n",
    "    for td in row.find_all(['td']):\n",
    "        colspan = get_colspan(td)\n",
    "        cell_content = get_cell_content(td)\n",
    "        # Repeat the cell content for the number of columns it spans\n",
    "        row_data.extend([cell_content] * colspan)\n",
    "    \n",
    "    # Only add rows with correct number of columns\n",
    "    if len(row_data) == len(header):\n",
    "        data.append(row_data)\n",
    "\n",
    "# Create a DataFrame\n",
    "df = pd.DataFrame(data, columns=header)\n",
    "\n",
    "print(df)"
   ]
  },
  {
   "cell_type": "code",
   "execution_count": 50,
   "metadata": {},
   "outputs": [
    {
     "name": "stdout",
     "output_type": "stream",
     "text": [
      "     No.          Pal          Pal Element(s) Element(s)\n",
      "0    001      Lamball      Lamball    Neutral    Neutral\n",
      "1    002      Cattiva      Cattiva    Neutral    Neutral\n",
      "2    003      Chikipi      Chikipi    Neutral    Neutral\n",
      "3    004      Lifmunk      Lifmunk      Grass      Grass\n",
      "4    005     Foxparks     Foxparks       Fire       Fire\n",
      "..   ...          ...          ...        ...        ...\n",
      "106  107   Shadowbeak   Shadowbeak       Dark       Dark\n",
      "107  108     Paladius     Paladius    Neutral    Neutral\n",
      "108  109     Necromus     Necromus       Dark       Dark\n",
      "109  110  Frostallion  Frostallion        Ice        Ice\n",
      "110  111     Jetragon     Jetragon     Dragon     Dragon\n",
      "\n",
      "[111 rows x 5 columns]\n"
     ]
    }
   ],
   "source": [
    "# Fetch the content from the URL\n",
    "response = requests.get(url)\n",
    "soup = BeautifulSoup(response.content, 'html.parser')\n",
    "\n",
    "# Find the table in the HTML\n",
    "table = soup.find('table')\n",
    "\n",
    "# Extract the rows\n",
    "rows = table.find_all('tr')\n",
    "\n",
    "# Initialize lists for header and data\n",
    "header = []\n",
    "data = []\n",
    "\n",
    "# Process header (assuming the first row contains headers)\n",
    "header_cells = rows[0].find_all(['th', 'td'])\n",
    "for cell in header_cells:\n",
    "    colspan = get_colspan(cell)\n",
    "    header.extend([get_cell_content(cell)] * colspan)\n",
    "\n",
    "# Process data rows\n",
    "for row in rows[1:]:\n",
    "    row_data = []\n",
    "    for td in row.find_all(['td']):\n",
    "        colspan = get_colspan(td)\n",
    "        cell_content = get_cell_content(td)\n",
    "        \n",
    "        if colspan == 0: ### IGNORE THIS THIS DOESNT WORK FOR THE CONDITION\n",
    "            # Add the content to one column and None to the next\n",
    "            row_data.extend([cell_content, None])\n",
    "        else:\n",
    "            # Repeat the cell content for the number of columns it spans\n",
    "            row_data.extend([cell_content])\n",
    "    \n",
    "    if len(row_data) == len(header):\n",
    "        data.append(row_data)\n",
    "\n",
    "# Create a DataFrame\n",
    "df = pd.DataFrame(data, columns=header)\n",
    "\n",
    "print(df)"
   ]
  }
 ],
 "metadata": {
  "kernelspec": {
   "display_name": "test",
   "language": "python",
   "name": "python3"
  },
  "language_info": {
   "codemirror_mode": {
    "name": "ipython",
    "version": 3
   },
   "file_extension": ".py",
   "mimetype": "text/x-python",
   "name": "python",
   "nbconvert_exporter": "python",
   "pygments_lexer": "ipython3",
   "version": "3.8.16"
  }
 },
 "nbformat": 4,
 "nbformat_minor": 2
}
