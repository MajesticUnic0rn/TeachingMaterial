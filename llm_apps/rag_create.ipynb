{
 "cells": [
  {
   "cell_type": "code",
   "execution_count": 7,
   "metadata": {},
   "outputs": [],
   "source": [
    "import os\n",
    "import pandas as pd\n",
    "import numpy as np\n",
    "import dotenv\n",
    "from dotenv import load_dotenv\n",
    "import openai\n",
    "from openai import OpenAI\n",
    "load_dotenv()\n",
    "from sklearn.metrics.pairwise import cosine_similarity\n",
    "client = OpenAI()\n",
    "## import key from .env file\n",
    "openai.api_key = os.getenv(\"OPENAI_API_KEY\")"
   ]
  },
  {
   "cell_type": "markdown",
   "metadata": {},
   "source": [
    "### Generate embeds using a encoder model - ada-002"
   ]
  },
  {
   "cell_type": "code",
   "execution_count": 8,
   "metadata": {},
   "outputs": [],
   "source": [
    "def get_embedding(text, model=\"text-embedding-ada-002\"):\n",
    "    text = text.replace(\"\\n\", \" \")\n",
    "    response = openai.embeddings.create(input=text, model=model).data[0].embedding\n",
    "    return response"
   ]
  },
  {
   "cell_type": "markdown",
   "metadata": {},
   "source": [
    "### Reading in your data and information"
   ]
  },
  {
   "cell_type": "code",
   "execution_count": 9,
   "metadata": {},
   "outputs": [],
   "source": [
    "input_data = pd.read_csv('economics_terms.csv',nrows=10) ## feel free to generate more emebds at the cost of your credits"
   ]
  },
  {
   "cell_type": "markdown",
   "metadata": {},
   "source": [
    "### Sample Print Out"
   ]
  },
  {
   "cell_type": "code",
   "execution_count": 10,
   "metadata": {},
   "outputs": [
    {
     "data": {
      "text/html": [
       "<div>\n",
       "<style scoped>\n",
       "    .dataframe tbody tr th:only-of-type {\n",
       "        vertical-align: middle;\n",
       "    }\n",
       "\n",
       "    .dataframe tbody tr th {\n",
       "        vertical-align: top;\n",
       "    }\n",
       "\n",
       "    .dataframe thead th {\n",
       "        text-align: right;\n",
       "    }\n",
       "</style>\n",
       "<table border=\"1\" class=\"dataframe\">\n",
       "  <thead>\n",
       "    <tr style=\"text-align: right;\">\n",
       "      <th></th>\n",
       "      <th>Description</th>\n",
       "    </tr>\n",
       "  </thead>\n",
       "  <tbody>\n",
       "    <tr>\n",
       "      <th>0</th>\n",
       "      <td>Absolute advantage A concept that helps to exp...</td>\n",
       "    </tr>\n",
       "    <tr>\n",
       "      <th>1</th>\n",
       "      <td>Active management A branch ofinvestment manage...</td>\n",
       "    </tr>\n",
       "    <tr>\n",
       "      <th>2</th>\n",
       "      <td>Activist investing Fund managers who take a st...</td>\n",
       "    </tr>\n",
       "    <tr>\n",
       "      <th>3</th>\n",
       "      <td>Adverse selection A risk associated withinsura...</td>\n",
       "    </tr>\n",
       "    <tr>\n",
       "      <th>4</th>\n",
       "      <td>Agency costs The expense involved in using a t...</td>\n",
       "    </tr>\n",
       "  </tbody>\n",
       "</table>\n",
       "</div>"
      ],
      "text/plain": [
       "                                         Description\n",
       "0  Absolute advantage A concept that helps to exp...\n",
       "1  Active management A branch ofinvestment manage...\n",
       "2  Activist investing Fund managers who take a st...\n",
       "3  Adverse selection A risk associated withinsura...\n",
       "4  Agency costs The expense involved in using a t..."
      ]
     },
     "execution_count": 10,
     "metadata": {},
     "output_type": "execute_result"
    }
   ],
   "source": [
    "input_data.head()"
   ]
  },
  {
   "cell_type": "markdown",
   "metadata": {},
   "source": [
    "### Generate embeddings per row of the data"
   ]
  },
  {
   "cell_type": "code",
   "execution_count": 11,
   "metadata": {},
   "outputs": [],
   "source": [
    "input_data['Embeddings'] = input_data['Description'].apply(lambda x: get_embedding(x))"
   ]
  },
  {
   "cell_type": "code",
   "execution_count": 12,
   "metadata": {},
   "outputs": [
    {
     "data": {
      "text/html": [
       "<div>\n",
       "<style scoped>\n",
       "    .dataframe tbody tr th:only-of-type {\n",
       "        vertical-align: middle;\n",
       "    }\n",
       "\n",
       "    .dataframe tbody tr th {\n",
       "        vertical-align: top;\n",
       "    }\n",
       "\n",
       "    .dataframe thead th {\n",
       "        text-align: right;\n",
       "    }\n",
       "</style>\n",
       "<table border=\"1\" class=\"dataframe\">\n",
       "  <thead>\n",
       "    <tr style=\"text-align: right;\">\n",
       "      <th></th>\n",
       "      <th>Description</th>\n",
       "      <th>Embeddings</th>\n",
       "    </tr>\n",
       "  </thead>\n",
       "  <tbody>\n",
       "    <tr>\n",
       "      <th>0</th>\n",
       "      <td>Absolute advantage A concept that helps to exp...</td>\n",
       "      <td>[-0.007806450128555298, -0.019596705213189125,...</td>\n",
       "    </tr>\n",
       "    <tr>\n",
       "      <th>1</th>\n",
       "      <td>Active management A branch ofinvestment manage...</td>\n",
       "      <td>[-0.026157651096582413, -0.02481149509549141, ...</td>\n",
       "    </tr>\n",
       "    <tr>\n",
       "      <th>2</th>\n",
       "      <td>Activist investing Fund managers who take a st...</td>\n",
       "      <td>[-0.016879232600331306, -0.041712164878845215,...</td>\n",
       "    </tr>\n",
       "    <tr>\n",
       "      <th>3</th>\n",
       "      <td>Adverse selection A risk associated withinsura...</td>\n",
       "      <td>[0.001439624116756022, -0.0018853959627449512,...</td>\n",
       "    </tr>\n",
       "    <tr>\n",
       "      <th>4</th>\n",
       "      <td>Agency costs The expense involved in using a t...</td>\n",
       "      <td>[0.01102621853351593, -0.020206065848469734, 0...</td>\n",
       "    </tr>\n",
       "    <tr>\n",
       "      <th>5</th>\n",
       "      <td>Aggregate demand The flow of spending, across ...</td>\n",
       "      <td>[-0.001824539969675243, -0.031350355595350266,...</td>\n",
       "    </tr>\n",
       "    <tr>\n",
       "      <th>6</th>\n",
       "      <td>Agriculture The cultivation of crops and the t...</td>\n",
       "      <td>[0.010470718145370483, -0.018756134435534477, ...</td>\n",
       "    </tr>\n",
       "    <tr>\n",
       "      <th>7</th>\n",
       "      <td>Alpha That part of an investment return that i...</td>\n",
       "      <td>[0.024826332926750183, -0.023480484262108803, ...</td>\n",
       "    </tr>\n",
       "    <tr>\n",
       "      <th>8</th>\n",
       "      <td>Amortisation The gradual reduction in the valu...</td>\n",
       "      <td>[-0.029106151312589645, -0.005032192450016737,...</td>\n",
       "    </tr>\n",
       "    <tr>\n",
       "      <th>9</th>\n",
       "      <td>Animal spirits Term used by John Maynard Keyne...</td>\n",
       "      <td>[-0.02226892113685608, -0.025230351835489273, ...</td>\n",
       "    </tr>\n",
       "  </tbody>\n",
       "</table>\n",
       "</div>"
      ],
      "text/plain": [
       "                                         Description  \\\n",
       "0  Absolute advantage A concept that helps to exp...   \n",
       "1  Active management A branch ofinvestment manage...   \n",
       "2  Activist investing Fund managers who take a st...   \n",
       "3  Adverse selection A risk associated withinsura...   \n",
       "4  Agency costs The expense involved in using a t...   \n",
       "5  Aggregate demand The flow of spending, across ...   \n",
       "6  Agriculture The cultivation of crops and the t...   \n",
       "7  Alpha That part of an investment return that i...   \n",
       "8  Amortisation The gradual reduction in the valu...   \n",
       "9  Animal spirits Term used by John Maynard Keyne...   \n",
       "\n",
       "                                          Embeddings  \n",
       "0  [-0.007806450128555298, -0.019596705213189125,...  \n",
       "1  [-0.026157651096582413, -0.02481149509549141, ...  \n",
       "2  [-0.016879232600331306, -0.041712164878845215,...  \n",
       "3  [0.001439624116756022, -0.0018853959627449512,...  \n",
       "4  [0.01102621853351593, -0.020206065848469734, 0...  \n",
       "5  [-0.001824539969675243, -0.031350355595350266,...  \n",
       "6  [0.010470718145370483, -0.018756134435534477, ...  \n",
       "7  [0.024826332926750183, -0.023480484262108803, ...  \n",
       "8  [-0.029106151312589645, -0.005032192450016737,...  \n",
       "9  [-0.02226892113685608, -0.025230351835489273, ...  "
      ]
     },
     "execution_count": 12,
     "metadata": {},
     "output_type": "execute_result"
    }
   ],
   "source": [
    "input_data"
   ]
  },
  {
   "cell_type": "markdown",
   "metadata": {},
   "source": [
    "### Ask your question here "
   ]
  },
  {
   "cell_type": "code",
   "execution_count": 13,
   "metadata": {},
   "outputs": [],
   "source": [
    "question = 'Any terms related towards food source?'"
   ]
  },
  {
   "cell_type": "markdown",
   "metadata": {},
   "source": [
    "### generate embeddings for the questions"
   ]
  },
  {
   "cell_type": "code",
   "execution_count": 14,
   "metadata": {},
   "outputs": [],
   "source": [
    "question_embed=get_embedding(question)"
   ]
  },
  {
   "cell_type": "markdown",
   "metadata": {},
   "source": [
    "### Find best suited matches via cosine similarity"
   ]
  },
  {
   "cell_type": "code",
   "execution_count": 15,
   "metadata": {},
   "outputs": [
    {
     "name": "stdout",
     "output_type": "stream",
     "text": [
      "Top 1 Description: Agriculture The cultivation of crops and the tending of animals for the purpose of supplying food. For millennia, this was mankind’s primary economic activity.\n",
      "Top 2 Description: Animal spirits Term used by John Maynard Keynes to describe sentiment among businesspeople and consumers. If sentiment is depressed, economies may struggle to escape fromrecession. For more detail, readthis article. See alsoKeynesian economics.\n",
      "Top 3 Description: Absolute advantage A concept that helps to explain international trade. If country A is better at making toasters than country B, and B is better at making kettles than A, it makes sense for each country to focus on the area where they have this advantage, and then trade toasters for kettles. But see, more importantly,comparative advantage.\n",
      "Top 4 Description: Adverse selection A risk associated withinsurance, and linked toasymmetric information. People who are worried about their health will be more inclined to pay for health insurance than those who are fighting fit. One way to avoid the problem is to make insurance compulsory for all, as happens with car ownership. For more detail, see ourSchools Brief.\n"
     ]
    }
   ],
   "source": [
    "# Calculate cosine similarity between the question and each description\n",
    "question_embed_array = np.array(question_embed)\n",
    "question_embed_reshaped = question_embed_array.reshape(1, -1)\n",
    "\n",
    "embeddings_array = np.array(input_data['Embeddings'].tolist())\n",
    "\n",
    "# Calculate cosine similarity\n",
    "similarities = cosine_similarity(question_embed_reshaped, embeddings_array)\n",
    "\n",
    "# Flatten the similarities array for easier processing\n",
    "similarities_flattened = similarities.flatten()\n",
    "\n",
    "# Get indices of the top 4 most similar descriptions. \n",
    "# Use [-4:] to get the last four items of the array, which are the highest values due to reverse sorting\n",
    "top_4_indices = similarities_flattened.argsort()[-4:][::-1]\n",
    "\n",
    "# Get the most similar descriptions\n",
    "top_4_descriptions = input_data['Description'].iloc[top_4_indices]\n",
    "\n",
    "# Print the top 4 most similar descriptions\n",
    "for i, desc in enumerate(top_4_descriptions, start=1):\n",
    "    print(f\"Top {i} Description: {desc}\")"
   ]
  },
  {
   "cell_type": "code",
   "execution_count": 20,
   "metadata": {},
   "outputs": [],
   "source": [
    "response = client.chat.completions.create(\n",
    "  model=\"gpt-3.5-turbo\",\n",
    "  messages=[\n",
    "    {\"role\": \"system\", \"content\": \"You are a helpful assistant. That uses only from the context given to answer your question. If you dont know say I dont know. \"},\n",
    "    {\"role\": \"user\", \"content\": f\" Here are my context:{top_4_descriptions.tolist()} + question: {question}\"},\n",
    "  ]\n",
    ")"
   ]
  },
  {
   "cell_type": "code",
   "execution_count": 23,
   "metadata": {},
   "outputs": [
    {
     "name": "stdout",
     "output_type": "stream",
     "text": [
      "The term \"Agriculture\" is related to the cultivation of crops and the tending of animals for the purpose of supplying food.\n"
     ]
    }
   ],
   "source": [
    "# Extract the content text\n",
    "content_text = response.choices[0].message.content\n",
    "# Present the text\n",
    "print(content_text)"
   ]
  },
  {
   "cell_type": "code",
   "execution_count": null,
   "metadata": {},
   "outputs": [],
   "source": []
  }
 ],
 "metadata": {
  "kernelspec": {
   "display_name": "test",
   "language": "python",
   "name": "python3"
  },
  "language_info": {
   "codemirror_mode": {
    "name": "ipython",
    "version": 3
   },
   "file_extension": ".py",
   "mimetype": "text/x-python",
   "name": "python",
   "nbconvert_exporter": "python",
   "pygments_lexer": "ipython3",
   "version": "3.8.16"
  }
 },
 "nbformat": 4,
 "nbformat_minor": 2
}
